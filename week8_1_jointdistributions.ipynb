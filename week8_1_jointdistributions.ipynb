{
 "cells": [
  {
   "cell_type": "markdown",
   "id": "ff01d40b-9bd5-4199-9a2a-d17ffc4b7ad2",
   "metadata": {},
   "source": [
    "## Example 3 (Flipping multiple biased coins)"
   ]
  },
  {
   "cell_type": "code",
   "execution_count": 3,
   "id": "54940dee-3b76-4eaf-8fdf-9381424f3fcf",
   "metadata": {},
   "outputs": [],
   "source": [
    "import tensorflow_probability as tfp\n",
    "import numpy as np\n",
    "import matplotlib.pyplot as plt"
   ]
  },
  {
   "cell_type": "code",
   "execution_count": 4,
   "id": "d5b3b02f-36d3-46ea-aa0f-751d623685ff",
   "metadata": {},
   "outputs": [
    {
     "data": {
      "text/plain": [
       "array([0.1       , 0.19888889, 0.29777778, 0.39666667, 0.49555556,\n",
       "       0.59444444, 0.69333333, 0.79222222, 0.89111111, 0.99      ])"
      ]
     },
     "execution_count": 4,
     "metadata": {},
     "output_type": "execute_result"
    }
   ],
   "source": [
    "# create the array of probability values for each coin\n",
    "p = np.linspace(0.1,0.99,10)\n",
    "p"
   ]
  },
  {
   "cell_type": "code",
   "execution_count": 6,
   "id": "6924d968-7d85-4a04-95b9-f1ca8d03293e",
   "metadata": {},
   "outputs": [
    {
     "name": "stderr",
     "output_type": "stream",
     "text": [
      "2023-06-27 19:28:16.394868: I tensorflow/core/platform/cpu_feature_guard.cc:151] This TensorFlow binary is optimized with oneAPI Deep Neural Network Library (oneDNN) to use the following CPU instructions in performance-critical operations:  AVX2 FMA\n",
      "To enable them in other operations, rebuild TensorFlow with the appropriate compiler flags.\n",
      "2023-06-27 19:28:17.437750: I tensorflow/core/common_runtime/gpu/gpu_device.cc:1525] Created device /job:localhost/replica:0/task:0/device:GPU:0 with 14626 MB memory:  -> device: 0, name: Tesla V100-PCIE-16GB, pci bus id: 0001:00:00.0, compute capability: 7.0\n"
     ]
    }
   ],
   "source": [
    "# create the binomial distribution\n",
    "tfd = tfp.distributions\n",
    "ten_coins = tfd.Binomial(total_count=100,probs=p)"
   ]
  },
  {
   "cell_type": "code",
   "execution_count": 7,
   "id": "b69131a9-277f-4ce5-b4f5-2107f4ef3a82",
   "metadata": {},
   "outputs": [
    {
     "data": {
      "text/plain": [
       "<tfp.distributions.Binomial 'Binomial' batch_shape=[10] event_shape=[] dtype=float64>"
      ]
     },
     "execution_count": 7,
     "metadata": {},
     "output_type": "execute_result"
    }
   ],
   "source": [
    "ten_coins"
   ]
  },
  {
   "cell_type": "code",
   "execution_count": 8,
   "id": "a02b78f4-669c-4224-9143-829cf99f7b93",
   "metadata": {},
   "outputs": [
    {
     "name": "stdout",
     "output_type": "stream",
     "text": [
      "[ 7. 26. 44. 51. 52. 56. 71. 81. 90. 98.]\n"
     ]
    }
   ],
   "source": [
    "#We can now sample from this distribution as normal,\n",
    "print(ten_coins.sample().numpy())"
   ]
  },
  {
   "cell_type": "code",
   "execution_count": 10,
   "id": "6c25e907-c15d-4b78-8c1d-0e4da514824d",
   "metadata": {},
   "outputs": [],
   "source": [
    "# For a given set of data, i.e. the results of tossing each of the coins 100 times, \n",
    "# we can calculate the log probability of this data"
   ]
  },
  {
   "cell_type": "code",
   "execution_count": 11,
   "id": "0ca88521-0a83-4f50-9bdd-d530e74b3a61",
   "metadata": {},
   "outputs": [],
   "source": [
    "# specify the count of number of heads in 100 flips for each coin\n",
    "outcomes = [0,1,4,7,31,36,87,54,100,95]"
   ]
  },
  {
   "cell_type": "code",
   "execution_count": 12,
   "id": "ce746986-1938-48d5-8dcd-01b2ad578749",
   "metadata": {},
   "outputs": [
    {
     "name": "stdout",
     "output_type": "stream",
     "text": [
      "WARNING:tensorflow:@custom_gradient grad_fn has 'variables' in signature, but no ResourceVariables were used on the forward pass.\n",
      "[-10.53605157 -18.96364575 -23.60023191 -29.96783211  -9.52427848\n",
      " -13.63296128 -10.72882809 -18.389795   -11.52861555  -5.84380789]\n"
     ]
    }
   ],
   "source": [
    "# print the log probability of this outcome\n",
    "print(ten_coins.log_prob(outcomes).numpy())"
   ]
  },
  {
   "cell_type": "markdown",
   "id": "6ed19bb6-46f3-407c-84d4-644e7cf6fabb",
   "metadata": {},
   "source": [
    "Note, we now have a probability for each coin individually. If we want to use this as a combined distribution, we can use the Indepedent distribution"
   ]
  },
  {
   "cell_type": "code",
   "execution_count": 13,
   "id": "bad32b30-7e2f-4a13-8293-967366f1721f",
   "metadata": {},
   "outputs": [],
   "source": [
    "independent_distribution = tfd.Independent(ten_coins,1)"
   ]
  },
  {
   "cell_type": "code",
   "execution_count": 14,
   "id": "f75ef29b-d437-458d-9c12-553e46ee7a10",
   "metadata": {},
   "outputs": [
    {
     "name": "stdout",
     "output_type": "stream",
     "text": [
      "-152.7160476246283\n"
     ]
    }
   ],
   "source": [
    "#Now, when we calculate the log probability of the outcome we see a single value as we are treating the\n",
    "#distribution as a single distribution,\n",
    "print(independent_distribution.log_prob(outcomes).numpy())"
   ]
  }
 ],
 "metadata": {
  "kernelspec": {
   "display_name": "Python 3 (ipykernel)",
   "language": "python",
   "name": "python3"
  },
  "language_info": {
   "codemirror_mode": {
    "name": "ipython",
    "version": 3
   },
   "file_extension": ".py",
   "mimetype": "text/x-python",
   "name": "python",
   "nbconvert_exporter": "python",
   "pygments_lexer": "ipython3",
   "version": "3.8.16"
  }
 },
 "nbformat": 4,
 "nbformat_minor": 5
}
