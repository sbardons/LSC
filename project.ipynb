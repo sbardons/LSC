{
 "cells": [
  {
   "cell_type": "code",
   "execution_count": 2,
   "id": "48cba834",
   "metadata": {},
   "outputs": [],
   "source": [
    "#Imports and settings\n",
    "\n",
    "import numpy as np\n",
    "import pandas as pd\n",
    "import tensorflow as tf\n",
    "import itertools\n",
    "\n",
    "import matplotlib.pyplot as plt\n",
    "import sys\n",
    "from tqdm.notebook import tqdm\n",
    "\n",
    "np.set_printoptions(suppress=True)"
   ]
  },
  {
   "cell_type": "code",
   "execution_count": 3,
   "id": "346b9a7b",
   "metadata": {},
   "outputs": [
    {
     "name": "stdout",
     "output_type": "stream",
     "text": [
      "tf version:  2.8.0\n"
     ]
    }
   ],
   "source": [
    "print('tf version: ', tf.__version__)"
   ]
  },
  {
   "cell_type": "code",
   "execution_count": 4,
   "id": "faa4774a",
   "metadata": {},
   "outputs": [],
   "source": [
    "# load the features and labels (subtract 1 as the labels aren't indexed from 0)\n",
    "ytest = np.loadtxt('/home/jovyan/datasets/UCI_HAR_DATASET/test/y_test.txt')-1\n",
    "ytrain = np.loadtxt('/home/jovyan/datasets/UCI_HAR_DATASET/train/y_train.txt')-1"
   ]
  },
  {
   "cell_type": "code",
   "execution_count": 5,
   "id": "5051c171",
   "metadata": {},
   "outputs": [
    {
     "data": {
      "text/plain": [
       "array([4., 4., 4., ..., 1., 1., 1.])"
      ]
     },
     "execution_count": 5,
     "metadata": {},
     "output_type": "execute_result"
    }
   ],
   "source": [
    "ytest"
   ]
  },
  {
   "cell_type": "code",
   "execution_count": 6,
   "id": "94f38004",
   "metadata": {},
   "outputs": [],
   "source": [
    "# load the x,y,z body accelerations test data\n",
    "xx_test=np.loadtxt('/home/jovyan/datasets/UCI_HAR_DATASET/test/Inertial Signals/body_acc_x_test.txt')\n",
    "yy_test=np.loadtxt('/home/jovyan/datasets/UCI_HAR_DATASET/test/Inertial Signals/body_acc_y_test.txt')\n",
    "zz_test=np.loadtxt('/home/jovyan/datasets/UCI_HAR_DATASET/test/Inertial Signals/body_acc_z_test.txt')\n",
    "# concatenate the arrays along the last dimension\n",
    "xtest = np.concatenate((xx_test[:,:,None],yy_test[:,:,None],zz_test[:,:,None]),axis=2)\n",
    "# (using None here adds an extra dimension of size 1 to the end of the array)"
   ]
  },
  {
   "cell_type": "code",
   "execution_count": 7,
   "id": "02b56d07",
   "metadata": {},
   "outputs": [
    {
     "data": {
      "text/plain": [
       "(2947, 128, 3)"
      ]
     },
     "execution_count": 7,
     "metadata": {},
     "output_type": "execute_result"
    }
   ],
   "source": [
    "xtest.shape"
   ]
  },
  {
   "cell_type": "code",
   "execution_count": 8,
   "id": "d43adc6c",
   "metadata": {},
   "outputs": [],
   "source": [
    "# follow the same approach for the train data\n",
    "xx_train=np.loadtxt('/home/jovyan/datasets/UCI_HAR_DATASET/train/Inertial Signals/body_acc_x_train.txt')\n",
    "yy_train=np.loadtxt('/home/jovyan/datasets/UCI_HAR_DATASET/train/Inertial Signals/body_acc_y_train.txt')\n",
    "zz_train=np.loadtxt('/home/jovyan/datasets/UCI_HAR_DATASET/train/Inertial Signals/body_acc_z_train.txt')\n",
    "xtrain = np.concatenate((xx_train[:,:,None],yy_train[:,:,None],zz_train[:,:,None]),axis=2)"
   ]
  },
  {
   "cell_type": "code",
   "execution_count": 9,
   "id": "c05a0b7b",
   "metadata": {},
   "outputs": [
    {
     "name": "stdout",
     "output_type": "stream",
     "text": [
      "(7352, 128, 3)\n",
      "(2947, 128, 3)\n"
     ]
    }
   ],
   "source": [
    "print(xtrain.shape)\n",
    "print(xtest.shape)"
   ]
  },
  {
   "cell_type": "code",
   "execution_count": 10,
   "id": "43676d30",
   "metadata": {},
   "outputs": [
    {
     "ename": "NameError",
     "evalue": "name 'xx' is not defined",
     "output_type": "error",
     "traceback": [
      "\u001b[0;31m---------------------------------------------------------------------------\u001b[0m",
      "\u001b[0;31mNameError\u001b[0m                                 Traceback (most recent call last)",
      "Cell \u001b[0;32mIn[10], line 1\u001b[0m\n\u001b[0;32m----> 1\u001b[0m \u001b[43mxx\u001b[49m\u001b[38;5;241m.\u001b[39mshape\n",
      "\u001b[0;31mNameError\u001b[0m: name 'xx' is not defined"
     ]
    }
   ],
   "source": [
    "xx.shape"
   ]
  },
  {
   "cell_type": "markdown",
   "id": "04c4bee7",
   "metadata": {},
   "source": [
    "plot one example data sample from\n",
    "each of the body_acc_x_test, body_acc_y_test, and body_acc_z_test files for each of walking, sitting, standing, and\n",
    "laying"
   ]
  },
  {
   "cell_type": "code",
   "execution_count": 11,
   "id": "9b805c7a",
   "metadata": {},
   "outputs": [
    {
     "data": {
      "text/plain": [
       "2.0"
      ]
     },
     "execution_count": 11,
     "metadata": {},
     "output_type": "execute_result"
    }
   ],
   "source": [
    "ytest[112]"
   ]
  },
  {
   "cell_type": "code",
   "execution_count": 12,
   "id": "b69931a5",
   "metadata": {},
   "outputs": [
    {
     "data": {
      "text/plain": [
       "(7352,)"
      ]
     },
     "execution_count": 12,
     "metadata": {},
     "output_type": "execute_result"
    }
   ],
   "source": [
    "ytrain.shape"
   ]
  },
  {
   "cell_type": "code",
   "execution_count": 13,
   "id": "4e41b384",
   "metadata": {},
   "outputs": [
    {
     "data": {
      "text/plain": [
       "128"
      ]
     },
     "execution_count": 13,
     "metadata": {},
     "output_type": "execute_result"
    }
   ],
   "source": [
    "xtest.shape[1]"
   ]
  },
  {
   "cell_type": "code",
   "execution_count": 14,
   "id": "d03bdfc6",
   "metadata": {},
   "outputs": [
    {
     "data": {
      "text/plain": [
       "4.0"
      ]
     },
     "execution_count": 14,
     "metadata": {},
     "output_type": "execute_result"
    }
   ],
   "source": [
    "ytest[1]   # this is 4 so sitting"
   ]
  },
  {
   "cell_type": "code",
   "execution_count": 15,
   "id": "00681ea2",
   "metadata": {},
   "outputs": [
    {
     "data": {
      "text/plain": [
       "array([[[ 0.01165315, -0.02939904,  0.1068262 ],\n",
       "        [ 0.01310909, -0.03972867,  0.1524549 ],\n",
       "        [ 0.01126885, -0.05240586,  0.2168462 ],\n",
       "        ...,\n",
       "        [ 0.00129151,  0.01173502,  0.00366559],\n",
       "        [ 0.00147   ,  0.00951741,  0.00404194],\n",
       "        [ 0.00257384,  0.00730507,  0.00488844]],\n",
       "\n",
       "       [[ 0.00927963,  0.00665052, -0.02631933],\n",
       "        [ 0.00492971,  0.01864973, -0.02688753],\n",
       "        [ 0.0039536 ,  0.0155395 , -0.03663861],\n",
       "        ...,\n",
       "        [ 0.0077876 ,  0.00473062,  0.01412899],\n",
       "        [ 0.00343349, -0.00461985,  0.00133805],\n",
       "        [-0.00123868, -0.01322889, -0.01703861]],\n",
       "\n",
       "       [[ 0.00573194,  0.00730484,  0.01021286],\n",
       "        [ 0.00706565,  0.00733091,  0.01341419],\n",
       "        [ 0.00510976,  0.00715346,  0.00364656],\n",
       "        ...,\n",
       "        [-0.00074285, -0.00962914, -0.00250092],\n",
       "        [-0.00192336, -0.00642597, -0.00252495],\n",
       "        [-0.00430462, -0.00793205, -0.00314011]],\n",
       "\n",
       "       ...,\n",
       "\n",
       "       [[-0.1476465 ,  0.00551979,  0.01025031],\n",
       "        [-0.1699026 ,  0.03235187,  0.02632373],\n",
       "        [-0.168698  ,  0.07826144, -0.02703439],\n",
       "        ...,\n",
       "        [ 0.497893  , -0.3158365 , -0.02321939],\n",
       "        [ 0.2141275 , -0.3121422 ,  0.1814949 ],\n",
       "        [-0.1145089 , -0.2553472 ,  0.3870347 ]],\n",
       "\n",
       "       [[ 0.07122683, -0.1498122 , -0.1659306 ],\n",
       "        [-0.0886653 , -0.03755543, -0.08708159],\n",
       "        [-0.07067473, -0.01615178,  0.01401189],\n",
       "        ...,\n",
       "        [ 0.1859878 ,  0.00734437,  0.2383924 ],\n",
       "        [ 0.2737114 , -0.02279012,  0.1302276 ],\n",
       "        [ 0.3536738 , -0.1118625 , -0.03402252]],\n",
       "\n",
       "       [[-0.1936425 , -0.1907511 ,  0.1958357 ],\n",
       "        [-0.06498738, -0.203599  , -0.15314   ],\n",
       "        [-0.0971221 , -0.2083832 , -0.2710627 ],\n",
       "        ...,\n",
       "        [-0.05075521, -0.1047171 ,  0.1732707 ],\n",
       "        [-0.01980675, -0.02076396,  0.1956384 ],\n",
       "        [-0.01104015,  0.05243883,  0.2184321 ]]])"
      ]
     },
     "execution_count": 15,
     "metadata": {},
     "output_type": "execute_result"
    }
   ],
   "source": [
    "xtest"
   ]
  },
  {
   "cell_type": "code",
   "execution_count": 16,
   "id": "c1b95603",
   "metadata": {},
   "outputs": [
    {
     "data": {
      "text/plain": [
       "array([ 0.00927963,  0.00492971,  0.0039536 ,  0.00921443,  0.01615613,\n",
       "        0.0140794 ,  0.01310521,  0.02124696,  0.02682344,  0.03105437,\n",
       "        0.03788606,  0.02646287, -0.02144115, -0.06056795, -0.02472538,\n",
       "        0.02027213, -0.00193409, -0.00890671,  0.00953767, -0.00433166,\n",
       "       -0.00186384,  0.00495507, -0.00533614,  0.00200079, -0.00170752,\n",
       "       -0.0064635 ,  0.00020412, -0.00364001,  0.00008268, -0.00144162,\n",
       "       -0.00595939,  0.00034399,  0.000558  ,  0.00238143,  0.00182778,\n",
       "       -0.00145607, -0.00020006, -0.00057041,  0.00260494,  0.00264362,\n",
       "        0.00159703,  0.00381778,  0.00164798,  0.00294322,  0.00558164,\n",
       "        0.0062567 ,  0.00516898, -0.00252123, -0.00636261, -0.00249661,\n",
       "        0.00245527,  0.00442356,  0.00211023, -0.00055879, -0.00294425,\n",
       "       -0.0012469 ,  0.00284826,  0.00235456,  0.00272098,  0.00325529,\n",
       "        0.00130108,  0.00129151,  0.00147   ,  0.00257384,  0.00573194,\n",
       "        0.00706565,  0.00510976,  0.00243396,  0.00202394,  0.00138198,\n",
       "        0.00192985,  0.00487529,  0.00377609,  0.00239999,  0.002535  ,\n",
       "       -0.00011269,  0.00047347,  0.00240524,  0.00162991,  0.0022211 ,\n",
       "        0.00213473,  0.00246275,  0.00352521,  0.00124342,  0.00001287,\n",
       "        0.00233664,  0.00471269,  0.00480144,  0.00379768,  0.00325311,\n",
       "        0.00091773, -0.00077317,  0.00025905,  0.00018801, -0.00026875,\n",
       "        0.00005041,  0.00077158,  0.00426889,  0.00761851,  0.00456478,\n",
       "        0.00027213,  0.00071718, -0.00095697, -0.00317309, -0.00143847,\n",
       "       -0.00349012, -0.00533919, -0.00155637,  0.00065999,  0.00178105,\n",
       "        0.0050006 ,  0.00653244,  0.00190519, -0.00288127, -0.00065461,\n",
       "       -0.00039611, -0.00438431, -0.0049458 , -0.00253348,  0.0001625 ,\n",
       "       -0.00109481, -0.00454742, -0.00531017, -0.00409354,  0.00220009,\n",
       "        0.0077876 ,  0.00343349, -0.00123868])"
      ]
     },
     "execution_count": 16,
     "metadata": {},
     "output_type": "execute_result"
    }
   ],
   "source": [
    "xtest[1, :, 0]  # matrix 1, all rows, col 0 corresponds to body_acc_x_test"
   ]
  },
  {
   "cell_type": "code",
   "execution_count": 17,
   "id": "90f0ae25",
   "metadata": {},
   "outputs": [],
   "source": [
    "##TO DO: RANDOMISE\n",
    "#walking    label 1   sample 94\n",
    "#sitting    label 4   sample 187\n",
    "#standing   label 5   sample 1\n",
    "#laying     label 6   sample 212"
   ]
  },
  {
   "cell_type": "code",
   "execution_count": 18,
   "id": "8a57205e",
   "metadata": {},
   "outputs": [],
   "source": [
    "num = [0,1,2,3]\n",
    "samples = [94, 187, 1, 212]\n",
    "activity = ['walking', 'sitting', 'standing', 'laying']"
   ]
  },
  {
   "cell_type": "code",
   "execution_count": 19,
   "id": "1ef3ea24",
   "metadata": {},
   "outputs": [
    {
     "data": {
      "image/png": "[encoded data removed]",
      "text/plain": [
       "<Figure size 1000x900 with 4 Axes>"
      ]
     },
     "metadata": {},
     "output_type": "display_data"
    }
   ],
   "source": [
    "# Plotting examples of activites for body acceleration\n",
    "fig, axs = plt.subplots(2,2, figsize=(10, 9), tight_layout=True)\n",
    "fig.subplots_adjust(hspace = .5, wspace=.005)\n",
    "time_series = np.arange(xtest.shape[1])\n",
    "axs = axs.ravel()\n",
    "\n",
    "import itertools\n",
    "for (i,j,ax) in zip(samples,activity, num):\n",
    "        axs[ax].plot(time_series, xtest[i, :, 0], color ='red', label='body_acc_x_test')\n",
    "        axs[ax].plot(time_series, xtest[i, :, 1], color ='green', label='body_acc_y_test')\n",
    "        axs[ax].plot(time_series, xtest[i, :, 2], color ='blue', label='body_acc_z_test')\n",
    "        axs[ax].set(title=f'Example: {j}', xlabel='time', ylabel='body accelearion');\n",
    "        axs[ax].legend()\n",
    "        axs[ax].set_ylim(-0.6, 0.6)\n",
    "    \n",
    "             \n",
    "plt.show()"
   ]
  },
  {
   "cell_type": "markdown",
   "id": "e1031a29",
   "metadata": {},
   "source": [
    "#### Split the training data set into two using an 80:20 split, so that you have a train data array and a validation data array"
   ]
  },
  {
   "cell_type": "code",
   "execution_count": 20,
   "id": "0cab3c1b",
   "metadata": {},
   "outputs": [],
   "source": [
    "from sklearn.model_selection import train_test_split\n",
    "\n",
    "x_input, X_val, y_input, y_val = train_test_split(xtrain, ytrain, test_size=0.2, random_state=10)\n"
   ]
  },
  {
   "cell_type": "markdown",
   "id": "0d2183e5",
   "metadata": {},
   "source": [
    "#### You should now create a **single‐layer neural network to classify activities** based on each value of the body acceleration data for the 3 coordinates"
   ]
  },
  {
   "cell_type": "code",
   "execution_count": 21,
   "id": "ffba12a8",
   "metadata": {},
   "outputs": [],
   "source": [
    "#one-hot encoding for labels\n",
    "y_input = tf.keras.utils.to_categorical(y_input)\n",
    "y_val = tf.keras.utils.to_categorical(y_val)"
   ]
  },
  {
   "cell_type": "code",
   "execution_count": 22,
   "id": "3f210156-f694-478e-a3d0-acfacce36298",
   "metadata": {},
   "outputs": [
    {
     "data": {
      "text/plain": [
       "(5881, 6)"
      ]
     },
     "execution_count": 22,
     "metadata": {},
     "output_type": "execute_result"
    }
   ],
   "source": [
    "y_input.shape"
   ]
  },
  {
   "cell_type": "code",
   "execution_count": 24,
   "id": "aabd2562",
   "metadata": {},
   "outputs": [
    {
     "name": "stdout",
     "output_type": "stream",
     "text": [
      "X_train samples = (5881, 384)\n",
      "X_val samples = (1471, 384)\n",
      "y_input samples = (5881, 6)\n",
      "y_val samples = (1471, 6)\n"
     ]
    }
   ],
   "source": [
    "#reshaping\n",
    "x_input = tf.reshape(x_input, (-1,128*3))\n",
    "print ('X_train samples = ' + str(x_input.shape))\n",
    "\n",
    "X_val = tf.reshape(X_val, (-1,128*3))\n",
    "print ('X_val samples = ' + str(X_val.shape))\n",
    "\n",
    "print ('y_input samples = ' + str(y_input.shape))\n",
    "print ('y_val samples = ' + str(y_val.shape))"
   ]
  },
  {
   "cell_type": "code",
   "execution_count": 25,
   "id": "59f3bf59-1f7f-4f08-8d7c-82c80d59060b",
   "metadata": {},
   "outputs": [
    {
     "data": {
      "text/plain": [
       "tf.float32"
      ]
     },
     "execution_count": 25,
     "metadata": {},
     "output_type": "execute_result"
    }
   ],
   "source": [
    "#change dtype for consistency\n",
    "x_input = tf.cast(x_input, dtype=tf.float32)\n",
    "X_val = tf.cast(X_val, dtype=tf.float32)\n",
    "y_input = tf.cast(y_input, dtype=tf.float32)\n",
    "y_val = tf.cast(y_val, dtype=tf.float32)\n",
    "x_input.dtype"
   ]
  },
  {
   "cell_type": "code",
   "execution_count": 26,
   "id": "a69b1ce6-c894-44ed-9d75-e450091ce7f7",
   "metadata": {},
   "outputs": [],
   "source": [
    "# Set up logging jupiterhub tensorboard\n",
    "logdir = '/home/jovyan/logs/Project'\n",
    "writer = tf.summary.create_file_writer(logdir)"
   ]
  },
  {
   "cell_type": "code",
   "execution_count": 29,
   "id": "649fddaf",
   "metadata": {},
   "outputs": [],
   "source": [
    "#Create weight tensors\n",
    "W = tf.Variable(tf.zeros([384,6]),name='W', dtype=tf.float32)\n",
    "b = tf.Variable(tf.zeros([6]),name='b', dtype=tf.float32)\n",
    "\n",
    "# predicted probability for each class\n",
    "def y_pred(x):\n",
    "    return tf.nn.softmax(tf.matmul(x,W) + b)\n",
    "\n",
    "    \n",
    "# cross entropy loss function\n",
    "@tf.function\n",
    "def loss(x,y):\n",
    "    y_ = y_pred(x)\n",
    "    return tf.reduce_mean(-tf.reduce_sum(y * tf.math.log(y_), axis=[1]))\n",
    "\n",
    "#accuracy\n",
    "def accuracy(x,y):\n",
    "    y_ = y_pred(x)\n",
    "    # calculate where the prediction equals the label\n",
    "    correct = tf.math.equal(tf.math.argmax(y_,axis=-1),tf.math.argmax(y,axis=-1))\n",
    "    # convert to a float (previously boolean)\n",
    "    correct = tf.cast(correct,dtype=tf.float32)\n",
    "    # return the mean to give the overall accuracy\n",
    "    return tf.math.reduce_mean(correct)"
   ]
  },
  {
   "cell_type": "code",
   "execution_count": 30,
   "id": "68d0997c",
   "metadata": {},
   "outputs": [],
   "source": [
    "# Selecting training parameters\n",
    "epochs = range(500)\n",
    "\n",
    "# learning rate\n",
    "lr = 1e-1\n",
    "\n",
    "# gradient descent optimizer\n",
    "optimizer = tf.optimizers.SGD(lr)"
   ]
  },
  {
   "cell_type": "code",
   "execution_count": 32,
   "id": "3cb4c75d",
   "metadata": {},
   "outputs": [
    {
     "data": {
      "application/vnd.jupyter.widget-view+json": {
       "model_id": "5af52bad537b471e92e5c780c88374d3",
       "version_major": 2,
       "version_minor": 0
      },
      "text/plain": [
       "  0%|          | 0/500 [00:00<?, ?it/s]"
      ]
     },
     "metadata": {},
     "output_type": "display_data"
    },
    {
     "name": "stdout",
     "output_type": "stream",
     "text": [
      "val_acc 0.202583283\n",
      "val_acc 0.202583283\n",
      "val_acc 0.202583283\n",
      "val_acc 0.202583283\n",
      "val_acc 0.202583283\n",
      "val_acc 0.203263089\n",
      "val_acc 0.203263089\n",
      "val_acc 0.203263089\n",
      "val_acc 0.202583283\n",
      "val_acc 0.202583283\n",
      "val_acc 0.203263089\n",
      "val_acc 0.203942895\n",
      "val_acc 0.203942895\n",
      "val_acc 0.203942895\n",
      "val_acc 0.203942895\n",
      "val_acc 0.203942895\n",
      "val_acc 0.205302522\n",
      "val_acc 0.205302522\n",
      "val_acc 0.205302522\n",
      "val_acc 0.205302522\n",
      "val_acc 0.205982327\n",
      "val_acc 0.205982327\n",
      "val_acc 0.205982327\n",
      "val_acc 0.205982327\n",
      "val_acc 0.205982327\n",
      "val_acc 0.205982327\n",
      "val_acc 0.207341939\n",
      "val_acc 0.207341939\n",
      "val_acc 0.20802176\n",
      "val_acc 0.20802176\n",
      "val_acc 0.20802176\n",
      "val_acc 0.20802176\n",
      "val_acc 0.20802176\n",
      "val_acc 0.20802176\n",
      "val_acc 0.20802176\n",
      "val_acc 0.20802176\n",
      "val_acc 0.20802176\n",
      "val_acc 0.20802176\n",
      "val_acc 0.20802176\n",
      "val_acc 0.20802176\n",
      "val_acc 0.208701566\n",
      "val_acc 0.208701566\n",
      "val_acc 0.208701566\n",
      "val_acc 0.209381372\n",
      "val_acc 0.208701566\n",
      "val_acc 0.208701566\n",
      "val_acc 0.208701566\n",
      "val_acc 0.20802176\n",
      "val_acc 0.20802176\n",
      "val_acc 0.20802176\n",
      "val_acc 0.208701566\n",
      "val_acc 0.209381372\n",
      "val_acc 0.210741\n",
      "val_acc 0.210741\n",
      "val_acc 0.21210061\n",
      "val_acc 0.21210061\n",
      "val_acc 0.212780416\n",
      "val_acc 0.212780416\n",
      "val_acc 0.212780416\n",
      "val_acc 0.212780416\n",
      "val_acc 0.212780416\n",
      "val_acc 0.212780416\n",
      "val_acc 0.212780416\n",
      "val_acc 0.21210061\n",
      "val_acc 0.213460237\n",
      "val_acc 0.214140043\n",
      "val_acc 0.214819849\n",
      "val_acc 0.214819849\n",
      "val_acc 0.215499654\n",
      "val_acc 0.215499654\n",
      "val_acc 0.215499654\n",
      "val_acc 0.216179475\n",
      "val_acc 0.216179475\n",
      "val_acc 0.217539087\n",
      "val_acc 0.217539087\n",
      "val_acc 0.217539087\n",
      "val_acc 0.217539087\n",
      "val_acc 0.217539087\n",
      "val_acc 0.217539087\n",
      "val_acc 0.217539087\n",
      "val_acc 0.218218893\n",
      "val_acc 0.218898714\n",
      "val_acc 0.218898714\n",
      "val_acc 0.218218893\n",
      "val_acc 0.218218893\n",
      "val_acc 0.219578519\n",
      "val_acc 0.220258325\n",
      "val_acc 0.221617952\n",
      "val_acc 0.222977564\n",
      "val_acc 0.22365737\n",
      "val_acc 0.22365737\n",
      "val_acc 0.22365737\n",
      "val_acc 0.22365737\n",
      "val_acc 0.22365737\n",
      "val_acc 0.22365737\n",
      "val_acc 0.22365737\n",
      "val_acc 0.22365737\n",
      "val_acc 0.22433719\n",
      "val_acc 0.225017\n",
      "val_acc 0.225696802\n",
      "val_acc 0.225696802\n",
      "val_acc 0.225696802\n",
      "val_acc 0.226376608\n",
      "val_acc 0.227056429\n",
      "val_acc 0.227736235\n",
      "val_acc 0.227736235\n",
      "val_acc 0.228416041\n",
      "val_acc 0.229095846\n",
      "val_acc 0.229095846\n",
      "val_acc 0.229095846\n",
      "val_acc 0.229095846\n",
      "val_acc 0.229775667\n",
      "val_acc 0.231135279\n",
      "val_acc 0.231135279\n",
      "val_acc 0.231135279\n",
      "val_acc 0.231135279\n",
      "val_acc 0.231135279\n",
      "val_acc 0.231135279\n",
      "val_acc 0.231815085\n",
      "val_acc 0.231815085\n",
      "val_acc 0.231815085\n",
      "val_acc 0.231815085\n",
      "val_acc 0.232494906\n",
      "val_acc 0.233854517\n",
      "val_acc 0.233854517\n",
      "val_acc 0.234534323\n",
      "val_acc 0.234534323\n",
      "val_acc 0.234534323\n",
      "val_acc 0.234534323\n",
      "val_acc 0.234534323\n",
      "val_acc 0.233854517\n",
      "val_acc 0.234534323\n",
      "val_acc 0.234534323\n",
      "val_acc 0.234534323\n",
      "val_acc 0.233854517\n",
      "val_acc 0.233854517\n",
      "val_acc 0.234534323\n",
      "val_acc 0.234534323\n",
      "val_acc 0.235214144\n",
      "val_acc 0.235214144\n",
      "val_acc 0.23589395\n",
      "val_acc 0.236573756\n",
      "val_acc 0.236573756\n",
      "val_acc 0.236573756\n",
      "val_acc 0.236573756\n",
      "val_acc 0.236573756\n",
      "val_acc 0.237253562\n",
      "val_acc 0.237253562\n",
      "val_acc 0.236573756\n",
      "val_acc 0.236573756\n",
      "val_acc 0.236573756\n",
      "val_acc 0.237253562\n",
      "val_acc 0.237253562\n",
      "val_acc 0.237253562\n",
      "val_acc 0.237253562\n",
      "val_acc 0.237253562\n",
      "val_acc 0.237253562\n",
      "val_acc 0.237253562\n",
      "val_acc 0.23589395\n",
      "val_acc 0.23589395\n",
      "val_acc 0.23589395\n",
      "val_acc 0.236573756\n",
      "val_acc 0.236573756\n",
      "val_acc 0.236573756\n",
      "val_acc 0.236573756\n",
      "val_acc 0.236573756\n",
      "val_acc 0.236573756\n",
      "val_acc 0.237253562\n",
      "val_acc 0.237253562\n",
      "val_acc 0.237253562\n",
      "val_acc 0.237253562\n",
      "val_acc 0.237933382\n",
      "val_acc 0.237933382\n",
      "val_acc 0.238613188\n",
      "val_acc 0.239293\n",
      "val_acc 0.239293\n",
      "val_acc 0.239293\n",
      "val_acc 0.239293\n",
      "val_acc 0.237933382\n",
      "val_acc 0.238613188\n",
      "val_acc 0.238613188\n",
      "val_acc 0.238613188\n",
      "val_acc 0.238613188\n",
      "val_acc 0.238613188\n",
      "val_acc 0.239972815\n",
      "val_acc 0.239972815\n",
      "val_acc 0.239972815\n",
      "val_acc 0.239293\n",
      "val_acc 0.239293\n",
      "val_acc 0.239293\n",
      "val_acc 0.239293\n",
      "val_acc 0.239293\n",
      "val_acc 0.239972815\n",
      "val_acc 0.240652621\n",
      "val_acc 0.240652621\n",
      "val_acc 0.240652621\n",
      "val_acc 0.241332427\n",
      "val_acc 0.240652621\n",
      "val_acc 0.240652621\n",
      "val_acc 0.240652621\n",
      "val_acc 0.240652621\n",
      "val_acc 0.240652621\n",
      "val_acc 0.240652621\n",
      "val_acc 0.240652621\n",
      "val_acc 0.240652621\n",
      "val_acc 0.240652621\n",
      "val_acc 0.242012233\n",
      "val_acc 0.242692053\n",
      "val_acc 0.243371859\n",
      "val_acc 0.243371859\n",
      "val_acc 0.243371859\n",
      "val_acc 0.243371859\n",
      "val_acc 0.243371859\n",
      "val_acc 0.243371859\n",
      "val_acc 0.244731471\n",
      "val_acc 0.244731471\n",
      "val_acc 0.244731471\n",
      "val_acc 0.244731471\n",
      "val_acc 0.244731471\n",
      "val_acc 0.244731471\n",
      "val_acc 0.244731471\n",
      "val_acc 0.244731471\n",
      "val_acc 0.244731471\n",
      "val_acc 0.244731471\n",
      "val_acc 0.244731471\n",
      "val_acc 0.244731471\n",
      "val_acc 0.244731471\n",
      "val_acc 0.245411292\n",
      "val_acc 0.245411292\n",
      "val_acc 0.245411292\n",
      "val_acc 0.245411292\n",
      "val_acc 0.245411292\n",
      "val_acc 0.245411292\n",
      "val_acc 0.245411292\n",
      "val_acc 0.246091098\n",
      "val_acc 0.246091098\n",
      "val_acc 0.245411292\n",
      "val_acc 0.245411292\n",
      "val_acc 0.245411292\n",
      "val_acc 0.245411292\n",
      "val_acc 0.245411292\n",
      "val_acc 0.245411292\n",
      "val_acc 0.246770903\n",
      "val_acc 0.247450709\n",
      "val_acc 0.247450709\n",
      "val_acc 0.247450709\n",
      "val_acc 0.247450709\n",
      "val_acc 0.24813053\n",
      "val_acc 0.248810336\n",
      "val_acc 0.248810336\n",
      "val_acc 0.248810336\n",
      "val_acc 0.248810336\n",
      "val_acc 0.248810336\n",
      "val_acc 0.248810336\n",
      "val_acc 0.248810336\n",
      "val_acc 0.248810336\n",
      "val_acc 0.248810336\n",
      "val_acc 0.249490142\n",
      "val_acc 0.249490142\n",
      "val_acc 0.249490142\n",
      "val_acc 0.249490142\n",
      "val_acc 0.249490142\n",
      "val_acc 0.249490142\n",
      "val_acc 0.248810336\n",
      "val_acc 0.248810336\n",
      "val_acc 0.248810336\n",
      "val_acc 0.249490142\n",
      "val_acc 0.249490142\n",
      "val_acc 0.250169963\n",
      "val_acc 0.250169963\n",
      "val_acc 0.250169963\n",
      "val_acc 0.250169963\n",
      "val_acc 0.250169963\n",
      "val_acc 0.250169963\n",
      "val_acc 0.250169963\n",
      "val_acc 0.250169963\n",
      "val_acc 0.250169963\n",
      "val_acc 0.250169963\n",
      "val_acc 0.250169963\n",
      "val_acc 0.250169963\n",
      "val_acc 0.250169963\n",
      "val_acc 0.250169963\n",
      "val_acc 0.250849754\n",
      "val_acc 0.250849754\n",
      "val_acc 0.250849754\n",
      "val_acc 0.250849754\n",
      "val_acc 0.251529574\n",
      "val_acc 0.251529574\n",
      "val_acc 0.251529574\n",
      "val_acc 0.251529574\n",
      "val_acc 0.251529574\n",
      "val_acc 0.251529574\n",
      "val_acc 0.251529574\n",
      "val_acc 0.251529574\n",
      "val_acc 0.251529574\n",
      "val_acc 0.251529574\n",
      "val_acc 0.252209395\n",
      "val_acc 0.253569\n",
      "val_acc 0.252889186\n",
      "val_acc 0.253569\n",
      "val_acc 0.253569\n",
      "val_acc 0.254248798\n",
      "val_acc 0.254248798\n",
      "val_acc 0.254248798\n",
      "val_acc 0.254928619\n",
      "val_acc 0.254928619\n",
      "val_acc 0.254928619\n",
      "val_acc 0.254928619\n",
      "val_acc 0.254928619\n",
      "val_acc 0.254928619\n",
      "val_acc 0.254928619\n",
      "val_acc 0.254928619\n",
      "val_acc 0.254248798\n",
      "val_acc 0.254248798\n",
      "val_acc 0.254248798\n",
      "val_acc 0.253569\n",
      "val_acc 0.253569\n",
      "val_acc 0.253569\n",
      "val_acc 0.253569\n",
      "val_acc 0.253569\n",
      "val_acc 0.253569\n",
      "val_acc 0.253569\n",
      "val_acc 0.253569\n",
      "val_acc 0.253569\n",
      "val_acc 0.253569\n",
      "val_acc 0.253569\n",
      "val_acc 0.253569\n",
      "val_acc 0.254928619\n",
      "val_acc 0.254928619\n",
      "val_acc 0.255608439\n",
      "val_acc 0.255608439\n",
      "val_acc 0.255608439\n",
      "val_acc 0.255608439\n",
      "val_acc 0.255608439\n",
      "val_acc 0.25628823\n",
      "val_acc 0.256968051\n",
      "val_acc 0.257647872\n",
      "val_acc 0.257647872\n",
      "val_acc 0.257647872\n",
      "val_acc 0.257647872\n",
      "val_acc 0.258327663\n",
      "val_acc 0.259007484\n",
      "val_acc 0.259007484\n",
      "val_acc 0.259007484\n",
      "val_acc 0.259007484\n",
      "val_acc 0.259007484\n",
      "val_acc 0.258327663\n",
      "val_acc 0.258327663\n",
      "val_acc 0.258327663\n",
      "val_acc 0.258327663\n",
      "val_acc 0.259007484\n",
      "val_acc 0.259687275\n",
      "val_acc 0.259007484\n",
      "val_acc 0.259007484\n",
      "val_acc 0.259007484\n",
      "val_acc 0.259007484\n",
      "val_acc 0.259007484\n",
      "val_acc 0.259007484\n",
      "val_acc 0.259687275\n",
      "val_acc 0.259007484\n",
      "val_acc 0.259007484\n",
      "val_acc 0.259007484\n",
      "val_acc 0.259007484\n",
      "val_acc 0.259007484\n",
      "val_acc 0.259007484\n",
      "val_acc 0.259007484\n",
      "val_acc 0.259007484\n",
      "val_acc 0.259007484\n",
      "val_acc 0.259687275\n",
      "val_acc 0.259687275\n",
      "val_acc 0.259687275\n",
      "val_acc 0.259687275\n",
      "val_acc 0.259687275\n",
      "val_acc 0.259687275\n",
      "val_acc 0.259687275\n",
      "val_acc 0.259687275\n",
      "val_acc 0.259687275\n",
      "val_acc 0.260367095\n",
      "val_acc 0.260367095\n",
      "val_acc 0.260367095\n",
      "val_acc 0.260367095\n",
      "val_acc 0.260367095\n",
      "val_acc 0.260367095\n",
      "val_acc 0.260367095\n",
      "val_acc 0.260367095\n",
      "val_acc 0.260367095\n",
      "val_acc 0.260367095\n",
      "val_acc 0.260367095\n",
      "val_acc 0.260367095\n",
      "val_acc 0.260367095\n",
      "val_acc 0.260367095\n",
      "val_acc 0.261046916\n",
      "val_acc 0.261046916\n",
      "val_acc 0.261046916\n",
      "val_acc 0.261046916\n",
      "val_acc 0.261046916\n",
      "val_acc 0.262406528\n",
      "val_acc 0.262406528\n",
      "val_acc 0.262406528\n",
      "val_acc 0.261726707\n",
      "val_acc 0.261726707\n",
      "val_acc 0.261726707\n",
      "val_acc 0.261726707\n",
      "val_acc 0.261726707\n",
      "val_acc 0.261726707\n",
      "val_acc 0.261726707\n",
      "val_acc 0.261726707\n",
      "val_acc 0.262406528\n",
      "val_acc 0.262406528\n",
      "val_acc 0.262406528\n",
      "val_acc 0.262406528\n",
      "val_acc 0.263086349\n",
      "val_acc 0.263086349\n",
      "val_acc 0.26376614\n",
      "val_acc 0.264445961\n",
      "val_acc 0.264445961\n",
      "val_acc 0.264445961\n",
      "val_acc 0.264445961\n",
      "val_acc 0.265125751\n",
      "val_acc 0.264445961\n",
      "val_acc 0.264445961\n",
      "val_acc 0.264445961\n",
      "val_acc 0.264445961\n",
      "val_acc 0.265125751\n",
      "val_acc 0.265125751\n",
      "val_acc 0.265125751\n",
      "val_acc 0.264445961\n",
      "val_acc 0.264445961\n",
      "val_acc 0.264445961\n",
      "val_acc 0.265805572\n",
      "val_acc 0.265805572\n",
      "val_acc 0.265805572\n",
      "val_acc 0.265805572\n",
      "val_acc 0.266485393\n",
      "val_acc 0.266485393\n",
      "val_acc 0.267165184\n",
      "val_acc 0.267165184\n",
      "val_acc 0.267165184\n",
      "val_acc 0.267165184\n",
      "val_acc 0.267165184\n",
      "val_acc 0.267165184\n",
      "val_acc 0.267165184\n",
      "val_acc 0.266485393\n",
      "val_acc 0.266485393\n",
      "val_acc 0.266485393\n",
      "val_acc 0.266485393\n",
      "val_acc 0.266485393\n",
      "val_acc 0.265805572\n",
      "val_acc 0.266485393\n",
      "val_acc 0.266485393\n",
      "val_acc 0.266485393\n",
      "val_acc 0.266485393\n",
      "val_acc 0.267165184\n",
      "val_acc 0.267165184\n",
      "val_acc 0.267165184\n",
      "val_acc 0.267165184\n",
      "val_acc 0.267845\n",
      "val_acc 0.267845\n",
      "val_acc 0.267845\n",
      "val_acc 0.267845\n",
      "val_acc 0.268524826\n",
      "val_acc 0.268524826\n",
      "val_acc 0.268524826\n",
      "val_acc 0.268524826\n",
      "val_acc 0.268524826\n",
      "val_acc 0.269204617\n",
      "val_acc 0.269204617\n",
      "val_acc 0.269204617\n",
      "val_acc 0.269204617\n",
      "val_acc 0.269204617\n",
      "val_acc 0.269204617\n",
      "val_acc 0.269204617\n",
      "val_acc 0.268524826\n",
      "val_acc 0.268524826\n",
      "val_acc 0.268524826\n",
      "val_acc 0.268524826\n",
      "val_acc 0.268524826\n",
      "val_acc 0.268524826\n",
      "val_acc 0.268524826\n",
      "val_acc 0.269204617\n",
      "val_acc 0.269204617\n",
      "val_acc 0.270564228\n",
      "val_acc 0.270564228\n",
      "val_acc 0.269884437\n",
      "val_acc 0.270564228\n",
      "val_acc 0.270564228\n",
      "val_acc 0.270564228\n",
      "val_acc 0.270564228\n",
      "val_acc 0.270564228\n",
      "val_acc 0.270564228\n",
      "val_acc 0.270564228\n",
      "val_acc 0.270564228\n",
      "val_acc 0.270564228\n",
      "val_acc 0.270564228\n",
      "val_acc 0.270564228\n",
      "val_acc 0.270564228\n",
      "val_acc 0.270564228\n",
      "val_acc 0.270564228\n",
      "val_acc 0.270564228\n",
      "val_acc 0.270564228\n"
     ]
    }
   ],
   "source": [
    "with writer.as_default():\n",
    "    for i in tqdm(epochs):\n",
    "        with tf.GradientTape() as tape:\n",
    "            loss_train = loss(x_input, y_input)\n",
    "        gradients = tape.gradient(loss_train, [W, b])\n",
    "        optimizer.apply_gradients(zip(gradients, [W ,b]))\n",
    "        # calculate the validation accuracy\n",
    "        val_acc = accuracy(X_val,y_val)\n",
    "        # write the value to tensorboard\n",
    "        tf.summary.scalar('val_acc', val_acc, step=i)\n",
    "        tf.print('val_acc', val_acc, output_stream=sys.stdout)"
   ]
  },
  {
   "cell_type": "code",
   "execution_count": 141,
   "id": "215afd36-b670-4662-b220-7b49531c0a44",
   "metadata": {},
   "outputs": [
    {
     "data": {
      "text/plain": [
       "TensorShape([5881, 384])"
      ]
     },
     "execution_count": 141,
     "metadata": {},
     "output_type": "execute_result"
    }
   ],
   "source": [
    "X_train.shape"
   ]
  },
  {
   "cell_type": "code",
   "execution_count": null,
   "id": "4e306a5a",
   "metadata": {},
   "outputs": [],
   "source": []
  },
  {
   "cell_type": "code",
   "execution_count": null,
   "id": "7b19425a",
   "metadata": {},
   "outputs": [],
   "source": []
  },
  {
   "cell_type": "code",
   "execution_count": null,
   "id": "8ad5036f",
   "metadata": {},
   "outputs": [],
   "source": []
  },
  {
   "cell_type": "code",
   "execution_count": null,
   "id": "649a9e84-45a9-4cf0-bb53-51e59e2d07f2",
   "metadata": {},
   "outputs": [],
   "source": []
  },
  {
   "cell_type": "code",
   "execution_count": null,
   "id": "8cc15881-7883-426d-8f41-3a614f6151e8",
   "metadata": {},
   "outputs": [],
   "source": []
  },
  {
   "cell_type": "code",
   "execution_count": null,
   "id": "59f25619-dcd8-4e6b-9cd2-5ec9ea62b5b4",
   "metadata": {},
   "outputs": [],
   "source": []
  },
  {
   "cell_type": "code",
   "execution_count": null,
   "id": "8e44ad2e-f6df-4013-86c5-d29aae002dde",
   "metadata": {},
   "outputs": [],
   "source": []
  },
  {
   "cell_type": "code",
   "execution_count": null,
   "id": "d0a387e3-3412-4316-9cf9-d4ceb5b56712",
   "metadata": {},
   "outputs": [],
   "source": []
  }
 ],
 "metadata": {
  "kernelspec": {
   "display_name": "Python 3 (ipykernel)",
   "language": "python",
   "name": "python3"
  },
  "language_info": {
   "codemirror_mode": {
    "name": "ipython",
    "version": 3
   },
   "file_extension": ".py",
   "mimetype": "text/x-python",
   "name": "python",
   "nbconvert_exporter": "python",
   "pygments_lexer": "ipython3",
   "version": "3.8.16"
  }
 },
 "nbformat": 4,
 "nbformat_minor": 5
}
