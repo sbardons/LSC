{
 "cells": [
  {
   "cell_type": "markdown",
   "id": "ab9d7c75-a94c-4137-b2ea-ab13d2a4ee70",
   "metadata": {},
   "source": [
    "## Example 8 (Finding maximum likelihood with the L-BFGS optimizer)"
   ]
  },
  {
   "cell_type": "markdown",
   "id": "ed8bf9f4-3bcf-4045-a9e9-3c87f48b587d",
   "metadata": {},
   "source": [
    "In this example we’ll **use the L-BFGS optimizer implemented in tfp**.\n",
    "Details of the algorithm can be found here but in summary L-BFGS is a quasi-Newton method as it makes\n",
    "use of an approximation to the Hessian matrix.\n",
    "We’ll use the same coin flip example as the previous example and as before we begin by creating a loss\n",
    "function to minimize which is the negative log likelihood. In this example we’re going to use a sigmoid\n",
    "transform to ensure p stays between 0 and 1. We need to do this as the algorithm can make large steps\n",
    "which could lead to invalid values of p"
   ]
  },
  {
   "cell_type": "code",
   "execution_count": 7,
   "id": "afdc34c6-7c03-43b5-ae3f-47c25cf75e06",
   "metadata": {},
   "outputs": [],
   "source": [
    "import tensorflow_probability as tfp\n",
    "import tensorflow as tf\n",
    "import numpy as np\n",
    "import matplotlib.pyplot as plt\n",
    "tfd = tfp.distributions"
   ]
  },
  {
   "cell_type": "code",
   "execution_count": 8,
   "id": "87544a90-f7c5-4ed7-8b45-94a9834639a3",
   "metadata": {},
   "outputs": [],
   "source": [
    "@tf.function\n",
    "def loss(p_input):\n",
    "    N=10\n",
    "    h=2\n",
    "    p = tf.nn.sigmoid(p_input)\n",
    "    likelihood = tfd.Binomial(N,probs=p).log_prob(h)\n",
    "    return tf.squeeze(-likelihood)"
   ]
  },
  {
   "cell_type": "markdown",
   "id": "c181d0f5-97c1-4bc7-9620-629cdf330a3b",
   "metadata": {},
   "source": [
    "The optimizers offered by tfp have a different requirement to tensorflow’s standard optimizers in that they\n",
    "require a function that provides the loss function to be minimized and its gradients. There is a built-in\n",
    "function that facilitates this called tfp.math.value_and_gradient"
   ]
  },
  {
   "cell_type": "code",
   "execution_count": 9,
   "id": "2343a573-bf4b-4a4d-87f8-e74b01842958",
   "metadata": {},
   "outputs": [],
   "source": [
    "def loss_and_gradient(p):\n",
    "    return tfp.math.value_and_gradient(loss ,p)"
   ]
  },
  {
   "cell_type": "code",
   "execution_count": 10,
   "id": "22271a7e-31db-4166-928d-66d62bdb1149",
   "metadata": {},
   "outputs": [
    {
     "name": "stdout",
     "output_type": "stream",
     "text": [
      "WARNING:tensorflow:@custom_gradient grad_fn has 'variables' in signature, but no ResourceVariables were used on the forward pass.\n"
     ]
    }
   ],
   "source": [
    "# set the initial value of p\n",
    "start = np.array([0.5])\n",
    "# run the optimizer\n",
    "results = tfp.optimizer.lbfgs_minimize(loss_and_gradient,\n",
    "                    initial_position=start,\n",
    "                    tolerance=1e-8)"
   ]
  },
  {
   "cell_type": "code",
   "execution_count": 11,
   "id": "888f97fe-a531-4a02-bdb6-307e01f52455",
   "metadata": {},
   "outputs": [
    {
     "name": "stdout",
     "output_type": "stream",
     "text": [
      "Optimizer converged:  True\n"
     ]
    }
   ],
   "source": [
    "#Unlike the tensorflow optimizers we can easily check whether we have converged on the optimal value,\n",
    "print('Optimizer converged: ', results.converged.numpy())"
   ]
  },
  {
   "cell_type": "code",
   "execution_count": 12,
   "id": "68ae1ec4-e0fb-4c19-9cfe-c749b983a1cb",
   "metadata": {},
   "outputs": [
    {
     "name": "stdout",
     "output_type": "stream",
     "text": [
      "[0.2]\n"
     ]
    }
   ],
   "source": [
    "# print the optimal transformed value\n",
    "print(tf.nn.sigmoid(results.position).numpy())"
   ]
  },
  {
   "cell_type": "code",
   "execution_count": null,
   "id": "b669bcdc-9d44-4073-9e5d-ce9cf1344e95",
   "metadata": {},
   "outputs": [],
   "source": []
  },
  {
   "cell_type": "code",
   "execution_count": null,
   "id": "3ad648cb-05be-4a9c-8e9c-bc6ae954b3b3",
   "metadata": {},
   "outputs": [],
   "source": []
  }
 ],
 "metadata": {
  "kernelspec": {
   "display_name": "Python 3 (ipykernel)",
   "language": "python",
   "name": "python3"
  },
  "language_info": {
   "codemirror_mode": {
    "name": "ipython",
    "version": 3
   },
   "file_extension": ".py",
   "mimetype": "text/x-python",
   "name": "python",
   "nbconvert_exporter": "python",
   "pygments_lexer": "ipython3",
   "version": "3.8.16"
  }
 },
 "nbformat": 4,
 "nbformat_minor": 5
}
