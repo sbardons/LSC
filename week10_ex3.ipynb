{
 "cells": [
  {
   "cell_type": "markdown",
   "id": "e01e1870-9d9d-4db5-a800-e437798ff72b",
   "metadata": {},
   "source": [
    "## Example 3 - Permutation Test"
   ]
  },
  {
   "cell_type": "code",
   "execution_count": 5,
   "id": "a4e653d9-596b-46d9-a06b-411725c22d5b",
   "metadata": {},
   "outputs": [],
   "source": [
    "import pandas as pd\n",
    "import numpy as np"
   ]
  },
  {
   "cell_type": "code",
   "execution_count": 13,
   "id": "deb6f5dc-63fd-4d44-bff5-5365b5dd2795",
   "metadata": {},
   "outputs": [],
   "source": [
    "import findspark\n",
    "findspark.init()"
   ]
  },
  {
   "cell_type": "code",
   "execution_count": 14,
   "id": "9e51ced2-31e9-4fe1-86c6-782247018593",
   "metadata": {},
   "outputs": [],
   "source": [
    "import pyspark\n",
    "sc = pyspark.SparkContext(appName=\"MyAppName\")"
   ]
  },
  {
   "cell_type": "code",
   "execution_count": 15,
   "id": "44062eaa-bab9-4c68-b6cb-6e8e1690ca1a",
   "metadata": {},
   "outputs": [],
   "source": [
    "from pyspark.sql import SparkSession\n",
    "spark = SparkSession(sc)"
   ]
  },
  {
   "cell_type": "code",
   "execution_count": 2,
   "id": "defc82a3-2085-43ce-b756-d940a24f749c",
   "metadata": {},
   "outputs": [],
   "source": [
    "data = pd.read_csv(\"mammals.csv\")"
   ]
  },
  {
   "cell_type": "code",
   "execution_count": 3,
   "id": "7b6598f0-a63a-4534-9ff5-1127a61173f8",
   "metadata": {},
   "outputs": [
    {
     "data": {
      "text/html": [
       "<div>\n",
       "<style scoped>\n",
       "    .dataframe tbody tr th:only-of-type {\n",
       "        vertical-align: middle;\n",
       "    }\n",
       "\n",
       "    .dataframe tbody tr th {\n",
       "        vertical-align: top;\n",
       "    }\n",
       "\n",
       "    .dataframe thead th {\n",
       "        text-align: right;\n",
       "    }\n",
       "</style>\n",
       "<table border=\"1\" class=\"dataframe\">\n",
       "  <thead>\n",
       "    <tr style=\"text-align: right;\">\n",
       "      <th></th>\n",
       "      <th>Unnamed: 0</th>\n",
       "      <th>body</th>\n",
       "      <th>brain</th>\n",
       "    </tr>\n",
       "  </thead>\n",
       "  <tbody>\n",
       "    <tr>\n",
       "      <th>0</th>\n",
       "      <td>Arctic fox</td>\n",
       "      <td>3.385</td>\n",
       "      <td>44.5</td>\n",
       "    </tr>\n",
       "    <tr>\n",
       "      <th>1</th>\n",
       "      <td>Owl monkey</td>\n",
       "      <td>0.480</td>\n",
       "      <td>15.5</td>\n",
       "    </tr>\n",
       "    <tr>\n",
       "      <th>2</th>\n",
       "      <td>Mountain beaver</td>\n",
       "      <td>1.350</td>\n",
       "      <td>8.1</td>\n",
       "    </tr>\n",
       "    <tr>\n",
       "      <th>3</th>\n",
       "      <td>Cow</td>\n",
       "      <td>465.000</td>\n",
       "      <td>423.0</td>\n",
       "    </tr>\n",
       "    <tr>\n",
       "      <th>4</th>\n",
       "      <td>Grey wolf</td>\n",
       "      <td>36.330</td>\n",
       "      <td>119.5</td>\n",
       "    </tr>\n",
       "  </tbody>\n",
       "</table>\n",
       "</div>"
      ],
      "text/plain": [
       "        Unnamed: 0     body  brain\n",
       "0       Arctic fox    3.385   44.5\n",
       "1       Owl monkey    0.480   15.5\n",
       "2  Mountain beaver    1.350    8.1\n",
       "3              Cow  465.000  423.0\n",
       "4        Grey wolf   36.330  119.5"
      ]
     },
     "execution_count": 3,
     "metadata": {},
     "output_type": "execute_result"
    }
   ],
   "source": [
    "data.head()"
   ]
  },
  {
   "cell_type": "code",
   "execution_count": 6,
   "id": "f3a86d5f-cc61-428a-b4d4-7059e81b5b93",
   "metadata": {},
   "outputs": [
    {
     "name": "stdout",
     "output_type": "stream",
     "text": [
      "0.9341638423233545\n"
     ]
    }
   ],
   "source": [
    "observed_correlation = np.corrcoef(data.body, data.brain) [0,1]\n",
    "print(observed_correlation)"
   ]
  },
  {
   "cell_type": "code",
   "execution_count": 8,
   "id": "4360a8ba-c779-4de4-ae57-01ed69edf9d6",
   "metadata": {},
   "outputs": [],
   "source": [
    "def simulate():\n",
    "    return np.corrcoef(data.body, np.random.permutation(data. brain) ) [0,1]"
   ]
  },
  {
   "cell_type": "code",
   "execution_count": 9,
   "id": "3e0a6e2f-a850-4d9e-ad7a-efde8c61d5d8",
   "metadata": {},
   "outputs": [
    {
     "name": "stdout",
     "output_type": "stream",
     "text": [
      "0.0\n"
     ]
    }
   ],
   "source": [
    "n_sim = 10000\n",
    "simulation = [ simulate() for i in range(n_sim) ]\n",
    "p_value = sum([observed_correlation<=random_correlation\n",
    "                for random_correlation in simulation ]) / n_sim\n",
    "print(p_value)"
   ]
  },
  {
   "cell_type": "markdown",
   "id": "ba63ea8c-9d45-4cd9-b804-40caf6c37287",
   "metadata": {},
   "source": [
    "So far, all our simulations were carried out on one core of our computer. We can use Spark to perform\n",
    "this calculation across more cores and potentially also different computers in the Spark cluster"
   ]
  },
  {
   "cell_type": "code",
   "execution_count": 10,
   "id": "5ed560cb-9d66-44ae-9883-48eed99a1dec",
   "metadata": {},
   "outputs": [],
   "source": [
    "n_batch = 10\n",
    "n_sim_per_batch = 1000"
   ]
  },
  {
   "cell_type": "code",
   "execution_count": 11,
   "id": "19db69f4-c42b-43f9-83ad-1f565b4f8efd",
   "metadata": {},
   "outputs": [],
   "source": [
    "def simulate_batch(seed):\n",
    "    np.random.seed (seed)\n",
    "    return [ simulate() for i in range(n_sim_per_batch) ]"
   ]
  },
  {
   "cell_type": "code",
   "execution_count": 16,
   "id": "7787a1c4-6c61-40a0-961b-07e0ba369d93",
   "metadata": {},
   "outputs": [],
   "source": [
    "simulation = sc.parallelize(range(n_batch)).map(simulate_batch).collect()"
   ]
  },
  {
   "cell_type": "code",
   "execution_count": 17,
   "id": "2f0e2506-9b29-4afe-af7a-bff529ff84f1",
   "metadata": {},
   "outputs": [
    {
     "name": "stdout",
     "output_type": "stream",
     "text": [
      "0.0\n"
     ]
    }
   ],
   "source": [
    "p_value = sum([observed_correlation<=random_correlation\n",
    "                        for block in simulation\n",
    "for random_correlation in block ]) / n_sim\n",
    "print(p_value)"
   ]
  },
  {
   "cell_type": "code",
   "execution_count": null,
   "id": "b990d2f5-bfa3-4479-a4a6-6803d7c28a6f",
   "metadata": {},
   "outputs": [],
   "source": []
  }
 ],
 "metadata": {
  "kernelspec": {
   "display_name": "Python 3 (ipykernel)",
   "language": "python",
   "name": "python3"
  },
  "language_info": {
   "codemirror_mode": {
    "name": "ipython",
    "version": 3
   },
   "file_extension": ".py",
   "mimetype": "text/x-python",
   "name": "python",
   "nbconvert_exporter": "python",
   "pygments_lexer": "ipython3",
   "version": "3.9.10"
  }
 },
 "nbformat": 4,
 "nbformat_minor": 5
}
