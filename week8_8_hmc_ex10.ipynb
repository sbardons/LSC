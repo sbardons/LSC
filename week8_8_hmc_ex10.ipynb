{
 "cells": [
  {
   "cell_type": "markdown",
   "id": "86bed222-0bb8-4fc1-98df-a3a9d3f89770",
   "metadata": {},
   "source": [
    "Another MCMC algorithm provided by tfp is **Hamiltonian Monte Carlo (HMC)**\n",
    "\n",
    "\n",
    "UnlikeMetropolis-Hastings where steps are taken in a random direction, HMC makes use of the gradients\n",
    "of the likelihood to move towards more likely parameters. This means that HMC can be faster to converge\n",
    "to the target distribution and often requires less time to run.\n",
    "\n",
    "\n",
    "We’ll implement HMC on the lions and wildebeest data we used earlier."
   ]
  },
  {
   "cell_type": "code",
   "execution_count": 1,
   "id": "f9edc8d4-5743-4904-b5d6-fa8bf7d63e55",
   "metadata": {},
   "outputs": [],
   "source": [
    "import tensorflow_probability as tfp\n",
    "import tensorflow as tf\n",
    "import numpy as np\n",
    "import matplotlib.pyplot as plt\n",
    "tfd = tfp.distributions"
   ]
  },
  {
   "cell_type": "code",
   "execution_count": 2,
   "id": "15d893fb-f0d2-4605-861f-9aed15254c76",
   "metadata": {},
   "outputs": [
    {
     "name": "stderr",
     "output_type": "stream",
     "text": [
      "/opt/conda/lib/python3.8/site-packages/tensorflow_probability/python/__init__.py:70: UserWarning: TensorFloat-32 matmul/conv are enabled for NVIDIA Ampere+ GPUs. The resulting loss of precision may hinder MCMC convergence. To turn off, run `tf.config.experimental.enable_tensor_float_32_execution(False)`. For more detail, see https://github.com/tensorflow/community/pull/287.\n",
      "  warnings.warn(\n"
     ]
    },
    {
     "name": "stdout",
     "output_type": "stream",
     "text": [
      "WARNING:tensorflow:From /opt/conda/lib/python3.8/site-packages/tensorflow_probability/python/distributions/distribution.py:342: calling Poisson.__init__ (from tensorflow_probability.python.distributions.poisson) with interpolate_nondiscrete is deprecated and will be removed after 2021-02-01.\n",
      "Instructions for updating:\n",
      "The `interpolate_nondiscrete` flag is deprecated; instead use `force_probs_to_zero_outside_support` (with the opposite sense).\n"
     ]
    },
    {
     "name": "stderr",
     "output_type": "stream",
     "text": [
      "2023-07-24 15:56:39.473489: I tensorflow/core/platform/cpu_feature_guard.cc:151] This TensorFlow binary is optimized with oneAPI Deep Neural Network Library (oneDNN) to use the following CPU instructions in performance-critical operations:  AVX2 FMA\n",
      "To enable them in other operations, rebuild TensorFlow with the appropriate compiler flags.\n",
      "2023-07-24 15:56:39.988913: I tensorflow/core/common_runtime/gpu/gpu_device.cc:1525] Created device /job:localhost/replica:0/task:0/device:GPU:0 with 10294 MB memory:  -> device: 0, name: Tesla K80, pci bus id: 0001:00:00.0, compute capability: 3.7\n",
      "/opt/conda/lib/python3.8/site-packages/tensorflow_probability/python/mcmc/sample.py:339: UserWarning: Tracing all kernel results by default is deprecated. Set the `trace_fn` argument to None (the future default value) or an explicit callback that traces the values you are interested in.\n",
      "  warnings.warn('Tracing all kernel results by default is deprecated. Set '\n"
     ]
    },
    {
     "name": "stdout",
     "output_type": "stream",
     "text": [
      "1077.8829\n"
     ]
    }
   ],
   "source": [
    "# numpy arrays for the observations\n",
    "ldata = np.array([0, 2, 1, 1, 2, 3, 6, 4, 5, 6, 7, 2, 0, 6, 5, 6, 2, 1, 6, 5])\n",
    "wdata = np.array([64, 0, 16, 14, 3, 1, 0, 0, 0, 0, 0, 1, 58, 0, 0, 0, 6, 10, 0, 0])\n",
    "\n",
    "# log likelihood as a function of alpha\n",
    "def log_likelihood_lions(alpha):\n",
    "    joint = tfd.JointDistributionSequential([tfd.Poisson(rate=1,name='lions'),\n",
    "    lambda lions : tfd.Poisson(rate=tf.exp(4-alpha*lions),name='wildebeest')\n",
    "    ])\n",
    "    \n",
    "    # return a single log likelihood for all the observations\n",
    "    total_log_likelihood = tf.reduce_sum(joint.log_prob([ldata,wdata]))\n",
    "    return total_log_likelihood\n",
    "\n",
    "    \n",
    "#Now, we’ll set-up the HMC sampler and take 2000 samples\n",
    "@tf.function\n",
    "def run_hmc_sampler():\n",
    "    # create the kernel\n",
    "    kernel = tfp.mcmc.HamiltonianMonteCarlo(log_likelihood_lions,\n",
    "                                            step_size=0.05,\n",
    "                                            num_leapfrog_steps=10)\n",
    "    # sample from the chain\n",
    "    samples, kernels_results = tfp.mcmc.sample_chain(num_results=2000,\n",
    "                                            current_state=0.5,\n",
    "                                            kernel=kernel,\n",
    "                                            num_burnin_steps=50)\n",
    "    return samples\n",
    "\n",
    "    \n",
    "# run the sampler\n",
    "s_hmc = run_hmc_sampler()\n",
    "\n",
    "\n",
    "print(tfp.mcmc.effective_sample_size(s_hmc).numpy())\n"
   ]
  },
  {
   "cell_type": "markdown",
   "id": "97c2689e-ce97-4bf9-906e-c5531699ab7c",
   "metadata": {},
   "source": [
    "Now we’ll compare to the MH sampler with the same number of samples"
   ]
  },
  {
   "cell_type": "code",
   "execution_count": 4,
   "id": "8b950ba7-e815-4927-86a5-38a435644499",
   "metadata": {},
   "outputs": [
    {
     "name": "stderr",
     "output_type": "stream",
     "text": [
      "/opt/conda/lib/python3.8/site-packages/tensorflow_probability/python/mcmc/sample.py:339: UserWarning: Tracing all kernel results by default is deprecated. Set the `trace_fn` argument to None (the future default value) or an explicit callback that traces the values you are interested in.\n",
      "  warnings.warn('Tracing all kernel results by default is deprecated. Set '\n"
     ]
    },
    {
     "name": "stdout",
     "output_type": "stream",
     "text": [
      "146.77693\n"
     ]
    }
   ],
   "source": [
    "@tf.function\n",
    "def run_mh_sampler():\n",
    "    # create the kernel\n",
    "    kernel = tfp.mcmc.RandomWalkMetropolis(log_likelihood_lions)\n",
    "    # sample from the chain\n",
    "    samples, kernels_results = tfp.mcmc.sample_chain(num_results=2000,\n",
    "                                                current_state=0.5,\n",
    "                                                kernel=kernel,\n",
    "                                                num_burnin_steps=50)\n",
    "    return samples\n",
    "    \n",
    "# run the sampler\n",
    "s_mh = run_mh_sampler()\n",
    "print(tfp.mcmc.effective_sample_size(s_mh).numpy())"
   ]
  },
  {
   "cell_type": "markdown",
   "id": "a12164a2-a0f8-4b5e-9a14-5751e0b6c077",
   "metadata": {},
   "source": [
    "Notice how we obtained far more effective samples from the HMC sampler. This is because the sampler\n",
    "can make use of the gradients to move around the distribution more easily.\n",
    "\n",
    "\n",
    "Finally, we’ll plot the posterior distribution using the HMC sampler along with the known true value for\n",
    "𝛼."
   ]
  },
  {
   "cell_type": "code",
   "execution_count": 5,
   "id": "0db39c8b-c14c-4faa-84bb-ecc5ba58725b",
   "metadata": {},
   "outputs": [
    {
     "data": {
      "image/png": "[encoded data removed]",
      "text/plain": [
       "<Figure size 400x300 with 1 Axes>"
      ]
     },
     "metadata": {},
     "output_type": "display_data"
    }
   ],
   "source": [
    "plt.figure(figsize=(4,3))\n",
    "plt.hist(s_hmc.numpy(),bins=50,range=(1,2),density=True,alpha=0.75)\n",
    "\n",
    "plt.axvline(1.5,c='C1')\n",
    "plt.xlabel('alpha')\n",
    "plt.ylabel('posterior probability')\n",
    "plt.show()"
   ]
  }
 ],
 "metadata": {
  "kernelspec": {
   "display_name": "Python 3 (ipykernel)",
   "language": "python",
   "name": "python3"
  },
  "language_info": {
   "codemirror_mode": {
    "name": "ipython",
    "version": 3
   },
   "file_extension": ".py",
   "mimetype": "text/x-python",
   "name": "python",
   "nbconvert_exporter": "python",
   "pygments_lexer": "ipython3",
   "version": "3.8.16"
  }
 },
 "nbformat": 4,
 "nbformat_minor": 5
}
