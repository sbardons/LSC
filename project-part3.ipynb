{
 "cells": [
  {
   "cell_type": "code",
   "execution_count": 48,
   "id": "48cba834",
   "metadata": {},
   "outputs": [],
   "source": [
    "#Imports and settings\n",
    "\n",
    "import numpy as np\n",
    "import pandas as pd\n",
    "import itertools\n",
    "import matplotlib.pyplot as plt\n",
    "import seaborn as sns\n",
    "import sys\n",
    "\n",
    "import tensorflow as tf\n",
    "import tensorflow_addons as tfa\n",
    "from tqdm.notebook import tqdm\n",
    "\n",
    "\n",
    "from sklearn.model_selection import train_test_split\n",
    "\n",
    "np.set_printoptions(suppress=True)"
   ]
  },
  {
   "cell_type": "code",
   "execution_count": 36,
   "id": "bc50ac1f-b81d-472c-8c1b-d8867dc1f33b",
   "metadata": {},
   "outputs": [
    {
     "name": "stdout",
     "output_type": "stream",
     "text": [
      "(7352,)\n",
      "(2947,)\n"
     ]
    }
   ],
   "source": [
    "# load the features and labels (subtract 1 as the labels aren't indexed from 0)\n",
    "ytest = np.loadtxt('/home/jovyan/datasets/UCI_HAR_DATASET/test/y_test.txt')-1\n",
    "ytrain = np.loadtxt('/home/jovyan/datasets/UCI_HAR_DATASET/train/y_train.txt')-1\n",
    "\n",
    "print(ytrain.shape)\n",
    "print(ytest.shape)"
   ]
  },
  {
   "cell_type": "code",
   "execution_count": 62,
   "id": "84e7692e-386f-4b4e-ade7-842e10fa93fc",
   "metadata": {},
   "outputs": [
    {
     "name": "stdout",
     "output_type": "stream",
     "text": [
      "(2947, 128)\n",
      "(2947, 128)\n"
     ]
    }
   ],
   "source": [
    "# load the x,y,z accelerations for the three data streams for each coordinate - test\n",
    "xx=np.loadtxt('/home/jovyan/datasets/UCI_HAR_DATASET/test/Inertial Signals/body_acc_x_test.txt')\n",
    "yy=np.loadtxt('/home/jovyan/datasets/UCI_HAR_DATASET/test/Inertial Signals/body_acc_y_test.txt')\n",
    "zz=np.loadtxt('/home/jovyan/datasets/UCI_HAR_DATASET/test/Inertial Signals/body_acc_z_test.txt')\n",
    "xxt=np.loadtxt('/home/jovyan/datasets/UCI_HAR_DATASET/test/Inertial Signals/total_acc_x_test.txt')\n",
    "yyt=np.loadtxt('/home/jovyan/datasets/UCI_HAR_DATASET/test/Inertial Signals/total_acc_y_test.txt')\n",
    "zzt=np.loadtxt('/home/jovyan/datasets/UCI_HAR_DATASET/test/Inertial Signals/total_acc_z_test.txt')\n",
    "xxg=np.loadtxt('/home/jovyan/datasets/UCI_HAR_DATASET/test/Inertial Signals/body_gyro_x_test.txt')\n",
    "yyg=np.loadtxt('/home/jovyan/datasets/UCI_HAR_DATASET/test/Inertial Signals/body_gyro_y_test.txt')\n",
    "zzg=np.loadtxt('/home/jovyan/datasets/UCI_HAR_DATASET/test/Inertial Signals/body_gyro_z_test.txt')\n",
    "print(xx.shape)\n",
    "print(xxg.shape)"
   ]
  },
  {
   "cell_type": "code",
   "execution_count": 38,
   "id": "faa4774a",
   "metadata": {},
   "outputs": [],
   "source": [
    "# concatenate into a single (n,128,9) array\n",
    "xtest = np.concatenate((xx[:,:,None],yy[:,:,None],zz[:,:,None],\n",
    "                        xxt[:,:,None],yyt[:,:,None],zzt[:,:,None],\n",
    "                        xxg[:,:,None],yyg[:,:,None],zzg[:,:,None]),axis=2)"
   ]
  },
  {
   "cell_type": "code",
   "execution_count": 59,
   "id": "57a0a17f-4f58-4f49-a1c3-8c95e300ba9f",
   "metadata": {},
   "outputs": [
    {
     "name": "stdout",
     "output_type": "stream",
     "text": [
      "(7352, 128)\n"
     ]
    }
   ],
   "source": [
    "# load the x,y,z accelerations for the three data streams for each coordinate - train\n",
    "\n",
    "xx_t=np.loadtxt('/home/jovyan/datasets/UCI_HAR_DATASET/train/Inertial Signals/body_acc_x_train.txt')\n",
    "yy_t=np.loadtxt('/home/jovyan/datasets/UCI_HAR_DATASET/train/Inertial Signals/body_acc_y_train.txt')\n",
    "zz_t=np.loadtxt('/home/jovyan/datasets/UCI_HAR_DATASET/train/Inertial Signals/body_acc_z_train.txt')\n",
    "xxt_t=np.loadtxt('/home/jovyan/datasets/UCI_HAR_DATASET/train/Inertial Signals/total_acc_x_train.txt')\n",
    "yyt_t=np.loadtxt('/home/jovyan/datasets/UCI_HAR_DATASET/train/Inertial Signals/total_acc_y_train.txt')\n",
    "zzt_t=np.loadtxt('/home/jovyan/datasets/UCI_HAR_DATASET/train/Inertial Signals/total_acc_z_train.txt')\n",
    "xxg_t=np.loadtxt('/home/jovyan/datasets/UCI_HAR_DATASET/train/Inertial Signals/body_gyro_x_train.txt')\n",
    "yyg_t=np.loadtxt('/home/jovyan/datasets/UCI_HAR_DATASET/train/Inertial Signals/body_gyro_y_train.txt')\n",
    "zzg_t=np.loadtxt('/home/jovyan/datasets/UCI_HAR_DATASET/train/Inertial Signals/body_gyro_z_train.txt')"
   ]
  },
  {
   "cell_type": "code",
   "execution_count": 40,
   "id": "63dacdef-753a-459d-90fe-a4b63069bdf0",
   "metadata": {},
   "outputs": [],
   "source": [
    "# concatenate into a single (n,128,9) array\n",
    "xtrain = np.concatenate((xx_t[:,:,None],yy_t[:,:,None],zz_t[:,:,None],\n",
    "                        xxt_t[:,:,None],yyt_t[:,:,None],zzt_t[:,:,None],\n",
    "                        xxg_t[:,:,None],yyg_t[:,:,None],zzg_t[:,:,None]),axis=2)"
   ]
  },
  {
   "cell_type": "code",
   "execution_count": 41,
   "id": "2ecc5859-ebd3-463c-bc8f-36e6b5244ff4",
   "metadata": {},
   "outputs": [
    {
     "name": "stdout",
     "output_type": "stream",
     "text": [
      "(7352, 128, 9)\n",
      "(7352,)\n",
      "(2947, 128, 9)\n",
      "(2947,)\n"
     ]
    }
   ],
   "source": [
    "print(xtrain.shape)\n",
    "print(ytrain.shape)\n",
    "print(xtest.shape)\n",
    "print(ytest.shape)\n"
   ]
  },
  {
   "cell_type": "code",
   "execution_count": 18,
   "id": "7f76d1b5-07f3-41af-a3c9-e1e1e96d99cb",
   "metadata": {},
   "outputs": [
    {
     "name": "stdout",
     "output_type": "stream",
     "text": [
      "(1471, 128, 9)\n",
      "(2947, 128, 9)\n",
      "(5881, 6)\n",
      "(1471, 6)\n"
     ]
    }
   ],
   "source": [
    "x_input, x_val, y_input, y_val = train_test_split(xtrain, ytrain, test_size=0.2, random_state=10)\n",
    "\n",
    "#one-hot encoding for labels\n",
    "y_input = tf.keras.utils.to_categorical(y_input)\n",
    "y_val = tf.keras.utils.to_categorical(y_val)\n",
    "\n",
    "x_input = tf.convert_to_tensor(x_input, tf.float32)\n",
    "x_val = tf.convert_to_tensor(x_val, tf.float32)\n",
    "y_input = tf.convert_to_tensor(y_input, tf.float32)\n",
    "y_val = tf.convert_to_tensor(y_val, tf.float32)\n",
    "print(x_val.shape)\n",
    "print(xtest.shape)\n",
    "print(y_input.shape)\n",
    "print(y_val.shape)"
   ]
  },
  {
   "cell_type": "markdown",
   "id": "4aab3f69-0cdd-4683-94b2-fb9211a04d67",
   "metadata": {},
   "source": [
    "# Part 3\n",
    "### Using the best architecture from part 2, we have extra dimensions"
   ]
  },
  {
   "cell_type": "code",
   "execution_count": 19,
   "id": "ca00d51d-af82-4459-8662-fdff4be8e3ad",
   "metadata": {},
   "outputs": [],
   "source": [
    "#tensorboad set up\n",
    "logdir = '/home/jovyan/logs/Project/Part3'"
   ]
  },
  {
   "cell_type": "code",
   "execution_count": 20,
   "id": "8a57205e",
   "metadata": {},
   "outputs": [
    {
     "name": "stdout",
     "output_type": "stream",
     "text": [
      "Model: \"model_1\"\n",
      "_________________________________________________________________\n",
      " Layer (type)                Output Shape              Param #   \n",
      "=================================================================\n",
      " input_3 (InputLayer)        [(None, 128, 9)]          0         \n",
      "                                                                 \n",
      " conv1d_2 (Conv1D)           (None, 113, 128)          18560     \n",
      "                                                                 \n",
      " batch_normalization_2 (Batc  (None, 113, 128)         512       \n",
      " hNormalization)                                                 \n",
      "                                                                 \n",
      " dense_4 (Dense)             (None, 113, 64)           8256      \n",
      "                                                                 \n",
      " global_average_pooling1d_2   (None, 64)               0         \n",
      " (GlobalAveragePooling1D)                                        \n",
      "                                                                 \n",
      " dense_5 (Dense)             (None, 6)                 390       \n",
      "                                                                 \n",
      "=================================================================\n",
      "Total params: 27,718\n",
      "Trainable params: 27,462\n",
      "Non-trainable params: 256\n",
      "_________________________________________________________________\n"
     ]
    }
   ],
   "source": [
    "# Keras API model\n",
    "\n",
    "#We create the input layer and combine with further dense layers,\n",
    "input_layer = tf.keras.Input(shape=(128, 9))\n",
    "output_layer = tf.keras.layers.Conv1D(filters=128, kernel_size=16)(input_layer)\n",
    "output_layer = tf.keras.layers.BatchNormalization()(output_layer)\n",
    "output_layer = tf.keras.layers.Dense(64, activation='relu')(output_layer)\n",
    "output_layer = tf.keras.layers.GlobalAveragePooling1D()(output_layer)\n",
    "\n",
    "# # Add a softmax layer with  output units:\n",
    "output_layer = tf.keras.layers.Dense(6, activation='softmax')(output_layer)\n",
    "\n",
    "model = tf.keras.Model(inputs=input_layer,outputs=output_layer)\n",
    "\n",
    "model.summary()"
   ]
  },
  {
   "cell_type": "code",
   "execution_count": 21,
   "id": "1ef3ea24",
   "metadata": {},
   "outputs": [],
   "source": [
    "# Compile model\n",
    "\n",
    "# Callbacks\n",
    "tensorboard_callback = tf.keras.callbacks.TensorBoard(log_dir=logdir)\n",
    "# create a callback that will stop training if the validation loss hasn't improved for 2 epochs\n",
    "early_stopping_callbacks = [tf.keras.callbacks.EarlyStopping(monitor='val_loss', patience=30)]\n",
    "# initialize tqdm callback with default parameters\n",
    "tqdm_callback = tfa.callbacks.TQDMProgressBar()\n",
    "\n",
    "\n",
    "#The compilation and training then proceeds as per the sequential model,\n",
    "model.compile(optimizer=tf.keras.optimizers.Adam(0.001),\n",
    "        loss='categorical_crossentropy', metrics=['accuracy'])\n"
   ]
  },
  {
   "cell_type": "code",
   "execution_count": 22,
   "id": "0cab3c1b",
   "metadata": {},
   "outputs": [
    {
     "data": {
      "application/vnd.jupyter.widget-view+json": {
       "model_id": "3f0d4029e1b74191845ab00942570181",
       "version_major": 2,
       "version_minor": 0
      },
      "text/plain": [
       "Training:   0%|           0/200 ETA: ?s,  ?epochs/s"
      ]
     },
     "metadata": {},
     "output_type": "display_data"
    },
    {
     "name": "stdout",
     "output_type": "stream",
     "text": [
      "Epoch 1/200\n"
     ]
    },
    {
     "data": {
      "application/vnd.jupyter.widget-view+json": {
       "model_id": "8ae20805b11f495d8f717b489c9f2931",
       "version_major": 2,
       "version_minor": 0
      },
      "text/plain": [
       "0/46           ETA: ?s - "
      ]
     },
     "metadata": {},
     "output_type": "display_data"
    },
    {
     "name": "stdout",
     "output_type": "stream",
     "text": [
      "Epoch 1/200\n",
      " 6/46 [==>...........................] - ETA: 0s - loss: 1.3985 - accuracy: 0.4414 WARNING:tensorflow:Callback method `on_train_batch_end` is slow compared to the batch time (batch time: 0.0053s vs `on_train_batch_end` time: 0.0075s). Check your callbacks.\n",
      "46/46 [==============================] - 1s 16ms/step - loss: 0.6483 - accuracy: 0.8249 - val_loss: 1.5235 - val_accuracy: 0.3379\n",
      "Epoch 2/200\n"
     ]
    },
    {
     "data": {
      "application/vnd.jupyter.widget-view+json": {
       "model_id": "088f7467b75d4180ac2fcc6076a9fe2b",
       "version_major": 2,
       "version_minor": 0
      },
      "text/plain": [
       "0/46           ETA: ?s - "
      ]
     },
     "metadata": {},
     "output_type": "display_data"
    },
    {
     "name": "stdout",
     "output_type": "stream",
     "text": [
      "Epoch 2/200\n",
      "46/46 [==============================] - 1s 11ms/step - loss: 0.2415 - accuracy: 0.9356 - val_loss: 1.1921 - val_accuracy: 0.4514\n",
      "Epoch 3/200\n"
     ]
    },
    {
     "data": {
      "application/vnd.jupyter.widget-view+json": {
       "model_id": "37a7be2d215f47519d88e1d70024b77b",
       "version_major": 2,
       "version_minor": 0
      },
      "text/plain": [
       "0/46           ETA: ?s - "
      ]
     },
     "metadata": {},
     "output_type": "display_data"
    },
    {
     "name": "stdout",
     "output_type": "stream",
     "text": [
      "Epoch 3/200\n",
      "46/46 [==============================] - 0s 10ms/step - loss: 0.1816 - accuracy: 0.9427 - val_loss: 0.8021 - val_accuracy: 0.7158\n",
      "Epoch 4/200\n"
     ]
    },
    {
     "data": {
      "application/vnd.jupyter.widget-view+json": {
       "model_id": "f7f0ede2c86841f9857bba75e529dd4c",
       "version_major": 2,
       "version_minor": 0
      },
      "text/plain": [
       "0/46           ETA: ?s - "
      ]
     },
     "metadata": {},
     "output_type": "display_data"
    },
    {
     "name": "stdout",
     "output_type": "stream",
     "text": [
      "Epoch 4/200\n",
      "46/46 [==============================] - 0s 10ms/step - loss: 0.1503 - accuracy: 0.9488 - val_loss: 0.5022 - val_accuracy: 0.8980\n",
      "Epoch 5/200\n"
     ]
    },
    {
     "data": {
      "application/vnd.jupyter.widget-view+json": {
       "model_id": "2071c038a9384652ae55e94d3275a48f",
       "version_major": 2,
       "version_minor": 0
      },
      "text/plain": [
       "0/46           ETA: ?s - "
      ]
     },
     "metadata": {},
     "output_type": "display_data"
    },
    {
     "name": "stdout",
     "output_type": "stream",
     "text": [
      "Epoch 5/200\n",
      "46/46 [==============================] - 0s 10ms/step - loss: 0.1384 - accuracy: 0.9495 - val_loss: 0.3512 - val_accuracy: 0.9279\n",
      "Epoch 6/200\n"
     ]
    },
    {
     "data": {
      "application/vnd.jupyter.widget-view+json": {
       "model_id": "e8ebb1e66e2a47058e5bad1d8c73152e",
       "version_major": 2,
       "version_minor": 0
      },
      "text/plain": [
       "0/46           ETA: ?s - "
      ]
     },
     "metadata": {},
     "output_type": "display_data"
    },
    {
     "name": "stdout",
     "output_type": "stream",
     "text": [
      "Epoch 6/200\n",
      "46/46 [==============================] - 0s 10ms/step - loss: 0.1316 - accuracy: 0.9526 - val_loss: 0.2229 - val_accuracy: 0.9558\n",
      "Epoch 7/200\n"
     ]
    },
    {
     "data": {
      "application/vnd.jupyter.widget-view+json": {
       "model_id": "34685f3eeab548dd97aa8e522337765c",
       "version_major": 2,
       "version_minor": 0
      },
      "text/plain": [
       "0/46           ETA: ?s - "
      ]
     },
     "metadata": {},
     "output_type": "display_data"
    },
    {
     "name": "stdout",
     "output_type": "stream",
     "text": [
      "Epoch 7/200\n",
      "46/46 [==============================] - 0s 10ms/step - loss: 0.1240 - accuracy: 0.9563 - val_loss: 0.1777 - val_accuracy: 0.9463\n",
      "Epoch 8/200\n"
     ]
    },
    {
     "data": {
      "application/vnd.jupyter.widget-view+json": {
       "model_id": "e621cdacca6d4f30a3c0e6a0be0e870b",
       "version_major": 2,
       "version_minor": 0
      },
      "text/plain": [
       "0/46           ETA: ?s - "
      ]
     },
     "metadata": {},
     "output_type": "display_data"
    },
    {
     "name": "stdout",
     "output_type": "stream",
     "text": [
      "Epoch 8/200\n",
      "46/46 [==============================] - 0s 10ms/step - loss: 0.1238 - accuracy: 0.9534 - val_loss: 0.1694 - val_accuracy: 0.9381\n",
      "Epoch 9/200\n"
     ]
    },
    {
     "data": {
      "application/vnd.jupyter.widget-view+json": {
       "model_id": "95b8f1870bdf44b6bb916a0492a2050e",
       "version_major": 2,
       "version_minor": 0
      },
      "text/plain": [
       "0/46           ETA: ?s - "
      ]
     },
     "metadata": {},
     "output_type": "display_data"
    },
    {
     "name": "stdout",
     "output_type": "stream",
     "text": [
      "Epoch 9/200\n",
      "46/46 [==============================] - 0s 10ms/step - loss: 0.1178 - accuracy: 0.9522 - val_loss: 0.1292 - val_accuracy: 0.9538\n",
      "Epoch 10/200\n"
     ]
    },
    {
     "data": {
      "application/vnd.jupyter.widget-view+json": {
       "model_id": "625b53d070704b7e8c1057740b4f95bb",
       "version_major": 2,
       "version_minor": 0
      },
      "text/plain": [
       "0/46           ETA: ?s - "
      ]
     },
     "metadata": {},
     "output_type": "display_data"
    },
    {
     "name": "stdout",
     "output_type": "stream",
     "text": [
      "Epoch 10/200\n",
      "46/46 [==============================] - 0s 10ms/step - loss: 0.1162 - accuracy: 0.9537 - val_loss: 0.1232 - val_accuracy: 0.9511\n",
      "Epoch 11/200\n"
     ]
    },
    {
     "data": {
      "application/vnd.jupyter.widget-view+json": {
       "model_id": "2e5514b79d444b4a94ef716fc5b30afa",
       "version_major": 2,
       "version_minor": 0
      },
      "text/plain": [
       "0/46           ETA: ?s - "
      ]
     },
     "metadata": {},
     "output_type": "display_data"
    },
    {
     "name": "stdout",
     "output_type": "stream",
     "text": [
      "Epoch 11/200\n",
      "46/46 [==============================] - 0s 10ms/step - loss: 0.1113 - accuracy: 0.9522 - val_loss: 0.1848 - val_accuracy: 0.9171\n",
      "Epoch 12/200\n"
     ]
    },
    {
     "data": {
      "application/vnd.jupyter.widget-view+json": {
       "model_id": "44679af5ffc74a0eacd315f2fc682a98",
       "version_major": 2,
       "version_minor": 0
      },
      "text/plain": [
       "0/46           ETA: ?s - "
      ]
     },
     "metadata": {},
     "output_type": "display_data"
    },
    {
     "name": "stdout",
     "output_type": "stream",
     "text": [
      "Epoch 12/200\n",
      "46/46 [==============================] - 0s 10ms/step - loss: 0.1121 - accuracy: 0.9577 - val_loss: 0.1331 - val_accuracy: 0.9429\n",
      "Epoch 13/200\n"
     ]
    },
    {
     "data": {
      "application/vnd.jupyter.widget-view+json": {
       "model_id": "71c5262defc74d6d8880c3e9060cf78a",
       "version_major": 2,
       "version_minor": 0
      },
      "text/plain": [
       "0/46           ETA: ?s - "
      ]
     },
     "metadata": {},
     "output_type": "display_data"
    },
    {
     "name": "stdout",
     "output_type": "stream",
     "text": [
      "Epoch 13/200\n",
      "46/46 [==============================] - 0s 10ms/step - loss: 0.1134 - accuracy: 0.9520 - val_loss: 0.1202 - val_accuracy: 0.9490\n",
      "Epoch 14/200\n"
     ]
    },
    {
     "data": {
      "application/vnd.jupyter.widget-view+json": {
       "model_id": "d8d2c3de5462499d9040dcd8f19c6406",
       "version_major": 2,
       "version_minor": 0
      },
      "text/plain": [
       "0/46           ETA: ?s - "
      ]
     },
     "metadata": {},
     "output_type": "display_data"
    },
    {
     "name": "stdout",
     "output_type": "stream",
     "text": [
      "Epoch 14/200\n",
      "46/46 [==============================] - 0s 10ms/step - loss: 0.1080 - accuracy: 0.9548 - val_loss: 0.1114 - val_accuracy: 0.9517\n",
      "Epoch 15/200\n"
     ]
    },
    {
     "data": {
      "application/vnd.jupyter.widget-view+json": {
       "model_id": "33cc9cdd71064f0881f6f9a06ab2a056",
       "version_major": 2,
       "version_minor": 0
      },
      "text/plain": [
       "0/46           ETA: ?s - "
      ]
     },
     "metadata": {},
     "output_type": "display_data"
    },
    {
     "name": "stdout",
     "output_type": "stream",
     "text": [
      "Epoch 15/200\n",
      "46/46 [==============================] - 0s 10ms/step - loss: 0.1068 - accuracy: 0.9568 - val_loss: 0.1130 - val_accuracy: 0.9565\n",
      "Epoch 16/200\n"
     ]
    },
    {
     "data": {
      "application/vnd.jupyter.widget-view+json": {
       "model_id": "7f1a3724f4f94948a3f0a33d300c8c6a",
       "version_major": 2,
       "version_minor": 0
      },
      "text/plain": [
       "0/46           ETA: ?s - "
      ]
     },
     "metadata": {},
     "output_type": "display_data"
    },
    {
     "name": "stdout",
     "output_type": "stream",
     "text": [
      "Epoch 16/200\n",
      "46/46 [==============================] - 0s 10ms/step - loss: 0.1045 - accuracy: 0.9548 - val_loss: 0.1117 - val_accuracy: 0.9524\n",
      "Epoch 17/200\n"
     ]
    },
    {
     "data": {
      "application/vnd.jupyter.widget-view+json": {
       "model_id": "12ddd10fe6e0466db810c85a1e824cf8",
       "version_major": 2,
       "version_minor": 0
      },
      "text/plain": [
       "0/46           ETA: ?s - "
      ]
     },
     "metadata": {},
     "output_type": "display_data"
    },
    {
     "name": "stdout",
     "output_type": "stream",
     "text": [
      "Epoch 17/200\n",
      "46/46 [==============================] - 0s 10ms/step - loss: 0.1032 - accuracy: 0.9553 - val_loss: 0.1542 - val_accuracy: 0.9341\n",
      "Epoch 18/200\n"
     ]
    },
    {
     "data": {
      "application/vnd.jupyter.widget-view+json": {
       "model_id": "743c658a0939478281326664a3189cb2",
       "version_major": 2,
       "version_minor": 0
      },
      "text/plain": [
       "0/46           ETA: ?s - "
      ]
     },
     "metadata": {},
     "output_type": "display_data"
    },
    {
     "name": "stdout",
     "output_type": "stream",
     "text": [
      "Epoch 18/200\n",
      "46/46 [==============================] - 0s 10ms/step - loss: 0.1005 - accuracy: 0.9592 - val_loss: 0.1309 - val_accuracy: 0.9477\n",
      "Epoch 19/200\n"
     ]
    },
    {
     "data": {
      "application/vnd.jupyter.widget-view+json": {
       "model_id": "31084e998ea44f5ea5a24f38bf14e80c",
       "version_major": 2,
       "version_minor": 0
      },
      "text/plain": [
       "0/46           ETA: ?s - "
      ]
     },
     "metadata": {},
     "output_type": "display_data"
    },
    {
     "name": "stdout",
     "output_type": "stream",
     "text": [
      "Epoch 19/200\n",
      "46/46 [==============================] - 0s 10ms/step - loss: 0.1050 - accuracy: 0.9556 - val_loss: 0.1756 - val_accuracy: 0.9245\n",
      "Epoch 20/200\n"
     ]
    },
    {
     "data": {
      "application/vnd.jupyter.widget-view+json": {
       "model_id": "bedc1552cdbd4fcc93ac44c8c7875c32",
       "version_major": 2,
       "version_minor": 0
      },
      "text/plain": [
       "0/46           ETA: ?s - "
      ]
     },
     "metadata": {},
     "output_type": "display_data"
    },
    {
     "name": "stdout",
     "output_type": "stream",
     "text": [
      "Epoch 20/200\n",
      "46/46 [==============================] - 0s 10ms/step - loss: 0.0991 - accuracy: 0.9572 - val_loss: 0.1036 - val_accuracy: 0.9565\n",
      "Epoch 21/200\n"
     ]
    },
    {
     "data": {
      "application/vnd.jupyter.widget-view+json": {
       "model_id": "2d359a364d044b71812e5b8e9d3601e2",
       "version_major": 2,
       "version_minor": 0
      },
      "text/plain": [
       "0/46           ETA: ?s - "
      ]
     },
     "metadata": {},
     "output_type": "display_data"
    },
    {
     "name": "stdout",
     "output_type": "stream",
     "text": [
      "Epoch 21/200\n",
      "46/46 [==============================] - 0s 10ms/step - loss: 0.0988 - accuracy: 0.9563 - val_loss: 0.1081 - val_accuracy: 0.9531\n",
      "Epoch 22/200\n"
     ]
    },
    {
     "data": {
      "application/vnd.jupyter.widget-view+json": {
       "model_id": "16eaa31819d54fbfbdfb41aec89bb434",
       "version_major": 2,
       "version_minor": 0
      },
      "text/plain": [
       "0/46           ETA: ?s - "
      ]
     },
     "metadata": {},
     "output_type": "display_data"
    },
    {
     "name": "stdout",
     "output_type": "stream",
     "text": [
      "Epoch 22/200\n",
      "46/46 [==============================] - 0s 10ms/step - loss: 0.0999 - accuracy: 0.9566 - val_loss: 0.1285 - val_accuracy: 0.9511\n",
      "Epoch 23/200\n"
     ]
    },
    {
     "data": {
      "application/vnd.jupyter.widget-view+json": {
       "model_id": "3f8c1796e593412691a74fff7b2d455d",
       "version_major": 2,
       "version_minor": 0
      },
      "text/plain": [
       "0/46           ETA: ?s - "
      ]
     },
     "metadata": {},
     "output_type": "display_data"
    },
    {
     "name": "stdout",
     "output_type": "stream",
     "text": [
      "Epoch 23/200\n",
      "46/46 [==============================] - 0s 10ms/step - loss: 0.0972 - accuracy: 0.9597 - val_loss: 0.1137 - val_accuracy: 0.9517\n",
      "Epoch 24/200\n"
     ]
    },
    {
     "data": {
      "application/vnd.jupyter.widget-view+json": {
       "model_id": "e84e953e819941f596c770a2345eb2db",
       "version_major": 2,
       "version_minor": 0
      },
      "text/plain": [
       "0/46           ETA: ?s - "
      ]
     },
     "metadata": {},
     "output_type": "display_data"
    },
    {
     "name": "stdout",
     "output_type": "stream",
     "text": [
      "Epoch 24/200\n",
      "46/46 [==============================] - 0s 10ms/step - loss: 0.0963 - accuracy: 0.9589 - val_loss: 0.0996 - val_accuracy: 0.9565\n",
      "Epoch 25/200\n"
     ]
    },
    {
     "data": {
      "application/vnd.jupyter.widget-view+json": {
       "model_id": "6ae368efdef64cd2ab7f7b5e3d6c9429",
       "version_major": 2,
       "version_minor": 0
      },
      "text/plain": [
       "0/46           ETA: ?s - "
      ]
     },
     "metadata": {},
     "output_type": "display_data"
    },
    {
     "name": "stdout",
     "output_type": "stream",
     "text": [
      "Epoch 25/200\n",
      "46/46 [==============================] - 0s 10ms/step - loss: 0.0932 - accuracy: 0.9604 - val_loss: 0.1244 - val_accuracy: 0.9456\n",
      "Epoch 26/200\n"
     ]
    },
    {
     "data": {
      "application/vnd.jupyter.widget-view+json": {
       "model_id": "4c9081d8eadd479c88e623e697d43e99",
       "version_major": 2,
       "version_minor": 0
      },
      "text/plain": [
       "0/46           ETA: ?s - "
      ]
     },
     "metadata": {},
     "output_type": "display_data"
    },
    {
     "name": "stdout",
     "output_type": "stream",
     "text": [
      "Epoch 26/200\n",
      "46/46 [==============================] - 0s 10ms/step - loss: 0.0929 - accuracy: 0.9587 - val_loss: 0.1152 - val_accuracy: 0.9436\n",
      "Epoch 27/200\n"
     ]
    },
    {
     "data": {
      "application/vnd.jupyter.widget-view+json": {
       "model_id": "d70919dca71f4971aa47600e1b6547c8",
       "version_major": 2,
       "version_minor": 0
      },
      "text/plain": [
       "0/46           ETA: ?s - "
      ]
     },
     "metadata": {},
     "output_type": "display_data"
    },
    {
     "name": "stdout",
     "output_type": "stream",
     "text": [
      "Epoch 27/200\n",
      "46/46 [==============================] - 0s 10ms/step - loss: 0.0895 - accuracy: 0.9609 - val_loss: 0.0952 - val_accuracy: 0.9626\n",
      "Epoch 28/200\n"
     ]
    },
    {
     "data": {
      "application/vnd.jupyter.widget-view+json": {
       "model_id": "1165ed7e2b6b422babcdaac4cd8b21dd",
       "version_major": 2,
       "version_minor": 0
      },
      "text/plain": [
       "0/46           ETA: ?s - "
      ]
     },
     "metadata": {},
     "output_type": "display_data"
    },
    {
     "name": "stdout",
     "output_type": "stream",
     "text": [
      "Epoch 28/200\n",
      "46/46 [==============================] - 0s 10ms/step - loss: 0.0884 - accuracy: 0.9607 - val_loss: 0.1223 - val_accuracy: 0.9477\n",
      "Epoch 29/200\n"
     ]
    },
    {
     "data": {
      "application/vnd.jupyter.widget-view+json": {
       "model_id": "9f7ce99091054e1c8b12f659f14bf7f5",
       "version_major": 2,
       "version_minor": 0
      },
      "text/plain": [
       "0/46           ETA: ?s - "
      ]
     },
     "metadata": {},
     "output_type": "display_data"
    },
    {
     "name": "stdout",
     "output_type": "stream",
     "text": [
      "Epoch 29/200\n",
      "46/46 [==============================] - 0s 10ms/step - loss: 0.0884 - accuracy: 0.9612 - val_loss: 0.0970 - val_accuracy: 0.9524\n",
      "Epoch 30/200\n"
     ]
    },
    {
     "data": {
      "application/vnd.jupyter.widget-view+json": {
       "model_id": "0a5d384d01ec496cad14634caab6b558",
       "version_major": 2,
       "version_minor": 0
      },
      "text/plain": [
       "0/46           ETA: ?s - "
      ]
     },
     "metadata": {},
     "output_type": "display_data"
    },
    {
     "name": "stdout",
     "output_type": "stream",
     "text": [
      "Epoch 30/200\n",
      "46/46 [==============================] - 0s 10ms/step - loss: 0.0882 - accuracy: 0.9617 - val_loss: 0.1029 - val_accuracy: 0.9531\n",
      "Epoch 31/200\n"
     ]
    },
    {
     "data": {
      "application/vnd.jupyter.widget-view+json": {
       "model_id": "7779e457db6342ae8a9cb89565ec8d81",
       "version_major": 2,
       "version_minor": 0
      },
      "text/plain": [
       "0/46           ETA: ?s - "
      ]
     },
     "metadata": {},
     "output_type": "display_data"
    },
    {
     "name": "stdout",
     "output_type": "stream",
     "text": [
      "Epoch 31/200\n",
      "46/46 [==============================] - 0s 10ms/step - loss: 0.0901 - accuracy: 0.9599 - val_loss: 0.1084 - val_accuracy: 0.9599\n",
      "Epoch 32/200\n"
     ]
    },
    {
     "data": {
      "application/vnd.jupyter.widget-view+json": {
       "model_id": "3e81d30d487a4458be1ca06379e3aaa1",
       "version_major": 2,
       "version_minor": 0
      },
      "text/plain": [
       "0/46           ETA: ?s - "
      ]
     },
     "metadata": {},
     "output_type": "display_data"
    },
    {
     "name": "stdout",
     "output_type": "stream",
     "text": [
      "Epoch 32/200\n",
      "46/46 [==============================] - 0s 10ms/step - loss: 0.0859 - accuracy: 0.9653 - val_loss: 0.0999 - val_accuracy: 0.9606\n",
      "Epoch 33/200\n"
     ]
    },
    {
     "data": {
      "application/vnd.jupyter.widget-view+json": {
       "model_id": "67af2eeaded64fc2aadf90994319e9a9",
       "version_major": 2,
       "version_minor": 0
      },
      "text/plain": [
       "0/46           ETA: ?s - "
      ]
     },
     "metadata": {},
     "output_type": "display_data"
    },
    {
     "name": "stdout",
     "output_type": "stream",
     "text": [
      "Epoch 33/200\n",
      "46/46 [==============================] - 0s 10ms/step - loss: 0.0862 - accuracy: 0.9634 - val_loss: 0.1035 - val_accuracy: 0.9545\n",
      "Epoch 34/200\n"
     ]
    },
    {
     "data": {
      "application/vnd.jupyter.widget-view+json": {
       "model_id": "3a194513127e45c996f3f95d676d8112",
       "version_major": 2,
       "version_minor": 0
      },
      "text/plain": [
       "0/46           ETA: ?s - "
      ]
     },
     "metadata": {},
     "output_type": "display_data"
    },
    {
     "name": "stdout",
     "output_type": "stream",
     "text": [
      "Epoch 34/200\n",
      "46/46 [==============================] - 0s 10ms/step - loss: 0.0825 - accuracy: 0.9650 - val_loss: 0.1019 - val_accuracy: 0.9545\n",
      "Epoch 35/200\n"
     ]
    },
    {
     "data": {
      "application/vnd.jupyter.widget-view+json": {
       "model_id": "c697d8b0200b409b9c2da817ece1b537",
       "version_major": 2,
       "version_minor": 0
      },
      "text/plain": [
       "0/46           ETA: ?s - "
      ]
     },
     "metadata": {},
     "output_type": "display_data"
    },
    {
     "name": "stdout",
     "output_type": "stream",
     "text": [
      "Epoch 35/200\n",
      "46/46 [==============================] - 0s 10ms/step - loss: 0.0846 - accuracy: 0.9645 - val_loss: 0.0996 - val_accuracy: 0.9606\n",
      "Epoch 36/200\n"
     ]
    },
    {
     "data": {
      "application/vnd.jupyter.widget-view+json": {
       "model_id": "4b7f45b13b9b47c98b878342edfb0fc4",
       "version_major": 2,
       "version_minor": 0
      },
      "text/plain": [
       "0/46           ETA: ?s - "
      ]
     },
     "metadata": {},
     "output_type": "display_data"
    },
    {
     "name": "stdout",
     "output_type": "stream",
     "text": [
      "Epoch 36/200\n",
      "46/46 [==============================] - 0s 10ms/step - loss: 0.0835 - accuracy: 0.9641 - val_loss: 0.0864 - val_accuracy: 0.9613\n",
      "Epoch 37/200\n"
     ]
    },
    {
     "data": {
      "application/vnd.jupyter.widget-view+json": {
       "model_id": "b71e18f057d841d2b54767550c254214",
       "version_major": 2,
       "version_minor": 0
      },
      "text/plain": [
       "0/46           ETA: ?s - "
      ]
     },
     "metadata": {},
     "output_type": "display_data"
    },
    {
     "name": "stdout",
     "output_type": "stream",
     "text": [
      "Epoch 37/200\n",
      "46/46 [==============================] - 0s 10ms/step - loss: 0.0878 - accuracy: 0.9604 - val_loss: 0.1344 - val_accuracy: 0.9388\n",
      "Epoch 38/200\n"
     ]
    },
    {
     "data": {
      "application/vnd.jupyter.widget-view+json": {
       "model_id": "3d4b81bce5834b9cb76702ad44a867be",
       "version_major": 2,
       "version_minor": 0
      },
      "text/plain": [
       "0/46           ETA: ?s - "
      ]
     },
     "metadata": {},
     "output_type": "display_data"
    },
    {
     "name": "stdout",
     "output_type": "stream",
     "text": [
      "Epoch 38/200\n",
      "46/46 [==============================] - 0s 10ms/step - loss: 0.0826 - accuracy: 0.9646 - val_loss: 0.2093 - val_accuracy: 0.9143\n",
      "Epoch 39/200\n"
     ]
    },
    {
     "data": {
      "application/vnd.jupyter.widget-view+json": {
       "model_id": "24e41f802b774add85ab87629e2228ef",
       "version_major": 2,
       "version_minor": 0
      },
      "text/plain": [
       "0/46           ETA: ?s - "
      ]
     },
     "metadata": {},
     "output_type": "display_data"
    },
    {
     "name": "stdout",
     "output_type": "stream",
     "text": [
      "Epoch 39/200\n",
      "46/46 [==============================] - 0s 10ms/step - loss: 0.0864 - accuracy: 0.9612 - val_loss: 0.0866 - val_accuracy: 0.9599\n",
      "Epoch 40/200\n"
     ]
    },
    {
     "data": {
      "application/vnd.jupyter.widget-view+json": {
       "model_id": "6f3a23745de145e79c051f10a52e6e01",
       "version_major": 2,
       "version_minor": 0
      },
      "text/plain": [
       "0/46           ETA: ?s - "
      ]
     },
     "metadata": {},
     "output_type": "display_data"
    },
    {
     "name": "stdout",
     "output_type": "stream",
     "text": [
      "Epoch 40/200\n",
      "46/46 [==============================] - 0s 10ms/step - loss: 0.0811 - accuracy: 0.9665 - val_loss: 0.1202 - val_accuracy: 0.9517\n",
      "Epoch 41/200\n"
     ]
    },
    {
     "data": {
      "application/vnd.jupyter.widget-view+json": {
       "model_id": "d34bdf10c4de4d70bfad48923a23377d",
       "version_major": 2,
       "version_minor": 0
      },
      "text/plain": [
       "0/46           ETA: ?s - "
      ]
     },
     "metadata": {},
     "output_type": "display_data"
    },
    {
     "name": "stdout",
     "output_type": "stream",
     "text": [
      "Epoch 41/200\n",
      "46/46 [==============================] - 0s 11ms/step - loss: 0.0810 - accuracy: 0.9657 - val_loss: 0.0985 - val_accuracy: 0.9579\n",
      "Epoch 42/200\n"
     ]
    },
    {
     "data": {
      "application/vnd.jupyter.widget-view+json": {
       "model_id": "840b7db142174aaa85cef822e256b58f",
       "version_major": 2,
       "version_minor": 0
      },
      "text/plain": [
       "0/46           ETA: ?s - "
      ]
     },
     "metadata": {},
     "output_type": "display_data"
    },
    {
     "name": "stdout",
     "output_type": "stream",
     "text": [
      "Epoch 42/200\n",
      "46/46 [==============================] - 0s 10ms/step - loss: 0.0746 - accuracy: 0.9675 - val_loss: 0.0878 - val_accuracy: 0.9579\n",
      "Epoch 43/200\n"
     ]
    },
    {
     "data": {
      "application/vnd.jupyter.widget-view+json": {
       "model_id": "470ed0e2ab20485b8ee90c647bd6cde0",
       "version_major": 2,
       "version_minor": 0
      },
      "text/plain": [
       "0/46           ETA: ?s - "
      ]
     },
     "metadata": {},
     "output_type": "display_data"
    },
    {
     "name": "stdout",
     "output_type": "stream",
     "text": [
      "Epoch 43/200\n",
      "46/46 [==============================] - 0s 10ms/step - loss: 0.0761 - accuracy: 0.9657 - val_loss: 0.1822 - val_accuracy: 0.9232\n",
      "Epoch 44/200\n"
     ]
    },
    {
     "data": {
      "application/vnd.jupyter.widget-view+json": {
       "model_id": "343a0150d6e9404198c63c9e14b39178",
       "version_major": 2,
       "version_minor": 0
      },
      "text/plain": [
       "0/46           ETA: ?s - "
      ]
     },
     "metadata": {},
     "output_type": "display_data"
    },
    {
     "name": "stdout",
     "output_type": "stream",
     "text": [
      "Epoch 44/200\n",
      "46/46 [==============================] - 0s 10ms/step - loss: 0.0768 - accuracy: 0.9653 - val_loss: 0.0941 - val_accuracy: 0.9585\n",
      "Epoch 45/200\n"
     ]
    },
    {
     "data": {
      "application/vnd.jupyter.widget-view+json": {
       "model_id": "0e4f17c28df446e190f835b406e2f2e5",
       "version_major": 2,
       "version_minor": 0
      },
      "text/plain": [
       "0/46           ETA: ?s - "
      ]
     },
     "metadata": {},
     "output_type": "display_data"
    },
    {
     "name": "stdout",
     "output_type": "stream",
     "text": [
      "Epoch 45/200\n",
      "46/46 [==============================] - 0s 11ms/step - loss: 0.0825 - accuracy: 0.9648 - val_loss: 0.0969 - val_accuracy: 0.9606\n",
      "Epoch 46/200\n"
     ]
    },
    {
     "data": {
      "application/vnd.jupyter.widget-view+json": {
       "model_id": "454644c57f3a46a484cfdbfd50ff7af2",
       "version_major": 2,
       "version_minor": 0
      },
      "text/plain": [
       "0/46           ETA: ?s - "
      ]
     },
     "metadata": {},
     "output_type": "display_data"
    },
    {
     "name": "stdout",
     "output_type": "stream",
     "text": [
      "Epoch 46/200\n",
      "46/46 [==============================] - 0s 10ms/step - loss: 0.0743 - accuracy: 0.9691 - val_loss: 0.1224 - val_accuracy: 0.9524\n",
      "Epoch 47/200\n"
     ]
    },
    {
     "data": {
      "application/vnd.jupyter.widget-view+json": {
       "model_id": "36c8082e81cd4ed9b941faa3bc0fc28a",
       "version_major": 2,
       "version_minor": 0
      },
      "text/plain": [
       "0/46           ETA: ?s - "
      ]
     },
     "metadata": {},
     "output_type": "display_data"
    },
    {
     "name": "stdout",
     "output_type": "stream",
     "text": [
      "Epoch 47/200\n",
      "46/46 [==============================] - 0s 10ms/step - loss: 0.0741 - accuracy: 0.9684 - val_loss: 0.1089 - val_accuracy: 0.9517\n",
      "Epoch 48/200\n"
     ]
    },
    {
     "data": {
      "application/vnd.jupyter.widget-view+json": {
       "model_id": "26cb107f397d4276b7a6cafdddc59bd4",
       "version_major": 2,
       "version_minor": 0
      },
      "text/plain": [
       "0/46           ETA: ?s - "
      ]
     },
     "metadata": {},
     "output_type": "display_data"
    },
    {
     "name": "stdout",
     "output_type": "stream",
     "text": [
      "Epoch 48/200\n",
      "46/46 [==============================] - 0s 10ms/step - loss: 0.0740 - accuracy: 0.9697 - val_loss: 0.0951 - val_accuracy: 0.9619\n",
      "Epoch 49/200\n"
     ]
    },
    {
     "data": {
      "application/vnd.jupyter.widget-view+json": {
       "model_id": "90788b1c756a4cdf914784a768dd8570",
       "version_major": 2,
       "version_minor": 0
      },
      "text/plain": [
       "0/46           ETA: ?s - "
      ]
     },
     "metadata": {},
     "output_type": "display_data"
    },
    {
     "name": "stdout",
     "output_type": "stream",
     "text": [
      "Epoch 49/200\n",
      "46/46 [==============================] - 0s 10ms/step - loss: 0.0782 - accuracy: 0.9648 - val_loss: 0.0860 - val_accuracy: 0.9619\n",
      "Epoch 50/200\n"
     ]
    },
    {
     "data": {
      "application/vnd.jupyter.widget-view+json": {
       "model_id": "3de7fc0bc6f0403f8b56fb1db20a9cc0",
       "version_major": 2,
       "version_minor": 0
      },
      "text/plain": [
       "0/46           ETA: ?s - "
      ]
     },
     "metadata": {},
     "output_type": "display_data"
    },
    {
     "name": "stdout",
     "output_type": "stream",
     "text": [
      "Epoch 50/200\n",
      "46/46 [==============================] - 0s 10ms/step - loss: 0.0732 - accuracy: 0.9687 - val_loss: 0.0985 - val_accuracy: 0.9599\n",
      "Epoch 51/200\n"
     ]
    },
    {
     "data": {
      "application/vnd.jupyter.widget-view+json": {
       "model_id": "1c329b6530064f59a63bb7b524f41a3c",
       "version_major": 2,
       "version_minor": 0
      },
      "text/plain": [
       "0/46           ETA: ?s - "
      ]
     },
     "metadata": {},
     "output_type": "display_data"
    },
    {
     "name": "stdout",
     "output_type": "stream",
     "text": [
      "Epoch 51/200\n",
      "46/46 [==============================] - 0s 10ms/step - loss: 0.0731 - accuracy: 0.9674 - val_loss: 0.0923 - val_accuracy: 0.9640\n",
      "Epoch 52/200\n"
     ]
    },
    {
     "data": {
      "application/vnd.jupyter.widget-view+json": {
       "model_id": "9f3ad3d748ce4fa184c4767516bc984f",
       "version_major": 2,
       "version_minor": 0
      },
      "text/plain": [
       "0/46           ETA: ?s - "
      ]
     },
     "metadata": {},
     "output_type": "display_data"
    },
    {
     "name": "stdout",
     "output_type": "stream",
     "text": [
      "Epoch 52/200\n",
      "46/46 [==============================] - 0s 10ms/step - loss: 0.0730 - accuracy: 0.9716 - val_loss: 0.0936 - val_accuracy: 0.9613\n",
      "Epoch 53/200\n"
     ]
    },
    {
     "data": {
      "application/vnd.jupyter.widget-view+json": {
       "model_id": "57372bf56fe84d2aa695521592e96dfa",
       "version_major": 2,
       "version_minor": 0
      },
      "text/plain": [
       "0/46           ETA: ?s - "
      ]
     },
     "metadata": {},
     "output_type": "display_data"
    },
    {
     "name": "stdout",
     "output_type": "stream",
     "text": [
      "Epoch 53/200\n",
      "46/46 [==============================] - 0s 10ms/step - loss: 0.0726 - accuracy: 0.9696 - val_loss: 0.0820 - val_accuracy: 0.9660\n",
      "Epoch 54/200\n"
     ]
    },
    {
     "data": {
      "application/vnd.jupyter.widget-view+json": {
       "model_id": "6e601245a8d14255bf959ff9880a2c93",
       "version_major": 2,
       "version_minor": 0
      },
      "text/plain": [
       "0/46           ETA: ?s - "
      ]
     },
     "metadata": {},
     "output_type": "display_data"
    },
    {
     "name": "stdout",
     "output_type": "stream",
     "text": [
      "Epoch 54/200\n",
      "46/46 [==============================] - 0s 10ms/step - loss: 0.0716 - accuracy: 0.9701 - val_loss: 0.0886 - val_accuracy: 0.9592\n",
      "Epoch 55/200\n"
     ]
    },
    {
     "data": {
      "application/vnd.jupyter.widget-view+json": {
       "model_id": "0a271d1fd05242d48daab06628bc7a19",
       "version_major": 2,
       "version_minor": 0
      },
      "text/plain": [
       "0/46           ETA: ?s - "
      ]
     },
     "metadata": {},
     "output_type": "display_data"
    },
    {
     "name": "stdout",
     "output_type": "stream",
     "text": [
      "Epoch 55/200\n",
      "46/46 [==============================] - 0s 10ms/step - loss: 0.0735 - accuracy: 0.9685 - val_loss: 0.0822 - val_accuracy: 0.9640\n",
      "Epoch 56/200\n"
     ]
    },
    {
     "data": {
      "application/vnd.jupyter.widget-view+json": {
       "model_id": "365c3a1f3c8b4acf8db1f4f99bb71841",
       "version_major": 2,
       "version_minor": 0
      },
      "text/plain": [
       "0/46           ETA: ?s - "
      ]
     },
     "metadata": {},
     "output_type": "display_data"
    },
    {
     "name": "stdout",
     "output_type": "stream",
     "text": [
      "Epoch 56/200\n",
      "46/46 [==============================] - 0s 10ms/step - loss: 0.0716 - accuracy: 0.9689 - val_loss: 0.0908 - val_accuracy: 0.9606\n",
      "Epoch 57/200\n"
     ]
    },
    {
     "data": {
      "application/vnd.jupyter.widget-view+json": {
       "model_id": "ca838c1b8a1a40b299da11fa34b8ea22",
       "version_major": 2,
       "version_minor": 0
      },
      "text/plain": [
       "0/46           ETA: ?s - "
      ]
     },
     "metadata": {},
     "output_type": "display_data"
    },
    {
     "name": "stdout",
     "output_type": "stream",
     "text": [
      "Epoch 57/200\n",
      "46/46 [==============================] - 0s 10ms/step - loss: 0.0687 - accuracy: 0.9711 - val_loss: 0.0807 - val_accuracy: 0.9646\n",
      "Epoch 58/200\n"
     ]
    },
    {
     "data": {
      "application/vnd.jupyter.widget-view+json": {
       "model_id": "6f3e848b7e4e4e07a9fe567b3d0d841b",
       "version_major": 2,
       "version_minor": 0
      },
      "text/plain": [
       "0/46           ETA: ?s - "
      ]
     },
     "metadata": {},
     "output_type": "display_data"
    },
    {
     "name": "stdout",
     "output_type": "stream",
     "text": [
      "Epoch 58/200\n",
      "46/46 [==============================] - 0s 10ms/step - loss: 0.0684 - accuracy: 0.9702 - val_loss: 0.0776 - val_accuracy: 0.9592\n",
      "Epoch 59/200\n"
     ]
    },
    {
     "data": {
      "application/vnd.jupyter.widget-view+json": {
       "model_id": "07a9da2adc5c4e708e6b42d45f3b71d3",
       "version_major": 2,
       "version_minor": 0
      },
      "text/plain": [
       "0/46           ETA: ?s - "
      ]
     },
     "metadata": {},
     "output_type": "display_data"
    },
    {
     "name": "stdout",
     "output_type": "stream",
     "text": [
      "Epoch 59/200\n",
      "46/46 [==============================] - 0s 10ms/step - loss: 0.0658 - accuracy: 0.9704 - val_loss: 0.0855 - val_accuracy: 0.9687\n",
      "Epoch 60/200\n"
     ]
    },
    {
     "data": {
      "application/vnd.jupyter.widget-view+json": {
       "model_id": "95e22da2d3604e75886ec6bdd42f105e",
       "version_major": 2,
       "version_minor": 0
      },
      "text/plain": [
       "0/46           ETA: ?s - "
      ]
     },
     "metadata": {},
     "output_type": "display_data"
    },
    {
     "name": "stdout",
     "output_type": "stream",
     "text": [
      "Epoch 60/200\n",
      "46/46 [==============================] - 0s 10ms/step - loss: 0.0690 - accuracy: 0.9697 - val_loss: 0.0755 - val_accuracy: 0.9660\n",
      "Epoch 61/200\n"
     ]
    },
    {
     "data": {
      "application/vnd.jupyter.widget-view+json": {
       "model_id": "27689d99513145df9b289b0ab9fa7b50",
       "version_major": 2,
       "version_minor": 0
      },
      "text/plain": [
       "0/46           ETA: ?s - "
      ]
     },
     "metadata": {},
     "output_type": "display_data"
    },
    {
     "name": "stdout",
     "output_type": "stream",
     "text": [
      "Epoch 61/200\n",
      "46/46 [==============================] - 0s 10ms/step - loss: 0.0702 - accuracy: 0.9694 - val_loss: 0.0864 - val_accuracy: 0.9633\n",
      "Epoch 62/200\n"
     ]
    },
    {
     "data": {
      "application/vnd.jupyter.widget-view+json": {
       "model_id": "a8061e04949c4e8dbd2a6fd176143014",
       "version_major": 2,
       "version_minor": 0
      },
      "text/plain": [
       "0/46           ETA: ?s - "
      ]
     },
     "metadata": {},
     "output_type": "display_data"
    },
    {
     "name": "stdout",
     "output_type": "stream",
     "text": [
      "Epoch 62/200\n",
      "46/46 [==============================] - 0s 10ms/step - loss: 0.0685 - accuracy: 0.9731 - val_loss: 0.0688 - val_accuracy: 0.9742\n",
      "Epoch 63/200\n"
     ]
    },
    {
     "data": {
      "application/vnd.jupyter.widget-view+json": {
       "model_id": "f3bda8cef92e4fe996e840f10ae591cc",
       "version_major": 2,
       "version_minor": 0
      },
      "text/plain": [
       "0/46           ETA: ?s - "
      ]
     },
     "metadata": {},
     "output_type": "display_data"
    },
    {
     "name": "stdout",
     "output_type": "stream",
     "text": [
      "Epoch 63/200\n",
      "46/46 [==============================] - 0s 10ms/step - loss: 0.0650 - accuracy: 0.9714 - val_loss: 0.0628 - val_accuracy: 0.9708\n",
      "Epoch 64/200\n"
     ]
    },
    {
     "data": {
      "application/vnd.jupyter.widget-view+json": {
       "model_id": "90cc2677d0f74ed3a3b4834550852a06",
       "version_major": 2,
       "version_minor": 0
      },
      "text/plain": [
       "0/46           ETA: ?s - "
      ]
     },
     "metadata": {},
     "output_type": "display_data"
    },
    {
     "name": "stdout",
     "output_type": "stream",
     "text": [
      "Epoch 64/200\n",
      "46/46 [==============================] - 0s 10ms/step - loss: 0.0671 - accuracy: 0.9714 - val_loss: 0.1024 - val_accuracy: 0.9517\n",
      "Epoch 65/200\n"
     ]
    },
    {
     "data": {
      "application/vnd.jupyter.widget-view+json": {
       "model_id": "bde81a0810764c57a506891ab690deeb",
       "version_major": 2,
       "version_minor": 0
      },
      "text/plain": [
       "0/46           ETA: ?s - "
      ]
     },
     "metadata": {},
     "output_type": "display_data"
    },
    {
     "name": "stdout",
     "output_type": "stream",
     "text": [
      "Epoch 65/200\n",
      "46/46 [==============================] - 0s 10ms/step - loss: 0.0678 - accuracy: 0.9735 - val_loss: 0.1525 - val_accuracy: 0.9239\n",
      "Epoch 66/200\n"
     ]
    },
    {
     "data": {
      "application/vnd.jupyter.widget-view+json": {
       "model_id": "446a9303050842e9ab604aaada42e93b",
       "version_major": 2,
       "version_minor": 0
      },
      "text/plain": [
       "0/46           ETA: ?s - "
      ]
     },
     "metadata": {},
     "output_type": "display_data"
    },
    {
     "name": "stdout",
     "output_type": "stream",
     "text": [
      "Epoch 66/200\n",
      "46/46 [==============================] - 0s 10ms/step - loss: 0.0630 - accuracy: 0.9719 - val_loss: 0.0767 - val_accuracy: 0.9687\n",
      "Epoch 67/200\n"
     ]
    },
    {
     "data": {
      "application/vnd.jupyter.widget-view+json": {
       "model_id": "c833257940684e449493ec377e2df032",
       "version_major": 2,
       "version_minor": 0
      },
      "text/plain": [
       "0/46           ETA: ?s - "
      ]
     },
     "metadata": {},
     "output_type": "display_data"
    },
    {
     "name": "stdout",
     "output_type": "stream",
     "text": [
      "Epoch 67/200\n",
      "46/46 [==============================] - 0s 10ms/step - loss: 0.0640 - accuracy: 0.9704 - val_loss: 0.0747 - val_accuracy: 0.9646\n",
      "Epoch 68/200\n"
     ]
    },
    {
     "data": {
      "application/vnd.jupyter.widget-view+json": {
       "model_id": "8ecd73e324604f78ba3c417fab538f41",
       "version_major": 2,
       "version_minor": 0
      },
      "text/plain": [
       "0/46           ETA: ?s - "
      ]
     },
     "metadata": {},
     "output_type": "display_data"
    },
    {
     "name": "stdout",
     "output_type": "stream",
     "text": [
      "Epoch 68/200\n",
      "46/46 [==============================] - 0s 10ms/step - loss: 0.0641 - accuracy: 0.9740 - val_loss: 0.0717 - val_accuracy: 0.9694\n",
      "Epoch 69/200\n"
     ]
    },
    {
     "data": {
      "application/vnd.jupyter.widget-view+json": {
       "model_id": "fc2aee9fb283432491b862614ae72bec",
       "version_major": 2,
       "version_minor": 0
      },
      "text/plain": [
       "0/46           ETA: ?s - "
      ]
     },
     "metadata": {},
     "output_type": "display_data"
    },
    {
     "name": "stdout",
     "output_type": "stream",
     "text": [
      "Epoch 69/200\n",
      "46/46 [==============================] - 0s 10ms/step - loss: 0.0647 - accuracy: 0.9721 - val_loss: 0.0733 - val_accuracy: 0.9646\n",
      "Epoch 70/200\n"
     ]
    },
    {
     "data": {
      "application/vnd.jupyter.widget-view+json": {
       "model_id": "e43ea36ee594497c9cd1a0a13c5bf8f6",
       "version_major": 2,
       "version_minor": 0
      },
      "text/plain": [
       "0/46           ETA: ?s - "
      ]
     },
     "metadata": {},
     "output_type": "display_data"
    },
    {
     "name": "stdout",
     "output_type": "stream",
     "text": [
      "Epoch 70/200\n",
      "46/46 [==============================] - 0s 10ms/step - loss: 0.0603 - accuracy: 0.9745 - val_loss: 0.0661 - val_accuracy: 0.9680\n",
      "Epoch 71/200\n"
     ]
    },
    {
     "data": {
      "application/vnd.jupyter.widget-view+json": {
       "model_id": "ad00b612a166462c9ae9d3990525b202",
       "version_major": 2,
       "version_minor": 0
      },
      "text/plain": [
       "0/46           ETA: ?s - "
      ]
     },
     "metadata": {},
     "output_type": "display_data"
    },
    {
     "name": "stdout",
     "output_type": "stream",
     "text": [
      "Epoch 71/200\n",
      "46/46 [==============================] - 0s 10ms/step - loss: 0.0639 - accuracy: 0.9730 - val_loss: 0.0757 - val_accuracy: 0.9660\n",
      "Epoch 72/200\n"
     ]
    },
    {
     "data": {
      "application/vnd.jupyter.widget-view+json": {
       "model_id": "d2e1e7f3c69d40b985f455ab4506aa74",
       "version_major": 2,
       "version_minor": 0
      },
      "text/plain": [
       "0/46           ETA: ?s - "
      ]
     },
     "metadata": {},
     "output_type": "display_data"
    },
    {
     "name": "stdout",
     "output_type": "stream",
     "text": [
      "Epoch 72/200\n",
      "46/46 [==============================] - 0s 10ms/step - loss: 0.0635 - accuracy: 0.9738 - val_loss: 0.0687 - val_accuracy: 0.9755\n",
      "Epoch 73/200\n"
     ]
    },
    {
     "data": {
      "application/vnd.jupyter.widget-view+json": {
       "model_id": "49a3695af36444b39b05b4bf8be962f5",
       "version_major": 2,
       "version_minor": 0
      },
      "text/plain": [
       "0/46           ETA: ?s - "
      ]
     },
     "metadata": {},
     "output_type": "display_data"
    },
    {
     "name": "stdout",
     "output_type": "stream",
     "text": [
      "Epoch 73/200\n",
      "46/46 [==============================] - 0s 10ms/step - loss: 0.0619 - accuracy: 0.9733 - val_loss: 0.0748 - val_accuracy: 0.9660\n",
      "Epoch 74/200\n"
     ]
    },
    {
     "data": {
      "application/vnd.jupyter.widget-view+json": {
       "model_id": "4f0af7972b9e466f92227c40206a09b0",
       "version_major": 2,
       "version_minor": 0
      },
      "text/plain": [
       "0/46           ETA: ?s - "
      ]
     },
     "metadata": {},
     "output_type": "display_data"
    },
    {
     "name": "stdout",
     "output_type": "stream",
     "text": [
      "Epoch 74/200\n",
      "46/46 [==============================] - 0s 10ms/step - loss: 0.0615 - accuracy: 0.9745 - val_loss: 0.0819 - val_accuracy: 0.9653\n",
      "Epoch 75/200\n"
     ]
    },
    {
     "data": {
      "application/vnd.jupyter.widget-view+json": {
       "model_id": "f360bbcc017d4e84beaffcde3dc2bd24",
       "version_major": 2,
       "version_minor": 0
      },
      "text/plain": [
       "0/46           ETA: ?s - "
      ]
     },
     "metadata": {},
     "output_type": "display_data"
    },
    {
     "name": "stdout",
     "output_type": "stream",
     "text": [
      "Epoch 75/200\n",
      "46/46 [==============================] - 0s 10ms/step - loss: 0.0568 - accuracy: 0.9776 - val_loss: 0.0587 - val_accuracy: 0.9714\n",
      "Epoch 76/200\n"
     ]
    },
    {
     "data": {
      "application/vnd.jupyter.widget-view+json": {
       "model_id": "1e33265b397e47119804b6983c5536fa",
       "version_major": 2,
       "version_minor": 0
      },
      "text/plain": [
       "0/46           ETA: ?s - "
      ]
     },
     "metadata": {},
     "output_type": "display_data"
    },
    {
     "name": "stdout",
     "output_type": "stream",
     "text": [
      "Epoch 76/200\n",
      "46/46 [==============================] - 0s 10ms/step - loss: 0.0618 - accuracy: 0.9723 - val_loss: 0.0906 - val_accuracy: 0.9606\n",
      "Epoch 77/200\n"
     ]
    },
    {
     "data": {
      "application/vnd.jupyter.widget-view+json": {
       "model_id": "5dc1f18fc2554c4d954749c084bb2072",
       "version_major": 2,
       "version_minor": 0
      },
      "text/plain": [
       "0/46           ETA: ?s - "
      ]
     },
     "metadata": {},
     "output_type": "display_data"
    },
    {
     "name": "stdout",
     "output_type": "stream",
     "text": [
      "Epoch 77/200\n",
      "46/46 [==============================] - 0s 10ms/step - loss: 0.0636 - accuracy: 0.9725 - val_loss: 0.0724 - val_accuracy: 0.9694\n",
      "Epoch 78/200\n"
     ]
    },
    {
     "data": {
      "application/vnd.jupyter.widget-view+json": {
       "model_id": "27185a5b2c254d55a36b0d546eadf36e",
       "version_major": 2,
       "version_minor": 0
      },
      "text/plain": [
       "0/46           ETA: ?s - "
      ]
     },
     "metadata": {},
     "output_type": "display_data"
    },
    {
     "name": "stdout",
     "output_type": "stream",
     "text": [
      "Epoch 78/200\n",
      "46/46 [==============================] - 0s 10ms/step - loss: 0.0592 - accuracy: 0.9750 - val_loss: 0.1231 - val_accuracy: 0.9449\n",
      "Epoch 79/200\n"
     ]
    },
    {
     "data": {
      "application/vnd.jupyter.widget-view+json": {
       "model_id": "c1b3d51d8e3c4f1eb0d716b726b204f3",
       "version_major": 2,
       "version_minor": 0
      },
      "text/plain": [
       "0/46           ETA: ?s - "
      ]
     },
     "metadata": {},
     "output_type": "display_data"
    },
    {
     "name": "stdout",
     "output_type": "stream",
     "text": [
      "Epoch 79/200\n",
      "46/46 [==============================] - 0s 10ms/step - loss: 0.0595 - accuracy: 0.9738 - val_loss: 0.0701 - val_accuracy: 0.9680\n",
      "Epoch 80/200\n"
     ]
    },
    {
     "data": {
      "application/vnd.jupyter.widget-view+json": {
       "model_id": "f80d96d12f184c8485383303efea788f",
       "version_major": 2,
       "version_minor": 0
      },
      "text/plain": [
       "0/46           ETA: ?s - "
      ]
     },
     "metadata": {},
     "output_type": "display_data"
    },
    {
     "name": "stdout",
     "output_type": "stream",
     "text": [
      "Epoch 80/200\n",
      "46/46 [==============================] - 0s 10ms/step - loss: 0.0565 - accuracy: 0.9765 - val_loss: 0.0614 - val_accuracy: 0.9735\n",
      "Epoch 81/200\n"
     ]
    },
    {
     "data": {
      "application/vnd.jupyter.widget-view+json": {
       "model_id": "2d917a3400ff44a38a155007302abdba",
       "version_major": 2,
       "version_minor": 0
      },
      "text/plain": [
       "0/46           ETA: ?s - "
      ]
     },
     "metadata": {},
     "output_type": "display_data"
    },
    {
     "name": "stdout",
     "output_type": "stream",
     "text": [
      "Epoch 81/200\n",
      "46/46 [==============================] - 0s 10ms/step - loss: 0.0600 - accuracy: 0.9740 - val_loss: 0.0644 - val_accuracy: 0.9721\n",
      "Epoch 82/200\n"
     ]
    },
    {
     "data": {
      "application/vnd.jupyter.widget-view+json": {
       "model_id": "97631061d76446b4bf9041dce2275ba8",
       "version_major": 2,
       "version_minor": 0
      },
      "text/plain": [
       "0/46           ETA: ?s - "
      ]
     },
     "metadata": {},
     "output_type": "display_data"
    },
    {
     "name": "stdout",
     "output_type": "stream",
     "text": [
      "Epoch 82/200\n",
      "46/46 [==============================] - 0s 10ms/step - loss: 0.0579 - accuracy: 0.9755 - val_loss: 0.0664 - val_accuracy: 0.9728\n",
      "Epoch 83/200\n"
     ]
    },
    {
     "data": {
      "application/vnd.jupyter.widget-view+json": {
       "model_id": "bc10f04d2e184d6895b44adbf5edd071",
       "version_major": 2,
       "version_minor": 0
      },
      "text/plain": [
       "0/46           ETA: ?s - "
      ]
     },
     "metadata": {},
     "output_type": "display_data"
    },
    {
     "name": "stdout",
     "output_type": "stream",
     "text": [
      "Epoch 83/200\n",
      "46/46 [==============================] - 0s 10ms/step - loss: 0.0556 - accuracy: 0.9774 - val_loss: 0.0811 - val_accuracy: 0.9592\n",
      "Epoch 84/200\n"
     ]
    },
    {
     "data": {
      "application/vnd.jupyter.widget-view+json": {
       "model_id": "834afb58bce34417ad4d6828fd9c84fc",
       "version_major": 2,
       "version_minor": 0
      },
      "text/plain": [
       "0/46           ETA: ?s - "
      ]
     },
     "metadata": {},
     "output_type": "display_data"
    },
    {
     "name": "stdout",
     "output_type": "stream",
     "text": [
      "Epoch 84/200\n",
      "46/46 [==============================] - 0s 10ms/step - loss: 0.0559 - accuracy: 0.9770 - val_loss: 0.0626 - val_accuracy: 0.9714\n",
      "Epoch 85/200\n"
     ]
    },
    {
     "data": {
      "application/vnd.jupyter.widget-view+json": {
       "model_id": "76df5f6faab5409d97de3ba5ab0695cd",
       "version_major": 2,
       "version_minor": 0
      },
      "text/plain": [
       "0/46           ETA: ?s - "
      ]
     },
     "metadata": {},
     "output_type": "display_data"
    },
    {
     "name": "stdout",
     "output_type": "stream",
     "text": [
      "Epoch 85/200\n",
      "46/46 [==============================] - 0s 10ms/step - loss: 0.0551 - accuracy: 0.9789 - val_loss: 0.0639 - val_accuracy: 0.9694\n",
      "Epoch 86/200\n"
     ]
    },
    {
     "data": {
      "application/vnd.jupyter.widget-view+json": {
       "model_id": "6156ec31484044c9ae93a28872f7c714",
       "version_major": 2,
       "version_minor": 0
      },
      "text/plain": [
       "0/46           ETA: ?s - "
      ]
     },
     "metadata": {},
     "output_type": "display_data"
    },
    {
     "name": "stdout",
     "output_type": "stream",
     "text": [
      "Epoch 86/200\n",
      "46/46 [==============================] - 0s 10ms/step - loss: 0.0603 - accuracy: 0.9725 - val_loss: 0.0649 - val_accuracy: 0.9708\n",
      "Epoch 87/200\n"
     ]
    },
    {
     "data": {
      "application/vnd.jupyter.widget-view+json": {
       "model_id": "ac4356bbaad54d3aaf42d2a0b725081b",
       "version_major": 2,
       "version_minor": 0
      },
      "text/plain": [
       "0/46           ETA: ?s - "
      ]
     },
     "metadata": {},
     "output_type": "display_data"
    },
    {
     "name": "stdout",
     "output_type": "stream",
     "text": [
      "Epoch 87/200\n",
      "46/46 [==============================] - 0s 10ms/step - loss: 0.0557 - accuracy: 0.9762 - val_loss: 0.0798 - val_accuracy: 0.9606\n",
      "Epoch 88/200\n"
     ]
    },
    {
     "data": {
      "application/vnd.jupyter.widget-view+json": {
       "model_id": "38e8565b6d014e7c80939a2df9168a7a",
       "version_major": 2,
       "version_minor": 0
      },
      "text/plain": [
       "0/46           ETA: ?s - "
      ]
     },
     "metadata": {},
     "output_type": "display_data"
    },
    {
     "name": "stdout",
     "output_type": "stream",
     "text": [
      "Epoch 88/200\n",
      "46/46 [==============================] - 0s 10ms/step - loss: 0.0535 - accuracy: 0.9782 - val_loss: 0.0670 - val_accuracy: 0.9708\n",
      "Epoch 89/200\n"
     ]
    },
    {
     "data": {
      "application/vnd.jupyter.widget-view+json": {
       "model_id": "9ebf7878d42a48508965488272cd5f7b",
       "version_major": 2,
       "version_minor": 0
      },
      "text/plain": [
       "0/46           ETA: ?s - "
      ]
     },
     "metadata": {},
     "output_type": "display_data"
    },
    {
     "name": "stdout",
     "output_type": "stream",
     "text": [
      "Epoch 89/200\n",
      "46/46 [==============================] - 0s 10ms/step - loss: 0.0560 - accuracy: 0.9769 - val_loss: 0.0655 - val_accuracy: 0.9680\n",
      "Epoch 90/200\n"
     ]
    },
    {
     "data": {
      "application/vnd.jupyter.widget-view+json": {
       "model_id": "39d4df1294a3479d95e66f4280e6cbae",
       "version_major": 2,
       "version_minor": 0
      },
      "text/plain": [
       "0/46           ETA: ?s - "
      ]
     },
     "metadata": {},
     "output_type": "display_data"
    },
    {
     "name": "stdout",
     "output_type": "stream",
     "text": [
      "Epoch 90/200\n",
      "46/46 [==============================] - 0s 10ms/step - loss: 0.0600 - accuracy: 0.9767 - val_loss: 0.0815 - val_accuracy: 0.9626\n",
      "Epoch 91/200\n"
     ]
    },
    {
     "data": {
      "application/vnd.jupyter.widget-view+json": {
       "model_id": "f8742f9768144378b482aaf083eb9ee9",
       "version_major": 2,
       "version_minor": 0
      },
      "text/plain": [
       "0/46           ETA: ?s - "
      ]
     },
     "metadata": {},
     "output_type": "display_data"
    },
    {
     "name": "stdout",
     "output_type": "stream",
     "text": [
      "Epoch 91/200\n",
      "46/46 [==============================] - 0s 10ms/step - loss: 0.0560 - accuracy: 0.9767 - val_loss: 0.0635 - val_accuracy: 0.9694\n",
      "Epoch 92/200\n"
     ]
    },
    {
     "data": {
      "application/vnd.jupyter.widget-view+json": {
       "model_id": "b6529cbb82e04f43a666a267fce24a21",
       "version_major": 2,
       "version_minor": 0
      },
      "text/plain": [
       "0/46           ETA: ?s - "
      ]
     },
     "metadata": {},
     "output_type": "display_data"
    },
    {
     "name": "stdout",
     "output_type": "stream",
     "text": [
      "Epoch 92/200\n",
      "46/46 [==============================] - 0s 10ms/step - loss: 0.0512 - accuracy: 0.9798 - val_loss: 0.0571 - val_accuracy: 0.9714\n",
      "Epoch 93/200\n"
     ]
    },
    {
     "data": {
      "application/vnd.jupyter.widget-view+json": {
       "model_id": "6a1e7a9f82c6409d9eb0785c98a81880",
       "version_major": 2,
       "version_minor": 0
      },
      "text/plain": [
       "0/46           ETA: ?s - "
      ]
     },
     "metadata": {},
     "output_type": "display_data"
    },
    {
     "name": "stdout",
     "output_type": "stream",
     "text": [
      "Epoch 93/200\n",
      "46/46 [==============================] - 0s 10ms/step - loss: 0.0545 - accuracy: 0.9776 - val_loss: 0.0740 - val_accuracy: 0.9687\n",
      "Epoch 94/200\n"
     ]
    },
    {
     "data": {
      "application/vnd.jupyter.widget-view+json": {
       "model_id": "61eb362b2b824ad2b978f63ae51fb77c",
       "version_major": 2,
       "version_minor": 0
      },
      "text/plain": [
       "0/46           ETA: ?s - "
      ]
     },
     "metadata": {},
     "output_type": "display_data"
    },
    {
     "name": "stdout",
     "output_type": "stream",
     "text": [
      "Epoch 94/200\n",
      "46/46 [==============================] - 0s 10ms/step - loss: 0.0494 - accuracy: 0.9799 - val_loss: 0.0637 - val_accuracy: 0.9735\n",
      "Epoch 95/200\n"
     ]
    },
    {
     "data": {
      "application/vnd.jupyter.widget-view+json": {
       "model_id": "214e5cfd4a4e4e698d2452c478138456",
       "version_major": 2,
       "version_minor": 0
      },
      "text/plain": [
       "0/46           ETA: ?s - "
      ]
     },
     "metadata": {},
     "output_type": "display_data"
    },
    {
     "name": "stdout",
     "output_type": "stream",
     "text": [
      "Epoch 95/200\n",
      "46/46 [==============================] - 0s 10ms/step - loss: 0.0503 - accuracy: 0.9794 - val_loss: 0.0650 - val_accuracy: 0.9708\n",
      "Epoch 96/200\n"
     ]
    },
    {
     "data": {
      "application/vnd.jupyter.widget-view+json": {
       "model_id": "07b42c60e41c48769c310ec42339e495",
       "version_major": 2,
       "version_minor": 0
      },
      "text/plain": [
       "0/46           ETA: ?s - "
      ]
     },
     "metadata": {},
     "output_type": "display_data"
    },
    {
     "name": "stdout",
     "output_type": "stream",
     "text": [
      "Epoch 96/200\n",
      "46/46 [==============================] - 0s 10ms/step - loss: 0.0506 - accuracy: 0.9811 - val_loss: 0.0581 - val_accuracy: 0.9708\n",
      "Epoch 97/200\n"
     ]
    },
    {
     "data": {
      "application/vnd.jupyter.widget-view+json": {
       "model_id": "b178f2e0f93d4885b7784f34976283f1",
       "version_major": 2,
       "version_minor": 0
      },
      "text/plain": [
       "0/46           ETA: ?s - "
      ]
     },
     "metadata": {},
     "output_type": "display_data"
    },
    {
     "name": "stdout",
     "output_type": "stream",
     "text": [
      "Epoch 97/200\n",
      "46/46 [==============================] - 0s 10ms/step - loss: 0.0528 - accuracy: 0.9769 - val_loss: 0.1606 - val_accuracy: 0.9395\n",
      "Epoch 98/200\n"
     ]
    },
    {
     "data": {
      "application/vnd.jupyter.widget-view+json": {
       "model_id": "1dc5954a55a84b289f928114b887e5bb",
       "version_major": 2,
       "version_minor": 0
      },
      "text/plain": [
       "0/46           ETA: ?s - "
      ]
     },
     "metadata": {},
     "output_type": "display_data"
    },
    {
     "name": "stdout",
     "output_type": "stream",
     "text": [
      "Epoch 98/200\n",
      "46/46 [==============================] - 0s 10ms/step - loss: 0.0579 - accuracy: 0.9759 - val_loss: 0.1086 - val_accuracy: 0.9572\n",
      "Epoch 99/200\n"
     ]
    },
    {
     "data": {
      "application/vnd.jupyter.widget-view+json": {
       "model_id": "d6bb9fe1c676499e928a3f0443daa5ef",
       "version_major": 2,
       "version_minor": 0
      },
      "text/plain": [
       "0/46           ETA: ?s - "
      ]
     },
     "metadata": {},
     "output_type": "display_data"
    },
    {
     "name": "stdout",
     "output_type": "stream",
     "text": [
      "Epoch 99/200\n",
      "46/46 [==============================] - 0s 10ms/step - loss: 0.0503 - accuracy: 0.9791 - val_loss: 0.0743 - val_accuracy: 0.9667\n",
      "Epoch 100/200\n"
     ]
    },
    {
     "data": {
      "application/vnd.jupyter.widget-view+json": {
       "model_id": "ec93ce0f8a80433b9dba373404a305b3",
       "version_major": 2,
       "version_minor": 0
      },
      "text/plain": [
       "0/46           ETA: ?s - "
      ]
     },
     "metadata": {},
     "output_type": "display_data"
    },
    {
     "name": "stdout",
     "output_type": "stream",
     "text": [
      "Epoch 100/200\n",
      "46/46 [==============================] - 0s 10ms/step - loss: 0.0511 - accuracy: 0.9787 - val_loss: 0.1157 - val_accuracy: 0.9592\n",
      "Epoch 101/200\n"
     ]
    },
    {
     "data": {
      "application/vnd.jupyter.widget-view+json": {
       "model_id": "813499a658d049b7a0004e7c04a8fc58",
       "version_major": 2,
       "version_minor": 0
      },
      "text/plain": [
       "0/46           ETA: ?s - "
      ]
     },
     "metadata": {},
     "output_type": "display_data"
    },
    {
     "name": "stdout",
     "output_type": "stream",
     "text": [
      "Epoch 101/200\n",
      "46/46 [==============================] - 0s 10ms/step - loss: 0.0529 - accuracy: 0.9777 - val_loss: 0.0752 - val_accuracy: 0.9674\n",
      "Epoch 102/200\n"
     ]
    },
    {
     "data": {
      "application/vnd.jupyter.widget-view+json": {
       "model_id": "3a9836b84c8d4f2aa95d4fbda93541b9",
       "version_major": 2,
       "version_minor": 0
      },
      "text/plain": [
       "0/46           ETA: ?s - "
      ]
     },
     "metadata": {},
     "output_type": "display_data"
    },
    {
     "name": "stdout",
     "output_type": "stream",
     "text": [
      "Epoch 102/200\n",
      "46/46 [==============================] - 0s 10ms/step - loss: 0.0509 - accuracy: 0.9784 - val_loss: 0.0716 - val_accuracy: 0.9728\n",
      "Epoch 103/200\n"
     ]
    },
    {
     "data": {
      "application/vnd.jupyter.widget-view+json": {
       "model_id": "b36d3f2c720141ffb59722a919e01ede",
       "version_major": 2,
       "version_minor": 0
      },
      "text/plain": [
       "0/46           ETA: ?s - "
      ]
     },
     "metadata": {},
     "output_type": "display_data"
    },
    {
     "name": "stdout",
     "output_type": "stream",
     "text": [
      "Epoch 103/200\n",
      "46/46 [==============================] - 0s 10ms/step - loss: 0.0514 - accuracy: 0.9779 - val_loss: 0.0656 - val_accuracy: 0.9674\n",
      "Epoch 104/200\n"
     ]
    },
    {
     "data": {
      "application/vnd.jupyter.widget-view+json": {
       "model_id": "60e36a1b18b744dfa5286038a4a53d0f",
       "version_major": 2,
       "version_minor": 0
      },
      "text/plain": [
       "0/46           ETA: ?s - "
      ]
     },
     "metadata": {},
     "output_type": "display_data"
    },
    {
     "name": "stdout",
     "output_type": "stream",
     "text": [
      "Epoch 104/200\n",
      "46/46 [==============================] - 0s 10ms/step - loss: 0.0515 - accuracy: 0.9801 - val_loss: 0.0725 - val_accuracy: 0.9646\n",
      "Epoch 105/200\n"
     ]
    },
    {
     "data": {
      "application/vnd.jupyter.widget-view+json": {
       "model_id": "7ff292edc00b44c3bfd994eeecf50971",
       "version_major": 2,
       "version_minor": 0
      },
      "text/plain": [
       "0/46           ETA: ?s - "
      ]
     },
     "metadata": {},
     "output_type": "display_data"
    },
    {
     "name": "stdout",
     "output_type": "stream",
     "text": [
      "Epoch 105/200\n",
      "46/46 [==============================] - 0s 10ms/step - loss: 0.0503 - accuracy: 0.9794 - val_loss: 0.0835 - val_accuracy: 0.9633\n",
      "Epoch 106/200\n"
     ]
    },
    {
     "data": {
      "application/vnd.jupyter.widget-view+json": {
       "model_id": "ebc0f541559b4ec1850f5f8e64251a03",
       "version_major": 2,
       "version_minor": 0
      },
      "text/plain": [
       "0/46           ETA: ?s - "
      ]
     },
     "metadata": {},
     "output_type": "display_data"
    },
    {
     "name": "stdout",
     "output_type": "stream",
     "text": [
      "Epoch 106/200\n",
      "46/46 [==============================] - 0s 10ms/step - loss: 0.0516 - accuracy: 0.9776 - val_loss: 0.0715 - val_accuracy: 0.9660\n",
      "Epoch 107/200\n"
     ]
    },
    {
     "data": {
      "application/vnd.jupyter.widget-view+json": {
       "model_id": "2faa931869ae43c7856981449cf00ef9",
       "version_major": 2,
       "version_minor": 0
      },
      "text/plain": [
       "0/46           ETA: ?s - "
      ]
     },
     "metadata": {},
     "output_type": "display_data"
    },
    {
     "name": "stdout",
     "output_type": "stream",
     "text": [
      "Epoch 107/200\n",
      "46/46 [==============================] - 0s 10ms/step - loss: 0.0500 - accuracy: 0.9793 - val_loss: 0.0799 - val_accuracy: 0.9660\n",
      "Epoch 108/200\n"
     ]
    },
    {
     "data": {
      "application/vnd.jupyter.widget-view+json": {
       "model_id": "3eda5bc2641b4bf1bfbd95ece6950584",
       "version_major": 2,
       "version_minor": 0
      },
      "text/plain": [
       "0/46           ETA: ?s - "
      ]
     },
     "metadata": {},
     "output_type": "display_data"
    },
    {
     "name": "stdout",
     "output_type": "stream",
     "text": [
      "Epoch 108/200\n",
      "46/46 [==============================] - 0s 10ms/step - loss: 0.0498 - accuracy: 0.9794 - val_loss: 0.0941 - val_accuracy: 0.9619\n",
      "Epoch 109/200\n"
     ]
    },
    {
     "data": {
      "application/vnd.jupyter.widget-view+json": {
       "model_id": "bf14a38a2df34cbab007560038dc0e3f",
       "version_major": 2,
       "version_minor": 0
      },
      "text/plain": [
       "0/46           ETA: ?s - "
      ]
     },
     "metadata": {},
     "output_type": "display_data"
    },
    {
     "name": "stdout",
     "output_type": "stream",
     "text": [
      "Epoch 109/200\n",
      "46/46 [==============================] - 0s 10ms/step - loss: 0.0452 - accuracy: 0.9813 - val_loss: 0.0530 - val_accuracy: 0.9748\n",
      "Epoch 110/200\n"
     ]
    },
    {
     "data": {
      "application/vnd.jupyter.widget-view+json": {
       "model_id": "e78a9e75b5c442b5a6193fb8ae1de36a",
       "version_major": 2,
       "version_minor": 0
      },
      "text/plain": [
       "0/46           ETA: ?s - "
      ]
     },
     "metadata": {},
     "output_type": "display_data"
    },
    {
     "name": "stdout",
     "output_type": "stream",
     "text": [
      "Epoch 110/200\n",
      "46/46 [==============================] - 0s 10ms/step - loss: 0.0482 - accuracy: 0.9803 - val_loss: 0.0580 - val_accuracy: 0.9748\n",
      "Epoch 111/200\n"
     ]
    },
    {
     "data": {
      "application/vnd.jupyter.widget-view+json": {
       "model_id": "ab46cb50e4e340b4aa16693d71612b3a",
       "version_major": 2,
       "version_minor": 0
      },
      "text/plain": [
       "0/46           ETA: ?s - "
      ]
     },
     "metadata": {},
     "output_type": "display_data"
    },
    {
     "name": "stdout",
     "output_type": "stream",
     "text": [
      "Epoch 111/200\n",
      "46/46 [==============================] - 0s 10ms/step - loss: 0.0513 - accuracy: 0.9787 - val_loss: 0.0554 - val_accuracy: 0.9742\n",
      "Epoch 112/200\n"
     ]
    },
    {
     "data": {
      "application/vnd.jupyter.widget-view+json": {
       "model_id": "2653eec878204fe097687a85710fea48",
       "version_major": 2,
       "version_minor": 0
      },
      "text/plain": [
       "0/46           ETA: ?s - "
      ]
     },
     "metadata": {},
     "output_type": "display_data"
    },
    {
     "name": "stdout",
     "output_type": "stream",
     "text": [
      "Epoch 112/200\n",
      "46/46 [==============================] - 0s 10ms/step - loss: 0.0450 - accuracy: 0.9827 - val_loss: 0.0710 - val_accuracy: 0.9694\n",
      "Epoch 113/200\n"
     ]
    },
    {
     "data": {
      "application/vnd.jupyter.widget-view+json": {
       "model_id": "41d6bc96975047d8bcdb90260238f3d7",
       "version_major": 2,
       "version_minor": 0
      },
      "text/plain": [
       "0/46           ETA: ?s - "
      ]
     },
     "metadata": {},
     "output_type": "display_data"
    },
    {
     "name": "stdout",
     "output_type": "stream",
     "text": [
      "Epoch 113/200\n",
      "46/46 [==============================] - 0s 10ms/step - loss: 0.0537 - accuracy: 0.9764 - val_loss: 0.2733 - val_accuracy: 0.9171\n",
      "Epoch 114/200\n"
     ]
    },
    {
     "data": {
      "application/vnd.jupyter.widget-view+json": {
       "model_id": "cc0b622a134340cebea8a8b1f303a602",
       "version_major": 2,
       "version_minor": 0
      },
      "text/plain": [
       "0/46           ETA: ?s - "
      ]
     },
     "metadata": {},
     "output_type": "display_data"
    },
    {
     "name": "stdout",
     "output_type": "stream",
     "text": [
      "Epoch 114/200\n",
      "46/46 [==============================] - 0s 11ms/step - loss: 0.0497 - accuracy: 0.9798 - val_loss: 0.0551 - val_accuracy: 0.9735\n",
      "Epoch 115/200\n"
     ]
    },
    {
     "data": {
      "application/vnd.jupyter.widget-view+json": {
       "model_id": "43180b3ef319410ea8422e978623909e",
       "version_major": 2,
       "version_minor": 0
      },
      "text/plain": [
       "0/46           ETA: ?s - "
      ]
     },
     "metadata": {},
     "output_type": "display_data"
    },
    {
     "name": "stdout",
     "output_type": "stream",
     "text": [
      "Epoch 115/200\n",
      "46/46 [==============================] - 0s 10ms/step - loss: 0.0478 - accuracy: 0.9798 - val_loss: 0.0516 - val_accuracy: 0.9789\n",
      "Epoch 116/200\n"
     ]
    },
    {
     "data": {
      "application/vnd.jupyter.widget-view+json": {
       "model_id": "246264653aee466ba6a2108754b5d7af",
       "version_major": 2,
       "version_minor": 0
      },
      "text/plain": [
       "0/46           ETA: ?s - "
      ]
     },
     "metadata": {},
     "output_type": "display_data"
    },
    {
     "name": "stdout",
     "output_type": "stream",
     "text": [
      "Epoch 116/200\n",
      "46/46 [==============================] - 0s 10ms/step - loss: 0.0413 - accuracy: 0.9835 - val_loss: 0.0612 - val_accuracy: 0.9708\n",
      "Epoch 117/200\n"
     ]
    },
    {
     "data": {
      "application/vnd.jupyter.widget-view+json": {
       "model_id": "303380484830455aa905197962eb1bf8",
       "version_major": 2,
       "version_minor": 0
      },
      "text/plain": [
       "0/46           ETA: ?s - "
      ]
     },
     "metadata": {},
     "output_type": "display_data"
    },
    {
     "name": "stdout",
     "output_type": "stream",
     "text": [
      "Epoch 117/200\n",
      "46/46 [==============================] - 0s 10ms/step - loss: 0.0455 - accuracy: 0.9830 - val_loss: 0.0793 - val_accuracy: 0.9646\n",
      "Epoch 118/200\n"
     ]
    },
    {
     "data": {
      "application/vnd.jupyter.widget-view+json": {
       "model_id": "83844ccf4f764195a5cd9044b2b12a2d",
       "version_major": 2,
       "version_minor": 0
      },
      "text/plain": [
       "0/46           ETA: ?s - "
      ]
     },
     "metadata": {},
     "output_type": "display_data"
    },
    {
     "name": "stdout",
     "output_type": "stream",
     "text": [
      "Epoch 118/200\n",
      "46/46 [==============================] - 0s 10ms/step - loss: 0.0480 - accuracy: 0.9803 - val_loss: 0.0584 - val_accuracy: 0.9762\n",
      "Epoch 119/200\n"
     ]
    },
    {
     "data": {
      "application/vnd.jupyter.widget-view+json": {
       "model_id": "154c6e4749904a359fc69cd11b7c0306",
       "version_major": 2,
       "version_minor": 0
      },
      "text/plain": [
       "0/46           ETA: ?s - "
      ]
     },
     "metadata": {},
     "output_type": "display_data"
    },
    {
     "name": "stdout",
     "output_type": "stream",
     "text": [
      "Epoch 119/200\n",
      "46/46 [==============================] - 0s 10ms/step - loss: 0.0465 - accuracy: 0.9813 - val_loss: 0.0610 - val_accuracy: 0.9728\n",
      "Epoch 120/200\n"
     ]
    },
    {
     "data": {
      "application/vnd.jupyter.widget-view+json": {
       "model_id": "5038fbac8d83408c9957e26f69e4473f",
       "version_major": 2,
       "version_minor": 0
      },
      "text/plain": [
       "0/46           ETA: ?s - "
      ]
     },
     "metadata": {},
     "output_type": "display_data"
    },
    {
     "name": "stdout",
     "output_type": "stream",
     "text": [
      "Epoch 120/200\n",
      "46/46 [==============================] - 0s 10ms/step - loss: 0.0460 - accuracy: 0.9813 - val_loss: 0.0492 - val_accuracy: 0.9762\n",
      "Epoch 121/200\n"
     ]
    },
    {
     "data": {
      "application/vnd.jupyter.widget-view+json": {
       "model_id": "d64b685e451a43a994f8d2fc277af46d",
       "version_major": 2,
       "version_minor": 0
      },
      "text/plain": [
       "0/46           ETA: ?s - "
      ]
     },
     "metadata": {},
     "output_type": "display_data"
    },
    {
     "name": "stdout",
     "output_type": "stream",
     "text": [
      "Epoch 121/200\n",
      "46/46 [==============================] - 0s 10ms/step - loss: 0.0450 - accuracy: 0.9828 - val_loss: 0.0546 - val_accuracy: 0.9782\n",
      "Epoch 122/200\n"
     ]
    },
    {
     "data": {
      "application/vnd.jupyter.widget-view+json": {
       "model_id": "dc4e55b6b70148a3aa1f4f223d2b17ab",
       "version_major": 2,
       "version_minor": 0
      },
      "text/plain": [
       "0/46           ETA: ?s - "
      ]
     },
     "metadata": {},
     "output_type": "display_data"
    },
    {
     "name": "stdout",
     "output_type": "stream",
     "text": [
      "Epoch 122/200\n",
      "46/46 [==============================] - 0s 10ms/step - loss: 0.0443 - accuracy: 0.9821 - val_loss: 0.0504 - val_accuracy: 0.9755\n",
      "Epoch 123/200\n"
     ]
    },
    {
     "data": {
      "application/vnd.jupyter.widget-view+json": {
       "model_id": "e6e39876c0814901b72d606d1eb3daee",
       "version_major": 2,
       "version_minor": 0
      },
      "text/plain": [
       "0/46           ETA: ?s - "
      ]
     },
     "metadata": {},
     "output_type": "display_data"
    },
    {
     "name": "stdout",
     "output_type": "stream",
     "text": [
      "Epoch 123/200\n",
      "46/46 [==============================] - 0s 10ms/step - loss: 0.0418 - accuracy: 0.9832 - val_loss: 0.0753 - val_accuracy: 0.9667\n",
      "Epoch 124/200\n"
     ]
    },
    {
     "data": {
      "application/vnd.jupyter.widget-view+json": {
       "model_id": "d8ffe442925b481abe1bf692831198bc",
       "version_major": 2,
       "version_minor": 0
      },
      "text/plain": [
       "0/46           ETA: ?s - "
      ]
     },
     "metadata": {},
     "output_type": "display_data"
    },
    {
     "name": "stdout",
     "output_type": "stream",
     "text": [
      "Epoch 124/200\n",
      "46/46 [==============================] - 0s 10ms/step - loss: 0.0436 - accuracy: 0.9811 - val_loss: 0.0528 - val_accuracy: 0.9748\n",
      "Epoch 125/200\n"
     ]
    },
    {
     "data": {
      "application/vnd.jupyter.widget-view+json": {
       "model_id": "fcf5e144a9224ab8a3666b4fa8fe5351",
       "version_major": 2,
       "version_minor": 0
      },
      "text/plain": [
       "0/46           ETA: ?s - "
      ]
     },
     "metadata": {},
     "output_type": "display_data"
    },
    {
     "name": "stdout",
     "output_type": "stream",
     "text": [
      "Epoch 125/200\n",
      "46/46 [==============================] - 0s 10ms/step - loss: 0.0385 - accuracy: 0.9850 - val_loss: 0.0600 - val_accuracy: 0.9714\n",
      "Epoch 126/200\n"
     ]
    },
    {
     "data": {
      "application/vnd.jupyter.widget-view+json": {
       "model_id": "decba342ad1442d99598c6b380254822",
       "version_major": 2,
       "version_minor": 0
      },
      "text/plain": [
       "0/46           ETA: ?s - "
      ]
     },
     "metadata": {},
     "output_type": "display_data"
    },
    {
     "name": "stdout",
     "output_type": "stream",
     "text": [
      "Epoch 126/200\n",
      "46/46 [==============================] - 0s 10ms/step - loss: 0.0412 - accuracy: 0.9837 - val_loss: 0.0538 - val_accuracy: 0.9701\n",
      "Epoch 127/200\n"
     ]
    },
    {
     "data": {
      "application/vnd.jupyter.widget-view+json": {
       "model_id": "f5c572c3ad214f3f9ac5590138a21584",
       "version_major": 2,
       "version_minor": 0
      },
      "text/plain": [
       "0/46           ETA: ?s - "
      ]
     },
     "metadata": {},
     "output_type": "display_data"
    },
    {
     "name": "stdout",
     "output_type": "stream",
     "text": [
      "Epoch 127/200\n",
      "46/46 [==============================] - 0s 10ms/step - loss: 0.0417 - accuracy: 0.9852 - val_loss: 0.0675 - val_accuracy: 0.9721\n",
      "Epoch 128/200\n"
     ]
    },
    {
     "data": {
      "application/vnd.jupyter.widget-view+json": {
       "model_id": "61a4d941a439462080a89326dfc0ce28",
       "version_major": 2,
       "version_minor": 0
      },
      "text/plain": [
       "0/46           ETA: ?s - "
      ]
     },
     "metadata": {},
     "output_type": "display_data"
    },
    {
     "name": "stdout",
     "output_type": "stream",
     "text": [
      "Epoch 128/200\n",
      "46/46 [==============================] - 0s 10ms/step - loss: 0.0483 - accuracy: 0.9811 - val_loss: 0.3720 - val_accuracy: 0.9075\n",
      "Epoch 129/200\n"
     ]
    },
    {
     "data": {
      "application/vnd.jupyter.widget-view+json": {
       "model_id": "b3533cea58e44a6d9708adcebc949e63",
       "version_major": 2,
       "version_minor": 0
      },
      "text/plain": [
       "0/46           ETA: ?s - "
      ]
     },
     "metadata": {},
     "output_type": "display_data"
    },
    {
     "name": "stdout",
     "output_type": "stream",
     "text": [
      "Epoch 129/200\n",
      "46/46 [==============================] - 0s 10ms/step - loss: 0.0445 - accuracy: 0.9833 - val_loss: 0.0506 - val_accuracy: 0.9782\n",
      "Epoch 130/200\n"
     ]
    },
    {
     "data": {
      "application/vnd.jupyter.widget-view+json": {
       "model_id": "ad510d53e87a4d0688af533fde9bbb7e",
       "version_major": 2,
       "version_minor": 0
      },
      "text/plain": [
       "0/46           ETA: ?s - "
      ]
     },
     "metadata": {},
     "output_type": "display_data"
    },
    {
     "name": "stdout",
     "output_type": "stream",
     "text": [
      "Epoch 130/200\n",
      "46/46 [==============================] - 0s 10ms/step - loss: 0.0400 - accuracy: 0.9842 - val_loss: 0.0542 - val_accuracy: 0.9742\n",
      "Epoch 131/200\n"
     ]
    },
    {
     "data": {
      "application/vnd.jupyter.widget-view+json": {
       "model_id": "8da86723bcdf4c858a90504cc1bd88e4",
       "version_major": 2,
       "version_minor": 0
      },
      "text/plain": [
       "0/46           ETA: ?s - "
      ]
     },
     "metadata": {},
     "output_type": "display_data"
    },
    {
     "name": "stdout",
     "output_type": "stream",
     "text": [
      "Epoch 131/200\n",
      "46/46 [==============================] - 0s 10ms/step - loss: 0.0394 - accuracy: 0.9861 - val_loss: 0.0498 - val_accuracy: 0.9776\n",
      "Epoch 132/200\n"
     ]
    },
    {
     "data": {
      "application/vnd.jupyter.widget-view+json": {
       "model_id": "bf6a03f9a54d4e5294c94f93d00a2375",
       "version_major": 2,
       "version_minor": 0
      },
      "text/plain": [
       "0/46           ETA: ?s - "
      ]
     },
     "metadata": {},
     "output_type": "display_data"
    },
    {
     "name": "stdout",
     "output_type": "stream",
     "text": [
      "Epoch 132/200\n",
      "46/46 [==============================] - 0s 10ms/step - loss: 0.0394 - accuracy: 0.9850 - val_loss: 0.0610 - val_accuracy: 0.9755\n",
      "Epoch 133/200\n"
     ]
    },
    {
     "data": {
      "application/vnd.jupyter.widget-view+json": {
       "model_id": "3de6feab3c5b4481a0b924a776576fc5",
       "version_major": 2,
       "version_minor": 0
      },
      "text/plain": [
       "0/46           ETA: ?s - "
      ]
     },
     "metadata": {},
     "output_type": "display_data"
    },
    {
     "name": "stdout",
     "output_type": "stream",
     "text": [
      "Epoch 133/200\n",
      "46/46 [==============================] - 0s 10ms/step - loss: 0.0409 - accuracy: 0.9821 - val_loss: 0.0553 - val_accuracy: 0.9694\n",
      "Epoch 134/200\n"
     ]
    },
    {
     "data": {
      "application/vnd.jupyter.widget-view+json": {
       "model_id": "813981af25804ba3a5abe6d6ce3add00",
       "version_major": 2,
       "version_minor": 0
      },
      "text/plain": [
       "0/46           ETA: ?s - "
      ]
     },
     "metadata": {},
     "output_type": "display_data"
    },
    {
     "name": "stdout",
     "output_type": "stream",
     "text": [
      "Epoch 134/200\n",
      "46/46 [==============================] - 0s 10ms/step - loss: 0.0395 - accuracy: 0.9847 - val_loss: 0.0526 - val_accuracy: 0.9762\n",
      "Epoch 135/200\n"
     ]
    },
    {
     "data": {
      "application/vnd.jupyter.widget-view+json": {
       "model_id": "f2365e53ecc94361bff804a3dde51938",
       "version_major": 2,
       "version_minor": 0
      },
      "text/plain": [
       "0/46           ETA: ?s - "
      ]
     },
     "metadata": {},
     "output_type": "display_data"
    },
    {
     "name": "stdout",
     "output_type": "stream",
     "text": [
      "Epoch 135/200\n",
      "46/46 [==============================] - 0s 10ms/step - loss: 0.0413 - accuracy: 0.9821 - val_loss: 0.0487 - val_accuracy: 0.9789\n",
      "Epoch 136/200\n"
     ]
    },
    {
     "data": {
      "application/vnd.jupyter.widget-view+json": {
       "model_id": "fc4c3889e48f492ba05298c8d4181bf9",
       "version_major": 2,
       "version_minor": 0
      },
      "text/plain": [
       "0/46           ETA: ?s - "
      ]
     },
     "metadata": {},
     "output_type": "display_data"
    },
    {
     "name": "stdout",
     "output_type": "stream",
     "text": [
      "Epoch 136/200\n",
      "46/46 [==============================] - 0s 10ms/step - loss: 0.0492 - accuracy: 0.9799 - val_loss: 0.0794 - val_accuracy: 0.9633\n",
      "Epoch 137/200\n"
     ]
    },
    {
     "data": {
      "application/vnd.jupyter.widget-view+json": {
       "model_id": "6ea2b8ffca28460ca22ce208d45a2bb5",
       "version_major": 2,
       "version_minor": 0
      },
      "text/plain": [
       "0/46           ETA: ?s - "
      ]
     },
     "metadata": {},
     "output_type": "display_data"
    },
    {
     "name": "stdout",
     "output_type": "stream",
     "text": [
      "Epoch 137/200\n",
      "46/46 [==============================] - 0s 10ms/step - loss: 0.0484 - accuracy: 0.9821 - val_loss: 0.1116 - val_accuracy: 0.9531\n",
      "Epoch 138/200\n"
     ]
    },
    {
     "data": {
      "application/vnd.jupyter.widget-view+json": {
       "model_id": "14cc725df6654244b2135c583eb4e275",
       "version_major": 2,
       "version_minor": 0
      },
      "text/plain": [
       "0/46           ETA: ?s - "
      ]
     },
     "metadata": {},
     "output_type": "display_data"
    },
    {
     "name": "stdout",
     "output_type": "stream",
     "text": [
      "Epoch 138/200\n",
      "46/46 [==============================] - 0s 10ms/step - loss: 0.0474 - accuracy: 0.9801 - val_loss: 0.0589 - val_accuracy: 0.9735\n",
      "Epoch 139/200\n"
     ]
    },
    {
     "data": {
      "application/vnd.jupyter.widget-view+json": {
       "model_id": "900152ecfe9949f7a047700a3904a00c",
       "version_major": 2,
       "version_minor": 0
      },
      "text/plain": [
       "0/46           ETA: ?s - "
      ]
     },
     "metadata": {},
     "output_type": "display_data"
    },
    {
     "name": "stdout",
     "output_type": "stream",
     "text": [
      "Epoch 139/200\n",
      "46/46 [==============================] - 0s 10ms/step - loss: 0.0398 - accuracy: 0.9845 - val_loss: 0.0689 - val_accuracy: 0.9674\n",
      "Epoch 140/200\n"
     ]
    },
    {
     "data": {
      "application/vnd.jupyter.widget-view+json": {
       "model_id": "6bb54e75a9664d15872b2b8585469f46",
       "version_major": 2,
       "version_minor": 0
      },
      "text/plain": [
       "0/46           ETA: ?s - "
      ]
     },
     "metadata": {},
     "output_type": "display_data"
    },
    {
     "name": "stdout",
     "output_type": "stream",
     "text": [
      "Epoch 140/200\n",
      "46/46 [==============================] - 0s 10ms/step - loss: 0.0404 - accuracy: 0.9844 - val_loss: 0.0581 - val_accuracy: 0.9735\n",
      "Epoch 141/200\n"
     ]
    },
    {
     "data": {
      "application/vnd.jupyter.widget-view+json": {
       "model_id": "522f60accb1f4b73934ff40316d2fc0b",
       "version_major": 2,
       "version_minor": 0
      },
      "text/plain": [
       "0/46           ETA: ?s - "
      ]
     },
     "metadata": {},
     "output_type": "display_data"
    },
    {
     "name": "stdout",
     "output_type": "stream",
     "text": [
      "Epoch 141/200\n",
      "46/46 [==============================] - 0s 10ms/step - loss: 0.0447 - accuracy: 0.9801 - val_loss: 0.0511 - val_accuracy: 0.9782\n",
      "Epoch 142/200\n"
     ]
    },
    {
     "data": {
      "application/vnd.jupyter.widget-view+json": {
       "model_id": "5c1b8c45f1de49d480be2b59d3b714ae",
       "version_major": 2,
       "version_minor": 0
      },
      "text/plain": [
       "0/46           ETA: ?s - "
      ]
     },
     "metadata": {},
     "output_type": "display_data"
    },
    {
     "name": "stdout",
     "output_type": "stream",
     "text": [
      "Epoch 142/200\n",
      "46/46 [==============================] - 0s 10ms/step - loss: 0.0397 - accuracy: 0.9849 - val_loss: 0.0539 - val_accuracy: 0.9769\n",
      "Epoch 143/200\n"
     ]
    },
    {
     "data": {
      "application/vnd.jupyter.widget-view+json": {
       "model_id": "dcac5567936d42fdbc629c8be3f9d8f2",
       "version_major": 2,
       "version_minor": 0
      },
      "text/plain": [
       "0/46           ETA: ?s - "
      ]
     },
     "metadata": {},
     "output_type": "display_data"
    },
    {
     "name": "stdout",
     "output_type": "stream",
     "text": [
      "Epoch 143/200\n",
      "46/46 [==============================] - 0s 10ms/step - loss: 0.0371 - accuracy: 0.9847 - val_loss: 0.0560 - val_accuracy: 0.9748\n",
      "Epoch 144/200\n"
     ]
    },
    {
     "data": {
      "application/vnd.jupyter.widget-view+json": {
       "model_id": "2224416b4274465d83dcb5d00649cffa",
       "version_major": 2,
       "version_minor": 0
      },
      "text/plain": [
       "0/46           ETA: ?s - "
      ]
     },
     "metadata": {},
     "output_type": "display_data"
    },
    {
     "name": "stdout",
     "output_type": "stream",
     "text": [
      "Epoch 144/200\n",
      "46/46 [==============================] - 0s 10ms/step - loss: 0.0394 - accuracy: 0.9837 - val_loss: 0.0799 - val_accuracy: 0.9640\n",
      "Epoch 145/200\n"
     ]
    },
    {
     "data": {
      "application/vnd.jupyter.widget-view+json": {
       "model_id": "4ffa23f24621477b8cdde7785cd9630d",
       "version_major": 2,
       "version_minor": 0
      },
      "text/plain": [
       "0/46           ETA: ?s - "
      ]
     },
     "metadata": {},
     "output_type": "display_data"
    },
    {
     "name": "stdout",
     "output_type": "stream",
     "text": [
      "Epoch 145/200\n",
      "46/46 [==============================] - 0s 10ms/step - loss: 0.0433 - accuracy: 0.9820 - val_loss: 0.0487 - val_accuracy: 0.9789\n",
      "Epoch 146/200\n"
     ]
    },
    {
     "data": {
      "application/vnd.jupyter.widget-view+json": {
       "model_id": "ec2e3344f2734014aa538aa4c9ab3523",
       "version_major": 2,
       "version_minor": 0
      },
      "text/plain": [
       "0/46           ETA: ?s - "
      ]
     },
     "metadata": {},
     "output_type": "display_data"
    },
    {
     "name": "stdout",
     "output_type": "stream",
     "text": [
      "Epoch 146/200\n",
      "46/46 [==============================] - 0s 10ms/step - loss: 0.0421 - accuracy: 0.9835 - val_loss: 0.0486 - val_accuracy: 0.9742\n",
      "Epoch 147/200\n"
     ]
    },
    {
     "data": {
      "application/vnd.jupyter.widget-view+json": {
       "model_id": "124a9fe231674da885968ebc4074f1eb",
       "version_major": 2,
       "version_minor": 0
      },
      "text/plain": [
       "0/46           ETA: ?s - "
      ]
     },
     "metadata": {},
     "output_type": "display_data"
    },
    {
     "name": "stdout",
     "output_type": "stream",
     "text": [
      "Epoch 147/200\n",
      "46/46 [==============================] - 0s 10ms/step - loss: 0.0427 - accuracy: 0.9828 - val_loss: 0.0433 - val_accuracy: 0.9837\n",
      "Epoch 148/200\n"
     ]
    },
    {
     "data": {
      "application/vnd.jupyter.widget-view+json": {
       "model_id": "0fee5ea7c7ee4324ad4d7f7ab2194ee9",
       "version_major": 2,
       "version_minor": 0
      },
      "text/plain": [
       "0/46           ETA: ?s - "
      ]
     },
     "metadata": {},
     "output_type": "display_data"
    },
    {
     "name": "stdout",
     "output_type": "stream",
     "text": [
      "Epoch 148/200\n",
      "46/46 [==============================] - 0s 10ms/step - loss: 0.0381 - accuracy: 0.9849 - val_loss: 0.0552 - val_accuracy: 0.9748\n",
      "Epoch 149/200\n"
     ]
    },
    {
     "data": {
      "application/vnd.jupyter.widget-view+json": {
       "model_id": "7563baae309f43b4ae5d1800f373d3a0",
       "version_major": 2,
       "version_minor": 0
      },
      "text/plain": [
       "0/46           ETA: ?s - "
      ]
     },
     "metadata": {},
     "output_type": "display_data"
    },
    {
     "name": "stdout",
     "output_type": "stream",
     "text": [
      "Epoch 149/200\n",
      "46/46 [==============================] - 0s 10ms/step - loss: 0.0354 - accuracy: 0.9866 - val_loss: 0.0527 - val_accuracy: 0.9735\n",
      "Epoch 150/200\n"
     ]
    },
    {
     "data": {
      "application/vnd.jupyter.widget-view+json": {
       "model_id": "48f2d8758d134b508ebabbf2d647ff75",
       "version_major": 2,
       "version_minor": 0
      },
      "text/plain": [
       "0/46           ETA: ?s - "
      ]
     },
     "metadata": {},
     "output_type": "display_data"
    },
    {
     "name": "stdout",
     "output_type": "stream",
     "text": [
      "Epoch 150/200\n",
      "46/46 [==============================] - 0s 10ms/step - loss: 0.0355 - accuracy: 0.9881 - val_loss: 0.0531 - val_accuracy: 0.9728\n",
      "Epoch 151/200\n"
     ]
    },
    {
     "data": {
      "application/vnd.jupyter.widget-view+json": {
       "model_id": "f7e78fa8eca1476aafe8e5e7c5976a74",
       "version_major": 2,
       "version_minor": 0
      },
      "text/plain": [
       "0/46           ETA: ?s - "
      ]
     },
     "metadata": {},
     "output_type": "display_data"
    },
    {
     "name": "stdout",
     "output_type": "stream",
     "text": [
      "Epoch 151/200\n",
      "46/46 [==============================] - 0s 10ms/step - loss: 0.0353 - accuracy: 0.9866 - val_loss: 0.0887 - val_accuracy: 0.9551\n",
      "Epoch 152/200\n"
     ]
    },
    {
     "data": {
      "application/vnd.jupyter.widget-view+json": {
       "model_id": "12f129c3fdb644c29ee74b07f9902438",
       "version_major": 2,
       "version_minor": 0
      },
      "text/plain": [
       "0/46           ETA: ?s - "
      ]
     },
     "metadata": {},
     "output_type": "display_data"
    },
    {
     "name": "stdout",
     "output_type": "stream",
     "text": [
      "Epoch 152/200\n",
      "46/46 [==============================] - 0s 10ms/step - loss: 0.0380 - accuracy: 0.9852 - val_loss: 0.0427 - val_accuracy: 0.9776\n",
      "Epoch 153/200\n"
     ]
    },
    {
     "data": {
      "application/vnd.jupyter.widget-view+json": {
       "model_id": "7bae438bd55445139e408948c4df21b2",
       "version_major": 2,
       "version_minor": 0
      },
      "text/plain": [
       "0/46           ETA: ?s - "
      ]
     },
     "metadata": {},
     "output_type": "display_data"
    },
    {
     "name": "stdout",
     "output_type": "stream",
     "text": [
      "Epoch 153/200\n",
      "46/46 [==============================] - 0s 10ms/step - loss: 0.0362 - accuracy: 0.9872 - val_loss: 0.0394 - val_accuracy: 0.9830\n",
      "Epoch 154/200\n"
     ]
    },
    {
     "data": {
      "application/vnd.jupyter.widget-view+json": {
       "model_id": "b7aba1bc400841bbacef3ffcaa909cae",
       "version_major": 2,
       "version_minor": 0
      },
      "text/plain": [
       "0/46           ETA: ?s - "
      ]
     },
     "metadata": {},
     "output_type": "display_data"
    },
    {
     "name": "stdout",
     "output_type": "stream",
     "text": [
      "Epoch 154/200\n",
      "46/46 [==============================] - 0s 10ms/step - loss: 0.0421 - accuracy: 0.9830 - val_loss: 0.0436 - val_accuracy: 0.9803\n",
      "Epoch 155/200\n"
     ]
    },
    {
     "data": {
      "application/vnd.jupyter.widget-view+json": {
       "model_id": "eb95937de7094ae891d664a436b55ad3",
       "version_major": 2,
       "version_minor": 0
      },
      "text/plain": [
       "0/46           ETA: ?s - "
      ]
     },
     "metadata": {},
     "output_type": "display_data"
    },
    {
     "name": "stdout",
     "output_type": "stream",
     "text": [
      "Epoch 155/200\n",
      "46/46 [==============================] - 0s 10ms/step - loss: 0.0346 - accuracy: 0.9871 - val_loss: 0.0364 - val_accuracy: 0.9844\n",
      "Epoch 156/200\n"
     ]
    },
    {
     "data": {
      "application/vnd.jupyter.widget-view+json": {
       "model_id": "6b5e76b402ab457ba14c316ddaa41154",
       "version_major": 2,
       "version_minor": 0
      },
      "text/plain": [
       "0/46           ETA: ?s - "
      ]
     },
     "metadata": {},
     "output_type": "display_data"
    },
    {
     "name": "stdout",
     "output_type": "stream",
     "text": [
      "Epoch 156/200\n",
      "46/46 [==============================] - 0s 10ms/step - loss: 0.0343 - accuracy: 0.9867 - val_loss: 0.0596 - val_accuracy: 0.9755\n",
      "Epoch 157/200\n"
     ]
    },
    {
     "data": {
      "application/vnd.jupyter.widget-view+json": {
       "model_id": "f0ecb848e7074de7bab3bfe50485adff",
       "version_major": 2,
       "version_minor": 0
      },
      "text/plain": [
       "0/46           ETA: ?s - "
      ]
     },
     "metadata": {},
     "output_type": "display_data"
    },
    {
     "name": "stdout",
     "output_type": "stream",
     "text": [
      "Epoch 157/200\n",
      "46/46 [==============================] - 0s 10ms/step - loss: 0.0340 - accuracy: 0.9872 - val_loss: 0.0440 - val_accuracy: 0.9789\n",
      "Epoch 158/200\n"
     ]
    },
    {
     "data": {
      "application/vnd.jupyter.widget-view+json": {
       "model_id": "77cfdbc1d48844abb4dffc663c456d65",
       "version_major": 2,
       "version_minor": 0
      },
      "text/plain": [
       "0/46           ETA: ?s - "
      ]
     },
     "metadata": {},
     "output_type": "display_data"
    },
    {
     "name": "stdout",
     "output_type": "stream",
     "text": [
      "Epoch 158/200\n",
      "46/46 [==============================] - 0s 10ms/step - loss: 0.0359 - accuracy: 0.9866 - val_loss: 0.0424 - val_accuracy: 0.9810\n",
      "Epoch 159/200\n"
     ]
    },
    {
     "data": {
      "application/vnd.jupyter.widget-view+json": {
       "model_id": "d0075399a3b5461b9909fb6e6fd613b9",
       "version_major": 2,
       "version_minor": 0
      },
      "text/plain": [
       "0/46           ETA: ?s - "
      ]
     },
     "metadata": {},
     "output_type": "display_data"
    },
    {
     "name": "stdout",
     "output_type": "stream",
     "text": [
      "Epoch 159/200\n",
      "46/46 [==============================] - 0s 10ms/step - loss: 0.0321 - accuracy: 0.9901 - val_loss: 0.0385 - val_accuracy: 0.9776\n",
      "Epoch 160/200\n"
     ]
    },
    {
     "data": {
      "application/vnd.jupyter.widget-view+json": {
       "model_id": "d73682326bd14adea6b53a1c620a9a68",
       "version_major": 2,
       "version_minor": 0
      },
      "text/plain": [
       "0/46           ETA: ?s - "
      ]
     },
     "metadata": {},
     "output_type": "display_data"
    },
    {
     "name": "stdout",
     "output_type": "stream",
     "text": [
      "Epoch 160/200\n",
      "46/46 [==============================] - 0s 10ms/step - loss: 0.0334 - accuracy: 0.9889 - val_loss: 0.0484 - val_accuracy: 0.9823\n",
      "Epoch 161/200\n"
     ]
    },
    {
     "data": {
      "application/vnd.jupyter.widget-view+json": {
       "model_id": "6844ae39c28c487a9f124caf4aa1e4cf",
       "version_major": 2,
       "version_minor": 0
      },
      "text/plain": [
       "0/46           ETA: ?s - "
      ]
     },
     "metadata": {},
     "output_type": "display_data"
    },
    {
     "name": "stdout",
     "output_type": "stream",
     "text": [
      "Epoch 161/200\n",
      "46/46 [==============================] - 0s 10ms/step - loss: 0.0358 - accuracy: 0.9864 - val_loss: 0.0582 - val_accuracy: 0.9748\n",
      "Epoch 162/200\n"
     ]
    },
    {
     "data": {
      "application/vnd.jupyter.widget-view+json": {
       "model_id": "fd37e2045d6c4033aa2d450680cecabe",
       "version_major": 2,
       "version_minor": 0
      },
      "text/plain": [
       "0/46           ETA: ?s - "
      ]
     },
     "metadata": {},
     "output_type": "display_data"
    },
    {
     "name": "stdout",
     "output_type": "stream",
     "text": [
      "Epoch 162/200\n",
      "46/46 [==============================] - 0s 10ms/step - loss: 0.0381 - accuracy: 0.9857 - val_loss: 0.0491 - val_accuracy: 0.9810\n",
      "Epoch 163/200\n"
     ]
    },
    {
     "data": {
      "application/vnd.jupyter.widget-view+json": {
       "model_id": "f90339810a834d859bec9b5317766d70",
       "version_major": 2,
       "version_minor": 0
      },
      "text/plain": [
       "0/46           ETA: ?s - "
      ]
     },
     "metadata": {},
     "output_type": "display_data"
    },
    {
     "name": "stdout",
     "output_type": "stream",
     "text": [
      "Epoch 163/200\n",
      "46/46 [==============================] - 0s 10ms/step - loss: 0.0349 - accuracy: 0.9864 - val_loss: 0.0526 - val_accuracy: 0.9776\n",
      "Epoch 164/200\n"
     ]
    },
    {
     "data": {
      "application/vnd.jupyter.widget-view+json": {
       "model_id": "5925e170e2944ed785d63ea55b51d7a9",
       "version_major": 2,
       "version_minor": 0
      },
      "text/plain": [
       "0/46           ETA: ?s - "
      ]
     },
     "metadata": {},
     "output_type": "display_data"
    },
    {
     "name": "stdout",
     "output_type": "stream",
     "text": [
      "Epoch 164/200\n",
      "46/46 [==============================] - 0s 10ms/step - loss: 0.0340 - accuracy: 0.9876 - val_loss: 0.0475 - val_accuracy: 0.9789\n",
      "Epoch 165/200\n"
     ]
    },
    {
     "data": {
      "application/vnd.jupyter.widget-view+json": {
       "model_id": "7a397428efed4ff78e357bccb902153a",
       "version_major": 2,
       "version_minor": 0
      },
      "text/plain": [
       "0/46           ETA: ?s - "
      ]
     },
     "metadata": {},
     "output_type": "display_data"
    },
    {
     "name": "stdout",
     "output_type": "stream",
     "text": [
      "Epoch 165/200\n",
      "46/46 [==============================] - 0s 10ms/step - loss: 0.0369 - accuracy: 0.9844 - val_loss: 0.0398 - val_accuracy: 0.9796\n",
      "Epoch 166/200\n"
     ]
    },
    {
     "data": {
      "application/vnd.jupyter.widget-view+json": {
       "model_id": "a5832d04475d46f8846b1991a1ec822d",
       "version_major": 2,
       "version_minor": 0
      },
      "text/plain": [
       "0/46           ETA: ?s - "
      ]
     },
     "metadata": {},
     "output_type": "display_data"
    },
    {
     "name": "stdout",
     "output_type": "stream",
     "text": [
      "Epoch 166/200\n",
      "46/46 [==============================] - 0s 10ms/step - loss: 0.0311 - accuracy: 0.9891 - val_loss: 0.0557 - val_accuracy: 0.9721\n",
      "Epoch 167/200\n"
     ]
    },
    {
     "data": {
      "application/vnd.jupyter.widget-view+json": {
       "model_id": "d1f00e6f9f7f4693be07576e96435fc0",
       "version_major": 2,
       "version_minor": 0
      },
      "text/plain": [
       "0/46           ETA: ?s - "
      ]
     },
     "metadata": {},
     "output_type": "display_data"
    },
    {
     "name": "stdout",
     "output_type": "stream",
     "text": [
      "Epoch 167/200\n",
      "46/46 [==============================] - 0s 10ms/step - loss: 0.0356 - accuracy: 0.9850 - val_loss: 0.1001 - val_accuracy: 0.9592\n",
      "Epoch 168/200\n"
     ]
    },
    {
     "data": {
      "application/vnd.jupyter.widget-view+json": {
       "model_id": "21d7eb86d16d4ff8847ad2861d20b3b2",
       "version_major": 2,
       "version_minor": 0
      },
      "text/plain": [
       "0/46           ETA: ?s - "
      ]
     },
     "metadata": {},
     "output_type": "display_data"
    },
    {
     "name": "stdout",
     "output_type": "stream",
     "text": [
      "Epoch 168/200\n",
      "46/46 [==============================] - 0s 10ms/step - loss: 0.0410 - accuracy: 0.9854 - val_loss: 0.0589 - val_accuracy: 0.9735\n",
      "Epoch 169/200\n"
     ]
    },
    {
     "data": {
      "application/vnd.jupyter.widget-view+json": {
       "model_id": "88dde1ea9d4f49eba3f2e681a77b7c4e",
       "version_major": 2,
       "version_minor": 0
      },
      "text/plain": [
       "0/46           ETA: ?s - "
      ]
     },
     "metadata": {},
     "output_type": "display_data"
    },
    {
     "name": "stdout",
     "output_type": "stream",
     "text": [
      "Epoch 169/200\n",
      "46/46 [==============================] - 0s 10ms/step - loss: 0.0340 - accuracy: 0.9859 - val_loss: 0.0413 - val_accuracy: 0.9796\n",
      "Epoch 170/200\n"
     ]
    },
    {
     "data": {
      "application/vnd.jupyter.widget-view+json": {
       "model_id": "38cf610f7f394dc496ea5e02eafb5a35",
       "version_major": 2,
       "version_minor": 0
      },
      "text/plain": [
       "0/46           ETA: ?s - "
      ]
     },
     "metadata": {},
     "output_type": "display_data"
    },
    {
     "name": "stdout",
     "output_type": "stream",
     "text": [
      "Epoch 170/200\n",
      "46/46 [==============================] - 0s 10ms/step - loss: 0.0327 - accuracy: 0.9881 - val_loss: 0.0516 - val_accuracy: 0.9796\n",
      "Epoch 171/200\n"
     ]
    },
    {
     "data": {
      "application/vnd.jupyter.widget-view+json": {
       "model_id": "c6436175c61b4340a97aa6c5cc0532aa",
       "version_major": 2,
       "version_minor": 0
      },
      "text/plain": [
       "0/46           ETA: ?s - "
      ]
     },
     "metadata": {},
     "output_type": "display_data"
    },
    {
     "name": "stdout",
     "output_type": "stream",
     "text": [
      "Epoch 171/200\n",
      "46/46 [==============================] - 0s 10ms/step - loss: 0.0387 - accuracy: 0.9835 - val_loss: 0.1059 - val_accuracy: 0.9531\n",
      "Epoch 172/200\n"
     ]
    },
    {
     "data": {
      "application/vnd.jupyter.widget-view+json": {
       "model_id": "37ab9fc96198409a9bd5eecce1ffaa8e",
       "version_major": 2,
       "version_minor": 0
      },
      "text/plain": [
       "0/46           ETA: ?s - "
      ]
     },
     "metadata": {},
     "output_type": "display_data"
    },
    {
     "name": "stdout",
     "output_type": "stream",
     "text": [
      "Epoch 172/200\n",
      "46/46 [==============================] - 0s 10ms/step - loss: 0.0501 - accuracy: 0.9799 - val_loss: 0.0546 - val_accuracy: 0.9789\n",
      "Epoch 173/200\n"
     ]
    },
    {
     "data": {
      "application/vnd.jupyter.widget-view+json": {
       "model_id": "96c56560d2534eec855a06a9e2085846",
       "version_major": 2,
       "version_minor": 0
      },
      "text/plain": [
       "0/46           ETA: ?s - "
      ]
     },
     "metadata": {},
     "output_type": "display_data"
    },
    {
     "name": "stdout",
     "output_type": "stream",
     "text": [
      "Epoch 173/200\n",
      "46/46 [==============================] - 0s 10ms/step - loss: 0.0418 - accuracy: 0.9840 - val_loss: 0.0484 - val_accuracy: 0.9803\n",
      "Epoch 174/200\n"
     ]
    },
    {
     "data": {
      "application/vnd.jupyter.widget-view+json": {
       "model_id": "73ed8fb313054f5ca504829e324eff10",
       "version_major": 2,
       "version_minor": 0
      },
      "text/plain": [
       "0/46           ETA: ?s - "
      ]
     },
     "metadata": {},
     "output_type": "display_data"
    },
    {
     "name": "stdout",
     "output_type": "stream",
     "text": [
      "Epoch 174/200\n",
      "46/46 [==============================] - 0s 10ms/step - loss: 0.0336 - accuracy: 0.9872 - val_loss: 0.0449 - val_accuracy: 0.9796\n",
      "Epoch 175/200\n"
     ]
    },
    {
     "data": {
      "application/vnd.jupyter.widget-view+json": {
       "model_id": "a4966f503b6a46c9940d43187b261d12",
       "version_major": 2,
       "version_minor": 0
      },
      "text/plain": [
       "0/46           ETA: ?s - "
      ]
     },
     "metadata": {},
     "output_type": "display_data"
    },
    {
     "name": "stdout",
     "output_type": "stream",
     "text": [
      "Epoch 175/200\n",
      "46/46 [==============================] - 0s 10ms/step - loss: 0.0313 - accuracy: 0.9881 - val_loss: 0.0564 - val_accuracy: 0.9694\n",
      "Epoch 176/200\n"
     ]
    },
    {
     "data": {
      "application/vnd.jupyter.widget-view+json": {
       "model_id": "dd23b5d03e524602924aeb8811b10fcd",
       "version_major": 2,
       "version_minor": 0
      },
      "text/plain": [
       "0/46           ETA: ?s - "
      ]
     },
     "metadata": {},
     "output_type": "display_data"
    },
    {
     "name": "stdout",
     "output_type": "stream",
     "text": [
      "Epoch 176/200\n",
      "46/46 [==============================] - 0s 10ms/step - loss: 0.0318 - accuracy: 0.9893 - val_loss: 0.0446 - val_accuracy: 0.9830\n",
      "Epoch 177/200\n"
     ]
    },
    {
     "data": {
      "application/vnd.jupyter.widget-view+json": {
       "model_id": "5480b56b76c242e29e2b7b27d7eca480",
       "version_major": 2,
       "version_minor": 0
      },
      "text/plain": [
       "0/46           ETA: ?s - "
      ]
     },
     "metadata": {},
     "output_type": "display_data"
    },
    {
     "name": "stdout",
     "output_type": "stream",
     "text": [
      "Epoch 177/200\n",
      "46/46 [==============================] - 0s 10ms/step - loss: 0.0308 - accuracy: 0.9878 - val_loss: 0.0362 - val_accuracy: 0.9857\n",
      "Epoch 178/200\n"
     ]
    },
    {
     "data": {
      "application/vnd.jupyter.widget-view+json": {
       "model_id": "aeade81f1c5040ae99e162ad38263d48",
       "version_major": 2,
       "version_minor": 0
      },
      "text/plain": [
       "0/46           ETA: ?s - "
      ]
     },
     "metadata": {},
     "output_type": "display_data"
    },
    {
     "name": "stdout",
     "output_type": "stream",
     "text": [
      "Epoch 178/200\n",
      "46/46 [==============================] - 0s 10ms/step - loss: 0.0301 - accuracy: 0.9900 - val_loss: 0.0522 - val_accuracy: 0.9748\n",
      "Epoch 179/200\n"
     ]
    },
    {
     "data": {
      "application/vnd.jupyter.widget-view+json": {
       "model_id": "094b88774f65494fab2c1e7455d62a93",
       "version_major": 2,
       "version_minor": 0
      },
      "text/plain": [
       "0/46           ETA: ?s - "
      ]
     },
     "metadata": {},
     "output_type": "display_data"
    },
    {
     "name": "stdout",
     "output_type": "stream",
     "text": [
      "Epoch 179/200\n",
      "46/46 [==============================] - 0s 10ms/step - loss: 0.0319 - accuracy: 0.9891 - val_loss: 0.1033 - val_accuracy: 0.9565\n",
      "Epoch 180/200\n"
     ]
    },
    {
     "data": {
      "application/vnd.jupyter.widget-view+json": {
       "model_id": "6b59945fb03c4a08914b88688d504976",
       "version_major": 2,
       "version_minor": 0
      },
      "text/plain": [
       "0/46           ETA: ?s - "
      ]
     },
     "metadata": {},
     "output_type": "display_data"
    },
    {
     "name": "stdout",
     "output_type": "stream",
     "text": [
      "Epoch 180/200\n",
      "46/46 [==============================] - 0s 10ms/step - loss: 0.0329 - accuracy: 0.9855 - val_loss: 0.0409 - val_accuracy: 0.9796\n",
      "Epoch 181/200\n"
     ]
    },
    {
     "data": {
      "application/vnd.jupyter.widget-view+json": {
       "model_id": "ecb7abbc26de4b58b98e4b08d35d3e74",
       "version_major": 2,
       "version_minor": 0
      },
      "text/plain": [
       "0/46           ETA: ?s - "
      ]
     },
     "metadata": {},
     "output_type": "display_data"
    },
    {
     "name": "stdout",
     "output_type": "stream",
     "text": [
      "Epoch 181/200\n",
      "46/46 [==============================] - 0s 10ms/step - loss: 0.0302 - accuracy: 0.9900 - val_loss: 0.0446 - val_accuracy: 0.9823\n",
      "Epoch 182/200\n"
     ]
    },
    {
     "data": {
      "application/vnd.jupyter.widget-view+json": {
       "model_id": "9e3f5bbf6e424d49b22d0e17f050ef75",
       "version_major": 2,
       "version_minor": 0
      },
      "text/plain": [
       "0/46           ETA: ?s - "
      ]
     },
     "metadata": {},
     "output_type": "display_data"
    },
    {
     "name": "stdout",
     "output_type": "stream",
     "text": [
      "Epoch 182/200\n",
      "46/46 [==============================] - 0s 10ms/step - loss: 0.0290 - accuracy: 0.9905 - val_loss: 0.0353 - val_accuracy: 0.9857\n",
      "Epoch 183/200\n"
     ]
    },
    {
     "data": {
      "application/vnd.jupyter.widget-view+json": {
       "model_id": "406fa07192694ab0be9b2018ee9c5f73",
       "version_major": 2,
       "version_minor": 0
      },
      "text/plain": [
       "0/46           ETA: ?s - "
      ]
     },
     "metadata": {},
     "output_type": "display_data"
    },
    {
     "name": "stdout",
     "output_type": "stream",
     "text": [
      "Epoch 183/200\n",
      "46/46 [==============================] - 0s 10ms/step - loss: 0.0297 - accuracy: 0.9896 - val_loss: 0.0440 - val_accuracy: 0.9789\n",
      "Epoch 184/200\n"
     ]
    },
    {
     "data": {
      "application/vnd.jupyter.widget-view+json": {
       "model_id": "3d162e2caea742dfaa2c3355d8c4ab6e",
       "version_major": 2,
       "version_minor": 0
      },
      "text/plain": [
       "0/46           ETA: ?s - "
      ]
     },
     "metadata": {},
     "output_type": "display_data"
    },
    {
     "name": "stdout",
     "output_type": "stream",
     "text": [
      "Epoch 184/200\n",
      "46/46 [==============================] - 0s 10ms/step - loss: 0.0321 - accuracy: 0.9871 - val_loss: 0.0387 - val_accuracy: 0.9816\n",
      "Epoch 185/200\n"
     ]
    },
    {
     "data": {
      "application/vnd.jupyter.widget-view+json": {
       "model_id": "aa47ce2c2cf7429698e4c20c72ca951b",
       "version_major": 2,
       "version_minor": 0
      },
      "text/plain": [
       "0/46           ETA: ?s - "
      ]
     },
     "metadata": {},
     "output_type": "display_data"
    },
    {
     "name": "stdout",
     "output_type": "stream",
     "text": [
      "Epoch 185/200\n",
      "46/46 [==============================] - 0s 10ms/step - loss: 0.0312 - accuracy: 0.9893 - val_loss: 0.0401 - val_accuracy: 0.9810\n",
      "Epoch 186/200\n"
     ]
    },
    {
     "data": {
      "application/vnd.jupyter.widget-view+json": {
       "model_id": "759b7ec72e094038bed3372b1d41c5dc",
       "version_major": 2,
       "version_minor": 0
      },
      "text/plain": [
       "0/46           ETA: ?s - "
      ]
     },
     "metadata": {},
     "output_type": "display_data"
    },
    {
     "name": "stdout",
     "output_type": "stream",
     "text": [
      "Epoch 186/200\n",
      "46/46 [==============================] - 0s 10ms/step - loss: 0.0282 - accuracy: 0.9898 - val_loss: 0.0345 - val_accuracy: 0.9884\n",
      "Epoch 187/200\n"
     ]
    },
    {
     "data": {
      "application/vnd.jupyter.widget-view+json": {
       "model_id": "04292199499b407ba0be063bf671d428",
       "version_major": 2,
       "version_minor": 0
      },
      "text/plain": [
       "0/46           ETA: ?s - "
      ]
     },
     "metadata": {},
     "output_type": "display_data"
    },
    {
     "name": "stdout",
     "output_type": "stream",
     "text": [
      "Epoch 187/200\n",
      "46/46 [==============================] - 0s 10ms/step - loss: 0.0336 - accuracy: 0.9878 - val_loss: 0.4298 - val_accuracy: 0.9109\n",
      "Epoch 188/200\n"
     ]
    },
    {
     "data": {
      "application/vnd.jupyter.widget-view+json": {
       "model_id": "d314897d688d4be9907495137538d64e",
       "version_major": 2,
       "version_minor": 0
      },
      "text/plain": [
       "0/46           ETA: ?s - "
      ]
     },
     "metadata": {},
     "output_type": "display_data"
    },
    {
     "name": "stdout",
     "output_type": "stream",
     "text": [
      "Epoch 188/200\n",
      "46/46 [==============================] - 0s 10ms/step - loss: 0.0336 - accuracy: 0.9862 - val_loss: 0.0715 - val_accuracy: 0.9708\n",
      "Epoch 189/200\n"
     ]
    },
    {
     "data": {
      "application/vnd.jupyter.widget-view+json": {
       "model_id": "1811a0f86e024adaa571121ac65d790f",
       "version_major": 2,
       "version_minor": 0
      },
      "text/plain": [
       "0/46           ETA: ?s - "
      ]
     },
     "metadata": {},
     "output_type": "display_data"
    },
    {
     "name": "stdout",
     "output_type": "stream",
     "text": [
      "Epoch 189/200\n",
      "46/46 [==============================] - 0s 10ms/step - loss: 0.0315 - accuracy: 0.9889 - val_loss: 0.0773 - val_accuracy: 0.9653\n",
      "Epoch 190/200\n"
     ]
    },
    {
     "data": {
      "application/vnd.jupyter.widget-view+json": {
       "model_id": "0fa6525ec0a142559443f0fb7d00270f",
       "version_major": 2,
       "version_minor": 0
      },
      "text/plain": [
       "0/46           ETA: ?s - "
      ]
     },
     "metadata": {},
     "output_type": "display_data"
    },
    {
     "name": "stdout",
     "output_type": "stream",
     "text": [
      "Epoch 190/200\n",
      "46/46 [==============================] - 0s 10ms/step - loss: 0.0373 - accuracy: 0.9850 - val_loss: 0.0682 - val_accuracy: 0.9708\n",
      "Epoch 191/200\n"
     ]
    },
    {
     "data": {
      "application/vnd.jupyter.widget-view+json": {
       "model_id": "fc0c6c7ddc5c4111b385578c6a2ebfda",
       "version_major": 2,
       "version_minor": 0
      },
      "text/plain": [
       "0/46           ETA: ?s - "
      ]
     },
     "metadata": {},
     "output_type": "display_data"
    },
    {
     "name": "stdout",
     "output_type": "stream",
     "text": [
      "Epoch 191/200\n",
      "46/46 [==============================] - 0s 10ms/step - loss: 0.0382 - accuracy: 0.9827 - val_loss: 0.0809 - val_accuracy: 0.9585\n",
      "Epoch 192/200\n"
     ]
    },
    {
     "data": {
      "application/vnd.jupyter.widget-view+json": {
       "model_id": "8b14c73599b746a68bfb5f0af052465c",
       "version_major": 2,
       "version_minor": 0
      },
      "text/plain": [
       "0/46           ETA: ?s - "
      ]
     },
     "metadata": {},
     "output_type": "display_data"
    },
    {
     "name": "stdout",
     "output_type": "stream",
     "text": [
      "Epoch 192/200\n",
      "46/46 [==============================] - 0s 10ms/step - loss: 0.0317 - accuracy: 0.9874 - val_loss: 0.0360 - val_accuracy: 0.9864\n",
      "Epoch 193/200\n"
     ]
    },
    {
     "data": {
      "application/vnd.jupyter.widget-view+json": {
       "model_id": "60eb4f71f0b2443a997a0df288f81be1",
       "version_major": 2,
       "version_minor": 0
      },
      "text/plain": [
       "0/46           ETA: ?s - "
      ]
     },
     "metadata": {},
     "output_type": "display_data"
    },
    {
     "name": "stdout",
     "output_type": "stream",
     "text": [
      "Epoch 193/200\n",
      "46/46 [==============================] - 0s 10ms/step - loss: 0.0323 - accuracy: 0.9866 - val_loss: 0.0422 - val_accuracy: 0.9810\n",
      "Epoch 194/200\n"
     ]
    },
    {
     "data": {
      "application/vnd.jupyter.widget-view+json": {
       "model_id": "7967c37bf3ef409e920a2a35099ffdce",
       "version_major": 2,
       "version_minor": 0
      },
      "text/plain": [
       "0/46           ETA: ?s - "
      ]
     },
     "metadata": {},
     "output_type": "display_data"
    },
    {
     "name": "stdout",
     "output_type": "stream",
     "text": [
      "Epoch 194/200\n",
      "46/46 [==============================] - 0s 10ms/step - loss: 0.0389 - accuracy: 0.9830 - val_loss: 0.0806 - val_accuracy: 0.9694\n",
      "Epoch 195/200\n"
     ]
    },
    {
     "data": {
      "application/vnd.jupyter.widget-view+json": {
       "model_id": "418f4caef7094ecf895a885dbd6e8e9e",
       "version_major": 2,
       "version_minor": 0
      },
      "text/plain": [
       "0/46           ETA: ?s - "
      ]
     },
     "metadata": {},
     "output_type": "display_data"
    },
    {
     "name": "stdout",
     "output_type": "stream",
     "text": [
      "Epoch 195/200\n",
      "46/46 [==============================] - 0s 10ms/step - loss: 0.0294 - accuracy: 0.9903 - val_loss: 0.0456 - val_accuracy: 0.9823\n",
      "Epoch 196/200\n"
     ]
    },
    {
     "data": {
      "application/vnd.jupyter.widget-view+json": {
       "model_id": "8e925833f8564f86ae79ff9c29d33b80",
       "version_major": 2,
       "version_minor": 0
      },
      "text/plain": [
       "0/46           ETA: ?s - "
      ]
     },
     "metadata": {},
     "output_type": "display_data"
    },
    {
     "name": "stdout",
     "output_type": "stream",
     "text": [
      "Epoch 196/200\n",
      "46/46 [==============================] - 0s 10ms/step - loss: 0.0261 - accuracy: 0.9901 - val_loss: 0.0344 - val_accuracy: 0.9878\n",
      "Epoch 197/200\n"
     ]
    },
    {
     "data": {
      "application/vnd.jupyter.widget-view+json": {
       "model_id": "0e41cd5e1bf948fca2c398d61dc79e43",
       "version_major": 2,
       "version_minor": 0
      },
      "text/plain": [
       "0/46           ETA: ?s - "
      ]
     },
     "metadata": {},
     "output_type": "display_data"
    },
    {
     "name": "stdout",
     "output_type": "stream",
     "text": [
      "Epoch 197/200\n",
      "46/46 [==============================] - 0s 10ms/step - loss: 0.0290 - accuracy: 0.9893 - val_loss: 0.0548 - val_accuracy: 0.9742\n",
      "Epoch 198/200\n"
     ]
    },
    {
     "data": {
      "application/vnd.jupyter.widget-view+json": {
       "model_id": "32b470dbffc14cc8bc58aaae382b879a",
       "version_major": 2,
       "version_minor": 0
      },
      "text/plain": [
       "0/46           ETA: ?s - "
      ]
     },
     "metadata": {},
     "output_type": "display_data"
    },
    {
     "name": "stdout",
     "output_type": "stream",
     "text": [
      "Epoch 198/200\n",
      "46/46 [==============================] - 0s 10ms/step - loss: 0.0274 - accuracy: 0.9896 - val_loss: 0.0314 - val_accuracy: 0.9878\n",
      "Epoch 199/200\n"
     ]
    },
    {
     "data": {
      "application/vnd.jupyter.widget-view+json": {
       "model_id": "a9f72d21c5924e32834ed5f98b8a3447",
       "version_major": 2,
       "version_minor": 0
      },
      "text/plain": [
       "0/46           ETA: ?s - "
      ]
     },
     "metadata": {},
     "output_type": "display_data"
    },
    {
     "name": "stdout",
     "output_type": "stream",
     "text": [
      "Epoch 199/200\n",
      "46/46 [==============================] - 0s 10ms/step - loss: 0.0275 - accuracy: 0.9900 - val_loss: 0.0541 - val_accuracy: 0.9742\n",
      "Epoch 200/200\n"
     ]
    },
    {
     "data": {
      "application/vnd.jupyter.widget-view+json": {
       "model_id": "76c93e988e164efd96f9d9add312bbd7",
       "version_major": 2,
       "version_minor": 0
      },
      "text/plain": [
       "0/46           ETA: ?s - "
      ]
     },
     "metadata": {},
     "output_type": "display_data"
    },
    {
     "name": "stdout",
     "output_type": "stream",
     "text": [
      "Epoch 200/200\n",
      "46/46 [==============================] - 0s 10ms/step - loss: 0.0257 - accuracy: 0.9901 - val_loss: 0.0551 - val_accuracy: 0.9728\n"
     ]
    },
    {
     "data": {
      "text/plain": [
       "<keras.callbacks.History at 0x7f3b6a878e80>"
      ]
     },
     "execution_count": 22,
     "metadata": {},
     "output_type": "execute_result"
    }
   ],
   "source": [
    "model.fit(x_input, y_input, \n",
    "          epochs=200, \n",
    "          batch_size=128,\n",
    "          validation_data=(x_val, y_val),\n",
    "          callbacks=[tensorboard_callback, tqdm_callback, early_stopping_callbacks]\n",
    "         )"
   ]
  },
  {
   "cell_type": "code",
   "execution_count": null,
   "id": "ffba12a8",
   "metadata": {},
   "outputs": [],
   "source": [
    "#Calculate test accuracy"
   ]
  },
  {
   "cell_type": "code",
   "execution_count": 42,
   "id": "003964ee-7a17-4f5c-a2f7-948f85c47d4a",
   "metadata": {},
   "outputs": [
    {
     "name": "stdout",
     "output_type": "stream",
     "text": [
      "(2947, 128, 9)\n",
      "(2947, 6)\n"
     ]
    }
   ],
   "source": [
    "#one-hot encoding for labels\n",
    "ytest = tf.keras.utils.to_categorical(ytest)\n",
    "xtest = tf.convert_to_tensor(xtest, tf.float32)\n",
    "ytest = tf.convert_to_tensor(ytest, tf.float32)\n",
    "y_val = tf.convert_to_tensor(y_val, tf.float32)\n",
    "print(xtest.shape)\n",
    "print(ytest.shape)"
   ]
  },
  {
   "cell_type": "code",
   "execution_count": 52,
   "id": "9b03cdb1-9ea7-4652-bf00-60c65099fb1a",
   "metadata": {},
   "outputs": [
    {
     "name": "stdout",
     "output_type": "stream",
     "text": [
      "93/93 [==============================] - 0s 3ms/step - loss: 0.5093 - accuracy: 0.9264\n",
      "Test Accuracy : 0.9263657927513123\n",
      "Test Loss : 0.5092732310295105\n"
     ]
    }
   ],
   "source": [
    "loss, accuracy = model.evaluate(xtest, ytest, verbose = 1)\n",
    "print(\"Test Accuracy :\", accuracy)\n",
    "print(\"Test Loss :\", loss)"
   ]
  },
  {
   "cell_type": "code",
   "execution_count": 57,
   "id": "4c28f412-c4f9-46cc-b197-f14dab023d5c",
   "metadata": {},
   "outputs": [
    {
     "data": {
      "image/png": "[encoded data removed]",
      "text/plain": [
       "<Figure size 640x480 with 2 Axes>"
      ]
     },
     "metadata": {},
     "output_type": "display_data"
    }
   ],
   "source": [
    "class_labels = ['Walking', 'Walking Upstairs', 'Walking downstairs', 'Sitting', 'Standing', 'Laying']\n",
    "\n",
    "from sklearn.metrics import confusion_matrix\n",
    "\n",
    "max_test = np.argmax(ytest, axis=1)\n",
    "max_predictions = np.argmax(predictions, axis=1)\n",
    "confusion_matrix = confusion_matrix(max_test, max_predictions)\n",
    "sns.heatmap(confusion_matrix, xticklabels = class_labels, yticklabels = class_labels, annot = True, linewidths = 0.1, fmt='d', cmap = 'YlGnBu')\n",
    "plt.title(\"Confusion matrix\", fontsize = 15)\n",
    "plt.ylabel('True label')\n",
    "plt.xlabel('Predicted label')\n",
    "plt.show()"
   ]
  },
  {
   "cell_type": "code",
   "execution_count": null,
   "id": "00af9f6e-ddc8-4ffd-a5ba-f308b40e0dba",
   "metadata": {},
   "outputs": [],
   "source": [
    "# Calculating accuracy for each variable\n",
    "\n",
    "\n",
    "\n",
    "\n",
    "\n"
   ]
  },
  {
   "cell_type": "code",
   "execution_count": 43,
   "id": "aabd2562",
   "metadata": {},
   "outputs": [],
   "source": [
    "predictions = model.predict(xtest)"
   ]
  },
  {
   "cell_type": "code",
   "execution_count": 47,
   "id": "59f3bf59-1f7f-4f08-8d7c-82c80d59060b",
   "metadata": {},
   "outputs": [
    {
     "name": "stderr",
     "output_type": "stream",
     "text": [
      "2023-07-11 17:06:54.570088: W tensorflow/core/framework/op_kernel.cc:1733] INVALID_ARGUMENT: required broadcastable shapes\n"
     ]
    },
    {
     "ename": "InvalidArgumentError",
     "evalue": "required broadcastable shapes [Op:Equal]",
     "output_type": "error",
     "traceback": [
      "\u001b[0;31m---------------------------------------------------------------------------\u001b[0m",
      "\u001b[0;31mInvalidArgumentError\u001b[0m                      Traceback (most recent call last)",
      "Cell \u001b[0;32mIn[47], line 3\u001b[0m\n\u001b[1;32m      1\u001b[0m predictions \u001b[38;5;241m=\u001b[39m model\u001b[38;5;241m.\u001b[39mpredict(xtest,verbose\u001b[38;5;241m=\u001b[39m\u001b[38;5;241m0\u001b[39m)\n\u001b[1;32m      2\u001b[0m y_pred \u001b[38;5;241m=\u001b[39m np\u001b[38;5;241m.\u001b[39margmax(predictions,axis\u001b[38;5;241m=\u001b[39m\u001b[38;5;241m-\u001b[39m\u001b[38;5;241m1\u001b[39m)\n\u001b[0;32m----> 3\u001b[0m \u001b[38;5;28mprint\u001b[39m(\u001b[38;5;124m'\u001b[39m\u001b[38;5;124mtrain accuracy: \u001b[39m\u001b[38;5;124m'\u001b[39m, np\u001b[38;5;241m.\u001b[39msum(\u001b[43my_pred\u001b[49m\u001b[38;5;241;43m==\u001b[39;49m\u001b[43my_input\u001b[49m\u001b[43m[\u001b[49m\u001b[43m:\u001b[49m\u001b[43m,\u001b[49m\u001b[38;5;241;43m0\u001b[39;49m\u001b[43m]\u001b[49m)\u001b[38;5;241m/\u001b[39m\u001b[38;5;28mlen\u001b[39m(y_input))\n",
      "File \u001b[0;32m/opt/conda/lib/python3.8/site-packages/tensorflow/python/util/traceback_utils.py:153\u001b[0m, in \u001b[0;36mfilter_traceback.<locals>.error_handler\u001b[0;34m(*args, **kwargs)\u001b[0m\n\u001b[1;32m    151\u001b[0m \u001b[38;5;28;01mexcept\u001b[39;00m \u001b[38;5;167;01mException\u001b[39;00m \u001b[38;5;28;01mas\u001b[39;00m e:\n\u001b[1;32m    152\u001b[0m   filtered_tb \u001b[38;5;241m=\u001b[39m _process_traceback_frames(e\u001b[38;5;241m.\u001b[39m__traceback__)\n\u001b[0;32m--> 153\u001b[0m   \u001b[38;5;28;01mraise\u001b[39;00m e\u001b[38;5;241m.\u001b[39mwith_traceback(filtered_tb) \u001b[38;5;28;01mfrom\u001b[39;00m \u001b[38;5;28;01mNone\u001b[39;00m\n\u001b[1;32m    154\u001b[0m \u001b[38;5;28;01mfinally\u001b[39;00m:\n\u001b[1;32m    155\u001b[0m   \u001b[38;5;28;01mdel\u001b[39;00m filtered_tb\n",
      "File \u001b[0;32m/opt/conda/lib/python3.8/site-packages/tensorflow/python/framework/ops.py:7186\u001b[0m, in \u001b[0;36mraise_from_not_ok_status\u001b[0;34m(e, name)\u001b[0m\n\u001b[1;32m   7184\u001b[0m \u001b[38;5;28;01mdef\u001b[39;00m \u001b[38;5;21mraise_from_not_ok_status\u001b[39m(e, name):\n\u001b[1;32m   7185\u001b[0m   e\u001b[38;5;241m.\u001b[39mmessage \u001b[38;5;241m+\u001b[39m\u001b[38;5;241m=\u001b[39m (\u001b[38;5;124m\"\u001b[39m\u001b[38;5;124m name: \u001b[39m\u001b[38;5;124m\"\u001b[39m \u001b[38;5;241m+\u001b[39m name \u001b[38;5;28;01mif\u001b[39;00m name \u001b[38;5;129;01mis\u001b[39;00m \u001b[38;5;129;01mnot\u001b[39;00m \u001b[38;5;28;01mNone\u001b[39;00m \u001b[38;5;28;01melse\u001b[39;00m \u001b[38;5;124m\"\u001b[39m\u001b[38;5;124m\"\u001b[39m)\n\u001b[0;32m-> 7186\u001b[0m   \u001b[38;5;28;01mraise\u001b[39;00m core\u001b[38;5;241m.\u001b[39m_status_to_exception(e) \u001b[38;5;28;01mfrom\u001b[39;00m \u001b[38;5;28;01mNone\u001b[39;00m\n",
      "\u001b[0;31mInvalidArgumentError\u001b[0m: required broadcastable shapes [Op:Equal]"
     ]
    }
   ],
   "source": [
    "predictions = model.predict(xtest,verbose=0)\n",
    "y_pred = np.argmax(predictions,axis=-1)\n",
    "print('train accuracy: ', np.sum(y_pred==y_input[:,0])/len(y_input))"
   ]
  },
  {
   "cell_type": "code",
   "execution_count": 58,
   "id": "72091fda-bb61-41e7-aab7-bc44ae98e41d",
   "metadata": {},
   "outputs": [
    {
     "data": {
      "text/plain": [
       "array([4, 4, 4, ..., 1, 1, 1])"
      ]
     },
     "execution_count": 58,
     "metadata": {},
     "output_type": "execute_result"
    }
   ],
   "source": [
    "max_test"
   ]
  },
  {
   "cell_type": "code",
   "execution_count": null,
   "id": "28488ec4-3eeb-459a-82ba-668b8c23875d",
   "metadata": {},
   "outputs": [],
   "source": []
  },
  {
   "cell_type": "code",
   "execution_count": null,
   "id": "b0bbcd0b-8341-4bf9-8f4a-e3230fbd186f",
   "metadata": {},
   "outputs": [],
   "source": []
  },
  {
   "cell_type": "code",
   "execution_count": null,
   "id": "b1edfb2c-afd7-43d2-9135-416ece71f72f",
   "metadata": {},
   "outputs": [],
   "source": []
  },
  {
   "cell_type": "code",
   "execution_count": null,
   "id": "f1f9c87a-c167-4bd7-aeb2-a8d5927c30cc",
   "metadata": {},
   "outputs": [],
   "source": []
  },
  {
   "cell_type": "code",
   "execution_count": 23,
   "id": "38cea57f-d0c5-45bc-97d8-3d58716af209",
   "metadata": {},
   "outputs": [],
   "source": [
    "#DELETE FROM HERE ONWARDS"
   ]
  },
  {
   "cell_type": "code",
   "execution_count": 24,
   "id": "a69b1ce6-c894-44ed-9d75-e450091ce7f7",
   "metadata": {},
   "outputs": [],
   "source": [
    "# Set up logging jupiterhub tensorboard\n",
    "logdir = '/home/jovyan/logs/Project'\n",
    "writer = tf.summary.create_file_writer(logdir)"
   ]
  },
  {
   "cell_type": "code",
   "execution_count": 58,
   "id": "649fddaf",
   "metadata": {},
   "outputs": [],
   "source": [
    "#Create weight tensors\n",
    "W = tf.Variable(tf.zeros([384,6]),name='W', dtype=tf.float32)  #weight\n",
    "b = tf.Variable(tf.zeros([6]),name='b', dtype=tf.float32)   #offset\n",
    "\n",
    "# #using softmax activation layer on a vector with 6 entries\n",
    "def y_pred(x):\n",
    "    return tf.nn.softmax(tf.matmul(x,W) + b)\n",
    "\n",
    "    \n",
    "# cross entropy loss function\n",
    "@tf.function\n",
    "def loss(x,y):\n",
    "    y_ = y_pred(x)\n",
    "    return tf.reduce_mean(-tf.reduce_sum(y * tf.math.log(y_), axis=[1]))\n",
    "\n",
    "#accuracy\n",
    "def accuracy(x,y):\n",
    "    y_ = y_pred(x)\n",
    "    # calculate where the prediction equals the label\n",
    "    correct = tf.math.equal(tf.math.argmax(y_,axis=-1),tf.math.argmax(y,axis=-1))\n",
    "    # convert to a float (previously boolean)\n",
    "    correct = tf.cast(correct,dtype=tf.float32)\n",
    "    # return the mean to give the overall accuracy\n",
    "    return tf.math.reduce_mean(correct)"
   ]
  },
  {
   "cell_type": "code",
   "execution_count": 59,
   "id": "68d0997c",
   "metadata": {},
   "outputs": [],
   "source": [
    "# Selecting training parameters\n",
    "n_iters = 3000\n",
    "epochs = range(n_iters)\n",
    "\n",
    "# learning rate\n",
    "lr = 0.1\n",
    "\n",
    "# gradient descent optimizer\n",
    "optimizer = tf.keras.optimizers.Adam(lr) \n"
   ]
  },
  {
   "cell_type": "code",
   "execution_count": 60,
   "id": "3cb4c75d",
   "metadata": {},
   "outputs": [
    {
     "data": {
      "application/vnd.jupyter.widget-view+json": {
       "model_id": "a28e2755a4f0455ab07407aa1d5b4cfb",
       "version_major": 2,
       "version_minor": 0
      },
      "text/plain": [
       "  0%|          | 0/3000 [00:00<?, ?it/s]"
      ]
     },
     "metadata": {},
     "output_type": "display_data"
    },
    {
     "name": "stdout",
     "output_type": "stream",
     "text": [
      "Training Step:0  Loss = tf.Tensor(1.7917595, shape=(), dtype=float32)\n",
      "Training Step:1000  Loss = tf.Tensor(1.5886203, shape=(), dtype=float32)\n",
      "Training Step:2000  Loss = tf.Tensor(1.5879076, shape=(), dtype=float32)\n"
     ]
    }
   ],
   "source": [
    "with writer.as_default():\n",
    "    for i in tqdm(epochs):\n",
    "        with tf.GradientTape() as tape:\n",
    "            current_loss = loss(x_input, y_input)\n",
    "        gradients = tape.gradient(current_loss, [W, b])\n",
    "        optimizer.apply_gradients(zip(gradients, [W ,b]))\n",
    "        tf.summary.scalar('loss', current_loss, step=i)  # write to tensorboard\n",
    "        train_acc = accuracy(x_input,y_input)\n",
    "        val_acc = accuracy(X_val,y_val)\n",
    "        tf.summary.scalar('train_acc', train_acc, step=i)  # write to tensorboard\n",
    "        tf.summary.scalar('val_acc', val_acc, step=i)  # write to tensorboard\n",
    "        if i%1000 == 0:\n",
    "            print('Training Step:' + str(i) + '  Loss = ' + str(current_loss))\n",
    "        # tf.print('val_acc', val_acc, output_stream=sys.stdout)\n",
    "\n",
    "#plt.plot(loss_train)\n",
    "#plt.show()"
   ]
  },
  {
   "cell_type": "code",
   "execution_count": null,
   "id": "4e306a5a",
   "metadata": {},
   "outputs": [],
   "source": []
  },
  {
   "cell_type": "markdown",
   "id": "1eacd237-cb68-4f63-8c0f-f94df312436b",
   "metadata": {},
   "source": [
    "## Part 2"
   ]
  },
  {
   "cell_type": "code",
   "execution_count": null,
   "id": "8ad5036f",
   "metadata": {},
   "outputs": [],
   "source": [
    "# 1‐dimensional convolutional neural network"
   ]
  },
  {
   "cell_type": "markdown",
   "id": "7f03d19d-aa47-43fa-bb3e-ddfcff909f93",
   "metadata": {},
   "source": [
    "Note: Your training data tensors will need to have their original shape of [n,128,3] so make sure to recreate the tensors after\n",
    "you have completed part 1"
   ]
  },
  {
   "cell_type": "code",
   "execution_count": 12,
   "id": "bd08b0f4-d2f9-409f-a605-6e80fd449ffa",
   "metadata": {},
   "outputs": [],
   "source": [
    "#tensorboad set up\n",
    "logdir = '/home/jovyan/logs/Project'"
   ]
  },
  {
   "cell_type": "code",
   "execution_count": 14,
   "id": "f4f209fa-e52f-4cfd-9673-02cdf66e7ebe",
   "metadata": {},
   "outputs": [
    {
     "name": "stdout",
     "output_type": "stream",
     "text": [
      "(7352, 128, 3)\n",
      "(2947, 128, 3)\n",
      "(5881, 6)\n",
      "(1471, 6)\n"
     ]
    }
   ],
   "source": [
    "#Recreate the tensors\n",
    "x_input, x_val, y_input, y_val = train_test_split(xtrain, ytrain, test_size=0.2, random_state=10)\n",
    "\n",
    "#one-hot encoding for labels\n",
    "y_input = tf.keras.utils.to_categorical(y_input)\n",
    "y_val = tf.keras.utils.to_categorical(y_val)\n",
    "\n",
    "print(xtrain.shape)\n",
    "print(xtest.shape)\n",
    "print(y_input.shape)\n",
    "print(y_val.shape)"
   ]
  },
  {
   "cell_type": "code",
   "execution_count": 15,
   "id": "dc89a32f-64f8-42d6-9c86-298e6ef608c7",
   "metadata": {},
   "outputs": [
    {
     "name": "stdout",
     "output_type": "stream",
     "text": [
      "(7352, 128, 3)\n",
      "(2947, 128, 3)\n",
      "(5881, 6)\n",
      "(1471, 6)\n"
     ]
    },
    {
     "name": "stderr",
     "output_type": "stream",
     "text": [
      "2023-07-07 15:31:43.923340: I tensorflow/core/platform/cpu_feature_guard.cc:151] This TensorFlow binary is optimized with oneAPI Deep Neural Network Library (oneDNN) to use the following CPU instructions in performance-critical operations:  AVX2 FMA\n",
      "To enable them in other operations, rebuild TensorFlow with the appropriate compiler flags.\n",
      "2023-07-07 15:31:44.495214: I tensorflow/core/common_runtime/gpu/gpu_device.cc:1525] Created device /job:localhost/replica:0/task:0/device:GPU:0 with 11560 MB memory:  -> device: 0, name: Tesla K80, pci bus id: 0001:00:00.0, compute capability: 3.7\n"
     ]
    }
   ],
   "source": [
    "# Convert your input and validation data to a tensor so that you can pass it into your classifier\n",
    "x_input = tf.convert_to_tensor(x_input, tf.float32)\n",
    "x_val = tf.convert_to_tensor(x_val, tf.float32)\n",
    "y_input = tf.convert_to_tensor(y_input, tf.float32)\n",
    "y_val = tf.convert_to_tensor(y_val, tf.float32)\n",
    "print(xtrain.shape)\n",
    "print(xtest.shape)\n",
    "print(y_input.shape)\n",
    "print(y_val.shape)"
   ]
  },
  {
   "cell_type": "code",
   "execution_count": 17,
   "id": "8cc15881-7883-426d-8f41-3a614f6151e8",
   "metadata": {},
   "outputs": [],
   "source": [
    "# #Sequential model   (NOT TO USE BUT KEEP)\n",
    "# model = tf.keras.Sequential(name=\"model_conv1D\")\n",
    "\n",
    "# model.add(tf.keras.layers.Input(shape=(128,3)))\n",
    "# model.add(tf.keras.layers.Conv1D(filters=32, kernel_size=4, activation=tf.nn.relu))\n",
    "# model.add(tf.keras.layers.BatchNormalization())\n",
    "# model.add(tf.keras.layers.Dense(64, activation='relu'))\n",
    "# model.add(tf.keras.layers.GlobalAveragePooling1D())            ###check\n",
    "# model.add(tf.keras.layers.Dense(6, activation='softmax'))      #how many units?"
   ]
  },
  {
   "cell_type": "code",
   "execution_count": 18,
   "id": "59f25619-dcd8-4e6b-9cd2-5ec9ea62b5b4",
   "metadata": {},
   "outputs": [],
   "source": [
    "# #Compile model\n",
    "\n",
    "# # Callbacks\n",
    "# tensorboard_callback = tf.keras.callbacks.TensorBoard(log_dir=logdir)\n",
    "# # create a callback that will stop training if the validation loss hasn't improved for 2 epochs\n",
    "# callbacks = [tf.keras.callbacks.EarlyStopping(monitor='val_loss', patience=2)]\n",
    "# # initialize tqdm callback with default parameters\n",
    "# tqdm_callback = tfa.callbacks.TQDMProgressBar()\n",
    "\n",
    "# # compile the model\n",
    "# model.compile(optimizer=tf.keras.optimizers.Adam(0.001),\n",
    "# loss='categorical_crossentropy',           \n",
    "# metrics=['accuracy'])\n",
    "\n",
    "# model.summary()"
   ]
  },
  {
   "cell_type": "code",
   "execution_count": 19,
   "id": "51faa994-30b0-48c7-b880-4c45ef986721",
   "metadata": {},
   "outputs": [],
   "source": [
    "# # TO DO: add tqdm\n",
    "# # TRAIN lOW FIRST\n",
    "# # train the model\n",
    "# fit = model.fit(x_input, y_input, \n",
    "#         epochs=500, \n",
    "#         verbose=0,  #what does this mean?\n",
    "#         batch_size=128,\n",
    "#         callbacks=[tensorboard_callback],\n",
    "#         validation_data=(x_val, y_val))\n",
    "\n",
    "# # plt.plot(np.array(fit.history['loss']), \"r--\", label = \"Train loss\")\n",
    "# # plt.plot(np.array(fit.history['accuracy']), \"g--\", label = \"Train accuracy\")\n",
    "# # plt.plot(np.array(fit.history['val_loss']), \"r-\", label = \"Validation loss\")\n",
    "# # plt.plot(np.array(fit.history['val_accuracy']), \"g-\", label = \"Validation accuracy\")\n",
    "# # plt.title(\"Training session's progress over iterations\")\n",
    "# # plt.legend(loc='lower left')\n",
    "# # plt.ylabel('Training Progress (Loss/Accuracy)')\n",
    "# # plt.xlabel('Training Epoch')\n",
    "# # plt.ylim(0) \n",
    "# # plt.show()\n"
   ]
  },
  {
   "cell_type": "code",
   "execution_count": 17,
   "id": "37d04202-e57c-42bc-b1e9-cb1f95aeba2d",
   "metadata": {},
   "outputs": [],
   "source": [
    "# Keras API model\n",
    "\n",
    "#We create the input layer and combine with further dense layers,\n",
    "input_layer = tf.keras.Input(shape=(128, 3))\n",
    "\n",
    "output_layer = tf.keras.layers.Conv1D(filters=32, kernel_size=4)(input_layer)\n",
    "output_layer = tf.keras.layers.BatchNormalization()(output_layer)\n",
    "output_layer = tf.keras.layers.Dense(64, activation='relu')(output_layer)\n",
    "output_layer = tf.keras.layers.GlobalAveragePooling1D()(output_layer)\n",
    "\n",
    "# # Add a softmax layer with  output units:\n",
    "output_layer = tf.keras.layers.Dense(6, activation='softmax')(output_layer)\n"
   ]
  },
  {
   "cell_type": "code",
   "execution_count": 18,
   "id": "259c9bee-d419-4de1-aac9-c18c88e39987",
   "metadata": {},
   "outputs": [
    {
     "name": "stdout",
     "output_type": "stream",
     "text": [
      "Model: \"model\"\n",
      "_________________________________________________________________\n",
      " Layer (type)                Output Shape              Param #   \n",
      "=================================================================\n",
      " input_1 (InputLayer)        [(None, 128, 3)]          0         \n",
      "                                                                 \n",
      " conv1d (Conv1D)             (None, 125, 32)           416       \n",
      "                                                                 \n",
      " batch_normalization (BatchN  (None, 125, 32)          128       \n",
      " ormalization)                                                   \n",
      "                                                                 \n",
      " dense (Dense)               (None, 125, 64)           2112      \n",
      "                                                                 \n",
      " global_average_pooling1d (G  (None, 64)               0         \n",
      " lobalAveragePooling1D)                                          \n",
      "                                                                 \n",
      " dense_1 (Dense)             (None, 6)                 390       \n",
      "                                                                 \n",
      "=================================================================\n",
      "Total params: 3,046\n",
      "Trainable params: 2,982\n",
      "Non-trainable params: 64\n",
      "_________________________________________________________________\n"
     ]
    }
   ],
   "source": [
    "# Compile model\n",
    "\n",
    "# Callbacks\n",
    "tensorboard_callback = tf.keras.callbacks.TensorBoard(log_dir=logdir)\n",
    "# create a callback that will stop training if the validation loss hasn't improved for 2 epochs\n",
    "early_stopping_callbacks = [tf.keras.callbacks.EarlyStopping(monitor='val_loss', patience=2)]\n",
    "# initialize tqdm callback with default parameters\n",
    "tqdm_callback = tfa.callbacks.TQDMProgressBar()\n",
    "\n",
    "model = tf.keras.Model(inputs=input_layer,outputs=output_layer)\n",
    "\n",
    "#The compilation and training then proceeds as per the sequential model,\n",
    "model.compile(optimizer=tf.keras.optimizers.Adam(0.001),\n",
    "loss='categorical_crossentropy', metrics=['accuracy'])\n",
    "\n",
    "\n",
    "model.summary()"
   ]
  },
  {
   "cell_type": "code",
   "execution_count": 130,
   "id": "8e44ad2e-f6df-4013-86c5-d29aae002dde",
   "metadata": {},
   "outputs": [
    {
     "name": "stdout",
     "output_type": "stream",
     "text": [
      "train accuracy:  0.0017003910899506887\n"
     ]
    }
   ],
   "source": [
    "predictions = model.predict(x_input,verbose=0)\n",
    "y_pred = np.argmax(predictions,axis=-1)\n",
    "print('train accuracy: ', np.sum(y_pred==y_input[:,0])/len(y_input))"
   ]
  },
  {
   "cell_type": "code",
   "execution_count": 131,
   "id": "d0a387e3-3412-4316-9cf9-d4ceb5b56712",
   "metadata": {},
   "outputs": [
    {
     "name": "stdout",
     "output_type": "stream",
     "text": [
      "val accuracy:  0.002719238613188307\n"
     ]
    }
   ],
   "source": [
    "predictions = model.predict(X_val,verbose=0)\n",
    "y_pred = np.argmax(predictions,axis=-1)\n",
    "print('val accuracy: ', np.sum(y_pred==y_val[:,0])/len(y_val))"
   ]
  },
  {
   "cell_type": "code",
   "execution_count": null,
   "id": "2bed1c7d-8624-472c-97fe-7ba71b1ce84e",
   "metadata": {},
   "outputs": [],
   "source": []
  },
  {
   "cell_type": "code",
   "execution_count": null,
   "id": "e12d1ebc-4365-45b4-a3af-4649d1918a14",
   "metadata": {},
   "outputs": [],
   "source": []
  },
  {
   "cell_type": "code",
   "execution_count": 40,
   "id": "6f135379-2c0d-4f8b-b0ed-961b16692da0",
   "metadata": {},
   "outputs": [],
   "source": [
    "##LSTM##\n",
    "# https://www.analyticsvidhya.com/blog/2021/07/implementing-lstm-for-human-activity-recognition-using-smartphone-accelerometer-data/\n",
    "\n",
    "from keras.models import Sequential\n",
    "from keras.layers import LSTM, Dense, Flatten, Dropout\n",
    "\n",
    "model = Sequential()\n",
    "# RNN layer\n",
    "model.add(LSTM(units = 128, input_shape = (x_input.shape[1], x_input.shape[2])))\n",
    "# Dropout layer\n",
    "model.add(Dropout(0.5)) \n",
    "# Dense layer with ReLu\n",
    "model.add(Dense(units = 124, activation='relu'))\n",
    "# Softmax layer\n",
    "model.add(Dense(y_input.shape[1], activation = 'softmax'))\n",
    "# Compile model\n",
    "model.compile(loss='categorical_crossentropy', optimizer='adam', metrics=['accuracy'])"
   ]
  },
  {
   "cell_type": "code",
   "execution_count": 59,
   "id": "1b86a96b-a94a-4b36-897c-25954ffe3437",
   "metadata": {},
   "outputs": [
    {
     "name": "stdout",
     "output_type": "stream",
     "text": [
      "Model: \"sequential\"\n",
      "_________________________________________________________________\n",
      " Layer (type)                Output Shape              Param #   \n",
      "=================================================================\n",
      " lstm (LSTM)                 (None, 128)               67584     \n",
      "                                                                 \n",
      " dropout (Dropout)           (None, 128)               0         \n",
      "                                                                 \n",
      " dense_8 (Dense)             (None, 124)               15996     \n",
      "                                                                 \n",
      " dense_9 (Dense)             (None, 6)                 750       \n",
      "                                                                 \n",
      "=================================================================\n",
      "Total params: 84,330\n",
      "Trainable params: 84,330\n",
      "Non-trainable params: 0\n",
      "_________________________________________________________________\n"
     ]
    }
   ],
   "source": [
    "model.summary()"
   ]
  },
  {
   "cell_type": "code",
   "execution_count": 41,
   "id": "f94a5a0a-cc2d-4997-8746-8d1b48df992d",
   "metadata": {},
   "outputs": [
    {
     "name": "stdout",
     "output_type": "stream",
     "text": [
      "Epoch 1/100\n",
      "5/5 [==============================] - 3s 275ms/step - loss: 1.7873 - accuracy: 0.2436 - val_loss: 1.7783 - val_accuracy: 0.2608\n",
      "Epoch 2/100\n",
      "5/5 [==============================] - 0s 96ms/step - loss: 1.7750 - accuracy: 0.2766 - val_loss: 1.7637 - val_accuracy: 0.2753\n",
      "Epoch 3/100\n",
      "5/5 [==============================] - 0s 94ms/step - loss: 1.7577 - accuracy: 0.3074 - val_loss: 1.7307 - val_accuracy: 0.3602\n",
      "Epoch 4/100\n",
      "5/5 [==============================] - 0s 92ms/step - loss: 1.7010 - accuracy: 0.3659 - val_loss: 1.5927 - val_accuracy: 0.3347\n",
      "Epoch 5/100\n",
      "5/5 [==============================] - 0s 93ms/step - loss: 1.5730 - accuracy: 0.3274 - val_loss: 1.4868 - val_accuracy: 0.3560\n",
      "Epoch 6/100\n",
      "5/5 [==============================] - 0s 98ms/step - loss: 1.4442 - accuracy: 0.3403 - val_loss: 1.2576 - val_accuracy: 0.3500\n",
      "Epoch 7/100\n",
      "5/5 [==============================] - 0s 90ms/step - loss: 1.2588 - accuracy: 0.3395 - val_loss: 1.1628 - val_accuracy: 0.3543\n",
      "Epoch 8/100\n",
      "5/5 [==============================] - 0s 98ms/step - loss: 1.2207 - accuracy: 0.3216 - val_loss: 1.2724 - val_accuracy: 0.3560\n",
      "Epoch 9/100\n",
      "5/5 [==============================] - 0s 93ms/step - loss: 1.2574 - accuracy: 0.3318 - val_loss: 1.2147 - val_accuracy: 0.3509\n",
      "Epoch 10/100\n",
      "5/5 [==============================] - 0s 94ms/step - loss: 1.3169 - accuracy: 0.3306 - val_loss: 1.4462 - val_accuracy: 0.3254\n",
      "Epoch 11/100\n",
      "5/5 [==============================] - 0s 95ms/step - loss: 1.3158 - accuracy: 0.3144 - val_loss: 1.4951 - val_accuracy: 0.2795\n",
      "Epoch 12/100\n",
      "5/5 [==============================] - 0s 93ms/step - loss: 1.8997 - accuracy: 0.2519 - val_loss: 3.4257 - val_accuracy: 0.1376\n",
      "Epoch 13/100\n",
      "5/5 [==============================] - 0s 95ms/step - loss: 2.6759 - accuracy: 0.1454 - val_loss: 1.9699 - val_accuracy: 0.2048\n",
      "Epoch 14/100\n",
      "5/5 [==============================] - 0s 96ms/step - loss: 1.8607 - accuracy: 0.1788 - val_loss: 1.7419 - val_accuracy: 0.1606\n",
      "Epoch 15/100\n",
      "5/5 [==============================] - 0s 99ms/step - loss: 1.6542 - accuracy: 0.2819 - val_loss: 1.6656 - val_accuracy: 0.2999\n",
      "Epoch 16/100\n",
      "5/5 [==============================] - 0s 91ms/step - loss: 1.6600 - accuracy: 0.3019 - val_loss: 1.6636 - val_accuracy: 0.2795\n",
      "Epoch 17/100\n",
      "5/5 [==============================] - 0s 95ms/step - loss: 1.6641 - accuracy: 0.2830 - val_loss: 1.6587 - val_accuracy: 0.2829\n",
      "Epoch 18/100\n",
      "5/5 [==============================] - 0s 95ms/step - loss: 1.6537 - accuracy: 0.2830 - val_loss: 1.6384 - val_accuracy: 0.2855\n",
      "Epoch 19/100\n",
      "5/5 [==============================] - 0s 95ms/step - loss: 1.6282 - accuracy: 0.3019 - val_loss: 1.6047 - val_accuracy: 0.2974\n",
      "Epoch 20/100\n",
      "5/5 [==============================] - 0s 97ms/step - loss: 1.5895 - accuracy: 0.3085 - val_loss: 1.5544 - val_accuracy: 0.3084\n",
      "Epoch 21/100\n",
      "5/5 [==============================] - 0s 95ms/step - loss: 1.5320 - accuracy: 0.3344 - val_loss: 1.4831 - val_accuracy: 0.3390\n",
      "Epoch 22/100\n",
      "5/5 [==============================] - 0s 96ms/step - loss: 1.4585 - accuracy: 0.3535 - val_loss: 1.4067 - val_accuracy: 0.3645\n",
      "Epoch 23/100\n",
      "5/5 [==============================] - 0s 95ms/step - loss: 1.3738 - accuracy: 0.3542 - val_loss: 1.3269 - val_accuracy: 0.3543\n",
      "Epoch 24/100\n",
      "5/5 [==============================] - 0s 92ms/step - loss: 1.3061 - accuracy: 0.3321 - val_loss: 1.2756 - val_accuracy: 0.3534\n",
      "Epoch 25/100\n",
      "5/5 [==============================] - 0s 94ms/step - loss: 1.2551 - accuracy: 0.3287 - val_loss: 1.2335 - val_accuracy: 0.3526\n",
      "Epoch 26/100\n",
      "5/5 [==============================] - 0s 94ms/step - loss: 1.2229 - accuracy: 0.3263 - val_loss: 1.1983 - val_accuracy: 0.3483\n",
      "Epoch 27/100\n",
      "5/5 [==============================] - 0s 95ms/step - loss: 1.1943 - accuracy: 0.3516 - val_loss: 1.1713 - val_accuracy: 0.3602\n",
      "Epoch 28/100\n",
      "5/5 [==============================] - 0s 93ms/step - loss: 1.1736 - accuracy: 0.3503 - val_loss: 1.1474 - val_accuracy: 0.3704\n",
      "Epoch 29/100\n",
      "5/5 [==============================] - 0s 94ms/step - loss: 1.1554 - accuracy: 0.3525 - val_loss: 1.1347 - val_accuracy: 0.3730\n",
      "Epoch 30/100\n",
      "5/5 [==============================] - 0s 95ms/step - loss: 1.1428 - accuracy: 0.3442 - val_loss: 1.1259 - val_accuracy: 0.3577\n",
      "Epoch 31/100\n",
      "5/5 [==============================] - 0s 94ms/step - loss: 1.1337 - accuracy: 0.3603 - val_loss: 1.1200 - val_accuracy: 0.3636\n",
      "Epoch 32/100\n",
      "5/5 [==============================] - 0s 96ms/step - loss: 1.1296 - accuracy: 0.3529 - val_loss: 1.1162 - val_accuracy: 0.3679\n",
      "Epoch 33/100\n",
      "5/5 [==============================] - 0s 97ms/step - loss: 1.1244 - accuracy: 0.3540 - val_loss: 1.1112 - val_accuracy: 0.3730\n",
      "Epoch 34/100\n",
      "5/5 [==============================] - 0s 93ms/step - loss: 1.1225 - accuracy: 0.3597 - val_loss: 1.1083 - val_accuracy: 0.3679\n",
      "Epoch 35/100\n",
      "5/5 [==============================] - 0s 96ms/step - loss: 1.1207 - accuracy: 0.3554 - val_loss: 1.1068 - val_accuracy: 0.3764\n",
      "Epoch 36/100\n",
      "5/5 [==============================] - 0s 94ms/step - loss: 1.1181 - accuracy: 0.3546 - val_loss: 1.1068 - val_accuracy: 0.3781\n",
      "Epoch 37/100\n",
      "5/5 [==============================] - 0s 93ms/step - loss: 1.1132 - accuracy: 0.3701 - val_loss: 1.1068 - val_accuracy: 0.3764\n",
      "Epoch 38/100\n",
      "5/5 [==============================] - 0s 94ms/step - loss: 1.1125 - accuracy: 0.3676 - val_loss: 1.1042 - val_accuracy: 0.3704\n",
      "Epoch 39/100\n",
      "5/5 [==============================] - 0s 97ms/step - loss: 1.1101 - accuracy: 0.3603 - val_loss: 1.1007 - val_accuracy: 0.3704\n",
      "Epoch 40/100\n",
      "5/5 [==============================] - 0s 93ms/step - loss: 1.1077 - accuracy: 0.3518 - val_loss: 1.0977 - val_accuracy: 0.3781\n",
      "Epoch 41/100\n",
      "5/5 [==============================] - 0s 91ms/step - loss: 1.1046 - accuracy: 0.3733 - val_loss: 1.0958 - val_accuracy: 0.3738\n",
      "Epoch 42/100\n",
      "5/5 [==============================] - 0s 91ms/step - loss: 1.1009 - accuracy: 0.3703 - val_loss: 1.0940 - val_accuracy: 0.3789\n",
      "Epoch 43/100\n",
      "5/5 [==============================] - 0s 94ms/step - loss: 1.1022 - accuracy: 0.3676 - val_loss: 1.0918 - val_accuracy: 0.3747\n",
      "Epoch 44/100\n",
      "5/5 [==============================] - 0s 93ms/step - loss: 1.1008 - accuracy: 0.3646 - val_loss: 1.0902 - val_accuracy: 0.3789\n",
      "Epoch 45/100\n",
      "5/5 [==============================] - 0s 92ms/step - loss: 1.0972 - accuracy: 0.3735 - val_loss: 1.0891 - val_accuracy: 0.3798\n",
      "Epoch 46/100\n",
      "5/5 [==============================] - 0s 93ms/step - loss: 1.0959 - accuracy: 0.3795 - val_loss: 1.0872 - val_accuracy: 0.3815\n",
      "Epoch 47/100\n",
      "5/5 [==============================] - 0s 99ms/step - loss: 1.0953 - accuracy: 0.3731 - val_loss: 1.0860 - val_accuracy: 0.3866\n",
      "Epoch 48/100\n",
      "5/5 [==============================] - 0s 95ms/step - loss: 1.0957 - accuracy: 0.3695 - val_loss: 1.0852 - val_accuracy: 0.3823\n",
      "Epoch 49/100\n",
      "5/5 [==============================] - 0s 96ms/step - loss: 1.0930 - accuracy: 0.3801 - val_loss: 1.0840 - val_accuracy: 0.3832\n",
      "Epoch 50/100\n",
      "5/5 [==============================] - 0s 95ms/step - loss: 1.0925 - accuracy: 0.3748 - val_loss: 1.0824 - val_accuracy: 0.3840\n",
      "Epoch 51/100\n",
      "5/5 [==============================] - 0s 98ms/step - loss: 1.0886 - accuracy: 0.3848 - val_loss: 1.0809 - val_accuracy: 0.3840\n",
      "Epoch 52/100\n",
      "5/5 [==============================] - 0s 92ms/step - loss: 1.0870 - accuracy: 0.3869 - val_loss: 1.0789 - val_accuracy: 0.3857\n",
      "Epoch 53/100\n",
      "5/5 [==============================] - 0s 92ms/step - loss: 1.0874 - accuracy: 0.3776 - val_loss: 1.0777 - val_accuracy: 0.3866\n",
      "Epoch 54/100\n",
      "5/5 [==============================] - 0s 95ms/step - loss: 1.0880 - accuracy: 0.3871 - val_loss: 1.0761 - val_accuracy: 0.3874\n",
      "Epoch 55/100\n",
      "5/5 [==============================] - 0s 95ms/step - loss: 1.0840 - accuracy: 0.3935 - val_loss: 1.0733 - val_accuracy: 0.3849\n",
      "Epoch 56/100\n",
      "5/5 [==============================] - 0s 91ms/step - loss: 1.0810 - accuracy: 0.3903 - val_loss: 1.0702 - val_accuracy: 0.3857\n",
      "Epoch 57/100\n",
      "5/5 [==============================] - 0s 94ms/step - loss: 1.0782 - accuracy: 0.3965 - val_loss: 1.0664 - val_accuracy: 0.3917\n",
      "Epoch 58/100\n",
      "5/5 [==============================] - 0s 94ms/step - loss: 1.0746 - accuracy: 0.4022 - val_loss: 1.0608 - val_accuracy: 0.3976\n",
      "Epoch 59/100\n",
      "5/5 [==============================] - 0s 94ms/step - loss: 1.0673 - accuracy: 0.4024 - val_loss: 1.0534 - val_accuracy: 0.3993\n",
      "Epoch 60/100\n",
      "5/5 [==============================] - 0s 94ms/step - loss: 1.0551 - accuracy: 0.4196 - val_loss: 1.0339 - val_accuracy: 0.4240\n",
      "Epoch 61/100\n",
      "5/5 [==============================] - 0s 95ms/step - loss: 1.0356 - accuracy: 0.4264 - val_loss: 1.0094 - val_accuracy: 0.4316\n",
      "Epoch 62/100\n",
      "5/5 [==============================] - 0s 98ms/step - loss: 1.0190 - accuracy: 0.4386 - val_loss: 0.9886 - val_accuracy: 0.4469\n",
      "Epoch 63/100\n",
      "5/5 [==============================] - 0s 92ms/step - loss: 0.9866 - accuracy: 0.4605 - val_loss: 0.9510 - val_accuracy: 0.4579\n",
      "Epoch 64/100\n",
      "5/5 [==============================] - 0s 95ms/step - loss: 0.9667 - accuracy: 0.4613 - val_loss: 0.9179 - val_accuracy: 0.4945\n",
      "Epoch 65/100\n",
      "5/5 [==============================] - 0s 96ms/step - loss: 0.9311 - accuracy: 0.4877 - val_loss: 0.8681 - val_accuracy: 0.4936\n",
      "Epoch 66/100\n",
      "5/5 [==============================] - 0s 94ms/step - loss: 0.8844 - accuracy: 0.4945 - val_loss: 0.8718 - val_accuracy: 0.5353\n",
      "Epoch 67/100\n",
      "5/5 [==============================] - 0s 96ms/step - loss: 0.8917 - accuracy: 0.5006 - val_loss: 0.8800 - val_accuracy: 0.4851\n",
      "Epoch 68/100\n",
      "5/5 [==============================] - 0s 95ms/step - loss: 0.8750 - accuracy: 0.5043 - val_loss: 0.8519 - val_accuracy: 0.4970\n",
      "Epoch 69/100\n",
      "5/5 [==============================] - 0s 96ms/step - loss: 0.8520 - accuracy: 0.5030 - val_loss: 0.8146 - val_accuracy: 0.5480\n",
      "Epoch 70/100\n",
      "5/5 [==============================] - 0s 96ms/step - loss: 0.8393 - accuracy: 0.5147 - val_loss: 0.8576 - val_accuracy: 0.5174\n",
      "Epoch 71/100\n",
      "5/5 [==============================] - 0s 96ms/step - loss: 0.8376 - accuracy: 0.5276 - val_loss: 0.7787 - val_accuracy: 0.5786\n",
      "Epoch 72/100\n",
      "5/5 [==============================] - 0s 93ms/step - loss: 0.8024 - accuracy: 0.5461 - val_loss: 0.7563 - val_accuracy: 0.5769\n",
      "Epoch 73/100\n",
      "5/5 [==============================] - 0s 98ms/step - loss: 0.7742 - accuracy: 0.5736 - val_loss: 0.7375 - val_accuracy: 0.5998\n",
      "Epoch 74/100\n",
      "5/5 [==============================] - 0s 96ms/step - loss: 0.7524 - accuracy: 0.5823 - val_loss: 0.7093 - val_accuracy: 0.5998\n",
      "Epoch 75/100\n",
      "5/5 [==============================] - 0s 93ms/step - loss: 0.7857 - accuracy: 0.5574 - val_loss: 0.6887 - val_accuracy: 0.6117\n",
      "Epoch 76/100\n",
      "5/5 [==============================] - 0s 95ms/step - loss: 0.7335 - accuracy: 0.5929 - val_loss: 0.6869 - val_accuracy: 0.6075\n",
      "Epoch 77/100\n",
      "5/5 [==============================] - 0s 96ms/step - loss: 0.7209 - accuracy: 0.5965 - val_loss: 0.6766 - val_accuracy: 0.6185\n",
      "Epoch 78/100\n",
      "5/5 [==============================] - 0s 97ms/step - loss: 0.7100 - accuracy: 0.5950 - val_loss: 0.6731 - val_accuracy: 0.6168\n",
      "Epoch 79/100\n",
      "5/5 [==============================] - 0s 94ms/step - loss: 0.6958 - accuracy: 0.6125 - val_loss: 0.6732 - val_accuracy: 0.6126\n",
      "Epoch 80/100\n",
      "5/5 [==============================] - 0s 94ms/step - loss: 0.6907 - accuracy: 0.6016 - val_loss: 0.6647 - val_accuracy: 0.6228\n",
      "Epoch 81/100\n",
      "5/5 [==============================] - 0s 93ms/step - loss: 0.7043 - accuracy: 0.6052 - val_loss: 0.6763 - val_accuracy: 0.6185\n",
      "Epoch 82/100\n",
      "5/5 [==============================] - 0s 95ms/step - loss: 0.7128 - accuracy: 0.5944 - val_loss: 0.7388 - val_accuracy: 0.5845\n",
      "Epoch 83/100\n",
      "5/5 [==============================] - 0s 95ms/step - loss: 0.7609 - accuracy: 0.5797 - val_loss: 0.6607 - val_accuracy: 0.6262\n",
      "Epoch 84/100\n",
      "5/5 [==============================] - 0s 94ms/step - loss: 0.7098 - accuracy: 0.6097 - val_loss: 0.6686 - val_accuracy: 0.6219\n",
      "Epoch 85/100\n",
      "5/5 [==============================] - 0s 93ms/step - loss: 0.7002 - accuracy: 0.6133 - val_loss: 0.6663 - val_accuracy: 0.6219\n",
      "Epoch 86/100\n",
      "5/5 [==============================] - 0s 95ms/step - loss: 0.6846 - accuracy: 0.6076 - val_loss: 0.6623 - val_accuracy: 0.6202\n",
      "Epoch 87/100\n",
      "5/5 [==============================] - 0s 97ms/step - loss: 0.6865 - accuracy: 0.6137 - val_loss: 0.6535 - val_accuracy: 0.6253\n",
      "Epoch 88/100\n",
      "5/5 [==============================] - 0s 96ms/step - loss: 0.6786 - accuracy: 0.6029 - val_loss: 0.6484 - val_accuracy: 0.6262\n",
      "Epoch 89/100\n",
      "5/5 [==============================] - 0s 96ms/step - loss: 0.6798 - accuracy: 0.6182 - val_loss: 0.6617 - val_accuracy: 0.6143\n",
      "Epoch 90/100\n",
      "5/5 [==============================] - 0s 92ms/step - loss: 0.6790 - accuracy: 0.6188 - val_loss: 0.6739 - val_accuracy: 0.6092\n",
      "Epoch 91/100\n",
      "5/5 [==============================] - 0s 94ms/step - loss: 0.6778 - accuracy: 0.6144 - val_loss: 0.6495 - val_accuracy: 0.6338\n",
      "Epoch 92/100\n",
      "5/5 [==============================] - 0s 99ms/step - loss: 0.6714 - accuracy: 0.6114 - val_loss: 0.6474 - val_accuracy: 0.6228\n",
      "Epoch 93/100\n",
      "5/5 [==============================] - 0s 97ms/step - loss: 0.6682 - accuracy: 0.6178 - val_loss: 0.6456 - val_accuracy: 0.6270\n",
      "Epoch 94/100\n",
      "5/5 [==============================] - 0s 93ms/step - loss: 0.6629 - accuracy: 0.6246 - val_loss: 0.6439 - val_accuracy: 0.6270\n",
      "Epoch 95/100\n",
      "5/5 [==============================] - 0s 94ms/step - loss: 0.6596 - accuracy: 0.6182 - val_loss: 0.6396 - val_accuracy: 0.6279\n",
      "Epoch 96/100\n",
      "5/5 [==============================] - 0s 95ms/step - loss: 0.6615 - accuracy: 0.6254 - val_loss: 0.6421 - val_accuracy: 0.6253\n",
      "Epoch 97/100\n",
      "5/5 [==============================] - 0s 97ms/step - loss: 0.6614 - accuracy: 0.6222 - val_loss: 0.6403 - val_accuracy: 0.6287\n",
      "Epoch 98/100\n",
      "5/5 [==============================] - 0s 92ms/step - loss: 0.6644 - accuracy: 0.6212 - val_loss: 0.6427 - val_accuracy: 0.6253\n",
      "Epoch 99/100\n",
      "5/5 [==============================] - 0s 94ms/step - loss: 0.6638 - accuracy: 0.6176 - val_loss: 0.6394 - val_accuracy: 0.6262\n",
      "Epoch 100/100\n",
      "5/5 [==============================] - 0s 95ms/step - loss: 0.6606 - accuracy: 0.6197 - val_loss: 0.6374 - val_accuracy: 0.6262\n"
     ]
    },
    {
     "data": {
      "image/png": "[encoded data removed]",
      "text/plain": [
       "<Figure size 640x480 with 1 Axes>"
      ]
     },
     "metadata": {},
     "output_type": "display_data"
    }
   ],
   "source": [
    "n_epochs = 100\n",
    "batch_size = 1024 \n",
    "\n",
    "history = model.fit(x_input, y_input, epochs = n_epochs, validation_split = 0.20, batch_size = batch_size, verbose = 1)\n",
    "\n",
    "plt.plot(np.array(history.history['loss']), \"r--\", label = \"Train loss\")\n",
    "plt.plot(np.array(history.history['accuracy']), \"g--\", label = \"Train accuracy\")\n",
    "plt.plot(np.array(history.history['val_loss']), \"r-\", label = \"Validation loss\")\n",
    "plt.plot(np.array(history.history['val_accuracy']), \"g-\", label = \"Validation accuracy\")\n",
    "plt.title(\"Training session's progress over iterations\")\n",
    "plt.legend(loc='lower left')\n",
    "plt.ylabel('Training Progress (Loss/Accuracy)')\n",
    "plt.xlabel('Training Epoch')\n",
    "plt.ylim(0) \n",
    "plt.show()"
   ]
  },
  {
   "cell_type": "code",
   "execution_count": null,
   "id": "c5b2276b-5a71-4ea0-b886-8fbdf698a429",
   "metadata": {},
   "outputs": [],
   "source": []
  },
  {
   "cell_type": "code",
   "execution_count": null,
   "id": "46420671-85b7-4a4f-9a80-b56a25659315",
   "metadata": {},
   "outputs": [],
   "source": []
  },
  {
   "cell_type": "code",
   "execution_count": null,
   "id": "c0652f8b-00a3-4abb-aaa0-19b7f882e76b",
   "metadata": {},
   "outputs": [],
   "source": []
  },
  {
   "cell_type": "code",
   "execution_count": null,
   "id": "a62eca2a-0c74-4fb7-9476-a7d2fec3e7a0",
   "metadata": {},
   "outputs": [],
   "source": []
  }
 ],
 "metadata": {
  "kernelspec": {
   "display_name": "Python 3 (ipykernel)",
   "language": "python",
   "name": "python3"
  },
  "language_info": {
   "codemirror_mode": {
    "name": "ipython",
    "version": 3
   },
   "file_extension": ".py",
   "mimetype": "text/x-python",
   "name": "python",
   "nbconvert_exporter": "python",
   "pygments_lexer": "ipython3",
   "version": "3.8.16"
  }
 },
 "nbformat": 4,
 "nbformat_minor": 5
}
