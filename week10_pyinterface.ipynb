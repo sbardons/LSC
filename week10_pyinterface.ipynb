{
 "cells": [
  {
   "cell_type": "code",
   "execution_count": 1,
   "id": "9c3e0388-ed74-4349-9b56-f68ca0ceac94",
   "metadata": {},
   "outputs": [],
   "source": [
    "import findspark\n",
    "findspark.init()"
   ]
  },
  {
   "cell_type": "code",
   "execution_count": 2,
   "id": "14be7de7-daaa-4b1c-9bcc-516b0c3e4757",
   "metadata": {},
   "outputs": [],
   "source": [
    "import pyspark\n",
    "sc = pyspark.SparkContext(appName=\"MyAppName\")"
   ]
  },
  {
   "cell_type": "code",
   "execution_count": 3,
   "id": "0bb6499f-c209-4011-adcc-195c61e11d7b",
   "metadata": {},
   "outputs": [],
   "source": [
    "from pyspark.sql import SparkSession\n",
    "spark = SparkSession(sc)"
   ]
  },
  {
   "cell_type": "markdown",
   "id": "90801111-1121-45cb-a6bc-861628643bd1",
   "metadata": {},
   "source": [
    "### Examples from the notes using pyspark"
   ]
  },
  {
   "cell_type": "code",
   "execution_count": 4,
   "id": "1a5cd429-4f00-445d-a52c-c00f10056979",
   "metadata": {},
   "outputs": [
    {
     "name": "stdout",
     "output_type": "stream",
     "text": [
      "--2023-07-08 17:35:29--  https://raw.githubusercontent.com/tidyverse/ggplot2/main/data-raw/diamonds.csv\n",
      "Resolving raw.githubusercontent.com (raw.githubusercontent.com)... 185.199.111.133, 185.199.109.133, 185.199.110.133, ...\n",
      "Connecting to raw.githubusercontent.com (raw.githubusercontent.com)|185.199.111.133|:443... connected.\n",
      "HTTP request sent, awaiting response... 200 OK\n",
      "Length: 2772143 (2.6M) [text/plain]\n",
      "Saving to: ‘diamonds.csv’\n",
      "\n",
      "diamonds.csv        100%[===================>]   2.64M  --.-KB/s    in 0.02s   \n",
      "\n",
      "2023-07-08 17:35:29 (147 MB/s) - ‘diamonds.csv’ saved [2772143/2772143]\n",
      "\n"
     ]
    }
   ],
   "source": [
    "!wget https://raw.githubusercontent.com/tidyverse/ggplot2/main/data-raw/diamonds.csv"
   ]
  },
  {
   "cell_type": "code",
   "execution_count": 5,
   "id": "4cca2685-82d3-4c33-82ca-dfe2b0e0dc3b",
   "metadata": {},
   "outputs": [
    {
     "name": "stdout",
     "output_type": "stream",
     "text": [
      "root\n",
      " |-- carat: double (nullable = true)\n",
      " |-- cut: string (nullable = true)\n",
      " |-- color: string (nullable = true)\n",
      " |-- clarity: string (nullable = true)\n",
      " |-- depth: double (nullable = true)\n",
      " |-- table: double (nullable = true)\n",
      " |-- price: integer (nullable = true)\n",
      " |-- x: double (nullable = true)\n",
      " |-- y: double (nullable = true)\n",
      " |-- z: double (nullable = true)\n",
      "\n"
     ]
    }
   ],
   "source": [
    "df = spark.read.csv(\"diamonds.csv\", header=True, inferSchema=True)\n",
    "df.printSchema()"
   ]
  },
  {
   "cell_type": "code",
   "execution_count": 6,
   "id": "5d296b40-3930-4dc3-8a99-6bbd28df6267",
   "metadata": {},
   "outputs": [
    {
     "name": "stdout",
     "output_type": "stream",
     "text": [
      "+-----+-------+-----+-------+-----+-----+-----+----+----+----+\n",
      "|carat|    cut|color|clarity|depth|table|price|   x|   y|   z|\n",
      "+-----+-------+-----+-------+-----+-----+-----+----+----+----+\n",
      "| 0.23|  Ideal|    E|    SI2| 61.5| 55.0|  326|3.95|3.98|2.43|\n",
      "| 0.21|Premium|    E|    SI1| 59.8| 61.0|  326|3.89|3.84|2.31|\n",
      "| 0.23|   Good|    E|    VS1| 56.9| 65.0|  327|4.05|4.07|2.31|\n",
      "| 0.29|Premium|    I|    VS2| 62.4| 58.0|  334| 4.2|4.23|2.63|\n",
      "| 0.31|   Good|    J|    SI2| 63.3| 58.0|  335|4.34|4.35|2.75|\n",
      "+-----+-------+-----+-------+-----+-----+-----+----+----+----+\n",
      "only showing top 5 rows\n",
      "\n"
     ]
    }
   ],
   "source": [
    "df.show(5)"
   ]
  },
  {
   "cell_type": "code",
   "execution_count": 7,
   "id": "87fef66a-dcfb-4f33-8cde-697afbff9cb3",
   "metadata": {},
   "outputs": [
    {
     "name": "stdout",
     "output_type": "stream",
     "text": [
      "+-----+-----+\n",
      "|carat|price|\n",
      "+-----+-----+\n",
      "| 0.23|  326|\n",
      "| 0.21|  326|\n",
      "| 0.23|  327|\n",
      "| 0.29|  334|\n",
      "| 0.31|  335|\n",
      "+-----+-----+\n",
      "only showing top 5 rows\n",
      "\n"
     ]
    }
   ],
   "source": [
    "df.select(\"carat\", \"price\").show(5)"
   ]
  },
  {
   "cell_type": "code",
   "execution_count": 6,
   "id": "c6aae8c4-d57d-438a-9f2f-9e215eb29e9f",
   "metadata": {},
   "outputs": [
    {
     "name": "stdout",
     "output_type": "stream",
     "text": [
      "+-----+-----+\n",
      "|carat|price|\n",
      "+-----+-----+\n",
      "| 0.23|  326|\n",
      "| 0.21|  326|\n",
      "| 0.23|  327|\n",
      "| 0.29|  334|\n",
      "| 0.31|  335|\n",
      "+-----+-----+\n",
      "only showing top 5 rows\n",
      "\n"
     ]
    }
   ],
   "source": [
    "from pyspark.sql.functions import col\n",
    "df.select(col(\"carat\"), col(\"price\")).show(5)"
   ]
  },
  {
   "cell_type": "code",
   "execution_count": 9,
   "id": "6d38202a-fa33-4096-b72e-dfc348b78e04",
   "metadata": {},
   "outputs": [
    {
     "name": "stdout",
     "output_type": "stream",
     "text": [
      "+-----+-------+-----+-------+-----+-----+-----+----+----+----+\n",
      "|carat|    cut|color|clarity|depth|table|price|   x|   y|   z|\n",
      "+-----+-------+-----+-------+-----+-----+-----+----+----+----+\n",
      "|  0.2|Premium|    E|    VS2| 59.8| 62.0|  367|3.79|3.77|2.26|\n",
      "|  0.2|Premium|    E|    VS2| 59.0| 60.0|  367|3.81|3.78|2.24|\n",
      "|  0.2|Premium|    E|    VS2| 61.1| 59.0|  367|3.81|3.78|2.32|\n",
      "|  0.2|Premium|    E|    VS2| 59.7| 62.0|  367|3.84| 3.8|2.28|\n",
      "|  0.2|  Ideal|    E|    VS2| 59.7| 55.0|  367|3.86|3.84| 2.3|\n",
      "+-----+-------+-----+-------+-----+-----+-----+----+----+----+\n",
      "only showing top 5 rows\n",
      "\n"
     ]
    }
   ],
   "source": [
    "df.filter((col(\"carat\")<=0.21) & (col(\"clarity\")==\"VS2\")).show(5)"
   ]
  },
  {
   "cell_type": "code",
   "execution_count": 10,
   "id": "d5e69356-3b2d-4b52-a2c2-a9d0e5838d28",
   "metadata": {},
   "outputs": [
    {
     "name": "stdout",
     "output_type": "stream",
     "text": [
      "+-----+---------+-----+-------+-----+-----+-----+----+----+----+\n",
      "|carat|      cut|color|clarity|depth|table|price|   x|   y|   z|\n",
      "+-----+---------+-----+-------+-----+-----+-----+----+----+----+\n",
      "|  0.2|  Premium|    E|    VS2| 61.1| 59.0|  367|3.81|3.78|2.32|\n",
      "|  0.2|Very Good|    E|    VS2| 63.4| 59.0|  367|3.74|3.71|2.36|\n",
      "|  0.2|  Premium|    E|    VS2| 59.7| 62.0|  367|3.84| 3.8|2.28|\n",
      "|  0.2|  Premium|    E|    VS2| 59.0| 60.0|  367|3.81|3.78|2.24|\n",
      "|  0.2|    Ideal|    E|    VS2| 59.7| 55.0|  367|3.86|3.84| 2.3|\n",
      "+-----+---------+-----+-------+-----+-----+-----+----+----+----+\n",
      "only showing top 5 rows\n",
      "\n"
     ]
    }
   ],
   "source": [
    "df.orderBy(\"carat\").show(5)"
   ]
  },
  {
   "cell_type": "code",
   "execution_count": 7,
   "id": "36d7acfd-39bb-483e-825e-f137348df9ce",
   "metadata": {},
   "outputs": [
    {
     "name": "stdout",
     "output_type": "stream",
     "text": [
      "+---------+-----+----------+\n",
      "|      cut|color|max(price)|\n",
      "+---------+-----+----------+\n",
      "|Very Good|    D|     18542|\n",
      "|  Premium|    E|     18477|\n",
      "|    Ideal|    D|     18693|\n",
      "|     Good|    F|     18686|\n",
      "|  Premium|    D|     18575|\n",
      "|    Ideal|    J|     18508|\n",
      "|    Ideal|    I|     18779|\n",
      "|Very Good|    I|     18500|\n",
      "|     Good|    D|     18468|\n",
      "|     Fair|    D|     16386|\n",
      "|     Good|    G|     18788|\n",
      "|     Good|    H|     18640|\n",
      "|  Premium|    J|     18710|\n",
      "|     Fair|    F|     17995|\n",
      "|    Ideal|    G|     18806|\n",
      "|Very Good|    H|     18803|\n",
      "|Very Good|    E|     18731|\n",
      "|     Good|    I|     18707|\n",
      "|  Premium|    F|     18791|\n",
      "|     Fair|    J|     18531|\n",
      "+---------+-----+----------+\n",
      "only showing top 20 rows\n",
      "\n"
     ]
    }
   ],
   "source": [
    "df.groupby(\"cut\", \"color\").max(\"price\").show()"
   ]
  },
  {
   "cell_type": "code",
   "execution_count": 9,
   "id": "d1c24f27-a41c-4d7c-8675-9c4a75c949c4",
   "metadata": {},
   "outputs": [
    {
     "name": "stdout",
     "output_type": "stream",
     "text": [
      "+---------+-----+----------+\n",
      "|      cut|color|max(price)|\n",
      "+---------+-----+----------+\n",
      "|    Ideal|    I|     18779|\n",
      "|Very Good|    H|     18803|\n",
      "|  Premium|    E|     18477|\n",
      "|    Ideal|    D|     18693|\n",
      "|     Good|    J|     18325|\n",
      "|     null|    G|     18818|\n",
      "|     null|    E|     18731|\n",
      "|  Premium|    H|     18795|\n",
      "|    Ideal|    F|     18780|\n",
      "|    Ideal| null|     18806|\n",
      "|Very Good| null|     18818|\n",
      "|     Fair|    H|     18565|\n",
      "|     Fair|    J|     18531|\n",
      "|  Premium|    I|     18823|\n",
      "|  Premium|    F|     18791|\n",
      "|  Premium|    J|     18710|\n",
      "|     Good|    E|     18236|\n",
      "|     Fair|    G|     18574|\n",
      "|     null|    F|     18791|\n",
      "|Very Good|    E|     18731|\n",
      "+---------+-----+----------+\n",
      "only showing top 20 rows\n",
      "\n"
     ]
    }
   ],
   "source": [
    "df.cube(\"cut\", \"color\").max(\"price\").show()"
   ]
  },
  {
   "cell_type": "markdown",
   "id": "c7fe05bd-a7dc-4b41-bffd-d83cf66d7fc3",
   "metadata": {},
   "source": [
    "### Merge"
   ]
  },
  {
   "cell_type": "code",
   "execution_count": 12,
   "id": "80364f98-b266-4aa8-ba9f-897d8e8cc248",
   "metadata": {},
   "outputs": [
    {
     "name": "stdout",
     "output_type": "stream",
     "text": [
      "+--------+----------+----------+-----------------+\n",
      "| Country|      City|Population|CountryPopulation|\n",
      "+--------+----------+----------+-----------------+\n",
      "| England|    London|      9.75|            56.08|\n",
      "| England|Birmingham|      2.45|            56.08|\n",
      "|Scotland|   Glasgow|      1.06|             5.28|\n",
      "|Scotland| Edinburgh|      0.48|             5.28|\n",
      "+--------+----------+----------+-----------------+\n",
      "\n"
     ]
    }
   ],
   "source": [
    "import pandas as pd\n",
    "\n",
    "cities = spark.createDataFrame(pd.DataFrame( {\n",
    "                \"City\": [ \"London\", \"Birmingham\", \"Glasgow\", \"Edinburgh\"],\n",
    "                \"Population\": [ 9.75, 2.45, 1.06, 0.48 ],\n",
    "                \"Country\": [ \"England\", \"England\", \"Scotland\", \"Scotland\" ]\n",
    "                } ))\n",
    "\n",
    "\n",
    "\n",
    "countries = spark.createDataFrame(pd.DataFrame( {\n",
    "                    \"Country\": [ \"England\", \"Scotland\" ],\n",
    "                    \"CountryPopulation\": [ 56.08, 5.28 ]\n",
    "                    } ))\n",
    "\n",
    "\n",
    "\n",
    "all = cities.join(countries, \"Country\")\n",
    "\n",
    "all.show(5)"
   ]
  },
  {
   "cell_type": "code",
   "execution_count": 13,
   "id": "1bdbb5af-c4c5-44d1-b010-b09bd054e3d3",
   "metadata": {},
   "outputs": [
    {
     "name": "stdout",
     "output_type": "stream",
     "text": [
      "+---------+-----+----------+\n",
      "|      cut|color|max(price)|\n",
      "+---------+-----+----------+\n",
      "|Very Good|    D|     18542|\n",
      "|  Premium|    E|     18477|\n",
      "|    Ideal|    D|     18693|\n",
      "|     Good|    F|     18686|\n",
      "|  Premium|    D|     18575|\n",
      "+---------+-----+----------+\n",
      "only showing top 5 rows\n",
      "\n"
     ]
    }
   ],
   "source": [
    "df.createOrReplaceTempView(\"diamonds\")\n",
    "spark.sql(\"SELECT cut, color, max(price) FROM diamonds GROUP BY cut, color;\").show(5)"
   ]
  },
  {
   "cell_type": "code",
   "execution_count": 14,
   "id": "f1c5bac7-5ba9-460c-bc78-e7685e1c0b64",
   "metadata": {},
   "outputs": [
    {
     "name": "stdout",
     "output_type": "stream",
     "text": [
      "== Physical Plan ==\n",
      "AdaptiveSparkPlan isFinalPlan=false\n",
      "+- HashAggregate(keys=[cut#17, color#18], functions=[max(price#22)])\n",
      "   +- Exchange hashpartitioning(cut#17, color#18, 200), ENSURE_REQUIREMENTS, [id=#295]\n",
      "      +- HashAggregate(keys=[cut#17, color#18], functions=[partial_max(price#22)])\n",
      "         +- FileScan csv [cut#17,color#18,price#22] Batched: false, DataFilters: [], Format: CSV, Location: InMemoryFileIndex(1 paths)[file:/home/jovyan/diamonds.csv], PartitionFilters: [], PushedFilters: [], ReadSchema: struct<cut:string,color:string,price:int>\n",
      "\n",
      "\n"
     ]
    }
   ],
   "source": [
    "spark.sql(\"SELECT cut, color, max(price) FROM diamonds GROUP BY cut, color;\").explain()"
   ]
  },
  {
   "cell_type": "markdown",
   "id": "c23793cc-c9b7-4b61-8ddc-36973030417d",
   "metadata": {},
   "source": [
    "### Clustering example\n",
    "#### Example 4"
   ]
  },
  {
   "cell_type": "code",
   "execution_count": 15,
   "id": "f39d6c61-d0f1-4312-971f-a89c9fdc47f6",
   "metadata": {},
   "outputs": [],
   "source": [
    "from pyspark.ml.clustering import KMeans\n",
    "from pyspark.ml.feature import StandardScaler\n",
    "from pyspark.ml import Pipeline\n",
    "from pyspark.ml.feature import RFormula\n",
    "\n",
    "pipeline = Pipeline(stages=[\n",
    "              RFormula(formula=\"~x+y+z+price+carat\"),\n",
    "              StandardScaler(inputCol=\"features\", outputCol=\"scaled_features\"),\n",
    "              KMeans(k=2, featuresCol=\"scaled_features\")\n",
    "              ])\n",
    "pipeline_model = pipeline.fit(df)\n",
    "predictions = pipeline_model.transform(df)"
   ]
  },
  {
   "cell_type": "code",
   "execution_count": 16,
   "id": "49c5dba1-0f0e-4c74-8b7f-ca9e58134cef",
   "metadata": {},
   "outputs": [
    {
     "name": "stdout",
     "output_type": "stream",
     "text": [
      "      prediction                                         pca\n",
      "0              1    [-5.352544578682838, -3.152711509203074]\n",
      "1              1  [-5.4387736826540145, -3.1996979575601254]\n",
      "2              1   [-5.5232607627980865, -3.232360335765906]\n",
      "3              1   [-5.576830713084454, -3.2576668264071227]\n",
      "4              1    [-5.6457412727729865, -3.29634083453015]\n",
      "...          ...                                         ...\n",
      "2638           1    [-7.937946392824692, -3.793399359503582]\n",
      "2639           1   [-8.280760472195258, -3.9519697354165846]\n",
      "2640           1    [-7.971685966371231, -3.813946783100663]\n",
      "2641           1    [-7.743771133943605, -3.688656033963072]\n",
      "2642           1    [-7.213242076080386, -3.448519927105177]\n",
      "\n",
      "[2643 rows x 2 columns]\n"
     ]
    }
   ],
   "source": [
    "from pyspark.ml.feature import PCA\n",
    "\n",
    "pca = PCA(k=2, inputCol=\"scaled_features\", outputCol=\"pca\")\n",
    "\n",
    "predictions_with_pca = pca.fit(predictions).transform(predictions)\n",
    "\n",
    "data = predictions_with_pca.select(\"prediction\", \"pca\").sample(0.05).toPandas()\n",
    "print(data)"
   ]
  },
  {
   "cell_type": "code",
   "execution_count": 17,
   "id": "a88edde4-262e-46ea-98e3-75693fb74b6f",
   "metadata": {},
   "outputs": [],
   "source": [
    "data[\"pca1\"] = data[\"pca\"].apply(lambda x: x[0])\n",
    "data[\"pca2\"] = data[\"pca\"].apply(lambda x: x[1])"
   ]
  },
  {
   "cell_type": "code",
   "execution_count": 18,
   "id": "bbef8c6b-91b7-4b6d-9cf1-0b0ee03acd47",
   "metadata": {},
   "outputs": [
    {
     "name": "stderr",
     "output_type": "stream",
     "text": [
      "/opt/conda/lib/python3.9/site-packages/seaborn/_decorators.py:36: FutureWarning: Pass the following variables as keyword args: x, y. From version 0.12, the only valid positional argument will be `data`, and passing other arguments without an explicit keyword will result in an error or misinterpretation.\n",
      "  warnings.warn(\n"
     ]
    },
    {
     "data": {
      "image/png": "[encoded data removed]",
      "text/plain": [
       "<Figure size 418.125x360 with 1 Axes>"
      ]
     },
     "metadata": {
      "needs_background": "light"
     },
     "output_type": "display_data"
    }
   ],
   "source": [
    "import seaborn as sns\n",
    "import matplotlib.pylab as plt\n",
    "sns.relplot(\"pca1\", \"pca2\", hue=\"prediction\", data=data)\n",
    "plt.show()"
   ]
  },
  {
   "cell_type": "code",
   "execution_count": null,
   "id": "69867eea-cca5-4a45-ade6-8c99eff83ae7",
   "metadata": {},
   "outputs": [],
   "source": []
  },
  {
   "cell_type": "code",
   "execution_count": null,
   "id": "afaa4180-756c-4d84-bb5c-44f55e627a9e",
   "metadata": {},
   "outputs": [],
   "source": []
  },
  {
   "cell_type": "code",
   "execution_count": null,
   "id": "9eb7d999-cd1f-4fcd-8096-d96fb05347bf",
   "metadata": {},
   "outputs": [],
   "source": []
  },
  {
   "cell_type": "code",
   "execution_count": null,
   "id": "cd765504-982c-4498-867e-ce6ba4835ffe",
   "metadata": {},
   "outputs": [],
   "source": []
  },
  {
   "cell_type": "code",
   "execution_count": null,
   "id": "ea33c8d5-8f41-4c7c-b3dc-b5f70478d802",
   "metadata": {},
   "outputs": [],
   "source": []
  },
  {
   "cell_type": "code",
   "execution_count": null,
   "id": "fc502846-bbad-4e92-b61b-b3dcf2d22cf1",
   "metadata": {},
   "outputs": [],
   "source": []
  }
 ],
 "metadata": {
  "kernelspec": {
   "display_name": "Python 3 (ipykernel)",
   "language": "python",
   "name": "python3"
  },
  "language_info": {
   "codemirror_mode": {
    "name": "ipython",
    "version": 3
   },
   "file_extension": ".py",
   "mimetype": "text/x-python",
   "name": "python",
   "nbconvert_exporter": "python",
   "pygments_lexer": "ipython3",
   "version": "3.8.16"
  }
 },
 "nbformat": 4,
 "nbformat_minor": 5
}
