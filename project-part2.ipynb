{
 "cells": [
  {
   "cell_type": "code",
   "execution_count": 3,
   "id": "d4c41da1-e2da-459d-b23e-0f88e0bcfab7",
   "metadata": {},
   "outputs": [
    {
     "name": "stdout",
     "output_type": "stream",
     "text": [
      "Collecting tensorflow_addons\n",
      "  Using cached tensorflow_addons-0.20.0-cp38-cp38-manylinux_2_17_x86_64.manylinux2014_x86_64.whl (591 kB)\n",
      "Requirement already satisfied: packaging in /opt/conda/lib/python3.8/site-packages (from tensorflow_addons) (23.1)\n",
      "Collecting typeguard<3.0.0,>=2.7 (from tensorflow_addons)\n",
      "  Using cached typeguard-2.13.3-py3-none-any.whl (17 kB)\n",
      "Installing collected packages: typeguard, tensorflow_addons\n",
      "Successfully installed tensorflow_addons-0.20.0 typeguard-2.13.3\n"
     ]
    }
   ],
   "source": [
    "!pip install tensorflow_addons"
   ]
  },
  {
   "cell_type": "code",
   "execution_count": 4,
   "id": "48cba834",
   "metadata": {},
   "outputs": [
    {
     "name": "stderr",
     "output_type": "stream",
     "text": [
      "/opt/conda/lib/python3.8/site-packages/tensorflow_addons/utils/tfa_eol_msg.py:23: UserWarning: \n",
      "\n",
      "TensorFlow Addons (TFA) has ended development and introduction of new features.\n",
      "TFA has entered a minimal maintenance and release mode until a planned end of life in May 2024.\n",
      "Please modify downstream libraries to take dependencies from other repositories in our TensorFlow community (e.g. Keras, Keras-CV, and Keras-NLP). \n",
      "\n",
      "For more information see: https://github.com/tensorflow/addons/issues/2807 \n",
      "\n",
      "  warnings.warn(\n",
      "/opt/conda/lib/python3.8/site-packages/tensorflow_addons/utils/ensure_tf_install.py:53: UserWarning: Tensorflow Addons supports using Python ops for all Tensorflow versions above or equal to 2.10.0 and strictly below 2.13.0 (nightly versions are not supported). \n",
      " The versions of TensorFlow you are currently using is 2.8.0 and is not supported. \n",
      "Some things might work, some things might not.\n",
      "If you were to encounter a bug, do not file an issue.\n",
      "If you want to make sure you're using a tested and supported configuration, either change the TensorFlow version or the TensorFlow Addons's version. \n",
      "You can find the compatibility matrix in TensorFlow Addon's readme:\n",
      "https://github.com/tensorflow/addons\n",
      "  warnings.warn(\n"
     ]
    }
   ],
   "source": [
    "#Imports and settings\n",
    "\n",
    "import numpy as np\n",
    "import pandas as pd\n",
    "import itertools\n",
    "import matplotlib.pyplot as plt\n",
    "import sys\n",
    "\n",
    "import tensorflow as tf\n",
    "from tqdm.notebook import tqdm\n",
    "import tensorflow_addons as tfa\n",
    "\n",
    "\n",
    "from sklearn.model_selection import train_test_split\n",
    "\n",
    "np.set_printoptions(suppress=True)"
   ]
  },
  {
   "cell_type": "code",
   "execution_count": 21,
   "id": "faa4774a",
   "metadata": {},
   "outputs": [],
   "source": [
    "# load the features and labels (subtract 1 as the labels aren't indexed from 0)\n",
    "ytest = np.loadtxt('/home/jovyan/datasets/UCI_HAR_DATASET/test/y_test.txt')-1\n",
    "ytrain = np.loadtxt('/home/jovyan/datasets/UCI_HAR_DATASET/train/y_train.txt')-1"
   ]
  },
  {
   "cell_type": "code",
   "execution_count": 22,
   "id": "94f38004",
   "metadata": {},
   "outputs": [],
   "source": [
    "# load the x,y,z body accelerations test data\n",
    "xx_test=np.loadtxt('/home/jovyan/datasets/UCI_HAR_DATASET/test/Inertial Signals/body_acc_x_test.txt')\n",
    "yy_test=np.loadtxt('/home/jovyan/datasets/UCI_HAR_DATASET/test/Inertial Signals/body_acc_y_test.txt')\n",
    "zz_test=np.loadtxt('/home/jovyan/datasets/UCI_HAR_DATASET/test/Inertial Signals/body_acc_z_test.txt')\n",
    "# concatenate the arrays along the last dimension\n",
    "xtest = np.concatenate((xx_test[:,:,None],yy_test[:,:,None],zz_test[:,:,None]),axis=2)\n",
    "# (using None here adds an extra dimension of size 1 to the end of the array)"
   ]
  },
  {
   "cell_type": "code",
   "execution_count": 23,
   "id": "d43adc6c",
   "metadata": {},
   "outputs": [],
   "source": [
    "# follow the same approach for the train data\n",
    "xx_train=np.loadtxt('/home/jovyan/datasets/UCI_HAR_DATASET/train/Inertial Signals/body_acc_x_train.txt')\n",
    "yy_train=np.loadtxt('/home/jovyan/datasets/UCI_HAR_DATASET/train/Inertial Signals/body_acc_y_train.txt')\n",
    "zz_train=np.loadtxt('/home/jovyan/datasets/UCI_HAR_DATASET/train/Inertial Signals/body_acc_z_train.txt')\n",
    "xtrain = np.concatenate((xx_train[:,:,None],yy_train[:,:,None],zz_train[:,:,None]),axis=2)"
   ]
  },
  {
   "cell_type": "code",
   "execution_count": 24,
   "id": "c05a0b7b",
   "metadata": {},
   "outputs": [
    {
     "name": "stdout",
     "output_type": "stream",
     "text": [
      "(7352, 128, 3)\n",
      "(2947, 128, 3)\n",
      "(7352,)\n",
      "(2947,)\n"
     ]
    }
   ],
   "source": [
    "print(xtrain.shape)\n",
    "print(xtest.shape)\n",
    "print(ytrain.shape)\n",
    "print(ytest.shape)"
   ]
  },
  {
   "cell_type": "markdown",
   "id": "1eacd237-cb68-4f63-8c0f-f94df312436b",
   "metadata": {},
   "source": [
    "## Part 2\n",
    "### 1‐dimensional convolutional neural network\n",
    "Note: Your training data tensors will need to have their original shape of [n,128,3] so make sure to recreate the tensors after\n",
    "you have completed part 1"
   ]
  },
  {
   "cell_type": "code",
   "execution_count": 37,
   "id": "bd08b0f4-d2f9-409f-a605-6e80fd449ffa",
   "metadata": {},
   "outputs": [],
   "source": [
    "#tensorboad set up\n",
    "logdir = '/home/jovyan/logs/Project/Part2'"
   ]
  },
  {
   "cell_type": "code",
   "execution_count": 100,
   "id": "f4f209fa-e52f-4cfd-9673-02cdf66e7ebe",
   "metadata": {},
   "outputs": [
    {
     "name": "stdout",
     "output_type": "stream",
     "text": [
      "(7352, 128, 3)\n",
      "(2947, 128, 3)\n",
      "(5881, 6)\n",
      "(1471, 6)\n"
     ]
    }
   ],
   "source": [
    "#Recreate the tensors\n",
    "x_input, x_val, y_input, y_val = train_test_split(xtrain, ytrain, test_size=0.2, random_state=10)\n",
    "\n",
    "#one-hot encoding for labels\n",
    "y_input = tf.keras.utils.to_categorical(y_input)\n",
    "y_val = tf.keras.utils.to_categorical(y_val)\n",
    "\n",
    "print(xtrain.shape)\n",
    "print(xtest.shape)\n",
    "print(y_input.shape)\n",
    "print(y_val.shape)"
   ]
  },
  {
   "cell_type": "code",
   "execution_count": 101,
   "id": "dc89a32f-64f8-42d6-9c86-298e6ef608c7",
   "metadata": {},
   "outputs": [],
   "source": [
    "# Convert your input and validation data to a tensor so that you can pass it into your classifier\n",
    "x_input = tf.convert_to_tensor(x_input, tf.float32)\n",
    "x_val = tf.convert_to_tensor(x_val, tf.float32)\n",
    "y_input = tf.convert_to_tensor(y_input, tf.float32)\n",
    "y_val = tf.convert_to_tensor(y_val, tf.float32)"
   ]
  },
  {
   "cell_type": "code",
   "execution_count": 102,
   "id": "37d04202-e57c-42bc-b1e9-cb1f95aeba2d",
   "metadata": {},
   "outputs": [],
   "source": [
    "# Keras API model\n",
    "\n",
    "#We create the input layer and combine with further dense layers,\n",
    "input_layer = tf.keras.Input(shape=(128, 3))\n",
    "output_layer = tf.keras.layers.Conv1D(filters=128, kernel_size=16)(input_layer)\n",
    "output_layer = tf.keras.layers.BatchNormalization()(output_layer)\n",
    "output_layer = tf.keras.layers.Dense(64, activation='relu')(output_layer)\n",
    "output_layer = tf.keras.layers.GlobalAveragePooling1D()(output_layer)\n",
    "\n",
    "# # Add a softmax layer with  output units:\n",
    "output_layer = tf.keras.layers.Dense(6, activation='softmax')(output_layer)\n"
   ]
  },
  {
   "cell_type": "code",
   "execution_count": 103,
   "id": "259c9bee-d419-4de1-aac9-c18c88e39987",
   "metadata": {},
   "outputs": [
    {
     "name": "stdout",
     "output_type": "stream",
     "text": [
      "Model: \"model_18\"\n",
      "_________________________________________________________________\n",
      " Layer (type)                Output Shape              Param #   \n",
      "=================================================================\n",
      " input_18 (InputLayer)       [(None, 128, 3)]          0         \n",
      "                                                                 \n",
      " conv1d_17 (Conv1D)          (None, 113, 128)          6272      \n",
      "                                                                 \n",
      " batch_normalization_17 (Bat  (None, 113, 128)         512       \n",
      " chNormalization)                                                \n",
      "                                                                 \n",
      " dense_34 (Dense)            (None, 113, 64)           8256      \n",
      "                                                                 \n",
      " global_average_pooling1d_17  (None, 64)               0         \n",
      "  (GlobalAveragePooling1D)                                       \n",
      "                                                                 \n",
      " dense_35 (Dense)            (None, 6)                 390       \n",
      "                                                                 \n",
      "=================================================================\n",
      "Total params: 15,430\n",
      "Trainable params: 15,174\n",
      "Non-trainable params: 256\n",
      "_________________________________________________________________\n"
     ]
    }
   ],
   "source": [
    "# Compile model\n",
    "\n",
    "# Callbacks\n",
    "tensorboard_callback = tf.keras.callbacks.TensorBoard(log_dir=logdir)\n",
    "# create a callback that will stop training if the validation loss hasn't improved for 2 epochs\n",
    "early_stopping_callbacks = [tf.keras.callbacks.EarlyStopping(monitor='loss', patience=2)]\n",
    "# initialize tqdm callback with default parameters\n",
    "tqdm_callback = tfa.callbacks.TQDMProgressBar()\n",
    "\n",
    "model = tf.keras.Model(inputs=input_layer,outputs=output_layer)\n",
    "\n",
    "#The compilation and training then proceeds as per the sequential model,\n",
    "model.compile(optimizer=tf.keras.optimizers.Adam(0.001),\n",
    "loss='categorical_crossentropy', metrics=['accuracy'])\n",
    "\n",
    "\n",
    "model.summary()"
   ]
  },
  {
   "cell_type": "code",
   "execution_count": 104,
   "id": "d8379770-47fb-40a4-8c86-977ddb157c2e",
   "metadata": {},
   "outputs": [
    {
     "data": {
      "application/vnd.jupyter.widget-view+json": {
       "model_id": "7630089b5bbb48ef9f96f17f2d269613",
       "version_major": 2,
       "version_minor": 0
      },
      "text/plain": [
       "Training:   0%|           0/200 ETA: ?s,  ?epochs/s"
      ]
     },
     "metadata": {},
     "output_type": "display_data"
    },
    {
     "name": "stdout",
     "output_type": "stream",
     "text": [
      "Epoch 1/200\n"
     ]
    },
    {
     "data": {
      "application/vnd.jupyter.widget-view+json": {
       "model_id": "993a374866c9478ca619f5e4a3faf49d",
       "version_major": 2,
       "version_minor": 0
      },
      "text/plain": [
       "0/46           ETA: ?s - "
      ]
     },
     "metadata": {},
     "output_type": "display_data"
    },
    {
     "name": "stdout",
     "output_type": "stream",
     "text": [
      "Epoch 1/200\n",
      " 1/46 [..............................] - ETA: 19s - loss: 2.0167 - accuracy: 0.1328WARNING:tensorflow:Callback method `on_train_batch_end` is slow compared to the batch time (batch time: 0.0029s vs `on_train_batch_end` time: 0.0039s). Check your callbacks.\n",
      "46/46 [==============================] - 1s 8ms/step - loss: 1.2814 - accuracy: 0.5031 - val_loss: 1.6858 - val_accuracy: 0.1924\n",
      "Epoch 2/200\n"
     ]
    },
    {
     "data": {
      "application/vnd.jupyter.widget-view+json": {
       "model_id": "c765efd80387418b8f660e0b73627c6d",
       "version_major": 2,
       "version_minor": 0
      },
      "text/plain": [
       "0/46           ETA: ?s - "
      ]
     },
     "metadata": {},
     "output_type": "display_data"
    },
    {
     "name": "stdout",
     "output_type": "stream",
     "text": [
      "Epoch 2/200\n",
      "46/46 [==============================] - 0s 5ms/step - loss: 0.8802 - accuracy: 0.6308 - val_loss: 1.9450 - val_accuracy: 0.1835\n",
      "Epoch 3/200\n"
     ]
    },
    {
     "data": {
      "application/vnd.jupyter.widget-view+json": {
       "model_id": "f0c915e95a304f0eaba04b01a3ca4e9c",
       "version_major": 2,
       "version_minor": 0
      },
      "text/plain": [
       "0/46           ETA: ?s - "
      ]
     },
     "metadata": {},
     "output_type": "display_data"
    },
    {
     "name": "stdout",
     "output_type": "stream",
     "text": [
      "Epoch 3/200\n",
      "46/46 [==============================] - 0s 5ms/step - loss: 0.6919 - accuracy: 0.7011 - val_loss: 2.2462 - val_accuracy: 0.2325\n",
      "Epoch 4/200\n"
     ]
    },
    {
     "data": {
      "application/vnd.jupyter.widget-view+json": {
       "model_id": "0f8dd2b27c104df38cdda9b924dd39a0",
       "version_major": 2,
       "version_minor": 0
      },
      "text/plain": [
       "0/46           ETA: ?s - "
      ]
     },
     "metadata": {},
     "output_type": "display_data"
    },
    {
     "name": "stdout",
     "output_type": "stream",
     "text": [
      "Epoch 4/200\n",
      "46/46 [==============================] - 0s 4ms/step - loss: 0.6264 - accuracy: 0.7466 - val_loss: 2.1856 - val_accuracy: 0.2305\n",
      "Epoch 5/200\n"
     ]
    },
    {
     "data": {
      "application/vnd.jupyter.widget-view+json": {
       "model_id": "925b2f3ef19d43b29c72cd3f4e92ef73",
       "version_major": 2,
       "version_minor": 0
      },
      "text/plain": [
       "0/46           ETA: ?s - "
      ]
     },
     "metadata": {},
     "output_type": "display_data"
    },
    {
     "name": "stdout",
     "output_type": "stream",
     "text": [
      "Epoch 5/200\n",
      "46/46 [==============================] - 0s 4ms/step - loss: 0.5898 - accuracy: 0.7647 - val_loss: 1.9313 - val_accuracy: 0.2223\n",
      "Epoch 6/200\n"
     ]
    },
    {
     "data": {
      "application/vnd.jupyter.widget-view+json": {
       "model_id": "32b8947cb6c946fb991b236e88b0ca84",
       "version_major": 2,
       "version_minor": 0
      },
      "text/plain": [
       "0/46           ETA: ?s - "
      ]
     },
     "metadata": {},
     "output_type": "display_data"
    },
    {
     "name": "stdout",
     "output_type": "stream",
     "text": [
      "Epoch 6/200\n",
      "46/46 [==============================] - 0s 4ms/step - loss: 0.5611 - accuracy: 0.7795 - val_loss: 1.5735 - val_accuracy: 0.3256\n",
      "Epoch 7/200\n"
     ]
    },
    {
     "data": {
      "application/vnd.jupyter.widget-view+json": {
       "model_id": "482cc8b2d6714f31801f612a3b665449",
       "version_major": 2,
       "version_minor": 0
      },
      "text/plain": [
       "0/46           ETA: ?s - "
      ]
     },
     "metadata": {},
     "output_type": "display_data"
    },
    {
     "name": "stdout",
     "output_type": "stream",
     "text": [
      "Epoch 7/200\n",
      "46/46 [==============================] - 0s 4ms/step - loss: 0.5375 - accuracy: 0.7875 - val_loss: 1.1451 - val_accuracy: 0.5071\n",
      "Epoch 8/200\n"
     ]
    },
    {
     "data": {
      "application/vnd.jupyter.widget-view+json": {
       "model_id": "0200ad62ad7043c7a10f850a350956b8",
       "version_major": 2,
       "version_minor": 0
      },
      "text/plain": [
       "0/46           ETA: ?s - "
      ]
     },
     "metadata": {},
     "output_type": "display_data"
    },
    {
     "name": "stdout",
     "output_type": "stream",
     "text": [
      "Epoch 8/200\n",
      "46/46 [==============================] - 0s 4ms/step - loss: 0.5216 - accuracy: 0.7939 - val_loss: 0.8308 - val_accuracy: 0.7036\n",
      "Epoch 9/200\n"
     ]
    },
    {
     "data": {
      "application/vnd.jupyter.widget-view+json": {
       "model_id": "e0f862a1bb604ea4aa466e8033386a80",
       "version_major": 2,
       "version_minor": 0
      },
      "text/plain": [
       "0/46           ETA: ?s - "
      ]
     },
     "metadata": {},
     "output_type": "display_data"
    },
    {
     "name": "stdout",
     "output_type": "stream",
     "text": [
      "Epoch 9/200\n",
      "46/46 [==============================] - 0s 4ms/step - loss: 0.5101 - accuracy: 0.7965 - val_loss: 0.6518 - val_accuracy: 0.7913\n",
      "Epoch 10/200\n"
     ]
    },
    {
     "data": {
      "application/vnd.jupyter.widget-view+json": {
       "model_id": "25c24c542262404a834319a1e5d1f38a",
       "version_major": 2,
       "version_minor": 0
      },
      "text/plain": [
       "0/46           ETA: ?s - "
      ]
     },
     "metadata": {},
     "output_type": "display_data"
    },
    {
     "name": "stdout",
     "output_type": "stream",
     "text": [
      "Epoch 10/200\n",
      "46/46 [==============================] - 0s 4ms/step - loss: 0.4934 - accuracy: 0.8192 - val_loss: 0.5556 - val_accuracy: 0.7675\n",
      "Epoch 11/200\n"
     ]
    },
    {
     "data": {
      "application/vnd.jupyter.widget-view+json": {
       "model_id": "e7da242475144b698b790c97e3a56caa",
       "version_major": 2,
       "version_minor": 0
      },
      "text/plain": [
       "0/46           ETA: ?s - "
      ]
     },
     "metadata": {},
     "output_type": "display_data"
    },
    {
     "name": "stdout",
     "output_type": "stream",
     "text": [
      "Epoch 11/200\n",
      "46/46 [==============================] - 0s 4ms/step - loss: 0.4856 - accuracy: 0.8114 - val_loss: 0.5102 - val_accuracy: 0.7974\n",
      "Epoch 12/200\n"
     ]
    },
    {
     "data": {
      "application/vnd.jupyter.widget-view+json": {
       "model_id": "50144048e9224110b61482e5d8a2fd92",
       "version_major": 2,
       "version_minor": 0
      },
      "text/plain": [
       "0/46           ETA: ?s - "
      ]
     },
     "metadata": {},
     "output_type": "display_data"
    },
    {
     "name": "stdout",
     "output_type": "stream",
     "text": [
      "Epoch 12/200\n",
      "46/46 [==============================] - 0s 4ms/step - loss: 0.4772 - accuracy: 0.8150 - val_loss: 0.4875 - val_accuracy: 0.8436\n",
      "Epoch 13/200\n"
     ]
    },
    {
     "data": {
      "application/vnd.jupyter.widget-view+json": {
       "model_id": "8cdc0ef512b84ee9a423863585702e4c",
       "version_major": 2,
       "version_minor": 0
      },
      "text/plain": [
       "0/46           ETA: ?s - "
      ]
     },
     "metadata": {},
     "output_type": "display_data"
    },
    {
     "name": "stdout",
     "output_type": "stream",
     "text": [
      "Epoch 13/200\n",
      "46/46 [==============================] - 0s 4ms/step - loss: 0.4692 - accuracy: 0.8160 - val_loss: 0.4705 - val_accuracy: 0.8443\n",
      "Epoch 14/200\n"
     ]
    },
    {
     "data": {
      "application/vnd.jupyter.widget-view+json": {
       "model_id": "94fc245a984345748c43dda88212237f",
       "version_major": 2,
       "version_minor": 0
      },
      "text/plain": [
       "0/46           ETA: ?s - "
      ]
     },
     "metadata": {},
     "output_type": "display_data"
    },
    {
     "name": "stdout",
     "output_type": "stream",
     "text": [
      "Epoch 14/200\n",
      "46/46 [==============================] - 0s 4ms/step - loss: 0.4616 - accuracy: 0.8266 - val_loss: 0.4615 - val_accuracy: 0.8015\n",
      "Epoch 15/200\n"
     ]
    },
    {
     "data": {
      "application/vnd.jupyter.widget-view+json": {
       "model_id": "010381f2b34a4fabbe4d0387f7c9893a",
       "version_major": 2,
       "version_minor": 0
      },
      "text/plain": [
       "0/46           ETA: ?s - "
      ]
     },
     "metadata": {},
     "output_type": "display_data"
    },
    {
     "name": "stdout",
     "output_type": "stream",
     "text": [
      "Epoch 15/200\n",
      "46/46 [==============================] - 0s 4ms/step - loss: 0.4605 - accuracy: 0.8114 - val_loss: 0.4488 - val_accuracy: 0.8341\n",
      "Epoch 16/200\n"
     ]
    },
    {
     "data": {
      "application/vnd.jupyter.widget-view+json": {
       "model_id": "eea0037bddb9454ca0e2850489ef15bf",
       "version_major": 2,
       "version_minor": 0
      },
      "text/plain": [
       "0/46           ETA: ?s - "
      ]
     },
     "metadata": {},
     "output_type": "display_data"
    },
    {
     "name": "stdout",
     "output_type": "stream",
     "text": [
      "Epoch 16/200\n",
      "46/46 [==============================] - 0s 4ms/step - loss: 0.4559 - accuracy: 0.8135 - val_loss: 0.4409 - val_accuracy: 0.8328\n",
      "Epoch 17/200\n"
     ]
    },
    {
     "data": {
      "application/vnd.jupyter.widget-view+json": {
       "model_id": "c03bc1095e8244e9b6ab09266a87fe80",
       "version_major": 2,
       "version_minor": 0
      },
      "text/plain": [
       "0/46           ETA: ?s - "
      ]
     },
     "metadata": {},
     "output_type": "display_data"
    },
    {
     "name": "stdout",
     "output_type": "stream",
     "text": [
      "Epoch 17/200\n",
      "46/46 [==============================] - 0s 4ms/step - loss: 0.4541 - accuracy: 0.8085 - val_loss: 0.4401 - val_accuracy: 0.8545\n",
      "Epoch 18/200\n"
     ]
    },
    {
     "data": {
      "application/vnd.jupyter.widget-view+json": {
       "model_id": "7a3449df991d4cbc9d4be9382e26f5cd",
       "version_major": 2,
       "version_minor": 0
      },
      "text/plain": [
       "0/46           ETA: ?s - "
      ]
     },
     "metadata": {},
     "output_type": "display_data"
    },
    {
     "name": "stdout",
     "output_type": "stream",
     "text": [
      "Epoch 18/200\n",
      "46/46 [==============================] - 0s 4ms/step - loss: 0.4496 - accuracy: 0.8157 - val_loss: 0.4324 - val_accuracy: 0.8375\n",
      "Epoch 19/200\n"
     ]
    },
    {
     "data": {
      "application/vnd.jupyter.widget-view+json": {
       "model_id": "4e5d7e6467464f7aa840343b9ca8e1c6",
       "version_major": 2,
       "version_minor": 0
      },
      "text/plain": [
       "0/46           ETA: ?s - "
      ]
     },
     "metadata": {},
     "output_type": "display_data"
    },
    {
     "name": "stdout",
     "output_type": "stream",
     "text": [
      "Epoch 19/200\n",
      "46/46 [==============================] - 0s 4ms/step - loss: 0.4355 - accuracy: 0.8322 - val_loss: 0.4179 - val_accuracy: 0.8634\n",
      "Epoch 20/200\n"
     ]
    },
    {
     "data": {
      "application/vnd.jupyter.widget-view+json": {
       "model_id": "500828660295441c8461e8723b970938",
       "version_major": 2,
       "version_minor": 0
      },
      "text/plain": [
       "0/46           ETA: ?s - "
      ]
     },
     "metadata": {},
     "output_type": "display_data"
    },
    {
     "name": "stdout",
     "output_type": "stream",
     "text": [
      "Epoch 20/200\n",
      "46/46 [==============================] - 0s 4ms/step - loss: 0.4345 - accuracy: 0.8318 - val_loss: 0.4229 - val_accuracy: 0.8416\n",
      "Epoch 21/200\n"
     ]
    },
    {
     "data": {
      "application/vnd.jupyter.widget-view+json": {
       "model_id": "227761fbbee441648a221498bb92ae6d",
       "version_major": 2,
       "version_minor": 0
      },
      "text/plain": [
       "0/46           ETA: ?s - "
      ]
     },
     "metadata": {},
     "output_type": "display_data"
    },
    {
     "name": "stdout",
     "output_type": "stream",
     "text": [
      "Epoch 21/200\n",
      "46/46 [==============================] - 0s 4ms/step - loss: 0.4286 - accuracy: 0.8329 - val_loss: 0.4170 - val_accuracy: 0.8287\n",
      "Epoch 22/200\n"
     ]
    },
    {
     "data": {
      "application/vnd.jupyter.widget-view+json": {
       "model_id": "02b8d50445cf4095ab2556c4faefd169",
       "version_major": 2,
       "version_minor": 0
      },
      "text/plain": [
       "0/46           ETA: ?s - "
      ]
     },
     "metadata": {},
     "output_type": "display_data"
    },
    {
     "name": "stdout",
     "output_type": "stream",
     "text": [
      "Epoch 22/200\n",
      "46/46 [==============================] - 0s 4ms/step - loss: 0.4264 - accuracy: 0.8327 - val_loss: 0.4213 - val_accuracy: 0.8144\n",
      "Epoch 23/200\n"
     ]
    },
    {
     "data": {
      "application/vnd.jupyter.widget-view+json": {
       "model_id": "864ede1f12b3419482ce00603dad697a",
       "version_major": 2,
       "version_minor": 0
      },
      "text/plain": [
       "0/46           ETA: ?s - "
      ]
     },
     "metadata": {},
     "output_type": "display_data"
    },
    {
     "name": "stdout",
     "output_type": "stream",
     "text": [
      "Epoch 23/200\n",
      "46/46 [==============================] - 0s 4ms/step - loss: 0.4276 - accuracy: 0.8233 - val_loss: 0.4068 - val_accuracy: 0.8600\n",
      "Epoch 24/200\n"
     ]
    },
    {
     "data": {
      "application/vnd.jupyter.widget-view+json": {
       "model_id": "4757d8491a0c44978ab8fedcda8b22e1",
       "version_major": 2,
       "version_minor": 0
      },
      "text/plain": [
       "0/46           ETA: ?s - "
      ]
     },
     "metadata": {},
     "output_type": "display_data"
    },
    {
     "name": "stdout",
     "output_type": "stream",
     "text": [
      "Epoch 24/200\n",
      "46/46 [==============================] - 0s 4ms/step - loss: 0.4242 - accuracy: 0.8266 - val_loss: 0.4050 - val_accuracy: 0.8457\n",
      "Epoch 25/200\n"
     ]
    },
    {
     "data": {
      "application/vnd.jupyter.widget-view+json": {
       "model_id": "2c7d9f056ac8438ca085fe313a7424c8",
       "version_major": 2,
       "version_minor": 0
      },
      "text/plain": [
       "0/46           ETA: ?s - "
      ]
     },
     "metadata": {},
     "output_type": "display_data"
    },
    {
     "name": "stdout",
     "output_type": "stream",
     "text": [
      "Epoch 25/200\n",
      "46/46 [==============================] - 0s 4ms/step - loss: 0.4184 - accuracy: 0.8395 - val_loss: 0.3980 - val_accuracy: 0.8538\n",
      "Epoch 26/200\n"
     ]
    },
    {
     "data": {
      "application/vnd.jupyter.widget-view+json": {
       "model_id": "511e5103dc9749d2b1744f4c1b396c8a",
       "version_major": 2,
       "version_minor": 0
      },
      "text/plain": [
       "0/46           ETA: ?s - "
      ]
     },
     "metadata": {},
     "output_type": "display_data"
    },
    {
     "name": "stdout",
     "output_type": "stream",
     "text": [
      "Epoch 26/200\n",
      "46/46 [==============================] - 0s 4ms/step - loss: 0.4103 - accuracy: 0.8364 - val_loss: 0.4019 - val_accuracy: 0.8545\n",
      "Epoch 27/200\n"
     ]
    },
    {
     "data": {
      "application/vnd.jupyter.widget-view+json": {
       "model_id": "1baa90f234724fe2babe26d2e8ecee39",
       "version_major": 2,
       "version_minor": 0
      },
      "text/plain": [
       "0/46           ETA: ?s - "
      ]
     },
     "metadata": {},
     "output_type": "display_data"
    },
    {
     "name": "stdout",
     "output_type": "stream",
     "text": [
      "Epoch 27/200\n",
      "46/46 [==============================] - 0s 4ms/step - loss: 0.4231 - accuracy: 0.8206 - val_loss: 0.4225 - val_accuracy: 0.7913\n",
      "Epoch 28/200\n"
     ]
    },
    {
     "data": {
      "application/vnd.jupyter.widget-view+json": {
       "model_id": "cd5beb455d3f4637a85e0f9f996ea4e6",
       "version_major": 2,
       "version_minor": 0
      },
      "text/plain": [
       "0/46           ETA: ?s - "
      ]
     },
     "metadata": {},
     "output_type": "display_data"
    },
    {
     "name": "stdout",
     "output_type": "stream",
     "text": [
      "Epoch 28/200\n",
      "46/46 [==============================] - 0s 4ms/step - loss: 0.4139 - accuracy: 0.8369 - val_loss: 0.3958 - val_accuracy: 0.8552\n",
      "Epoch 29/200\n"
     ]
    },
    {
     "data": {
      "application/vnd.jupyter.widget-view+json": {
       "model_id": "c1804e73fbf546f7a363425700e1d1f0",
       "version_major": 2,
       "version_minor": 0
      },
      "text/plain": [
       "0/46           ETA: ?s - "
      ]
     },
     "metadata": {},
     "output_type": "display_data"
    },
    {
     "name": "stdout",
     "output_type": "stream",
     "text": [
      "Epoch 29/200\n",
      "46/46 [==============================] - 0s 4ms/step - loss: 0.4101 - accuracy: 0.8300 - val_loss: 0.3972 - val_accuracy: 0.8307\n",
      "Epoch 30/200\n"
     ]
    },
    {
     "data": {
      "application/vnd.jupyter.widget-view+json": {
       "model_id": "661519cc1ff44c3792f8e190c6db8aca",
       "version_major": 2,
       "version_minor": 0
      },
      "text/plain": [
       "0/46           ETA: ?s - "
      ]
     },
     "metadata": {},
     "output_type": "display_data"
    },
    {
     "name": "stdout",
     "output_type": "stream",
     "text": [
      "Epoch 30/200\n",
      "46/46 [==============================] - 0s 4ms/step - loss: 0.4057 - accuracy: 0.8390 - val_loss: 0.3909 - val_accuracy: 0.8538\n",
      "Epoch 31/200\n"
     ]
    },
    {
     "data": {
      "application/vnd.jupyter.widget-view+json": {
       "model_id": "0767ffd8ee6d472b87cfbcb96ebd6e7e",
       "version_major": 2,
       "version_minor": 0
      },
      "text/plain": [
       "0/46           ETA: ?s - "
      ]
     },
     "metadata": {},
     "output_type": "display_data"
    },
    {
     "name": "stdout",
     "output_type": "stream",
     "text": [
      "Epoch 31/200\n",
      "46/46 [==============================] - 0s 4ms/step - loss: 0.4034 - accuracy: 0.8402 - val_loss: 0.3951 - val_accuracy: 0.8368\n",
      "Epoch 32/200\n"
     ]
    },
    {
     "data": {
      "application/vnd.jupyter.widget-view+json": {
       "model_id": "6c777d07c234490f832565aa91431616",
       "version_major": 2,
       "version_minor": 0
      },
      "text/plain": [
       "0/46           ETA: ?s - "
      ]
     },
     "metadata": {},
     "output_type": "display_data"
    },
    {
     "name": "stdout",
     "output_type": "stream",
     "text": [
      "Epoch 32/200\n",
      "46/46 [==============================] - 0s 4ms/step - loss: 0.4010 - accuracy: 0.8374 - val_loss: 0.3954 - val_accuracy: 0.8402\n",
      "Epoch 33/200\n"
     ]
    },
    {
     "data": {
      "application/vnd.jupyter.widget-view+json": {
       "model_id": "bb77a81fbcb143cf81fe97b3b08a691a",
       "version_major": 2,
       "version_minor": 0
      },
      "text/plain": [
       "0/46           ETA: ?s - "
      ]
     },
     "metadata": {},
     "output_type": "display_data"
    },
    {
     "name": "stdout",
     "output_type": "stream",
     "text": [
      "Epoch 33/200\n",
      "46/46 [==============================] - 0s 4ms/step - loss: 0.4006 - accuracy: 0.8475 - val_loss: 0.3859 - val_accuracy: 0.8593\n",
      "Epoch 34/200\n"
     ]
    },
    {
     "data": {
      "application/vnd.jupyter.widget-view+json": {
       "model_id": "0d9d5a70b1d94115bd29d068402a67b8",
       "version_major": 2,
       "version_minor": 0
      },
      "text/plain": [
       "0/46           ETA: ?s - "
      ]
     },
     "metadata": {},
     "output_type": "display_data"
    },
    {
     "name": "stdout",
     "output_type": "stream",
     "text": [
      "Epoch 34/200\n",
      "46/46 [==============================] - 0s 4ms/step - loss: 0.3934 - accuracy: 0.8527 - val_loss: 0.3834 - val_accuracy: 0.8640\n",
      "Epoch 35/200\n"
     ]
    },
    {
     "data": {
      "application/vnd.jupyter.widget-view+json": {
       "model_id": "9b97d22b88f6448294a4bd714e256604",
       "version_major": 2,
       "version_minor": 0
      },
      "text/plain": [
       "0/46           ETA: ?s - "
      ]
     },
     "metadata": {},
     "output_type": "display_data"
    },
    {
     "name": "stdout",
     "output_type": "stream",
     "text": [
      "Epoch 35/200\n",
      "46/46 [==============================] - 0s 4ms/step - loss: 0.3937 - accuracy: 0.8482 - val_loss: 0.3778 - val_accuracy: 0.8688\n",
      "Epoch 36/200\n"
     ]
    },
    {
     "data": {
      "application/vnd.jupyter.widget-view+json": {
       "model_id": "74a21ad702114bb5884a89c987b3ad2e",
       "version_major": 2,
       "version_minor": 0
      },
      "text/plain": [
       "0/46           ETA: ?s - "
      ]
     },
     "metadata": {},
     "output_type": "display_data"
    },
    {
     "name": "stdout",
     "output_type": "stream",
     "text": [
      "Epoch 36/200\n",
      "46/46 [==============================] - 0s 4ms/step - loss: 0.3877 - accuracy: 0.8493 - val_loss: 0.3870 - val_accuracy: 0.8443\n",
      "Epoch 37/200\n"
     ]
    },
    {
     "data": {
      "application/vnd.jupyter.widget-view+json": {
       "model_id": "57b7eb53feae4df4b03222b13edfbc09",
       "version_major": 2,
       "version_minor": 0
      },
      "text/plain": [
       "0/46           ETA: ?s - "
      ]
     },
     "metadata": {},
     "output_type": "display_data"
    },
    {
     "name": "stdout",
     "output_type": "stream",
     "text": [
      "Epoch 37/200\n",
      "46/46 [==============================] - 0s 4ms/step - loss: 0.3923 - accuracy: 0.8407 - val_loss: 0.3848 - val_accuracy: 0.8640\n",
      "Epoch 38/200\n"
     ]
    },
    {
     "data": {
      "application/vnd.jupyter.widget-view+json": {
       "model_id": "0a966e1b53af4b1b842646a42d358969",
       "version_major": 2,
       "version_minor": 0
      },
      "text/plain": [
       "0/46           ETA: ?s - "
      ]
     },
     "metadata": {},
     "output_type": "display_data"
    },
    {
     "name": "stdout",
     "output_type": "stream",
     "text": [
      "Epoch 38/200\n",
      "46/46 [==============================] - 0s 4ms/step - loss: 0.3943 - accuracy: 0.8466 - val_loss: 0.3719 - val_accuracy: 0.8770\n",
      "Epoch 39/200\n"
     ]
    },
    {
     "data": {
      "application/vnd.jupyter.widget-view+json": {
       "model_id": "95d3fe99aaba4125b53143b10b6b1e02",
       "version_major": 2,
       "version_minor": 0
      },
      "text/plain": [
       "0/46           ETA: ?s - "
      ]
     },
     "metadata": {},
     "output_type": "display_data"
    },
    {
     "name": "stdout",
     "output_type": "stream",
     "text": [
      "Epoch 39/200\n",
      "46/46 [==============================] - 0s 4ms/step - loss: 0.3831 - accuracy: 0.8487 - val_loss: 0.3741 - val_accuracy: 0.8586\n",
      "Epoch 40/200\n"
     ]
    },
    {
     "data": {
      "application/vnd.jupyter.widget-view+json": {
       "model_id": "0b13670c43904660af5f683c293751fe",
       "version_major": 2,
       "version_minor": 0
      },
      "text/plain": [
       "0/46           ETA: ?s - "
      ]
     },
     "metadata": {},
     "output_type": "display_data"
    },
    {
     "name": "stdout",
     "output_type": "stream",
     "text": [
      "Epoch 40/200\n",
      "46/46 [==============================] - 0s 4ms/step - loss: 0.3792 - accuracy: 0.8485 - val_loss: 0.3691 - val_accuracy: 0.8756\n",
      "Epoch 41/200\n"
     ]
    },
    {
     "data": {
      "application/vnd.jupyter.widget-view+json": {
       "model_id": "a49dd9217c7341bf93a3b51db08c2074",
       "version_major": 2,
       "version_minor": 0
      },
      "text/plain": [
       "0/46           ETA: ?s - "
      ]
     },
     "metadata": {},
     "output_type": "display_data"
    },
    {
     "name": "stdout",
     "output_type": "stream",
     "text": [
      "Epoch 41/200\n",
      "46/46 [==============================] - 0s 4ms/step - loss: 0.3850 - accuracy: 0.8478 - val_loss: 0.3817 - val_accuracy: 0.8708\n",
      "Epoch 42/200\n"
     ]
    },
    {
     "data": {
      "application/vnd.jupyter.widget-view+json": {
       "model_id": "1e81a71c1a7a43bf956c5156433156a1",
       "version_major": 2,
       "version_minor": 0
      },
      "text/plain": [
       "0/46           ETA: ?s - "
      ]
     },
     "metadata": {},
     "output_type": "display_data"
    },
    {
     "name": "stdout",
     "output_type": "stream",
     "text": [
      "Epoch 42/200\n",
      "46/46 [==============================] - 0s 4ms/step - loss: 0.3841 - accuracy: 0.8480 - val_loss: 0.3692 - val_accuracy: 0.8715\n",
      "Epoch 43/200\n"
     ]
    },
    {
     "data": {
      "application/vnd.jupyter.widget-view+json": {
       "model_id": "5f1fa29c547844999b7e7b907d8c8c02",
       "version_major": 2,
       "version_minor": 0
      },
      "text/plain": [
       "0/46           ETA: ?s - "
      ]
     },
     "metadata": {},
     "output_type": "display_data"
    },
    {
     "name": "stdout",
     "output_type": "stream",
     "text": [
      "Epoch 43/200\n",
      "46/46 [==============================] - 0s 4ms/step - loss: 0.3814 - accuracy: 0.8451 - val_loss: 0.3802 - val_accuracy: 0.8518\n",
      "Epoch 44/200\n"
     ]
    },
    {
     "data": {
      "application/vnd.jupyter.widget-view+json": {
       "model_id": "de0d4ead6db04557ab4f94aa420900c0",
       "version_major": 2,
       "version_minor": 0
      },
      "text/plain": [
       "0/46           ETA: ?s - "
      ]
     },
     "metadata": {},
     "output_type": "display_data"
    },
    {
     "name": "stdout",
     "output_type": "stream",
     "text": [
      "Epoch 44/200\n",
      "46/46 [==============================] - 0s 4ms/step - loss: 0.3781 - accuracy: 0.8543 - val_loss: 0.3684 - val_accuracy: 0.8695\n",
      "Epoch 45/200\n"
     ]
    },
    {
     "data": {
      "application/vnd.jupyter.widget-view+json": {
       "model_id": "7253f094601d419380d27ac10346ea34",
       "version_major": 2,
       "version_minor": 0
      },
      "text/plain": [
       "0/46           ETA: ?s - "
      ]
     },
     "metadata": {},
     "output_type": "display_data"
    },
    {
     "name": "stdout",
     "output_type": "stream",
     "text": [
      "Epoch 45/200\n",
      "46/46 [==============================] - 0s 4ms/step - loss: 0.3803 - accuracy: 0.8456 - val_loss: 0.3685 - val_accuracy: 0.8498\n",
      "Epoch 46/200\n"
     ]
    },
    {
     "data": {
      "application/vnd.jupyter.widget-view+json": {
       "model_id": "f9e564ae482d41118ac139a256187450",
       "version_major": 2,
       "version_minor": 0
      },
      "text/plain": [
       "0/46           ETA: ?s - "
      ]
     },
     "metadata": {},
     "output_type": "display_data"
    },
    {
     "name": "stdout",
     "output_type": "stream",
     "text": [
      "Epoch 46/200\n",
      "46/46 [==============================] - 0s 5ms/step - loss: 0.3765 - accuracy: 0.8470 - val_loss: 0.3776 - val_accuracy: 0.8674\n",
      "Epoch 47/200\n"
     ]
    },
    {
     "data": {
      "application/vnd.jupyter.widget-view+json": {
       "model_id": "83f3784ba4cb426ca1eea71fd3dba405",
       "version_major": 2,
       "version_minor": 0
      },
      "text/plain": [
       "0/46           ETA: ?s - "
      ]
     },
     "metadata": {},
     "output_type": "display_data"
    },
    {
     "name": "stdout",
     "output_type": "stream",
     "text": [
      "Epoch 47/200\n",
      "46/46 [==============================] - 0s 5ms/step - loss: 0.3738 - accuracy: 0.8565 - val_loss: 0.3908 - val_accuracy: 0.8586\n",
      "Epoch 48/200\n"
     ]
    },
    {
     "data": {
      "application/vnd.jupyter.widget-view+json": {
       "model_id": "079c4ebebb5a4d249e5bf02b26a183ee",
       "version_major": 2,
       "version_minor": 0
      },
      "text/plain": [
       "0/46           ETA: ?s - "
      ]
     },
     "metadata": {},
     "output_type": "display_data"
    },
    {
     "name": "stdout",
     "output_type": "stream",
     "text": [
      "Epoch 48/200\n",
      "46/46 [==============================] - 0s 4ms/step - loss: 0.3779 - accuracy: 0.8482 - val_loss: 0.3793 - val_accuracy: 0.8620\n",
      "Epoch 49/200\n"
     ]
    },
    {
     "data": {
      "application/vnd.jupyter.widget-view+json": {
       "model_id": "e539c6b45d4e49e4be1b348067577a12",
       "version_major": 2,
       "version_minor": 0
      },
      "text/plain": [
       "0/46           ETA: ?s - "
      ]
     },
     "metadata": {},
     "output_type": "display_data"
    },
    {
     "name": "stdout",
     "output_type": "stream",
     "text": [
      "Epoch 49/200\n",
      "46/46 [==============================] - 0s 4ms/step - loss: 0.3802 - accuracy: 0.8517 - val_loss: 0.3746 - val_accuracy: 0.8756\n",
      "Epoch 50/200\n"
     ]
    },
    {
     "data": {
      "application/vnd.jupyter.widget-view+json": {
       "model_id": "fd1564f92f314689b1bea757708e5be2",
       "version_major": 2,
       "version_minor": 0
      },
      "text/plain": [
       "0/46           ETA: ?s - "
      ]
     },
     "metadata": {},
     "output_type": "display_data"
    },
    {
     "name": "stdout",
     "output_type": "stream",
     "text": [
      "Epoch 50/200\n",
      "46/46 [==============================] - 0s 5ms/step - loss: 0.3746 - accuracy: 0.8439 - val_loss: 0.3658 - val_accuracy: 0.8797\n",
      "Epoch 51/200\n"
     ]
    },
    {
     "data": {
      "application/vnd.jupyter.widget-view+json": {
       "model_id": "b16fd9a6b68446d38bebfdf7e507afb5",
       "version_major": 2,
       "version_minor": 0
      },
      "text/plain": [
       "0/46           ETA: ?s - "
      ]
     },
     "metadata": {},
     "output_type": "display_data"
    },
    {
     "name": "stdout",
     "output_type": "stream",
     "text": [
      "Epoch 51/200\n",
      "46/46 [==============================] - 0s 4ms/step - loss: 0.3769 - accuracy: 0.8500 - val_loss: 0.3672 - val_accuracy: 0.8566\n",
      "Epoch 52/200\n"
     ]
    },
    {
     "data": {
      "application/vnd.jupyter.widget-view+json": {
       "model_id": "b3e18a138e0e42a894c6b5946c95c3ad",
       "version_major": 2,
       "version_minor": 0
      },
      "text/plain": [
       "0/46           ETA: ?s - "
      ]
     },
     "metadata": {},
     "output_type": "display_data"
    },
    {
     "name": "stdout",
     "output_type": "stream",
     "text": [
      "Epoch 52/200\n",
      "46/46 [==============================] - 0s 4ms/step - loss: 0.3748 - accuracy: 0.8458 - val_loss: 0.3694 - val_accuracy: 0.8654\n",
      "Epoch 53/200\n"
     ]
    },
    {
     "data": {
      "application/vnd.jupyter.widget-view+json": {
       "model_id": "d90475b6ac464458a5bc193208e961d8",
       "version_major": 2,
       "version_minor": 0
      },
      "text/plain": [
       "0/46           ETA: ?s - "
      ]
     },
     "metadata": {},
     "output_type": "display_data"
    },
    {
     "name": "stdout",
     "output_type": "stream",
     "text": [
      "Epoch 53/200\n",
      "46/46 [==============================] - 0s 4ms/step - loss: 0.3691 - accuracy: 0.8539 - val_loss: 0.3727 - val_accuracy: 0.8729\n",
      "Epoch 54/200\n"
     ]
    },
    {
     "data": {
      "application/vnd.jupyter.widget-view+json": {
       "model_id": "a549bcd8eaf54772881ec3b74eb98c86",
       "version_major": 2,
       "version_minor": 0
      },
      "text/plain": [
       "0/46           ETA: ?s - "
      ]
     },
     "metadata": {},
     "output_type": "display_data"
    },
    {
     "name": "stdout",
     "output_type": "stream",
     "text": [
      "Epoch 54/200\n",
      "46/46 [==============================] - 0s 4ms/step - loss: 0.3676 - accuracy: 0.8565 - val_loss: 0.3670 - val_accuracy: 0.8627\n",
      "Epoch 55/200\n"
     ]
    },
    {
     "data": {
      "application/vnd.jupyter.widget-view+json": {
       "model_id": "db36c5873f324e7d807bc112cfa10103",
       "version_major": 2,
       "version_minor": 0
      },
      "text/plain": [
       "0/46           ETA: ?s - "
      ]
     },
     "metadata": {},
     "output_type": "display_data"
    },
    {
     "name": "stdout",
     "output_type": "stream",
     "text": [
      "Epoch 55/200\n",
      "46/46 [==============================] - 0s 4ms/step - loss: 0.3676 - accuracy: 0.8521 - val_loss: 0.3548 - val_accuracy: 0.8708\n",
      "Epoch 56/200\n"
     ]
    },
    {
     "data": {
      "application/vnd.jupyter.widget-view+json": {
       "model_id": "11269dd9951e42c0ac5110ee7a052554",
       "version_major": 2,
       "version_minor": 0
      },
      "text/plain": [
       "0/46           ETA: ?s - "
      ]
     },
     "metadata": {},
     "output_type": "display_data"
    },
    {
     "name": "stdout",
     "output_type": "stream",
     "text": [
      "Epoch 56/200\n",
      "46/46 [==============================] - 0s 4ms/step - loss: 0.3645 - accuracy: 0.8548 - val_loss: 0.3702 - val_accuracy: 0.8695\n",
      "Epoch 57/200\n"
     ]
    },
    {
     "data": {
      "application/vnd.jupyter.widget-view+json": {
       "model_id": "d54dfd5e1f4c44efbbb06df22746c985",
       "version_major": 2,
       "version_minor": 0
      },
      "text/plain": [
       "0/46           ETA: ?s - "
      ]
     },
     "metadata": {},
     "output_type": "display_data"
    },
    {
     "name": "stdout",
     "output_type": "stream",
     "text": [
      "Epoch 57/200\n",
      "46/46 [==============================] - 0s 4ms/step - loss: 0.3664 - accuracy: 0.8526 - val_loss: 0.3705 - val_accuracy: 0.8545\n",
      "Epoch 58/200\n"
     ]
    },
    {
     "data": {
      "application/vnd.jupyter.widget-view+json": {
       "model_id": "65dc1230dda2450690dcc414ed8a6d2b",
       "version_major": 2,
       "version_minor": 0
      },
      "text/plain": [
       "0/46           ETA: ?s - "
      ]
     },
     "metadata": {},
     "output_type": "display_data"
    },
    {
     "name": "stdout",
     "output_type": "stream",
     "text": [
      "Epoch 58/200\n",
      "46/46 [==============================] - 0s 4ms/step - loss: 0.3611 - accuracy: 0.8595 - val_loss: 0.3504 - val_accuracy: 0.8756\n",
      "Epoch 59/200\n"
     ]
    },
    {
     "data": {
      "application/vnd.jupyter.widget-view+json": {
       "model_id": "d68f9b2b3b174116bd86bce8de481744",
       "version_major": 2,
       "version_minor": 0
      },
      "text/plain": [
       "0/46           ETA: ?s - "
      ]
     },
     "metadata": {},
     "output_type": "display_data"
    },
    {
     "name": "stdout",
     "output_type": "stream",
     "text": [
      "Epoch 59/200\n",
      "46/46 [==============================] - 0s 4ms/step - loss: 0.3700 - accuracy: 0.8482 - val_loss: 0.3658 - val_accuracy: 0.8464\n",
      "Epoch 60/200\n"
     ]
    },
    {
     "data": {
      "application/vnd.jupyter.widget-view+json": {
       "model_id": "598441c0ca004be2b11030872249fdb7",
       "version_major": 2,
       "version_minor": 0
      },
      "text/plain": [
       "0/46           ETA: ?s - "
      ]
     },
     "metadata": {},
     "output_type": "display_data"
    },
    {
     "name": "stdout",
     "output_type": "stream",
     "text": [
      "Epoch 60/200\n",
      "46/46 [==============================] - 0s 4ms/step - loss: 0.3590 - accuracy: 0.8592 - val_loss: 0.3457 - val_accuracy: 0.8736\n",
      "Epoch 61/200\n"
     ]
    },
    {
     "data": {
      "application/vnd.jupyter.widget-view+json": {
       "model_id": "b0936142b0b944a0809bf66f6e7835dd",
       "version_major": 2,
       "version_minor": 0
      },
      "text/plain": [
       "0/46           ETA: ?s - "
      ]
     },
     "metadata": {},
     "output_type": "display_data"
    },
    {
     "name": "stdout",
     "output_type": "stream",
     "text": [
      "Epoch 61/200\n",
      "46/46 [==============================] - 0s 4ms/step - loss: 0.3627 - accuracy: 0.8567 - val_loss: 0.3553 - val_accuracy: 0.8498\n",
      "Epoch 62/200\n"
     ]
    },
    {
     "data": {
      "application/vnd.jupyter.widget-view+json": {
       "model_id": "7b1b2c350ca24c02b170eb2552ac0867",
       "version_major": 2,
       "version_minor": 0
      },
      "text/plain": [
       "0/46           ETA: ?s - "
      ]
     },
     "metadata": {},
     "output_type": "display_data"
    },
    {
     "name": "stdout",
     "output_type": "stream",
     "text": [
      "Epoch 62/200\n",
      "46/46 [==============================] - 0s 4ms/step - loss: 0.3610 - accuracy: 0.8570 - val_loss: 0.3471 - val_accuracy: 0.8749\n",
      "Epoch 63/200\n"
     ]
    },
    {
     "data": {
      "application/vnd.jupyter.widget-view+json": {
       "model_id": "4a994144fac1409999a849853729b54f",
       "version_major": 2,
       "version_minor": 0
      },
      "text/plain": [
       "0/46           ETA: ?s - "
      ]
     },
     "metadata": {},
     "output_type": "display_data"
    },
    {
     "name": "stdout",
     "output_type": "stream",
     "text": [
      "Epoch 63/200\n",
      "46/46 [==============================] - 0s 4ms/step - loss: 0.3573 - accuracy: 0.8546 - val_loss: 0.3692 - val_accuracy: 0.8423\n",
      "Epoch 64/200\n"
     ]
    },
    {
     "data": {
      "application/vnd.jupyter.widget-view+json": {
       "model_id": "4a58c6bc071c4a2ba9445d7867922d70",
       "version_major": 2,
       "version_minor": 0
      },
      "text/plain": [
       "0/46           ETA: ?s - "
      ]
     },
     "metadata": {},
     "output_type": "display_data"
    },
    {
     "name": "stdout",
     "output_type": "stream",
     "text": [
      "Epoch 64/200\n",
      "46/46 [==============================] - 0s 4ms/step - loss: 0.3630 - accuracy: 0.8497 - val_loss: 0.3568 - val_accuracy: 0.8736\n",
      "Epoch 65/200\n"
     ]
    },
    {
     "data": {
      "application/vnd.jupyter.widget-view+json": {
       "model_id": "e9c15c267e78481283d1432c6036f417",
       "version_major": 2,
       "version_minor": 0
      },
      "text/plain": [
       "0/46           ETA: ?s - "
      ]
     },
     "metadata": {},
     "output_type": "display_data"
    },
    {
     "name": "stdout",
     "output_type": "stream",
     "text": [
      "Epoch 65/200\n",
      "46/46 [==============================] - 0s 4ms/step - loss: 0.3608 - accuracy: 0.8550 - val_loss: 0.3449 - val_accuracy: 0.8865\n",
      "Epoch 66/200\n"
     ]
    },
    {
     "data": {
      "application/vnd.jupyter.widget-view+json": {
       "model_id": "e049cae1c9194cb8857331fd315f61fb",
       "version_major": 2,
       "version_minor": 0
      },
      "text/plain": [
       "0/46           ETA: ?s - "
      ]
     },
     "metadata": {},
     "output_type": "display_data"
    },
    {
     "name": "stdout",
     "output_type": "stream",
     "text": [
      "Epoch 66/200\n",
      "46/46 [==============================] - 0s 4ms/step - loss: 0.3585 - accuracy: 0.8604 - val_loss: 0.3504 - val_accuracy: 0.8729\n",
      "Epoch 67/200\n"
     ]
    },
    {
     "data": {
      "application/vnd.jupyter.widget-view+json": {
       "model_id": "4f0ffee9d2d5409aa03a3f2ecbe46951",
       "version_major": 2,
       "version_minor": 0
      },
      "text/plain": [
       "0/46           ETA: ?s - "
      ]
     },
     "metadata": {},
     "output_type": "display_data"
    },
    {
     "name": "stdout",
     "output_type": "stream",
     "text": [
      "Epoch 67/200\n",
      "46/46 [==============================] - 0s 4ms/step - loss: 0.3619 - accuracy: 0.8563 - val_loss: 0.3483 - val_accuracy: 0.8763\n",
      "Epoch 68/200\n"
     ]
    },
    {
     "data": {
      "application/vnd.jupyter.widget-view+json": {
       "model_id": "aaaf0321d67f42df97764e705bbc6c31",
       "version_major": 2,
       "version_minor": 0
      },
      "text/plain": [
       "0/46           ETA: ?s - "
      ]
     },
     "metadata": {},
     "output_type": "display_data"
    },
    {
     "name": "stdout",
     "output_type": "stream",
     "text": [
      "Epoch 68/200\n",
      "46/46 [==============================] - 0s 4ms/step - loss: 0.3510 - accuracy: 0.8567 - val_loss: 0.3567 - val_accuracy: 0.8695\n",
      "Epoch 69/200\n"
     ]
    },
    {
     "data": {
      "application/vnd.jupyter.widget-view+json": {
       "model_id": "0b19e03beda54246a938fc8c33c1e519",
       "version_major": 2,
       "version_minor": 0
      },
      "text/plain": [
       "0/46           ETA: ?s - "
      ]
     },
     "metadata": {},
     "output_type": "display_data"
    },
    {
     "name": "stdout",
     "output_type": "stream",
     "text": [
      "Epoch 69/200\n",
      "46/46 [==============================] - 0s 4ms/step - loss: 0.3632 - accuracy: 0.8531 - val_loss: 0.3546 - val_accuracy: 0.8586\n",
      "Epoch 70/200\n"
     ]
    },
    {
     "data": {
      "application/vnd.jupyter.widget-view+json": {
       "model_id": "feb23bcba86c4deeb26bc3bbea163986",
       "version_major": 2,
       "version_minor": 0
      },
      "text/plain": [
       "0/46           ETA: ?s - "
      ]
     },
     "metadata": {},
     "output_type": "display_data"
    },
    {
     "name": "stdout",
     "output_type": "stream",
     "text": [
      "Epoch 70/200\n",
      "46/46 [==============================] - 0s 4ms/step - loss: 0.3567 - accuracy: 0.8551 - val_loss: 0.3392 - val_accuracy: 0.8776\n",
      "Epoch 71/200\n"
     ]
    },
    {
     "data": {
      "application/vnd.jupyter.widget-view+json": {
       "model_id": "7ed7c1d283c3480e83233c2fbef4512a",
       "version_major": 2,
       "version_minor": 0
      },
      "text/plain": [
       "0/46           ETA: ?s - "
      ]
     },
     "metadata": {},
     "output_type": "display_data"
    },
    {
     "name": "stdout",
     "output_type": "stream",
     "text": [
      "Epoch 71/200\n",
      "46/46 [==============================] - 0s 4ms/step - loss: 0.3542 - accuracy: 0.8563 - val_loss: 0.3472 - val_accuracy: 0.8824\n",
      "Epoch 72/200\n"
     ]
    },
    {
     "data": {
      "application/vnd.jupyter.widget-view+json": {
       "model_id": "dcc22a211f8d43c1871047d87e45c311",
       "version_major": 2,
       "version_minor": 0
      },
      "text/plain": [
       "0/46           ETA: ?s - "
      ]
     },
     "metadata": {},
     "output_type": "display_data"
    },
    {
     "name": "stdout",
     "output_type": "stream",
     "text": [
      "Epoch 72/200\n",
      "46/46 [==============================] - 0s 4ms/step - loss: 0.3567 - accuracy: 0.8519 - val_loss: 0.3490 - val_accuracy: 0.8654\n",
      "Epoch 73/200\n"
     ]
    },
    {
     "data": {
      "application/vnd.jupyter.widget-view+json": {
       "model_id": "398b0460ed124a598b4ab3e09e013376",
       "version_major": 2,
       "version_minor": 0
      },
      "text/plain": [
       "0/46           ETA: ?s - "
      ]
     },
     "metadata": {},
     "output_type": "display_data"
    },
    {
     "name": "stdout",
     "output_type": "stream",
     "text": [
      "Epoch 73/200\n",
      "46/46 [==============================] - 0s 4ms/step - loss: 0.3444 - accuracy: 0.8641 - val_loss: 0.3318 - val_accuracy: 0.8831\n",
      "Epoch 74/200\n"
     ]
    },
    {
     "data": {
      "application/vnd.jupyter.widget-view+json": {
       "model_id": "c03aa0ff5f49408cabfb01d34287391c",
       "version_major": 2,
       "version_minor": 0
      },
      "text/plain": [
       "0/46           ETA: ?s - "
      ]
     },
     "metadata": {},
     "output_type": "display_data"
    },
    {
     "name": "stdout",
     "output_type": "stream",
     "text": [
      "Epoch 74/200\n",
      "46/46 [==============================] - 0s 4ms/step - loss: 0.3531 - accuracy: 0.8584 - val_loss: 0.3374 - val_accuracy: 0.8742\n",
      "Epoch 75/200\n"
     ]
    },
    {
     "data": {
      "application/vnd.jupyter.widget-view+json": {
       "model_id": "e540ea17e8a349878abdeccd0bdc187b",
       "version_major": 2,
       "version_minor": 0
      },
      "text/plain": [
       "0/46           ETA: ?s - "
      ]
     },
     "metadata": {},
     "output_type": "display_data"
    },
    {
     "name": "stdout",
     "output_type": "stream",
     "text": [
      "Epoch 75/200\n",
      "46/46 [==============================] - 0s 4ms/step - loss: 0.3545 - accuracy: 0.8555 - val_loss: 0.3493 - val_accuracy: 0.8538\n",
      "Epoch 76/200\n"
     ]
    },
    {
     "data": {
      "application/vnd.jupyter.widget-view+json": {
       "model_id": "dd22219690b547a69ea9ee45002c0bf2",
       "version_major": 2,
       "version_minor": 0
      },
      "text/plain": [
       "0/46           ETA: ?s - "
      ]
     },
     "metadata": {},
     "output_type": "display_data"
    },
    {
     "name": "stdout",
     "output_type": "stream",
     "text": [
      "Epoch 76/200\n",
      "46/46 [==============================] - 0s 4ms/step - loss: 0.3538 - accuracy: 0.8551 - val_loss: 0.3364 - val_accuracy: 0.8756\n",
      "Epoch 77/200\n"
     ]
    },
    {
     "data": {
      "application/vnd.jupyter.widget-view+json": {
       "model_id": "9b3ccf66e83e4f4d9089f72f5d84cef7",
       "version_major": 2,
       "version_minor": 0
      },
      "text/plain": [
       "0/46           ETA: ?s - "
      ]
     },
     "metadata": {},
     "output_type": "display_data"
    },
    {
     "name": "stdout",
     "output_type": "stream",
     "text": [
      "Epoch 77/200\n",
      "46/46 [==============================] - 0s 4ms/step - loss: 0.3508 - accuracy: 0.8612 - val_loss: 0.3311 - val_accuracy: 0.8824\n",
      "Epoch 78/200\n"
     ]
    },
    {
     "data": {
      "application/vnd.jupyter.widget-view+json": {
       "model_id": "55bcd4bb284e4e8291928a1d0a387371",
       "version_major": 2,
       "version_minor": 0
      },
      "text/plain": [
       "0/46           ETA: ?s - "
      ]
     },
     "metadata": {},
     "output_type": "display_data"
    },
    {
     "name": "stdout",
     "output_type": "stream",
     "text": [
      "Epoch 78/200\n",
      "46/46 [==============================] - 0s 4ms/step - loss: 0.3468 - accuracy: 0.8618 - val_loss: 0.3454 - val_accuracy: 0.8756\n",
      "Epoch 79/200\n"
     ]
    },
    {
     "data": {
      "application/vnd.jupyter.widget-view+json": {
       "model_id": "76a74bba0c504283928332c068997266",
       "version_major": 2,
       "version_minor": 0
      },
      "text/plain": [
       "0/46           ETA: ?s - "
      ]
     },
     "metadata": {},
     "output_type": "display_data"
    },
    {
     "name": "stdout",
     "output_type": "stream",
     "text": [
      "Epoch 79/200\n",
      "46/46 [==============================] - 0s 4ms/step - loss: 0.3525 - accuracy: 0.8555 - val_loss: 0.3348 - val_accuracy: 0.8810\n",
      "Epoch 80/200\n"
     ]
    },
    {
     "data": {
      "application/vnd.jupyter.widget-view+json": {
       "model_id": "7cf04ba52c37403fa4d2659e4f8adab6",
       "version_major": 2,
       "version_minor": 0
      },
      "text/plain": [
       "0/46           ETA: ?s - "
      ]
     },
     "metadata": {},
     "output_type": "display_data"
    },
    {
     "name": "stdout",
     "output_type": "stream",
     "text": [
      "Epoch 80/200\n",
      "46/46 [==============================] - 0s 4ms/step - loss: 0.3549 - accuracy: 0.8623 - val_loss: 0.3344 - val_accuracy: 0.8844\n",
      "Epoch 81/200\n"
     ]
    },
    {
     "data": {
      "application/vnd.jupyter.widget-view+json": {
       "model_id": "474be8931f404a588158be65eb2083b7",
       "version_major": 2,
       "version_minor": 0
      },
      "text/plain": [
       "0/46           ETA: ?s - "
      ]
     },
     "metadata": {},
     "output_type": "display_data"
    },
    {
     "name": "stdout",
     "output_type": "stream",
     "text": [
      "Epoch 81/200\n",
      "46/46 [==============================] - 0s 4ms/step - loss: 0.3556 - accuracy: 0.8512 - val_loss: 0.3368 - val_accuracy: 0.8858\n",
      "Epoch 82/200\n"
     ]
    },
    {
     "data": {
      "application/vnd.jupyter.widget-view+json": {
       "model_id": "762260e49e6348ba978c225bc8189ce7",
       "version_major": 2,
       "version_minor": 0
      },
      "text/plain": [
       "0/46           ETA: ?s - "
      ]
     },
     "metadata": {},
     "output_type": "display_data"
    },
    {
     "name": "stdout",
     "output_type": "stream",
     "text": [
      "Epoch 82/200\n",
      "46/46 [==============================] - 0s 4ms/step - loss: 0.3604 - accuracy: 0.8463 - val_loss: 0.3580 - val_accuracy: 0.8600\n",
      "Epoch 83/200\n"
     ]
    },
    {
     "data": {
      "application/vnd.jupyter.widget-view+json": {
       "model_id": "9659de1b438b4e2e8577c4c2fcef292e",
       "version_major": 2,
       "version_minor": 0
      },
      "text/plain": [
       "0/46           ETA: ?s - "
      ]
     },
     "metadata": {},
     "output_type": "display_data"
    },
    {
     "name": "stdout",
     "output_type": "stream",
     "text": [
      "Epoch 83/200\n",
      "46/46 [==============================] - 0s 4ms/step - loss: 0.3434 - accuracy: 0.8612 - val_loss: 0.3487 - val_accuracy: 0.8770\n",
      "Epoch 84/200\n"
     ]
    },
    {
     "data": {
      "application/vnd.jupyter.widget-view+json": {
       "model_id": "3c96bdec0247473a99ff1aaadc8f7553",
       "version_major": 2,
       "version_minor": 0
      },
      "text/plain": [
       "0/46           ETA: ?s - "
      ]
     },
     "metadata": {},
     "output_type": "display_data"
    },
    {
     "name": "stdout",
     "output_type": "stream",
     "text": [
      "Epoch 84/200\n",
      "46/46 [==============================] - 0s 4ms/step - loss: 0.3431 - accuracy: 0.8652 - val_loss: 0.3467 - val_accuracy: 0.8763\n",
      "Epoch 85/200\n"
     ]
    },
    {
     "data": {
      "application/vnd.jupyter.widget-view+json": {
       "model_id": "8c8df2ef20e248efaaaa0cbfc61cfe3b",
       "version_major": 2,
       "version_minor": 0
      },
      "text/plain": [
       "0/46           ETA: ?s - "
      ]
     },
     "metadata": {},
     "output_type": "display_data"
    },
    {
     "name": "stdout",
     "output_type": "stream",
     "text": [
      "Epoch 85/200\n",
      "46/46 [==============================] - 0s 4ms/step - loss: 0.3517 - accuracy: 0.8607 - val_loss: 0.3411 - val_accuracy: 0.8647\n",
      "Epoch 86/200\n"
     ]
    },
    {
     "data": {
      "application/vnd.jupyter.widget-view+json": {
       "model_id": "9b76eb75482d4dad8fe9efa7a7312a92",
       "version_major": 2,
       "version_minor": 0
      },
      "text/plain": [
       "0/46           ETA: ?s - "
      ]
     },
     "metadata": {},
     "output_type": "display_data"
    },
    {
     "name": "stdout",
     "output_type": "stream",
     "text": [
      "Epoch 86/200\n",
      "46/46 [==============================] - 0s 4ms/step - loss: 0.3533 - accuracy: 0.8561 - val_loss: 0.3436 - val_accuracy: 0.8797\n",
      "Epoch 87/200\n"
     ]
    },
    {
     "data": {
      "application/vnd.jupyter.widget-view+json": {
       "model_id": "9793d97230dc4a2cad147f8f53dabd0a",
       "version_major": 2,
       "version_minor": 0
      },
      "text/plain": [
       "0/46           ETA: ?s - "
      ]
     },
     "metadata": {},
     "output_type": "display_data"
    },
    {
     "name": "stdout",
     "output_type": "stream",
     "text": [
      "Epoch 87/200\n",
      "46/46 [==============================] - 0s 4ms/step - loss: 0.3477 - accuracy: 0.8609 - val_loss: 0.3404 - val_accuracy: 0.8715\n",
      "Epoch 88/200\n"
     ]
    },
    {
     "data": {
      "application/vnd.jupyter.widget-view+json": {
       "model_id": "5f34d8c7f0d34e0292302e04f6e1c21d",
       "version_major": 2,
       "version_minor": 0
      },
      "text/plain": [
       "0/46           ETA: ?s - "
      ]
     },
     "metadata": {},
     "output_type": "display_data"
    },
    {
     "name": "stdout",
     "output_type": "stream",
     "text": [
      "Epoch 88/200\n",
      "46/46 [==============================] - 0s 4ms/step - loss: 0.3432 - accuracy: 0.8646 - val_loss: 0.3464 - val_accuracy: 0.8749\n",
      "Epoch 89/200\n"
     ]
    },
    {
     "data": {
      "application/vnd.jupyter.widget-view+json": {
       "model_id": "dc2cee8a216446ec975e97a77d910eb9",
       "version_major": 2,
       "version_minor": 0
      },
      "text/plain": [
       "0/46           ETA: ?s - "
      ]
     },
     "metadata": {},
     "output_type": "display_data"
    },
    {
     "name": "stdout",
     "output_type": "stream",
     "text": [
      "Epoch 89/200\n",
      "46/46 [==============================] - 0s 4ms/step - loss: 0.3420 - accuracy: 0.8590 - val_loss: 0.3319 - val_accuracy: 0.8797\n",
      "Epoch 90/200\n"
     ]
    },
    {
     "data": {
      "application/vnd.jupyter.widget-view+json": {
       "model_id": "84f70042ab9d4084a623d076d0cc3379",
       "version_major": 2,
       "version_minor": 0
      },
      "text/plain": [
       "0/46           ETA: ?s - "
      ]
     },
     "metadata": {},
     "output_type": "display_data"
    },
    {
     "name": "stdout",
     "output_type": "stream",
     "text": [
      "Epoch 90/200\n",
      "46/46 [==============================] - 0s 4ms/step - loss: 0.3377 - accuracy: 0.8636 - val_loss: 0.3361 - val_accuracy: 0.8865\n",
      "Epoch 91/200\n"
     ]
    },
    {
     "data": {
      "application/vnd.jupyter.widget-view+json": {
       "model_id": "a86ffd34b49843e7aafcb4560ad2aca8",
       "version_major": 2,
       "version_minor": 0
      },
      "text/plain": [
       "0/46           ETA: ?s - "
      ]
     },
     "metadata": {},
     "output_type": "display_data"
    },
    {
     "name": "stdout",
     "output_type": "stream",
     "text": [
      "Epoch 91/200\n",
      "46/46 [==============================] - 0s 4ms/step - loss: 0.3360 - accuracy: 0.8640 - val_loss: 0.3303 - val_accuracy: 0.8817\n",
      "Epoch 92/200\n"
     ]
    },
    {
     "data": {
      "application/vnd.jupyter.widget-view+json": {
       "model_id": "95d3c4e7c3804c018290442fdd1ce26c",
       "version_major": 2,
       "version_minor": 0
      },
      "text/plain": [
       "0/46           ETA: ?s - "
      ]
     },
     "metadata": {},
     "output_type": "display_data"
    },
    {
     "name": "stdout",
     "output_type": "stream",
     "text": [
      "Epoch 92/200\n",
      "46/46 [==============================] - 0s 4ms/step - loss: 0.3372 - accuracy: 0.8657 - val_loss: 0.3299 - val_accuracy: 0.8851\n",
      "Epoch 93/200\n"
     ]
    },
    {
     "data": {
      "application/vnd.jupyter.widget-view+json": {
       "model_id": "959c6b97cbb54894a1c234566e90d756",
       "version_major": 2,
       "version_minor": 0
      },
      "text/plain": [
       "0/46           ETA: ?s - "
      ]
     },
     "metadata": {},
     "output_type": "display_data"
    },
    {
     "name": "stdout",
     "output_type": "stream",
     "text": [
      "Epoch 93/200\n",
      "46/46 [==============================] - 0s 5ms/step - loss: 0.3386 - accuracy: 0.8607 - val_loss: 0.3343 - val_accuracy: 0.8804\n",
      "Epoch 94/200\n"
     ]
    },
    {
     "data": {
      "application/vnd.jupyter.widget-view+json": {
       "model_id": "89c955f9f2f845a4bf7ce10002525638",
       "version_major": 2,
       "version_minor": 0
      },
      "text/plain": [
       "0/46           ETA: ?s - "
      ]
     },
     "metadata": {},
     "output_type": "display_data"
    },
    {
     "name": "stdout",
     "output_type": "stream",
     "text": [
      "Epoch 94/200\n",
      "46/46 [==============================] - 0s 4ms/step - loss: 0.3341 - accuracy: 0.8699 - val_loss: 0.3447 - val_accuracy: 0.8668\n",
      "Epoch 95/200\n"
     ]
    },
    {
     "data": {
      "application/vnd.jupyter.widget-view+json": {
       "model_id": "f740b82446294ae4a13a3e80ed578afa",
       "version_major": 2,
       "version_minor": 0
      },
      "text/plain": [
       "0/46           ETA: ?s - "
      ]
     },
     "metadata": {},
     "output_type": "display_data"
    },
    {
     "name": "stdout",
     "output_type": "stream",
     "text": [
      "Epoch 95/200\n",
      "46/46 [==============================] - 0s 5ms/step - loss: 0.3422 - accuracy: 0.8624 - val_loss: 0.3362 - val_accuracy: 0.8797\n",
      "Epoch 96/200\n"
     ]
    },
    {
     "data": {
      "application/vnd.jupyter.widget-view+json": {
       "model_id": "07ef6507d3c0427bb3dcba8c475f5edf",
       "version_major": 2,
       "version_minor": 0
      },
      "text/plain": [
       "0/46           ETA: ?s - "
      ]
     },
     "metadata": {},
     "output_type": "display_data"
    },
    {
     "name": "stdout",
     "output_type": "stream",
     "text": [
      "Epoch 96/200\n",
      "46/46 [==============================] - 0s 4ms/step - loss: 0.3348 - accuracy: 0.8728 - val_loss: 0.3233 - val_accuracy: 0.8722\n",
      "Epoch 97/200\n"
     ]
    },
    {
     "data": {
      "application/vnd.jupyter.widget-view+json": {
       "model_id": "05b5ca3c3cb64f91ae4ee7457819ed27",
       "version_major": 2,
       "version_minor": 0
      },
      "text/plain": [
       "0/46           ETA: ?s - "
      ]
     },
     "metadata": {},
     "output_type": "display_data"
    },
    {
     "name": "stdout",
     "output_type": "stream",
     "text": [
      "Epoch 97/200\n",
      "46/46 [==============================] - 0s 4ms/step - loss: 0.3336 - accuracy: 0.8686 - val_loss: 0.3370 - val_accuracy: 0.8817\n",
      "Epoch 98/200\n"
     ]
    },
    {
     "data": {
      "application/vnd.jupyter.widget-view+json": {
       "model_id": "38bb3a1ff4fa45668ce17f44bb34629f",
       "version_major": 2,
       "version_minor": 0
      },
      "text/plain": [
       "0/46           ETA: ?s - "
      ]
     },
     "metadata": {},
     "output_type": "display_data"
    },
    {
     "name": "stdout",
     "output_type": "stream",
     "text": [
      "Epoch 98/200\n",
      "46/46 [==============================] - 0s 4ms/step - loss: 0.3420 - accuracy: 0.8621 - val_loss: 0.3254 - val_accuracy: 0.8858\n",
      "Epoch 99/200\n"
     ]
    },
    {
     "data": {
      "application/vnd.jupyter.widget-view+json": {
       "model_id": "6a6a1658047f4166bf90eba8d30fe4fb",
       "version_major": 2,
       "version_minor": 0
      },
      "text/plain": [
       "0/46           ETA: ?s - "
      ]
     },
     "metadata": {},
     "output_type": "display_data"
    },
    {
     "name": "stdout",
     "output_type": "stream",
     "text": [
      "Epoch 99/200\n",
      "46/46 [==============================] - 0s 4ms/step - loss: 0.3339 - accuracy: 0.8677 - val_loss: 0.3278 - val_accuracy: 0.8654\n",
      "Epoch 100/200\n"
     ]
    },
    {
     "data": {
      "application/vnd.jupyter.widget-view+json": {
       "model_id": "b07c1f6aec95412899f4dc39d3dc57a6",
       "version_major": 2,
       "version_minor": 0
      },
      "text/plain": [
       "0/46           ETA: ?s - "
      ]
     },
     "metadata": {},
     "output_type": "display_data"
    },
    {
     "name": "stdout",
     "output_type": "stream",
     "text": [
      "Epoch 100/200\n",
      "46/46 [==============================] - 0s 4ms/step - loss: 0.3430 - accuracy: 0.8589 - val_loss: 0.3285 - val_accuracy: 0.8688\n",
      "Epoch 101/200\n"
     ]
    },
    {
     "data": {
      "application/vnd.jupyter.widget-view+json": {
       "model_id": "c0d638ab5ac14b508260ee463c637643",
       "version_major": 2,
       "version_minor": 0
      },
      "text/plain": [
       "0/46           ETA: ?s - "
      ]
     },
     "metadata": {},
     "output_type": "display_data"
    },
    {
     "name": "stdout",
     "output_type": "stream",
     "text": [
      "Epoch 101/200\n",
      "46/46 [==============================] - 0s 4ms/step - loss: 0.3348 - accuracy: 0.8652 - val_loss: 0.3314 - val_accuracy: 0.8838\n",
      "Epoch 102/200\n"
     ]
    },
    {
     "data": {
      "application/vnd.jupyter.widget-view+json": {
       "model_id": "5bf7a73e4fed4ac0ad7479e3a864df01",
       "version_major": 2,
       "version_minor": 0
      },
      "text/plain": [
       "0/46           ETA: ?s - "
      ]
     },
     "metadata": {},
     "output_type": "display_data"
    },
    {
     "name": "stdout",
     "output_type": "stream",
     "text": [
      "Epoch 102/200\n",
      "46/46 [==============================] - 0s 4ms/step - loss: 0.3335 - accuracy: 0.8738 - val_loss: 0.3301 - val_accuracy: 0.8790\n",
      "Epoch 103/200\n"
     ]
    },
    {
     "data": {
      "application/vnd.jupyter.widget-view+json": {
       "model_id": "6a17b1d398d8418b8e508e265aea10a5",
       "version_major": 2,
       "version_minor": 0
      },
      "text/plain": [
       "0/46           ETA: ?s - "
      ]
     },
     "metadata": {},
     "output_type": "display_data"
    },
    {
     "name": "stdout",
     "output_type": "stream",
     "text": [
      "Epoch 103/200\n",
      "46/46 [==============================] - 0s 4ms/step - loss: 0.3465 - accuracy: 0.8563 - val_loss: 0.3284 - val_accuracy: 0.8790\n",
      "Epoch 104/200\n"
     ]
    },
    {
     "data": {
      "application/vnd.jupyter.widget-view+json": {
       "model_id": "db52824aead345aa8188411967d6c870",
       "version_major": 2,
       "version_minor": 0
      },
      "text/plain": [
       "0/46           ETA: ?s - "
      ]
     },
     "metadata": {},
     "output_type": "display_data"
    },
    {
     "name": "stdout",
     "output_type": "stream",
     "text": [
      "Epoch 104/200\n",
      "46/46 [==============================] - 0s 4ms/step - loss: 0.3382 - accuracy: 0.8629 - val_loss: 0.3203 - val_accuracy: 0.8790\n",
      "Epoch 105/200\n"
     ]
    },
    {
     "data": {
      "application/vnd.jupyter.widget-view+json": {
       "model_id": "4e9fdffea3454f98b8afa900ee6b0727",
       "version_major": 2,
       "version_minor": 0
      },
      "text/plain": [
       "0/46           ETA: ?s - "
      ]
     },
     "metadata": {},
     "output_type": "display_data"
    },
    {
     "name": "stdout",
     "output_type": "stream",
     "text": [
      "Epoch 105/200\n",
      "46/46 [==============================] - 0s 4ms/step - loss: 0.3357 - accuracy: 0.8706 - val_loss: 0.3184 - val_accuracy: 0.8844\n",
      "Epoch 106/200\n"
     ]
    },
    {
     "data": {
      "application/vnd.jupyter.widget-view+json": {
       "model_id": "da3697a690b74533bf04f9a4e6797c27",
       "version_major": 2,
       "version_minor": 0
      },
      "text/plain": [
       "0/46           ETA: ?s - "
      ]
     },
     "metadata": {},
     "output_type": "display_data"
    },
    {
     "name": "stdout",
     "output_type": "stream",
     "text": [
      "Epoch 106/200\n",
      "46/46 [==============================] - 0s 4ms/step - loss: 0.3274 - accuracy: 0.8691 - val_loss: 0.3157 - val_accuracy: 0.8865\n",
      "Epoch 107/200\n"
     ]
    },
    {
     "data": {
      "application/vnd.jupyter.widget-view+json": {
       "model_id": "ff804507f1bd48e19ff931fef87598d3",
       "version_major": 2,
       "version_minor": 0
      },
      "text/plain": [
       "0/46           ETA: ?s - "
      ]
     },
     "metadata": {},
     "output_type": "display_data"
    },
    {
     "name": "stdout",
     "output_type": "stream",
     "text": [
      "Epoch 107/200\n",
      "46/46 [==============================] - 0s 4ms/step - loss: 0.3387 - accuracy: 0.8652 - val_loss: 0.3238 - val_accuracy: 0.8776\n",
      "Epoch 108/200\n"
     ]
    },
    {
     "data": {
      "application/vnd.jupyter.widget-view+json": {
       "model_id": "288e0247f12d4881974d7f6eeba3f72c",
       "version_major": 2,
       "version_minor": 0
      },
      "text/plain": [
       "0/46           ETA: ?s - "
      ]
     },
     "metadata": {},
     "output_type": "display_data"
    },
    {
     "name": "stdout",
     "output_type": "stream",
     "text": [
      "Epoch 108/200\n",
      "46/46 [==============================] - 0s 4ms/step - loss: 0.3345 - accuracy: 0.8653 - val_loss: 0.3138 - val_accuracy: 0.8858\n",
      "Epoch 109/200\n"
     ]
    },
    {
     "data": {
      "application/vnd.jupyter.widget-view+json": {
       "model_id": "bde8ecf3a2a54e5fbd879f638a007afc",
       "version_major": 2,
       "version_minor": 0
      },
      "text/plain": [
       "0/46           ETA: ?s - "
      ]
     },
     "metadata": {},
     "output_type": "display_data"
    },
    {
     "name": "stdout",
     "output_type": "stream",
     "text": [
      "Epoch 109/200\n",
      "46/46 [==============================] - 0s 4ms/step - loss: 0.3325 - accuracy: 0.8701 - val_loss: 0.3201 - val_accuracy: 0.8824\n",
      "Epoch 110/200\n"
     ]
    },
    {
     "data": {
      "application/vnd.jupyter.widget-view+json": {
       "model_id": "406377a70c6e47389b83ad06a051ffb9",
       "version_major": 2,
       "version_minor": 0
      },
      "text/plain": [
       "0/46           ETA: ?s - "
      ]
     },
     "metadata": {},
     "output_type": "display_data"
    },
    {
     "name": "stdout",
     "output_type": "stream",
     "text": [
      "Epoch 110/200\n",
      "46/46 [==============================] - 0s 4ms/step - loss: 0.3369 - accuracy: 0.8573 - val_loss: 0.3168 - val_accuracy: 0.8858\n",
      "Epoch 111/200\n"
     ]
    },
    {
     "data": {
      "application/vnd.jupyter.widget-view+json": {
       "model_id": "9eadd182721748cbbdaefe0391b40dbd",
       "version_major": 2,
       "version_minor": 0
      },
      "text/plain": [
       "0/46           ETA: ?s - "
      ]
     },
     "metadata": {},
     "output_type": "display_data"
    },
    {
     "name": "stdout",
     "output_type": "stream",
     "text": [
      "Epoch 111/200\n",
      "46/46 [==============================] - 0s 4ms/step - loss: 0.3253 - accuracy: 0.8711 - val_loss: 0.3289 - val_accuracy: 0.8729\n",
      "Epoch 112/200\n"
     ]
    },
    {
     "data": {
      "application/vnd.jupyter.widget-view+json": {
       "model_id": "aad930d6d4204b0cb46a4f7db142fc98",
       "version_major": 2,
       "version_minor": 0
      },
      "text/plain": [
       "0/46           ETA: ?s - "
      ]
     },
     "metadata": {},
     "output_type": "display_data"
    },
    {
     "name": "stdout",
     "output_type": "stream",
     "text": [
      "Epoch 112/200\n",
      "46/46 [==============================] - 0s 4ms/step - loss: 0.3289 - accuracy: 0.8687 - val_loss: 0.3270 - val_accuracy: 0.8824\n",
      "Epoch 113/200\n"
     ]
    },
    {
     "data": {
      "application/vnd.jupyter.widget-view+json": {
       "model_id": "6e986c28e1664cf680076d56adb140e5",
       "version_major": 2,
       "version_minor": 0
      },
      "text/plain": [
       "0/46           ETA: ?s - "
      ]
     },
     "metadata": {},
     "output_type": "display_data"
    },
    {
     "name": "stdout",
     "output_type": "stream",
     "text": [
      "Epoch 113/200\n",
      "46/46 [==============================] - 0s 4ms/step - loss: 0.3376 - accuracy: 0.8607 - val_loss: 0.3157 - val_accuracy: 0.8790\n",
      "Epoch 114/200\n"
     ]
    },
    {
     "data": {
      "application/vnd.jupyter.widget-view+json": {
       "model_id": "61081c3397cd4c7a9b1b565faeca79df",
       "version_major": 2,
       "version_minor": 0
      },
      "text/plain": [
       "0/46           ETA: ?s - "
      ]
     },
     "metadata": {},
     "output_type": "display_data"
    },
    {
     "name": "stdout",
     "output_type": "stream",
     "text": [
      "Epoch 114/200\n",
      "46/46 [==============================] - 0s 4ms/step - loss: 0.3288 - accuracy: 0.8733 - val_loss: 0.3109 - val_accuracy: 0.8878\n",
      "Epoch 115/200\n"
     ]
    },
    {
     "data": {
      "application/vnd.jupyter.widget-view+json": {
       "model_id": "c46e34b9798d4ed4bdf4003c6aa527b7",
       "version_major": 2,
       "version_minor": 0
      },
      "text/plain": [
       "0/46           ETA: ?s - "
      ]
     },
     "metadata": {},
     "output_type": "display_data"
    },
    {
     "name": "stdout",
     "output_type": "stream",
     "text": [
      "Epoch 115/200\n",
      "46/46 [==============================] - 0s 4ms/step - loss: 0.3395 - accuracy: 0.8665 - val_loss: 0.3193 - val_accuracy: 0.8810\n",
      "Epoch 116/200\n"
     ]
    },
    {
     "data": {
      "application/vnd.jupyter.widget-view+json": {
       "model_id": "80025d105ca946b8b372b69b28c70493",
       "version_major": 2,
       "version_minor": 0
      },
      "text/plain": [
       "0/46           ETA: ?s - "
      ]
     },
     "metadata": {},
     "output_type": "display_data"
    },
    {
     "name": "stdout",
     "output_type": "stream",
     "text": [
      "Epoch 116/200\n",
      "46/46 [==============================] - 0s 4ms/step - loss: 0.3318 - accuracy: 0.8670 - val_loss: 0.3135 - val_accuracy: 0.8844\n",
      "Epoch 117/200\n"
     ]
    },
    {
     "data": {
      "application/vnd.jupyter.widget-view+json": {
       "model_id": "e97cfee73be24dd5aa6a104f69085174",
       "version_major": 2,
       "version_minor": 0
      },
      "text/plain": [
       "0/46           ETA: ?s - "
      ]
     },
     "metadata": {},
     "output_type": "display_data"
    },
    {
     "name": "stdout",
     "output_type": "stream",
     "text": [
      "Epoch 117/200\n",
      "46/46 [==============================] - 0s 4ms/step - loss: 0.3300 - accuracy: 0.8638 - val_loss: 0.3285 - val_accuracy: 0.8878\n",
      "Epoch 118/200\n"
     ]
    },
    {
     "data": {
      "application/vnd.jupyter.widget-view+json": {
       "model_id": "b5e489d0d6ea42d4959ed012509e93c1",
       "version_major": 2,
       "version_minor": 0
      },
      "text/plain": [
       "0/46           ETA: ?s - "
      ]
     },
     "metadata": {},
     "output_type": "display_data"
    },
    {
     "name": "stdout",
     "output_type": "stream",
     "text": [
      "Epoch 118/200\n",
      "46/46 [==============================] - 0s 4ms/step - loss: 0.3359 - accuracy: 0.8645 - val_loss: 0.3260 - val_accuracy: 0.8606\n",
      "Epoch 119/200\n"
     ]
    },
    {
     "data": {
      "application/vnd.jupyter.widget-view+json": {
       "model_id": "7acd7b0eaecd4d9cb180368ae7727a61",
       "version_major": 2,
       "version_minor": 0
      },
      "text/plain": [
       "0/46           ETA: ?s - "
      ]
     },
     "metadata": {},
     "output_type": "display_data"
    },
    {
     "name": "stdout",
     "output_type": "stream",
     "text": [
      "Epoch 119/200\n",
      "46/46 [==============================] - 0s 4ms/step - loss: 0.3275 - accuracy: 0.8696 - val_loss: 0.3193 - val_accuracy: 0.8865\n",
      "Epoch 120/200\n"
     ]
    },
    {
     "data": {
      "application/vnd.jupyter.widget-view+json": {
       "model_id": "0b2862f1d4bf4bf486bc8962e6186f58",
       "version_major": 2,
       "version_minor": 0
      },
      "text/plain": [
       "0/46           ETA: ?s - "
      ]
     },
     "metadata": {},
     "output_type": "display_data"
    },
    {
     "name": "stdout",
     "output_type": "stream",
     "text": [
      "Epoch 120/200\n",
      "46/46 [==============================] - 0s 4ms/step - loss: 0.3279 - accuracy: 0.8743 - val_loss: 0.3159 - val_accuracy: 0.8872\n",
      "Epoch 121/200\n"
     ]
    },
    {
     "data": {
      "application/vnd.jupyter.widget-view+json": {
       "model_id": "15203f1c638444c49fbfb0c28f785a2d",
       "version_major": 2,
       "version_minor": 0
      },
      "text/plain": [
       "0/46           ETA: ?s - "
      ]
     },
     "metadata": {},
     "output_type": "display_data"
    },
    {
     "name": "stdout",
     "output_type": "stream",
     "text": [
      "Epoch 121/200\n",
      "46/46 [==============================] - 0s 4ms/step - loss: 0.3416 - accuracy: 0.8687 - val_loss: 0.3178 - val_accuracy: 0.8838\n",
      "Epoch 122/200\n"
     ]
    },
    {
     "data": {
      "application/vnd.jupyter.widget-view+json": {
       "model_id": "c2416f8e6a4e4c32a4555dc7f608d804",
       "version_major": 2,
       "version_minor": 0
      },
      "text/plain": [
       "0/46           ETA: ?s - "
      ]
     },
     "metadata": {},
     "output_type": "display_data"
    },
    {
     "name": "stdout",
     "output_type": "stream",
     "text": [
      "Epoch 122/200\n",
      "46/46 [==============================] - 0s 4ms/step - loss: 0.3279 - accuracy: 0.8670 - val_loss: 0.3321 - val_accuracy: 0.8776\n",
      "Epoch 123/200\n"
     ]
    },
    {
     "data": {
      "application/vnd.jupyter.widget-view+json": {
       "model_id": "8f367b5092d34bce899b59eed1dc3ac7",
       "version_major": 2,
       "version_minor": 0
      },
      "text/plain": [
       "0/46           ETA: ?s - "
      ]
     },
     "metadata": {},
     "output_type": "display_data"
    },
    {
     "name": "stdout",
     "output_type": "stream",
     "text": [
      "Epoch 123/200\n",
      "46/46 [==============================] - 0s 4ms/step - loss: 0.3254 - accuracy: 0.8733 - val_loss: 0.3157 - val_accuracy: 0.8838\n",
      "Epoch 124/200\n"
     ]
    },
    {
     "data": {
      "application/vnd.jupyter.widget-view+json": {
       "model_id": "6aca7626e65146e8b6372a69a0439e87",
       "version_major": 2,
       "version_minor": 0
      },
      "text/plain": [
       "0/46           ETA: ?s - "
      ]
     },
     "metadata": {},
     "output_type": "display_data"
    },
    {
     "name": "stdout",
     "output_type": "stream",
     "text": [
      "Epoch 124/200\n",
      "46/46 [==============================] - 0s 4ms/step - loss: 0.3209 - accuracy: 0.8698 - val_loss: 0.3089 - val_accuracy: 0.8878\n",
      "Epoch 125/200\n"
     ]
    },
    {
     "data": {
      "application/vnd.jupyter.widget-view+json": {
       "model_id": "a9c4da37944949869f8ea28c59a598ea",
       "version_major": 2,
       "version_minor": 0
      },
      "text/plain": [
       "0/46           ETA: ?s - "
      ]
     },
     "metadata": {},
     "output_type": "display_data"
    },
    {
     "name": "stdout",
     "output_type": "stream",
     "text": [
      "Epoch 125/200\n",
      "46/46 [==============================] - 0s 4ms/step - loss: 0.3275 - accuracy: 0.8684 - val_loss: 0.3149 - val_accuracy: 0.8872\n",
      "Epoch 126/200\n"
     ]
    },
    {
     "data": {
      "application/vnd.jupyter.widget-view+json": {
       "model_id": "a62fed1535484f3e94ff141e30c74620",
       "version_major": 2,
       "version_minor": 0
      },
      "text/plain": [
       "0/46           ETA: ?s - "
      ]
     },
     "metadata": {},
     "output_type": "display_data"
    },
    {
     "name": "stdout",
     "output_type": "stream",
     "text": [
      "Epoch 126/200\n",
      "46/46 [==============================] - 0s 4ms/step - loss: 0.3302 - accuracy: 0.8715 - val_loss: 0.3183 - val_accuracy: 0.8872\n",
      "Epoch 127/200\n"
     ]
    },
    {
     "data": {
      "application/vnd.jupyter.widget-view+json": {
       "model_id": "283da67d7ec84662b77fbaaf8719760f",
       "version_major": 2,
       "version_minor": 0
      },
      "text/plain": [
       "0/46           ETA: ?s - "
      ]
     },
     "metadata": {},
     "output_type": "display_data"
    },
    {
     "name": "stdout",
     "output_type": "stream",
     "text": [
      "Epoch 127/200\n",
      "46/46 [==============================] - 0s 4ms/step - loss: 0.3249 - accuracy: 0.8675 - val_loss: 0.3204 - val_accuracy: 0.8810\n",
      "Epoch 128/200\n"
     ]
    },
    {
     "data": {
      "application/vnd.jupyter.widget-view+json": {
       "model_id": "18ce6dd2ec9c4ef4bacfdbcafc7c2f4e",
       "version_major": 2,
       "version_minor": 0
      },
      "text/plain": [
       "0/46           ETA: ?s - "
      ]
     },
     "metadata": {},
     "output_type": "display_data"
    },
    {
     "name": "stdout",
     "output_type": "stream",
     "text": [
      "Epoch 128/200\n",
      "46/46 [==============================] - 0s 4ms/step - loss: 0.3273 - accuracy: 0.8711 - val_loss: 0.3330 - val_accuracy: 0.8674\n",
      "Epoch 129/200\n"
     ]
    },
    {
     "data": {
      "application/vnd.jupyter.widget-view+json": {
       "model_id": "1000fa381caa4c4db3de5948fb0db795",
       "version_major": 2,
       "version_minor": 0
      },
      "text/plain": [
       "0/46           ETA: ?s - "
      ]
     },
     "metadata": {},
     "output_type": "display_data"
    },
    {
     "name": "stdout",
     "output_type": "stream",
     "text": [
      "Epoch 129/200\n",
      "46/46 [==============================] - 0s 4ms/step - loss: 0.3289 - accuracy: 0.8660 - val_loss: 0.3288 - val_accuracy: 0.8770\n",
      "Epoch 130/200\n"
     ]
    },
    {
     "data": {
      "application/vnd.jupyter.widget-view+json": {
       "model_id": "53e6a236ad5d480e90ef60af824df373",
       "version_major": 2,
       "version_minor": 0
      },
      "text/plain": [
       "0/46           ETA: ?s - "
      ]
     },
     "metadata": {},
     "output_type": "display_data"
    },
    {
     "name": "stdout",
     "output_type": "stream",
     "text": [
      "Epoch 130/200\n",
      "46/46 [==============================] - 0s 4ms/step - loss: 0.3311 - accuracy: 0.8715 - val_loss: 0.3078 - val_accuracy: 0.8770\n",
      "Epoch 131/200\n"
     ]
    },
    {
     "data": {
      "application/vnd.jupyter.widget-view+json": {
       "model_id": "c9b64b6080b44f5a8c34d5a86e61d52b",
       "version_major": 2,
       "version_minor": 0
      },
      "text/plain": [
       "0/46           ETA: ?s - "
      ]
     },
     "metadata": {},
     "output_type": "display_data"
    },
    {
     "name": "stdout",
     "output_type": "stream",
     "text": [
      "Epoch 131/200\n",
      "46/46 [==============================] - 0s 4ms/step - loss: 0.3198 - accuracy: 0.8754 - val_loss: 0.3300 - val_accuracy: 0.8844\n",
      "Epoch 132/200\n"
     ]
    },
    {
     "data": {
      "application/vnd.jupyter.widget-view+json": {
       "model_id": "df4e0dcc7af14ab9bd5faf080ac9facc",
       "version_major": 2,
       "version_minor": 0
      },
      "text/plain": [
       "0/46           ETA: ?s - "
      ]
     },
     "metadata": {},
     "output_type": "display_data"
    },
    {
     "name": "stdout",
     "output_type": "stream",
     "text": [
      "Epoch 132/200\n",
      "46/46 [==============================] - 0s 4ms/step - loss: 0.3232 - accuracy: 0.8650 - val_loss: 0.3094 - val_accuracy: 0.8872\n",
      "Epoch 133/200\n"
     ]
    },
    {
     "data": {
      "application/vnd.jupyter.widget-view+json": {
       "model_id": "1393fcb70d7140efa61d7509065449f8",
       "version_major": 2,
       "version_minor": 0
      },
      "text/plain": [
       "0/46           ETA: ?s - "
      ]
     },
     "metadata": {},
     "output_type": "display_data"
    },
    {
     "name": "stdout",
     "output_type": "stream",
     "text": [
      "Epoch 133/200\n",
      "46/46 [==============================] - 0s 4ms/step - loss: 0.3236 - accuracy: 0.8749 - val_loss: 0.3111 - val_accuracy: 0.8797\n",
      "Epoch 134/200\n"
     ]
    },
    {
     "data": {
      "application/vnd.jupyter.widget-view+json": {
       "model_id": "6355fd991d2d480884f0de3c2aa8922e",
       "version_major": 2,
       "version_minor": 0
      },
      "text/plain": [
       "0/46           ETA: ?s - "
      ]
     },
     "metadata": {},
     "output_type": "display_data"
    },
    {
     "name": "stdout",
     "output_type": "stream",
     "text": [
      "Epoch 134/200\n",
      "46/46 [==============================] - 0s 4ms/step - loss: 0.3255 - accuracy: 0.8703 - val_loss: 0.3110 - val_accuracy: 0.8770\n",
      "Epoch 135/200\n"
     ]
    },
    {
     "data": {
      "application/vnd.jupyter.widget-view+json": {
       "model_id": "1163afca4d1240fba82a50df9245c922",
       "version_major": 2,
       "version_minor": 0
      },
      "text/plain": [
       "0/46           ETA: ?s - "
      ]
     },
     "metadata": {},
     "output_type": "display_data"
    },
    {
     "name": "stdout",
     "output_type": "stream",
     "text": [
      "Epoch 135/200\n",
      "46/46 [==============================] - 0s 4ms/step - loss: 0.3185 - accuracy: 0.8777 - val_loss: 0.3207 - val_accuracy: 0.8899\n",
      "Epoch 136/200\n"
     ]
    },
    {
     "data": {
      "application/vnd.jupyter.widget-view+json": {
       "model_id": "0e92b3b6a15c4a708c0da003c6416ec5",
       "version_major": 2,
       "version_minor": 0
      },
      "text/plain": [
       "0/46           ETA: ?s - "
      ]
     },
     "metadata": {},
     "output_type": "display_data"
    },
    {
     "name": "stdout",
     "output_type": "stream",
     "text": [
      "Epoch 136/200\n",
      "46/46 [==============================] - 0s 4ms/step - loss: 0.3238 - accuracy: 0.8711 - val_loss: 0.3138 - val_accuracy: 0.8906\n",
      "Epoch 137/200\n"
     ]
    },
    {
     "data": {
      "application/vnd.jupyter.widget-view+json": {
       "model_id": "504b8cfb4fd24091bb968fbcfa63ffb8",
       "version_major": 2,
       "version_minor": 0
      },
      "text/plain": [
       "0/46           ETA: ?s - "
      ]
     },
     "metadata": {},
     "output_type": "display_data"
    },
    {
     "name": "stdout",
     "output_type": "stream",
     "text": [
      "Epoch 137/200\n",
      "46/46 [==============================] - 0s 4ms/step - loss: 0.3196 - accuracy: 0.8738 - val_loss: 0.3209 - val_accuracy: 0.8899\n",
      "Epoch 138/200\n"
     ]
    },
    {
     "data": {
      "application/vnd.jupyter.widget-view+json": {
       "model_id": "7860c5a8717947468f369c50269f1fa3",
       "version_major": 2,
       "version_minor": 0
      },
      "text/plain": [
       "0/46           ETA: ?s - "
      ]
     },
     "metadata": {},
     "output_type": "display_data"
    },
    {
     "name": "stdout",
     "output_type": "stream",
     "text": [
      "Epoch 138/200\n",
      "46/46 [==============================] - 0s 4ms/step - loss: 0.3229 - accuracy: 0.8721 - val_loss: 0.3041 - val_accuracy: 0.8926\n",
      "Epoch 139/200\n"
     ]
    },
    {
     "data": {
      "application/vnd.jupyter.widget-view+json": {
       "model_id": "4d00666695e24ab19a40bc8784d0ff17",
       "version_major": 2,
       "version_minor": 0
      },
      "text/plain": [
       "0/46           ETA: ?s - "
      ]
     },
     "metadata": {},
     "output_type": "display_data"
    },
    {
     "name": "stdout",
     "output_type": "stream",
     "text": [
      "Epoch 139/200\n",
      "46/46 [==============================] - 0s 4ms/step - loss: 0.3276 - accuracy: 0.8670 - val_loss: 0.3175 - val_accuracy: 0.8939\n",
      "Epoch 140/200\n"
     ]
    },
    {
     "data": {
      "application/vnd.jupyter.widget-view+json": {
       "model_id": "8b58a9bf35c944c2a2cae67071e9608b",
       "version_major": 2,
       "version_minor": 0
      },
      "text/plain": [
       "0/46           ETA: ?s - "
      ]
     },
     "metadata": {},
     "output_type": "display_data"
    },
    {
     "name": "stdout",
     "output_type": "stream",
     "text": [
      "Epoch 140/200\n",
      "46/46 [==============================] - 0s 4ms/step - loss: 0.3170 - accuracy: 0.8737 - val_loss: 0.3159 - val_accuracy: 0.8756\n",
      "Epoch 141/200\n"
     ]
    },
    {
     "data": {
      "application/vnd.jupyter.widget-view+json": {
       "model_id": "a77ada27518249fea74c39377a266835",
       "version_major": 2,
       "version_minor": 0
      },
      "text/plain": [
       "0/46           ETA: ?s - "
      ]
     },
     "metadata": {},
     "output_type": "display_data"
    },
    {
     "name": "stdout",
     "output_type": "stream",
     "text": [
      "Epoch 141/200\n",
      "46/46 [==============================] - 0s 4ms/step - loss: 0.3158 - accuracy: 0.8755 - val_loss: 0.3095 - val_accuracy: 0.8939\n",
      "Epoch 142/200\n"
     ]
    },
    {
     "data": {
      "application/vnd.jupyter.widget-view+json": {
       "model_id": "84a9d65a3abc462b97b6ec1ba7a21c3d",
       "version_major": 2,
       "version_minor": 0
      },
      "text/plain": [
       "0/46           ETA: ?s - "
      ]
     },
     "metadata": {},
     "output_type": "display_data"
    },
    {
     "name": "stdout",
     "output_type": "stream",
     "text": [
      "Epoch 142/200\n",
      "46/46 [==============================] - 0s 5ms/step - loss: 0.3146 - accuracy: 0.8764 - val_loss: 0.3142 - val_accuracy: 0.8810\n",
      "Epoch 143/200\n"
     ]
    },
    {
     "data": {
      "application/vnd.jupyter.widget-view+json": {
       "model_id": "90003d6202244d6baf078ba3152a7043",
       "version_major": 2,
       "version_minor": 0
      },
      "text/plain": [
       "0/46           ETA: ?s - "
      ]
     },
     "metadata": {},
     "output_type": "display_data"
    },
    {
     "name": "stdout",
     "output_type": "stream",
     "text": [
      "Epoch 143/200\n",
      "46/46 [==============================] - 0s 4ms/step - loss: 0.3233 - accuracy: 0.8670 - val_loss: 0.3154 - val_accuracy: 0.8797\n",
      "Epoch 144/200\n"
     ]
    },
    {
     "data": {
      "application/vnd.jupyter.widget-view+json": {
       "model_id": "166ed94d60c4485bb2670609c9d9fb07",
       "version_major": 2,
       "version_minor": 0
      },
      "text/plain": [
       "0/46           ETA: ?s - "
      ]
     },
     "metadata": {},
     "output_type": "display_data"
    },
    {
     "name": "stdout",
     "output_type": "stream",
     "text": [
      "Epoch 144/200\n",
      "46/46 [==============================] - 0s 4ms/step - loss: 0.3185 - accuracy: 0.8691 - val_loss: 0.3114 - val_accuracy: 0.8885\n",
      "Epoch 145/200\n"
     ]
    },
    {
     "data": {
      "application/vnd.jupyter.widget-view+json": {
       "model_id": "a12882789304476f9cae49f44a4bdaaf",
       "version_major": 2,
       "version_minor": 0
      },
      "text/plain": [
       "0/46           ETA: ?s - "
      ]
     },
     "metadata": {},
     "output_type": "display_data"
    },
    {
     "name": "stdout",
     "output_type": "stream",
     "text": [
      "Epoch 145/200\n",
      "46/46 [==============================] - 0s 4ms/step - loss: 0.3171 - accuracy: 0.8757 - val_loss: 0.3215 - val_accuracy: 0.8702\n",
      "Epoch 146/200\n"
     ]
    },
    {
     "data": {
      "application/vnd.jupyter.widget-view+json": {
       "model_id": "986335d36ce045b382494eac1a5fc76a",
       "version_major": 2,
       "version_minor": 0
      },
      "text/plain": [
       "0/46           ETA: ?s - "
      ]
     },
     "metadata": {},
     "output_type": "display_data"
    },
    {
     "name": "stdout",
     "output_type": "stream",
     "text": [
      "Epoch 146/200\n",
      "46/46 [==============================] - 0s 4ms/step - loss: 0.3258 - accuracy: 0.8624 - val_loss: 0.3258 - val_accuracy: 0.8776\n",
      "Epoch 147/200\n"
     ]
    },
    {
     "data": {
      "application/vnd.jupyter.widget-view+json": {
       "model_id": "5f2d1dca221040f898c0aca1086d73df",
       "version_major": 2,
       "version_minor": 0
      },
      "text/plain": [
       "0/46           ETA: ?s - "
      ]
     },
     "metadata": {},
     "output_type": "display_data"
    },
    {
     "name": "stdout",
     "output_type": "stream",
     "text": [
      "Epoch 147/200\n",
      "46/46 [==============================] - 0s 4ms/step - loss: 0.3329 - accuracy: 0.8657 - val_loss: 0.3078 - val_accuracy: 0.8790\n",
      "Epoch 148/200\n"
     ]
    },
    {
     "data": {
      "application/vnd.jupyter.widget-view+json": {
       "model_id": "566f39b3a7b74f6d89279ba3ec68ae6a",
       "version_major": 2,
       "version_minor": 0
      },
      "text/plain": [
       "0/46           ETA: ?s - "
      ]
     },
     "metadata": {},
     "output_type": "display_data"
    },
    {
     "name": "stdout",
     "output_type": "stream",
     "text": [
      "Epoch 148/200\n",
      "46/46 [==============================] - 0s 4ms/step - loss: 0.3224 - accuracy: 0.8766 - val_loss: 0.3100 - val_accuracy: 0.8858\n",
      "Epoch 149/200\n"
     ]
    },
    {
     "data": {
      "application/vnd.jupyter.widget-view+json": {
       "model_id": "284276896bb248caba4de0791b883866",
       "version_major": 2,
       "version_minor": 0
      },
      "text/plain": [
       "0/46           ETA: ?s - "
      ]
     },
     "metadata": {},
     "output_type": "display_data"
    },
    {
     "name": "stdout",
     "output_type": "stream",
     "text": [
      "Epoch 149/200\n",
      "46/46 [==============================] - 0s 4ms/step - loss: 0.3211 - accuracy: 0.8648 - val_loss: 0.3142 - val_accuracy: 0.8865\n",
      "Epoch 150/200\n"
     ]
    },
    {
     "data": {
      "application/vnd.jupyter.widget-view+json": {
       "model_id": "81382fc38efb451b82d46678c91d91e6",
       "version_major": 2,
       "version_minor": 0
      },
      "text/plain": [
       "0/46           ETA: ?s - "
      ]
     },
     "metadata": {},
     "output_type": "display_data"
    },
    {
     "name": "stdout",
     "output_type": "stream",
     "text": [
      "Epoch 150/200\n",
      "46/46 [==============================] - 0s 4ms/step - loss: 0.3184 - accuracy: 0.8781 - val_loss: 0.3305 - val_accuracy: 0.8708\n",
      "Epoch 151/200\n"
     ]
    },
    {
     "data": {
      "application/vnd.jupyter.widget-view+json": {
       "model_id": "ed382cb5bdfa4a43af614e576b99e813",
       "version_major": 2,
       "version_minor": 0
      },
      "text/plain": [
       "0/46           ETA: ?s - "
      ]
     },
     "metadata": {},
     "output_type": "display_data"
    },
    {
     "name": "stdout",
     "output_type": "stream",
     "text": [
      "Epoch 151/200\n",
      "46/46 [==============================] - 0s 4ms/step - loss: 0.3233 - accuracy: 0.8701 - val_loss: 0.3118 - val_accuracy: 0.8763\n",
      "Epoch 152/200\n"
     ]
    },
    {
     "data": {
      "application/vnd.jupyter.widget-view+json": {
       "model_id": "4e4bce7eccca4d2797f614b2d2b9614c",
       "version_major": 2,
       "version_minor": 0
      },
      "text/plain": [
       "0/46           ETA: ?s - "
      ]
     },
     "metadata": {},
     "output_type": "display_data"
    },
    {
     "name": "stdout",
     "output_type": "stream",
     "text": [
      "Epoch 152/200\n",
      "46/46 [==============================] - 0s 4ms/step - loss: 0.3154 - accuracy: 0.8721 - val_loss: 0.3324 - val_accuracy: 0.8776\n",
      "Epoch 153/200\n"
     ]
    },
    {
     "data": {
      "application/vnd.jupyter.widget-view+json": {
       "model_id": "e1f288bf99344a9eac4e88aa28fa80dc",
       "version_major": 2,
       "version_minor": 0
      },
      "text/plain": [
       "0/46           ETA: ?s - "
      ]
     },
     "metadata": {},
     "output_type": "display_data"
    },
    {
     "name": "stdout",
     "output_type": "stream",
     "text": [
      "Epoch 153/200\n",
      "46/46 [==============================] - 0s 4ms/step - loss: 0.3158 - accuracy: 0.8706 - val_loss: 0.3013 - val_accuracy: 0.8872\n",
      "Epoch 154/200\n"
     ]
    },
    {
     "data": {
      "application/vnd.jupyter.widget-view+json": {
       "model_id": "8c6fe59223e8414aa36f6d0fafdac152",
       "version_major": 2,
       "version_minor": 0
      },
      "text/plain": [
       "0/46           ETA: ?s - "
      ]
     },
     "metadata": {},
     "output_type": "display_data"
    },
    {
     "name": "stdout",
     "output_type": "stream",
     "text": [
      "Epoch 154/200\n",
      "46/46 [==============================] - 0s 4ms/step - loss: 0.3074 - accuracy: 0.8788 - val_loss: 0.3009 - val_accuracy: 0.8844\n",
      "Epoch 155/200\n"
     ]
    },
    {
     "data": {
      "application/vnd.jupyter.widget-view+json": {
       "model_id": "debbdfeb56364d08b1a72bd52a9fc9c7",
       "version_major": 2,
       "version_minor": 0
      },
      "text/plain": [
       "0/46           ETA: ?s - "
      ]
     },
     "metadata": {},
     "output_type": "display_data"
    },
    {
     "name": "stdout",
     "output_type": "stream",
     "text": [
      "Epoch 155/200\n",
      "46/46 [==============================] - 0s 4ms/step - loss: 0.3163 - accuracy: 0.8718 - val_loss: 0.3036 - val_accuracy: 0.8804\n",
      "Epoch 156/200\n"
     ]
    },
    {
     "data": {
      "application/vnd.jupyter.widget-view+json": {
       "model_id": "2b1de744382942d98e93e73b349684dc",
       "version_major": 2,
       "version_minor": 0
      },
      "text/plain": [
       "0/46           ETA: ?s - "
      ]
     },
     "metadata": {},
     "output_type": "display_data"
    },
    {
     "name": "stdout",
     "output_type": "stream",
     "text": [
      "Epoch 156/200\n",
      "46/46 [==============================] - 0s 4ms/step - loss: 0.3205 - accuracy: 0.8698 - val_loss: 0.3169 - val_accuracy: 0.8858\n",
      "Epoch 157/200\n"
     ]
    },
    {
     "data": {
      "application/vnd.jupyter.widget-view+json": {
       "model_id": "227a6a9f6abc4079814d935d877ed1d2",
       "version_major": 2,
       "version_minor": 0
      },
      "text/plain": [
       "0/46           ETA: ?s - "
      ]
     },
     "metadata": {},
     "output_type": "display_data"
    },
    {
     "name": "stdout",
     "output_type": "stream",
     "text": [
      "Epoch 157/200\n",
      "46/46 [==============================] - 0s 4ms/step - loss: 0.3212 - accuracy: 0.8677 - val_loss: 0.3071 - val_accuracy: 0.8892\n",
      "Epoch 158/200\n"
     ]
    },
    {
     "data": {
      "application/vnd.jupyter.widget-view+json": {
       "model_id": "785b90c74eea4312894e2ba2629324de",
       "version_major": 2,
       "version_minor": 0
      },
      "text/plain": [
       "0/46           ETA: ?s - "
      ]
     },
     "metadata": {},
     "output_type": "display_data"
    },
    {
     "name": "stdout",
     "output_type": "stream",
     "text": [
      "Epoch 158/200\n",
      "46/46 [==============================] - 0s 4ms/step - loss: 0.3124 - accuracy: 0.8757 - val_loss: 0.3286 - val_accuracy: 0.8559\n",
      "Epoch 159/200\n"
     ]
    },
    {
     "data": {
      "application/vnd.jupyter.widget-view+json": {
       "model_id": "52c6d7f622904811bebccd0221203e94",
       "version_major": 2,
       "version_minor": 0
      },
      "text/plain": [
       "0/46           ETA: ?s - "
      ]
     },
     "metadata": {},
     "output_type": "display_data"
    },
    {
     "name": "stdout",
     "output_type": "stream",
     "text": [
      "Epoch 159/200\n",
      "46/46 [==============================] - 0s 4ms/step - loss: 0.3155 - accuracy: 0.8716 - val_loss: 0.3033 - val_accuracy: 0.8919\n",
      "Epoch 160/200\n"
     ]
    },
    {
     "data": {
      "application/vnd.jupyter.widget-view+json": {
       "model_id": "e176ec38769f4f91924fcdf4cb0c880d",
       "version_major": 2,
       "version_minor": 0
      },
      "text/plain": [
       "0/46           ETA: ?s - "
      ]
     },
     "metadata": {},
     "output_type": "display_data"
    },
    {
     "name": "stdout",
     "output_type": "stream",
     "text": [
      "Epoch 160/200\n",
      "46/46 [==============================] - 0s 4ms/step - loss: 0.3116 - accuracy: 0.8740 - val_loss: 0.3078 - val_accuracy: 0.8851\n",
      "Epoch 161/200\n"
     ]
    },
    {
     "data": {
      "application/vnd.jupyter.widget-view+json": {
       "model_id": "96a3a54c235c4b1f96bded394510f048",
       "version_major": 2,
       "version_minor": 0
      },
      "text/plain": [
       "0/46           ETA: ?s - "
      ]
     },
     "metadata": {},
     "output_type": "display_data"
    },
    {
     "name": "stdout",
     "output_type": "stream",
     "text": [
      "Epoch 161/200\n",
      "46/46 [==============================] - 0s 4ms/step - loss: 0.3118 - accuracy: 0.8754 - val_loss: 0.3009 - val_accuracy: 0.8858\n",
      "Epoch 162/200\n"
     ]
    },
    {
     "data": {
      "application/vnd.jupyter.widget-view+json": {
       "model_id": "960043a2cd01472c82e706a7ab3253d4",
       "version_major": 2,
       "version_minor": 0
      },
      "text/plain": [
       "0/46           ETA: ?s - "
      ]
     },
     "metadata": {},
     "output_type": "display_data"
    },
    {
     "name": "stdout",
     "output_type": "stream",
     "text": [
      "Epoch 162/200\n",
      "46/46 [==============================] - 0s 4ms/step - loss: 0.3077 - accuracy: 0.8769 - val_loss: 0.2960 - val_accuracy: 0.8926\n",
      "Epoch 163/200\n"
     ]
    },
    {
     "data": {
      "application/vnd.jupyter.widget-view+json": {
       "model_id": "8325f29733c34d8fb3d42c1c9be58adc",
       "version_major": 2,
       "version_minor": 0
      },
      "text/plain": [
       "0/46           ETA: ?s - "
      ]
     },
     "metadata": {},
     "output_type": "display_data"
    },
    {
     "name": "stdout",
     "output_type": "stream",
     "text": [
      "Epoch 163/200\n",
      "46/46 [==============================] - 0s 4ms/step - loss: 0.3123 - accuracy: 0.8740 - val_loss: 0.3037 - val_accuracy: 0.8892\n",
      "Epoch 164/200\n"
     ]
    },
    {
     "data": {
      "application/vnd.jupyter.widget-view+json": {
       "model_id": "9cd0e96cd9c24654bdfa0474d67c42c8",
       "version_major": 2,
       "version_minor": 0
      },
      "text/plain": [
       "0/46           ETA: ?s - "
      ]
     },
     "metadata": {},
     "output_type": "display_data"
    },
    {
     "name": "stdout",
     "output_type": "stream",
     "text": [
      "Epoch 164/200\n",
      "46/46 [==============================] - 0s 4ms/step - loss: 0.3088 - accuracy: 0.8742 - val_loss: 0.2953 - val_accuracy: 0.8810\n",
      "Epoch 165/200\n"
     ]
    },
    {
     "data": {
      "application/vnd.jupyter.widget-view+json": {
       "model_id": "eeae88a1e42e486e9744cb8b8e1ebd3d",
       "version_major": 2,
       "version_minor": 0
      },
      "text/plain": [
       "0/46           ETA: ?s - "
      ]
     },
     "metadata": {},
     "output_type": "display_data"
    },
    {
     "name": "stdout",
     "output_type": "stream",
     "text": [
      "Epoch 165/200\n",
      "46/46 [==============================] - 0s 4ms/step - loss: 0.3288 - accuracy: 0.8657 - val_loss: 0.2956 - val_accuracy: 0.8865\n",
      "Epoch 166/200\n"
     ]
    },
    {
     "data": {
      "application/vnd.jupyter.widget-view+json": {
       "model_id": "7dc6bd0f50b84860824c2108b2bb10b5",
       "version_major": 2,
       "version_minor": 0
      },
      "text/plain": [
       "0/46           ETA: ?s - "
      ]
     },
     "metadata": {},
     "output_type": "display_data"
    },
    {
     "name": "stdout",
     "output_type": "stream",
     "text": [
      "Epoch 166/200\n",
      "46/46 [==============================] - 0s 4ms/step - loss: 0.3166 - accuracy: 0.8766 - val_loss: 0.3051 - val_accuracy: 0.8831\n",
      "Epoch 167/200\n"
     ]
    },
    {
     "data": {
      "application/vnd.jupyter.widget-view+json": {
       "model_id": "fa83952678a443cf8a89172cc3679b1e",
       "version_major": 2,
       "version_minor": 0
      },
      "text/plain": [
       "0/46           ETA: ?s - "
      ]
     },
     "metadata": {},
     "output_type": "display_data"
    },
    {
     "name": "stdout",
     "output_type": "stream",
     "text": [
      "Epoch 167/200\n",
      "46/46 [==============================] - 0s 4ms/step - loss: 0.3128 - accuracy: 0.8774 - val_loss: 0.3029 - val_accuracy: 0.8647\n",
      "Epoch 168/200\n"
     ]
    },
    {
     "data": {
      "application/vnd.jupyter.widget-view+json": {
       "model_id": "c9e0caef727741f193b3d5fbfc58f1f7",
       "version_major": 2,
       "version_minor": 0
      },
      "text/plain": [
       "0/46           ETA: ?s - "
      ]
     },
     "metadata": {},
     "output_type": "display_data"
    },
    {
     "name": "stdout",
     "output_type": "stream",
     "text": [
      "Epoch 168/200\n",
      "46/46 [==============================] - 0s 4ms/step - loss: 0.3073 - accuracy: 0.8771 - val_loss: 0.2996 - val_accuracy: 0.8885\n",
      "Epoch 169/200\n"
     ]
    },
    {
     "data": {
      "application/vnd.jupyter.widget-view+json": {
       "model_id": "96a225d6e2fc4f56839c835ba4d30159",
       "version_major": 2,
       "version_minor": 0
      },
      "text/plain": [
       "0/46           ETA: ?s - "
      ]
     },
     "metadata": {},
     "output_type": "display_data"
    },
    {
     "name": "stdout",
     "output_type": "stream",
     "text": [
      "Epoch 169/200\n",
      "46/46 [==============================] - 0s 4ms/step - loss: 0.3191 - accuracy: 0.8662 - val_loss: 0.3165 - val_accuracy: 0.8906\n",
      "Epoch 170/200\n"
     ]
    },
    {
     "data": {
      "application/vnd.jupyter.widget-view+json": {
       "model_id": "05eb9b955aa84c0c97b1dfbb0520dddf",
       "version_major": 2,
       "version_minor": 0
      },
      "text/plain": [
       "0/46           ETA: ?s - "
      ]
     },
     "metadata": {},
     "output_type": "display_data"
    },
    {
     "name": "stdout",
     "output_type": "stream",
     "text": [
      "Epoch 170/200\n",
      "46/46 [==============================] - 0s 4ms/step - loss: 0.3149 - accuracy: 0.8638 - val_loss: 0.2986 - val_accuracy: 0.8878\n",
      "Epoch 171/200\n"
     ]
    },
    {
     "data": {
      "application/vnd.jupyter.widget-view+json": {
       "model_id": "659acfe6f61b4ac5be2adec3b0e3728a",
       "version_major": 2,
       "version_minor": 0
      },
      "text/plain": [
       "0/46           ETA: ?s - "
      ]
     },
     "metadata": {},
     "output_type": "display_data"
    },
    {
     "name": "stdout",
     "output_type": "stream",
     "text": [
      "Epoch 171/200\n",
      "46/46 [==============================] - 0s 4ms/step - loss: 0.3155 - accuracy: 0.8706 - val_loss: 0.2921 - val_accuracy: 0.8899\n",
      "Epoch 172/200\n"
     ]
    },
    {
     "data": {
      "application/vnd.jupyter.widget-view+json": {
       "model_id": "6a3d9877171a471d8af5f388c6e429dc",
       "version_major": 2,
       "version_minor": 0
      },
      "text/plain": [
       "0/46           ETA: ?s - "
      ]
     },
     "metadata": {},
     "output_type": "display_data"
    },
    {
     "name": "stdout",
     "output_type": "stream",
     "text": [
      "Epoch 172/200\n",
      "46/46 [==============================] - 0s 4ms/step - loss: 0.3101 - accuracy: 0.8752 - val_loss: 0.3118 - val_accuracy: 0.8824\n",
      "Epoch 173/200\n"
     ]
    },
    {
     "data": {
      "application/vnd.jupyter.widget-view+json": {
       "model_id": "6db4e97a5a434c3bacdd818733ed429e",
       "version_major": 2,
       "version_minor": 0
      },
      "text/plain": [
       "0/46           ETA: ?s - "
      ]
     },
     "metadata": {},
     "output_type": "display_data"
    },
    {
     "name": "stdout",
     "output_type": "stream",
     "text": [
      "Epoch 173/200\n",
      "46/46 [==============================] - 0s 4ms/step - loss: 0.3039 - accuracy: 0.8817 - val_loss: 0.3167 - val_accuracy: 0.8742\n",
      "Epoch 174/200\n"
     ]
    },
    {
     "data": {
      "application/vnd.jupyter.widget-view+json": {
       "model_id": "4a509bb093614b61b20c5b9f2d969fd6",
       "version_major": 2,
       "version_minor": 0
      },
      "text/plain": [
       "0/46           ETA: ?s - "
      ]
     },
     "metadata": {},
     "output_type": "display_data"
    },
    {
     "name": "stdout",
     "output_type": "stream",
     "text": [
      "Epoch 174/200\n",
      "46/46 [==============================] - 0s 4ms/step - loss: 0.3073 - accuracy: 0.8789 - val_loss: 0.3042 - val_accuracy: 0.8899\n",
      "Epoch 175/200\n"
     ]
    },
    {
     "data": {
      "application/vnd.jupyter.widget-view+json": {
       "model_id": "2d0e55e46cfb47a6bf51c9dc26bea611",
       "version_major": 2,
       "version_minor": 0
      },
      "text/plain": [
       "0/46           ETA: ?s - "
      ]
     },
     "metadata": {},
     "output_type": "display_data"
    },
    {
     "name": "stdout",
     "output_type": "stream",
     "text": [
      "Epoch 175/200\n",
      "46/46 [==============================] - 0s 4ms/step - loss: 0.3149 - accuracy: 0.8726 - val_loss: 0.3042 - val_accuracy: 0.8892\n",
      "Epoch 176/200\n"
     ]
    },
    {
     "data": {
      "application/vnd.jupyter.widget-view+json": {
       "model_id": "7bd9dfaf615b4a42b73ec4186912d5ca",
       "version_major": 2,
       "version_minor": 0
      },
      "text/plain": [
       "0/46           ETA: ?s - "
      ]
     },
     "metadata": {},
     "output_type": "display_data"
    },
    {
     "name": "stdout",
     "output_type": "stream",
     "text": [
      "Epoch 176/200\n",
      "46/46 [==============================] - 0s 4ms/step - loss: 0.3030 - accuracy: 0.8781 - val_loss: 0.3063 - val_accuracy: 0.8885\n",
      "Epoch 177/200\n"
     ]
    },
    {
     "data": {
      "application/vnd.jupyter.widget-view+json": {
       "model_id": "a0c5354e22304ac48a9082f5b6314a96",
       "version_major": 2,
       "version_minor": 0
      },
      "text/plain": [
       "0/46           ETA: ?s - "
      ]
     },
     "metadata": {},
     "output_type": "display_data"
    },
    {
     "name": "stdout",
     "output_type": "stream",
     "text": [
      "Epoch 177/200\n",
      "46/46 [==============================] - 0s 4ms/step - loss: 0.3076 - accuracy: 0.8738 - val_loss: 0.2984 - val_accuracy: 0.8838\n",
      "Epoch 178/200\n"
     ]
    },
    {
     "data": {
      "application/vnd.jupyter.widget-view+json": {
       "model_id": "0d010d11344c41989c8f0741052054fc",
       "version_major": 2,
       "version_minor": 0
      },
      "text/plain": [
       "0/46           ETA: ?s - "
      ]
     },
     "metadata": {},
     "output_type": "display_data"
    },
    {
     "name": "stdout",
     "output_type": "stream",
     "text": [
      "Epoch 178/200\n",
      "46/46 [==============================] - 0s 4ms/step - loss: 0.3086 - accuracy: 0.8794 - val_loss: 0.2955 - val_accuracy: 0.8851\n",
      "Epoch 179/200\n"
     ]
    },
    {
     "data": {
      "application/vnd.jupyter.widget-view+json": {
       "model_id": "6fc7631a33aa41d28bff173681c49043",
       "version_major": 2,
       "version_minor": 0
      },
      "text/plain": [
       "0/46           ETA: ?s - "
      ]
     },
     "metadata": {},
     "output_type": "display_data"
    },
    {
     "name": "stdout",
     "output_type": "stream",
     "text": [
      "Epoch 179/200\n",
      "46/46 [==============================] - 0s 4ms/step - loss: 0.3085 - accuracy: 0.8733 - val_loss: 0.2969 - val_accuracy: 0.8912\n",
      "Epoch 180/200\n"
     ]
    },
    {
     "data": {
      "application/vnd.jupyter.widget-view+json": {
       "model_id": "daf74ef7859544a889afc237b9ae2b69",
       "version_major": 2,
       "version_minor": 0
      },
      "text/plain": [
       "0/46           ETA: ?s - "
      ]
     },
     "metadata": {},
     "output_type": "display_data"
    },
    {
     "name": "stdout",
     "output_type": "stream",
     "text": [
      "Epoch 180/200\n",
      "46/46 [==============================] - 0s 4ms/step - loss: 0.3117 - accuracy: 0.8716 - val_loss: 0.3137 - val_accuracy: 0.8647\n",
      "Epoch 181/200\n"
     ]
    },
    {
     "data": {
      "application/vnd.jupyter.widget-view+json": {
       "model_id": "b889ff569368497c9d23329f3542fa72",
       "version_major": 2,
       "version_minor": 0
      },
      "text/plain": [
       "0/46           ETA: ?s - "
      ]
     },
     "metadata": {},
     "output_type": "display_data"
    },
    {
     "name": "stdout",
     "output_type": "stream",
     "text": [
      "Epoch 181/200\n",
      "46/46 [==============================] - 0s 4ms/step - loss: 0.3065 - accuracy: 0.8776 - val_loss: 0.2978 - val_accuracy: 0.8865\n",
      "Epoch 182/200\n"
     ]
    },
    {
     "data": {
      "application/vnd.jupyter.widget-view+json": {
       "model_id": "88b3e533e09e489eac16a34cb1bc6b62",
       "version_major": 2,
       "version_minor": 0
      },
      "text/plain": [
       "0/46           ETA: ?s - "
      ]
     },
     "metadata": {},
     "output_type": "display_data"
    },
    {
     "name": "stdout",
     "output_type": "stream",
     "text": [
      "Epoch 182/200\n",
      "46/46 [==============================] - 0s 4ms/step - loss: 0.2989 - accuracy: 0.8759 - val_loss: 0.2909 - val_accuracy: 0.8899\n",
      "Epoch 183/200\n"
     ]
    },
    {
     "data": {
      "application/vnd.jupyter.widget-view+json": {
       "model_id": "2434acb91eea426196f74dad28a4ec95",
       "version_major": 2,
       "version_minor": 0
      },
      "text/plain": [
       "0/46           ETA: ?s - "
      ]
     },
     "metadata": {},
     "output_type": "display_data"
    },
    {
     "name": "stdout",
     "output_type": "stream",
     "text": [
      "Epoch 183/200\n",
      "46/46 [==============================] - 0s 4ms/step - loss: 0.3137 - accuracy: 0.8674 - val_loss: 0.3225 - val_accuracy: 0.8797\n",
      "Epoch 184/200\n"
     ]
    },
    {
     "data": {
      "application/vnd.jupyter.widget-view+json": {
       "model_id": "0af426a149e847cda40c965a35a2c33e",
       "version_major": 2,
       "version_minor": 0
      },
      "text/plain": [
       "0/46           ETA: ?s - "
      ]
     },
     "metadata": {},
     "output_type": "display_data"
    },
    {
     "name": "stdout",
     "output_type": "stream",
     "text": [
      "Epoch 184/200\n",
      "46/46 [==============================] - 0s 4ms/step - loss: 0.3165 - accuracy: 0.8667 - val_loss: 0.3031 - val_accuracy: 0.8810\n",
      "Epoch 185/200\n"
     ]
    },
    {
     "data": {
      "application/vnd.jupyter.widget-view+json": {
       "model_id": "35862a5c1dc7411b994e3419780ff21d",
       "version_major": 2,
       "version_minor": 0
      },
      "text/plain": [
       "0/46           ETA: ?s - "
      ]
     },
     "metadata": {},
     "output_type": "display_data"
    },
    {
     "name": "stdout",
     "output_type": "stream",
     "text": [
      "Epoch 185/200\n",
      "46/46 [==============================] - 0s 4ms/step - loss: 0.3082 - accuracy: 0.8713 - val_loss: 0.2852 - val_accuracy: 0.8906\n",
      "Epoch 186/200\n"
     ]
    },
    {
     "data": {
      "application/vnd.jupyter.widget-view+json": {
       "model_id": "5b0baba70aee4d8f894afd2716c0dcd5",
       "version_major": 2,
       "version_minor": 0
      },
      "text/plain": [
       "0/46           ETA: ?s - "
      ]
     },
     "metadata": {},
     "output_type": "display_data"
    },
    {
     "name": "stdout",
     "output_type": "stream",
     "text": [
      "Epoch 186/200\n",
      "46/46 [==============================] - 0s 4ms/step - loss: 0.2988 - accuracy: 0.8815 - val_loss: 0.2879 - val_accuracy: 0.8858\n",
      "Epoch 187/200\n"
     ]
    },
    {
     "data": {
      "application/vnd.jupyter.widget-view+json": {
       "model_id": "83d447645524428eaadab3991944a8d7",
       "version_major": 2,
       "version_minor": 0
      },
      "text/plain": [
       "0/46           ETA: ?s - "
      ]
     },
     "metadata": {},
     "output_type": "display_data"
    },
    {
     "name": "stdout",
     "output_type": "stream",
     "text": [
      "Epoch 187/200\n",
      "46/46 [==============================] - 0s 4ms/step - loss: 0.2977 - accuracy: 0.8810 - val_loss: 0.3094 - val_accuracy: 0.8668\n",
      "Epoch 188/200\n"
     ]
    },
    {
     "data": {
      "application/vnd.jupyter.widget-view+json": {
       "model_id": "ad6f40406cae4972801ba309ed766377",
       "version_major": 2,
       "version_minor": 0
      },
      "text/plain": [
       "0/46           ETA: ?s - "
      ]
     },
     "metadata": {},
     "output_type": "display_data"
    },
    {
     "name": "stdout",
     "output_type": "stream",
     "text": [
      "Epoch 188/200\n",
      "46/46 [==============================] - 0s 4ms/step - loss: 0.3143 - accuracy: 0.8738 - val_loss: 0.2992 - val_accuracy: 0.8899\n",
      "Epoch 189/200\n"
     ]
    },
    {
     "data": {
      "application/vnd.jupyter.widget-view+json": {
       "model_id": "405b679b17684b249cd12116aaed0c7c",
       "version_major": 2,
       "version_minor": 0
      },
      "text/plain": [
       "0/46           ETA: ?s - "
      ]
     },
     "metadata": {},
     "output_type": "display_data"
    },
    {
     "name": "stdout",
     "output_type": "stream",
     "text": [
      "Epoch 189/200\n",
      "46/46 [==============================] - 0s 5ms/step - loss: 0.3040 - accuracy: 0.8793 - val_loss: 0.2983 - val_accuracy: 0.8926\n",
      "Epoch 190/200\n"
     ]
    },
    {
     "data": {
      "application/vnd.jupyter.widget-view+json": {
       "model_id": "c19f7069cf1d4c30897120b38813fa32",
       "version_major": 2,
       "version_minor": 0
      },
      "text/plain": [
       "0/46           ETA: ?s - "
      ]
     },
     "metadata": {},
     "output_type": "display_data"
    },
    {
     "name": "stdout",
     "output_type": "stream",
     "text": [
      "Epoch 190/200\n",
      "46/46 [==============================] - 0s 4ms/step - loss: 0.3167 - accuracy: 0.8709 - val_loss: 0.2970 - val_accuracy: 0.8892\n",
      "Epoch 191/200\n"
     ]
    },
    {
     "data": {
      "application/vnd.jupyter.widget-view+json": {
       "model_id": "165e54a6cdbb43e59382be2ff5173a6c",
       "version_major": 2,
       "version_minor": 0
      },
      "text/plain": [
       "0/46           ETA: ?s - "
      ]
     },
     "metadata": {},
     "output_type": "display_data"
    },
    {
     "name": "stdout",
     "output_type": "stream",
     "text": [
      "Epoch 191/200\n",
      "46/46 [==============================] - 0s 4ms/step - loss: 0.3117 - accuracy: 0.8740 - val_loss: 0.3077 - val_accuracy: 0.8851\n",
      "Epoch 192/200\n"
     ]
    },
    {
     "data": {
      "application/vnd.jupyter.widget-view+json": {
       "model_id": "83ac5d0d95184bd7b7a9094093c1b229",
       "version_major": 2,
       "version_minor": 0
      },
      "text/plain": [
       "0/46           ETA: ?s - "
      ]
     },
     "metadata": {},
     "output_type": "display_data"
    },
    {
     "name": "stdout",
     "output_type": "stream",
     "text": [
      "Epoch 192/200\n",
      "46/46 [==============================] - 0s 4ms/step - loss: 0.3113 - accuracy: 0.8738 - val_loss: 0.2922 - val_accuracy: 0.8946\n",
      "Epoch 193/200\n"
     ]
    },
    {
     "data": {
      "application/vnd.jupyter.widget-view+json": {
       "model_id": "997373c3740b474187844734e0f6f284",
       "version_major": 2,
       "version_minor": 0
      },
      "text/plain": [
       "0/46           ETA: ?s - "
      ]
     },
     "metadata": {},
     "output_type": "display_data"
    },
    {
     "name": "stdout",
     "output_type": "stream",
     "text": [
      "Epoch 193/200\n",
      "46/46 [==============================] - 0s 4ms/step - loss: 0.3065 - accuracy: 0.8772 - val_loss: 0.3041 - val_accuracy: 0.8912\n",
      "Epoch 194/200\n"
     ]
    },
    {
     "data": {
      "application/vnd.jupyter.widget-view+json": {
       "model_id": "a6b617a987ff4d76bb37ff8e51496792",
       "version_major": 2,
       "version_minor": 0
      },
      "text/plain": [
       "0/46           ETA: ?s - "
      ]
     },
     "metadata": {},
     "output_type": "display_data"
    },
    {
     "name": "stdout",
     "output_type": "stream",
     "text": [
      "Epoch 194/200\n",
      "46/46 [==============================] - 0s 4ms/step - loss: 0.3028 - accuracy: 0.8794 - val_loss: 0.2887 - val_accuracy: 0.8960\n",
      "Epoch 195/200\n"
     ]
    },
    {
     "data": {
      "application/vnd.jupyter.widget-view+json": {
       "model_id": "167cfdd7af724b7d9cffb890b805f9a0",
       "version_major": 2,
       "version_minor": 0
      },
      "text/plain": [
       "0/46           ETA: ?s - "
      ]
     },
     "metadata": {},
     "output_type": "display_data"
    },
    {
     "name": "stdout",
     "output_type": "stream",
     "text": [
      "Epoch 195/200\n",
      "46/46 [==============================] - 0s 4ms/step - loss: 0.3065 - accuracy: 0.8723 - val_loss: 0.3017 - val_accuracy: 0.8776\n",
      "Epoch 196/200\n"
     ]
    },
    {
     "data": {
      "application/vnd.jupyter.widget-view+json": {
       "model_id": "de30ab3967d34969beca6fab926d47c2",
       "version_major": 2,
       "version_minor": 0
      },
      "text/plain": [
       "0/46           ETA: ?s - "
      ]
     },
     "metadata": {},
     "output_type": "display_data"
    },
    {
     "name": "stdout",
     "output_type": "stream",
     "text": [
      "Epoch 196/200\n",
      "46/46 [==============================] - 0s 4ms/step - loss: 0.2977 - accuracy: 0.8832 - val_loss: 0.2989 - val_accuracy: 0.8919\n",
      "Epoch 197/200\n"
     ]
    },
    {
     "data": {
      "application/vnd.jupyter.widget-view+json": {
       "model_id": "e027d85c1d804b56a21069499a94f6ed",
       "version_major": 2,
       "version_minor": 0
      },
      "text/plain": [
       "0/46           ETA: ?s - "
      ]
     },
     "metadata": {},
     "output_type": "display_data"
    },
    {
     "name": "stdout",
     "output_type": "stream",
     "text": [
      "Epoch 197/200\n",
      "46/46 [==============================] - 0s 4ms/step - loss: 0.3028 - accuracy: 0.8779 - val_loss: 0.2987 - val_accuracy: 0.8899\n",
      "Epoch 198/200\n"
     ]
    },
    {
     "data": {
      "application/vnd.jupyter.widget-view+json": {
       "model_id": "428059e354a5439c994553ec20dc06e5",
       "version_major": 2,
       "version_minor": 0
      },
      "text/plain": [
       "0/46           ETA: ?s - "
      ]
     },
     "metadata": {},
     "output_type": "display_data"
    },
    {
     "name": "stdout",
     "output_type": "stream",
     "text": [
      "Epoch 198/200\n",
      "46/46 [==============================] - 0s 4ms/step - loss: 0.2938 - accuracy: 0.8868 - val_loss: 0.2926 - val_accuracy: 0.8919\n",
      "Epoch 199/200\n"
     ]
    },
    {
     "data": {
      "application/vnd.jupyter.widget-view+json": {
       "model_id": "c433427ec1294cb3adb83d820ae2b099",
       "version_major": 2,
       "version_minor": 0
      },
      "text/plain": [
       "0/46           ETA: ?s - "
      ]
     },
     "metadata": {},
     "output_type": "display_data"
    },
    {
     "name": "stdout",
     "output_type": "stream",
     "text": [
      "Epoch 199/200\n",
      "46/46 [==============================] - 0s 4ms/step - loss: 0.3047 - accuracy: 0.8771 - val_loss: 0.3133 - val_accuracy: 0.8674\n",
      "Epoch 200/200\n"
     ]
    },
    {
     "data": {
      "application/vnd.jupyter.widget-view+json": {
       "model_id": "eae0595081d84a92bf67d1c33a43213a",
       "version_major": 2,
       "version_minor": 0
      },
      "text/plain": [
       "0/46           ETA: ?s - "
      ]
     },
     "metadata": {},
     "output_type": "display_data"
    },
    {
     "name": "stdout",
     "output_type": "stream",
     "text": [
      "Epoch 200/200\n",
      "46/46 [==============================] - 0s 4ms/step - loss: 0.3057 - accuracy: 0.8745 - val_loss: 0.2951 - val_accuracy: 0.8872\n"
     ]
    },
    {
     "data": {
      "text/plain": [
       "<keras.callbacks.History at 0x7f90f649ab80>"
      ]
     },
     "execution_count": 104,
     "metadata": {},
     "output_type": "execute_result"
    }
   ],
   "source": [
    "model.fit(x_input, y_input, \n",
    "          epochs=200, \n",
    "          batch_size=128,\n",
    "          validation_data=(x_val, y_val),\n",
    "          callbacks=[tensorboard_callback, tqdm_callback]\n",
    "         )"
   ]
  },
  {
   "cell_type": "code",
   "execution_count": 105,
   "id": "8e44ad2e-f6df-4013-86c5-d29aae002dde",
   "metadata": {},
   "outputs": [
    {
     "name": "stdout",
     "output_type": "stream",
     "text": [
      "train accuracy:  0.0\n"
     ]
    }
   ],
   "source": [
    "predictions = model.predict(x_input,verbose=0)      ##TO DO: CHECK\n",
    "y_pred = np.argmax(predictions,axis=-1)\n",
    "print('train accuracy: ', np.sum(y_pred==y_input[:,0])/len(y_input))"
   ]
  },
  {
   "cell_type": "code",
   "execution_count": 108,
   "id": "d0a387e3-3412-4316-9cf9-d4ceb5b56712",
   "metadata": {},
   "outputs": [
    {
     "name": "stdout",
     "output_type": "stream",
     "text": [
      "val accuracy:  0.0020394289598912306\n"
     ]
    }
   ],
   "source": [
    "predictions = model.predict(x_val,verbose=0)\n",
    "y_pred = np.argmax(predictions,axis=-1)\n",
    "print('val accuracy: ', np.sum(y_pred==y_val[:,0])/len(y_val))"
   ]
  },
  {
   "cell_type": "code",
   "execution_count": null,
   "id": "2bed1c7d-8624-472c-97fe-7ba71b1ce84e",
   "metadata": {},
   "outputs": [],
   "source": []
  },
  {
   "cell_type": "markdown",
   "id": "e7d98938-3967-48a3-a99f-6c0a1fded141",
   "metadata": {},
   "source": [
    "## Other models"
   ]
  },
  {
   "cell_type": "code",
   "execution_count": 15,
   "id": "e12d1ebc-4365-45b4-a3af-4649d1918a14",
   "metadata": {},
   "outputs": [],
   "source": [
    "#Recreate the tensors\n",
    "x_input, x_val, y_input, y_val = train_test_split(xtrain, ytrain, test_size=0.2, random_state=10)\n",
    "\n",
    "#one-hot encoding for labels\n",
    "y_input = tf.keras.utils.to_categorical(y_input)\n",
    "y_val = tf.keras.utils.to_categorical(y_val)\n",
    "# Convert your input and validation data to a tensor so that you can pass it into your classifier\n",
    "x_input = tf.convert_to_tensor(x_input, tf.float32)\n",
    "x_val = tf.convert_to_tensor(x_val, tf.float32)\n",
    "y_input = tf.convert_to_tensor(y_input, tf.float32)\n",
    "y_val = tf.convert_to_tensor(y_val, tf.float32)"
   ]
  },
  {
   "cell_type": "code",
   "execution_count": 25,
   "id": "6f135379-2c0d-4f8b-b0ed-961b16692da0",
   "metadata": {},
   "outputs": [],
   "source": [
    "##LSTM##\n",
    "#Adapting\n",
    "# https://www.analyticsvidhya.com/blog/2021/07/implementing-lstm-for-human-activity-recognition-using-smartphone-accelerometer-data/\n",
    "ytrain = tf.keras.utils.to_categorical(ytrain)\n",
    "\n",
    "\n",
    "\n",
    "\n",
    "from keras.models import Sequential\n",
    "from keras.layers import LSTM, Dense, Flatten, Dropout\n",
    "\n",
    "model = Sequential()\n",
    "# RNN layer\n",
    "model.add(LSTM(units = 128, input_shape = (x_input.shape[1], x_input.shape[2])))\n",
    "# Dropout layer\n",
    "model.add(Dropout(0.5)) \n",
    "# Dense layer with ReLu\n",
    "model.add(Dense(units = 124, activation='relu'))\n",
    "# Softmax layer\n",
    "model.add(Dense(y_input.shape[1], activation = 'softmax'))\n",
    "# Compile model\n",
    "model.compile(loss='categorical_crossentropy', optimizer=tf.keras.optimizers.Adam(0.001), metrics=['accuracy'])"
   ]
  },
  {
   "cell_type": "code",
   "execution_count": 26,
   "id": "1b86a96b-a94a-4b36-897c-25954ffe3437",
   "metadata": {},
   "outputs": [
    {
     "name": "stdout",
     "output_type": "stream",
     "text": [
      "Model: \"sequential_3\"\n",
      "_________________________________________________________________\n",
      " Layer (type)                Output Shape              Param #   \n",
      "=================================================================\n",
      " lstm_3 (LSTM)               (None, 128)               67584     \n",
      "                                                                 \n",
      " dropout_3 (Dropout)         (None, 128)               0         \n",
      "                                                                 \n",
      " dense_6 (Dense)             (None, 124)               15996     \n",
      "                                                                 \n",
      " dense_7 (Dense)             (None, 6)                 750       \n",
      "                                                                 \n",
      "=================================================================\n",
      "Total params: 84,330\n",
      "Trainable params: 84,330\n",
      "Non-trainable params: 0\n",
      "_________________________________________________________________\n"
     ]
    }
   ],
   "source": [
    "model.summary()"
   ]
  },
  {
   "cell_type": "code",
   "execution_count": 27,
   "id": "f94a5a0a-cc2d-4997-8746-8d1b48df992d",
   "metadata": {},
   "outputs": [
    {
     "name": "stdout",
     "output_type": "stream",
     "text": [
      "Epoch 1/200\n",
      "6/6 [==============================] - 3s 208ms/step - loss: 1.7868 - accuracy: 0.2576 - val_loss: 1.7755 - val_accuracy: 0.3657\n",
      "Epoch 2/200\n",
      "6/6 [==============================] - 1s 99ms/step - loss: 1.7703 - accuracy: 0.3539 - val_loss: 1.7550 - val_accuracy: 0.3644\n",
      "Epoch 3/200\n",
      "6/6 [==============================] - 1s 104ms/step - loss: 1.7407 - accuracy: 0.3727 - val_loss: 1.6916 - val_accuracy: 0.3895\n",
      "Epoch 4/200\n",
      "6/6 [==============================] - 1s 99ms/step - loss: 1.6353 - accuracy: 0.3472 - val_loss: 1.5548 - val_accuracy: 0.3215\n",
      "Epoch 5/200\n",
      "6/6 [==============================] - 1s 100ms/step - loss: 1.4918 - accuracy: 0.3396 - val_loss: 1.3760 - val_accuracy: 0.3433\n",
      "Epoch 6/200\n",
      "6/6 [==============================] - 1s 100ms/step - loss: 1.3030 - accuracy: 0.3496 - val_loss: 1.1859 - val_accuracy: 0.3583\n",
      "Epoch 7/200\n",
      "6/6 [==============================] - 1s 100ms/step - loss: 1.2067 - accuracy: 0.3482 - val_loss: 1.2468 - val_accuracy: 0.3290\n",
      "Epoch 8/200\n",
      "6/6 [==============================] - 1s 97ms/step - loss: 1.2498 - accuracy: 0.3326 - val_loss: 1.1890 - val_accuracy: 0.3657\n",
      "Epoch 9/200\n",
      "6/6 [==============================] - 1s 104ms/step - loss: 1.1709 - accuracy: 0.3539 - val_loss: 1.1307 - val_accuracy: 0.3678\n",
      "Epoch 10/200\n",
      "6/6 [==============================] - 1s 96ms/step - loss: 1.1462 - accuracy: 0.3539 - val_loss: 1.1153 - val_accuracy: 0.3528\n",
      "Epoch 11/200\n",
      "6/6 [==============================] - 1s 98ms/step - loss: 1.1232 - accuracy: 0.3452 - val_loss: 1.1052 - val_accuracy: 0.3440\n",
      "Epoch 12/200\n",
      "6/6 [==============================] - 1s 101ms/step - loss: 1.1110 - accuracy: 0.3607 - val_loss: 1.0978 - val_accuracy: 0.3664\n",
      "Epoch 13/200\n",
      "6/6 [==============================] - 1s 100ms/step - loss: 1.1092 - accuracy: 0.3488 - val_loss: 1.0959 - val_accuracy: 0.3678\n",
      "Epoch 14/200\n",
      "6/6 [==============================] - 1s 100ms/step - loss: 1.1033 - accuracy: 0.3669 - val_loss: 1.0954 - val_accuracy: 0.3651\n",
      "Epoch 15/200\n",
      "6/6 [==============================] - 1s 98ms/step - loss: 1.1015 - accuracy: 0.3574 - val_loss: 1.0917 - val_accuracy: 0.3889\n",
      "Epoch 16/200\n",
      "6/6 [==============================] - 1s 96ms/step - loss: 1.0977 - accuracy: 0.3668 - val_loss: 1.0875 - val_accuracy: 0.3963\n",
      "Epoch 17/200\n",
      "6/6 [==============================] - 1s 96ms/step - loss: 1.0923 - accuracy: 0.3686 - val_loss: 1.0840 - val_accuracy: 0.3956\n",
      "Epoch 18/200\n",
      "6/6 [==============================] - 1s 101ms/step - loss: 1.0858 - accuracy: 0.3841 - val_loss: 1.0728 - val_accuracy: 0.4242\n",
      "Epoch 19/200\n",
      "6/6 [==============================] - 1s 97ms/step - loss: 1.0723 - accuracy: 0.4040 - val_loss: 1.0474 - val_accuracy: 0.4548\n",
      "Epoch 20/200\n",
      "6/6 [==============================] - 1s 102ms/step - loss: 1.0253 - accuracy: 0.4486 - val_loss: 0.9741 - val_accuracy: 0.4684\n",
      "Epoch 21/200\n",
      "6/6 [==============================] - 1s 99ms/step - loss: 1.0697 - accuracy: 0.4300 - val_loss: 1.0678 - val_accuracy: 0.4174\n",
      "Epoch 22/200\n",
      "6/6 [==============================] - 1s 97ms/step - loss: 1.0666 - accuracy: 0.4198 - val_loss: 1.2199 - val_accuracy: 0.3562\n",
      "Epoch 23/200\n",
      "6/6 [==============================] - 1s 102ms/step - loss: 1.1671 - accuracy: 0.3703 - val_loss: 1.0722 - val_accuracy: 0.3719\n",
      "Epoch 24/200\n",
      "6/6 [==============================] - 1s 97ms/step - loss: 1.1330 - accuracy: 0.3702 - val_loss: 1.1230 - val_accuracy: 0.3555\n",
      "Epoch 25/200\n",
      "6/6 [==============================] - 1s 99ms/step - loss: 1.0647 - accuracy: 0.4089 - val_loss: 1.0019 - val_accuracy: 0.5058\n",
      "Epoch 26/200\n",
      "6/6 [==============================] - 1s 97ms/step - loss: 1.0196 - accuracy: 0.4520 - val_loss: 0.9628 - val_accuracy: 0.4935\n",
      "Epoch 27/200\n",
      "6/6 [==============================] - 1s 98ms/step - loss: 0.9661 - accuracy: 0.4742 - val_loss: 0.9209 - val_accuracy: 0.4861\n",
      "Epoch 28/200\n",
      "6/6 [==============================] - 1s 99ms/step - loss: 0.9409 - accuracy: 0.4867 - val_loss: 0.8990 - val_accuracy: 0.4901\n",
      "Epoch 29/200\n",
      "6/6 [==============================] - 1s 101ms/step - loss: 0.9473 - accuracy: 0.4681 - val_loss: 1.0405 - val_accuracy: 0.4534\n",
      "Epoch 30/200\n",
      "6/6 [==============================] - 1s 96ms/step - loss: 0.9428 - accuracy: 0.4824 - val_loss: 0.9399 - val_accuracy: 0.4956\n",
      "Epoch 31/200\n",
      "6/6 [==============================] - 1s 97ms/step - loss: 0.9227 - accuracy: 0.5096 - val_loss: 0.8876 - val_accuracy: 0.5221\n",
      "Epoch 32/200\n",
      "6/6 [==============================] - 1s 100ms/step - loss: 0.8905 - accuracy: 0.5270 - val_loss: 0.8784 - val_accuracy: 0.5207\n",
      "Epoch 33/200\n",
      "6/6 [==============================] - 1s 98ms/step - loss: 0.8744 - accuracy: 0.5234 - val_loss: 0.8980 - val_accuracy: 0.5051\n",
      "Epoch 34/200\n",
      "6/6 [==============================] - 1s 95ms/step - loss: 0.8543 - accuracy: 0.5409 - val_loss: 0.8319 - val_accuracy: 0.5425\n",
      "Epoch 35/200\n",
      "6/6 [==============================] - 1s 99ms/step - loss: 0.8294 - accuracy: 0.5468 - val_loss: 0.8151 - val_accuracy: 0.5500\n",
      "Epoch 36/200\n",
      "6/6 [==============================] - 1s 98ms/step - loss: 0.8139 - accuracy: 0.5604 - val_loss: 0.8002 - val_accuracy: 0.5642\n",
      "Epoch 37/200\n",
      "6/6 [==============================] - 1s 97ms/step - loss: 0.7929 - accuracy: 0.5708 - val_loss: 0.8156 - val_accuracy: 0.5663\n",
      "Epoch 38/200\n",
      "6/6 [==============================] - 1s 96ms/step - loss: 0.7768 - accuracy: 0.5817 - val_loss: 0.7413 - val_accuracy: 0.5989\n",
      "Epoch 39/200\n",
      "6/6 [==============================] - 1s 100ms/step - loss: 0.7595 - accuracy: 0.5754 - val_loss: 0.7272 - val_accuracy: 0.5989\n",
      "Epoch 40/200\n",
      "6/6 [==============================] - 1s 98ms/step - loss: 0.7328 - accuracy: 0.5962 - val_loss: 0.6942 - val_accuracy: 0.6166\n",
      "Epoch 41/200\n",
      "6/6 [==============================] - 1s 97ms/step - loss: 0.7144 - accuracy: 0.5933 - val_loss: 0.6892 - val_accuracy: 0.6145\n",
      "Epoch 42/200\n",
      "6/6 [==============================] - 1s 95ms/step - loss: 0.7049 - accuracy: 0.6001 - val_loss: 0.7066 - val_accuracy: 0.5996\n",
      "Epoch 43/200\n",
      "6/6 [==============================] - 1s 96ms/step - loss: 0.7014 - accuracy: 0.6103 - val_loss: 0.6753 - val_accuracy: 0.6179\n",
      "Epoch 44/200\n",
      "6/6 [==============================] - 1s 103ms/step - loss: 0.6895 - accuracy: 0.6115 - val_loss: 0.6655 - val_accuracy: 0.6241\n",
      "Epoch 45/200\n",
      "6/6 [==============================] - 1s 100ms/step - loss: 0.6944 - accuracy: 0.5979 - val_loss: 0.6600 - val_accuracy: 0.6288\n",
      "Epoch 46/200\n",
      "6/6 [==============================] - 1s 100ms/step - loss: 0.6958 - accuracy: 0.6098 - val_loss: 0.6610 - val_accuracy: 0.6247\n",
      "Epoch 47/200\n",
      "6/6 [==============================] - 1s 96ms/step - loss: 0.7059 - accuracy: 0.6014 - val_loss: 0.7507 - val_accuracy: 0.5840\n",
      "Epoch 48/200\n",
      "6/6 [==============================] - 1s 98ms/step - loss: 0.6899 - accuracy: 0.6087 - val_loss: 0.6635 - val_accuracy: 0.6261\n",
      "Epoch 49/200\n",
      "6/6 [==============================] - 1s 98ms/step - loss: 0.6854 - accuracy: 0.6069 - val_loss: 0.6794 - val_accuracy: 0.6152\n",
      "Epoch 50/200\n",
      "6/6 [==============================] - 1s 99ms/step - loss: 0.6789 - accuracy: 0.6155 - val_loss: 0.7681 - val_accuracy: 0.5853\n",
      "Epoch 51/200\n",
      "6/6 [==============================] - 1s 99ms/step - loss: 0.6945 - accuracy: 0.6144 - val_loss: 0.6475 - val_accuracy: 0.6288\n",
      "Epoch 52/200\n",
      "6/6 [==============================] - 1s 104ms/step - loss: 0.6924 - accuracy: 0.6077 - val_loss: 0.6615 - val_accuracy: 0.6254\n",
      "Epoch 53/200\n",
      "6/6 [==============================] - 1s 101ms/step - loss: 0.6766 - accuracy: 0.6254 - val_loss: 0.6498 - val_accuracy: 0.6390\n",
      "Epoch 54/200\n",
      "6/6 [==============================] - 1s 98ms/step - loss: 0.6743 - accuracy: 0.6189 - val_loss: 0.6790 - val_accuracy: 0.6132\n",
      "Epoch 55/200\n",
      "6/6 [==============================] - 1s 97ms/step - loss: 0.6702 - accuracy: 0.6123 - val_loss: 0.6675 - val_accuracy: 0.6016\n",
      "Epoch 56/200\n",
      "6/6 [==============================] - 1s 99ms/step - loss: 0.6766 - accuracy: 0.6113 - val_loss: 0.7518 - val_accuracy: 0.5921\n",
      "Epoch 57/200\n",
      "6/6 [==============================] - 1s 96ms/step - loss: 0.6860 - accuracy: 0.6130 - val_loss: 0.6601 - val_accuracy: 0.6105\n",
      "Epoch 58/200\n",
      "6/6 [==============================] - 1s 98ms/step - loss: 0.6782 - accuracy: 0.6065 - val_loss: 0.7325 - val_accuracy: 0.5928\n",
      "Epoch 59/200\n",
      "6/6 [==============================] - 1s 98ms/step - loss: 0.6767 - accuracy: 0.6166 - val_loss: 0.6421 - val_accuracy: 0.6336\n",
      "Epoch 60/200\n",
      "6/6 [==============================] - 1s 94ms/step - loss: 0.6686 - accuracy: 0.6232 - val_loss: 0.6755 - val_accuracy: 0.6186\n",
      "Epoch 61/200\n",
      "6/6 [==============================] - 1s 102ms/step - loss: 0.6971 - accuracy: 0.6164 - val_loss: 0.7287 - val_accuracy: 0.5989\n",
      "Epoch 62/200\n",
      "6/6 [==============================] - 1s 101ms/step - loss: 0.6932 - accuracy: 0.6152 - val_loss: 0.7268 - val_accuracy: 0.5982\n",
      "Epoch 63/200\n",
      "6/6 [==============================] - 1s 99ms/step - loss: 0.6884 - accuracy: 0.6110 - val_loss: 0.7060 - val_accuracy: 0.6077\n",
      "Epoch 64/200\n",
      "6/6 [==============================] - 1s 98ms/step - loss: 0.6718 - accuracy: 0.6256 - val_loss: 0.6606 - val_accuracy: 0.6207\n",
      "Epoch 65/200\n",
      "6/6 [==============================] - 1s 99ms/step - loss: 0.6612 - accuracy: 0.6205 - val_loss: 0.6384 - val_accuracy: 0.6329\n",
      "Epoch 66/200\n",
      "6/6 [==============================] - 1s 100ms/step - loss: 0.6478 - accuracy: 0.6271 - val_loss: 0.6378 - val_accuracy: 0.6343\n",
      "Epoch 67/200\n",
      "6/6 [==============================] - 1s 96ms/step - loss: 0.6411 - accuracy: 0.6359 - val_loss: 0.6845 - val_accuracy: 0.6010\n",
      "Epoch 68/200\n",
      "6/6 [==============================] - 1s 100ms/step - loss: 0.6463 - accuracy: 0.6205 - val_loss: 0.6414 - val_accuracy: 0.6288\n",
      "Epoch 69/200\n",
      "6/6 [==============================] - 1s 100ms/step - loss: 0.6396 - accuracy: 0.6295 - val_loss: 0.6422 - val_accuracy: 0.6132\n",
      "Epoch 70/200\n",
      "6/6 [==============================] - 1s 101ms/step - loss: 0.6351 - accuracy: 0.6322 - val_loss: 0.6514 - val_accuracy: 0.6268\n",
      "Epoch 71/200\n",
      "6/6 [==============================] - 1s 99ms/step - loss: 0.6393 - accuracy: 0.6257 - val_loss: 0.6373 - val_accuracy: 0.6302\n",
      "Epoch 72/200\n",
      "6/6 [==============================] - 1s 99ms/step - loss: 0.6387 - accuracy: 0.6319 - val_loss: 0.6552 - val_accuracy: 0.6023\n",
      "Epoch 73/200\n",
      "6/6 [==============================] - 1s 102ms/step - loss: 0.6374 - accuracy: 0.6409 - val_loss: 0.6487 - val_accuracy: 0.6288\n",
      "Epoch 74/200\n",
      "6/6 [==============================] - 1s 97ms/step - loss: 0.6350 - accuracy: 0.6346 - val_loss: 0.6438 - val_accuracy: 0.6275\n",
      "Epoch 75/200\n",
      "6/6 [==============================] - 1s 99ms/step - loss: 0.6366 - accuracy: 0.6280 - val_loss: 0.6504 - val_accuracy: 0.6268\n",
      "Epoch 76/200\n",
      "6/6 [==============================] - 1s 98ms/step - loss: 0.6321 - accuracy: 0.6354 - val_loss: 0.6688 - val_accuracy: 0.6159\n",
      "Epoch 77/200\n",
      "6/6 [==============================] - 1s 98ms/step - loss: 0.6393 - accuracy: 0.6305 - val_loss: 0.6329 - val_accuracy: 0.6179\n",
      "Epoch 78/200\n",
      "6/6 [==============================] - 1s 96ms/step - loss: 0.6320 - accuracy: 0.6376 - val_loss: 0.6655 - val_accuracy: 0.6213\n",
      "Epoch 79/200\n",
      "6/6 [==============================] - 1s 100ms/step - loss: 0.6359 - accuracy: 0.6346 - val_loss: 0.6423 - val_accuracy: 0.6118\n",
      "Epoch 80/200\n",
      "6/6 [==============================] - 1s 100ms/step - loss: 0.6346 - accuracy: 0.6259 - val_loss: 0.6337 - val_accuracy: 0.6329\n",
      "Epoch 81/200\n",
      "6/6 [==============================] - 1s 99ms/step - loss: 0.6308 - accuracy: 0.6354 - val_loss: 0.6342 - val_accuracy: 0.6118\n",
      "Epoch 82/200\n",
      "6/6 [==============================] - 1s 96ms/step - loss: 0.6310 - accuracy: 0.6331 - val_loss: 0.6363 - val_accuracy: 0.6309\n",
      "Epoch 83/200\n",
      "6/6 [==============================] - 1s 102ms/step - loss: 0.6278 - accuracy: 0.6332 - val_loss: 0.6277 - val_accuracy: 0.6417\n",
      "Epoch 84/200\n",
      "6/6 [==============================] - 1s 98ms/step - loss: 0.6319 - accuracy: 0.6424 - val_loss: 0.6586 - val_accuracy: 0.6295\n",
      "Epoch 85/200\n",
      "6/6 [==============================] - 1s 97ms/step - loss: 0.6363 - accuracy: 0.6324 - val_loss: 0.6531 - val_accuracy: 0.6275\n",
      "Epoch 86/200\n",
      "6/6 [==============================] - 1s 95ms/step - loss: 0.6298 - accuracy: 0.6359 - val_loss: 0.6375 - val_accuracy: 0.6132\n",
      "Epoch 87/200\n",
      "6/6 [==============================] - 1s 96ms/step - loss: 0.6314 - accuracy: 0.6359 - val_loss: 0.6278 - val_accuracy: 0.6349\n",
      "Epoch 88/200\n",
      "6/6 [==============================] - 1s 98ms/step - loss: 0.6291 - accuracy: 0.6341 - val_loss: 0.6320 - val_accuracy: 0.6540\n",
      "Epoch 89/200\n",
      "6/6 [==============================] - 1s 100ms/step - loss: 0.7172 - accuracy: 0.6099 - val_loss: 0.6793 - val_accuracy: 0.6173\n",
      "Epoch 90/200\n",
      "6/6 [==============================] - 1s 100ms/step - loss: 0.7779 - accuracy: 0.5710 - val_loss: 0.8106 - val_accuracy: 0.5500\n",
      "Epoch 91/200\n",
      "6/6 [==============================] - 1s 95ms/step - loss: 0.7825 - accuracy: 0.5795 - val_loss: 0.7791 - val_accuracy: 0.5636\n",
      "Epoch 92/200\n",
      "6/6 [==============================] - 1s 103ms/step - loss: 0.7336 - accuracy: 0.6001 - val_loss: 0.6861 - val_accuracy: 0.6044\n",
      "Epoch 93/200\n",
      "6/6 [==============================] - 1s 96ms/step - loss: 0.6918 - accuracy: 0.6098 - val_loss: 0.6507 - val_accuracy: 0.6309\n",
      "Epoch 94/200\n",
      "6/6 [==============================] - 1s 103ms/step - loss: 0.6618 - accuracy: 0.6223 - val_loss: 0.6430 - val_accuracy: 0.6295\n",
      "Epoch 95/200\n",
      "6/6 [==============================] - 1s 96ms/step - loss: 0.6607 - accuracy: 0.6179 - val_loss: 0.6611 - val_accuracy: 0.6200\n",
      "Epoch 96/200\n",
      "6/6 [==============================] - 1s 99ms/step - loss: 0.6518 - accuracy: 0.6263 - val_loss: 0.6300 - val_accuracy: 0.6363\n",
      "Epoch 97/200\n",
      "6/6 [==============================] - 1s 94ms/step - loss: 0.6390 - accuracy: 0.6256 - val_loss: 0.6426 - val_accuracy: 0.6295\n",
      "Epoch 98/200\n",
      "6/6 [==============================] - 1s 99ms/step - loss: 0.6402 - accuracy: 0.6264 - val_loss: 0.6309 - val_accuracy: 0.6424\n",
      "Epoch 99/200\n",
      "6/6 [==============================] - 1s 100ms/step - loss: 0.6472 - accuracy: 0.6268 - val_loss: 0.6343 - val_accuracy: 0.6329\n",
      "Epoch 100/200\n",
      "6/6 [==============================] - 1s 100ms/step - loss: 0.6412 - accuracy: 0.6212 - val_loss: 0.6519 - val_accuracy: 0.6023\n",
      "Epoch 101/200\n",
      "6/6 [==============================] - 1s 100ms/step - loss: 0.6426 - accuracy: 0.6242 - val_loss: 0.6455 - val_accuracy: 0.6275\n",
      "Epoch 102/200\n",
      "6/6 [==============================] - 1s 104ms/step - loss: 0.6354 - accuracy: 0.6261 - val_loss: 0.6258 - val_accuracy: 0.6139\n",
      "Epoch 103/200\n",
      "6/6 [==============================] - 1s 99ms/step - loss: 0.6383 - accuracy: 0.6293 - val_loss: 0.6246 - val_accuracy: 0.6363\n",
      "Epoch 104/200\n",
      "6/6 [==============================] - 1s 98ms/step - loss: 0.6368 - accuracy: 0.6239 - val_loss: 0.6232 - val_accuracy: 0.6213\n",
      "Epoch 105/200\n",
      "6/6 [==============================] - 1s 99ms/step - loss: 0.6328 - accuracy: 0.6281 - val_loss: 0.6221 - val_accuracy: 0.6370\n",
      "Epoch 106/200\n",
      "6/6 [==============================] - 1s 101ms/step - loss: 0.6458 - accuracy: 0.6247 - val_loss: 0.6240 - val_accuracy: 0.6213\n",
      "Epoch 107/200\n",
      "6/6 [==============================] - 1s 97ms/step - loss: 0.6379 - accuracy: 0.6358 - val_loss: 0.6270 - val_accuracy: 0.6438\n",
      "Epoch 108/200\n",
      "6/6 [==============================] - 1s 98ms/step - loss: 0.6365 - accuracy: 0.6336 - val_loss: 0.6357 - val_accuracy: 0.6322\n",
      "Epoch 109/200\n",
      "6/6 [==============================] - 1s 98ms/step - loss: 0.6279 - accuracy: 0.6429 - val_loss: 0.6258 - val_accuracy: 0.6207\n",
      "Epoch 110/200\n",
      "6/6 [==============================] - 1s 99ms/step - loss: 0.6282 - accuracy: 0.6307 - val_loss: 0.6301 - val_accuracy: 0.6356\n",
      "Epoch 111/200\n",
      "6/6 [==============================] - 1s 107ms/step - loss: 0.6329 - accuracy: 0.6393 - val_loss: 0.6271 - val_accuracy: 0.6220\n",
      "Epoch 112/200\n",
      "6/6 [==============================] - 1s 100ms/step - loss: 0.6280 - accuracy: 0.6314 - val_loss: 0.6210 - val_accuracy: 0.6377\n",
      "Epoch 113/200\n",
      "6/6 [==============================] - 1s 100ms/step - loss: 0.6354 - accuracy: 0.6310 - val_loss: 0.6224 - val_accuracy: 0.6220\n",
      "Epoch 114/200\n",
      "6/6 [==============================] - 1s 104ms/step - loss: 0.6298 - accuracy: 0.6376 - val_loss: 0.6320 - val_accuracy: 0.6336\n",
      "Epoch 115/200\n",
      "6/6 [==============================] - 1s 98ms/step - loss: 0.6271 - accuracy: 0.6319 - val_loss: 0.6307 - val_accuracy: 0.6213\n",
      "Epoch 116/200\n",
      "6/6 [==============================] - 1s 99ms/step - loss: 0.6284 - accuracy: 0.6385 - val_loss: 0.6274 - val_accuracy: 0.6356\n",
      "Epoch 117/200\n",
      "6/6 [==============================] - 1s 98ms/step - loss: 0.6282 - accuracy: 0.6373 - val_loss: 0.6244 - val_accuracy: 0.6173\n",
      "Epoch 118/200\n",
      "6/6 [==============================] - 1s 98ms/step - loss: 0.6251 - accuracy: 0.6344 - val_loss: 0.6207 - val_accuracy: 0.6370\n",
      "Epoch 119/200\n",
      "6/6 [==============================] - 1s 99ms/step - loss: 0.6218 - accuracy: 0.6359 - val_loss: 0.6234 - val_accuracy: 0.6179\n",
      "Epoch 120/200\n",
      "6/6 [==============================] - 1s 99ms/step - loss: 0.6237 - accuracy: 0.6375 - val_loss: 0.6243 - val_accuracy: 0.6485\n",
      "Epoch 121/200\n",
      "6/6 [==============================] - 1s 100ms/step - loss: 0.6227 - accuracy: 0.6380 - val_loss: 0.6237 - val_accuracy: 0.6363\n",
      "Epoch 122/200\n",
      "6/6 [==============================] - 1s 101ms/step - loss: 0.6212 - accuracy: 0.6472 - val_loss: 0.6207 - val_accuracy: 0.6179\n",
      "Epoch 123/200\n",
      "6/6 [==============================] - 1s 98ms/step - loss: 0.6219 - accuracy: 0.6416 - val_loss: 0.6224 - val_accuracy: 0.6105\n",
      "Epoch 124/200\n",
      "6/6 [==============================] - 1s 104ms/step - loss: 0.6202 - accuracy: 0.6422 - val_loss: 0.6213 - val_accuracy: 0.6370\n",
      "Epoch 125/200\n",
      "6/6 [==============================] - 1s 100ms/step - loss: 0.6230 - accuracy: 0.6365 - val_loss: 0.6245 - val_accuracy: 0.6166\n",
      "Epoch 126/200\n",
      "6/6 [==============================] - 1s 99ms/step - loss: 0.6283 - accuracy: 0.6378 - val_loss: 0.6275 - val_accuracy: 0.6132\n",
      "Epoch 127/200\n",
      "6/6 [==============================] - 1s 95ms/step - loss: 0.6229 - accuracy: 0.6370 - val_loss: 0.6226 - val_accuracy: 0.6404\n",
      "Epoch 128/200\n",
      "6/6 [==============================] - 1s 104ms/step - loss: 0.6252 - accuracy: 0.6351 - val_loss: 0.6239 - val_accuracy: 0.6220\n",
      "Epoch 129/200\n",
      "6/6 [==============================] - 1s 97ms/step - loss: 0.6255 - accuracy: 0.6378 - val_loss: 0.6242 - val_accuracy: 0.6363\n",
      "Epoch 130/200\n",
      "6/6 [==============================] - 1s 97ms/step - loss: 0.6238 - accuracy: 0.6412 - val_loss: 0.6251 - val_accuracy: 0.6227\n",
      "Epoch 131/200\n",
      "6/6 [==============================] - 1s 100ms/step - loss: 0.6280 - accuracy: 0.6397 - val_loss: 0.6231 - val_accuracy: 0.6377\n",
      "Epoch 132/200\n",
      "6/6 [==============================] - 1s 102ms/step - loss: 0.6240 - accuracy: 0.6356 - val_loss: 0.6301 - val_accuracy: 0.6186\n",
      "Epoch 133/200\n",
      "6/6 [==============================] - 1s 95ms/step - loss: 0.6213 - accuracy: 0.6399 - val_loss: 0.6222 - val_accuracy: 0.6370\n",
      "Epoch 134/200\n",
      "6/6 [==============================] - 1s 104ms/step - loss: 0.6217 - accuracy: 0.6382 - val_loss: 0.6228 - val_accuracy: 0.6159\n",
      "Epoch 135/200\n",
      "6/6 [==============================] - 1s 99ms/step - loss: 0.6185 - accuracy: 0.6434 - val_loss: 0.6214 - val_accuracy: 0.6424\n",
      "Epoch 136/200\n",
      "6/6 [==============================] - 1s 102ms/step - loss: 0.6201 - accuracy: 0.6404 - val_loss: 0.6288 - val_accuracy: 0.6547\n",
      "Epoch 137/200\n",
      "6/6 [==============================] - 1s 97ms/step - loss: 0.6211 - accuracy: 0.6351 - val_loss: 0.6232 - val_accuracy: 0.6173\n",
      "Epoch 138/200\n",
      "6/6 [==============================] - 1s 98ms/step - loss: 0.6170 - accuracy: 0.6385 - val_loss: 0.6241 - val_accuracy: 0.6118\n",
      "Epoch 139/200\n",
      "6/6 [==============================] - 1s 99ms/step - loss: 0.6212 - accuracy: 0.6392 - val_loss: 0.6262 - val_accuracy: 0.6111\n",
      "Epoch 140/200\n",
      "6/6 [==============================] - 1s 94ms/step - loss: 0.6344 - accuracy: 0.6346 - val_loss: 0.6392 - val_accuracy: 0.6336\n",
      "Epoch 141/200\n",
      "6/6 [==============================] - 1s 97ms/step - loss: 0.6427 - accuracy: 0.6434 - val_loss: 0.6294 - val_accuracy: 0.6220\n",
      "Epoch 142/200\n",
      "6/6 [==============================] - 1s 100ms/step - loss: 0.6317 - accuracy: 0.6417 - val_loss: 0.6319 - val_accuracy: 0.6125\n",
      "Epoch 143/200\n",
      "6/6 [==============================] - 1s 98ms/step - loss: 0.6299 - accuracy: 0.6407 - val_loss: 0.6229 - val_accuracy: 0.6159\n",
      "Epoch 144/200\n",
      "6/6 [==============================] - 1s 100ms/step - loss: 0.6247 - accuracy: 0.6327 - val_loss: 0.6290 - val_accuracy: 0.6227\n",
      "Epoch 145/200\n",
      "6/6 [==============================] - 1s 100ms/step - loss: 0.6261 - accuracy: 0.6429 - val_loss: 0.6238 - val_accuracy: 0.6370\n",
      "Epoch 146/200\n",
      "6/6 [==============================] - 1s 103ms/step - loss: 0.6250 - accuracy: 0.6370 - val_loss: 0.6272 - val_accuracy: 0.6234\n",
      "Epoch 147/200\n",
      "6/6 [==============================] - 1s 97ms/step - loss: 0.6262 - accuracy: 0.6348 - val_loss: 0.6210 - val_accuracy: 0.6370\n",
      "Epoch 148/200\n",
      "6/6 [==============================] - 1s 100ms/step - loss: 0.6220 - accuracy: 0.6378 - val_loss: 0.6213 - val_accuracy: 0.6220\n",
      "Epoch 149/200\n",
      "6/6 [==============================] - 1s 99ms/step - loss: 0.6179 - accuracy: 0.6421 - val_loss: 0.6221 - val_accuracy: 0.6431\n",
      "Epoch 150/200\n",
      "6/6 [==============================] - 1s 99ms/step - loss: 0.6260 - accuracy: 0.6346 - val_loss: 0.6216 - val_accuracy: 0.6173\n",
      "Epoch 151/200\n",
      "6/6 [==============================] - 1s 100ms/step - loss: 0.6253 - accuracy: 0.6434 - val_loss: 0.6423 - val_accuracy: 0.6139\n",
      "Epoch 152/200\n",
      "6/6 [==============================] - 1s 101ms/step - loss: 0.6218 - accuracy: 0.6417 - val_loss: 0.6234 - val_accuracy: 0.6193\n",
      "Epoch 153/200\n",
      "6/6 [==============================] - 1s 96ms/step - loss: 0.6199 - accuracy: 0.6482 - val_loss: 0.6217 - val_accuracy: 0.6390\n",
      "Epoch 154/200\n",
      "6/6 [==============================] - 1s 104ms/step - loss: 0.6190 - accuracy: 0.6397 - val_loss: 0.6283 - val_accuracy: 0.6152\n",
      "Epoch 155/200\n",
      "6/6 [==============================] - 1s 98ms/step - loss: 0.6213 - accuracy: 0.6337 - val_loss: 0.6218 - val_accuracy: 0.6553\n",
      "Epoch 156/200\n",
      "6/6 [==============================] - 1s 104ms/step - loss: 0.6190 - accuracy: 0.6402 - val_loss: 0.6215 - val_accuracy: 0.6105\n",
      "Epoch 157/200\n",
      "6/6 [==============================] - 1s 98ms/step - loss: 0.6155 - accuracy: 0.6405 - val_loss: 0.6230 - val_accuracy: 0.6152\n",
      "Epoch 158/200\n",
      "6/6 [==============================] - 1s 103ms/step - loss: 0.6138 - accuracy: 0.6424 - val_loss: 0.6227 - val_accuracy: 0.6159\n",
      "Epoch 159/200\n",
      "6/6 [==============================] - 1s 96ms/step - loss: 0.6175 - accuracy: 0.6443 - val_loss: 0.6218 - val_accuracy: 0.6411\n",
      "Epoch 160/200\n",
      "6/6 [==============================] - 1s 100ms/step - loss: 0.6173 - accuracy: 0.6405 - val_loss: 0.6245 - val_accuracy: 0.6166\n",
      "Epoch 161/200\n",
      "6/6 [==============================] - 1s 96ms/step - loss: 0.6136 - accuracy: 0.6417 - val_loss: 0.6207 - val_accuracy: 0.6417\n",
      "Epoch 162/200\n",
      "6/6 [==============================] - 1s 97ms/step - loss: 0.6145 - accuracy: 0.6424 - val_loss: 0.6274 - val_accuracy: 0.6173\n",
      "Epoch 163/200\n",
      "6/6 [==============================] - 1s 97ms/step - loss: 0.6144 - accuracy: 0.6424 - val_loss: 0.6263 - val_accuracy: 0.6241\n",
      "Epoch 164/200\n",
      "6/6 [==============================] - 1s 101ms/step - loss: 0.6192 - accuracy: 0.6456 - val_loss: 0.6234 - val_accuracy: 0.6363\n",
      "Epoch 165/200\n",
      "6/6 [==============================] - 1s 99ms/step - loss: 0.6158 - accuracy: 0.6439 - val_loss: 0.6245 - val_accuracy: 0.6234\n",
      "Epoch 166/200\n",
      "6/6 [==============================] - 1s 99ms/step - loss: 0.6153 - accuracy: 0.6422 - val_loss: 0.6202 - val_accuracy: 0.6458\n",
      "Epoch 167/200\n",
      "6/6 [==============================] - 1s 101ms/step - loss: 0.6133 - accuracy: 0.6434 - val_loss: 0.6237 - val_accuracy: 0.6213\n",
      "Epoch 168/200\n",
      "6/6 [==============================] - 1s 100ms/step - loss: 0.6148 - accuracy: 0.6499 - val_loss: 0.6221 - val_accuracy: 0.6383\n",
      "Epoch 169/200\n",
      "6/6 [==============================] - 1s 102ms/step - loss: 0.6142 - accuracy: 0.6482 - val_loss: 0.6239 - val_accuracy: 0.6241\n",
      "Epoch 170/200\n",
      "6/6 [==============================] - 1s 99ms/step - loss: 0.6125 - accuracy: 0.6405 - val_loss: 0.6206 - val_accuracy: 0.6390\n",
      "Epoch 171/200\n",
      "6/6 [==============================] - 1s 100ms/step - loss: 0.6108 - accuracy: 0.6468 - val_loss: 0.6233 - val_accuracy: 0.6186\n",
      "Epoch 172/200\n",
      "6/6 [==============================] - 1s 99ms/step - loss: 0.6143 - accuracy: 0.6390 - val_loss: 0.6180 - val_accuracy: 0.6207\n",
      "Epoch 173/200\n",
      "6/6 [==============================] - 1s 102ms/step - loss: 0.6504 - accuracy: 0.6375 - val_loss: 0.7701 - val_accuracy: 0.5350\n",
      "Epoch 174/200\n",
      "6/6 [==============================] - 1s 96ms/step - loss: 0.6836 - accuracy: 0.6026 - val_loss: 0.6624 - val_accuracy: 0.6003\n",
      "Epoch 175/200\n",
      "6/6 [==============================] - 1s 104ms/step - loss: 0.6627 - accuracy: 0.6276 - val_loss: 0.6426 - val_accuracy: 0.5989\n",
      "Epoch 176/200\n",
      "6/6 [==============================] - 1s 98ms/step - loss: 0.6587 - accuracy: 0.6195 - val_loss: 0.6689 - val_accuracy: 0.6166\n",
      "Epoch 177/200\n",
      "6/6 [==============================] - 1s 103ms/step - loss: 0.6442 - accuracy: 0.6356 - val_loss: 0.6839 - val_accuracy: 0.6105\n",
      "Epoch 178/200\n",
      "6/6 [==============================] - 1s 97ms/step - loss: 0.6367 - accuracy: 0.6332 - val_loss: 0.6689 - val_accuracy: 0.6261\n",
      "Epoch 179/200\n",
      "6/6 [==============================] - 1s 101ms/step - loss: 0.6324 - accuracy: 0.6348 - val_loss: 0.6527 - val_accuracy: 0.6118\n",
      "Epoch 180/200\n",
      "6/6 [==============================] - 1s 100ms/step - loss: 0.6252 - accuracy: 0.6358 - val_loss: 0.6310 - val_accuracy: 0.6472\n",
      "Epoch 181/200\n",
      "6/6 [==============================] - 1s 100ms/step - loss: 0.6234 - accuracy: 0.6332 - val_loss: 0.6279 - val_accuracy: 0.6173\n",
      "Epoch 182/200\n",
      "6/6 [==============================] - 1s 98ms/step - loss: 0.6163 - accuracy: 0.6380 - val_loss: 0.6268 - val_accuracy: 0.6485\n",
      "Epoch 183/200\n",
      "6/6 [==============================] - 1s 101ms/step - loss: 0.6202 - accuracy: 0.6366 - val_loss: 0.6367 - val_accuracy: 0.6152\n",
      "Epoch 184/200\n",
      "6/6 [==============================] - 1s 101ms/step - loss: 0.6253 - accuracy: 0.6366 - val_loss: 0.6258 - val_accuracy: 0.6186\n",
      "Epoch 185/200\n",
      "6/6 [==============================] - 1s 101ms/step - loss: 0.6219 - accuracy: 0.6346 - val_loss: 0.6343 - val_accuracy: 0.6159\n",
      "Epoch 186/200\n",
      "6/6 [==============================] - 1s 97ms/step - loss: 0.6310 - accuracy: 0.6327 - val_loss: 0.6435 - val_accuracy: 0.6329\n",
      "Epoch 187/200\n",
      "6/6 [==============================] - 1s 101ms/step - loss: 0.6252 - accuracy: 0.6407 - val_loss: 0.6254 - val_accuracy: 0.6220\n",
      "Epoch 188/200\n",
      "6/6 [==============================] - 1s 98ms/step - loss: 0.6214 - accuracy: 0.6453 - val_loss: 0.6243 - val_accuracy: 0.6363\n",
      "Epoch 189/200\n",
      "6/6 [==============================] - 1s 96ms/step - loss: 0.6194 - accuracy: 0.6348 - val_loss: 0.6385 - val_accuracy: 0.6179\n",
      "Epoch 190/200\n",
      "6/6 [==============================] - 1s 97ms/step - loss: 0.6193 - accuracy: 0.6444 - val_loss: 0.6300 - val_accuracy: 0.6343\n",
      "Epoch 191/200\n",
      "6/6 [==============================] - 1s 97ms/step - loss: 0.6171 - accuracy: 0.6365 - val_loss: 0.6302 - val_accuracy: 0.6431\n",
      "Epoch 192/200\n",
      "6/6 [==============================] - 1s 103ms/step - loss: 0.6254 - accuracy: 0.6334 - val_loss: 0.6454 - val_accuracy: 0.6315\n",
      "Epoch 193/200\n",
      "6/6 [==============================] - 1s 98ms/step - loss: 0.6163 - accuracy: 0.6444 - val_loss: 0.6220 - val_accuracy: 0.6186\n",
      "Epoch 194/200\n",
      "6/6 [==============================] - 1s 101ms/step - loss: 0.6176 - accuracy: 0.6366 - val_loss: 0.6192 - val_accuracy: 0.6499\n",
      "Epoch 195/200\n",
      "6/6 [==============================] - 1s 98ms/step - loss: 0.6287 - accuracy: 0.6346 - val_loss: 0.6292 - val_accuracy: 0.6159\n",
      "Epoch 196/200\n",
      "6/6 [==============================] - 1s 99ms/step - loss: 0.6231 - accuracy: 0.6395 - val_loss: 0.6431 - val_accuracy: 0.6295\n",
      "Epoch 197/200\n",
      "6/6 [==============================] - 1s 96ms/step - loss: 0.6233 - accuracy: 0.6314 - val_loss: 0.6396 - val_accuracy: 0.6152\n",
      "Epoch 198/200\n",
      "6/6 [==============================] - 1s 101ms/step - loss: 0.6189 - accuracy: 0.6412 - val_loss: 0.6260 - val_accuracy: 0.6356\n",
      "Epoch 199/200\n",
      "6/6 [==============================] - 1s 101ms/step - loss: 0.6180 - accuracy: 0.6370 - val_loss: 0.6215 - val_accuracy: 0.6173\n",
      "Epoch 200/200\n",
      "6/6 [==============================] - 1s 100ms/step - loss: 0.6109 - accuracy: 0.6463 - val_loss: 0.6211 - val_accuracy: 0.6377\n"
     ]
    },
    {
     "data": {
      "image/png": "[encoded data removed]",
      "text/plain": [
       "<Figure size 640x480 with 1 Axes>"
      ]
     },
     "metadata": {},
     "output_type": "display_data"
    }
   ],
   "source": [
    "n_epochs = 200\n",
    "batch_size = 1024 \n",
    "\n",
    "history = model.fit(xtrain, ytrain, epochs = n_epochs, validation_split = 0.20, batch_size = batch_size, verbose = 1)\n",
    "\n",
    "plt.plot(np.array(history.history['loss']), \"r--\", label = \"Train loss\")\n",
    "plt.plot(np.array(history.history['accuracy']), \"g--\", label = \"Train accuracy\")\n",
    "plt.plot(np.array(history.history['val_loss']), \"r-\", label = \"Validation loss\")\n",
    "plt.plot(np.array(history.history['val_accuracy']), \"g-\", label = \"Validation accuracy\")\n",
    "plt.title(\"Training session's progress over iterations\")\n",
    "plt.legend(loc='lower left')\n",
    "plt.ylabel('Training Progress (Loss/Accuracy)')\n",
    "plt.xlabel('Training Epoch')\n",
    "plt.ylim(0) \n",
    "plt.show()"
   ]
  },
  {
   "cell_type": "code",
   "execution_count": null,
   "id": "c5b2276b-5a71-4ea0-b886-8fbdf698a429",
   "metadata": {},
   "outputs": [],
   "source": []
  },
  {
   "cell_type": "code",
   "execution_count": null,
   "id": "46420671-85b7-4a4f-9a80-b56a25659315",
   "metadata": {},
   "outputs": [],
   "source": []
  },
  {
   "cell_type": "code",
   "execution_count": null,
   "id": "c0652f8b-00a3-4abb-aaa0-19b7f882e76b",
   "metadata": {},
   "outputs": [],
   "source": []
  },
  {
   "cell_type": "code",
   "execution_count": null,
   "id": "a62eca2a-0c74-4fb7-9476-a7d2fec3e7a0",
   "metadata": {},
   "outputs": [],
   "source": []
  }
 ],
 "metadata": {
  "kernelspec": {
   "display_name": "Python 3 (ipykernel)",
   "language": "python",
   "name": "python3"
  },
  "language_info": {
   "codemirror_mode": {
    "name": "ipython",
    "version": 3
   },
   "file_extension": ".py",
   "mimetype": "text/x-python",
   "name": "python",
   "nbconvert_exporter": "python",
   "pygments_lexer": "ipython3",
   "version": "3.8.16"
  }
 },
 "nbformat": 4,
 "nbformat_minor": 5
}
