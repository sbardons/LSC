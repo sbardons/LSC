{
 "cells": [
  {
   "cell_type": "code",
   "execution_count": 1,
   "id": "a5f62250-5915-43d4-a67e-c4d43cbb4d4c",
   "metadata": {
    "tags": []
   },
   "outputs": [],
   "source": [
    "import tensorflow as tf\n",
    "import numpy as np"
   ]
  },
  {
   "cell_type": "code",
   "execution_count": 2,
   "id": "0938cca4-5d9d-4cf8-9938-7cabcebefde2",
   "metadata": {
    "tags": []
   },
   "outputs": [],
   "source": [
    "# create some arrays in numpy\n",
    "n=10\n",
    "X = np.linspace(0,10,n)\n",
    "Y = np.random.normal(size=(n,1))\n"
   ]
  },
  {
   "cell_type": "code",
   "execution_count": 6,
   "id": "796d5024-409f-41b4-a3b9-bd3f4c06f2d6",
   "metadata": {
    "tags": []
   },
   "outputs": [],
   "source": [
    "#Running in eager mode\n",
    "#some complex tensorflow code we want to repeat with different values\n",
    "X_in = tf.expand_dims(X,-1)\n",
    "Xs = tf.square(X_in)\n",
    "Xs = tf.reduce_sum(Xs, axis=-1, keepdims=True)\n",
    "dist = -2 * tf.matmul(X_in, X_in, transpose_b=True)\n",
    "dist += Xs + tf.linalg.matrix_transpose(Xs)\n",
    "K = tf.exp(-dist)\n",
    "K = K + (tf.eye(tf.shape(K)[0], dtype=tf.float64) * 1e-6)\n",
    "L = tf.linalg.cholesky(K)\n",
    "f = tf.matmul(L,Y)\n",
    "# end of the complex code"
   ]
  },
  {
   "cell_type": "code",
   "execution_count": 3,
   "id": "cc7cb740-fe12-450e-bcfe-687af3cafa25",
   "metadata": {
    "tags": []
   },
   "outputs": [
    {
     "data": {
      "text/plain": [
       "array([ 0.        ,  1.11111111,  2.22222222,  3.33333333,  4.44444444,\n",
       "        5.55555556,  6.66666667,  7.77777778,  8.88888889, 10.        ])"
      ]
     },
     "execution_count": 3,
     "metadata": {},
     "output_type": "execute_result"
    }
   ],
   "source": [
    "X"
   ]
  },
  {
   "cell_type": "code",
   "execution_count": 4,
   "id": "0b5f124d-b88f-4588-88d3-f023e88ec8c0",
   "metadata": {
    "tags": []
   },
   "outputs": [
    {
     "data": {
      "text/plain": [
       "array([[-2.2784691 ],\n",
       "       [-0.57883089],\n",
       "       [-1.27917737],\n",
       "       [ 0.86466702],\n",
       "       [-0.94556172],\n",
       "       [-0.10021122],\n",
       "       [-1.75358708],\n",
       "       [-1.08452046],\n",
       "       [-1.60878601],\n",
       "       [-0.06349697]])"
      ]
     },
     "execution_count": 4,
     "metadata": {},
     "output_type": "execute_result"
    }
   ],
   "source": [
    "Y"
   ]
  },
  {
   "cell_type": "code",
   "execution_count": 8,
   "id": "182dcecd-1112-46af-be62-209411206e94",
   "metadata": {
    "tags": []
   },
   "outputs": [
    {
     "name": "stdout",
     "output_type": "stream",
     "text": [
      "the code took  0.0041065216064453125  seconds to run\n"
     ]
    }
   ],
   "source": [
    "#Run the code with a timer - EAGER MODE\n",
    "import time\n",
    "\n",
    "def myfunction(X_in,Y_in):\n",
    "    # some complex tensorflow code we want to repeat with different values\n",
    "    X_in = tf.expand_dims(X_in,-1)\n",
    "    Xs = tf.square(X_in)\n",
    "    Xs = tf.reduce_sum(Xs, axis=-1, keepdims=True)\n",
    "    dist = -2 * tf.matmul(X_in, X_in, transpose_b=True)\n",
    "    dist += Xs + tf.linalg.matrix_transpose(Xs)\n",
    "    K = tf.exp(-dist)\n",
    "    K = K + (tf.eye(tf.shape(K)[0], dtype=tf.float64) * 1e-6)\n",
    "    L = tf.linalg.cholesky(K)\n",
    "    f = tf.matmul(L,Y_in)\n",
    "    # end of the complex code\n",
    "    return f\n",
    "\n",
    "# start the timer\n",
    "start = time.time()\n",
    "# run the code once\n",
    "Y = np.random.normal(size=(n,1))\n",
    "f_function = myfunction(X,Y)\n",
    "# report the time\n",
    "print('the code took ', time.time()-start, ' seconds to run')"
   ]
  },
  {
   "cell_type": "code",
   "execution_count": 10,
   "id": "222e6a8b-0a11-4654-9c3c-5c0aa3ce7b0e",
   "metadata": {
    "tags": []
   },
   "outputs": [
    {
     "name": "stdout",
     "output_type": "stream",
     "text": [
      "the loop took  11.056743860244751  seconds to run\n"
     ]
    }
   ],
   "source": [
    "# start the timer for a loop of function runs\n",
    "start = time.time()\n",
    "for i in range(5000):\n",
    "    Y = np.random.normal(size=(n,1))\n",
    "    f_function = myfunction(X,Y)\n",
    "# report the time\n",
    "print('the loop took ', time.time()-start, ' seconds to run')"
   ]
  },
  {
   "cell_type": "code",
   "execution_count": 11,
   "id": "a8cbb69f-5a0b-4726-b299-7fb95c2cf0c2",
   "metadata": {
    "tags": []
   },
   "outputs": [
    {
     "name": "stdout",
     "output_type": "stream",
     "text": [
      "the code took  0.26236581802368164  seconds to run\n",
      "the loop took  4.307241678237915  seconds to run\n"
     ]
    }
   ],
   "source": [
    "# create the function using the function decorator  - GRAPH MODE\n",
    "@tf.function\n",
    "def myfunction(X_in,Y_in):\n",
    "    # some complex tensorflow code we want to repeat with different values\n",
    "    X_in = tf.expand_dims(X_in,-1)\n",
    "    Xs = tf.square(X_in)\n",
    "    Xs = tf.reduce_sum(Xs, axis=-1, keepdims=True)\n",
    "    dist = -2 * tf.matmul(X_in, X_in, transpose_b=True)\n",
    "    dist += Xs + tf.linalg.matrix_transpose(Xs)\n",
    "    K = tf.exp(-dist)\n",
    "    K = K + (tf.eye(tf.shape(K)[0], dtype=tf.float64) * 1e-6)\n",
    "    L = tf.linalg.cholesky(K)\n",
    "    f = tf.matmul(L,Y_in)\n",
    "    # end of the complex code\n",
    "    return f\n",
    "\n",
    "# start the timer\n",
    "start = time.time()\n",
    "\n",
    "# run the code once\n",
    "Y = np.random.normal(size=(n,1))\n",
    "f_function = myfunction(X,Y)\n",
    "\n",
    "# report the time\n",
    "print('the code took ', time.time()-start, ' seconds to run')\n",
    "\n",
    "# start the timer for a loop of function runs\n",
    "start = time.time()\n",
    "for i in range(5000):\n",
    "    Y = np.random.normal(size=(n,1))\n",
    "    f_function = myfunction(X,Y)\n",
    "# report the time\n",
    "print('the loop took ', time.time()-start, ' seconds to run')"
   ]
  },
  {
   "cell_type": "code",
   "execution_count": null,
   "id": "92d3c43a-e8ff-4b83-b934-9387b30c467c",
   "metadata": {},
   "outputs": [],
   "source": []
  }
 ],
 "metadata": {
  "kernelspec": {
   "display_name": "Python 3 (ipykernel)",
   "language": "python",
   "name": "python3"
  },
  "language_info": {
   "codemirror_mode": {
    "name": "ipython",
    "version": 3
   },
   "file_extension": ".py",
   "mimetype": "text/x-python",
   "name": "python",
   "nbconvert_exporter": "python",
   "pygments_lexer": "ipython3",
   "version": "3.8.16"
  }
 },
 "nbformat": 4,
 "nbformat_minor": 5
}
