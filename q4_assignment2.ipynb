{
 "cells": [
  {
   "cell_type": "code",
   "execution_count": 2,
   "id": "2ac63668-9bc4-4890-a79e-491ba65077f2",
   "metadata": {},
   "outputs": [],
   "source": [
    "import tensorflow_probability as tfp\n",
    "\n",
    "tfd = tfp.distributions\n",
    "import numpy as np"
   ]
  },
  {
   "cell_type": "code",
   "execution_count": null,
   "id": "e4540a63-d4d0-4c7e-b687-35f57ed26c94",
   "metadata": {},
   "outputs": [],
   "source": [
    "dist_norm = tfd.Normal(loc=0,scale=1)\n",
    "dist_norm.sample(4)"
   ]
  },
  {
   "cell_type": "code",
   "execution_count": 3,
   "id": "5ff5ec57-6739-4be5-8b10-6a2e98e79b32",
   "metadata": {},
   "outputs": [
    {
     "name": "stderr",
     "output_type": "stream",
     "text": [
      "2023-07-15 18:12:38.831077: I tensorflow/core/platform/cpu_feature_guard.cc:151] This TensorFlow binary is optimized with oneAPI Deep Neural Network Library (oneDNN) to use the following CPU instructions in performance-critical operations:  AVX2 FMA\n",
      "To enable them in other operations, rebuild TensorFlow with the appropriate compiler flags.\n",
      "2023-07-15 18:12:39.359192: I tensorflow/core/common_runtime/gpu/gpu_device.cc:1525] Created device /job:localhost/replica:0/task:0/device:GPU:0 with 14661 MB memory:  -> device: 0, name: Tesla T4, pci bus id: 0001:00:00.0, compute capability: 7.5\n"
     ]
    }
   ],
   "source": [
    "gamma_dist = tfd.Gamma(concentration=3.0, rate=1.0)"
   ]
  },
  {
   "cell_type": "code",
   "execution_count": 6,
   "id": "831f62a8-0443-43c1-97ab-9db2c67026d8",
   "metadata": {},
   "outputs": [
    {
     "data": {
      "text/plain": [
       "3.0304656"
      ]
     },
     "execution_count": 6,
     "metadata": {},
     "output_type": "execute_result"
    }
   ],
   "source": [
    "np.mean(gamma_dist.sample(1000))"
   ]
  },
  {
   "cell_type": "code",
   "execution_count": 7,
   "id": "39e20268-0195-4a36-a238-a2e598ef1286",
   "metadata": {},
   "outputs": [
    {
     "name": "stdout",
     "output_type": "stream",
     "text": [
      "tf.Tensor(0.2706705, shape=(), dtype=float32)\n"
     ]
    }
   ],
   "source": [
    "observation = 2.0\n",
    "print(gamma_dist.prob(observation))"
   ]
  },
  {
   "cell_type": "code",
   "execution_count": 8,
   "id": "47235271-892f-4414-b88d-889232292dbd",
   "metadata": {},
   "outputs": [
    {
     "name": "stdout",
     "output_type": "stream",
     "text": [
      "tf.Tensor(-1.306853, shape=(), dtype=float32)\n"
     ]
    }
   ],
   "source": [
    "#the log probability density,\n",
    "print(gamma_dist.log_prob(observation))"
   ]
  },
  {
   "cell_type": "code",
   "execution_count": null,
   "id": "824627e3-7096-42e2-ba81-b8da276f46e4",
   "metadata": {},
   "outputs": [],
   "source": [
    " #The value of the cumulative probability density function (CDF) for the value 3 is:"
   ]
  },
  {
   "cell_type": "code",
   "execution_count": 11,
   "id": "b4839147-bb5c-4df4-adea-6e6585c099a4",
   "metadata": {},
   "outputs": [
    {
     "name": "stdout",
     "output_type": "stream",
     "text": [
      "tf.Tensor(0.5768099, shape=(), dtype=float32)\n"
     ]
    }
   ],
   "source": [
    "#or the cumulative probability density,\n",
    "observation = 3.0\n",
    "print(gamma_dist.cdf(observation))"
   ]
  },
  {
   "cell_type": "code",
   "execution_count": null,
   "id": "3a20af8f-bd14-42fc-8804-e2346dd2c7c6",
   "metadata": {},
   "outputs": [],
   "source": []
  },
  {
   "cell_type": "code",
   "execution_count": null,
   "id": "e6ae99e6-88c6-44d6-930f-ef73b0c251cd",
   "metadata": {},
   "outputs": [],
   "source": []
  },
  {
   "cell_type": "code",
   "execution_count": null,
   "id": "88ba6000-5da8-4e02-a2b5-6c7703d39945",
   "metadata": {},
   "outputs": [],
   "source": []
  },
  {
   "cell_type": "code",
   "execution_count": null,
   "id": "4acd5467-d8a9-47d1-b994-f4a03c920b5a",
   "metadata": {},
   "outputs": [],
   "source": []
  },
  {
   "cell_type": "code",
   "execution_count": null,
   "id": "84e9d5c8-9f46-4012-ab12-18c504d577e1",
   "metadata": {},
   "outputs": [],
   "source": []
  },
  {
   "cell_type": "code",
   "execution_count": null,
   "id": "db134ec7-7f0b-42f0-86b7-9f8836363e7d",
   "metadata": {},
   "outputs": [],
   "source": []
  }
 ],
 "metadata": {
  "kernelspec": {
   "display_name": "Python 3 (ipykernel)",
   "language": "python",
   "name": "python3"
  },
  "language_info": {
   "codemirror_mode": {
    "name": "ipython",
    "version": 3
   },
   "file_extension": ".py",
   "mimetype": "text/x-python",
   "name": "python",
   "nbconvert_exporter": "python",
   "pygments_lexer": "ipython3",
   "version": "3.8.16"
  }
 },
 "nbformat": 4,
 "nbformat_minor": 5
}
