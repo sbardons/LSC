{
 "cells": [
  {
   "cell_type": "markdown",
   "id": "23891b50-9e66-473b-a34c-567ab4b0ad86",
   "metadata": {},
   "source": [
    "# SparkR"
   ]
  },
  {
   "cell_type": "code",
   "execution_count": 1,
   "id": "e8d51992-85c0-469c-9c44-76aa30ebf694",
   "metadata": {},
   "outputs": [
    {
     "name": "stderr",
     "output_type": "stream",
     "text": [
      "\n",
      "Attaching package: ‘SparkR’\n",
      "\n",
      "\n",
      "The following object is masked from ‘package:ggplot2’:\n",
      "\n",
      "    expr\n",
      "\n",
      "\n",
      "The following objects are masked from ‘package:stats’:\n",
      "\n",
      "    cov, filter, lag, na.omit, predict, sd, var, window\n",
      "\n",
      "\n",
      "The following objects are masked from ‘package:base’:\n",
      "\n",
      "    as.data.frame, colnames, colnames<-, drop, endsWith, intersect,\n",
      "    rank, rbind, sample, startsWith, subset, summary, transform, union\n",
      "\n",
      "\n",
      "\n",
      "Attaching package: ‘magrittr’\n",
      "\n",
      "\n",
      "The following object is masked from ‘package:SparkR’:\n",
      "\n",
      "    not\n",
      "\n",
      "\n",
      "Spark package found in SPARK_HOME: /usr/local/spark\n",
      "\n"
     ]
    },
    {
     "name": "stdout",
     "output_type": "stream",
     "text": [
      "Launching java with spark-submit command /usr/local/spark/bin/spark-submit   --driver-memory \"1g\" sparkr-shell /tmp/RtmpgVkZRK/backend_port6434c9e3ca \n"
     ]
    },
    {
     "data": {
      "text/plain": [
       "Java ref type org.apache.spark.sql.SparkSession id 1 "
      ]
     },
     "metadata": {},
     "output_type": "display_data"
    }
   ],
   "source": [
    "library(ggplot2)\n",
    "library(SparkR)\n",
    "library(magrittr)\n",
    "\n",
    "# Launch SparkR in local mode with 1GB of memory allocated to it\n",
    "sparkR.session(master = \"local[*]\", sparkConfig = list(spark.driver.memory = \"1g\"))"
   ]
  },
  {
   "cell_type": "code",
   "execution_count": 34,
   "id": "f20d6395-2df6-4a7e-9845-ba285b5315d0",
   "metadata": {},
   "outputs": [],
   "source": [
    "#copy data from an R data.frame or tibble to Spark.\n",
    "diamonds_in_spark <- as.DataFrame(diamonds, numPartitions=8)"
   ]
  },
  {
   "cell_type": "code",
   "execution_count": 3,
   "id": "4138279a-7f30-4855-90d6-a10f32b11e46",
   "metadata": {},
   "outputs": [
    {
     "ename": "ERROR",
     "evalue": "Error in diamonds_in_spark[1, 2]: Expressions other than filtering predicates are not supported in the first parameter of extract operator [ or subset() method.\n",
     "output_type": "error",
     "traceback": [
      "Error in diamonds_in_spark[1, 2]: Expressions other than filtering predicates are not supported in the first parameter of extract operator [ or subset() method.\nTraceback:\n",
      "1. diamonds_in_spark[1, 2]",
      "2. diamonds_in_spark[1, 2]",
      "3. stop(\"Expressions other than filtering predicates are not supported \", \n .     \"in the first parameter of extract operator [ or subset() method.\")"
     ]
    }
   ],
   "source": [
    "diamonds_in_spark[1,2] #error because spark dataframes are immutable"
   ]
  },
  {
   "cell_type": "code",
   "execution_count": 26,
   "id": "5e9ca8e3-3195-423c-be02-013cc32186bd",
   "metadata": {},
   "outputs": [],
   "source": [
    "#transferring data back to R data.frame\n",
    "diamonds_back_in_R <- collect(diamonds_in_spark)"
   ]
  },
  {
   "cell_type": "code",
   "execution_count": 35,
   "id": "4c61bb46-1156-41bb-a12e-b0ba42f2ed24",
   "metadata": {},
   "outputs": [
    {
     "data": {
      "text/html": [
       "<table class=\"dataframe\">\n",
       "<caption>A data.frame: 6 × 10</caption>\n",
       "<thead>\n",
       "\t<tr><th></th><th scope=col>carat</th><th scope=col>cut</th><th scope=col>color</th><th scope=col>clarity</th><th scope=col>depth</th><th scope=col>table</th><th scope=col>price</th><th scope=col>x</th><th scope=col>y</th><th scope=col>z</th></tr>\n",
       "\t<tr><th></th><th scope=col>&lt;dbl&gt;</th><th scope=col>&lt;chr&gt;</th><th scope=col>&lt;chr&gt;</th><th scope=col>&lt;chr&gt;</th><th scope=col>&lt;dbl&gt;</th><th scope=col>&lt;dbl&gt;</th><th scope=col>&lt;int&gt;</th><th scope=col>&lt;dbl&gt;</th><th scope=col>&lt;dbl&gt;</th><th scope=col>&lt;dbl&gt;</th></tr>\n",
       "</thead>\n",
       "<tbody>\n",
       "\t<tr><th scope=row>1</th><td>0.23</td><td>Ideal    </td><td>E</td><td>SI2 </td><td>61.5</td><td>55</td><td>326</td><td>3.95</td><td>3.98</td><td>2.43</td></tr>\n",
       "\t<tr><th scope=row>2</th><td>0.21</td><td>Premium  </td><td>E</td><td>SI1 </td><td>59.8</td><td>61</td><td>326</td><td>3.89</td><td>3.84</td><td>2.31</td></tr>\n",
       "\t<tr><th scope=row>3</th><td>0.23</td><td>Good     </td><td>E</td><td>VS1 </td><td>56.9</td><td>65</td><td>327</td><td>4.05</td><td>4.07</td><td>2.31</td></tr>\n",
       "\t<tr><th scope=row>4</th><td>0.29</td><td>Premium  </td><td>I</td><td>VS2 </td><td>62.4</td><td>58</td><td>334</td><td>4.20</td><td>4.23</td><td>2.63</td></tr>\n",
       "\t<tr><th scope=row>5</th><td>0.31</td><td>Good     </td><td>J</td><td>SI2 </td><td>63.3</td><td>58</td><td>335</td><td>4.34</td><td>4.35</td><td>2.75</td></tr>\n",
       "\t<tr><th scope=row>6</th><td>0.24</td><td>Very Good</td><td>J</td><td>VVS2</td><td>62.8</td><td>57</td><td>336</td><td>3.94</td><td>3.96</td><td>2.48</td></tr>\n",
       "</tbody>\n",
       "</table>\n"
      ],
      "text/latex": [
       "A data.frame: 6 × 10\n",
       "\\begin{tabular}{r|llllllllll}\n",
       "  & carat & cut & color & clarity & depth & table & price & x & y & z\\\\\n",
       "  & <dbl> & <chr> & <chr> & <chr> & <dbl> & <dbl> & <int> & <dbl> & <dbl> & <dbl>\\\\\n",
       "\\hline\n",
       "\t1 & 0.23 & Ideal     & E & SI2  & 61.5 & 55 & 326 & 3.95 & 3.98 & 2.43\\\\\n",
       "\t2 & 0.21 & Premium   & E & SI1  & 59.8 & 61 & 326 & 3.89 & 3.84 & 2.31\\\\\n",
       "\t3 & 0.23 & Good      & E & VS1  & 56.9 & 65 & 327 & 4.05 & 4.07 & 2.31\\\\\n",
       "\t4 & 0.29 & Premium   & I & VS2  & 62.4 & 58 & 334 & 4.20 & 4.23 & 2.63\\\\\n",
       "\t5 & 0.31 & Good      & J & SI2  & 63.3 & 58 & 335 & 4.34 & 4.35 & 2.75\\\\\n",
       "\t6 & 0.24 & Very Good & J & VVS2 & 62.8 & 57 & 336 & 3.94 & 3.96 & 2.48\\\\\n",
       "\\end{tabular}\n"
      ],
      "text/markdown": [
       "\n",
       "A data.frame: 6 × 10\n",
       "\n",
       "| <!--/--> | carat &lt;dbl&gt; | cut &lt;chr&gt; | color &lt;chr&gt; | clarity &lt;chr&gt; | depth &lt;dbl&gt; | table &lt;dbl&gt; | price &lt;int&gt; | x &lt;dbl&gt; | y &lt;dbl&gt; | z &lt;dbl&gt; |\n",
       "|---|---|---|---|---|---|---|---|---|---|---|\n",
       "| 1 | 0.23 | Ideal     | E | SI2  | 61.5 | 55 | 326 | 3.95 | 3.98 | 2.43 |\n",
       "| 2 | 0.21 | Premium   | E | SI1  | 59.8 | 61 | 326 | 3.89 | 3.84 | 2.31 |\n",
       "| 3 | 0.23 | Good      | E | VS1  | 56.9 | 65 | 327 | 4.05 | 4.07 | 2.31 |\n",
       "| 4 | 0.29 | Premium   | I | VS2  | 62.4 | 58 | 334 | 4.20 | 4.23 | 2.63 |\n",
       "| 5 | 0.31 | Good      | J | SI2  | 63.3 | 58 | 335 | 4.34 | 4.35 | 2.75 |\n",
       "| 6 | 0.24 | Very Good | J | VVS2 | 62.8 | 57 | 336 | 3.94 | 3.96 | 2.48 |\n",
       "\n"
      ],
      "text/plain": [
       "  carat cut       color clarity depth table price x    y    z   \n",
       "1 0.23  Ideal     E     SI2     61.5  55    326   3.95 3.98 2.43\n",
       "2 0.21  Premium   E     SI1     59.8  61    326   3.89 3.84 2.31\n",
       "3 0.23  Good      E     VS1     56.9  65    327   4.05 4.07 2.31\n",
       "4 0.29  Premium   I     VS2     62.4  58    334   4.20 4.23 2.63\n",
       "5 0.31  Good      J     SI2     63.3  58    335   4.34 4.35 2.75\n",
       "6 0.24  Very Good J     VVS2    62.8  57    336   3.94 3.96 2.48"
      ]
     },
     "metadata": {},
     "output_type": "display_data"
    }
   ],
   "source": [
    "head(diamonds_in_spark)  #to see the first few raw of the dataframe"
   ]
  },
  {
   "cell_type": "code",
   "execution_count": 5,
   "id": "090216ea-4ab1-4922-b2fb-31604a65f72b",
   "metadata": {},
   "outputs": [],
   "source": [
    "write.df(diamonds_in_spark, 'sparkdiamonds.csv', mode='overwrite') # Export data to CSV\n",
    "diamonds_in_spark_2 <- read.df('sparkdiamonds.csv', 'csv') # Read data back into Spark"
   ]
  },
  {
   "cell_type": "markdown",
   "id": "859a31a6-8129-4d21-91ac-6460cbaca652",
   "metadata": {},
   "source": [
    "## Data wrangling"
   ]
  },
  {
   "cell_type": "code",
   "execution_count": 33,
   "id": "970dd8a3-38f3-4317-86c1-a4c629a7f780",
   "metadata": {},
   "outputs": [
    {
     "data": {
      "text/html": [
       "<table class=\"dataframe\">\n",
       "<caption>A data.frame: 6 × 10</caption>\n",
       "<thead>\n",
       "\t<tr><th></th><th scope=col>carat</th><th scope=col>cut</th><th scope=col>color</th><th scope=col>clarity</th><th scope=col>depth</th><th scope=col>table</th><th scope=col>price</th><th scope=col>x</th><th scope=col>y</th><th scope=col>z</th></tr>\n",
       "\t<tr><th></th><th scope=col>&lt;dbl&gt;</th><th scope=col>&lt;chr&gt;</th><th scope=col>&lt;chr&gt;</th><th scope=col>&lt;chr&gt;</th><th scope=col>&lt;dbl&gt;</th><th scope=col>&lt;dbl&gt;</th><th scope=col>&lt;int&gt;</th><th scope=col>&lt;dbl&gt;</th><th scope=col>&lt;dbl&gt;</th><th scope=col>&lt;dbl&gt;</th></tr>\n",
       "</thead>\n",
       "<tbody>\n",
       "\t<tr><th scope=row>1</th><td>1.17</td><td>Very Good</td><td>J</td><td>I1 </td><td>60.2</td><td>61</td><td>2774</td><td>6.83</td><td>6.90</td><td>4.13</td></tr>\n",
       "\t<tr><th scope=row>2</th><td>1.01</td><td>Premium  </td><td>F</td><td>I1 </td><td>61.8</td><td>60</td><td>2781</td><td>6.39</td><td>6.36</td><td>3.94</td></tr>\n",
       "\t<tr><th scope=row>3</th><td>1.01</td><td>Fair     </td><td>E</td><td>I1 </td><td>64.5</td><td>58</td><td>2788</td><td>6.29</td><td>6.21</td><td>4.03</td></tr>\n",
       "\t<tr><th scope=row>4</th><td>1.01</td><td>Premium  </td><td>H</td><td>SI2</td><td>62.7</td><td>59</td><td>2788</td><td>6.31</td><td>6.22</td><td>3.93</td></tr>\n",
       "\t<tr><th scope=row>5</th><td>1.05</td><td>Very Good</td><td>J</td><td>SI2</td><td>63.2</td><td>56</td><td>2789</td><td>6.49</td><td>6.45</td><td>4.09</td></tr>\n",
       "\t<tr><th scope=row>6</th><td>1.05</td><td>Fair     </td><td>J</td><td>SI2</td><td>65.8</td><td>59</td><td>2789</td><td>6.41</td><td>6.27</td><td>4.18</td></tr>\n",
       "</tbody>\n",
       "</table>\n"
      ],
      "text/latex": [
       "A data.frame: 6 × 10\n",
       "\\begin{tabular}{r|llllllllll}\n",
       "  & carat & cut & color & clarity & depth & table & price & x & y & z\\\\\n",
       "  & <dbl> & <chr> & <chr> & <chr> & <dbl> & <dbl> & <int> & <dbl> & <dbl> & <dbl>\\\\\n",
       "\\hline\n",
       "\t1 & 1.17 & Very Good & J & I1  & 60.2 & 61 & 2774 & 6.83 & 6.90 & 4.13\\\\\n",
       "\t2 & 1.01 & Premium   & F & I1  & 61.8 & 60 & 2781 & 6.39 & 6.36 & 3.94\\\\\n",
       "\t3 & 1.01 & Fair      & E & I1  & 64.5 & 58 & 2788 & 6.29 & 6.21 & 4.03\\\\\n",
       "\t4 & 1.01 & Premium   & H & SI2 & 62.7 & 59 & 2788 & 6.31 & 6.22 & 3.93\\\\\n",
       "\t5 & 1.05 & Very Good & J & SI2 & 63.2 & 56 & 2789 & 6.49 & 6.45 & 4.09\\\\\n",
       "\t6 & 1.05 & Fair      & J & SI2 & 65.8 & 59 & 2789 & 6.41 & 6.27 & 4.18\\\\\n",
       "\\end{tabular}\n"
      ],
      "text/markdown": [
       "\n",
       "A data.frame: 6 × 10\n",
       "\n",
       "| <!--/--> | carat &lt;dbl&gt; | cut &lt;chr&gt; | color &lt;chr&gt; | clarity &lt;chr&gt; | depth &lt;dbl&gt; | table &lt;dbl&gt; | price &lt;int&gt; | x &lt;dbl&gt; | y &lt;dbl&gt; | z &lt;dbl&gt; |\n",
       "|---|---|---|---|---|---|---|---|---|---|---|\n",
       "| 1 | 1.17 | Very Good | J | I1  | 60.2 | 61 | 2774 | 6.83 | 6.90 | 4.13 |\n",
       "| 2 | 1.01 | Premium   | F | I1  | 61.8 | 60 | 2781 | 6.39 | 6.36 | 3.94 |\n",
       "| 3 | 1.01 | Fair      | E | I1  | 64.5 | 58 | 2788 | 6.29 | 6.21 | 4.03 |\n",
       "| 4 | 1.01 | Premium   | H | SI2 | 62.7 | 59 | 2788 | 6.31 | 6.22 | 3.93 |\n",
       "| 5 | 1.05 | Very Good | J | SI2 | 63.2 | 56 | 2789 | 6.49 | 6.45 | 4.09 |\n",
       "| 6 | 1.05 | Fair      | J | SI2 | 65.8 | 59 | 2789 | 6.41 | 6.27 | 4.18 |\n",
       "\n"
      ],
      "text/plain": [
       "  carat cut       color clarity depth table price x    y    z   \n",
       "1 1.17  Very Good J     I1      60.2  61    2774  6.83 6.90 4.13\n",
       "2 1.01  Premium   F     I1      61.8  60    2781  6.39 6.36 3.94\n",
       "3 1.01  Fair      E     I1      64.5  58    2788  6.29 6.21 4.03\n",
       "4 1.01  Premium   H     SI2     62.7  59    2788  6.31 6.22 3.93\n",
       "5 1.05  Very Good J     SI2     63.2  56    2789  6.49 6.45 4.09\n",
       "6 1.05  Fair      J     SI2     65.8  59    2789  6.41 6.27 4.18"
      ]
     },
     "metadata": {},
     "output_type": "display_data"
    }
   ],
   "source": [
    "head(large_diamonds_in_spark)"
   ]
  },
  {
   "cell_type": "markdown",
   "id": "501768ac-949b-4e64-8567-60104b10f6f1",
   "metadata": {},
   "source": [
    "### filtering"
   ]
  },
  {
   "cell_type": "code",
   "execution_count": 32,
   "id": "e1f160fa-552d-4582-8e95-b7d9d045bec2",
   "metadata": {},
   "outputs": [],
   "source": [
    "large_diamonds_in_spark <- filter(diamonds_in_spark, diamonds_in_spark$carat>1)\n",
    "#or\n",
    "#large_diamonds_in_spark <- filter(diamonds_in_spark, column(\"carat\")>1)\n",
    "#or\n",
    "#large_diamonds_in_spark <- diamonds_in_spark[diamonds_in_spark$carat>1,]"
   ]
  },
  {
   "cell_type": "markdown",
   "id": "de0e2cd4-cda5-4a46-9183-570e5d95b077",
   "metadata": {},
   "source": [
    "### new variables"
   ]
  },
  {
   "cell_type": "code",
   "execution_count": 8,
   "id": "0f640cfd-1dbc-4eb6-9b41-691aa5d3b05a",
   "metadata": {},
   "outputs": [],
   "source": [
    "large_diamonds_in_spark <- mutate(large_diamonds_in_spark, mass=large_diamonds_in_spark$carat*0.2)\n",
    "#or\n",
    "#large_diamonds_in_spark <- mutate(large_diamonds_in_spark, mass=column(\"carat\")*0.2)\n",
    "#or\n",
    "#large_diamonds_in_spark$mass <- large_diamonds_in_spark$carat*0.2"
   ]
  },
  {
   "cell_type": "markdown",
   "id": "cfa8ddc7-c716-4562-b6bb-4f77b3c19ed3",
   "metadata": {},
   "source": [
    "### selecting variables"
   ]
  },
  {
   "cell_type": "code",
   "execution_count": 10,
   "id": "854e22f7-39a7-462d-bcd9-025ef335d7e2",
   "metadata": {},
   "outputs": [],
   "source": [
    "large_diamonds_in_spark <- select(large_diamonds_in_spark, c(\"mass\", \"cut\", \"price\"))\n",
    "#or\n",
    "#large_diamonds_in_spark <- large_diamonds_in_spark[, c(\"mass\", \"cut\", \"price\")]"
   ]
  },
  {
   "cell_type": "markdown",
   "id": "e5507303-02a8-48b5-abe7-a6a974fdfef8",
   "metadata": {},
   "source": [
    "### sorting data"
   ]
  },
  {
   "cell_type": "code",
   "execution_count": 12,
   "id": "cc987054-d4a0-4570-aa28-e20394c168f0",
   "metadata": {},
   "outputs": [],
   "source": [
    "large_diamonds_in_spark <- arrange(large_diamonds_in_spark, \"price\")   # option descending=TRUE"
   ]
  },
  {
   "cell_type": "markdown",
   "id": "78419b9a-f4d5-4965-a1cb-fe119472eee0",
   "metadata": {},
   "source": [
    "### grouping and summarising data"
   ]
  },
  {
   "cell_type": "code",
   "execution_count": 14,
   "id": "b171cdc0-79b8-4de2-8201-6b9054a034e1",
   "metadata": {},
   "outputs": [],
   "source": [
    "summary_in_spark <- summarize(group_by(large_diamonds_in_spark, \"cut\"), price=\"min\")\n",
    "#or\n",
    "#summary_in_spark <- summarize(group_by(large_diamonds_in_spark, \"cut\"),\n",
    "                 #min(column(\"price\")/column(\"mass\")))"
   ]
  },
  {
   "cell_type": "code",
   "execution_count": 15,
   "id": "cc9af733-6318-4305-8279-a7e4cb0d32eb",
   "metadata": {},
   "outputs": [
    {
     "data": {
      "text/html": [
       "<table class=\"dataframe\">\n",
       "<caption>A data.frame: 5 × 2</caption>\n",
       "<thead>\n",
       "\t<tr><th></th><th scope=col>cut</th><th scope=col>min(price)</th></tr>\n",
       "\t<tr><th></th><th scope=col>&lt;chr&gt;</th><th scope=col>&lt;int&gt;</th></tr>\n",
       "</thead>\n",
       "<tbody>\n",
       "\t<tr><th scope=row>1</th><td>Premium  </td><td>2017</td></tr>\n",
       "\t<tr><th scope=row>2</th><td>Ideal    </td><td>2416</td></tr>\n",
       "\t<tr><th scope=row>3</th><td>Good     </td><td>2066</td></tr>\n",
       "\t<tr><th scope=row>4</th><td>Fair     </td><td>1262</td></tr>\n",
       "\t<tr><th scope=row>5</th><td>Very Good</td><td>2080</td></tr>\n",
       "</tbody>\n",
       "</table>\n"
      ],
      "text/latex": [
       "A data.frame: 5 × 2\n",
       "\\begin{tabular}{r|ll}\n",
       "  & cut & min(price)\\\\\n",
       "  & <chr> & <int>\\\\\n",
       "\\hline\n",
       "\t1 & Premium   & 2017\\\\\n",
       "\t2 & Ideal     & 2416\\\\\n",
       "\t3 & Good      & 2066\\\\\n",
       "\t4 & Fair      & 1262\\\\\n",
       "\t5 & Very Good & 2080\\\\\n",
       "\\end{tabular}\n"
      ],
      "text/markdown": [
       "\n",
       "A data.frame: 5 × 2\n",
       "\n",
       "| <!--/--> | cut &lt;chr&gt; | min(price) &lt;int&gt; |\n",
       "|---|---|---|\n",
       "| 1 | Premium   | 2017 |\n",
       "| 2 | Ideal     | 2416 |\n",
       "| 3 | Good      | 2066 |\n",
       "| 4 | Fair      | 1262 |\n",
       "| 5 | Very Good | 2080 |\n",
       "\n"
      ],
      "text/plain": [
       "  cut       min(price)\n",
       "1 Premium   2017      \n",
       "2 Ideal     2416      \n",
       "3 Good      2066      \n",
       "4 Fair      1262      \n",
       "5 Very Good 2080      "
      ]
     },
     "metadata": {},
     "output_type": "display_data"
    }
   ],
   "source": [
    "head(summary_in_spark)"
   ]
  },
  {
   "cell_type": "code",
   "execution_count": 16,
   "id": "689f7940-d5cc-4804-9a51-86737b2a0c0b",
   "metadata": {},
   "outputs": [],
   "source": [
    "summary_in_spark2 <- summarize(group_by(large_diamonds_in_spark, \"cut\"),\n",
    "                 min(column(\"price\")/column(\"mass\")))"
   ]
  },
  {
   "cell_type": "code",
   "execution_count": 17,
   "id": "bb8b6a09-aac7-42bc-8e91-db287c981fa1",
   "metadata": {},
   "outputs": [
    {
     "data": {
      "text/html": [
       "<table class=\"dataframe\">\n",
       "<caption>A data.frame: 5 × 2</caption>\n",
       "<thead>\n",
       "\t<tr><th></th><th scope=col>cut</th><th scope=col>min((price / mass))</th></tr>\n",
       "\t<tr><th></th><th scope=col>&lt;chr&gt;</th><th scope=col>&lt;dbl&gt;</th></tr>\n",
       "</thead>\n",
       "<tbody>\n",
       "\t<tr><th scope=row>1</th><td>Premium  </td><td> 9833.333</td></tr>\n",
       "\t<tr><th scope=row>2</th><td>Ideal    </td><td>11960.396</td></tr>\n",
       "\t<tr><th scope=row>3</th><td>Good     </td><td> 9838.095</td></tr>\n",
       "\t<tr><th scope=row>4</th><td>Fair     </td><td> 6126.214</td></tr>\n",
       "\t<tr><th scope=row>5</th><td>Very Good</td><td> 9811.321</td></tr>\n",
       "</tbody>\n",
       "</table>\n"
      ],
      "text/latex": [
       "A data.frame: 5 × 2\n",
       "\\begin{tabular}{r|ll}\n",
       "  & cut & min((price / mass))\\\\\n",
       "  & <chr> & <dbl>\\\\\n",
       "\\hline\n",
       "\t1 & Premium   &  9833.333\\\\\n",
       "\t2 & Ideal     & 11960.396\\\\\n",
       "\t3 & Good      &  9838.095\\\\\n",
       "\t4 & Fair      &  6126.214\\\\\n",
       "\t5 & Very Good &  9811.321\\\\\n",
       "\\end{tabular}\n"
      ],
      "text/markdown": [
       "\n",
       "A data.frame: 5 × 2\n",
       "\n",
       "| <!--/--> | cut &lt;chr&gt; | min((price / mass)) &lt;dbl&gt; |\n",
       "|---|---|---|\n",
       "| 1 | Premium   |  9833.333 |\n",
       "| 2 | Ideal     | 11960.396 |\n",
       "| 3 | Good      |  9838.095 |\n",
       "| 4 | Fair      |  6126.214 |\n",
       "| 5 | Very Good |  9811.321 |\n",
       "\n"
      ],
      "text/plain": [
       "  cut       min((price / mass))\n",
       "1 Premium    9833.333          \n",
       "2 Ideal     11960.396          \n",
       "3 Good       9838.095          \n",
       "4 Fair       6126.214          \n",
       "5 Very Good  9811.321          "
      ]
     },
     "metadata": {},
     "output_type": "display_data"
    }
   ],
   "source": [
    "head(summary_in_spark2)"
   ]
  },
  {
   "cell_type": "code",
   "execution_count": 18,
   "id": "533674f8-4e44-4c76-992a-9ce08bdbaef6",
   "metadata": {},
   "outputs": [
    {
     "data": {
      "text/html": [
       "<table class=\"dataframe\">\n",
       "<caption>A data.frame: 5 × 2</caption>\n",
       "<thead>\n",
       "\t<tr><th></th><th scope=col>cut</th><th scope=col>min((price / mass))</th></tr>\n",
       "\t<tr><th></th><th scope=col>&lt;chr&gt;</th><th scope=col>&lt;dbl&gt;</th></tr>\n",
       "</thead>\n",
       "<tbody>\n",
       "\t<tr><th scope=row>1</th><td>Premium  </td><td> 9833.333</td></tr>\n",
       "\t<tr><th scope=row>2</th><td>Ideal    </td><td>11960.396</td></tr>\n",
       "\t<tr><th scope=row>3</th><td>Good     </td><td> 9838.095</td></tr>\n",
       "\t<tr><th scope=row>4</th><td>Fair     </td><td> 6126.214</td></tr>\n",
       "\t<tr><th scope=row>5</th><td>Very Good</td><td> 9811.321</td></tr>\n",
       "</tbody>\n",
       "</table>\n"
      ],
      "text/latex": [
       "A data.frame: 5 × 2\n",
       "\\begin{tabular}{r|ll}\n",
       "  & cut & min((price / mass))\\\\\n",
       "  & <chr> & <dbl>\\\\\n",
       "\\hline\n",
       "\t1 & Premium   &  9833.333\\\\\n",
       "\t2 & Ideal     & 11960.396\\\\\n",
       "\t3 & Good      &  9838.095\\\\\n",
       "\t4 & Fair      &  6126.214\\\\\n",
       "\t5 & Very Good &  9811.321\\\\\n",
       "\\end{tabular}\n"
      ],
      "text/markdown": [
       "\n",
       "A data.frame: 5 × 2\n",
       "\n",
       "| <!--/--> | cut &lt;chr&gt; | min((price / mass)) &lt;dbl&gt; |\n",
       "|---|---|---|\n",
       "| 1 | Premium   |  9833.333 |\n",
       "| 2 | Ideal     | 11960.396 |\n",
       "| 3 | Good      |  9838.095 |\n",
       "| 4 | Fair      |  6126.214 |\n",
       "| 5 | Very Good |  9811.321 |\n",
       "\n"
      ],
      "text/plain": [
       "  cut       min((price / mass))\n",
       "1 Premium    9833.333          \n",
       "2 Ideal     11960.396          \n",
       "3 Good       9838.095          \n",
       "4 Fair       6126.214          \n",
       "5 Very Good  9811.321          "
      ]
     },
     "metadata": {},
     "output_type": "display_data"
    }
   ],
   "source": [
    "collect(summary_in_spark2)  # bring back to R"
   ]
  },
  {
   "cell_type": "markdown",
   "id": "80094d90-8510-4091-b53a-1985d350755d",
   "metadata": {},
   "source": [
    "### merging data sets"
   ]
  },
  {
   "cell_type": "code",
   "execution_count": 19,
   "id": "0eb7a897-253c-4d80-8c39-7a2d3f48a7d0",
   "metadata": {},
   "outputs": [
    {
     "data": {
      "text/html": [
       "<table class=\"dataframe\">\n",
       "<caption>A data.frame: 5 × 2</caption>\n",
       "<thead>\n",
       "\t<tr><th></th><th scope=col>cut</th><th scope=col>coarse_cut</th></tr>\n",
       "\t<tr><th></th><th scope=col>&lt;chr&gt;</th><th scope=col>&lt;chr&gt;</th></tr>\n",
       "</thead>\n",
       "<tbody>\n",
       "\t<tr><th scope=row>1</th><td>Fair     </td><td>Fair       </td></tr>\n",
       "\t<tr><th scope=row>2</th><td>Good     </td><td>(Very) Good</td></tr>\n",
       "\t<tr><th scope=row>3</th><td>Very Good</td><td>(Very) Good</td></tr>\n",
       "\t<tr><th scope=row>4</th><td>Premium  </td><td>Premium+   </td></tr>\n",
       "\t<tr><th scope=row>5</th><td>Ideal    </td><td>Premium+   </td></tr>\n",
       "</tbody>\n",
       "</table>\n"
      ],
      "text/latex": [
       "A data.frame: 5 × 2\n",
       "\\begin{tabular}{r|ll}\n",
       "  & cut & coarse\\_cut\\\\\n",
       "  & <chr> & <chr>\\\\\n",
       "\\hline\n",
       "\t1 & Fair      & Fair       \\\\\n",
       "\t2 & Good      & (Very) Good\\\\\n",
       "\t3 & Very Good & (Very) Good\\\\\n",
       "\t4 & Premium   & Premium+   \\\\\n",
       "\t5 & Ideal     & Premium+   \\\\\n",
       "\\end{tabular}\n"
      ],
      "text/markdown": [
       "\n",
       "A data.frame: 5 × 2\n",
       "\n",
       "| <!--/--> | cut &lt;chr&gt; | coarse_cut &lt;chr&gt; |\n",
       "|---|---|---|\n",
       "| 1 | Fair      | Fair        |\n",
       "| 2 | Good      | (Very) Good |\n",
       "| 3 | Very Good | (Very) Good |\n",
       "| 4 | Premium   | Premium+    |\n",
       "| 5 | Ideal     | Premium+    |\n",
       "\n"
      ],
      "text/plain": [
       "  cut       coarse_cut \n",
       "1 Fair      Fair       \n",
       "2 Good      (Very) Good\n",
       "3 Very Good (Very) Good\n",
       "4 Premium   Premium+   \n",
       "5 Ideal     Premium+   "
      ]
     },
     "metadata": {},
     "output_type": "display_data"
    }
   ],
   "source": [
    "# creating coarser group\n",
    "cut_groups <- as.DataFrame(data.frame(cut=c(\"Fair\", \"Good\", \"Very Good\", \"Premium\", \"Ideal\"),\n",
    "    coarse_cut=c(\"Fair\", \"(Very) Good\", \"(Very) Good\",\"Premium+\", \"Premium+\")))\n",
    "\n",
    "head(cut_groups)"
   ]
  },
  {
   "cell_type": "code",
   "execution_count": 36,
   "id": "fea22e5b-9151-41f0-9b9e-d1d5c32e2ebd",
   "metadata": {},
   "outputs": [
    {
     "data": {
      "text/html": [
       "<table class=\"dataframe\">\n",
       "<caption>A data.frame: 6 × 12</caption>\n",
       "<thead>\n",
       "\t<tr><th></th><th scope=col>carat</th><th scope=col>cut_x</th><th scope=col>color</th><th scope=col>clarity</th><th scope=col>depth</th><th scope=col>table</th><th scope=col>price</th><th scope=col>x</th><th scope=col>y</th><th scope=col>z</th><th scope=col>cut_y</th><th scope=col>coarse_cut</th></tr>\n",
       "\t<tr><th></th><th scope=col>&lt;dbl&gt;</th><th scope=col>&lt;chr&gt;</th><th scope=col>&lt;chr&gt;</th><th scope=col>&lt;chr&gt;</th><th scope=col>&lt;dbl&gt;</th><th scope=col>&lt;dbl&gt;</th><th scope=col>&lt;int&gt;</th><th scope=col>&lt;dbl&gt;</th><th scope=col>&lt;dbl&gt;</th><th scope=col>&lt;dbl&gt;</th><th scope=col>&lt;chr&gt;</th><th scope=col>&lt;chr&gt;</th></tr>\n",
       "</thead>\n",
       "<tbody>\n",
       "\t<tr><th scope=row>1</th><td>1.01</td><td>Fair</td><td>E</td><td>I1 </td><td>64.5</td><td>58</td><td>2788</td><td>6.29</td><td>6.21</td><td>4.03</td><td>Fair</td><td>Fair</td></tr>\n",
       "\t<tr><th scope=row>2</th><td>1.05</td><td>Fair</td><td>J</td><td>SI2</td><td>65.8</td><td>59</td><td>2789</td><td>6.41</td><td>6.27</td><td>4.18</td><td>Fair</td><td>Fair</td></tr>\n",
       "\t<tr><th scope=row>3</th><td>1.01</td><td>Fair</td><td>E</td><td>SI2</td><td>67.4</td><td>60</td><td>2797</td><td>6.19</td><td>6.05</td><td>4.13</td><td>Fair</td><td>Fair</td></tr>\n",
       "\t<tr><th scope=row>4</th><td>1.20</td><td>Fair</td><td>F</td><td>I1 </td><td>64.6</td><td>56</td><td>2809</td><td>6.73</td><td>6.66</td><td>4.33</td><td>Fair</td><td>Fair</td></tr>\n",
       "\t<tr><th scope=row>5</th><td>1.01</td><td>Fair</td><td>H</td><td>SI2</td><td>65.4</td><td>59</td><td>2846</td><td>6.30</td><td>6.26</td><td>4.11</td><td>Fair</td><td>Fair</td></tr>\n",
       "\t<tr><th scope=row>6</th><td>1.02</td><td>Fair</td><td>I</td><td>SI1</td><td>53.0</td><td>63</td><td>2856</td><td>6.84</td><td>6.77</td><td>3.66</td><td>Fair</td><td>Fair</td></tr>\n",
       "</tbody>\n",
       "</table>\n"
      ],
      "text/latex": [
       "A data.frame: 6 × 12\n",
       "\\begin{tabular}{r|llllllllllll}\n",
       "  & carat & cut\\_x & color & clarity & depth & table & price & x & y & z & cut\\_y & coarse\\_cut\\\\\n",
       "  & <dbl> & <chr> & <chr> & <chr> & <dbl> & <dbl> & <int> & <dbl> & <dbl> & <dbl> & <chr> & <chr>\\\\\n",
       "\\hline\n",
       "\t1 & 1.01 & Fair & E & I1  & 64.5 & 58 & 2788 & 6.29 & 6.21 & 4.03 & Fair & Fair\\\\\n",
       "\t2 & 1.05 & Fair & J & SI2 & 65.8 & 59 & 2789 & 6.41 & 6.27 & 4.18 & Fair & Fair\\\\\n",
       "\t3 & 1.01 & Fair & E & SI2 & 67.4 & 60 & 2797 & 6.19 & 6.05 & 4.13 & Fair & Fair\\\\\n",
       "\t4 & 1.20 & Fair & F & I1  & 64.6 & 56 & 2809 & 6.73 & 6.66 & 4.33 & Fair & Fair\\\\\n",
       "\t5 & 1.01 & Fair & H & SI2 & 65.4 & 59 & 2846 & 6.30 & 6.26 & 4.11 & Fair & Fair\\\\\n",
       "\t6 & 1.02 & Fair & I & SI1 & 53.0 & 63 & 2856 & 6.84 & 6.77 & 3.66 & Fair & Fair\\\\\n",
       "\\end{tabular}\n"
      ],
      "text/markdown": [
       "\n",
       "A data.frame: 6 × 12\n",
       "\n",
       "| <!--/--> | carat &lt;dbl&gt; | cut_x &lt;chr&gt; | color &lt;chr&gt; | clarity &lt;chr&gt; | depth &lt;dbl&gt; | table &lt;dbl&gt; | price &lt;int&gt; | x &lt;dbl&gt; | y &lt;dbl&gt; | z &lt;dbl&gt; | cut_y &lt;chr&gt; | coarse_cut &lt;chr&gt; |\n",
       "|---|---|---|---|---|---|---|---|---|---|---|---|---|\n",
       "| 1 | 1.01 | Fair | E | I1  | 64.5 | 58 | 2788 | 6.29 | 6.21 | 4.03 | Fair | Fair |\n",
       "| 2 | 1.05 | Fair | J | SI2 | 65.8 | 59 | 2789 | 6.41 | 6.27 | 4.18 | Fair | Fair |\n",
       "| 3 | 1.01 | Fair | E | SI2 | 67.4 | 60 | 2797 | 6.19 | 6.05 | 4.13 | Fair | Fair |\n",
       "| 4 | 1.20 | Fair | F | I1  | 64.6 | 56 | 2809 | 6.73 | 6.66 | 4.33 | Fair | Fair |\n",
       "| 5 | 1.01 | Fair | H | SI2 | 65.4 | 59 | 2846 | 6.30 | 6.26 | 4.11 | Fair | Fair |\n",
       "| 6 | 1.02 | Fair | I | SI1 | 53.0 | 63 | 2856 | 6.84 | 6.77 | 3.66 | Fair | Fair |\n",
       "\n"
      ],
      "text/plain": [
       "  carat cut_x color clarity depth table price x    y    z    cut_y coarse_cut\n",
       "1 1.01  Fair  E     I1      64.5  58    2788  6.29 6.21 4.03 Fair  Fair      \n",
       "2 1.05  Fair  J     SI2     65.8  59    2789  6.41 6.27 4.18 Fair  Fair      \n",
       "3 1.01  Fair  E     SI2     67.4  60    2797  6.19 6.05 4.13 Fair  Fair      \n",
       "4 1.20  Fair  F     I1      64.6  56    2809  6.73 6.66 4.33 Fair  Fair      \n",
       "5 1.01  Fair  H     SI2     65.4  59    2846  6.30 6.26 4.11 Fair  Fair      \n",
       "6 1.02  Fair  I     SI1     53.0  63    2856  6.84 6.77 3.66 Fair  Fair      "
      ]
     },
     "metadata": {},
     "output_type": "display_data"
    }
   ],
   "source": [
    "large_diamonds_in_spark <- filter(diamonds_in_spark, column(\"carat\")>1)\n",
    "\n",
    "#merging\n",
    "large_diamonds_in_spark <- SparkR::merge(large_diamonds_in_spark, cut_groups, by=\"cut\")\n",
    "#We have used SparkR:: to ensure that we call the merge function from SparkR, rather than the function from base R.\n",
    "\n",
    "head(large_diamonds_in_spark)"
   ]
  },
  {
   "cell_type": "markdown",
   "id": "50c179e7-a80a-4bbe-b632-cf9e64b26fee",
   "metadata": {},
   "source": [
    "## Pipelines"
   ]
  },
  {
   "cell_type": "code",
   "execution_count": 38,
   "id": "3e9af17c-c25c-4260-833b-9f9717b1984e",
   "metadata": {},
   "outputs": [],
   "source": [
    "# SparkR does not provide a %>% operator, so the package magrittr needs to be loaded first.\n",
    "# Rewriting some of the commands from above.\n",
    "summary_in_spark <- diamonds_in_spark %>%\n",
    "                    filter(column(\"carat\")>1) %>%\n",
    "                    mutate(mass = column(\"carat\")*0.2) %>%\n",
    "                    select(c(\"mass\", \"cut\", \"color\", \"clarity\", \"price\")) %>%\n",
    "                    SparkR::merge(cut_groups, by=\"cut\") %>%\n",
    "                    group_by(\"coarse_cut\") %>%\n",
    "                    summarize(min(column(\"price\")/column(\"mass\")))"
   ]
  },
  {
   "cell_type": "code",
   "execution_count": 11,
   "id": "4aad4d73-dd0c-4054-b88b-9be99ce7b250",
   "metadata": {},
   "outputs": [
    {
     "name": "stdout",
     "output_type": "stream",
     "text": [
      "AdaptiveSparkPlan isFinalPlan=false\n",
      "+- HashAggregate(keys=[coarse_cut#125], functions=[min((cast(price#46 as double) / mass#179))], output=[coarse_cut#125, min((price / mass))#227])\n",
      "   +- Exchange hashpartitioning(coarse_cut#125, 200), ENSURE_REQUIREMENTS, [id=#311]\n",
      "      +- HashAggregate(keys=[coarse_cut#125], functions=[partial_min((cast(price#46 as double) / mass#179))], output=[coarse_cut#125, min#231])\n",
      "         +- Project [mass#179, price#46, coarse_cut#125]\n",
      "            +- SortMergeJoin [cut_x#196], [cut_y#197], Inner\n",
      "               :- Sort [cut_x#196 ASC NULLS FIRST], false, 0\n",
      "               :  +- Exchange hashpartitioning(cut_x#196, 200), ENSURE_REQUIREMENTS, [id=#303]\n",
      "               :     +- Project [(carat#40 * 0.2) AS mass#179, cut#41 AS cut_x#196, price#46]\n",
      "               :        +- Filter ((isnotnull(carat#40) AND (carat#40 > 1.0)) AND isnotnull(cut#41))\n",
      "               :           +- Scan ExistingRDD[carat#40,cut#41,color#42,clarity#43,depth#44,table#45,price#46,x#47,y#48,z#49]\n",
      "               +- Sort [cut_y#197 ASC NULLS FIRST], false, 0\n",
      "                  +- Exchange hashpartitioning(cut_y#197, 200), ENSURE_REQUIREMENTS, [id=#304]\n",
      "                     +- Project [cut#124 AS cut_y#197, coarse_cut#125]\n",
      "                        +- Filter isnotnull(cut#124)\n",
      "                           +- Scan ExistingRDD[cut#124,coarse_cut#125]\n"
     ]
    }
   ],
   "source": [
    "explain(summary_in_spark)"
   ]
  },
  {
   "cell_type": "code",
   "execution_count": 14,
   "id": "2c9a814a-3a76-4f62-a90c-eefa7aacd5fb",
   "metadata": {},
   "outputs": [
    {
     "data": {
      "text/html": [
       "<table class=\"dataframe\">\n",
       "<caption>A data.frame: 5 × 2</caption>\n",
       "<thead>\n",
       "\t<tr><th></th><th scope=col>cut</th><th scope=col>avg(price)</th></tr>\n",
       "\t<tr><th></th><th scope=col>&lt;chr&gt;</th><th scope=col>&lt;dbl&gt;</th></tr>\n",
       "</thead>\n",
       "<tbody>\n",
       "\t<tr><th scope=row>1</th><td>Premium  </td><td>8487.249</td></tr>\n",
       "\t<tr><th scope=row>2</th><td>Ideal    </td><td>8674.227</td></tr>\n",
       "\t<tr><th scope=row>3</th><td>Good     </td><td>7753.601</td></tr>\n",
       "\t<tr><th scope=row>4</th><td>Fair     </td><td>7177.856</td></tr>\n",
       "\t<tr><th scope=row>5</th><td>Very Good</td><td>8340.549</td></tr>\n",
       "</tbody>\n",
       "</table>\n"
      ],
      "text/latex": [
       "A data.frame: 5 × 2\n",
       "\\begin{tabular}{r|ll}\n",
       "  & cut & avg(price)\\\\\n",
       "  & <chr> & <dbl>\\\\\n",
       "\\hline\n",
       "\t1 & Premium   & 8487.249\\\\\n",
       "\t2 & Ideal     & 8674.227\\\\\n",
       "\t3 & Good      & 7753.601\\\\\n",
       "\t4 & Fair      & 7177.856\\\\\n",
       "\t5 & Very Good & 8340.549\\\\\n",
       "\\end{tabular}\n"
      ],
      "text/markdown": [
       "\n",
       "A data.frame: 5 × 2\n",
       "\n",
       "| <!--/--> | cut &lt;chr&gt; | avg(price) &lt;dbl&gt; |\n",
       "|---|---|---|\n",
       "| 1 | Premium   | 8487.249 |\n",
       "| 2 | Ideal     | 8674.227 |\n",
       "| 3 | Good      | 7753.601 |\n",
       "| 4 | Fair      | 7177.856 |\n",
       "| 5 | Very Good | 8340.549 |\n",
       "\n"
      ],
      "text/plain": [
       "  cut       avg(price)\n",
       "1 Premium   8487.249  \n",
       "2 Ideal     8674.227  \n",
       "3 Good      7753.601  \n",
       "4 Fair      7177.856  \n",
       "5 Very Good 8340.549  "
      ]
     },
     "metadata": {},
     "output_type": "display_data"
    }
   ],
   "source": [
    "collect(summary_in_spark)"
   ]
  },
  {
   "cell_type": "markdown",
   "id": "bc6235ed-fd3c-4de8-ad50-28bb9ee861bb",
   "metadata": {},
   "source": [
    "## SQL interface"
   ]
  },
  {
   "cell_type": "code",
   "execution_count": 39,
   "id": "df57a331-4d8f-49a9-8a3d-9f9897e55a13",
   "metadata": {},
   "outputs": [
    {
     "data": {
      "text/html": [
       "<table class=\"dataframe\">\n",
       "<caption>A data.frame: 5 × 2</caption>\n",
       "<thead>\n",
       "\t<tr><th></th><th scope=col>cut</th><th scope=col>avg(price)</th></tr>\n",
       "\t<tr><th></th><th scope=col>&lt;chr&gt;</th><th scope=col>&lt;dbl&gt;</th></tr>\n",
       "</thead>\n",
       "<tbody>\n",
       "\t<tr><th scope=row>1</th><td>Premium  </td><td>8487.249</td></tr>\n",
       "\t<tr><th scope=row>2</th><td>Ideal    </td><td>8674.227</td></tr>\n",
       "\t<tr><th scope=row>3</th><td>Good     </td><td>7753.601</td></tr>\n",
       "\t<tr><th scope=row>4</th><td>Fair     </td><td>7177.856</td></tr>\n",
       "\t<tr><th scope=row>5</th><td>Very Good</td><td>8340.549</td></tr>\n",
       "</tbody>\n",
       "</table>\n"
      ],
      "text/latex": [
       "A data.frame: 5 × 2\n",
       "\\begin{tabular}{r|ll}\n",
       "  & cut & avg(price)\\\\\n",
       "  & <chr> & <dbl>\\\\\n",
       "\\hline\n",
       "\t1 & Premium   & 8487.249\\\\\n",
       "\t2 & Ideal     & 8674.227\\\\\n",
       "\t3 & Good      & 7753.601\\\\\n",
       "\t4 & Fair      & 7177.856\\\\\n",
       "\t5 & Very Good & 8340.549\\\\\n",
       "\\end{tabular}\n"
      ],
      "text/markdown": [
       "\n",
       "A data.frame: 5 × 2\n",
       "\n",
       "| <!--/--> | cut &lt;chr&gt; | avg(price) &lt;dbl&gt; |\n",
       "|---|---|---|\n",
       "| 1 | Premium   | 8487.249 |\n",
       "| 2 | Ideal     | 8674.227 |\n",
       "| 3 | Good      | 7753.601 |\n",
       "| 4 | Fair      | 7177.856 |\n",
       "| 5 | Very Good | 8340.549 |\n",
       "\n"
      ],
      "text/plain": [
       "  cut       avg(price)\n",
       "1 Premium   8487.249  \n",
       "2 Ideal     8674.227  \n",
       "3 Good      7753.601  \n",
       "4 Fair      7177.856  \n",
       "5 Very Good 8340.549  "
      ]
     },
     "metadata": {},
     "output_type": "display_data"
    }
   ],
   "source": [
    "# Make diamonds_in_spark available as \"diamonds\" in SparkSQL\n",
    "createOrReplaceTempView(diamonds_in_spark, \"diamonds\")    \n",
    "summary_in_spark <- sql(\"SELECT cut, AVG(price) from diamonds WHERE carat>1 GROUP BY cut\")\n",
    "collect(summary_in_spark)"
   ]
  },
  {
   "cell_type": "markdown",
   "id": "5d889282-5540-4482-a05b-faf8fc030928",
   "metadata": {},
   "source": [
    "### dapply   distributed apply"
   ]
  },
  {
   "cell_type": "code",
   "execution_count": 44,
   "id": "45bc7390-80de-4b3e-a9f0-65734dc4701f",
   "metadata": {},
   "outputs": [
    {
     "ename": "ERROR",
     "evalue": "Error in handleErrors(returnStatus, conn): org.apache.spark.SparkException: Job aborted due to stage failure: Task 0 in stage 87.0 failed 1 times, most recent failure: Lost task 0.0 in stage 87.0 (TID 156) (jupyter-2871228b executor driver): org.apache.spark.SparkException: R unexpectedly exited.\nR worker produced errors: Error in writeBin(batch, con, endian = \"big\") : ignoring SIGPIPE signal\nIn addition: Warning message:\nIn writeBin(as.integer(value), con, endian = \"big\") :\n  problem writing to connection\nError in readBin(con, raw(), len, endian = \"big\") : invalid 'n' argument\nError in readBin(con, raw(), len, endian = \"big\") : invalid 'n' argument\n\n\tat org.apache.spark.api.r.BaseRRunner$ReaderIterator$$anonfun$1.applyOrElse(BaseRRunner.scala:144)\n\tat org.apache.spark.api.r.BaseRRunner$ReaderIterator$$anonfun$1.applyOrElse(BaseRRunner.scala:137)\n\tat scala.runtime.AbstractPartialFunction.apply(AbstractPartialFunction.scala:38)\n\tat org.apache.spark.api.r.RRunner$$anon$1.read(RRunner.scala:127)\n\tat org.apache.spark.api.r.BaseRRunner$ReaderIterator.hasNext(BaseRRunner.scala:113)\n\tat scala.collection.Iterator$$anon$10.hasNext(Iterator.scala:460)\n\tat scala.collection.Iterator$$anon$10.hasNext(Iterator.scala:460)\n\tat org.apache.spark.sql.catalyst.expressions.GeneratedClass$GeneratedIteratorForCodegenStage7.processNext(Unknown Source)\n\tat org.apache.spark.sql.execution.BufferedRowIterator.hasNext(BufferedRowIterator.java:43)\n\tat org.apache.spark.sql.execution.WholeStageCodegenExec$$anon$1.hasNext(WholeStageCodegenExec.scala:759)\n\tat org.apache.spark.sql.execution.SparkPlan.$anonfun$getByteArrayRdd$1(SparkPlan.scala:349)\n\tat org.apache.spark.rdd.RDD.$anonfun$mapPartitionsInternal$2(RDD.scala:898)\n\tat org.apache.spark.rdd.RDD.$anonfun$mapPartitionsInternal$2$adapted(RDD.scala:898)\n\tat org.apache.spark.rdd.MapPartitionsRDD.compute(MapPartitionsRDD.scala:52)\n\tat org.apache.spark.rdd.RDD.computeOrReadCheckpoint(RDD.scala:373)\n\tat org.apache.spark.rdd.RDD.iterator(RDD.scala:337)\n\tat org.apache.spark.scheduler.ResultTask.runTask(ResultTask.scala:90)\n\tat org.apache.spark.scheduler.Task.run(Task.scala:131)\n\tat org.apache.spark.executor.Executor$TaskRunner.$anonfun$run$3(Executor.scala:506)\n\tat org.apache.spark.util.Utils$.tryWithSafeFinally(Utils.scala:1462)\n\tat org.apache.spark.executor.Executor$TaskRunner.run(Executor.scala:509)\n\tat java.base/java.util.concurrent.ThreadPoolExecutor.runWorker(ThreadPoolExecutor.java:1128)\n\tat java.base/java.util.concurrent.ThreadPoolExecutor$Worker.run(ThreadPoolExecutor.java:628)\n\tat java.base/java.lang.Thread.run(Thread.java:829)\nCaused by: java.io.EOFException\n\tat java.base/java.io.DataInputStream.readInt(DataInputStream.java:397)\n\tat org.apache.spark.api.r.RRunner$$anon$1.read(RRunner.scala:97)\n\t... 20 more\n\nDriver stacktrace:\n\tat org.apache.spark.scheduler.DAGScheduler.failJobAndIndependentStages(DAGScheduler.scala:2454)\n\tat org.apache.spark.scheduler.DAGScheduler.$anonfun$abortStage$2(DAGScheduler.scala:2403)\n\tat org.apache.spark.scheduler.DAGScheduler.$anonfun$abortStage$2$adapted(DAGScheduler.scala:2402)\n\tat scala.collection.mutable.ResizableArray.foreach(ResizableArray.scala:62)\n\tat scala.collection.mutable.ResizableArray.foreach$(ResizableArray.scala:55)\n\tat scala.collection.mutable.ArrayBuffer.foreach(ArrayBuffer.scala:49)\n\tat org.apache.spark.scheduler.DAGScheduler.abortStage(DAGScheduler.scala:2402)\n\tat org.apache.spark.scheduler.DAGScheduler.$anonfun$handleTaskSetFailed$1(DAGScheduler.scala:1160)\n\tat org.apache.spark.scheduler.DAGScheduler.$anonfun$handleTaskSetFailed$1$adapted(DAGScheduler.scala:1160)\n\tat scala.Option.foreach(Option.scala:407)\n\tat org.apache.spark.scheduler.DAGScheduler.handleTaskSetFailed(DAGScheduler.scala:1160)\n\tat org.apache.spark.scheduler.DAGSchedulerEventProcessLoop.doOnReceive(DAGScheduler.scala:2642)\n\tat org.apache.spark.scheduler.DAGSchedulerEventProcessLoop.onReceive(DAGScheduler.scala:2584)\n\tat org.apache.spark.scheduler.DAGSchedulerEventProcessLoop.onReceive(DAGScheduler.scala:2573)\n\tat org.apache.spark.util.EventLoop$$anon$1.run(EventLoop.scala:49)\n\tat org.apache.spark.scheduler.DAGScheduler.runJob(DAGScheduler.scala:938)\n\tat org.apache.spark.SparkContext.runJob(SparkContext.scala:2214)\n\tat org.apache.spark.SparkContext.runJob(SparkContext.scala:2235)\n\tat org.apache.spark.SparkContext.runJob(SparkContext.scala:2254)\n\tat org.apache.spark.sql.execution.SparkPlan.executeTake(SparkPlan.scala:476)\n\tat org.apache.spark.sql.execution.SparkPlan.executeTake(SparkPlan.scala:429)\n\tat org.apache.spark.sql.execution.CollectLimitExec.executeCollect(limit.scala:48)\n\tat org.apache.spark.sql.execution.adaptive.AdaptiveSparkPlanExec.$anonfun$executeCollect$1(AdaptiveSparkPlanExec.scala:338)\n\tat org.apache.spark.sql.execution.adaptive.AdaptiveSparkPlanExec.withFinalPlanUpdate(AdaptiveSparkPlanExec.scala:366)\n\tat org.apache.spark.sql.execution.adaptive.AdaptiveSparkPlanExec.executeCollect(AdaptiveSparkPlanExec.scala:338)\n\tat org.apache.spark.sql.Dataset.collectFromPlan(Dataset.scala:3715)\n\tat org.apache.spark.sql.Dataset.$anonfun$collect$1(Dataset.scala:2971)\n\tat org.apache.spark.sql.Dataset.$anonfun$withAction$1(Dataset.scala:3706)\n\tat org.apache.spark.sql.execution.SQLExecution$.$anonfun$withNewExecutionId$5(SQLExecution.scala:103)\n\tat org.apache.spark.sql.execution.SQLExecution$.withSQLConfPropagated(SQLExecution.scala:163)\n\tat org.apache.spark.sql.execution.SQLExecution$.$anonfun$withNewExecutionId$1(SQLExecution.scala:90)\n\tat org.apache.spark.sql.SparkSession.withActive(SparkSession.scala:775)\n\tat org.apache.spark.sql.execution.SQLExecution$.withNewExecutionId(SQLExecution.scala:64)\n\tat org.apache.spark.sql.Dataset.withAction(Dataset.scala:3704)\n\tat org.apache.spark.sql.Dataset.collect(Dataset.scala:2971)\n\tat org.apache.spark.sql.api.r.SQLUtils$.dfToCols(SQLUtils.scala:175)\n\tat org.apache.spark.sql.api.r.SQLUtils.dfToCols(SQLUtils.scala)\n\tat jdk.internal.reflect.GeneratedMethodAccessor76.invoke(Unknown Source)\n\tat java.base/jdk.internal.reflect.DelegatingMethodAccessorImpl.invoke(DelegatingMethodAccessorImpl.java:43)\n\tat java.base/java.lang.reflect.Method.invoke(Method.java:566)\n\tat org.apache.spark.api.r.RBackendHandler.handleMethodCall(RBackendHandler.scala:164)\n\tat org.apache.spark.api.r.RBackendHandler.channelRead0(RBackendHandler.scala:105)\n\tat org.apache.spark.api.r.RBackendHandler.channelRead0(RBackendHandler.scala:39)\n\tat io.netty.channel.SimpleChannelInboundHandler.channelRead(SimpleChannelInboundHandler.java:99)\n\tat io.netty.channel.AbstractChannelHandlerContext.invokeChannelRead(AbstractChannelHandlerContext.java:379)\n\tat io.netty.channel.AbstractChannelHandlerContext.invokeChannelRead(AbstractChannelHandlerContext.java:365)\n\tat io.netty.channel.AbstractChannelHandlerContext.fireChannelRead(AbstractChannelHandlerContext.java:357)\n\tat io.netty.handler.timeout.IdleStateHandler.channelRead(IdleStateHandler.java:286)\n\tat io.netty.channel.AbstractChannelHandlerContext.invokeChannelRead(AbstractChannelHandlerContext.java:379)\n\tat io.netty.channel.AbstractChannelHandlerContext.invokeChannelRead(AbstractChannelHandlerContext.java:365)\n\tat io.netty.channel.AbstractChannelHandlerContext.fireChannelRead(AbstractChannelHandlerContext.java:357)\n\tat io.netty.handler.codec.MessageToMessageDecoder.channelRead(MessageToMessageDecoder.java:103)\n\tat io.netty.channel.AbstractChannelHandlerContext.invokeChannelRead(AbstractChannelHandlerContext.java:379)\n\tat io.netty.channel.AbstractChannelHandlerContext.invokeChannelRead(AbstractChannelHandlerContext.java:365)\n\tat io.netty.channel.AbstractChannelHandlerContext.fireChannelRead(AbstractChannelHandlerContext.java:357)\n\tat io.netty.handler.codec.ByteToMessageDecoder.fireChannelRead(ByteToMessageDecoder.java:324)\n\tat io.netty.handler.codec.ByteToMessageDecoder.channelRead(ByteToMessageDecoder.java:296)\n\tat io.netty.channel.AbstractChannelHandlerContext.invokeChannelRead(AbstractChannelHandlerContext.java:379)\n\tat io.netty.channel.AbstractChannelHandlerContext.invokeChannelRead(AbstractChannelHandlerContext.java:365)\n\tat io.netty.channel.AbstractChannelHandlerContext.fireChannelRead(AbstractChannelHandlerContext.java:357)\n\tat io.netty.channel.DefaultChannelPipeline$HeadContext.channelRead(Def\n",
     "output_type": "error",
     "traceback": [
      "Error in handleErrors(returnStatus, conn): org.apache.spark.SparkException: Job aborted due to stage failure: Task 0 in stage 87.0 failed 1 times, most recent failure: Lost task 0.0 in stage 87.0 (TID 156) (jupyter-2871228b executor driver): org.apache.spark.SparkException: R unexpectedly exited.\nR worker produced errors: Error in writeBin(batch, con, endian = \"big\") : ignoring SIGPIPE signal\nIn addition: Warning message:\nIn writeBin(as.integer(value), con, endian = \"big\") :\n  problem writing to connection\nError in readBin(con, raw(), len, endian = \"big\") : invalid 'n' argument\nError in readBin(con, raw(), len, endian = \"big\") : invalid 'n' argument\n\n\tat org.apache.spark.api.r.BaseRRunner$ReaderIterator$$anonfun$1.applyOrElse(BaseRRunner.scala:144)\n\tat org.apache.spark.api.r.BaseRRunner$ReaderIterator$$anonfun$1.applyOrElse(BaseRRunner.scala:137)\n\tat scala.runtime.AbstractPartialFunction.apply(AbstractPartialFunction.scala:38)\n\tat org.apache.spark.api.r.RRunner$$anon$1.read(RRunner.scala:127)\n\tat org.apache.spark.api.r.BaseRRunner$ReaderIterator.hasNext(BaseRRunner.scala:113)\n\tat scala.collection.Iterator$$anon$10.hasNext(Iterator.scala:460)\n\tat scala.collection.Iterator$$anon$10.hasNext(Iterator.scala:460)\n\tat org.apache.spark.sql.catalyst.expressions.GeneratedClass$GeneratedIteratorForCodegenStage7.processNext(Unknown Source)\n\tat org.apache.spark.sql.execution.BufferedRowIterator.hasNext(BufferedRowIterator.java:43)\n\tat org.apache.spark.sql.execution.WholeStageCodegenExec$$anon$1.hasNext(WholeStageCodegenExec.scala:759)\n\tat org.apache.spark.sql.execution.SparkPlan.$anonfun$getByteArrayRdd$1(SparkPlan.scala:349)\n\tat org.apache.spark.rdd.RDD.$anonfun$mapPartitionsInternal$2(RDD.scala:898)\n\tat org.apache.spark.rdd.RDD.$anonfun$mapPartitionsInternal$2$adapted(RDD.scala:898)\n\tat org.apache.spark.rdd.MapPartitionsRDD.compute(MapPartitionsRDD.scala:52)\n\tat org.apache.spark.rdd.RDD.computeOrReadCheckpoint(RDD.scala:373)\n\tat org.apache.spark.rdd.RDD.iterator(RDD.scala:337)\n\tat org.apache.spark.scheduler.ResultTask.runTask(ResultTask.scala:90)\n\tat org.apache.spark.scheduler.Task.run(Task.scala:131)\n\tat org.apache.spark.executor.Executor$TaskRunner.$anonfun$run$3(Executor.scala:506)\n\tat org.apache.spark.util.Utils$.tryWithSafeFinally(Utils.scala:1462)\n\tat org.apache.spark.executor.Executor$TaskRunner.run(Executor.scala:509)\n\tat java.base/java.util.concurrent.ThreadPoolExecutor.runWorker(ThreadPoolExecutor.java:1128)\n\tat java.base/java.util.concurrent.ThreadPoolExecutor$Worker.run(ThreadPoolExecutor.java:628)\n\tat java.base/java.lang.Thread.run(Thread.java:829)\nCaused by: java.io.EOFException\n\tat java.base/java.io.DataInputStream.readInt(DataInputStream.java:397)\n\tat org.apache.spark.api.r.RRunner$$anon$1.read(RRunner.scala:97)\n\t... 20 more\n\nDriver stacktrace:\n\tat org.apache.spark.scheduler.DAGScheduler.failJobAndIndependentStages(DAGScheduler.scala:2454)\n\tat org.apache.spark.scheduler.DAGScheduler.$anonfun$abortStage$2(DAGScheduler.scala:2403)\n\tat org.apache.spark.scheduler.DAGScheduler.$anonfun$abortStage$2$adapted(DAGScheduler.scala:2402)\n\tat scala.collection.mutable.ResizableArray.foreach(ResizableArray.scala:62)\n\tat scala.collection.mutable.ResizableArray.foreach$(ResizableArray.scala:55)\n\tat scala.collection.mutable.ArrayBuffer.foreach(ArrayBuffer.scala:49)\n\tat org.apache.spark.scheduler.DAGScheduler.abortStage(DAGScheduler.scala:2402)\n\tat org.apache.spark.scheduler.DAGScheduler.$anonfun$handleTaskSetFailed$1(DAGScheduler.scala:1160)\n\tat org.apache.spark.scheduler.DAGScheduler.$anonfun$handleTaskSetFailed$1$adapted(DAGScheduler.scala:1160)\n\tat scala.Option.foreach(Option.scala:407)\n\tat org.apache.spark.scheduler.DAGScheduler.handleTaskSetFailed(DAGScheduler.scala:1160)\n\tat org.apache.spark.scheduler.DAGSchedulerEventProcessLoop.doOnReceive(DAGScheduler.scala:2642)\n\tat org.apache.spark.scheduler.DAGSchedulerEventProcessLoop.onReceive(DAGScheduler.scala:2584)\n\tat org.apache.spark.scheduler.DAGSchedulerEventProcessLoop.onReceive(DAGScheduler.scala:2573)\n\tat org.apache.spark.util.EventLoop$$anon$1.run(EventLoop.scala:49)\n\tat org.apache.spark.scheduler.DAGScheduler.runJob(DAGScheduler.scala:938)\n\tat org.apache.spark.SparkContext.runJob(SparkContext.scala:2214)\n\tat org.apache.spark.SparkContext.runJob(SparkContext.scala:2235)\n\tat org.apache.spark.SparkContext.runJob(SparkContext.scala:2254)\n\tat org.apache.spark.sql.execution.SparkPlan.executeTake(SparkPlan.scala:476)\n\tat org.apache.spark.sql.execution.SparkPlan.executeTake(SparkPlan.scala:429)\n\tat org.apache.spark.sql.execution.CollectLimitExec.executeCollect(limit.scala:48)\n\tat org.apache.spark.sql.execution.adaptive.AdaptiveSparkPlanExec.$anonfun$executeCollect$1(AdaptiveSparkPlanExec.scala:338)\n\tat org.apache.spark.sql.execution.adaptive.AdaptiveSparkPlanExec.withFinalPlanUpdate(AdaptiveSparkPlanExec.scala:366)\n\tat org.apache.spark.sql.execution.adaptive.AdaptiveSparkPlanExec.executeCollect(AdaptiveSparkPlanExec.scala:338)\n\tat org.apache.spark.sql.Dataset.collectFromPlan(Dataset.scala:3715)\n\tat org.apache.spark.sql.Dataset.$anonfun$collect$1(Dataset.scala:2971)\n\tat org.apache.spark.sql.Dataset.$anonfun$withAction$1(Dataset.scala:3706)\n\tat org.apache.spark.sql.execution.SQLExecution$.$anonfun$withNewExecutionId$5(SQLExecution.scala:103)\n\tat org.apache.spark.sql.execution.SQLExecution$.withSQLConfPropagated(SQLExecution.scala:163)\n\tat org.apache.spark.sql.execution.SQLExecution$.$anonfun$withNewExecutionId$1(SQLExecution.scala:90)\n\tat org.apache.spark.sql.SparkSession.withActive(SparkSession.scala:775)\n\tat org.apache.spark.sql.execution.SQLExecution$.withNewExecutionId(SQLExecution.scala:64)\n\tat org.apache.spark.sql.Dataset.withAction(Dataset.scala:3704)\n\tat org.apache.spark.sql.Dataset.collect(Dataset.scala:2971)\n\tat org.apache.spark.sql.api.r.SQLUtils$.dfToCols(SQLUtils.scala:175)\n\tat org.apache.spark.sql.api.r.SQLUtils.dfToCols(SQLUtils.scala)\n\tat jdk.internal.reflect.GeneratedMethodAccessor76.invoke(Unknown Source)\n\tat java.base/jdk.internal.reflect.DelegatingMethodAccessorImpl.invoke(DelegatingMethodAccessorImpl.java:43)\n\tat java.base/java.lang.reflect.Method.invoke(Method.java:566)\n\tat org.apache.spark.api.r.RBackendHandler.handleMethodCall(RBackendHandler.scala:164)\n\tat org.apache.spark.api.r.RBackendHandler.channelRead0(RBackendHandler.scala:105)\n\tat org.apache.spark.api.r.RBackendHandler.channelRead0(RBackendHandler.scala:39)\n\tat io.netty.channel.SimpleChannelInboundHandler.channelRead(SimpleChannelInboundHandler.java:99)\n\tat io.netty.channel.AbstractChannelHandlerContext.invokeChannelRead(AbstractChannelHandlerContext.java:379)\n\tat io.netty.channel.AbstractChannelHandlerContext.invokeChannelRead(AbstractChannelHandlerContext.java:365)\n\tat io.netty.channel.AbstractChannelHandlerContext.fireChannelRead(AbstractChannelHandlerContext.java:357)\n\tat io.netty.handler.timeout.IdleStateHandler.channelRead(IdleStateHandler.java:286)\n\tat io.netty.channel.AbstractChannelHandlerContext.invokeChannelRead(AbstractChannelHandlerContext.java:379)\n\tat io.netty.channel.AbstractChannelHandlerContext.invokeChannelRead(AbstractChannelHandlerContext.java:365)\n\tat io.netty.channel.AbstractChannelHandlerContext.fireChannelRead(AbstractChannelHandlerContext.java:357)\n\tat io.netty.handler.codec.MessageToMessageDecoder.channelRead(MessageToMessageDecoder.java:103)\n\tat io.netty.channel.AbstractChannelHandlerContext.invokeChannelRead(AbstractChannelHandlerContext.java:379)\n\tat io.netty.channel.AbstractChannelHandlerContext.invokeChannelRead(AbstractChannelHandlerContext.java:365)\n\tat io.netty.channel.AbstractChannelHandlerContext.fireChannelRead(AbstractChannelHandlerContext.java:357)\n\tat io.netty.handler.codec.ByteToMessageDecoder.fireChannelRead(ByteToMessageDecoder.java:324)\n\tat io.netty.handler.codec.ByteToMessageDecoder.channelRead(ByteToMessageDecoder.java:296)\n\tat io.netty.channel.AbstractChannelHandlerContext.invokeChannelRead(AbstractChannelHandlerContext.java:379)\n\tat io.netty.channel.AbstractChannelHandlerContext.invokeChannelRead(AbstractChannelHandlerContext.java:365)\n\tat io.netty.channel.AbstractChannelHandlerContext.fireChannelRead(AbstractChannelHandlerContext.java:357)\n\tat io.netty.channel.DefaultChannelPipeline$HeadContext.channelRead(Def\nTraceback:\n",
      "1. head(large_diamonds_in_spark)",
      "2. head(large_diamonds_in_spark)",
      "3. .local(x, ...)",
      "4. take(x, num)",
      "5. take(x, num)",
      "6. collect(limited)",
      "7. collect(limited)",
      "8. .local(x, ...)",
      "9. callJStatic(\"org.apache.spark.sql.api.r.SQLUtils\", \"dfToCols\", \n .     x@sdf)",
      "10. invokeJava(isStatic = TRUE, className, methodName, ...)",
      "11. handleErrors(returnStatus, conn)",
      "12. stop(readString(conn))"
     ]
    }
   ],
   "source": [
    "add_coarse_cut <- function(data) {\n",
    "  coarse_cut <- rep(\"Premium+\", nrow(data))\n",
    "  coarse_cut[data$cut %in% c(\"Good\", \"Very good\")] <- \"(Very) good\"\n",
    "  coarse_cut[data$cut==\"Fair\"] <- \"Fair\"\n",
    "  # Make sure R does not turn strings into factors, which Spark doesn't understand\n",
    "  cbind(data, coarse_cut, stringsAsFactors=FALSE)  \n",
    "}\n",
    "\n",
    "structure <- structType(structField(\"mass\", \"double\"), structField(\"cut\", \"string\"),\n",
    "                        structField(\"price\", \"integer\"), structField(\"coarse_cut\", \"string\"))\n",
    "\n",
    "large_diamonds_in_spark <- dapply(large_diamonds_in_spark, add_coarse_cut,  structure)\n",
    "\n",
    "head(large_diamonds_in_spark)"
   ]
  },
  {
   "cell_type": "markdown",
   "id": "cd54ef7d-12a8-4cab-8ef4-25929eb8cda2",
   "metadata": {},
   "source": [
    "#### Machine Learning_ fits a GLM to the diamonds data"
   ]
  },
  {
   "cell_type": "code",
   "execution_count": 17,
   "id": "2b9d1c62-33ac-415e-bad1-9f43f46bf0e5",
   "metadata": {},
   "outputs": [
    {
     "data": {
      "text/html": [
       "<table class=\"dataframe\">\n",
       "<caption>A data.frame: 17502 × 11</caption>\n",
       "<thead>\n",
       "\t<tr><th></th><th scope=col>carat</th><th scope=col>cut</th><th scope=col>color</th><th scope=col>clarity</th><th scope=col>depth</th><th scope=col>table</th><th scope=col>price</th><th scope=col>x</th><th scope=col>y</th><th scope=col>z</th><th scope=col>mass</th></tr>\n",
       "\t<tr><th></th><th scope=col>&lt;dbl&gt;</th><th scope=col>&lt;chr&gt;</th><th scope=col>&lt;chr&gt;</th><th scope=col>&lt;chr&gt;</th><th scope=col>&lt;dbl&gt;</th><th scope=col>&lt;dbl&gt;</th><th scope=col>&lt;int&gt;</th><th scope=col>&lt;dbl&gt;</th><th scope=col>&lt;dbl&gt;</th><th scope=col>&lt;dbl&gt;</th><th scope=col>&lt;dbl&gt;</th></tr>\n",
       "</thead>\n",
       "<tbody>\n",
       "\t<tr><th scope=row>1</th><td>1.17</td><td>Very Good</td><td>J</td><td>I1 </td><td>60.2</td><td>61</td><td>2774</td><td>6.83</td><td>6.90</td><td>4.13</td><td>0.234</td></tr>\n",
       "\t<tr><th scope=row>2</th><td>1.01</td><td>Premium  </td><td>F</td><td>I1 </td><td>61.8</td><td>60</td><td>2781</td><td>6.39</td><td>6.36</td><td>3.94</td><td>0.202</td></tr>\n",
       "\t<tr><th scope=row>3</th><td>1.01</td><td>Fair     </td><td>E</td><td>I1 </td><td>64.5</td><td>58</td><td>2788</td><td>6.29</td><td>6.21</td><td>4.03</td><td>0.202</td></tr>\n",
       "\t<tr><th scope=row>4</th><td>1.01</td><td>Premium  </td><td>H</td><td>SI2</td><td>62.7</td><td>59</td><td>2788</td><td>6.31</td><td>6.22</td><td>3.93</td><td>0.202</td></tr>\n",
       "\t<tr><th scope=row>5</th><td>1.05</td><td>Very Good</td><td>J</td><td>SI2</td><td>63.2</td><td>56</td><td>2789</td><td>6.49</td><td>6.45</td><td>4.09</td><td>0.210</td></tr>\n",
       "\t<tr><th scope=row>6</th><td>1.05</td><td>Fair     </td><td>J</td><td>SI2</td><td>65.8</td><td>59</td><td>2789</td><td>6.41</td><td>6.27</td><td>4.18</td><td>0.210</td></tr>\n",
       "\t<tr><th scope=row>7</th><td>1.01</td><td>Fair     </td><td>E</td><td>SI2</td><td>67.4</td><td>60</td><td>2797</td><td>6.19</td><td>6.05</td><td>4.13</td><td>0.202</td></tr>\n",
       "\t<tr><th scope=row>8</th><td>1.04</td><td>Premium  </td><td>G</td><td>I1 </td><td>62.2</td><td>58</td><td>2801</td><td>6.46</td><td>6.41</td><td>4.00</td><td>0.208</td></tr>\n",
       "\t<tr><th scope=row>9</th><td>1.20</td><td>Fair     </td><td>F</td><td>I1 </td><td>64.6</td><td>56</td><td>2809</td><td>6.73</td><td>6.66</td><td>4.33</td><td>0.240</td></tr>\n",
       "\t<tr><th scope=row>10</th><td>1.02</td><td>Premium  </td><td>G</td><td>I1 </td><td>60.3</td><td>58</td><td>2815</td><td>6.55</td><td>6.50</td><td>3.94</td><td>0.204</td></tr>\n",
       "\t<tr><th scope=row>11</th><td>1.17</td><td>Premium  </td><td>J</td><td>I1 </td><td>60.2</td><td>61</td><td>2825</td><td>6.90</td><td>6.83</td><td>4.13</td><td>0.234</td></tr>\n",
       "\t<tr><th scope=row>12</th><td>1.01</td><td>Premium  </td><td>H</td><td>SI2</td><td>61.6</td><td>61</td><td>2828</td><td>6.39</td><td>6.31</td><td>3.91</td><td>0.202</td></tr>\n",
       "\t<tr><th scope=row>13</th><td>1.01</td><td>Ideal    </td><td>I</td><td>I1 </td><td>61.5</td><td>57</td><td>2844</td><td>6.45</td><td>6.46</td><td>3.97</td><td>0.202</td></tr>\n",
       "\t<tr><th scope=row>14</th><td>1.01</td><td>Good     </td><td>I</td><td>I1 </td><td>63.1</td><td>57</td><td>2844</td><td>6.35</td><td>6.39</td><td>4.02</td><td>0.202</td></tr>\n",
       "\t<tr><th scope=row>15</th><td>1.27</td><td>Premium  </td><td>H</td><td>SI2</td><td>59.3</td><td>61</td><td>2845</td><td>7.12</td><td>7.05</td><td>4.20</td><td>0.254</td></tr>\n",
       "\t<tr><th scope=row>16</th><td>1.01</td><td>Fair     </td><td>H</td><td>SI2</td><td>65.4</td><td>59</td><td>2846</td><td>6.30</td><td>6.26</td><td>4.11</td><td>0.202</td></tr>\n",
       "\t<tr><th scope=row>17</th><td>1.01</td><td>Good     </td><td>H</td><td>I1 </td><td>64.2</td><td>61</td><td>2846</td><td>6.25</td><td>6.18</td><td>3.99</td><td>0.202</td></tr>\n",
       "\t<tr><th scope=row>18</th><td>1.20</td><td>Very Good</td><td>H</td><td>I1 </td><td>63.1</td><td>60</td><td>2850</td><td>6.75</td><td>6.67</td><td>4.23</td><td>0.240</td></tr>\n",
       "\t<tr><th scope=row>19</th><td>1.12</td><td>Premium  </td><td>H</td><td>I1 </td><td>59.1</td><td>61</td><td>2854</td><td>6.78</td><td>6.75</td><td>4.00</td><td>0.224</td></tr>\n",
       "\t<tr><th scope=row>20</th><td>1.03</td><td>Good     </td><td>J</td><td>SI1</td><td>63.6</td><td>57</td><td>2855</td><td>6.38</td><td>6.29</td><td>4.03</td><td>0.206</td></tr>\n",
       "\t<tr><th scope=row>21</th><td>1.02</td><td>Fair     </td><td>I</td><td>SI1</td><td>53.0</td><td>63</td><td>2856</td><td>6.84</td><td>6.77</td><td>3.66</td><td>0.204</td></tr>\n",
       "\t<tr><th scope=row>22</th><td>1.02</td><td>Ideal    </td><td>H</td><td>SI2</td><td>61.6</td><td>55</td><td>2856</td><td>6.49</td><td>6.43</td><td>3.98</td><td>0.204</td></tr>\n",
       "\t<tr><th scope=row>23</th><td>1.22</td><td>Premium  </td><td>E</td><td>I1 </td><td>60.9</td><td>57</td><td>2862</td><td>6.93</td><td>6.88</td><td>4.21</td><td>0.244</td></tr>\n",
       "\t<tr><th scope=row>24</th><td>1.01</td><td>Fair     </td><td>E</td><td>SI2</td><td>67.6</td><td>57</td><td>2862</td><td>6.21</td><td>6.11</td><td>4.18</td><td>0.202</td></tr>\n",
       "\t<tr><th scope=row>25</th><td>1.08</td><td>Premium  </td><td>D</td><td>I1 </td><td>61.9</td><td>60</td><td>2869</td><td>6.55</td><td>6.48</td><td>4.03</td><td>0.216</td></tr>\n",
       "\t<tr><th scope=row>26</th><td>1.04</td><td>Premium  </td><td>I</td><td>I1 </td><td>61.6</td><td>61</td><td>2870</td><td>6.47</td><td>6.45</td><td>3.98</td><td>0.208</td></tr>\n",
       "\t<tr><th scope=row>27</th><td>1.02</td><td>Ideal    </td><td>I</td><td>I1 </td><td>61.7</td><td>56</td><td>2872</td><td>6.44</td><td>6.49</td><td>3.99</td><td>0.204</td></tr>\n",
       "\t<tr><th scope=row>28</th><td>1.02</td><td>Ideal    </td><td>J</td><td>SI2</td><td>60.3</td><td>54</td><td>2879</td><td>6.53</td><td>6.50</td><td>3.93</td><td>0.204</td></tr>\n",
       "\t<tr><th scope=row>29</th><td>1.05</td><td>Premium  </td><td>H</td><td>I1 </td><td>62.0</td><td>59</td><td>2881</td><td>6.50</td><td>6.47</td><td>4.02</td><td>0.210</td></tr>\n",
       "\t<tr><th scope=row>30</th><td>1.03</td><td>Fair     </td><td>I</td><td>SI2</td><td>65.3</td><td>55</td><td>2884</td><td>6.32</td><td>6.27</td><td>4.11</td><td>0.206</td></tr>\n",
       "\t<tr><th scope=row>⋮</th><td>⋮</td><td>⋮</td><td>⋮</td><td>⋮</td><td>⋮</td><td>⋮</td><td>⋮</td><td>⋮</td><td>⋮</td><td>⋮</td><td>⋮</td></tr>\n",
       "\t<tr><th scope=row>17473</th><td>1.20</td><td>Fair     </td><td>G</td><td>I1 </td><td>66.6</td><td>57</td><td>2376</td><td>6.57</td><td>6.50</td><td>4.34</td><td>0.240</td></tr>\n",
       "\t<tr><th scope=row>17474</th><td>1.05</td><td>Premium  </td><td>G</td><td>I1 </td><td>61.7</td><td>59</td><td>2378</td><td>6.58</td><td>6.47</td><td>4.02</td><td>0.210</td></tr>\n",
       "\t<tr><th scope=row>17475</th><td>1.12</td><td>Premium  </td><td>G</td><td>I1 </td><td>60.4</td><td>59</td><td>2383</td><td>6.71</td><td>6.67</td><td>0.00</td><td>0.224</td></tr>\n",
       "\t<tr><th scope=row>17476</th><td>1.02</td><td>Premium  </td><td>G</td><td>I1 </td><td>61.3</td><td>57</td><td>2387</td><td>6.47</td><td>6.35</td><td>3.93</td><td>0.204</td></tr>\n",
       "\t<tr><th scope=row>17477</th><td>1.03</td><td>Premium  </td><td>J</td><td>I1 </td><td>62.8</td><td>55</td><td>2392</td><td>6.43</td><td>6.41</td><td>4.03</td><td>0.206</td></tr>\n",
       "\t<tr><th scope=row>17478</th><td>1.05</td><td>Fair     </td><td>I</td><td>I1 </td><td>61.8</td><td>66</td><td>2396</td><td>6.48</td><td>6.37</td><td>3.97</td><td>0.210</td></tr>\n",
       "\t<tr><th scope=row>17479</th><td>1.21</td><td>Fair     </td><td>I</td><td>I1 </td><td>65.0</td><td>58</td><td>2396</td><td>6.65</td><td>6.59</td><td>4.30</td><td>0.242</td></tr>\n",
       "\t<tr><th scope=row>17480</th><td>1.01</td><td>Ideal    </td><td>I</td><td>I1 </td><td>61.6</td><td>56</td><td>2416</td><td>6.45</td><td>6.43</td><td>3.97</td><td>0.202</td></tr>\n",
       "\t<tr><th scope=row>17481</th><td>1.02</td><td>Premium  </td><td>F</td><td>I1 </td><td>59.6</td><td>59</td><td>2452</td><td>6.51</td><td>6.45</td><td>3.87</td><td>0.204</td></tr>\n",
       "\t<tr><th scope=row>17482</th><td>1.01</td><td>Premium  </td><td>J</td><td>I1 </td><td>60.7</td><td>59</td><td>2488</td><td>6.39</td><td>6.42</td><td>3.89</td><td>0.202</td></tr>\n",
       "\t<tr><th scope=row>17483</th><td>1.30</td><td>Fair     </td><td>H</td><td>I1 </td><td>64.4</td><td>57</td><td>2512</td><td>6.93</td><td>6.86</td><td>4.44</td><td>0.260</td></tr>\n",
       "\t<tr><th scope=row>17484</th><td>1.01</td><td>Premium  </td><td>H</td><td>I1 </td><td>60.1</td><td>58</td><td>2520</td><td>6.49</td><td>6.44</td><td>3.89</td><td>0.202</td></tr>\n",
       "\t<tr><th scope=row>17485</th><td>1.03</td><td>Good     </td><td>I</td><td>I1 </td><td>57.9</td><td>59</td><td>2540</td><td>6.67</td><td>6.62</td><td>3.85</td><td>0.206</td></tr>\n",
       "\t<tr><th scope=row>17486</th><td>1.30</td><td>Fair     </td><td>E</td><td>I1 </td><td>66.5</td><td>58</td><td>2571</td><td>6.79</td><td>6.75</td><td>4.50</td><td>0.260</td></tr>\n",
       "\t<tr><th scope=row>17487</th><td>1.29</td><td>Fair     </td><td>H</td><td>I1 </td><td>67.7</td><td>62</td><td>2596</td><td>6.69</td><td>6.59</td><td>4.50</td><td>0.258</td></tr>\n",
       "\t<tr><th scope=row>17488</th><td>1.01</td><td>Premium  </td><td>J</td><td>I1 </td><td>60.7</td><td>59</td><td>2602</td><td>6.42</td><td>6.39</td><td>3.89</td><td>0.202</td></tr>\n",
       "\t<tr><th scope=row>17489</th><td>1.02</td><td>Ideal    </td><td>J</td><td>SI2</td><td>61.6</td><td>55</td><td>2611</td><td>6.49</td><td>6.43</td><td>3.98</td><td>0.204</td></tr>\n",
       "\t<tr><th scope=row>17490</th><td>1.20</td><td>Fair     </td><td>F</td><td>I1 </td><td>65.7</td><td>56</td><td>2622</td><td>6.65</td><td>6.58</td><td>4.35</td><td>0.240</td></tr>\n",
       "\t<tr><th scope=row>17491</th><td>1.20</td><td>Fair     </td><td>G</td><td>I1 </td><td>64.4</td><td>55</td><td>2655</td><td>6.77</td><td>6.61</td><td>4.31</td><td>0.240</td></tr>\n",
       "\t<tr><th scope=row>17492</th><td>1.01</td><td>Premium  </td><td>J</td><td>SI2</td><td>58.3</td><td>62</td><td>2683</td><td>6.49</td><td>6.43</td><td>3.77</td><td>0.202</td></tr>\n",
       "\t<tr><th scope=row>17493</th><td>1.01</td><td>Fair     </td><td>J</td><td>SI2</td><td>66.9</td><td>58</td><td>2683</td><td>6.13</td><td>6.07</td><td>4.08</td><td>0.202</td></tr>\n",
       "\t<tr><th scope=row>17494</th><td>1.01</td><td>Premium  </td><td>J</td><td>SI2</td><td>59.3</td><td>56</td><td>2683</td><td>6.51</td><td>6.45</td><td>3.84</td><td>0.202</td></tr>\n",
       "\t<tr><th scope=row>17495</th><td>1.22</td><td>Premium  </td><td>G</td><td>I1 </td><td>59.2</td><td>60</td><td>2699</td><td>6.97</td><td>6.90</td><td>4.10</td><td>0.244</td></tr>\n",
       "\t<tr><th scope=row>17496</th><td>1.05</td><td>Very Good</td><td>J</td><td>I1 </td><td>59.6</td><td>63</td><td>2705</td><td>6.61</td><td>6.55</td><td>3.92</td><td>0.210</td></tr>\n",
       "\t<tr><th scope=row>17497</th><td>1.09</td><td>Premium  </td><td>I</td><td>SI2</td><td>62.3</td><td>62</td><td>2708</td><td>6.63</td><td>6.57</td><td>4.11</td><td>0.218</td></tr>\n",
       "\t<tr><th scope=row>17498</th><td>1.05</td><td>Fair     </td><td>H</td><td>SI2</td><td>64.8</td><td>55</td><td>2717</td><td>6.39</td><td>6.32</td><td>4.12</td><td>0.210</td></tr>\n",
       "\t<tr><th scope=row>17499</th><td>1.01</td><td>Very Good</td><td>I</td><td>SI1</td><td>63.3</td><td>59</td><td>2730</td><td>6.26</td><td>6.22</td><td>3.95</td><td>0.202</td></tr>\n",
       "\t<tr><th scope=row>17500</th><td>1.04</td><td>Very Good</td><td>I</td><td>I1 </td><td>61.6</td><td>61</td><td>2745</td><td>6.45</td><td>6.47</td><td>3.98</td><td>0.208</td></tr>\n",
       "\t<tr><th scope=row>17501</th><td>1.04</td><td>Fair     </td><td>G</td><td>SI2</td><td>65.2</td><td>57</td><td>2745</td><td>6.25</td><td>6.23</td><td>4.07</td><td>0.208</td></tr>\n",
       "\t<tr><th scope=row>17502</th><td>1.02</td><td>Good     </td><td>H</td><td>I1 </td><td>64.3</td><td>63</td><td>2751</td><td>6.28</td><td>6.23</td><td>4.02</td><td>0.204</td></tr>\n",
       "</tbody>\n",
       "</table>\n"
      ],
      "text/latex": [
       "A data.frame: 17502 × 11\n",
       "\\begin{tabular}{r|lllllllllll}\n",
       "  & carat & cut & color & clarity & depth & table & price & x & y & z & mass\\\\\n",
       "  & <dbl> & <chr> & <chr> & <chr> & <dbl> & <dbl> & <int> & <dbl> & <dbl> & <dbl> & <dbl>\\\\\n",
       "\\hline\n",
       "\t1 & 1.17 & Very Good & J & I1  & 60.2 & 61 & 2774 & 6.83 & 6.90 & 4.13 & 0.234\\\\\n",
       "\t2 & 1.01 & Premium   & F & I1  & 61.8 & 60 & 2781 & 6.39 & 6.36 & 3.94 & 0.202\\\\\n",
       "\t3 & 1.01 & Fair      & E & I1  & 64.5 & 58 & 2788 & 6.29 & 6.21 & 4.03 & 0.202\\\\\n",
       "\t4 & 1.01 & Premium   & H & SI2 & 62.7 & 59 & 2788 & 6.31 & 6.22 & 3.93 & 0.202\\\\\n",
       "\t5 & 1.05 & Very Good & J & SI2 & 63.2 & 56 & 2789 & 6.49 & 6.45 & 4.09 & 0.210\\\\\n",
       "\t6 & 1.05 & Fair      & J & SI2 & 65.8 & 59 & 2789 & 6.41 & 6.27 & 4.18 & 0.210\\\\\n",
       "\t7 & 1.01 & Fair      & E & SI2 & 67.4 & 60 & 2797 & 6.19 & 6.05 & 4.13 & 0.202\\\\\n",
       "\t8 & 1.04 & Premium   & G & I1  & 62.2 & 58 & 2801 & 6.46 & 6.41 & 4.00 & 0.208\\\\\n",
       "\t9 & 1.20 & Fair      & F & I1  & 64.6 & 56 & 2809 & 6.73 & 6.66 & 4.33 & 0.240\\\\\n",
       "\t10 & 1.02 & Premium   & G & I1  & 60.3 & 58 & 2815 & 6.55 & 6.50 & 3.94 & 0.204\\\\\n",
       "\t11 & 1.17 & Premium   & J & I1  & 60.2 & 61 & 2825 & 6.90 & 6.83 & 4.13 & 0.234\\\\\n",
       "\t12 & 1.01 & Premium   & H & SI2 & 61.6 & 61 & 2828 & 6.39 & 6.31 & 3.91 & 0.202\\\\\n",
       "\t13 & 1.01 & Ideal     & I & I1  & 61.5 & 57 & 2844 & 6.45 & 6.46 & 3.97 & 0.202\\\\\n",
       "\t14 & 1.01 & Good      & I & I1  & 63.1 & 57 & 2844 & 6.35 & 6.39 & 4.02 & 0.202\\\\\n",
       "\t15 & 1.27 & Premium   & H & SI2 & 59.3 & 61 & 2845 & 7.12 & 7.05 & 4.20 & 0.254\\\\\n",
       "\t16 & 1.01 & Fair      & H & SI2 & 65.4 & 59 & 2846 & 6.30 & 6.26 & 4.11 & 0.202\\\\\n",
       "\t17 & 1.01 & Good      & H & I1  & 64.2 & 61 & 2846 & 6.25 & 6.18 & 3.99 & 0.202\\\\\n",
       "\t18 & 1.20 & Very Good & H & I1  & 63.1 & 60 & 2850 & 6.75 & 6.67 & 4.23 & 0.240\\\\\n",
       "\t19 & 1.12 & Premium   & H & I1  & 59.1 & 61 & 2854 & 6.78 & 6.75 & 4.00 & 0.224\\\\\n",
       "\t20 & 1.03 & Good      & J & SI1 & 63.6 & 57 & 2855 & 6.38 & 6.29 & 4.03 & 0.206\\\\\n",
       "\t21 & 1.02 & Fair      & I & SI1 & 53.0 & 63 & 2856 & 6.84 & 6.77 & 3.66 & 0.204\\\\\n",
       "\t22 & 1.02 & Ideal     & H & SI2 & 61.6 & 55 & 2856 & 6.49 & 6.43 & 3.98 & 0.204\\\\\n",
       "\t23 & 1.22 & Premium   & E & I1  & 60.9 & 57 & 2862 & 6.93 & 6.88 & 4.21 & 0.244\\\\\n",
       "\t24 & 1.01 & Fair      & E & SI2 & 67.6 & 57 & 2862 & 6.21 & 6.11 & 4.18 & 0.202\\\\\n",
       "\t25 & 1.08 & Premium   & D & I1  & 61.9 & 60 & 2869 & 6.55 & 6.48 & 4.03 & 0.216\\\\\n",
       "\t26 & 1.04 & Premium   & I & I1  & 61.6 & 61 & 2870 & 6.47 & 6.45 & 3.98 & 0.208\\\\\n",
       "\t27 & 1.02 & Ideal     & I & I1  & 61.7 & 56 & 2872 & 6.44 & 6.49 & 3.99 & 0.204\\\\\n",
       "\t28 & 1.02 & Ideal     & J & SI2 & 60.3 & 54 & 2879 & 6.53 & 6.50 & 3.93 & 0.204\\\\\n",
       "\t29 & 1.05 & Premium   & H & I1  & 62.0 & 59 & 2881 & 6.50 & 6.47 & 4.02 & 0.210\\\\\n",
       "\t30 & 1.03 & Fair      & I & SI2 & 65.3 & 55 & 2884 & 6.32 & 6.27 & 4.11 & 0.206\\\\\n",
       "\t⋮ & ⋮ & ⋮ & ⋮ & ⋮ & ⋮ & ⋮ & ⋮ & ⋮ & ⋮ & ⋮ & ⋮\\\\\n",
       "\t17473 & 1.20 & Fair      & G & I1  & 66.6 & 57 & 2376 & 6.57 & 6.50 & 4.34 & 0.240\\\\\n",
       "\t17474 & 1.05 & Premium   & G & I1  & 61.7 & 59 & 2378 & 6.58 & 6.47 & 4.02 & 0.210\\\\\n",
       "\t17475 & 1.12 & Premium   & G & I1  & 60.4 & 59 & 2383 & 6.71 & 6.67 & 0.00 & 0.224\\\\\n",
       "\t17476 & 1.02 & Premium   & G & I1  & 61.3 & 57 & 2387 & 6.47 & 6.35 & 3.93 & 0.204\\\\\n",
       "\t17477 & 1.03 & Premium   & J & I1  & 62.8 & 55 & 2392 & 6.43 & 6.41 & 4.03 & 0.206\\\\\n",
       "\t17478 & 1.05 & Fair      & I & I1  & 61.8 & 66 & 2396 & 6.48 & 6.37 & 3.97 & 0.210\\\\\n",
       "\t17479 & 1.21 & Fair      & I & I1  & 65.0 & 58 & 2396 & 6.65 & 6.59 & 4.30 & 0.242\\\\\n",
       "\t17480 & 1.01 & Ideal     & I & I1  & 61.6 & 56 & 2416 & 6.45 & 6.43 & 3.97 & 0.202\\\\\n",
       "\t17481 & 1.02 & Premium   & F & I1  & 59.6 & 59 & 2452 & 6.51 & 6.45 & 3.87 & 0.204\\\\\n",
       "\t17482 & 1.01 & Premium   & J & I1  & 60.7 & 59 & 2488 & 6.39 & 6.42 & 3.89 & 0.202\\\\\n",
       "\t17483 & 1.30 & Fair      & H & I1  & 64.4 & 57 & 2512 & 6.93 & 6.86 & 4.44 & 0.260\\\\\n",
       "\t17484 & 1.01 & Premium   & H & I1  & 60.1 & 58 & 2520 & 6.49 & 6.44 & 3.89 & 0.202\\\\\n",
       "\t17485 & 1.03 & Good      & I & I1  & 57.9 & 59 & 2540 & 6.67 & 6.62 & 3.85 & 0.206\\\\\n",
       "\t17486 & 1.30 & Fair      & E & I1  & 66.5 & 58 & 2571 & 6.79 & 6.75 & 4.50 & 0.260\\\\\n",
       "\t17487 & 1.29 & Fair      & H & I1  & 67.7 & 62 & 2596 & 6.69 & 6.59 & 4.50 & 0.258\\\\\n",
       "\t17488 & 1.01 & Premium   & J & I1  & 60.7 & 59 & 2602 & 6.42 & 6.39 & 3.89 & 0.202\\\\\n",
       "\t17489 & 1.02 & Ideal     & J & SI2 & 61.6 & 55 & 2611 & 6.49 & 6.43 & 3.98 & 0.204\\\\\n",
       "\t17490 & 1.20 & Fair      & F & I1  & 65.7 & 56 & 2622 & 6.65 & 6.58 & 4.35 & 0.240\\\\\n",
       "\t17491 & 1.20 & Fair      & G & I1  & 64.4 & 55 & 2655 & 6.77 & 6.61 & 4.31 & 0.240\\\\\n",
       "\t17492 & 1.01 & Premium   & J & SI2 & 58.3 & 62 & 2683 & 6.49 & 6.43 & 3.77 & 0.202\\\\\n",
       "\t17493 & 1.01 & Fair      & J & SI2 & 66.9 & 58 & 2683 & 6.13 & 6.07 & 4.08 & 0.202\\\\\n",
       "\t17494 & 1.01 & Premium   & J & SI2 & 59.3 & 56 & 2683 & 6.51 & 6.45 & 3.84 & 0.202\\\\\n",
       "\t17495 & 1.22 & Premium   & G & I1  & 59.2 & 60 & 2699 & 6.97 & 6.90 & 4.10 & 0.244\\\\\n",
       "\t17496 & 1.05 & Very Good & J & I1  & 59.6 & 63 & 2705 & 6.61 & 6.55 & 3.92 & 0.210\\\\\n",
       "\t17497 & 1.09 & Premium   & I & SI2 & 62.3 & 62 & 2708 & 6.63 & 6.57 & 4.11 & 0.218\\\\\n",
       "\t17498 & 1.05 & Fair      & H & SI2 & 64.8 & 55 & 2717 & 6.39 & 6.32 & 4.12 & 0.210\\\\\n",
       "\t17499 & 1.01 & Very Good & I & SI1 & 63.3 & 59 & 2730 & 6.26 & 6.22 & 3.95 & 0.202\\\\\n",
       "\t17500 & 1.04 & Very Good & I & I1  & 61.6 & 61 & 2745 & 6.45 & 6.47 & 3.98 & 0.208\\\\\n",
       "\t17501 & 1.04 & Fair      & G & SI2 & 65.2 & 57 & 2745 & 6.25 & 6.23 & 4.07 & 0.208\\\\\n",
       "\t17502 & 1.02 & Good      & H & I1  & 64.3 & 63 & 2751 & 6.28 & 6.23 & 4.02 & 0.204\\\\\n",
       "\\end{tabular}\n"
      ],
      "text/markdown": [
       "\n",
       "A data.frame: 17502 × 11\n",
       "\n",
       "| <!--/--> | carat &lt;dbl&gt; | cut &lt;chr&gt; | color &lt;chr&gt; | clarity &lt;chr&gt; | depth &lt;dbl&gt; | table &lt;dbl&gt; | price &lt;int&gt; | x &lt;dbl&gt; | y &lt;dbl&gt; | z &lt;dbl&gt; | mass &lt;dbl&gt; |\n",
       "|---|---|---|---|---|---|---|---|---|---|---|---|\n",
       "| 1 | 1.17 | Very Good | J | I1  | 60.2 | 61 | 2774 | 6.83 | 6.90 | 4.13 | 0.234 |\n",
       "| 2 | 1.01 | Premium   | F | I1  | 61.8 | 60 | 2781 | 6.39 | 6.36 | 3.94 | 0.202 |\n",
       "| 3 | 1.01 | Fair      | E | I1  | 64.5 | 58 | 2788 | 6.29 | 6.21 | 4.03 | 0.202 |\n",
       "| 4 | 1.01 | Premium   | H | SI2 | 62.7 | 59 | 2788 | 6.31 | 6.22 | 3.93 | 0.202 |\n",
       "| 5 | 1.05 | Very Good | J | SI2 | 63.2 | 56 | 2789 | 6.49 | 6.45 | 4.09 | 0.210 |\n",
       "| 6 | 1.05 | Fair      | J | SI2 | 65.8 | 59 | 2789 | 6.41 | 6.27 | 4.18 | 0.210 |\n",
       "| 7 | 1.01 | Fair      | E | SI2 | 67.4 | 60 | 2797 | 6.19 | 6.05 | 4.13 | 0.202 |\n",
       "| 8 | 1.04 | Premium   | G | I1  | 62.2 | 58 | 2801 | 6.46 | 6.41 | 4.00 | 0.208 |\n",
       "| 9 | 1.20 | Fair      | F | I1  | 64.6 | 56 | 2809 | 6.73 | 6.66 | 4.33 | 0.240 |\n",
       "| 10 | 1.02 | Premium   | G | I1  | 60.3 | 58 | 2815 | 6.55 | 6.50 | 3.94 | 0.204 |\n",
       "| 11 | 1.17 | Premium   | J | I1  | 60.2 | 61 | 2825 | 6.90 | 6.83 | 4.13 | 0.234 |\n",
       "| 12 | 1.01 | Premium   | H | SI2 | 61.6 | 61 | 2828 | 6.39 | 6.31 | 3.91 | 0.202 |\n",
       "| 13 | 1.01 | Ideal     | I | I1  | 61.5 | 57 | 2844 | 6.45 | 6.46 | 3.97 | 0.202 |\n",
       "| 14 | 1.01 | Good      | I | I1  | 63.1 | 57 | 2844 | 6.35 | 6.39 | 4.02 | 0.202 |\n",
       "| 15 | 1.27 | Premium   | H | SI2 | 59.3 | 61 | 2845 | 7.12 | 7.05 | 4.20 | 0.254 |\n",
       "| 16 | 1.01 | Fair      | H | SI2 | 65.4 | 59 | 2846 | 6.30 | 6.26 | 4.11 | 0.202 |\n",
       "| 17 | 1.01 | Good      | H | I1  | 64.2 | 61 | 2846 | 6.25 | 6.18 | 3.99 | 0.202 |\n",
       "| 18 | 1.20 | Very Good | H | I1  | 63.1 | 60 | 2850 | 6.75 | 6.67 | 4.23 | 0.240 |\n",
       "| 19 | 1.12 | Premium   | H | I1  | 59.1 | 61 | 2854 | 6.78 | 6.75 | 4.00 | 0.224 |\n",
       "| 20 | 1.03 | Good      | J | SI1 | 63.6 | 57 | 2855 | 6.38 | 6.29 | 4.03 | 0.206 |\n",
       "| 21 | 1.02 | Fair      | I | SI1 | 53.0 | 63 | 2856 | 6.84 | 6.77 | 3.66 | 0.204 |\n",
       "| 22 | 1.02 | Ideal     | H | SI2 | 61.6 | 55 | 2856 | 6.49 | 6.43 | 3.98 | 0.204 |\n",
       "| 23 | 1.22 | Premium   | E | I1  | 60.9 | 57 | 2862 | 6.93 | 6.88 | 4.21 | 0.244 |\n",
       "| 24 | 1.01 | Fair      | E | SI2 | 67.6 | 57 | 2862 | 6.21 | 6.11 | 4.18 | 0.202 |\n",
       "| 25 | 1.08 | Premium   | D | I1  | 61.9 | 60 | 2869 | 6.55 | 6.48 | 4.03 | 0.216 |\n",
       "| 26 | 1.04 | Premium   | I | I1  | 61.6 | 61 | 2870 | 6.47 | 6.45 | 3.98 | 0.208 |\n",
       "| 27 | 1.02 | Ideal     | I | I1  | 61.7 | 56 | 2872 | 6.44 | 6.49 | 3.99 | 0.204 |\n",
       "| 28 | 1.02 | Ideal     | J | SI2 | 60.3 | 54 | 2879 | 6.53 | 6.50 | 3.93 | 0.204 |\n",
       "| 29 | 1.05 | Premium   | H | I1  | 62.0 | 59 | 2881 | 6.50 | 6.47 | 4.02 | 0.210 |\n",
       "| 30 | 1.03 | Fair      | I | SI2 | 65.3 | 55 | 2884 | 6.32 | 6.27 | 4.11 | 0.206 |\n",
       "| ⋮ | ⋮ | ⋮ | ⋮ | ⋮ | ⋮ | ⋮ | ⋮ | ⋮ | ⋮ | ⋮ | ⋮ |\n",
       "| 17473 | 1.20 | Fair      | G | I1  | 66.6 | 57 | 2376 | 6.57 | 6.50 | 4.34 | 0.240 |\n",
       "| 17474 | 1.05 | Premium   | G | I1  | 61.7 | 59 | 2378 | 6.58 | 6.47 | 4.02 | 0.210 |\n",
       "| 17475 | 1.12 | Premium   | G | I1  | 60.4 | 59 | 2383 | 6.71 | 6.67 | 0.00 | 0.224 |\n",
       "| 17476 | 1.02 | Premium   | G | I1  | 61.3 | 57 | 2387 | 6.47 | 6.35 | 3.93 | 0.204 |\n",
       "| 17477 | 1.03 | Premium   | J | I1  | 62.8 | 55 | 2392 | 6.43 | 6.41 | 4.03 | 0.206 |\n",
       "| 17478 | 1.05 | Fair      | I | I1  | 61.8 | 66 | 2396 | 6.48 | 6.37 | 3.97 | 0.210 |\n",
       "| 17479 | 1.21 | Fair      | I | I1  | 65.0 | 58 | 2396 | 6.65 | 6.59 | 4.30 | 0.242 |\n",
       "| 17480 | 1.01 | Ideal     | I | I1  | 61.6 | 56 | 2416 | 6.45 | 6.43 | 3.97 | 0.202 |\n",
       "| 17481 | 1.02 | Premium   | F | I1  | 59.6 | 59 | 2452 | 6.51 | 6.45 | 3.87 | 0.204 |\n",
       "| 17482 | 1.01 | Premium   | J | I1  | 60.7 | 59 | 2488 | 6.39 | 6.42 | 3.89 | 0.202 |\n",
       "| 17483 | 1.30 | Fair      | H | I1  | 64.4 | 57 | 2512 | 6.93 | 6.86 | 4.44 | 0.260 |\n",
       "| 17484 | 1.01 | Premium   | H | I1  | 60.1 | 58 | 2520 | 6.49 | 6.44 | 3.89 | 0.202 |\n",
       "| 17485 | 1.03 | Good      | I | I1  | 57.9 | 59 | 2540 | 6.67 | 6.62 | 3.85 | 0.206 |\n",
       "| 17486 | 1.30 | Fair      | E | I1  | 66.5 | 58 | 2571 | 6.79 | 6.75 | 4.50 | 0.260 |\n",
       "| 17487 | 1.29 | Fair      | H | I1  | 67.7 | 62 | 2596 | 6.69 | 6.59 | 4.50 | 0.258 |\n",
       "| 17488 | 1.01 | Premium   | J | I1  | 60.7 | 59 | 2602 | 6.42 | 6.39 | 3.89 | 0.202 |\n",
       "| 17489 | 1.02 | Ideal     | J | SI2 | 61.6 | 55 | 2611 | 6.49 | 6.43 | 3.98 | 0.204 |\n",
       "| 17490 | 1.20 | Fair      | F | I1  | 65.7 | 56 | 2622 | 6.65 | 6.58 | 4.35 | 0.240 |\n",
       "| 17491 | 1.20 | Fair      | G | I1  | 64.4 | 55 | 2655 | 6.77 | 6.61 | 4.31 | 0.240 |\n",
       "| 17492 | 1.01 | Premium   | J | SI2 | 58.3 | 62 | 2683 | 6.49 | 6.43 | 3.77 | 0.202 |\n",
       "| 17493 | 1.01 | Fair      | J | SI2 | 66.9 | 58 | 2683 | 6.13 | 6.07 | 4.08 | 0.202 |\n",
       "| 17494 | 1.01 | Premium   | J | SI2 | 59.3 | 56 | 2683 | 6.51 | 6.45 | 3.84 | 0.202 |\n",
       "| 17495 | 1.22 | Premium   | G | I1  | 59.2 | 60 | 2699 | 6.97 | 6.90 | 4.10 | 0.244 |\n",
       "| 17496 | 1.05 | Very Good | J | I1  | 59.6 | 63 | 2705 | 6.61 | 6.55 | 3.92 | 0.210 |\n",
       "| 17497 | 1.09 | Premium   | I | SI2 | 62.3 | 62 | 2708 | 6.63 | 6.57 | 4.11 | 0.218 |\n",
       "| 17498 | 1.05 | Fair      | H | SI2 | 64.8 | 55 | 2717 | 6.39 | 6.32 | 4.12 | 0.210 |\n",
       "| 17499 | 1.01 | Very Good | I | SI1 | 63.3 | 59 | 2730 | 6.26 | 6.22 | 3.95 | 0.202 |\n",
       "| 17500 | 1.04 | Very Good | I | I1  | 61.6 | 61 | 2745 | 6.45 | 6.47 | 3.98 | 0.208 |\n",
       "| 17501 | 1.04 | Fair      | G | SI2 | 65.2 | 57 | 2745 | 6.25 | 6.23 | 4.07 | 0.208 |\n",
       "| 17502 | 1.02 | Good      | H | I1  | 64.3 | 63 | 2751 | 6.28 | 6.23 | 4.02 | 0.204 |\n",
       "\n"
      ],
      "text/plain": [
       "      carat cut       color clarity depth table price x    y    z    mass \n",
       "1     1.17  Very Good J     I1      60.2  61    2774  6.83 6.90 4.13 0.234\n",
       "2     1.01  Premium   F     I1      61.8  60    2781  6.39 6.36 3.94 0.202\n",
       "3     1.01  Fair      E     I1      64.5  58    2788  6.29 6.21 4.03 0.202\n",
       "4     1.01  Premium   H     SI2     62.7  59    2788  6.31 6.22 3.93 0.202\n",
       "5     1.05  Very Good J     SI2     63.2  56    2789  6.49 6.45 4.09 0.210\n",
       "6     1.05  Fair      J     SI2     65.8  59    2789  6.41 6.27 4.18 0.210\n",
       "7     1.01  Fair      E     SI2     67.4  60    2797  6.19 6.05 4.13 0.202\n",
       "8     1.04  Premium   G     I1      62.2  58    2801  6.46 6.41 4.00 0.208\n",
       "9     1.20  Fair      F     I1      64.6  56    2809  6.73 6.66 4.33 0.240\n",
       "10    1.02  Premium   G     I1      60.3  58    2815  6.55 6.50 3.94 0.204\n",
       "11    1.17  Premium   J     I1      60.2  61    2825  6.90 6.83 4.13 0.234\n",
       "12    1.01  Premium   H     SI2     61.6  61    2828  6.39 6.31 3.91 0.202\n",
       "13    1.01  Ideal     I     I1      61.5  57    2844  6.45 6.46 3.97 0.202\n",
       "14    1.01  Good      I     I1      63.1  57    2844  6.35 6.39 4.02 0.202\n",
       "15    1.27  Premium   H     SI2     59.3  61    2845  7.12 7.05 4.20 0.254\n",
       "16    1.01  Fair      H     SI2     65.4  59    2846  6.30 6.26 4.11 0.202\n",
       "17    1.01  Good      H     I1      64.2  61    2846  6.25 6.18 3.99 0.202\n",
       "18    1.20  Very Good H     I1      63.1  60    2850  6.75 6.67 4.23 0.240\n",
       "19    1.12  Premium   H     I1      59.1  61    2854  6.78 6.75 4.00 0.224\n",
       "20    1.03  Good      J     SI1     63.6  57    2855  6.38 6.29 4.03 0.206\n",
       "21    1.02  Fair      I     SI1     53.0  63    2856  6.84 6.77 3.66 0.204\n",
       "22    1.02  Ideal     H     SI2     61.6  55    2856  6.49 6.43 3.98 0.204\n",
       "23    1.22  Premium   E     I1      60.9  57    2862  6.93 6.88 4.21 0.244\n",
       "24    1.01  Fair      E     SI2     67.6  57    2862  6.21 6.11 4.18 0.202\n",
       "25    1.08  Premium   D     I1      61.9  60    2869  6.55 6.48 4.03 0.216\n",
       "26    1.04  Premium   I     I1      61.6  61    2870  6.47 6.45 3.98 0.208\n",
       "27    1.02  Ideal     I     I1      61.7  56    2872  6.44 6.49 3.99 0.204\n",
       "28    1.02  Ideal     J     SI2     60.3  54    2879  6.53 6.50 3.93 0.204\n",
       "29    1.05  Premium   H     I1      62.0  59    2881  6.50 6.47 4.02 0.210\n",
       "30    1.03  Fair      I     SI2     65.3  55    2884  6.32 6.27 4.11 0.206\n",
       "⋮     ⋮     ⋮         ⋮     ⋮       ⋮     ⋮     ⋮     ⋮    ⋮    ⋮    ⋮    \n",
       "17473 1.20  Fair      G     I1      66.6  57    2376  6.57 6.50 4.34 0.240\n",
       "17474 1.05  Premium   G     I1      61.7  59    2378  6.58 6.47 4.02 0.210\n",
       "17475 1.12  Premium   G     I1      60.4  59    2383  6.71 6.67 0.00 0.224\n",
       "17476 1.02  Premium   G     I1      61.3  57    2387  6.47 6.35 3.93 0.204\n",
       "17477 1.03  Premium   J     I1      62.8  55    2392  6.43 6.41 4.03 0.206\n",
       "17478 1.05  Fair      I     I1      61.8  66    2396  6.48 6.37 3.97 0.210\n",
       "17479 1.21  Fair      I     I1      65.0  58    2396  6.65 6.59 4.30 0.242\n",
       "17480 1.01  Ideal     I     I1      61.6  56    2416  6.45 6.43 3.97 0.202\n",
       "17481 1.02  Premium   F     I1      59.6  59    2452  6.51 6.45 3.87 0.204\n",
       "17482 1.01  Premium   J     I1      60.7  59    2488  6.39 6.42 3.89 0.202\n",
       "17483 1.30  Fair      H     I1      64.4  57    2512  6.93 6.86 4.44 0.260\n",
       "17484 1.01  Premium   H     I1      60.1  58    2520  6.49 6.44 3.89 0.202\n",
       "17485 1.03  Good      I     I1      57.9  59    2540  6.67 6.62 3.85 0.206\n",
       "17486 1.30  Fair      E     I1      66.5  58    2571  6.79 6.75 4.50 0.260\n",
       "17487 1.29  Fair      H     I1      67.7  62    2596  6.69 6.59 4.50 0.258\n",
       "17488 1.01  Premium   J     I1      60.7  59    2602  6.42 6.39 3.89 0.202\n",
       "17489 1.02  Ideal     J     SI2     61.6  55    2611  6.49 6.43 3.98 0.204\n",
       "17490 1.20  Fair      F     I1      65.7  56    2622  6.65 6.58 4.35 0.240\n",
       "17491 1.20  Fair      G     I1      64.4  55    2655  6.77 6.61 4.31 0.240\n",
       "17492 1.01  Premium   J     SI2     58.3  62    2683  6.49 6.43 3.77 0.202\n",
       "17493 1.01  Fair      J     SI2     66.9  58    2683  6.13 6.07 4.08 0.202\n",
       "17494 1.01  Premium   J     SI2     59.3  56    2683  6.51 6.45 3.84 0.202\n",
       "17495 1.22  Premium   G     I1      59.2  60    2699  6.97 6.90 4.10 0.244\n",
       "17496 1.05  Very Good J     I1      59.6  63    2705  6.61 6.55 3.92 0.210\n",
       "17497 1.09  Premium   I     SI2     62.3  62    2708  6.63 6.57 4.11 0.218\n",
       "17498 1.05  Fair      H     SI2     64.8  55    2717  6.39 6.32 4.12 0.210\n",
       "17499 1.01  Very Good I     SI1     63.3  59    2730  6.26 6.22 3.95 0.202\n",
       "17500 1.04  Very Good I     I1      61.6  61    2745  6.45 6.47 3.98 0.208\n",
       "17501 1.04  Fair      G     SI2     65.2  57    2745  6.25 6.23 4.07 0.208\n",
       "17502 1.02  Good      H     I1      64.3  63    2751  6.28 6.23 4.02 0.204"
      ]
     },
     "metadata": {},
     "output_type": "display_data"
    }
   ],
   "source": [
    "large_diamonds_in_spark <- filter(diamonds_in_spark, diamonds_in_spark$carat>1)\n",
    "large_diamonds_in_spark <- mutate(large_diamonds_in_spark, mass=large_diamonds_in_spark$carat*0.2)\n",
    "\n",
    "collect(large_diamonds_in_spark)"
   ]
  },
  {
   "cell_type": "code",
   "execution_count": 18,
   "id": "d6ad118d-9985-4af8-9c86-310d891e2940",
   "metadata": {},
   "outputs": [
    {
     "data": {
      "text/plain": [
       "\n",
       "Deviance Residuals: \n",
       "(Note: These are approximate quantiles with relative error <= 0.01)\n",
       "     Min        1Q    Median        3Q       Max  \n",
       "-18863.4    -737.8    -139.3     603.0    7526.9  \n",
       "\n",
       "Coefficients:\n",
       "               Estimate  Std. Error   t value    Pr(>|t|)\n",
       "(Intercept)     -600.09     119.353   -5.0279  5.0088e-07\n",
       "mass           50968.79     153.823  331.3475  0.0000e+00\n",
       "cut_Premium     1158.56      59.127   19.5945  0.0000e+00\n",
       "cut_Ideal       1609.01      59.537   27.0253  0.0000e+00\n",
       "cut_Very Good   1283.64      60.729   21.1369  0.0000e+00\n",
       "cut_Good         897.57      66.268   13.5446  0.0000e+00\n",
       "color_G        -1207.94      45.631  -26.4721  0.0000e+00\n",
       "color_H        -1994.34      45.634  -43.7033  0.0000e+00\n",
       "color_I        -2792.08      48.344  -57.7543  0.0000e+00\n",
       "color_F         -524.84      47.690  -11.0053  0.0000e+00\n",
       "color_E         -285.09      50.443   -5.6517  1.6134e-08\n",
       "color_J        -4108.99      53.183  -77.2612  0.0000e+00\n",
       "clarity_SI2    -6066.99      93.642  -64.7891  0.0000e+00\n",
       "clarity_SI1    -4735.47      93.699  -50.5389  0.0000e+00\n",
       "clarity_VS2    -3602.12      94.088  -38.2845  0.0000e+00\n",
       "clarity_VS1    -2976.64      95.872  -31.0483  0.0000e+00\n",
       "clarity_VVS2   -1775.05     101.475  -17.4924  0.0000e+00\n",
       "clarity_I1     -9480.20     112.259  -84.4492  0.0000e+00\n",
       "clarity_VVS1    -975.94     115.191   -8.4724  0.0000e+00\n",
       "\n",
       "(Dispersion parameter for gaussian family taken to be 1975780)\n",
       "\n",
       "    Null deviance: 2.7448e+11  on 17501  degrees of freedom\n",
       "Residual deviance: 3.4543e+10  on 17483  degrees of freedom\n",
       "AIC: 303407\n",
       "\n",
       "Number of Fisher Scoring iterations: 1\n"
      ]
     },
     "metadata": {},
     "output_type": "display_data"
    }
   ],
   "source": [
    "model <- spark.glm(price~mass+cut+color+clarity, data=large_diamonds_in_spark, family=\"gaussian\")\n",
    "summary(model)\n",
    "predited_price <- predict(model, large_diamonds_in_spark)"
   ]
  }
 ],
 "metadata": {
  "kernelspec": {
   "display_name": "R",
   "language": "R",
   "name": "ir"
  },
  "language_info": {
   "codemirror_mode": "r",
   "file_extension": ".r",
   "mimetype": "text/x-r-source",
   "name": "R",
   "pygments_lexer": "r",
   "version": "4.1.3"
  }
 },
 "nbformat": 4,
 "nbformat_minor": 5
}
