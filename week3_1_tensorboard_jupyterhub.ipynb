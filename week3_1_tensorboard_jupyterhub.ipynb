{
 "cells": [
  {
   "cell_type": "markdown",
   "id": "d8352ec0-07c4-491f-baaa-6045349bb6c2",
   "metadata": {
    "tags": []
   },
   "source": [
    "# Example of how to use tensorboard using JupyterLab\n",
    "\n",
    "https://youtu.be/KsyPZcoL_jY\n",
    "\n",
    "integrated with the class video as well for week3"
   ]
  },
  {
   "cell_type": "code",
   "execution_count": 1,
   "id": "6a49ef68",
   "metadata": {
    "tags": []
   },
   "outputs": [],
   "source": [
    "import matplotlib.pyplot as plt\n",
    "import numpy as np\n",
    "import tensorflow as tf\n",
    "from tqdm.notebook import tqdm\n",
    "np.set_printoptions(suppress=True)\n",
    "\n",
    "(x_train, y_train),(x_test, y_test) = tf.keras.datasets.mnist.load_data()\n",
    "\n",
    "y_input = tf.keras.utils.to_categorical(y_train)\n",
    "x_input = (np.reshape(x_train, (x_train.shape[0], 784)) / 255.0).astype(np.float32)"
   ]
  },
  {
   "cell_type": "code",
   "execution_count": 2,
   "id": "b1ee6112",
   "metadata": {
    "tags": []
   },
   "outputs": [
    {
     "name": "stderr",
     "output_type": "stream",
     "text": [
      "2023-05-30 17:03:02.567311: I tensorflow/core/platform/cpu_feature_guard.cc:151] This TensorFlow binary is optimized with oneAPI Deep Neural Network Library (oneDNN) to use the following CPU instructions in performance-critical operations:  AVX2 FMA\n",
      "To enable them in other operations, rebuild TensorFlow with the appropriate compiler flags.\n",
      "2023-05-30 17:03:03.091720: I tensorflow/core/common_runtime/gpu/gpu_device.cc:1525] Created device /job:localhost/replica:0/task:0/device:GPU:0 with 14660 MB memory:  -> device: 0, name: Tesla T4, pci bus id: 0001:00:00.0, compute capability: 7.5\n"
     ]
    }
   ],
   "source": [
    "W = tf.Variable(tf.zeros([784,10]),name='W')\n",
    "b = tf.Variable(tf.zeros([10]),name='b')\n",
    "\n",
    "# predicted probability for each class\n",
    "def y_pred(x):\n",
    "    return tf.nn.softmax(tf.matmul(x,W) + b)\n",
    "\n",
    "# cross entropy loss function\n",
    "@tf.function\n",
    "def loss(x,y):\n",
    "    y_ = y_pred(x)\n",
    "    return tf.reduce_mean(-tf.reduce_sum(y * tf.math.log(y_), axis=[1]))"
   ]
  },
  {
   "cell_type": "code",
   "execution_count": 3,
   "id": "d60d025a-bf24-4afe-8d2a-39e9cd645e11",
   "metadata": {
    "tags": []
   },
   "outputs": [],
   "source": [
    "# %load_ext tensorboard                   this for Colab only"
   ]
  },
  {
   "cell_type": "markdown",
   "id": "bc37ac3b-8908-4364-a4c0-26d753f97430",
   "metadata": {},
   "source": [
    "## Static graph"
   ]
  },
  {
   "cell_type": "code",
   "execution_count": 4,
   "id": "fd3596cf",
   "metadata": {
    "tags": []
   },
   "outputs": [],
   "source": [
    "# Set up logging jupiterhub tensorboard\n",
    "logdir = '/home/jovyan/logs'\n",
    "writer = tf.summary.create_file_writer(logdir)\n",
    "\n",
    "# Bracket the function call with trace_on and trace_export\n",
    "tf.summary.trace_on()\n",
    "# Call only once tf.function when tracing.\n",
    "z = loss(x_input, y_input)     #this compiles the graph\n",
    "with writer.as_default():\n",
    "    tf.summary.trace_export(name='graph', step=0) #iteration of training"
   ]
  },
  {
   "cell_type": "markdown",
   "id": "2bfdc105-6da4-41e4-a7f2-53b53d422d98",
   "metadata": {},
   "source": [
    "Check graph in tensorboard"
   ]
  },
  {
   "cell_type": "markdown",
   "id": "7e2e7775-ecc6-4fd4-a4d9-a9cf2e6287d9",
   "metadata": {},
   "source": [
    "## Now let's see how the loss is changing over time"
   ]
  },
  {
   "cell_type": "code",
   "execution_count": 5,
   "id": "a77a141c",
   "metadata": {
    "tags": []
   },
   "outputs": [],
   "source": [
    "# now add in the training bits of the graph\n",
    "train_steps = 500\n",
    "\n",
    "# learning rate\n",
    "lr = 1e-1\n",
    "\n",
    "# gradient descent optimizer\n",
    "optimizer = tf.optimizers.SGD(lr)"
   ]
  },
  {
   "cell_type": "code",
   "execution_count": 6,
   "id": "8f5676f5-89b2-44ed-9e91-d94d679cfbce",
   "metadata": {
    "tags": []
   },
   "outputs": [
    {
     "data": {
      "application/vnd.jupyter.widget-view+json": {
       "model_id": "938b9cbee71c404486bd1f414d20f03b",
       "version_major": 2,
       "version_minor": 0
      },
      "text/plain": [
       "  0%|          | 0/500 [00:00<?, ?it/s]"
      ]
     },
     "metadata": {},
     "output_type": "display_data"
    }
   ],
   "source": [
    "with writer.as_default(): # use the contex manager to specify the writer\n",
    "    for i in tqdm(range(train_steps)):\n",
    "        with tf.GradientTape() as tape:\n",
    "            current_loss = loss(x_input,y_input)\n",
    "        gradients = tape.gradient(current_loss, [W, b])\n",
    "        optimizer.apply_gradients(zip(gradients, [W ,b]))\n",
    "        # write the value to tensorboard summary stats\n",
    "        if i%20 ==0: #every 20 time steps\n",
    "            tf.summary.scalar('loss', current_loss, step=i)  #this is a single number"
   ]
  },
  {
   "cell_type": "markdown",
   "id": "e82c4bf1-307f-4c02-894a-572273f116d7",
   "metadata": {},
   "source": [
    "### Same with an Adam optimizer"
   ]
  },
  {
   "cell_type": "code",
   "execution_count": 11,
   "id": "75b5a622-8556-452b-adce-91fd7a36cbe8",
   "metadata": {
    "tags": []
   },
   "outputs": [
    {
     "data": {
      "text/plain": [
       "\u001b[0;31mInit signature:\u001b[0m\n",
       "\u001b[0mtf\u001b[0m\u001b[0;34m.\u001b[0m\u001b[0moptimizers\u001b[0m\u001b[0;34m.\u001b[0m\u001b[0mAdam\u001b[0m\u001b[0;34m(\u001b[0m\u001b[0;34m\u001b[0m\n",
       "\u001b[0;34m\u001b[0m    \u001b[0mlearning_rate\u001b[0m\u001b[0;34m=\u001b[0m\u001b[0;36m0.001\u001b[0m\u001b[0;34m,\u001b[0m\u001b[0;34m\u001b[0m\n",
       "\u001b[0;34m\u001b[0m    \u001b[0mbeta_1\u001b[0m\u001b[0;34m=\u001b[0m\u001b[0;36m0.9\u001b[0m\u001b[0;34m,\u001b[0m\u001b[0;34m\u001b[0m\n",
       "\u001b[0;34m\u001b[0m    \u001b[0mbeta_2\u001b[0m\u001b[0;34m=\u001b[0m\u001b[0;36m0.999\u001b[0m\u001b[0;34m,\u001b[0m\u001b[0;34m\u001b[0m\n",
       "\u001b[0;34m\u001b[0m    \u001b[0mepsilon\u001b[0m\u001b[0;34m=\u001b[0m\u001b[0;36m1e-07\u001b[0m\u001b[0;34m,\u001b[0m\u001b[0;34m\u001b[0m\n",
       "\u001b[0;34m\u001b[0m    \u001b[0mamsgrad\u001b[0m\u001b[0;34m=\u001b[0m\u001b[0;32mFalse\u001b[0m\u001b[0;34m,\u001b[0m\u001b[0;34m\u001b[0m\n",
       "\u001b[0;34m\u001b[0m    \u001b[0mname\u001b[0m\u001b[0;34m=\u001b[0m\u001b[0;34m'Adam'\u001b[0m\u001b[0;34m,\u001b[0m\u001b[0;34m\u001b[0m\n",
       "\u001b[0;34m\u001b[0m    \u001b[0;34m**\u001b[0m\u001b[0mkwargs\u001b[0m\u001b[0;34m,\u001b[0m\u001b[0;34m\u001b[0m\n",
       "\u001b[0;34m\u001b[0m\u001b[0;34m)\u001b[0m\u001b[0;34m\u001b[0m\u001b[0;34m\u001b[0m\u001b[0m\n",
       "\u001b[0;31mDocstring:\u001b[0m     \n",
       "Optimizer that implements the Adam algorithm.\n",
       "\n",
       "Adam optimization is a stochastic gradient descent method that is based on\n",
       "adaptive estimation of first-order and second-order moments.\n",
       "\n",
       "According to\n",
       "[Kingma et al., 2014](http://arxiv.org/abs/1412.6980),\n",
       "the method is \"*computationally\n",
       "efficient, has little memory requirement, invariant to diagonal rescaling of\n",
       "gradients, and is well suited for problems that are large in terms of\n",
       "data/parameters*\".\n",
       "\n",
       "Args:\n",
       "  learning_rate: A `Tensor`, floating point value, or a schedule that is a\n",
       "    `tf.keras.optimizers.schedules.LearningRateSchedule`, or a callable\n",
       "    that takes no arguments and returns the actual value to use, The\n",
       "    learning rate. Defaults to 0.001.\n",
       "  beta_1: A float value or a constant float tensor, or a callable\n",
       "    that takes no arguments and returns the actual value to use. The\n",
       "    exponential decay rate for the 1st moment estimates. Defaults to 0.9.\n",
       "  beta_2: A float value or a constant float tensor, or a callable\n",
       "    that takes no arguments and returns the actual value to use, The\n",
       "    exponential decay rate for the 2nd moment estimates. Defaults to 0.999.\n",
       "  epsilon: A small constant for numerical stability. This epsilon is\n",
       "    \"epsilon hat\" in the Kingma and Ba paper (in the formula just before\n",
       "    Section 2.1), not the epsilon in Algorithm 1 of the paper. Defaults to\n",
       "    1e-7.\n",
       "  amsgrad: Boolean. Whether to apply AMSGrad variant of this algorithm from\n",
       "    the paper \"On the Convergence of Adam and beyond\". Defaults to `False`.\n",
       "  name: Optional name for the operations created when applying gradients.\n",
       "    Defaults to `\"Adam\"`.\n",
       "  **kwargs: Keyword arguments. Allowed to be one of\n",
       "    `\"clipnorm\"` or `\"clipvalue\"`.\n",
       "    `\"clipnorm\"` (float) clips gradients by norm; `\"clipvalue\"` (float) clips\n",
       "    gradients by value.\n",
       "\n",
       "Usage:\n",
       "\n",
       ">>> opt = tf.keras.optimizers.Adam(learning_rate=0.1)\n",
       ">>> var1 = tf.Variable(10.0)\n",
       ">>> loss = lambda: (var1 ** 2)/2.0       # d(loss)/d(var1) == var1\n",
       ">>> step_count = opt.minimize(loss, [var1]).numpy()\n",
       ">>> # The first step is `-learning_rate*sign(grad)`\n",
       ">>> var1.numpy()\n",
       "9.9\n",
       "\n",
       "Reference:\n",
       "  - [Kingma et al., 2014](http://arxiv.org/abs/1412.6980)\n",
       "  - [Reddi et al., 2018](\n",
       "      https://openreview.net/pdf?id=ryQu7f-RZ) for `amsgrad`.\n",
       "\n",
       "Notes:\n",
       "\n",
       "The default value of 1e-7 for epsilon might not be a good default in\n",
       "general. For example, when training an Inception network on ImageNet a\n",
       "current good choice is 1.0 or 0.1. Note that since Adam uses the\n",
       "formulation just before Section 2.1 of the Kingma and Ba paper rather than\n",
       "the formulation in Algorithm 1, the \"epsilon\" referred to here is \"epsilon\n",
       "hat\" in the paper.\n",
       "\n",
       "The sparse implementation of this algorithm (used when the gradient is an\n",
       "IndexedSlices object, typically because of `tf.gather` or an embedding\n",
       "lookup in the forward pass) does apply momentum to variable slices even if\n",
       "they were not used in the forward pass (meaning they have a gradient equal\n",
       "to zero). Momentum decay (beta1) is also applied to the entire momentum\n",
       "accumulator. This means that the sparse behavior is equivalent to the dense\n",
       "behavior (in contrast to some momentum implementations which ignore momentum\n",
       "unless a variable slice was actually used).\n",
       "\u001b[0;31mInit docstring:\u001b[0m\n",
       "Create a new Optimizer.\n",
       "\n",
       "This must be called by the constructors of subclasses.\n",
       "Note that Optimizer instances should not bind to a single graph,\n",
       "and so shouldn't keep Tensors as member variables. Generally\n",
       "you should be able to use the _set_hyper()/state.get_hyper()\n",
       "facility instead.\n",
       "\n",
       "This class is stateful and thread-compatible.\n",
       "\n",
       "Example of custom gradient transformations:\n",
       "\n",
       "```python\n",
       "def my_gradient_transformer(grads_and_vars):\n",
       "  # Simple example, double the gradients.\n",
       "  return [(2. * g, v) for g, v in grads_and_vars]\n",
       "\n",
       "optimizer = tf.keras.optimizers.SGD(\n",
       "    1e-3, gradient_transformers=[my_gradient_transformer])\n",
       "```\n",
       "\n",
       "Args:\n",
       "  name: String. The name to use for momentum accumulator weights created\n",
       "    by the optimizer.\n",
       "  gradient_aggregator: The function to use to aggregate gradients across\n",
       "    devices (when using `tf.distribute.Strategy`). If `None`, defaults to\n",
       "    summing the gradients across devices. The function should accept and\n",
       "    return a list of `(gradient, variable)` tuples.\n",
       "  gradient_transformers: Optional. List of functions to use to transform\n",
       "    gradients before applying updates to Variables. The functions are\n",
       "    applied after `gradient_aggregator`. The functions should accept and\n",
       "    return a list of `(gradient, variable)` tuples.\n",
       "  **kwargs: keyword arguments. Allowed arguments are `clipvalue`,\n",
       "    `clipnorm`, `global_clipnorm`.\n",
       "    If `clipvalue` (float) is set, the gradient of each weight\n",
       "    is clipped to be no higher than this value.\n",
       "    If `clipnorm` (float) is set, the gradient of each weight\n",
       "    is individually clipped so that its norm is no higher than this value.\n",
       "    If `global_clipnorm` (float) is set the gradient of all weights is\n",
       "    clipped so that their global norm is no higher than this value.\n",
       "\n",
       "Raises:\n",
       "  ValueError: in case of any invalid argument.\n",
       "\u001b[0;31mFile:\u001b[0m           /opt/conda/lib/python3.8/site-packages/keras/optimizer_v2/adam.py\n",
       "\u001b[0;31mType:\u001b[0m           type\n",
       "\u001b[0;31mSubclasses:\u001b[0m     "
      ]
     },
     "metadata": {},
     "output_type": "display_data"
    }
   ],
   "source": [
    "?tf.optimizers.Adam"
   ]
  },
  {
   "cell_type": "code",
   "execution_count": 8,
   "id": "6832afe2-a80c-47cd-9638-f6e4df2f6f61",
   "metadata": {
    "tags": []
   },
   "outputs": [],
   "source": [
    "# now add in the training bits of the graph\n",
    "train_steps = 500\n",
    "\n",
    "# learning rate\n",
    "lr = 1e-3\n",
    "\n",
    "# gradient descent optimizer\n",
    "optimizer = tf.optimizers.Adam(lr)\n",
    "\n",
    "W = tf.Variable(tf.zeros([784,10]),name='W')\n",
    "b = tf.Variable(tf.zeros([10]),name='b')\n",
    "\n",
    "# predicted probability for each class\n",
    "def y_pred(x):\n",
    "    return tf.nn.softmax(tf.matmul(x,W) + b)\n",
    "\n",
    "# cross entropy loss function\n",
    "@tf.function\n",
    "def loss(x,y):\n",
    "    y_ = y_pred(x)\n",
    "    return tf.reduce_mean(-tf.reduce_sum(y * tf.math.log(y_), axis=[1]))"
   ]
  },
  {
   "cell_type": "code",
   "execution_count": 9,
   "id": "0f994623-2e64-4051-9f9c-f63ee2d414d4",
   "metadata": {
    "tags": []
   },
   "outputs": [
    {
     "data": {
      "application/vnd.jupyter.widget-view+json": {
       "model_id": "7b5c91379a4546faa7cc710a9276ad83",
       "version_major": 2,
       "version_minor": 0
      },
      "text/plain": [
       "  0%|          | 0/500 [00:00<?, ?it/s]"
      ]
     },
     "metadata": {},
     "output_type": "display_data"
    }
   ],
   "source": [
    "pbar = tqdm(range(train_steps))\n",
    "with writer.as_default(): # use the contex manager to specify the writer\n",
    "    for i in pbar:\n",
    "        with tf.GradientTape() as tape:\n",
    "            current_loss = loss(x_input,y_input)\n",
    "        gradients = tape.gradient(current_loss, [W, b])\n",
    "        optimizer.apply_gradients(zip(gradients, [W ,b]))\n",
    "        tf.summary.scalar('lossadam', current_loss, step=i)  #this is a single number\n",
    "        pbar.set_description_str(str(current_loss.numpy()))\n",
    "        "
   ]
  },
  {
   "cell_type": "markdown",
   "id": "0a1e8a61-f27b-4395-acad-fd88a0e2cc8c",
   "metadata": {},
   "source": [
    "## Output slice of the weights value which we can visualise in 2 dimensions"
   ]
  },
  {
   "cell_type": "code",
   "execution_count": 12,
   "id": "962fa379-8224-4270-b443-fac7d1bcb06b",
   "metadata": {
    "tags": []
   },
   "outputs": [],
   "source": [
    "# now add in the training bits of the graph\n",
    "train_steps = 500\n",
    "\n",
    "# learning rate\n",
    "lr = 1e-1\n",
    "\n",
    "# gradient descent optimizer\n",
    "optimizer = tf.optimizers.SGD(lr)\n",
    "\n",
    "W = tf.Variable(tf.zeros([784,10]),name='W')\n",
    "b = tf.Variable(tf.zeros([10]),name='b')\n",
    "\n",
    "# predicted probability for each class\n",
    "def y_pred(x):\n",
    "    return tf.nn.softmax(tf.matmul(x,W) + b)\n",
    "\n",
    "# cross entropy loss function\n",
    "@tf.function\n",
    "def loss(x,y):\n",
    "    y_ = y_pred(x)\n",
    "    return tf.reduce_mean(-tf.reduce_sum(y * tf.math.log(y_), axis=[1]))"
   ]
  },
  {
   "cell_type": "code",
   "execution_count": 9,
   "id": "73980d25",
   "metadata": {
    "tags": []
   },
   "outputs": [],
   "source": [
    "with writer.as_default(): # use the contex manager to specify the writer\n",
    "    for i in range(train_steps):\n",
    "        with tf.GradientTape() as tape:\n",
    "            current_loss = loss(x_input,y_input)\n",
    "        gradients = tape.gradient(current_loss, [W, b])\n",
    "        optimizer.apply_gradients(zip(gradients, [W ,b]))\n",
    "        # write the value to tensorboard summary stats\n",
    "        if i%20 ==0: \n",
    "            W_slice = tf.reshape(W[:,0],[1,28,28,1])    # reshaping; extra 1 are paddings\n",
    "            tf.summary.image('image', W_slice, step=i)\n"
   ]
  },
  {
   "cell_type": "code",
   "execution_count": null,
   "id": "2eebdbc5-d601-498e-a842-ebaf12f308fd",
   "metadata": {},
   "outputs": [],
   "source": [
    "#we can also use it to visualise an image while it's training"
   ]
  }
 ],
 "metadata": {
  "kernelspec": {
   "display_name": "Python 3 (ipykernel)",
   "language": "python",
   "name": "python3"
  },
  "language_info": {
   "codemirror_mode": {
    "name": "ipython",
    "version": 3
   },
   "file_extension": ".py",
   "mimetype": "text/x-python",
   "name": "python",
   "nbconvert_exporter": "python",
   "pygments_lexer": "ipython3",
   "version": "3.8.16"
  },
  "toc-autonumbering": false,
  "toc-showcode": true,
  "toc-showmarkdowntxt": true,
  "toc-showtags": true
 },
 "nbformat": 4,
 "nbformat_minor": 5
}
