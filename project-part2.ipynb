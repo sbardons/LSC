{
 "cells": [
  {
   "cell_type": "code",
   "execution_count": 1,
   "id": "d4c41da1-e2da-459d-b23e-0f88e0bcfab7",
   "metadata": {},
   "outputs": [
    {
     "name": "stdout",
     "output_type": "stream",
     "text": [
      "Collecting tensorflow_addons\n",
      "  Using cached tensorflow_addons-0.21.0-cp38-cp38-manylinux_2_17_x86_64.manylinux2014_x86_64.whl (612 kB)\n",
      "Requirement already satisfied: packaging in /opt/conda/lib/python3.8/site-packages (from tensorflow_addons) (23.1)\n",
      "Collecting typeguard<3.0.0,>=2.7 (from tensorflow_addons)\n",
      "  Using cached typeguard-2.13.3-py3-none-any.whl (17 kB)\n",
      "Installing collected packages: typeguard, tensorflow_addons\n",
      "Successfully installed tensorflow_addons-0.21.0 typeguard-2.13.3\n"
     ]
    }
   ],
   "source": [
    "!pip install tensorflow_addons"
   ]
  },
  {
   "cell_type": "code",
   "execution_count": 2,
   "id": "48cba834",
   "metadata": {},
   "outputs": [
    {
     "name": "stderr",
     "output_type": "stream",
     "text": [
      "/opt/conda/lib/python3.8/site-packages/tensorflow_addons/utils/tfa_eol_msg.py:23: UserWarning: \n",
      "\n",
      "TensorFlow Addons (TFA) has ended development and introduction of new features.\n",
      "TFA has entered a minimal maintenance and release mode until a planned end of life in May 2024.\n",
      "Please modify downstream libraries to take dependencies from other repositories in our TensorFlow community (e.g. Keras, Keras-CV, and Keras-NLP). \n",
      "\n",
      "For more information see: https://github.com/tensorflow/addons/issues/2807 \n",
      "\n",
      "  warnings.warn(\n",
      "/opt/conda/lib/python3.8/site-packages/tensorflow_addons/utils/ensure_tf_install.py:53: UserWarning: Tensorflow Addons supports using Python ops for all Tensorflow versions above or equal to 2.11.0 and strictly below 2.14.0 (nightly versions are not supported). \n",
      " The versions of TensorFlow you are currently using is 2.8.0 and is not supported. \n",
      "Some things might work, some things might not.\n",
      "If you were to encounter a bug, do not file an issue.\n",
      "If you want to make sure you're using a tested and supported configuration, either change the TensorFlow version or the TensorFlow Addons's version. \n",
      "You can find the compatibility matrix in TensorFlow Addon's readme:\n",
      "https://github.com/tensorflow/addons\n",
      "  warnings.warn(\n"
     ]
    }
   ],
   "source": [
    "#Imports and settings\n",
    "\n",
    "import numpy as np\n",
    "import pandas as pd\n",
    "import itertools\n",
    "import matplotlib.pyplot as plt\n",
    "import sys\n",
    "\n",
    "import tensorflow as tf\n",
    "from tqdm.notebook import tqdm\n",
    "import tensorflow_addons as tfa\n",
    "\n",
    "\n",
    "from sklearn.model_selection import train_test_split\n",
    "\n",
    "np.set_printoptions(suppress=True)"
   ]
  },
  {
   "cell_type": "code",
   "execution_count": 3,
   "id": "faa4774a",
   "metadata": {},
   "outputs": [],
   "source": [
    "# load the features and labels (subtract 1 as the labels aren't indexed from 0)\n",
    "ytest = np.loadtxt('/home/jovyan/datasets/UCI_HAR_DATASET/test/y_test.txt')-1\n",
    "ytrain = np.loadtxt('/home/jovyan/datasets/UCI_HAR_DATASET/train/y_train.txt')-1"
   ]
  },
  {
   "cell_type": "code",
   "execution_count": 4,
   "id": "94f38004",
   "metadata": {},
   "outputs": [],
   "source": [
    "# load the x,y,z body accelerations test data\n",
    "xx_test=np.loadtxt('/home/jovyan/datasets/UCI_HAR_DATASET/test/Inertial Signals/body_acc_x_test.txt')\n",
    "yy_test=np.loadtxt('/home/jovyan/datasets/UCI_HAR_DATASET/test/Inertial Signals/body_acc_y_test.txt')\n",
    "zz_test=np.loadtxt('/home/jovyan/datasets/UCI_HAR_DATASET/test/Inertial Signals/body_acc_z_test.txt')\n",
    "# concatenate the arrays along the last dimension\n",
    "xtest = np.concatenate((xx_test[:,:,None],yy_test[:,:,None],zz_test[:,:,None]),axis=2)\n",
    "# (using None here adds an extra dimension of size 1 to the end of the array)"
   ]
  },
  {
   "cell_type": "code",
   "execution_count": 5,
   "id": "d43adc6c",
   "metadata": {},
   "outputs": [],
   "source": [
    "# follow the same approach for the train data\n",
    "xx_train=np.loadtxt('/home/jovyan/datasets/UCI_HAR_DATASET/train/Inertial Signals/body_acc_x_train.txt')\n",
    "yy_train=np.loadtxt('/home/jovyan/datasets/UCI_HAR_DATASET/train/Inertial Signals/body_acc_y_train.txt')\n",
    "zz_train=np.loadtxt('/home/jovyan/datasets/UCI_HAR_DATASET/train/Inertial Signals/body_acc_z_train.txt')\n",
    "xtrain = np.concatenate((xx_train[:,:,None],yy_train[:,:,None],zz_train[:,:,None]),axis=2)"
   ]
  },
  {
   "cell_type": "code",
   "execution_count": 6,
   "id": "c05a0b7b",
   "metadata": {},
   "outputs": [
    {
     "name": "stdout",
     "output_type": "stream",
     "text": [
      "(7352, 128, 3)\n",
      "(2947, 128, 3)\n",
      "(7352,)\n",
      "(2947,)\n"
     ]
    }
   ],
   "source": [
    "print(xtrain.shape)\n",
    "print(xtest.shape)\n",
    "print(ytrain.shape)\n",
    "print(ytest.shape)"
   ]
  },
  {
   "cell_type": "markdown",
   "id": "1eacd237-cb68-4f63-8c0f-f94df312436b",
   "metadata": {},
   "source": [
    "## Part 2\n",
    "### 1‐dimensional convolutional neural network\n",
    "Note: Your training data tensors will need to have their original shape of [n,128,3] so make sure to recreate the tensors after\n",
    "you have completed part 1"
   ]
  },
  {
   "cell_type": "code",
   "execution_count": 7,
   "id": "bd08b0f4-d2f9-409f-a605-6e80fd449ffa",
   "metadata": {},
   "outputs": [],
   "source": [
    "#tensorboad set up\n",
    "logdir = '/home/jovyan/logs/Project/Part2'"
   ]
  },
  {
   "cell_type": "code",
   "execution_count": 8,
   "id": "f4f209fa-e52f-4cfd-9673-02cdf66e7ebe",
   "metadata": {},
   "outputs": [
    {
     "name": "stdout",
     "output_type": "stream",
     "text": [
      "(7352, 128, 3)\n",
      "(2947, 128, 3)\n",
      "(5881, 6)\n",
      "(1471, 6)\n"
     ]
    }
   ],
   "source": [
    "#Recreate the tensors\n",
    "x_input, x_val, y_input, y_val = train_test_split(xtrain, ytrain, test_size=0.2, random_state=10)\n",
    "\n",
    "#one-hot encoding for labels\n",
    "y_input = tf.keras.utils.to_categorical(y_input)\n",
    "y_val = tf.keras.utils.to_categorical(y_val)\n",
    "\n",
    "print(xtrain.shape)\n",
    "print(xtest.shape)\n",
    "print(y_input.shape)\n",
    "print(y_val.shape)"
   ]
  },
  {
   "cell_type": "code",
   "execution_count": 9,
   "id": "dc89a32f-64f8-42d6-9c86-298e6ef608c7",
   "metadata": {},
   "outputs": [
    {
     "name": "stderr",
     "output_type": "stream",
     "text": [
      "2023-07-15 15:42:17.175275: I tensorflow/core/platform/cpu_feature_guard.cc:151] This TensorFlow binary is optimized with oneAPI Deep Neural Network Library (oneDNN) to use the following CPU instructions in performance-critical operations:  AVX2 FMA\n",
      "To enable them in other operations, rebuild TensorFlow with the appropriate compiler flags.\n",
      "2023-07-15 15:42:17.708072: I tensorflow/core/common_runtime/gpu/gpu_device.cc:1525] Created device /job:localhost/replica:0/task:0/device:GPU:0 with 14660 MB memory:  -> device: 0, name: Tesla T4, pci bus id: 0001:00:00.0, compute capability: 7.5\n"
     ]
    }
   ],
   "source": [
    "# Convert your input and validation data to a tensor so that you can pass it into your classifier\n",
    "x_input = tf.convert_to_tensor(x_input, tf.float32)\n",
    "x_val = tf.convert_to_tensor(x_val, tf.float32)\n",
    "y_input = tf.convert_to_tensor(y_input, tf.float32)\n",
    "y_val = tf.convert_to_tensor(y_val, tf.float32)"
   ]
  },
  {
   "cell_type": "code",
   "execution_count": 10,
   "id": "37d04202-e57c-42bc-b1e9-cb1f95aeba2d",
   "metadata": {},
   "outputs": [],
   "source": [
    "# Keras API model\n",
    "\n",
    "#We create the input layer and combine with further dense layers,\n",
    "input_layer = tf.keras.Input(shape=(128, 3))\n",
    "output_layer = tf.keras.layers.Conv1D(filters=128, kernel_size=16)(input_layer)\n",
    "output_layer = tf.keras.layers.BatchNormalization()(output_layer)\n",
    "output_layer = tf.keras.layers.Dense(64, activation='relu')(output_layer)\n",
    "output_layer = tf.keras.layers.GlobalAveragePooling1D()(output_layer)\n",
    "\n",
    "# # Add a softmax layer with  output units:\n",
    "output_layer = tf.keras.layers.Dense(6, activation='softmax')(output_layer)\n"
   ]
  },
  {
   "cell_type": "code",
   "execution_count": 11,
   "id": "259c9bee-d419-4de1-aac9-c18c88e39987",
   "metadata": {},
   "outputs": [
    {
     "name": "stdout",
     "output_type": "stream",
     "text": [
      "Model: \"model\"\n",
      "_________________________________________________________________\n",
      " Layer (type)                Output Shape              Param #   \n",
      "=================================================================\n",
      " input_1 (InputLayer)        [(None, 128, 3)]          0         \n",
      "                                                                 \n",
      " conv1d (Conv1D)             (None, 113, 128)          6272      \n",
      "                                                                 \n",
      " batch_normalization (BatchN  (None, 113, 128)         512       \n",
      " ormalization)                                                   \n",
      "                                                                 \n",
      " dense (Dense)               (None, 113, 64)           8256      \n",
      "                                                                 \n",
      " global_average_pooling1d (G  (None, 64)               0         \n",
      " lobalAveragePooling1D)                                          \n",
      "                                                                 \n",
      " dense_1 (Dense)             (None, 6)                 390       \n",
      "                                                                 \n",
      "=================================================================\n",
      "Total params: 15,430\n",
      "Trainable params: 15,174\n",
      "Non-trainable params: 256\n",
      "_________________________________________________________________\n"
     ]
    }
   ],
   "source": [
    "# Compile model\n",
    "\n",
    "# Callbacks\n",
    "tensorboard_callback = tf.keras.callbacks.TensorBoard(log_dir=logdir)\n",
    "# create a callback that will stop training if the validation loss hasn't improved for 2 epochs\n",
    "early_stopping_callbacks = [tf.keras.callbacks.EarlyStopping(monitor='loss', patience=2)]\n",
    "# initialize tqdm callback with default parameters\n",
    "tqdm_callback = tfa.callbacks.TQDMProgressBar()\n",
    "\n",
    "model = tf.keras.Model(inputs=input_layer,outputs=output_layer)\n",
    "\n",
    "#The compilation and training then proceeds as per the sequential model,\n",
    "model.compile(optimizer=tf.keras.optimizers.Adam(0.001),\n",
    "loss='categorical_crossentropy', metrics=['accuracy'])\n",
    "\n",
    "\n",
    "model.summary()"
   ]
  },
  {
   "cell_type": "code",
   "execution_count": 12,
   "id": "d8379770-47fb-40a4-8c86-977ddb157c2e",
   "metadata": {},
   "outputs": [
    {
     "data": {
      "application/vnd.jupyter.widget-view+json": {
       "model_id": "ef69e0a60eb741bb853a4f65ba8b4bab",
       "version_major": 2,
       "version_minor": 0
      },
      "text/plain": [
       "Training:   0%|           0/200 ETA: ?s,  ?epochs/s"
      ]
     },
     "metadata": {},
     "output_type": "display_data"
    },
    {
     "name": "stdout",
     "output_type": "stream",
     "text": [
      "Epoch 1/200\n"
     ]
    },
    {
     "data": {
      "application/vnd.jupyter.widget-view+json": {
       "model_id": "2152ae4fa4f241a3b012927e9b1c8e30",
       "version_major": 2,
       "version_minor": 0
      },
      "text/plain": [
       "0/46           ETA: ?s - "
      ]
     },
     "metadata": {},
     "output_type": "display_data"
    },
    {
     "name": "stdout",
     "output_type": "stream",
     "text": [
      "Epoch 1/200\n"
     ]
    },
    {
     "name": "stderr",
     "output_type": "stream",
     "text": [
      "2023-07-15 15:42:22.415817: I tensorflow/stream_executor/cuda/cuda_dnn.cc:368] Loaded cuDNN version 8100\n"
     ]
    },
    {
     "name": "stdout",
     "output_type": "stream",
     "text": [
      " 1/46 [..............................] - ETA: 1:30 - loss: 1.7236 - accuracy: 0.2031WARNING:tensorflow:Callback method `on_train_batch_end` is slow compared to the batch time (batch time: 0.0028s vs `on_train_batch_end` time: 0.0033s). Check your callbacks.\n",
      "46/46 [==============================] - 3s 12ms/step - loss: 1.2148 - accuracy: 0.5708 - val_loss: 1.6861 - val_accuracy: 0.2094\n",
      "Epoch 2/200\n"
     ]
    },
    {
     "data": {
      "application/vnd.jupyter.widget-view+json": {
       "model_id": "e5c23ec95005432e95f49f986d7ae215",
       "version_major": 2,
       "version_minor": 0
      },
      "text/plain": [
       "0/46           ETA: ?s - "
      ]
     },
     "metadata": {},
     "output_type": "display_data"
    },
    {
     "name": "stdout",
     "output_type": "stream",
     "text": [
      "Epoch 2/200\n",
      "46/46 [==============================] - 0s 4ms/step - loss: 0.8608 - accuracy: 0.6856 - val_loss: 1.8777 - val_accuracy: 0.1903\n",
      "Epoch 3/200\n"
     ]
    },
    {
     "data": {
      "application/vnd.jupyter.widget-view+json": {
       "model_id": "1504270887db4b11a572cb914be238da",
       "version_major": 2,
       "version_minor": 0
      },
      "text/plain": [
       "0/46           ETA: ?s - "
      ]
     },
     "metadata": {},
     "output_type": "display_data"
    },
    {
     "name": "stdout",
     "output_type": "stream",
     "text": [
      "Epoch 3/200\n",
      "46/46 [==============================] - 0s 4ms/step - loss: 0.6759 - accuracy: 0.7318 - val_loss: 2.1185 - val_accuracy: 0.1924\n",
      "Epoch 4/200\n"
     ]
    },
    {
     "data": {
      "application/vnd.jupyter.widget-view+json": {
       "model_id": "b61000c21b71465a8da2614b6e81f1a3",
       "version_major": 2,
       "version_minor": 0
      },
      "text/plain": [
       "0/46           ETA: ?s - "
      ]
     },
     "metadata": {},
     "output_type": "display_data"
    },
    {
     "name": "stdout",
     "output_type": "stream",
     "text": [
      "Epoch 4/200\n",
      "46/46 [==============================] - 0s 4ms/step - loss: 0.6070 - accuracy: 0.7657 - val_loss: 2.0169 - val_accuracy: 0.2488\n",
      "Epoch 5/200\n"
     ]
    },
    {
     "data": {
      "application/vnd.jupyter.widget-view+json": {
       "model_id": "f8ef88156dea48c48c5ee0388d2e1be8",
       "version_major": 2,
       "version_minor": 0
      },
      "text/plain": [
       "0/46           ETA: ?s - "
      ]
     },
     "metadata": {},
     "output_type": "display_data"
    },
    {
     "name": "stdout",
     "output_type": "stream",
     "text": [
      "Epoch 5/200\n",
      "46/46 [==============================] - 0s 4ms/step - loss: 0.5670 - accuracy: 0.7779 - val_loss: 1.7432 - val_accuracy: 0.2400\n",
      "Epoch 6/200\n"
     ]
    },
    {
     "data": {
      "application/vnd.jupyter.widget-view+json": {
       "model_id": "83808f9e66b24eba871d46d5844e80cb",
       "version_major": 2,
       "version_minor": 0
      },
      "text/plain": [
       "0/46           ETA: ?s - "
      ]
     },
     "metadata": {},
     "output_type": "display_data"
    },
    {
     "name": "stdout",
     "output_type": "stream",
     "text": [
      "Epoch 6/200\n",
      "46/46 [==============================] - 0s 4ms/step - loss: 0.5402 - accuracy: 0.7869 - val_loss: 1.3724 - val_accuracy: 0.3793\n",
      "Epoch 7/200\n"
     ]
    },
    {
     "data": {
      "application/vnd.jupyter.widget-view+json": {
       "model_id": "3abdda60593b44778d614b689acc49ec",
       "version_major": 2,
       "version_minor": 0
      },
      "text/plain": [
       "0/46           ETA: ?s - "
      ]
     },
     "metadata": {},
     "output_type": "display_data"
    },
    {
     "name": "stdout",
     "output_type": "stream",
     "text": [
      "Epoch 7/200\n",
      "46/46 [==============================] - 0s 4ms/step - loss: 0.5226 - accuracy: 0.7941 - val_loss: 0.9820 - val_accuracy: 0.6084\n",
      "Epoch 8/200\n"
     ]
    },
    {
     "data": {
      "application/vnd.jupyter.widget-view+json": {
       "model_id": "a64d107decd04914a6e4b2c92d9523f9",
       "version_major": 2,
       "version_minor": 0
      },
      "text/plain": [
       "0/46           ETA: ?s - "
      ]
     },
     "metadata": {},
     "output_type": "display_data"
    },
    {
     "name": "stdout",
     "output_type": "stream",
     "text": [
      "Epoch 8/200\n",
      "46/46 [==============================] - 0s 4ms/step - loss: 0.5095 - accuracy: 0.8107 - val_loss: 0.7568 - val_accuracy: 0.7104\n",
      "Epoch 9/200\n"
     ]
    },
    {
     "data": {
      "application/vnd.jupyter.widget-view+json": {
       "model_id": "d2da16df26214648bc25cedd8d7d17a3",
       "version_major": 2,
       "version_minor": 0
      },
      "text/plain": [
       "0/46           ETA: ?s - "
      ]
     },
     "metadata": {},
     "output_type": "display_data"
    },
    {
     "name": "stdout",
     "output_type": "stream",
     "text": [
      "Epoch 9/200\n",
      "46/46 [==============================] - 0s 4ms/step - loss: 0.4956 - accuracy: 0.8012 - val_loss: 0.6026 - val_accuracy: 0.7369\n",
      "Epoch 10/200\n"
     ]
    },
    {
     "data": {
      "application/vnd.jupyter.widget-view+json": {
       "model_id": "3b9c4690e88e4bf989ba8fe5f20d3a55",
       "version_major": 2,
       "version_minor": 0
      },
      "text/plain": [
       "0/46           ETA: ?s - "
      ]
     },
     "metadata": {},
     "output_type": "display_data"
    },
    {
     "name": "stdout",
     "output_type": "stream",
     "text": [
      "Epoch 10/200\n",
      "46/46 [==============================] - 0s 4ms/step - loss: 0.4850 - accuracy: 0.8177 - val_loss: 0.5436 - val_accuracy: 0.8158\n",
      "Epoch 11/200\n"
     ]
    },
    {
     "data": {
      "application/vnd.jupyter.widget-view+json": {
       "model_id": "6fea2df03f8240598ce1b251b4e7a80f",
       "version_major": 2,
       "version_minor": 0
      },
      "text/plain": [
       "0/46           ETA: ?s - "
      ]
     },
     "metadata": {},
     "output_type": "display_data"
    },
    {
     "name": "stdout",
     "output_type": "stream",
     "text": [
      "Epoch 11/200\n",
      "46/46 [==============================] - 0s 4ms/step - loss: 0.4751 - accuracy: 0.8162 - val_loss: 0.5068 - val_accuracy: 0.7886\n",
      "Epoch 12/200\n"
     ]
    },
    {
     "data": {
      "application/vnd.jupyter.widget-view+json": {
       "model_id": "bcadf57b9f8944e089895a235abad286",
       "version_major": 2,
       "version_minor": 0
      },
      "text/plain": [
       "0/46           ETA: ?s - "
      ]
     },
     "metadata": {},
     "output_type": "display_data"
    },
    {
     "name": "stdout",
     "output_type": "stream",
     "text": [
      "Epoch 12/200\n",
      "46/46 [==============================] - 0s 5ms/step - loss: 0.4647 - accuracy: 0.8162 - val_loss: 0.4796 - val_accuracy: 0.7988\n",
      "Epoch 13/200\n"
     ]
    },
    {
     "data": {
      "application/vnd.jupyter.widget-view+json": {
       "model_id": "76bc9dabc28a454585a7d65d5fb37a25",
       "version_major": 2,
       "version_minor": 0
      },
      "text/plain": [
       "0/46           ETA: ?s - "
      ]
     },
     "metadata": {},
     "output_type": "display_data"
    },
    {
     "name": "stdout",
     "output_type": "stream",
     "text": [
      "Epoch 13/200\n",
      "46/46 [==============================] - 0s 4ms/step - loss: 0.4645 - accuracy: 0.8182 - val_loss: 0.4586 - val_accuracy: 0.8538\n",
      "Epoch 14/200\n"
     ]
    },
    {
     "data": {
      "application/vnd.jupyter.widget-view+json": {
       "model_id": "ac326727a1834e01b5f9a6655f2006d5",
       "version_major": 2,
       "version_minor": 0
      },
      "text/plain": [
       "0/46           ETA: ?s - "
      ]
     },
     "metadata": {},
     "output_type": "display_data"
    },
    {
     "name": "stdout",
     "output_type": "stream",
     "text": [
      "Epoch 14/200\n",
      "46/46 [==============================] - 0s 4ms/step - loss: 0.4558 - accuracy: 0.8221 - val_loss: 0.4487 - val_accuracy: 0.8076\n",
      "Epoch 15/200\n"
     ]
    },
    {
     "data": {
      "application/vnd.jupyter.widget-view+json": {
       "model_id": "ba51e50852ab4fa28538ee7ed3c942bc",
       "version_major": 2,
       "version_minor": 0
      },
      "text/plain": [
       "0/46           ETA: ?s - "
      ]
     },
     "metadata": {},
     "output_type": "display_data"
    },
    {
     "name": "stdout",
     "output_type": "stream",
     "text": [
      "Epoch 15/200\n",
      "46/46 [==============================] - 0s 4ms/step - loss: 0.4510 - accuracy: 0.8216 - val_loss: 0.4426 - val_accuracy: 0.7981\n",
      "Epoch 16/200\n"
     ]
    },
    {
     "data": {
      "application/vnd.jupyter.widget-view+json": {
       "model_id": "60c3afc640d84b7fb0248c83eff8361d",
       "version_major": 2,
       "version_minor": 0
      },
      "text/plain": [
       "0/46           ETA: ?s - "
      ]
     },
     "metadata": {},
     "output_type": "display_data"
    },
    {
     "name": "stdout",
     "output_type": "stream",
     "text": [
      "Epoch 16/200\n",
      "46/46 [==============================] - 0s 4ms/step - loss: 0.4441 - accuracy: 0.8218 - val_loss: 0.4290 - val_accuracy: 0.8620\n",
      "Epoch 17/200\n"
     ]
    },
    {
     "data": {
      "application/vnd.jupyter.widget-view+json": {
       "model_id": "3b7e9c9db19b4bd0ba71ff81dcb372d2",
       "version_major": 2,
       "version_minor": 0
      },
      "text/plain": [
       "0/46           ETA: ?s - "
      ]
     },
     "metadata": {},
     "output_type": "display_data"
    },
    {
     "name": "stdout",
     "output_type": "stream",
     "text": [
      "Epoch 17/200\n",
      "46/46 [==============================] - 0s 4ms/step - loss: 0.4386 - accuracy: 0.8312 - val_loss: 0.4286 - val_accuracy: 0.8219\n",
      "Epoch 18/200\n"
     ]
    },
    {
     "data": {
      "application/vnd.jupyter.widget-view+json": {
       "model_id": "a0c435ed85bd46d7858a1cec36891118",
       "version_major": 2,
       "version_minor": 0
      },
      "text/plain": [
       "0/46           ETA: ?s - "
      ]
     },
     "metadata": {},
     "output_type": "display_data"
    },
    {
     "name": "stdout",
     "output_type": "stream",
     "text": [
      "Epoch 18/200\n",
      "46/46 [==============================] - 0s 4ms/step - loss: 0.4370 - accuracy: 0.8230 - val_loss: 0.4267 - val_accuracy: 0.8504\n",
      "Epoch 19/200\n"
     ]
    },
    {
     "data": {
      "application/vnd.jupyter.widget-view+json": {
       "model_id": "833fd339b0744c0a9e98d316e7e6b6e6",
       "version_major": 2,
       "version_minor": 0
      },
      "text/plain": [
       "0/46           ETA: ?s - "
      ]
     },
     "metadata": {},
     "output_type": "display_data"
    },
    {
     "name": "stdout",
     "output_type": "stream",
     "text": [
      "Epoch 19/200\n",
      "46/46 [==============================] - 0s 4ms/step - loss: 0.4361 - accuracy: 0.8318 - val_loss: 0.4125 - val_accuracy: 0.8702\n",
      "Epoch 20/200\n"
     ]
    },
    {
     "data": {
      "application/vnd.jupyter.widget-view+json": {
       "model_id": "827fae2c51ed4a42850248437a607ca1",
       "version_major": 2,
       "version_minor": 0
      },
      "text/plain": [
       "0/46           ETA: ?s - "
      ]
     },
     "metadata": {},
     "output_type": "display_data"
    },
    {
     "name": "stdout",
     "output_type": "stream",
     "text": [
      "Epoch 20/200\n",
      "46/46 [==============================] - 0s 4ms/step - loss: 0.4264 - accuracy: 0.8323 - val_loss: 0.4155 - val_accuracy: 0.8280\n",
      "Epoch 21/200\n"
     ]
    },
    {
     "data": {
      "application/vnd.jupyter.widget-view+json": {
       "model_id": "0ac34c4d95e243acb40e192f7127f59a",
       "version_major": 2,
       "version_minor": 0
      },
      "text/plain": [
       "0/46           ETA: ?s - "
      ]
     },
     "metadata": {},
     "output_type": "display_data"
    },
    {
     "name": "stdout",
     "output_type": "stream",
     "text": [
      "Epoch 21/200\n",
      "46/46 [==============================] - 0s 4ms/step - loss: 0.4211 - accuracy: 0.8374 - val_loss: 0.4089 - val_accuracy: 0.8613\n",
      "Epoch 22/200\n"
     ]
    },
    {
     "data": {
      "application/vnd.jupyter.widget-view+json": {
       "model_id": "c83afde1970641bf8367901b8dd95e09",
       "version_major": 2,
       "version_minor": 0
      },
      "text/plain": [
       "0/46           ETA: ?s - "
      ]
     },
     "metadata": {},
     "output_type": "display_data"
    },
    {
     "name": "stdout",
     "output_type": "stream",
     "text": [
      "Epoch 22/200\n",
      "46/46 [==============================] - 0s 4ms/step - loss: 0.4153 - accuracy: 0.8359 - val_loss: 0.4158 - val_accuracy: 0.8606\n",
      "Epoch 23/200\n"
     ]
    },
    {
     "data": {
      "application/vnd.jupyter.widget-view+json": {
       "model_id": "af7913e6378346a9a29052e4bbd8f8a5",
       "version_major": 2,
       "version_minor": 0
      },
      "text/plain": [
       "0/46           ETA: ?s - "
      ]
     },
     "metadata": {},
     "output_type": "display_data"
    },
    {
     "name": "stdout",
     "output_type": "stream",
     "text": [
      "Epoch 23/200\n",
      "46/46 [==============================] - 0s 4ms/step - loss: 0.4250 - accuracy: 0.8286 - val_loss: 0.4024 - val_accuracy: 0.8307\n",
      "Epoch 24/200\n"
     ]
    },
    {
     "data": {
      "application/vnd.jupyter.widget-view+json": {
       "model_id": "cadcc7eaf3d14921accb9370ba8ff50f",
       "version_major": 2,
       "version_minor": 0
      },
      "text/plain": [
       "0/46           ETA: ?s - "
      ]
     },
     "metadata": {},
     "output_type": "display_data"
    },
    {
     "name": "stdout",
     "output_type": "stream",
     "text": [
      "Epoch 24/200\n",
      "46/46 [==============================] - 0s 4ms/step - loss: 0.4181 - accuracy: 0.8320 - val_loss: 0.4045 - val_accuracy: 0.8668\n",
      "Epoch 25/200\n"
     ]
    },
    {
     "data": {
      "application/vnd.jupyter.widget-view+json": {
       "model_id": "9b4950ca0d1d49268bf36a38460e9c3d",
       "version_major": 2,
       "version_minor": 0
      },
      "text/plain": [
       "0/46           ETA: ?s - "
      ]
     },
     "metadata": {},
     "output_type": "display_data"
    },
    {
     "name": "stdout",
     "output_type": "stream",
     "text": [
      "Epoch 25/200\n",
      "46/46 [==============================] - 0s 4ms/step - loss: 0.4167 - accuracy: 0.8386 - val_loss: 0.3984 - val_accuracy: 0.8654\n",
      "Epoch 26/200\n"
     ]
    },
    {
     "data": {
      "application/vnd.jupyter.widget-view+json": {
       "model_id": "0a643a0d391f475e9b83250b2928fe62",
       "version_major": 2,
       "version_minor": 0
      },
      "text/plain": [
       "0/46           ETA: ?s - "
      ]
     },
     "metadata": {},
     "output_type": "display_data"
    },
    {
     "name": "stdout",
     "output_type": "stream",
     "text": [
      "Epoch 26/200\n",
      "46/46 [==============================] - 0s 4ms/step - loss: 0.4092 - accuracy: 0.8313 - val_loss: 0.3981 - val_accuracy: 0.8688\n",
      "Epoch 27/200\n"
     ]
    },
    {
     "data": {
      "application/vnd.jupyter.widget-view+json": {
       "model_id": "385ea0b027c2405298895120ef6c3319",
       "version_major": 2,
       "version_minor": 0
      },
      "text/plain": [
       "0/46           ETA: ?s - "
      ]
     },
     "metadata": {},
     "output_type": "display_data"
    },
    {
     "name": "stdout",
     "output_type": "stream",
     "text": [
      "Epoch 27/200\n",
      "46/46 [==============================] - 0s 4ms/step - loss: 0.4048 - accuracy: 0.8424 - val_loss: 0.4011 - val_accuracy: 0.8294\n",
      "Epoch 28/200\n"
     ]
    },
    {
     "data": {
      "application/vnd.jupyter.widget-view+json": {
       "model_id": "3ea3ae9a44934b6cb2ac583412958e74",
       "version_major": 2,
       "version_minor": 0
      },
      "text/plain": [
       "0/46           ETA: ?s - "
      ]
     },
     "metadata": {},
     "output_type": "display_data"
    },
    {
     "name": "stdout",
     "output_type": "stream",
     "text": [
      "Epoch 28/200\n",
      "46/46 [==============================] - 0s 4ms/step - loss: 0.4070 - accuracy: 0.8342 - val_loss: 0.3896 - val_accuracy: 0.8606\n",
      "Epoch 29/200\n"
     ]
    },
    {
     "data": {
      "application/vnd.jupyter.widget-view+json": {
       "model_id": "53351c67903b4cc5821375e48b7fae73",
       "version_major": 2,
       "version_minor": 0
      },
      "text/plain": [
       "0/46           ETA: ?s - "
      ]
     },
     "metadata": {},
     "output_type": "display_data"
    },
    {
     "name": "stdout",
     "output_type": "stream",
     "text": [
      "Epoch 29/200\n",
      "46/46 [==============================] - 0s 4ms/step - loss: 0.4000 - accuracy: 0.8436 - val_loss: 0.3865 - val_accuracy: 0.8695\n",
      "Epoch 30/200\n"
     ]
    },
    {
     "data": {
      "application/vnd.jupyter.widget-view+json": {
       "model_id": "2c9bcd90ba354fc9800e7bab2fed32b3",
       "version_major": 2,
       "version_minor": 0
      },
      "text/plain": [
       "0/46           ETA: ?s - "
      ]
     },
     "metadata": {},
     "output_type": "display_data"
    },
    {
     "name": "stdout",
     "output_type": "stream",
     "text": [
      "Epoch 30/200\n",
      "46/46 [==============================] - 0s 4ms/step - loss: 0.3917 - accuracy: 0.8534 - val_loss: 0.3884 - val_accuracy: 0.8538\n",
      "Epoch 31/200\n"
     ]
    },
    {
     "data": {
      "application/vnd.jupyter.widget-view+json": {
       "model_id": "06fa218dee9849a9ac80d59f54356de1",
       "version_major": 2,
       "version_minor": 0
      },
      "text/plain": [
       "0/46           ETA: ?s - "
      ]
     },
     "metadata": {},
     "output_type": "display_data"
    },
    {
     "name": "stdout",
     "output_type": "stream",
     "text": [
      "Epoch 31/200\n",
      "46/46 [==============================] - 0s 4ms/step - loss: 0.3941 - accuracy: 0.8476 - val_loss: 0.3967 - val_accuracy: 0.8606\n",
      "Epoch 32/200\n"
     ]
    },
    {
     "data": {
      "application/vnd.jupyter.widget-view+json": {
       "model_id": "4050211e3ff64fcba5a435abb4b2b334",
       "version_major": 2,
       "version_minor": 0
      },
      "text/plain": [
       "0/46           ETA: ?s - "
      ]
     },
     "metadata": {},
     "output_type": "display_data"
    },
    {
     "name": "stdout",
     "output_type": "stream",
     "text": [
      "Epoch 32/200\n",
      "46/46 [==============================] - 0s 4ms/step - loss: 0.3992 - accuracy: 0.8380 - val_loss: 0.3799 - val_accuracy: 0.8477\n",
      "Epoch 33/200\n"
     ]
    },
    {
     "data": {
      "application/vnd.jupyter.widget-view+json": {
       "model_id": "1cf1d1c48e98426591611fcaf2eb135d",
       "version_major": 2,
       "version_minor": 0
      },
      "text/plain": [
       "0/46           ETA: ?s - "
      ]
     },
     "metadata": {},
     "output_type": "display_data"
    },
    {
     "name": "stdout",
     "output_type": "stream",
     "text": [
      "Epoch 33/200\n",
      "46/46 [==============================] - 0s 4ms/step - loss: 0.3949 - accuracy: 0.8476 - val_loss: 0.3995 - val_accuracy: 0.8477\n",
      "Epoch 34/200\n"
     ]
    },
    {
     "data": {
      "application/vnd.jupyter.widget-view+json": {
       "model_id": "f7e0f1bea5f64708a41cf7d91f3736ae",
       "version_major": 2,
       "version_minor": 0
      },
      "text/plain": [
       "0/46           ETA: ?s - "
      ]
     },
     "metadata": {},
     "output_type": "display_data"
    },
    {
     "name": "stdout",
     "output_type": "stream",
     "text": [
      "Epoch 34/200\n",
      "46/46 [==============================] - 0s 4ms/step - loss: 0.3930 - accuracy: 0.8429 - val_loss: 0.3751 - val_accuracy: 0.8593\n",
      "Epoch 35/200\n"
     ]
    },
    {
     "data": {
      "application/vnd.jupyter.widget-view+json": {
       "model_id": "86f7716d733b4437a0e0eb52f8fcd37a",
       "version_major": 2,
       "version_minor": 0
      },
      "text/plain": [
       "0/46           ETA: ?s - "
      ]
     },
     "metadata": {},
     "output_type": "display_data"
    },
    {
     "name": "stdout",
     "output_type": "stream",
     "text": [
      "Epoch 35/200\n",
      "46/46 [==============================] - 0s 4ms/step - loss: 0.3898 - accuracy: 0.8471 - val_loss: 0.3834 - val_accuracy: 0.8600\n",
      "Epoch 36/200\n"
     ]
    },
    {
     "data": {
      "application/vnd.jupyter.widget-view+json": {
       "model_id": "3b26d8b7685749f6877dfac7a5697cff",
       "version_major": 2,
       "version_minor": 0
      },
      "text/plain": [
       "0/46           ETA: ?s - "
      ]
     },
     "metadata": {},
     "output_type": "display_data"
    },
    {
     "name": "stdout",
     "output_type": "stream",
     "text": [
      "Epoch 36/200\n",
      "46/46 [==============================] - 0s 4ms/step - loss: 0.3924 - accuracy: 0.8463 - val_loss: 0.3819 - val_accuracy: 0.8708\n",
      "Epoch 37/200\n"
     ]
    },
    {
     "data": {
      "application/vnd.jupyter.widget-view+json": {
       "model_id": "c75dab311e2d4f479d528ebc0f762110",
       "version_major": 2,
       "version_minor": 0
      },
      "text/plain": [
       "0/46           ETA: ?s - "
      ]
     },
     "metadata": {},
     "output_type": "display_data"
    },
    {
     "name": "stdout",
     "output_type": "stream",
     "text": [
      "Epoch 37/200\n",
      "46/46 [==============================] - 0s 4ms/step - loss: 0.3961 - accuracy: 0.8347 - val_loss: 0.3802 - val_accuracy: 0.8579\n",
      "Epoch 38/200\n"
     ]
    },
    {
     "data": {
      "application/vnd.jupyter.widget-view+json": {
       "model_id": "979f8ece19d846b5a0c990210c3907c0",
       "version_major": 2,
       "version_minor": 0
      },
      "text/plain": [
       "0/46           ETA: ?s - "
      ]
     },
     "metadata": {},
     "output_type": "display_data"
    },
    {
     "name": "stdout",
     "output_type": "stream",
     "text": [
      "Epoch 38/200\n",
      "46/46 [==============================] - 0s 4ms/step - loss: 0.3855 - accuracy: 0.8407 - val_loss: 0.3745 - val_accuracy: 0.8817\n",
      "Epoch 39/200\n"
     ]
    },
    {
     "data": {
      "application/vnd.jupyter.widget-view+json": {
       "model_id": "1051f857eb1d4ccf8a4eaf8990665e03",
       "version_major": 2,
       "version_minor": 0
      },
      "text/plain": [
       "0/46           ETA: ?s - "
      ]
     },
     "metadata": {},
     "output_type": "display_data"
    },
    {
     "name": "stdout",
     "output_type": "stream",
     "text": [
      "Epoch 39/200\n",
      "46/46 [==============================] - 0s 4ms/step - loss: 0.3817 - accuracy: 0.8533 - val_loss: 0.3841 - val_accuracy: 0.8627\n",
      "Epoch 40/200\n"
     ]
    },
    {
     "data": {
      "application/vnd.jupyter.widget-view+json": {
       "model_id": "df617623d430484f9925dd1210e31aa3",
       "version_major": 2,
       "version_minor": 0
      },
      "text/plain": [
       "0/46           ETA: ?s - "
      ]
     },
     "metadata": {},
     "output_type": "display_data"
    },
    {
     "name": "stdout",
     "output_type": "stream",
     "text": [
      "Epoch 40/200\n",
      "46/46 [==============================] - 0s 4ms/step - loss: 0.3812 - accuracy: 0.8390 - val_loss: 0.3671 - val_accuracy: 0.8715\n",
      "Epoch 41/200\n"
     ]
    },
    {
     "data": {
      "application/vnd.jupyter.widget-view+json": {
       "model_id": "1b6d10dbde1b475d821dd4520f90d476",
       "version_major": 2,
       "version_minor": 0
      },
      "text/plain": [
       "0/46           ETA: ?s - "
      ]
     },
     "metadata": {},
     "output_type": "display_data"
    },
    {
     "name": "stdout",
     "output_type": "stream",
     "text": [
      "Epoch 41/200\n",
      "46/46 [==============================] - 0s 4ms/step - loss: 0.3779 - accuracy: 0.8476 - val_loss: 0.3633 - val_accuracy: 0.8763\n",
      "Epoch 42/200\n"
     ]
    },
    {
     "data": {
      "application/vnd.jupyter.widget-view+json": {
       "model_id": "1c7e92bb2c634a1c9684ddd3c8eaec6e",
       "version_major": 2,
       "version_minor": 0
      },
      "text/plain": [
       "0/46           ETA: ?s - "
      ]
     },
     "metadata": {},
     "output_type": "display_data"
    },
    {
     "name": "stdout",
     "output_type": "stream",
     "text": [
      "Epoch 42/200\n",
      "46/46 [==============================] - 0s 4ms/step - loss: 0.3829 - accuracy: 0.8521 - val_loss: 0.3703 - val_accuracy: 0.8715\n",
      "Epoch 43/200\n"
     ]
    },
    {
     "data": {
      "application/vnd.jupyter.widget-view+json": {
       "model_id": "04fd8c44400044ceb1f012b9de75ddb9",
       "version_major": 2,
       "version_minor": 0
      },
      "text/plain": [
       "0/46           ETA: ?s - "
      ]
     },
     "metadata": {},
     "output_type": "display_data"
    },
    {
     "name": "stdout",
     "output_type": "stream",
     "text": [
      "Epoch 43/200\n",
      "46/46 [==============================] - 0s 4ms/step - loss: 0.3837 - accuracy: 0.8456 - val_loss: 0.3705 - val_accuracy: 0.8634\n",
      "Epoch 44/200\n"
     ]
    },
    {
     "data": {
      "application/vnd.jupyter.widget-view+json": {
       "model_id": "366b2ff3f52d4b17982f18469b3c70ed",
       "version_major": 2,
       "version_minor": 0
      },
      "text/plain": [
       "0/46           ETA: ?s - "
      ]
     },
     "metadata": {},
     "output_type": "display_data"
    },
    {
     "name": "stdout",
     "output_type": "stream",
     "text": [
      "Epoch 44/200\n",
      "46/46 [==============================] - 0s 4ms/step - loss: 0.3766 - accuracy: 0.8541 - val_loss: 0.3688 - val_accuracy: 0.8600\n",
      "Epoch 45/200\n"
     ]
    },
    {
     "data": {
      "application/vnd.jupyter.widget-view+json": {
       "model_id": "d190a8c5b3784d168db15f861d61e694",
       "version_major": 2,
       "version_minor": 0
      },
      "text/plain": [
       "0/46           ETA: ?s - "
      ]
     },
     "metadata": {},
     "output_type": "display_data"
    },
    {
     "name": "stdout",
     "output_type": "stream",
     "text": [
      "Epoch 45/200\n",
      "46/46 [==============================] - 0s 4ms/step - loss: 0.3730 - accuracy: 0.8512 - val_loss: 0.3642 - val_accuracy: 0.8736\n",
      "Epoch 46/200\n"
     ]
    },
    {
     "data": {
      "application/vnd.jupyter.widget-view+json": {
       "model_id": "525be7894e654bdb8606fd235a091619",
       "version_major": 2,
       "version_minor": 0
      },
      "text/plain": [
       "0/46           ETA: ?s - "
      ]
     },
     "metadata": {},
     "output_type": "display_data"
    },
    {
     "name": "stdout",
     "output_type": "stream",
     "text": [
      "Epoch 46/200\n",
      "46/46 [==============================] - 0s 4ms/step - loss: 0.3702 - accuracy: 0.8505 - val_loss: 0.3670 - val_accuracy: 0.8613\n",
      "Epoch 47/200\n"
     ]
    },
    {
     "data": {
      "application/vnd.jupyter.widget-view+json": {
       "model_id": "5694f340891c4c17ada9ff9f2aafece2",
       "version_major": 2,
       "version_minor": 0
      },
      "text/plain": [
       "0/46           ETA: ?s - "
      ]
     },
     "metadata": {},
     "output_type": "display_data"
    },
    {
     "name": "stdout",
     "output_type": "stream",
     "text": [
      "Epoch 47/200\n",
      "46/46 [==============================] - 0s 4ms/step - loss: 0.3745 - accuracy: 0.8487 - val_loss: 0.3653 - val_accuracy: 0.8756\n",
      "Epoch 48/200\n"
     ]
    },
    {
     "data": {
      "application/vnd.jupyter.widget-view+json": {
       "model_id": "910257c1b4704f6599a1ee86a636ce98",
       "version_major": 2,
       "version_minor": 0
      },
      "text/plain": [
       "0/46           ETA: ?s - "
      ]
     },
     "metadata": {},
     "output_type": "display_data"
    },
    {
     "name": "stdout",
     "output_type": "stream",
     "text": [
      "Epoch 48/200\n",
      "46/46 [==============================] - 0s 4ms/step - loss: 0.3669 - accuracy: 0.8541 - val_loss: 0.3596 - val_accuracy: 0.8708\n",
      "Epoch 49/200\n"
     ]
    },
    {
     "data": {
      "application/vnd.jupyter.widget-view+json": {
       "model_id": "94fa98277a03437ca17b7dc345f016ee",
       "version_major": 2,
       "version_minor": 0
      },
      "text/plain": [
       "0/46           ETA: ?s - "
      ]
     },
     "metadata": {},
     "output_type": "display_data"
    },
    {
     "name": "stdout",
     "output_type": "stream",
     "text": [
      "Epoch 49/200\n",
      "46/46 [==============================] - 0s 4ms/step - loss: 0.3746 - accuracy: 0.8429 - val_loss: 0.3733 - val_accuracy: 0.8382\n",
      "Epoch 50/200\n"
     ]
    },
    {
     "data": {
      "application/vnd.jupyter.widget-view+json": {
       "model_id": "75114ee0446d40d7b7a1fbceb17e4e8e",
       "version_major": 2,
       "version_minor": 0
      },
      "text/plain": [
       "0/46           ETA: ?s - "
      ]
     },
     "metadata": {},
     "output_type": "display_data"
    },
    {
     "name": "stdout",
     "output_type": "stream",
     "text": [
      "Epoch 50/200\n",
      "46/46 [==============================] - 0s 4ms/step - loss: 0.3705 - accuracy: 0.8429 - val_loss: 0.3722 - val_accuracy: 0.8640\n",
      "Epoch 51/200\n"
     ]
    },
    {
     "data": {
      "application/vnd.jupyter.widget-view+json": {
       "model_id": "d479bc9f590e43159da85b96d7d8576a",
       "version_major": 2,
       "version_minor": 0
      },
      "text/plain": [
       "0/46           ETA: ?s - "
      ]
     },
     "metadata": {},
     "output_type": "display_data"
    },
    {
     "name": "stdout",
     "output_type": "stream",
     "text": [
      "Epoch 51/200\n",
      "46/46 [==============================] - 0s 5ms/step - loss: 0.3651 - accuracy: 0.8522 - val_loss: 0.3768 - val_accuracy: 0.8593\n",
      "Epoch 52/200\n"
     ]
    },
    {
     "data": {
      "application/vnd.jupyter.widget-view+json": {
       "model_id": "a092b09854354ffdbc29b6846f13fc25",
       "version_major": 2,
       "version_minor": 0
      },
      "text/plain": [
       "0/46           ETA: ?s - "
      ]
     },
     "metadata": {},
     "output_type": "display_data"
    },
    {
     "name": "stdout",
     "output_type": "stream",
     "text": [
      "Epoch 52/200\n",
      "46/46 [==============================] - 0s 4ms/step - loss: 0.3811 - accuracy: 0.8461 - val_loss: 0.3688 - val_accuracy: 0.8668\n",
      "Epoch 53/200\n"
     ]
    },
    {
     "data": {
      "application/vnd.jupyter.widget-view+json": {
       "model_id": "00fc87eb90cc4c8b856e9024b166466e",
       "version_major": 2,
       "version_minor": 0
      },
      "text/plain": [
       "0/46           ETA: ?s - "
      ]
     },
     "metadata": {},
     "output_type": "display_data"
    },
    {
     "name": "stdout",
     "output_type": "stream",
     "text": [
      "Epoch 53/200\n",
      "46/46 [==============================] - 0s 4ms/step - loss: 0.3670 - accuracy: 0.8510 - val_loss: 0.3530 - val_accuracy: 0.8695\n",
      "Epoch 54/200\n"
     ]
    },
    {
     "data": {
      "application/vnd.jupyter.widget-view+json": {
       "model_id": "c083749e27bf416da930c34cf916765f",
       "version_major": 2,
       "version_minor": 0
      },
      "text/plain": [
       "0/46           ETA: ?s - "
      ]
     },
     "metadata": {},
     "output_type": "display_data"
    },
    {
     "name": "stdout",
     "output_type": "stream",
     "text": [
      "Epoch 54/200\n",
      "46/46 [==============================] - 0s 4ms/step - loss: 0.3631 - accuracy: 0.8558 - val_loss: 0.3566 - val_accuracy: 0.8661\n",
      "Epoch 55/200\n"
     ]
    },
    {
     "data": {
      "application/vnd.jupyter.widget-view+json": {
       "model_id": "c255bc26d2a3480eaa2882c0cb69eb1c",
       "version_major": 2,
       "version_minor": 0
      },
      "text/plain": [
       "0/46           ETA: ?s - "
      ]
     },
     "metadata": {},
     "output_type": "display_data"
    },
    {
     "name": "stdout",
     "output_type": "stream",
     "text": [
      "Epoch 55/200\n",
      "46/46 [==============================] - 0s 4ms/step - loss: 0.3596 - accuracy: 0.8555 - val_loss: 0.3598 - val_accuracy: 0.8606\n",
      "Epoch 56/200\n"
     ]
    },
    {
     "data": {
      "application/vnd.jupyter.widget-view+json": {
       "model_id": "bdfb16df284f443d9ec34f42c993efcb",
       "version_major": 2,
       "version_minor": 0
      },
      "text/plain": [
       "0/46           ETA: ?s - "
      ]
     },
     "metadata": {},
     "output_type": "display_data"
    },
    {
     "name": "stdout",
     "output_type": "stream",
     "text": [
      "Epoch 56/200\n",
      "46/46 [==============================] - 0s 4ms/step - loss: 0.3729 - accuracy: 0.8509 - val_loss: 0.3761 - val_accuracy: 0.8382\n",
      "Epoch 57/200\n"
     ]
    },
    {
     "data": {
      "application/vnd.jupyter.widget-view+json": {
       "model_id": "993ce71fea9c489f8b35b63a21ab99e3",
       "version_major": 2,
       "version_minor": 0
      },
      "text/plain": [
       "0/46           ETA: ?s - "
      ]
     },
     "metadata": {},
     "output_type": "display_data"
    },
    {
     "name": "stdout",
     "output_type": "stream",
     "text": [
      "Epoch 57/200\n",
      "46/46 [==============================] - 0s 4ms/step - loss: 0.3590 - accuracy: 0.8568 - val_loss: 0.3495 - val_accuracy: 0.8736\n",
      "Epoch 58/200\n"
     ]
    },
    {
     "data": {
      "application/vnd.jupyter.widget-view+json": {
       "model_id": "d20c92e94759450094f60e0dd30c3244",
       "version_major": 2,
       "version_minor": 0
      },
      "text/plain": [
       "0/46           ETA: ?s - "
      ]
     },
     "metadata": {},
     "output_type": "display_data"
    },
    {
     "name": "stdout",
     "output_type": "stream",
     "text": [
      "Epoch 58/200\n",
      "46/46 [==============================] - 0s 4ms/step - loss: 0.3602 - accuracy: 0.8550 - val_loss: 0.3549 - val_accuracy: 0.8804\n",
      "Epoch 59/200\n"
     ]
    },
    {
     "data": {
      "application/vnd.jupyter.widget-view+json": {
       "model_id": "2cbc63b9571548479f2aed24021b3cd0",
       "version_major": 2,
       "version_minor": 0
      },
      "text/plain": [
       "0/46           ETA: ?s - "
      ]
     },
     "metadata": {},
     "output_type": "display_data"
    },
    {
     "name": "stdout",
     "output_type": "stream",
     "text": [
      "Epoch 59/200\n",
      "46/46 [==============================] - 0s 4ms/step - loss: 0.3620 - accuracy: 0.8548 - val_loss: 0.3612 - val_accuracy: 0.8695\n",
      "Epoch 60/200\n"
     ]
    },
    {
     "data": {
      "application/vnd.jupyter.widget-view+json": {
       "model_id": "900010e7c50d4ecd81c5994b93a3d320",
       "version_major": 2,
       "version_minor": 0
      },
      "text/plain": [
       "0/46           ETA: ?s - "
      ]
     },
     "metadata": {},
     "output_type": "display_data"
    },
    {
     "name": "stdout",
     "output_type": "stream",
     "text": [
      "Epoch 60/200\n",
      "46/46 [==============================] - 0s 5ms/step - loss: 0.3626 - accuracy: 0.8561 - val_loss: 0.3668 - val_accuracy: 0.8375\n",
      "Epoch 61/200\n"
     ]
    },
    {
     "data": {
      "application/vnd.jupyter.widget-view+json": {
       "model_id": "ae6480d798ef4f0683d03122a2d42acf",
       "version_major": 2,
       "version_minor": 0
      },
      "text/plain": [
       "0/46           ETA: ?s - "
      ]
     },
     "metadata": {},
     "output_type": "display_data"
    },
    {
     "name": "stdout",
     "output_type": "stream",
     "text": [
      "Epoch 61/200\n",
      "46/46 [==============================] - 0s 4ms/step - loss: 0.3553 - accuracy: 0.8602 - val_loss: 0.3532 - val_accuracy: 0.8600\n",
      "Epoch 62/200\n"
     ]
    },
    {
     "data": {
      "application/vnd.jupyter.widget-view+json": {
       "model_id": "bfe6bbc552d9475cbf686c24fc3929ee",
       "version_major": 2,
       "version_minor": 0
      },
      "text/plain": [
       "0/46           ETA: ?s - "
      ]
     },
     "metadata": {},
     "output_type": "display_data"
    },
    {
     "name": "stdout",
     "output_type": "stream",
     "text": [
      "Epoch 62/200\n",
      "46/46 [==============================] - 0s 4ms/step - loss: 0.3603 - accuracy: 0.8517 - val_loss: 0.3574 - val_accuracy: 0.8654\n",
      "Epoch 63/200\n"
     ]
    },
    {
     "data": {
      "application/vnd.jupyter.widget-view+json": {
       "model_id": "5ca366fe641b485c8a63923a08b83539",
       "version_major": 2,
       "version_minor": 0
      },
      "text/plain": [
       "0/46           ETA: ?s - "
      ]
     },
     "metadata": {},
     "output_type": "display_data"
    },
    {
     "name": "stdout",
     "output_type": "stream",
     "text": [
      "Epoch 63/200\n",
      "46/46 [==============================] - 0s 4ms/step - loss: 0.3514 - accuracy: 0.8589 - val_loss: 0.3460 - val_accuracy: 0.8844\n",
      "Epoch 64/200\n"
     ]
    },
    {
     "data": {
      "application/vnd.jupyter.widget-view+json": {
       "model_id": "a8c6271a03be46a99d9417e8cbdd7d81",
       "version_major": 2,
       "version_minor": 0
      },
      "text/plain": [
       "0/46           ETA: ?s - "
      ]
     },
     "metadata": {},
     "output_type": "display_data"
    },
    {
     "name": "stdout",
     "output_type": "stream",
     "text": [
      "Epoch 64/200\n",
      "46/46 [==============================] - 0s 4ms/step - loss: 0.3623 - accuracy: 0.8437 - val_loss: 0.3461 - val_accuracy: 0.8831\n",
      "Epoch 65/200\n"
     ]
    },
    {
     "data": {
      "application/vnd.jupyter.widget-view+json": {
       "model_id": "27dd5cb2579a4b6aaa2373412cafe50b",
       "version_major": 2,
       "version_minor": 0
      },
      "text/plain": [
       "0/46           ETA: ?s - "
      ]
     },
     "metadata": {},
     "output_type": "display_data"
    },
    {
     "name": "stdout",
     "output_type": "stream",
     "text": [
      "Epoch 65/200\n",
      "46/46 [==============================] - 0s 4ms/step - loss: 0.3558 - accuracy: 0.8539 - val_loss: 0.3695 - val_accuracy: 0.8566\n",
      "Epoch 66/200\n"
     ]
    },
    {
     "data": {
      "application/vnd.jupyter.widget-view+json": {
       "model_id": "27fbafcb7daa40ed8f03a398b1fe9694",
       "version_major": 2,
       "version_minor": 0
      },
      "text/plain": [
       "0/46           ETA: ?s - "
      ]
     },
     "metadata": {},
     "output_type": "display_data"
    },
    {
     "name": "stdout",
     "output_type": "stream",
     "text": [
      "Epoch 66/200\n",
      "46/46 [==============================] - 0s 4ms/step - loss: 0.3569 - accuracy: 0.8573 - val_loss: 0.3615 - val_accuracy: 0.8477\n",
      "Epoch 67/200\n"
     ]
    },
    {
     "data": {
      "application/vnd.jupyter.widget-view+json": {
       "model_id": "00a972e89f6740b3ba373b60c0bae23f",
       "version_major": 2,
       "version_minor": 0
      },
      "text/plain": [
       "0/46           ETA: ?s - "
      ]
     },
     "metadata": {},
     "output_type": "display_data"
    },
    {
     "name": "stdout",
     "output_type": "stream",
     "text": [
      "Epoch 67/200\n",
      "46/46 [==============================] - 0s 4ms/step - loss: 0.3502 - accuracy: 0.8577 - val_loss: 0.3563 - val_accuracy: 0.8756\n",
      "Epoch 68/200\n"
     ]
    },
    {
     "data": {
      "application/vnd.jupyter.widget-view+json": {
       "model_id": "97eb07752ae34b9d9eb2edf1a9886d57",
       "version_major": 2,
       "version_minor": 0
      },
      "text/plain": [
       "0/46           ETA: ?s - "
      ]
     },
     "metadata": {},
     "output_type": "display_data"
    },
    {
     "name": "stdout",
     "output_type": "stream",
     "text": [
      "Epoch 68/200\n",
      "46/46 [==============================] - 0s 4ms/step - loss: 0.3537 - accuracy: 0.8531 - val_loss: 0.3490 - val_accuracy: 0.8729\n",
      "Epoch 69/200\n"
     ]
    },
    {
     "data": {
      "application/vnd.jupyter.widget-view+json": {
       "model_id": "e6aa0fc19e61430aa8d913c4e62ffa5c",
       "version_major": 2,
       "version_minor": 0
      },
      "text/plain": [
       "0/46           ETA: ?s - "
      ]
     },
     "metadata": {},
     "output_type": "display_data"
    },
    {
     "name": "stdout",
     "output_type": "stream",
     "text": [
      "Epoch 69/200\n",
      "46/46 [==============================] - 0s 4ms/step - loss: 0.3514 - accuracy: 0.8619 - val_loss: 0.3479 - val_accuracy: 0.8790\n",
      "Epoch 70/200\n"
     ]
    },
    {
     "data": {
      "application/vnd.jupyter.widget-view+json": {
       "model_id": "652144b52553474a9c8491acd2edc1c5",
       "version_major": 2,
       "version_minor": 0
      },
      "text/plain": [
       "0/46           ETA: ?s - "
      ]
     },
     "metadata": {},
     "output_type": "display_data"
    },
    {
     "name": "stdout",
     "output_type": "stream",
     "text": [
      "Epoch 70/200\n",
      "46/46 [==============================] - 0s 4ms/step - loss: 0.3487 - accuracy: 0.8633 - val_loss: 0.3513 - val_accuracy: 0.8634\n",
      "Epoch 71/200\n"
     ]
    },
    {
     "data": {
      "application/vnd.jupyter.widget-view+json": {
       "model_id": "ba5f00c08bac48cabe161b7c1e258cb1",
       "version_major": 2,
       "version_minor": 0
      },
      "text/plain": [
       "0/46           ETA: ?s - "
      ]
     },
     "metadata": {},
     "output_type": "display_data"
    },
    {
     "name": "stdout",
     "output_type": "stream",
     "text": [
      "Epoch 71/200\n",
      "46/46 [==============================] - 0s 4ms/step - loss: 0.3473 - accuracy: 0.8619 - val_loss: 0.3504 - val_accuracy: 0.8797\n",
      "Epoch 72/200\n"
     ]
    },
    {
     "data": {
      "application/vnd.jupyter.widget-view+json": {
       "model_id": "f1fbe699007d4de18cf856e22dc605ea",
       "version_major": 2,
       "version_minor": 0
      },
      "text/plain": [
       "0/46           ETA: ?s - "
      ]
     },
     "metadata": {},
     "output_type": "display_data"
    },
    {
     "name": "stdout",
     "output_type": "stream",
     "text": [
      "Epoch 72/200\n",
      "46/46 [==============================] - 0s 4ms/step - loss: 0.3461 - accuracy: 0.8594 - val_loss: 0.3532 - val_accuracy: 0.8749\n",
      "Epoch 73/200\n"
     ]
    },
    {
     "data": {
      "application/vnd.jupyter.widget-view+json": {
       "model_id": "3e31c5fa9fce41e8910a9ebbf66c7563",
       "version_major": 2,
       "version_minor": 0
      },
      "text/plain": [
       "0/46           ETA: ?s - "
      ]
     },
     "metadata": {},
     "output_type": "display_data"
    },
    {
     "name": "stdout",
     "output_type": "stream",
     "text": [
      "Epoch 73/200\n",
      "46/46 [==============================] - 0s 4ms/step - loss: 0.3466 - accuracy: 0.8619 - val_loss: 0.3384 - val_accuracy: 0.8865\n",
      "Epoch 74/200\n"
     ]
    },
    {
     "data": {
      "application/vnd.jupyter.widget-view+json": {
       "model_id": "9bdc1ed8e606437195b048a54bc4966a",
       "version_major": 2,
       "version_minor": 0
      },
      "text/plain": [
       "0/46           ETA: ?s - "
      ]
     },
     "metadata": {},
     "output_type": "display_data"
    },
    {
     "name": "stdout",
     "output_type": "stream",
     "text": [
      "Epoch 74/200\n",
      "46/46 [==============================] - 0s 4ms/step - loss: 0.3577 - accuracy: 0.8546 - val_loss: 0.3386 - val_accuracy: 0.8763\n",
      "Epoch 75/200\n"
     ]
    },
    {
     "data": {
      "application/vnd.jupyter.widget-view+json": {
       "model_id": "3e7dc604dbbe4710acfaac7b086e9515",
       "version_major": 2,
       "version_minor": 0
      },
      "text/plain": [
       "0/46           ETA: ?s - "
      ]
     },
     "metadata": {},
     "output_type": "display_data"
    },
    {
     "name": "stdout",
     "output_type": "stream",
     "text": [
      "Epoch 75/200\n",
      "46/46 [==============================] - 0s 4ms/step - loss: 0.3416 - accuracy: 0.8658 - val_loss: 0.3442 - val_accuracy: 0.8654\n",
      "Epoch 76/200\n"
     ]
    },
    {
     "data": {
      "application/vnd.jupyter.widget-view+json": {
       "model_id": "b1d116dea55a4491966ef798e3ea6801",
       "version_major": 2,
       "version_minor": 0
      },
      "text/plain": [
       "0/46           ETA: ?s - "
      ]
     },
     "metadata": {},
     "output_type": "display_data"
    },
    {
     "name": "stdout",
     "output_type": "stream",
     "text": [
      "Epoch 76/200\n",
      "46/46 [==============================] - 0s 4ms/step - loss: 0.3481 - accuracy: 0.8582 - val_loss: 0.3477 - val_accuracy: 0.8749\n",
      "Epoch 77/200\n"
     ]
    },
    {
     "data": {
      "application/vnd.jupyter.widget-view+json": {
       "model_id": "8d8bcbff76014fef9706da05e4c87f77",
       "version_major": 2,
       "version_minor": 0
      },
      "text/plain": [
       "0/46           ETA: ?s - "
      ]
     },
     "metadata": {},
     "output_type": "display_data"
    },
    {
     "name": "stdout",
     "output_type": "stream",
     "text": [
      "Epoch 77/200\n",
      "46/46 [==============================] - 0s 4ms/step - loss: 0.3477 - accuracy: 0.8607 - val_loss: 0.3378 - val_accuracy: 0.8831\n",
      "Epoch 78/200\n"
     ]
    },
    {
     "data": {
      "application/vnd.jupyter.widget-view+json": {
       "model_id": "379ba34b5c0f426097c8fb0651eade1f",
       "version_major": 2,
       "version_minor": 0
      },
      "text/plain": [
       "0/46           ETA: ?s - "
      ]
     },
     "metadata": {},
     "output_type": "display_data"
    },
    {
     "name": "stdout",
     "output_type": "stream",
     "text": [
      "Epoch 78/200\n",
      "46/46 [==============================] - 0s 4ms/step - loss: 0.3440 - accuracy: 0.8624 - val_loss: 0.3336 - val_accuracy: 0.8804\n",
      "Epoch 79/200\n"
     ]
    },
    {
     "data": {
      "application/vnd.jupyter.widget-view+json": {
       "model_id": "546f205d5d374e14b8c8c8bee32b55e0",
       "version_major": 2,
       "version_minor": 0
      },
      "text/plain": [
       "0/46           ETA: ?s - "
      ]
     },
     "metadata": {},
     "output_type": "display_data"
    },
    {
     "name": "stdout",
     "output_type": "stream",
     "text": [
      "Epoch 79/200\n",
      "46/46 [==============================] - 0s 5ms/step - loss: 0.3434 - accuracy: 0.8641 - val_loss: 0.3344 - val_accuracy: 0.8770\n",
      "Epoch 80/200\n"
     ]
    },
    {
     "data": {
      "application/vnd.jupyter.widget-view+json": {
       "model_id": "2a81444546e4413491728d17e2ed169c",
       "version_major": 2,
       "version_minor": 0
      },
      "text/plain": [
       "0/46           ETA: ?s - "
      ]
     },
     "metadata": {},
     "output_type": "display_data"
    },
    {
     "name": "stdout",
     "output_type": "stream",
     "text": [
      "Epoch 80/200\n",
      "46/46 [==============================] - 0s 4ms/step - loss: 0.3426 - accuracy: 0.8652 - val_loss: 0.3327 - val_accuracy: 0.8776\n",
      "Epoch 81/200\n"
     ]
    },
    {
     "data": {
      "application/vnd.jupyter.widget-view+json": {
       "model_id": "87e7aba0d6fc42e49148cdcbe1bc3b95",
       "version_major": 2,
       "version_minor": 0
      },
      "text/plain": [
       "0/46           ETA: ?s - "
      ]
     },
     "metadata": {},
     "output_type": "display_data"
    },
    {
     "name": "stdout",
     "output_type": "stream",
     "text": [
      "Epoch 81/200\n",
      "46/46 [==============================] - 0s 4ms/step - loss: 0.3451 - accuracy: 0.8607 - val_loss: 0.3495 - val_accuracy: 0.8661\n",
      "Epoch 82/200\n"
     ]
    },
    {
     "data": {
      "application/vnd.jupyter.widget-view+json": {
       "model_id": "e39cb681ded3443d819e1b6dbac328d8",
       "version_major": 2,
       "version_minor": 0
      },
      "text/plain": [
       "0/46           ETA: ?s - "
      ]
     },
     "metadata": {},
     "output_type": "display_data"
    },
    {
     "name": "stdout",
     "output_type": "stream",
     "text": [
      "Epoch 82/200\n",
      "46/46 [==============================] - 0s 4ms/step - loss: 0.3552 - accuracy: 0.8553 - val_loss: 0.3270 - val_accuracy: 0.8783\n",
      "Epoch 83/200\n"
     ]
    },
    {
     "data": {
      "application/vnd.jupyter.widget-view+json": {
       "model_id": "b3d75095cf1f4fe4b46bfb5299bf6f77",
       "version_major": 2,
       "version_minor": 0
      },
      "text/plain": [
       "0/46           ETA: ?s - "
      ]
     },
     "metadata": {},
     "output_type": "display_data"
    },
    {
     "name": "stdout",
     "output_type": "stream",
     "text": [
      "Epoch 83/200\n",
      "46/46 [==============================] - 0s 4ms/step - loss: 0.3409 - accuracy: 0.8641 - val_loss: 0.3292 - val_accuracy: 0.8770\n",
      "Epoch 84/200\n"
     ]
    },
    {
     "data": {
      "application/vnd.jupyter.widget-view+json": {
       "model_id": "5cf229a2bdb542ac8a99a6a9e57277d2",
       "version_major": 2,
       "version_minor": 0
      },
      "text/plain": [
       "0/46           ETA: ?s - "
      ]
     },
     "metadata": {},
     "output_type": "display_data"
    },
    {
     "name": "stdout",
     "output_type": "stream",
     "text": [
      "Epoch 84/200\n",
      "46/46 [==============================] - 0s 4ms/step - loss: 0.3449 - accuracy: 0.8699 - val_loss: 0.3304 - val_accuracy: 0.8742\n",
      "Epoch 85/200\n"
     ]
    },
    {
     "data": {
      "application/vnd.jupyter.widget-view+json": {
       "model_id": "766001a9536a48a9901c696ded9326f5",
       "version_major": 2,
       "version_minor": 0
      },
      "text/plain": [
       "0/46           ETA: ?s - "
      ]
     },
     "metadata": {},
     "output_type": "display_data"
    },
    {
     "name": "stdout",
     "output_type": "stream",
     "text": [
      "Epoch 85/200\n",
      "46/46 [==============================] - 0s 4ms/step - loss: 0.3369 - accuracy: 0.8682 - val_loss: 0.3213 - val_accuracy: 0.8858\n",
      "Epoch 86/200\n"
     ]
    },
    {
     "data": {
      "application/vnd.jupyter.widget-view+json": {
       "model_id": "c4494792bb624c8d9a8efe9623067694",
       "version_major": 2,
       "version_minor": 0
      },
      "text/plain": [
       "0/46           ETA: ?s - "
      ]
     },
     "metadata": {},
     "output_type": "display_data"
    },
    {
     "name": "stdout",
     "output_type": "stream",
     "text": [
      "Epoch 86/200\n",
      "46/46 [==============================] - 0s 4ms/step - loss: 0.3338 - accuracy: 0.8720 - val_loss: 0.3383 - val_accuracy: 0.8844\n",
      "Epoch 87/200\n"
     ]
    },
    {
     "data": {
      "application/vnd.jupyter.widget-view+json": {
       "model_id": "7e1d8c10c9704a54958af7d69dd34710",
       "version_major": 2,
       "version_minor": 0
      },
      "text/plain": [
       "0/46           ETA: ?s - "
      ]
     },
     "metadata": {},
     "output_type": "display_data"
    },
    {
     "name": "stdout",
     "output_type": "stream",
     "text": [
      "Epoch 87/200\n",
      "46/46 [==============================] - 0s 5ms/step - loss: 0.3327 - accuracy: 0.8703 - val_loss: 0.3408 - val_accuracy: 0.8640\n",
      "Epoch 88/200\n"
     ]
    },
    {
     "data": {
      "application/vnd.jupyter.widget-view+json": {
       "model_id": "a481b2a6eee2482fbcfdb86d5fec765f",
       "version_major": 2,
       "version_minor": 0
      },
      "text/plain": [
       "0/46           ETA: ?s - "
      ]
     },
     "metadata": {},
     "output_type": "display_data"
    },
    {
     "name": "stdout",
     "output_type": "stream",
     "text": [
      "Epoch 88/200\n",
      "46/46 [==============================] - 0s 4ms/step - loss: 0.3368 - accuracy: 0.8638 - val_loss: 0.3310 - val_accuracy: 0.8776\n",
      "Epoch 89/200\n"
     ]
    },
    {
     "data": {
      "application/vnd.jupyter.widget-view+json": {
       "model_id": "7bd90286375e4fb2845786c71c92fbcf",
       "version_major": 2,
       "version_minor": 0
      },
      "text/plain": [
       "0/46           ETA: ?s - "
      ]
     },
     "metadata": {},
     "output_type": "display_data"
    },
    {
     "name": "stdout",
     "output_type": "stream",
     "text": [
      "Epoch 89/200\n",
      "46/46 [==============================] - 0s 4ms/step - loss: 0.3455 - accuracy: 0.8638 - val_loss: 0.3731 - val_accuracy: 0.8430\n",
      "Epoch 90/200\n"
     ]
    },
    {
     "data": {
      "application/vnd.jupyter.widget-view+json": {
       "model_id": "54a12f4f487e49fab1729579db181358",
       "version_major": 2,
       "version_minor": 0
      },
      "text/plain": [
       "0/46           ETA: ?s - "
      ]
     },
     "metadata": {},
     "output_type": "display_data"
    },
    {
     "name": "stdout",
     "output_type": "stream",
     "text": [
      "Epoch 90/200\n",
      "46/46 [==============================] - 0s 4ms/step - loss: 0.3567 - accuracy: 0.8590 - val_loss: 0.3243 - val_accuracy: 0.8831\n",
      "Epoch 91/200\n"
     ]
    },
    {
     "data": {
      "application/vnd.jupyter.widget-view+json": {
       "model_id": "5dd68ab72c1e4354aefa65e5314c2ca9",
       "version_major": 2,
       "version_minor": 0
      },
      "text/plain": [
       "0/46           ETA: ?s - "
      ]
     },
     "metadata": {},
     "output_type": "display_data"
    },
    {
     "name": "stdout",
     "output_type": "stream",
     "text": [
      "Epoch 91/200\n",
      "46/46 [==============================] - 0s 4ms/step - loss: 0.3317 - accuracy: 0.8692 - val_loss: 0.3338 - val_accuracy: 0.8804\n",
      "Epoch 92/200\n"
     ]
    },
    {
     "data": {
      "application/vnd.jupyter.widget-view+json": {
       "model_id": "40b8517a0e24480da09a9b10cf997d68",
       "version_major": 2,
       "version_minor": 0
      },
      "text/plain": [
       "0/46           ETA: ?s - "
      ]
     },
     "metadata": {},
     "output_type": "display_data"
    },
    {
     "name": "stdout",
     "output_type": "stream",
     "text": [
      "Epoch 92/200\n",
      "46/46 [==============================] - 0s 4ms/step - loss: 0.3387 - accuracy: 0.8628 - val_loss: 0.3366 - val_accuracy: 0.8776\n",
      "Epoch 93/200\n"
     ]
    },
    {
     "data": {
      "application/vnd.jupyter.widget-view+json": {
       "model_id": "0c267e3ba32d450d9cd471d6da185180",
       "version_major": 2,
       "version_minor": 0
      },
      "text/plain": [
       "0/46           ETA: ?s - "
      ]
     },
     "metadata": {},
     "output_type": "display_data"
    },
    {
     "name": "stdout",
     "output_type": "stream",
     "text": [
      "Epoch 93/200\n",
      "46/46 [==============================] - 0s 4ms/step - loss: 0.3389 - accuracy: 0.8623 - val_loss: 0.3249 - val_accuracy: 0.8804\n",
      "Epoch 94/200\n"
     ]
    },
    {
     "data": {
      "application/vnd.jupyter.widget-view+json": {
       "model_id": "b126c2d035854eeeb913e1d672f67c9c",
       "version_major": 2,
       "version_minor": 0
      },
      "text/plain": [
       "0/46           ETA: ?s - "
      ]
     },
     "metadata": {},
     "output_type": "display_data"
    },
    {
     "name": "stdout",
     "output_type": "stream",
     "text": [
      "Epoch 94/200\n",
      "46/46 [==============================] - 0s 4ms/step - loss: 0.3350 - accuracy: 0.8646 - val_loss: 0.3360 - val_accuracy: 0.8695\n",
      "Epoch 95/200\n"
     ]
    },
    {
     "data": {
      "application/vnd.jupyter.widget-view+json": {
       "model_id": "8a1d51534a3046c1bdfc3a884ab59cb0",
       "version_major": 2,
       "version_minor": 0
      },
      "text/plain": [
       "0/46           ETA: ?s - "
      ]
     },
     "metadata": {},
     "output_type": "display_data"
    },
    {
     "name": "stdout",
     "output_type": "stream",
     "text": [
      "Epoch 95/200\n",
      "46/46 [==============================] - 0s 4ms/step - loss: 0.3331 - accuracy: 0.8713 - val_loss: 0.3269 - val_accuracy: 0.8824\n",
      "Epoch 96/200\n"
     ]
    },
    {
     "data": {
      "application/vnd.jupyter.widget-view+json": {
       "model_id": "8738be9ccb5641e9a4cdccebedc65dae",
       "version_major": 2,
       "version_minor": 0
      },
      "text/plain": [
       "0/46           ETA: ?s - "
      ]
     },
     "metadata": {},
     "output_type": "display_data"
    },
    {
     "name": "stdout",
     "output_type": "stream",
     "text": [
      "Epoch 96/200\n",
      "46/46 [==============================] - 0s 4ms/step - loss: 0.3294 - accuracy: 0.8730 - val_loss: 0.3252 - val_accuracy: 0.8790\n",
      "Epoch 97/200\n"
     ]
    },
    {
     "data": {
      "application/vnd.jupyter.widget-view+json": {
       "model_id": "d97aff37543e419ca6e413ae3a79843c",
       "version_major": 2,
       "version_minor": 0
      },
      "text/plain": [
       "0/46           ETA: ?s - "
      ]
     },
     "metadata": {},
     "output_type": "display_data"
    },
    {
     "name": "stdout",
     "output_type": "stream",
     "text": [
      "Epoch 97/200\n",
      "46/46 [==============================] - 0s 4ms/step - loss: 0.3323 - accuracy: 0.8665 - val_loss: 0.3207 - val_accuracy: 0.8838\n",
      "Epoch 98/200\n"
     ]
    },
    {
     "data": {
      "application/vnd.jupyter.widget-view+json": {
       "model_id": "8bd632f5bd6a41c9803a91a848b14e84",
       "version_major": 2,
       "version_minor": 0
      },
      "text/plain": [
       "0/46           ETA: ?s - "
      ]
     },
     "metadata": {},
     "output_type": "display_data"
    },
    {
     "name": "stdout",
     "output_type": "stream",
     "text": [
      "Epoch 98/200\n",
      "46/46 [==============================] - 0s 4ms/step - loss: 0.3334 - accuracy: 0.8682 - val_loss: 0.3198 - val_accuracy: 0.8817\n",
      "Epoch 99/200\n"
     ]
    },
    {
     "data": {
      "application/vnd.jupyter.widget-view+json": {
       "model_id": "1aa17a0e21e74a439f424d2fd880e4ef",
       "version_major": 2,
       "version_minor": 0
      },
      "text/plain": [
       "0/46           ETA: ?s - "
      ]
     },
     "metadata": {},
     "output_type": "display_data"
    },
    {
     "name": "stdout",
     "output_type": "stream",
     "text": [
      "Epoch 99/200\n",
      "46/46 [==============================] - 0s 4ms/step - loss: 0.3324 - accuracy: 0.8723 - val_loss: 0.3367 - val_accuracy: 0.8749\n",
      "Epoch 100/200\n"
     ]
    },
    {
     "data": {
      "application/vnd.jupyter.widget-view+json": {
       "model_id": "13b982a258d84d7fac595de9db5e559c",
       "version_major": 2,
       "version_minor": 0
      },
      "text/plain": [
       "0/46           ETA: ?s - "
      ]
     },
     "metadata": {},
     "output_type": "display_data"
    },
    {
     "name": "stdout",
     "output_type": "stream",
     "text": [
      "Epoch 100/200\n",
      "46/46 [==============================] - 0s 4ms/step - loss: 0.3390 - accuracy: 0.8645 - val_loss: 0.3301 - val_accuracy: 0.8810\n",
      "Epoch 101/200\n"
     ]
    },
    {
     "data": {
      "application/vnd.jupyter.widget-view+json": {
       "model_id": "a2fb4683166c4b298b674f6db1142159",
       "version_major": 2,
       "version_minor": 0
      },
      "text/plain": [
       "0/46           ETA: ?s - "
      ]
     },
     "metadata": {},
     "output_type": "display_data"
    },
    {
     "name": "stdout",
     "output_type": "stream",
     "text": [
      "Epoch 101/200\n",
      "46/46 [==============================] - 0s 4ms/step - loss: 0.3310 - accuracy: 0.8599 - val_loss: 0.3236 - val_accuracy: 0.8763\n",
      "Epoch 102/200\n"
     ]
    },
    {
     "data": {
      "application/vnd.jupyter.widget-view+json": {
       "model_id": "e5ba0210fde74ccdbbd1f2493cfea003",
       "version_major": 2,
       "version_minor": 0
      },
      "text/plain": [
       "0/46           ETA: ?s - "
      ]
     },
     "metadata": {},
     "output_type": "display_data"
    },
    {
     "name": "stdout",
     "output_type": "stream",
     "text": [
      "Epoch 102/200\n",
      "46/46 [==============================] - 0s 4ms/step - loss: 0.3259 - accuracy: 0.8709 - val_loss: 0.3295 - val_accuracy: 0.8783\n",
      "Epoch 103/200\n"
     ]
    },
    {
     "data": {
      "application/vnd.jupyter.widget-view+json": {
       "model_id": "347d5b17bab64c04a2b377e46ccfa2d0",
       "version_major": 2,
       "version_minor": 0
      },
      "text/plain": [
       "0/46           ETA: ?s - "
      ]
     },
     "metadata": {},
     "output_type": "display_data"
    },
    {
     "name": "stdout",
     "output_type": "stream",
     "text": [
      "Epoch 103/200\n",
      "46/46 [==============================] - 0s 4ms/step - loss: 0.3346 - accuracy: 0.8601 - val_loss: 0.3220 - val_accuracy: 0.8763\n",
      "Epoch 104/200\n"
     ]
    },
    {
     "data": {
      "application/vnd.jupyter.widget-view+json": {
       "model_id": "ad247bde38d84b6297c434e1a180ff9d",
       "version_major": 2,
       "version_minor": 0
      },
      "text/plain": [
       "0/46           ETA: ?s - "
      ]
     },
     "metadata": {},
     "output_type": "display_data"
    },
    {
     "name": "stdout",
     "output_type": "stream",
     "text": [
      "Epoch 104/200\n",
      "46/46 [==============================] - 0s 4ms/step - loss: 0.3270 - accuracy: 0.8696 - val_loss: 0.3177 - val_accuracy: 0.8851\n",
      "Epoch 105/200\n"
     ]
    },
    {
     "data": {
      "application/vnd.jupyter.widget-view+json": {
       "model_id": "a6f84f5f46ed42b9b5b8d85ab8fb2ba1",
       "version_major": 2,
       "version_minor": 0
      },
      "text/plain": [
       "0/46           ETA: ?s - "
      ]
     },
     "metadata": {},
     "output_type": "display_data"
    },
    {
     "name": "stdout",
     "output_type": "stream",
     "text": [
      "Epoch 105/200\n",
      "46/46 [==============================] - 0s 4ms/step - loss: 0.3247 - accuracy: 0.8740 - val_loss: 0.3156 - val_accuracy: 0.8817\n",
      "Epoch 106/200\n"
     ]
    },
    {
     "data": {
      "application/vnd.jupyter.widget-view+json": {
       "model_id": "8813627b525343228c89b1ece977568a",
       "version_major": 2,
       "version_minor": 0
      },
      "text/plain": [
       "0/46           ETA: ?s - "
      ]
     },
     "metadata": {},
     "output_type": "display_data"
    },
    {
     "name": "stdout",
     "output_type": "stream",
     "text": [
      "Epoch 106/200\n",
      "46/46 [==============================] - 0s 4ms/step - loss: 0.3299 - accuracy: 0.8646 - val_loss: 0.3289 - val_accuracy: 0.8640\n",
      "Epoch 107/200\n"
     ]
    },
    {
     "data": {
      "application/vnd.jupyter.widget-view+json": {
       "model_id": "9d60975f5d2b417d9931d70b804b3993",
       "version_major": 2,
       "version_minor": 0
      },
      "text/plain": [
       "0/46           ETA: ?s - "
      ]
     },
     "metadata": {},
     "output_type": "display_data"
    },
    {
     "name": "stdout",
     "output_type": "stream",
     "text": [
      "Epoch 107/200\n",
      "46/46 [==============================] - 0s 4ms/step - loss: 0.3224 - accuracy: 0.8670 - val_loss: 0.3190 - val_accuracy: 0.8885\n",
      "Epoch 108/200\n"
     ]
    },
    {
     "data": {
      "application/vnd.jupyter.widget-view+json": {
       "model_id": "6fe7ce13e71f4534b542cbe03e2d7dac",
       "version_major": 2,
       "version_minor": 0
      },
      "text/plain": [
       "0/46           ETA: ?s - "
      ]
     },
     "metadata": {},
     "output_type": "display_data"
    },
    {
     "name": "stdout",
     "output_type": "stream",
     "text": [
      "Epoch 108/200\n",
      "46/46 [==============================] - 0s 5ms/step - loss: 0.3269 - accuracy: 0.8689 - val_loss: 0.3224 - val_accuracy: 0.8838\n",
      "Epoch 109/200\n"
     ]
    },
    {
     "data": {
      "application/vnd.jupyter.widget-view+json": {
       "model_id": "708e729c48424f14823c655b48438cab",
       "version_major": 2,
       "version_minor": 0
      },
      "text/plain": [
       "0/46           ETA: ?s - "
      ]
     },
     "metadata": {},
     "output_type": "display_data"
    },
    {
     "name": "stdout",
     "output_type": "stream",
     "text": [
      "Epoch 109/200\n",
      "46/46 [==============================] - 0s 4ms/step - loss: 0.3344 - accuracy: 0.8648 - val_loss: 0.3251 - val_accuracy: 0.8817\n",
      "Epoch 110/200\n"
     ]
    },
    {
     "data": {
      "application/vnd.jupyter.widget-view+json": {
       "model_id": "8c66e9e5dfd245cd89aba470ed5ac15e",
       "version_major": 2,
       "version_minor": 0
      },
      "text/plain": [
       "0/46           ETA: ?s - "
      ]
     },
     "metadata": {},
     "output_type": "display_data"
    },
    {
     "name": "stdout",
     "output_type": "stream",
     "text": [
      "Epoch 110/200\n",
      "46/46 [==============================] - 0s 4ms/step - loss: 0.3208 - accuracy: 0.8767 - val_loss: 0.3224 - val_accuracy: 0.8810\n",
      "Epoch 111/200\n"
     ]
    },
    {
     "data": {
      "application/vnd.jupyter.widget-view+json": {
       "model_id": "ee1873af1d6c40e4aa51ba4014584bb0",
       "version_major": 2,
       "version_minor": 0
      },
      "text/plain": [
       "0/46           ETA: ?s - "
      ]
     },
     "metadata": {},
     "output_type": "display_data"
    },
    {
     "name": "stdout",
     "output_type": "stream",
     "text": [
      "Epoch 111/200\n",
      "46/46 [==============================] - 0s 4ms/step - loss: 0.3221 - accuracy: 0.8692 - val_loss: 0.3247 - val_accuracy: 0.8824\n",
      "Epoch 112/200\n"
     ]
    },
    {
     "data": {
      "application/vnd.jupyter.widget-view+json": {
       "model_id": "8c8cdce1906246c18af6e6814dca85ad",
       "version_major": 2,
       "version_minor": 0
      },
      "text/plain": [
       "0/46           ETA: ?s - "
      ]
     },
     "metadata": {},
     "output_type": "display_data"
    },
    {
     "name": "stdout",
     "output_type": "stream",
     "text": [
      "Epoch 112/200\n",
      "46/46 [==============================] - 0s 4ms/step - loss: 0.3276 - accuracy: 0.8704 - val_loss: 0.3180 - val_accuracy: 0.8824\n",
      "Epoch 113/200\n"
     ]
    },
    {
     "data": {
      "application/vnd.jupyter.widget-view+json": {
       "model_id": "337d70f709894ad7851e9380542f4246",
       "version_major": 2,
       "version_minor": 0
      },
      "text/plain": [
       "0/46           ETA: ?s - "
      ]
     },
     "metadata": {},
     "output_type": "display_data"
    },
    {
     "name": "stdout",
     "output_type": "stream",
     "text": [
      "Epoch 113/200\n",
      "46/46 [==============================] - 0s 4ms/step - loss: 0.3244 - accuracy: 0.8737 - val_loss: 0.3246 - val_accuracy: 0.8790\n",
      "Epoch 114/200\n"
     ]
    },
    {
     "data": {
      "application/vnd.jupyter.widget-view+json": {
       "model_id": "70bd1c4839354454a9b101af1392baa1",
       "version_major": 2,
       "version_minor": 0
      },
      "text/plain": [
       "0/46           ETA: ?s - "
      ]
     },
     "metadata": {},
     "output_type": "display_data"
    },
    {
     "name": "stdout",
     "output_type": "stream",
     "text": [
      "Epoch 114/200\n",
      "46/46 [==============================] - 0s 4ms/step - loss: 0.3265 - accuracy: 0.8674 - val_loss: 0.3082 - val_accuracy: 0.8858\n",
      "Epoch 115/200\n"
     ]
    },
    {
     "data": {
      "application/vnd.jupyter.widget-view+json": {
       "model_id": "252a7a492ad1490c8098fd746c88200b",
       "version_major": 2,
       "version_minor": 0
      },
      "text/plain": [
       "0/46           ETA: ?s - "
      ]
     },
     "metadata": {},
     "output_type": "display_data"
    },
    {
     "name": "stdout",
     "output_type": "stream",
     "text": [
      "Epoch 115/200\n",
      "46/46 [==============================] - 0s 4ms/step - loss: 0.3319 - accuracy: 0.8667 - val_loss: 0.3174 - val_accuracy: 0.8797\n",
      "Epoch 116/200\n"
     ]
    },
    {
     "data": {
      "application/vnd.jupyter.widget-view+json": {
       "model_id": "5e47afb09b8042afba791e67badf80a8",
       "version_major": 2,
       "version_minor": 0
      },
      "text/plain": [
       "0/46           ETA: ?s - "
      ]
     },
     "metadata": {},
     "output_type": "display_data"
    },
    {
     "name": "stdout",
     "output_type": "stream",
     "text": [
      "Epoch 116/200\n",
      "46/46 [==============================] - 0s 4ms/step - loss: 0.3285 - accuracy: 0.8699 - val_loss: 0.3177 - val_accuracy: 0.8872\n",
      "Epoch 117/200\n"
     ]
    },
    {
     "data": {
      "application/vnd.jupyter.widget-view+json": {
       "model_id": "f9fd3c1327e64b03a7a4f320a518cb0f",
       "version_major": 2,
       "version_minor": 0
      },
      "text/plain": [
       "0/46           ETA: ?s - "
      ]
     },
     "metadata": {},
     "output_type": "display_data"
    },
    {
     "name": "stdout",
     "output_type": "stream",
     "text": [
      "Epoch 117/200\n",
      "46/46 [==============================] - 0s 4ms/step - loss: 0.3274 - accuracy: 0.8601 - val_loss: 0.3101 - val_accuracy: 0.8906\n",
      "Epoch 118/200\n"
     ]
    },
    {
     "data": {
      "application/vnd.jupyter.widget-view+json": {
       "model_id": "813637b437d1435e8f68bedd6f65c0ad",
       "version_major": 2,
       "version_minor": 0
      },
      "text/plain": [
       "0/46           ETA: ?s - "
      ]
     },
     "metadata": {},
     "output_type": "display_data"
    },
    {
     "name": "stdout",
     "output_type": "stream",
     "text": [
      "Epoch 118/200\n",
      "46/46 [==============================] - 0s 4ms/step - loss: 0.3226 - accuracy: 0.8684 - val_loss: 0.3171 - val_accuracy: 0.8878\n",
      "Epoch 119/200\n"
     ]
    },
    {
     "data": {
      "application/vnd.jupyter.widget-view+json": {
       "model_id": "2f1dcc955de548f3be817b56935b0e4c",
       "version_major": 2,
       "version_minor": 0
      },
      "text/plain": [
       "0/46           ETA: ?s - "
      ]
     },
     "metadata": {},
     "output_type": "display_data"
    },
    {
     "name": "stdout",
     "output_type": "stream",
     "text": [
      "Epoch 119/200\n",
      "46/46 [==============================] - 0s 4ms/step - loss: 0.3176 - accuracy: 0.8735 - val_loss: 0.3143 - val_accuracy: 0.8749\n",
      "Epoch 120/200\n"
     ]
    },
    {
     "data": {
      "application/vnd.jupyter.widget-view+json": {
       "model_id": "e2b42a3975be4847a6e2ea861aa95eb5",
       "version_major": 2,
       "version_minor": 0
      },
      "text/plain": [
       "0/46           ETA: ?s - "
      ]
     },
     "metadata": {},
     "output_type": "display_data"
    },
    {
     "name": "stdout",
     "output_type": "stream",
     "text": [
      "Epoch 120/200\n",
      "46/46 [==============================] - 0s 4ms/step - loss: 0.3225 - accuracy: 0.8635 - val_loss: 0.3107 - val_accuracy: 0.8858\n",
      "Epoch 121/200\n"
     ]
    },
    {
     "data": {
      "application/vnd.jupyter.widget-view+json": {
       "model_id": "d25d777cbfec421b83617712595bec86",
       "version_major": 2,
       "version_minor": 0
      },
      "text/plain": [
       "0/46           ETA: ?s - "
      ]
     },
     "metadata": {},
     "output_type": "display_data"
    },
    {
     "name": "stdout",
     "output_type": "stream",
     "text": [
      "Epoch 121/200\n",
      "46/46 [==============================] - 0s 4ms/step - loss: 0.3263 - accuracy: 0.8674 - val_loss: 0.3289 - val_accuracy: 0.8647\n",
      "Epoch 122/200\n"
     ]
    },
    {
     "data": {
      "application/vnd.jupyter.widget-view+json": {
       "model_id": "490a42631eeb4a739d7b9aca3108a7b2",
       "version_major": 2,
       "version_minor": 0
      },
      "text/plain": [
       "0/46           ETA: ?s - "
      ]
     },
     "metadata": {},
     "output_type": "display_data"
    },
    {
     "name": "stdout",
     "output_type": "stream",
     "text": [
      "Epoch 122/200\n",
      "46/46 [==============================] - 0s 4ms/step - loss: 0.3272 - accuracy: 0.8607 - val_loss: 0.3135 - val_accuracy: 0.8912\n",
      "Epoch 123/200\n"
     ]
    },
    {
     "data": {
      "application/vnd.jupyter.widget-view+json": {
       "model_id": "56f1dd4d6d5b48c1acb46443b1467e5e",
       "version_major": 2,
       "version_minor": 0
      },
      "text/plain": [
       "0/46           ETA: ?s - "
      ]
     },
     "metadata": {},
     "output_type": "display_data"
    },
    {
     "name": "stdout",
     "output_type": "stream",
     "text": [
      "Epoch 123/200\n",
      "46/46 [==============================] - 0s 4ms/step - loss: 0.3218 - accuracy: 0.8694 - val_loss: 0.3159 - val_accuracy: 0.8770\n",
      "Epoch 124/200\n"
     ]
    },
    {
     "data": {
      "application/vnd.jupyter.widget-view+json": {
       "model_id": "50497d298c46480a95065c8829238908",
       "version_major": 2,
       "version_minor": 0
      },
      "text/plain": [
       "0/46           ETA: ?s - "
      ]
     },
     "metadata": {},
     "output_type": "display_data"
    },
    {
     "name": "stdout",
     "output_type": "stream",
     "text": [
      "Epoch 124/200\n",
      "46/46 [==============================] - 0s 5ms/step - loss: 0.3246 - accuracy: 0.8672 - val_loss: 0.3283 - val_accuracy: 0.8763\n",
      "Epoch 125/200\n"
     ]
    },
    {
     "data": {
      "application/vnd.jupyter.widget-view+json": {
       "model_id": "bbaf681f58524bbdae014e3d716c11ef",
       "version_major": 2,
       "version_minor": 0
      },
      "text/plain": [
       "0/46           ETA: ?s - "
      ]
     },
     "metadata": {},
     "output_type": "display_data"
    },
    {
     "name": "stdout",
     "output_type": "stream",
     "text": [
      "Epoch 125/200\n",
      "46/46 [==============================] - 0s 4ms/step - loss: 0.3239 - accuracy: 0.8679 - val_loss: 0.3246 - val_accuracy: 0.8851\n",
      "Epoch 126/200\n"
     ]
    },
    {
     "data": {
      "application/vnd.jupyter.widget-view+json": {
       "model_id": "6073bcd36dc340c5b09f93443b028b3e",
       "version_major": 2,
       "version_minor": 0
      },
      "text/plain": [
       "0/46           ETA: ?s - "
      ]
     },
     "metadata": {},
     "output_type": "display_data"
    },
    {
     "name": "stdout",
     "output_type": "stream",
     "text": [
      "Epoch 126/200\n",
      "46/46 [==============================] - 0s 4ms/step - loss: 0.3155 - accuracy: 0.8759 - val_loss: 0.3130 - val_accuracy: 0.8831\n",
      "Epoch 127/200\n"
     ]
    },
    {
     "data": {
      "application/vnd.jupyter.widget-view+json": {
       "model_id": "0d413ff11b2c4873a9f9944221959047",
       "version_major": 2,
       "version_minor": 0
      },
      "text/plain": [
       "0/46           ETA: ?s - "
      ]
     },
     "metadata": {},
     "output_type": "display_data"
    },
    {
     "name": "stdout",
     "output_type": "stream",
     "text": [
      "Epoch 127/200\n",
      "46/46 [==============================] - 0s 4ms/step - loss: 0.3176 - accuracy: 0.8670 - val_loss: 0.3247 - val_accuracy: 0.8838\n",
      "Epoch 128/200\n"
     ]
    },
    {
     "data": {
      "application/vnd.jupyter.widget-view+json": {
       "model_id": "dfeb444aacdc4df49d81ddff3f6329e4",
       "version_major": 2,
       "version_minor": 0
      },
      "text/plain": [
       "0/46           ETA: ?s - "
      ]
     },
     "metadata": {},
     "output_type": "display_data"
    },
    {
     "name": "stdout",
     "output_type": "stream",
     "text": [
      "Epoch 128/200\n",
      "46/46 [==============================] - 0s 4ms/step - loss: 0.3231 - accuracy: 0.8706 - val_loss: 0.3144 - val_accuracy: 0.8858\n",
      "Epoch 129/200\n"
     ]
    },
    {
     "data": {
      "application/vnd.jupyter.widget-view+json": {
       "model_id": "670b9c83d81549b0a1a86c6881a5f491",
       "version_major": 2,
       "version_minor": 0
      },
      "text/plain": [
       "0/46           ETA: ?s - "
      ]
     },
     "metadata": {},
     "output_type": "display_data"
    },
    {
     "name": "stdout",
     "output_type": "stream",
     "text": [
      "Epoch 129/200\n",
      "46/46 [==============================] - 0s 4ms/step - loss: 0.3196 - accuracy: 0.8721 - val_loss: 0.3116 - val_accuracy: 0.8838\n",
      "Epoch 130/200\n"
     ]
    },
    {
     "data": {
      "application/vnd.jupyter.widget-view+json": {
       "model_id": "458536ad56e54116a714d9c650ea5055",
       "version_major": 2,
       "version_minor": 0
      },
      "text/plain": [
       "0/46           ETA: ?s - "
      ]
     },
     "metadata": {},
     "output_type": "display_data"
    },
    {
     "name": "stdout",
     "output_type": "stream",
     "text": [
      "Epoch 130/200\n",
      "46/46 [==============================] - 0s 4ms/step - loss: 0.3176 - accuracy: 0.8711 - val_loss: 0.3106 - val_accuracy: 0.8844\n",
      "Epoch 131/200\n"
     ]
    },
    {
     "data": {
      "application/vnd.jupyter.widget-view+json": {
       "model_id": "015a78dc16e0489aae215222d147d2b0",
       "version_major": 2,
       "version_minor": 0
      },
      "text/plain": [
       "0/46           ETA: ?s - "
      ]
     },
     "metadata": {},
     "output_type": "display_data"
    },
    {
     "name": "stdout",
     "output_type": "stream",
     "text": [
      "Epoch 131/200\n",
      "46/46 [==============================] - 0s 4ms/step - loss: 0.3135 - accuracy: 0.8745 - val_loss: 0.3312 - val_accuracy: 0.8865\n",
      "Epoch 132/200\n"
     ]
    },
    {
     "data": {
      "application/vnd.jupyter.widget-view+json": {
       "model_id": "7e4adf61e7e1452e87c16c594b18e13a",
       "version_major": 2,
       "version_minor": 0
      },
      "text/plain": [
       "0/46           ETA: ?s - "
      ]
     },
     "metadata": {},
     "output_type": "display_data"
    },
    {
     "name": "stdout",
     "output_type": "stream",
     "text": [
      "Epoch 132/200\n",
      "46/46 [==============================] - 0s 4ms/step - loss: 0.3304 - accuracy: 0.8663 - val_loss: 0.3254 - val_accuracy: 0.8715\n",
      "Epoch 133/200\n"
     ]
    },
    {
     "data": {
      "application/vnd.jupyter.widget-view+json": {
       "model_id": "3f32b5a6804440d9b2791c477a5a5e60",
       "version_major": 2,
       "version_minor": 0
      },
      "text/plain": [
       "0/46           ETA: ?s - "
      ]
     },
     "metadata": {},
     "output_type": "display_data"
    },
    {
     "name": "stdout",
     "output_type": "stream",
     "text": [
      "Epoch 133/200\n",
      "46/46 [==============================] - 0s 4ms/step - loss: 0.3181 - accuracy: 0.8715 - val_loss: 0.3104 - val_accuracy: 0.8804\n",
      "Epoch 134/200\n"
     ]
    },
    {
     "data": {
      "application/vnd.jupyter.widget-view+json": {
       "model_id": "e70e485e0c1046a5aa107627a039d7f8",
       "version_major": 2,
       "version_minor": 0
      },
      "text/plain": [
       "0/46           ETA: ?s - "
      ]
     },
     "metadata": {},
     "output_type": "display_data"
    },
    {
     "name": "stdout",
     "output_type": "stream",
     "text": [
      "Epoch 134/200\n",
      "46/46 [==============================] - 0s 4ms/step - loss: 0.3200 - accuracy: 0.8663 - val_loss: 0.3142 - val_accuracy: 0.8790\n",
      "Epoch 135/200\n"
     ]
    },
    {
     "data": {
      "application/vnd.jupyter.widget-view+json": {
       "model_id": "8ba02590ca744cdd9cb01c3d8c6b4244",
       "version_major": 2,
       "version_minor": 0
      },
      "text/plain": [
       "0/46           ETA: ?s - "
      ]
     },
     "metadata": {},
     "output_type": "display_data"
    },
    {
     "name": "stdout",
     "output_type": "stream",
     "text": [
      "Epoch 135/200\n",
      "46/46 [==============================] - 0s 4ms/step - loss: 0.3195 - accuracy: 0.8716 - val_loss: 0.3328 - val_accuracy: 0.8824\n",
      "Epoch 136/200\n"
     ]
    },
    {
     "data": {
      "application/vnd.jupyter.widget-view+json": {
       "model_id": "818f0dc9c9a94d9ba563768416897c3b",
       "version_major": 2,
       "version_minor": 0
      },
      "text/plain": [
       "0/46           ETA: ?s - "
      ]
     },
     "metadata": {},
     "output_type": "display_data"
    },
    {
     "name": "stdout",
     "output_type": "stream",
     "text": [
      "Epoch 136/200\n",
      "46/46 [==============================] - 0s 4ms/step - loss: 0.3215 - accuracy: 0.8716 - val_loss: 0.3254 - val_accuracy: 0.8872\n",
      "Epoch 137/200\n"
     ]
    },
    {
     "data": {
      "application/vnd.jupyter.widget-view+json": {
       "model_id": "89b27f802e7f40169837505c111a8a7b",
       "version_major": 2,
       "version_minor": 0
      },
      "text/plain": [
       "0/46           ETA: ?s - "
      ]
     },
     "metadata": {},
     "output_type": "display_data"
    },
    {
     "name": "stdout",
     "output_type": "stream",
     "text": [
      "Epoch 137/200\n",
      "46/46 [==============================] - 0s 5ms/step - loss: 0.3176 - accuracy: 0.8726 - val_loss: 0.3213 - val_accuracy: 0.8878\n",
      "Epoch 138/200\n"
     ]
    },
    {
     "data": {
      "application/vnd.jupyter.widget-view+json": {
       "model_id": "b1902ee8d4b8447988f36c4d5a7d5f4e",
       "version_major": 2,
       "version_minor": 0
      },
      "text/plain": [
       "0/46           ETA: ?s - "
      ]
     },
     "metadata": {},
     "output_type": "display_data"
    },
    {
     "name": "stdout",
     "output_type": "stream",
     "text": [
      "Epoch 138/200\n",
      "46/46 [==============================] - 0s 4ms/step - loss: 0.3151 - accuracy: 0.8723 - val_loss: 0.3228 - val_accuracy: 0.8606\n",
      "Epoch 139/200\n"
     ]
    },
    {
     "data": {
      "application/vnd.jupyter.widget-view+json": {
       "model_id": "27c6e61fdd2348b6b4bad109a38eaf31",
       "version_major": 2,
       "version_minor": 0
      },
      "text/plain": [
       "0/46           ETA: ?s - "
      ]
     },
     "metadata": {},
     "output_type": "display_data"
    },
    {
     "name": "stdout",
     "output_type": "stream",
     "text": [
      "Epoch 139/200\n",
      "46/46 [==============================] - 0s 4ms/step - loss: 0.3112 - accuracy: 0.8715 - val_loss: 0.3166 - val_accuracy: 0.8695\n",
      "Epoch 140/200\n"
     ]
    },
    {
     "data": {
      "application/vnd.jupyter.widget-view+json": {
       "model_id": "4ad905d998df40a8a7709757732c6cee",
       "version_major": 2,
       "version_minor": 0
      },
      "text/plain": [
       "0/46           ETA: ?s - "
      ]
     },
     "metadata": {},
     "output_type": "display_data"
    },
    {
     "name": "stdout",
     "output_type": "stream",
     "text": [
      "Epoch 140/200\n",
      "46/46 [==============================] - 0s 4ms/step - loss: 0.3090 - accuracy: 0.8738 - val_loss: 0.3201 - val_accuracy: 0.8844\n",
      "Epoch 141/200\n"
     ]
    },
    {
     "data": {
      "application/vnd.jupyter.widget-view+json": {
       "model_id": "3bd7bab5aecf4e28891f82b7a58f6be4",
       "version_major": 2,
       "version_minor": 0
      },
      "text/plain": [
       "0/46           ETA: ?s - "
      ]
     },
     "metadata": {},
     "output_type": "display_data"
    },
    {
     "name": "stdout",
     "output_type": "stream",
     "text": [
      "Epoch 141/200\n",
      "46/46 [==============================] - 0s 4ms/step - loss: 0.3187 - accuracy: 0.8677 - val_loss: 0.3170 - val_accuracy: 0.8865\n",
      "Epoch 142/200\n"
     ]
    },
    {
     "data": {
      "application/vnd.jupyter.widget-view+json": {
       "model_id": "88c9efe0e1e54b478874e5a53677fbd5",
       "version_major": 2,
       "version_minor": 0
      },
      "text/plain": [
       "0/46           ETA: ?s - "
      ]
     },
     "metadata": {},
     "output_type": "display_data"
    },
    {
     "name": "stdout",
     "output_type": "stream",
     "text": [
      "Epoch 142/200\n",
      "46/46 [==============================] - 0s 4ms/step - loss: 0.3067 - accuracy: 0.8771 - val_loss: 0.3143 - val_accuracy: 0.8899\n",
      "Epoch 143/200\n"
     ]
    },
    {
     "data": {
      "application/vnd.jupyter.widget-view+json": {
       "model_id": "348a2d65926b4f6e9fb7d802cff6f9a7",
       "version_major": 2,
       "version_minor": 0
      },
      "text/plain": [
       "0/46           ETA: ?s - "
      ]
     },
     "metadata": {},
     "output_type": "display_data"
    },
    {
     "name": "stdout",
     "output_type": "stream",
     "text": [
      "Epoch 143/200\n",
      "46/46 [==============================] - 0s 4ms/step - loss: 0.3135 - accuracy: 0.8767 - val_loss: 0.3237 - val_accuracy: 0.8858\n",
      "Epoch 144/200\n"
     ]
    },
    {
     "data": {
      "application/vnd.jupyter.widget-view+json": {
       "model_id": "d7b1d3135cd84a5f835634d29bc5a823",
       "version_major": 2,
       "version_minor": 0
      },
      "text/plain": [
       "0/46           ETA: ?s - "
      ]
     },
     "metadata": {},
     "output_type": "display_data"
    },
    {
     "name": "stdout",
     "output_type": "stream",
     "text": [
      "Epoch 144/200\n",
      "46/46 [==============================] - 0s 4ms/step - loss: 0.3169 - accuracy: 0.8699 - val_loss: 0.3308 - val_accuracy: 0.8749\n",
      "Epoch 145/200\n"
     ]
    },
    {
     "data": {
      "application/vnd.jupyter.widget-view+json": {
       "model_id": "fff7b1c9486d4895a020804037038030",
       "version_major": 2,
       "version_minor": 0
      },
      "text/plain": [
       "0/46           ETA: ?s - "
      ]
     },
     "metadata": {},
     "output_type": "display_data"
    },
    {
     "name": "stdout",
     "output_type": "stream",
     "text": [
      "Epoch 145/200\n",
      "46/46 [==============================] - 0s 4ms/step - loss: 0.3134 - accuracy: 0.8732 - val_loss: 0.3098 - val_accuracy: 0.8783\n",
      "Epoch 146/200\n"
     ]
    },
    {
     "data": {
      "application/vnd.jupyter.widget-view+json": {
       "model_id": "d6d5a3889bae4610ac6078fa61fb8a39",
       "version_major": 2,
       "version_minor": 0
      },
      "text/plain": [
       "0/46           ETA: ?s - "
      ]
     },
     "metadata": {},
     "output_type": "display_data"
    },
    {
     "name": "stdout",
     "output_type": "stream",
     "text": [
      "Epoch 146/200\n",
      "46/46 [==============================] - 0s 4ms/step - loss: 0.3173 - accuracy: 0.8663 - val_loss: 0.3286 - val_accuracy: 0.8872\n",
      "Epoch 147/200\n"
     ]
    },
    {
     "data": {
      "application/vnd.jupyter.widget-view+json": {
       "model_id": "76417652b3eb4bf0be1de09b6d827618",
       "version_major": 2,
       "version_minor": 0
      },
      "text/plain": [
       "0/46           ETA: ?s - "
      ]
     },
     "metadata": {},
     "output_type": "display_data"
    },
    {
     "name": "stdout",
     "output_type": "stream",
     "text": [
      "Epoch 147/200\n",
      "46/46 [==============================] - 0s 4ms/step - loss: 0.3103 - accuracy: 0.8742 - val_loss: 0.3285 - val_accuracy: 0.8756\n",
      "Epoch 148/200\n"
     ]
    },
    {
     "data": {
      "application/vnd.jupyter.widget-view+json": {
       "model_id": "dd84eba982c8401ba43c28da0f9b6fb0",
       "version_major": 2,
       "version_minor": 0
      },
      "text/plain": [
       "0/46           ETA: ?s - "
      ]
     },
     "metadata": {},
     "output_type": "display_data"
    },
    {
     "name": "stdout",
     "output_type": "stream",
     "text": [
      "Epoch 148/200\n",
      "46/46 [==============================] - 0s 4ms/step - loss: 0.3199 - accuracy: 0.8728 - val_loss: 0.3296 - val_accuracy: 0.8790\n",
      "Epoch 149/200\n"
     ]
    },
    {
     "data": {
      "application/vnd.jupyter.widget-view+json": {
       "model_id": "270745fe935842c1846eb5f75e35f622",
       "version_major": 2,
       "version_minor": 0
      },
      "text/plain": [
       "0/46           ETA: ?s - "
      ]
     },
     "metadata": {},
     "output_type": "display_data"
    },
    {
     "name": "stdout",
     "output_type": "stream",
     "text": [
      "Epoch 149/200\n",
      "46/46 [==============================] - 0s 4ms/step - loss: 0.3259 - accuracy: 0.8667 - val_loss: 0.3111 - val_accuracy: 0.8865\n",
      "Epoch 150/200\n"
     ]
    },
    {
     "data": {
      "application/vnd.jupyter.widget-view+json": {
       "model_id": "21d60ef86753462883b30e56e36cffd0",
       "version_major": 2,
       "version_minor": 0
      },
      "text/plain": [
       "0/46           ETA: ?s - "
      ]
     },
     "metadata": {},
     "output_type": "display_data"
    },
    {
     "name": "stdout",
     "output_type": "stream",
     "text": [
      "Epoch 150/200\n",
      "46/46 [==============================] - 0s 4ms/step - loss: 0.3160 - accuracy: 0.8726 - val_loss: 0.3131 - val_accuracy: 0.8831\n",
      "Epoch 151/200\n"
     ]
    },
    {
     "data": {
      "application/vnd.jupyter.widget-view+json": {
       "model_id": "0c07d19540ce4550834a4ce42a1acef0",
       "version_major": 2,
       "version_minor": 0
      },
      "text/plain": [
       "0/46           ETA: ?s - "
      ]
     },
     "metadata": {},
     "output_type": "display_data"
    },
    {
     "name": "stdout",
     "output_type": "stream",
     "text": [
      "Epoch 151/200\n",
      "46/46 [==============================] - 0s 4ms/step - loss: 0.3118 - accuracy: 0.8726 - val_loss: 0.3359 - val_accuracy: 0.8722\n",
      "Epoch 152/200\n"
     ]
    },
    {
     "data": {
      "application/vnd.jupyter.widget-view+json": {
       "model_id": "c9c1775c62d948c884ff627525d8d4e5",
       "version_major": 2,
       "version_minor": 0
      },
      "text/plain": [
       "0/46           ETA: ?s - "
      ]
     },
     "metadata": {},
     "output_type": "display_data"
    },
    {
     "name": "stdout",
     "output_type": "stream",
     "text": [
      "Epoch 152/200\n",
      "46/46 [==============================] - 0s 4ms/step - loss: 0.3140 - accuracy: 0.8709 - val_loss: 0.3097 - val_accuracy: 0.8912\n",
      "Epoch 153/200\n"
     ]
    },
    {
     "data": {
      "application/vnd.jupyter.widget-view+json": {
       "model_id": "ad281aa4fb374686a3a3a295eee8b69d",
       "version_major": 2,
       "version_minor": 0
      },
      "text/plain": [
       "0/46           ETA: ?s - "
      ]
     },
     "metadata": {},
     "output_type": "display_data"
    },
    {
     "name": "stdout",
     "output_type": "stream",
     "text": [
      "Epoch 153/200\n",
      "46/46 [==============================] - 0s 4ms/step - loss: 0.3156 - accuracy: 0.8684 - val_loss: 0.3024 - val_accuracy: 0.8878\n",
      "Epoch 154/200\n"
     ]
    },
    {
     "data": {
      "application/vnd.jupyter.widget-view+json": {
       "model_id": "0016a9f86e164ddda469773f5fd13d6b",
       "version_major": 2,
       "version_minor": 0
      },
      "text/plain": [
       "0/46           ETA: ?s - "
      ]
     },
     "metadata": {},
     "output_type": "display_data"
    },
    {
     "name": "stdout",
     "output_type": "stream",
     "text": [
      "Epoch 154/200\n",
      "46/46 [==============================] - 0s 4ms/step - loss: 0.3055 - accuracy: 0.8769 - val_loss: 0.3071 - val_accuracy: 0.8858\n",
      "Epoch 155/200\n"
     ]
    },
    {
     "data": {
      "application/vnd.jupyter.widget-view+json": {
       "model_id": "3d62adc7b4ab4f1496a7f7ce8913b25d",
       "version_major": 2,
       "version_minor": 0
      },
      "text/plain": [
       "0/46           ETA: ?s - "
      ]
     },
     "metadata": {},
     "output_type": "display_data"
    },
    {
     "name": "stdout",
     "output_type": "stream",
     "text": [
      "Epoch 155/200\n",
      "46/46 [==============================] - 0s 4ms/step - loss: 0.3101 - accuracy: 0.8692 - val_loss: 0.3077 - val_accuracy: 0.8906\n",
      "Epoch 156/200\n"
     ]
    },
    {
     "data": {
      "application/vnd.jupyter.widget-view+json": {
       "model_id": "901ee96d6cbe4666a3812710c3f5d5ce",
       "version_major": 2,
       "version_minor": 0
      },
      "text/plain": [
       "0/46           ETA: ?s - "
      ]
     },
     "metadata": {},
     "output_type": "display_data"
    },
    {
     "name": "stdout",
     "output_type": "stream",
     "text": [
      "Epoch 156/200\n",
      "46/46 [==============================] - 0s 5ms/step - loss: 0.3019 - accuracy: 0.8794 - val_loss: 0.3013 - val_accuracy: 0.8878\n",
      "Epoch 157/200\n"
     ]
    },
    {
     "data": {
      "application/vnd.jupyter.widget-view+json": {
       "model_id": "2ecac18f0cb34302988499f8d06a3f5b",
       "version_major": 2,
       "version_minor": 0
      },
      "text/plain": [
       "0/46           ETA: ?s - "
      ]
     },
     "metadata": {},
     "output_type": "display_data"
    },
    {
     "name": "stdout",
     "output_type": "stream",
     "text": [
      "Epoch 157/200\n",
      "46/46 [==============================] - 0s 4ms/step - loss: 0.3063 - accuracy: 0.8720 - val_loss: 0.3010 - val_accuracy: 0.8851\n",
      "Epoch 158/200\n"
     ]
    },
    {
     "data": {
      "application/vnd.jupyter.widget-view+json": {
       "model_id": "952777b034804c6db040d63677890e24",
       "version_major": 2,
       "version_minor": 0
      },
      "text/plain": [
       "0/46           ETA: ?s - "
      ]
     },
     "metadata": {},
     "output_type": "display_data"
    },
    {
     "name": "stdout",
     "output_type": "stream",
     "text": [
      "Epoch 158/200\n",
      "46/46 [==============================] - 0s 4ms/step - loss: 0.3080 - accuracy: 0.8737 - val_loss: 0.3104 - val_accuracy: 0.8919\n",
      "Epoch 159/200\n"
     ]
    },
    {
     "data": {
      "application/vnd.jupyter.widget-view+json": {
       "model_id": "e018acdeaf5845fd8c3da642ecf76539",
       "version_major": 2,
       "version_minor": 0
      },
      "text/plain": [
       "0/46           ETA: ?s - "
      ]
     },
     "metadata": {},
     "output_type": "display_data"
    },
    {
     "name": "stdout",
     "output_type": "stream",
     "text": [
      "Epoch 159/200\n",
      "46/46 [==============================] - 0s 4ms/step - loss: 0.3143 - accuracy: 0.8694 - val_loss: 0.3333 - val_accuracy: 0.8674\n",
      "Epoch 160/200\n"
     ]
    },
    {
     "data": {
      "application/vnd.jupyter.widget-view+json": {
       "model_id": "1adf650733924778ba61e3a9365a7995",
       "version_major": 2,
       "version_minor": 0
      },
      "text/plain": [
       "0/46           ETA: ?s - "
      ]
     },
     "metadata": {},
     "output_type": "display_data"
    },
    {
     "name": "stdout",
     "output_type": "stream",
     "text": [
      "Epoch 160/200\n",
      "46/46 [==============================] - 0s 4ms/step - loss: 0.3170 - accuracy: 0.8747 - val_loss: 0.3274 - val_accuracy: 0.8844\n",
      "Epoch 161/200\n"
     ]
    },
    {
     "data": {
      "application/vnd.jupyter.widget-view+json": {
       "model_id": "4a4be5a12bd146c68880ee01aaf8fe1e",
       "version_major": 2,
       "version_minor": 0
      },
      "text/plain": [
       "0/46           ETA: ?s - "
      ]
     },
     "metadata": {},
     "output_type": "display_data"
    },
    {
     "name": "stdout",
     "output_type": "stream",
     "text": [
      "Epoch 161/200\n",
      "46/46 [==============================] - 0s 4ms/step - loss: 0.3147 - accuracy: 0.8663 - val_loss: 0.3217 - val_accuracy: 0.8831\n",
      "Epoch 162/200\n"
     ]
    },
    {
     "data": {
      "application/vnd.jupyter.widget-view+json": {
       "model_id": "7cfa03889cee41f6846329a9e0d06725",
       "version_major": 2,
       "version_minor": 0
      },
      "text/plain": [
       "0/46           ETA: ?s - "
      ]
     },
     "metadata": {},
     "output_type": "display_data"
    },
    {
     "name": "stdout",
     "output_type": "stream",
     "text": [
      "Epoch 162/200\n",
      "46/46 [==============================] - 0s 4ms/step - loss: 0.3080 - accuracy: 0.8749 - val_loss: 0.3134 - val_accuracy: 0.8912\n",
      "Epoch 163/200\n"
     ]
    },
    {
     "data": {
      "application/vnd.jupyter.widget-view+json": {
       "model_id": "3ef66f8d8c0441228dd26e266ed3c80d",
       "version_major": 2,
       "version_minor": 0
      },
      "text/plain": [
       "0/46           ETA: ?s - "
      ]
     },
     "metadata": {},
     "output_type": "display_data"
    },
    {
     "name": "stdout",
     "output_type": "stream",
     "text": [
      "Epoch 163/200\n",
      "46/46 [==============================] - 0s 4ms/step - loss: 0.3137 - accuracy: 0.8691 - val_loss: 0.3085 - val_accuracy: 0.8804\n",
      "Epoch 164/200\n"
     ]
    },
    {
     "data": {
      "application/vnd.jupyter.widget-view+json": {
       "model_id": "adba14ef48f7415e91f85da649d32f9c",
       "version_major": 2,
       "version_minor": 0
      },
      "text/plain": [
       "0/46           ETA: ?s - "
      ]
     },
     "metadata": {},
     "output_type": "display_data"
    },
    {
     "name": "stdout",
     "output_type": "stream",
     "text": [
      "Epoch 164/200\n",
      "46/46 [==============================] - 0s 4ms/step - loss: 0.3057 - accuracy: 0.8803 - val_loss: 0.3151 - val_accuracy: 0.8892\n",
      "Epoch 165/200\n"
     ]
    },
    {
     "data": {
      "application/vnd.jupyter.widget-view+json": {
       "model_id": "6c221b1772bc46acb7862d42b2c44bd9",
       "version_major": 2,
       "version_minor": 0
      },
      "text/plain": [
       "0/46           ETA: ?s - "
      ]
     },
     "metadata": {},
     "output_type": "display_data"
    },
    {
     "name": "stdout",
     "output_type": "stream",
     "text": [
      "Epoch 165/200\n",
      "46/46 [==============================] - 0s 4ms/step - loss: 0.3087 - accuracy: 0.8711 - val_loss: 0.3121 - val_accuracy: 0.8776\n",
      "Epoch 166/200\n"
     ]
    },
    {
     "data": {
      "application/vnd.jupyter.widget-view+json": {
       "model_id": "5509455c198a4e02a848a647d320e31e",
       "version_major": 2,
       "version_minor": 0
      },
      "text/plain": [
       "0/46           ETA: ?s - "
      ]
     },
     "metadata": {},
     "output_type": "display_data"
    },
    {
     "name": "stdout",
     "output_type": "stream",
     "text": [
      "Epoch 166/200\n",
      "46/46 [==============================] - 0s 4ms/step - loss: 0.3090 - accuracy: 0.8723 - val_loss: 0.3008 - val_accuracy: 0.8933\n",
      "Epoch 167/200\n"
     ]
    },
    {
     "data": {
      "application/vnd.jupyter.widget-view+json": {
       "model_id": "e12a0add8c49413985f38cdbd051b3e1",
       "version_major": 2,
       "version_minor": 0
      },
      "text/plain": [
       "0/46           ETA: ?s - "
      ]
     },
     "metadata": {},
     "output_type": "display_data"
    },
    {
     "name": "stdout",
     "output_type": "stream",
     "text": [
      "Epoch 167/200\n",
      "46/46 [==============================] - 0s 4ms/step - loss: 0.3037 - accuracy: 0.8786 - val_loss: 0.3259 - val_accuracy: 0.8810\n",
      "Epoch 168/200\n"
     ]
    },
    {
     "data": {
      "application/vnd.jupyter.widget-view+json": {
       "model_id": "bd28d4aaa6b74acc8161daf167863ae0",
       "version_major": 2,
       "version_minor": 0
      },
      "text/plain": [
       "0/46           ETA: ?s - "
      ]
     },
     "metadata": {},
     "output_type": "display_data"
    },
    {
     "name": "stdout",
     "output_type": "stream",
     "text": [
      "Epoch 168/200\n",
      "46/46 [==============================] - 0s 4ms/step - loss: 0.3120 - accuracy: 0.8704 - val_loss: 0.3313 - val_accuracy: 0.8810\n",
      "Epoch 169/200\n"
     ]
    },
    {
     "data": {
      "application/vnd.jupyter.widget-view+json": {
       "model_id": "f92f0279b9f2454da8ce4cabb7839595",
       "version_major": 2,
       "version_minor": 0
      },
      "text/plain": [
       "0/46           ETA: ?s - "
      ]
     },
     "metadata": {},
     "output_type": "display_data"
    },
    {
     "name": "stdout",
     "output_type": "stream",
     "text": [
      "Epoch 169/200\n",
      "46/46 [==============================] - 0s 4ms/step - loss: 0.3069 - accuracy: 0.8810 - val_loss: 0.3142 - val_accuracy: 0.8865\n",
      "Epoch 170/200\n"
     ]
    },
    {
     "data": {
      "application/vnd.jupyter.widget-view+json": {
       "model_id": "e653e2b2849a49cfad056463c01f0917",
       "version_major": 2,
       "version_minor": 0
      },
      "text/plain": [
       "0/46           ETA: ?s - "
      ]
     },
     "metadata": {},
     "output_type": "display_data"
    },
    {
     "name": "stdout",
     "output_type": "stream",
     "text": [
      "Epoch 170/200\n",
      "46/46 [==============================] - 0s 4ms/step - loss: 0.3052 - accuracy: 0.8786 - val_loss: 0.3096 - val_accuracy: 0.8858\n",
      "Epoch 171/200\n"
     ]
    },
    {
     "data": {
      "application/vnd.jupyter.widget-view+json": {
       "model_id": "001cab2f812a4e47a44dccf76077080b",
       "version_major": 2,
       "version_minor": 0
      },
      "text/plain": [
       "0/46           ETA: ?s - "
      ]
     },
     "metadata": {},
     "output_type": "display_data"
    },
    {
     "name": "stdout",
     "output_type": "stream",
     "text": [
      "Epoch 171/200\n",
      "46/46 [==============================] - 0s 4ms/step - loss: 0.3078 - accuracy: 0.8689 - val_loss: 0.3282 - val_accuracy: 0.8851\n",
      "Epoch 172/200\n"
     ]
    },
    {
     "data": {
      "application/vnd.jupyter.widget-view+json": {
       "model_id": "b0b1f994a8a6404a84765934decd170d",
       "version_major": 2,
       "version_minor": 0
      },
      "text/plain": [
       "0/46           ETA: ?s - "
      ]
     },
     "metadata": {},
     "output_type": "display_data"
    },
    {
     "name": "stdout",
     "output_type": "stream",
     "text": [
      "Epoch 172/200\n",
      "46/46 [==============================] - 0s 4ms/step - loss: 0.3130 - accuracy: 0.8740 - val_loss: 0.3558 - val_accuracy: 0.8844\n",
      "Epoch 173/200\n"
     ]
    },
    {
     "data": {
      "application/vnd.jupyter.widget-view+json": {
       "model_id": "e14671ea2e3141d8b1aaa8b5e099171a",
       "version_major": 2,
       "version_minor": 0
      },
      "text/plain": [
       "0/46           ETA: ?s - "
      ]
     },
     "metadata": {},
     "output_type": "display_data"
    },
    {
     "name": "stdout",
     "output_type": "stream",
     "text": [
      "Epoch 173/200\n",
      "46/46 [==============================] - 0s 5ms/step - loss: 0.3132 - accuracy: 0.8692 - val_loss: 0.3285 - val_accuracy: 0.8797\n",
      "Epoch 174/200\n"
     ]
    },
    {
     "data": {
      "application/vnd.jupyter.widget-view+json": {
       "model_id": "1f06f8345383481086cee40007aafc05",
       "version_major": 2,
       "version_minor": 0
      },
      "text/plain": [
       "0/46           ETA: ?s - "
      ]
     },
     "metadata": {},
     "output_type": "display_data"
    },
    {
     "name": "stdout",
     "output_type": "stream",
     "text": [
      "Epoch 174/200\n",
      "46/46 [==============================] - 0s 4ms/step - loss: 0.2975 - accuracy: 0.8827 - val_loss: 0.2988 - val_accuracy: 0.8906\n",
      "Epoch 175/200\n"
     ]
    },
    {
     "data": {
      "application/vnd.jupyter.widget-view+json": {
       "model_id": "36a4de91f0374710865f1d84b4a7bcd5",
       "version_major": 2,
       "version_minor": 0
      },
      "text/plain": [
       "0/46           ETA: ?s - "
      ]
     },
     "metadata": {},
     "output_type": "display_data"
    },
    {
     "name": "stdout",
     "output_type": "stream",
     "text": [
      "Epoch 175/200\n",
      "46/46 [==============================] - 0s 4ms/step - loss: 0.2919 - accuracy: 0.8840 - val_loss: 0.3144 - val_accuracy: 0.8810\n",
      "Epoch 176/200\n"
     ]
    },
    {
     "data": {
      "application/vnd.jupyter.widget-view+json": {
       "model_id": "5c33dfbed3774587a6d8f28596b7a2a9",
       "version_major": 2,
       "version_minor": 0
      },
      "text/plain": [
       "0/46           ETA: ?s - "
      ]
     },
     "metadata": {},
     "output_type": "display_data"
    },
    {
     "name": "stdout",
     "output_type": "stream",
     "text": [
      "Epoch 176/200\n",
      "46/46 [==============================] - 0s 4ms/step - loss: 0.3042 - accuracy: 0.8774 - val_loss: 0.3075 - val_accuracy: 0.8885\n",
      "Epoch 177/200\n"
     ]
    },
    {
     "data": {
      "application/vnd.jupyter.widget-view+json": {
       "model_id": "d24a1044bc704c15b67f722bad1d8055",
       "version_major": 2,
       "version_minor": 0
      },
      "text/plain": [
       "0/46           ETA: ?s - "
      ]
     },
     "metadata": {},
     "output_type": "display_data"
    },
    {
     "name": "stdout",
     "output_type": "stream",
     "text": [
      "Epoch 177/200\n",
      "46/46 [==============================] - 0s 4ms/step - loss: 0.3056 - accuracy: 0.8715 - val_loss: 0.3000 - val_accuracy: 0.8872\n",
      "Epoch 178/200\n"
     ]
    },
    {
     "data": {
      "application/vnd.jupyter.widget-view+json": {
       "model_id": "30e7ba84bdcb4aa2ba0ad516ec948239",
       "version_major": 2,
       "version_minor": 0
      },
      "text/plain": [
       "0/46           ETA: ?s - "
      ]
     },
     "metadata": {},
     "output_type": "display_data"
    },
    {
     "name": "stdout",
     "output_type": "stream",
     "text": [
      "Epoch 178/200\n",
      "46/46 [==============================] - 0s 4ms/step - loss: 0.3024 - accuracy: 0.8760 - val_loss: 0.3157 - val_accuracy: 0.8776\n",
      "Epoch 179/200\n"
     ]
    },
    {
     "data": {
      "application/vnd.jupyter.widget-view+json": {
       "model_id": "a9567760816f4bb6adad124a407aa2ec",
       "version_major": 2,
       "version_minor": 0
      },
      "text/plain": [
       "0/46           ETA: ?s - "
      ]
     },
     "metadata": {},
     "output_type": "display_data"
    },
    {
     "name": "stdout",
     "output_type": "stream",
     "text": [
      "Epoch 179/200\n",
      "46/46 [==============================] - 0s 4ms/step - loss: 0.3018 - accuracy: 0.8805 - val_loss: 0.2957 - val_accuracy: 0.8899\n",
      "Epoch 180/200\n"
     ]
    },
    {
     "data": {
      "application/vnd.jupyter.widget-view+json": {
       "model_id": "bbcd274c6dc64c6fa38c9d7e94a5ba95",
       "version_major": 2,
       "version_minor": 0
      },
      "text/plain": [
       "0/46           ETA: ?s - "
      ]
     },
     "metadata": {},
     "output_type": "display_data"
    },
    {
     "name": "stdout",
     "output_type": "stream",
     "text": [
      "Epoch 180/200\n",
      "46/46 [==============================] - 0s 4ms/step - loss: 0.3060 - accuracy: 0.8711 - val_loss: 0.3142 - val_accuracy: 0.8851\n",
      "Epoch 181/200\n"
     ]
    },
    {
     "data": {
      "application/vnd.jupyter.widget-view+json": {
       "model_id": "cb043e160fa5491d90562102ceebb785",
       "version_major": 2,
       "version_minor": 0
      },
      "text/plain": [
       "0/46           ETA: ?s - "
      ]
     },
     "metadata": {},
     "output_type": "display_data"
    },
    {
     "name": "stdout",
     "output_type": "stream",
     "text": [
      "Epoch 181/200\n",
      "46/46 [==============================] - 0s 4ms/step - loss: 0.3133 - accuracy: 0.8759 - val_loss: 0.3256 - val_accuracy: 0.8770\n",
      "Epoch 182/200\n"
     ]
    },
    {
     "data": {
      "application/vnd.jupyter.widget-view+json": {
       "model_id": "302347cabc224e74a7a555e09f8270c1",
       "version_major": 2,
       "version_minor": 0
      },
      "text/plain": [
       "0/46           ETA: ?s - "
      ]
     },
     "metadata": {},
     "output_type": "display_data"
    },
    {
     "name": "stdout",
     "output_type": "stream",
     "text": [
      "Epoch 182/200\n",
      "46/46 [==============================] - 0s 4ms/step - loss: 0.3068 - accuracy: 0.8723 - val_loss: 0.3170 - val_accuracy: 0.8783\n",
      "Epoch 183/200\n"
     ]
    },
    {
     "data": {
      "application/vnd.jupyter.widget-view+json": {
       "model_id": "09a2d95d089c4c4e97fe06a543486ab9",
       "version_major": 2,
       "version_minor": 0
      },
      "text/plain": [
       "0/46           ETA: ?s - "
      ]
     },
     "metadata": {},
     "output_type": "display_data"
    },
    {
     "name": "stdout",
     "output_type": "stream",
     "text": [
      "Epoch 183/200\n",
      "46/46 [==============================] - 0s 4ms/step - loss: 0.2982 - accuracy: 0.8777 - val_loss: 0.3028 - val_accuracy: 0.8899\n",
      "Epoch 184/200\n"
     ]
    },
    {
     "data": {
      "application/vnd.jupyter.widget-view+json": {
       "model_id": "6442f51bb0284d309a189ec737f23a43",
       "version_major": 2,
       "version_minor": 0
      },
      "text/plain": [
       "0/46           ETA: ?s - "
      ]
     },
     "metadata": {},
     "output_type": "display_data"
    },
    {
     "name": "stdout",
     "output_type": "stream",
     "text": [
      "Epoch 184/200\n",
      "46/46 [==============================] - 0s 4ms/step - loss: 0.3048 - accuracy: 0.8749 - val_loss: 0.3189 - val_accuracy: 0.8878\n",
      "Epoch 185/200\n"
     ]
    },
    {
     "data": {
      "application/vnd.jupyter.widget-view+json": {
       "model_id": "c9dcfa7a91d248da807ba6c9a0c10ab5",
       "version_major": 2,
       "version_minor": 0
      },
      "text/plain": [
       "0/46           ETA: ?s - "
      ]
     },
     "metadata": {},
     "output_type": "display_data"
    },
    {
     "name": "stdout",
     "output_type": "stream",
     "text": [
      "Epoch 185/200\n",
      "46/46 [==============================] - 0s 4ms/step - loss: 0.3016 - accuracy: 0.8764 - val_loss: 0.3216 - val_accuracy: 0.8912\n",
      "Epoch 186/200\n"
     ]
    },
    {
     "data": {
      "application/vnd.jupyter.widget-view+json": {
       "model_id": "94350daab0e6459db32b784979257260",
       "version_major": 2,
       "version_minor": 0
      },
      "text/plain": [
       "0/46           ETA: ?s - "
      ]
     },
     "metadata": {},
     "output_type": "display_data"
    },
    {
     "name": "stdout",
     "output_type": "stream",
     "text": [
      "Epoch 186/200\n",
      "46/46 [==============================] - 0s 4ms/step - loss: 0.3011 - accuracy: 0.8813 - val_loss: 0.3071 - val_accuracy: 0.8838\n",
      "Epoch 187/200\n"
     ]
    },
    {
     "data": {
      "application/vnd.jupyter.widget-view+json": {
       "model_id": "d7dd7dd24b024712a1e1d0d17e32f623",
       "version_major": 2,
       "version_minor": 0
      },
      "text/plain": [
       "0/46           ETA: ?s - "
      ]
     },
     "metadata": {},
     "output_type": "display_data"
    },
    {
     "name": "stdout",
     "output_type": "stream",
     "text": [
      "Epoch 187/200\n",
      "46/46 [==============================] - 0s 4ms/step - loss: 0.2956 - accuracy: 0.8791 - val_loss: 0.3004 - val_accuracy: 0.8926\n",
      "Epoch 188/200\n"
     ]
    },
    {
     "data": {
      "application/vnd.jupyter.widget-view+json": {
       "model_id": "42f3fc6410414b6ba1080a5102830d40",
       "version_major": 2,
       "version_minor": 0
      },
      "text/plain": [
       "0/46           ETA: ?s - "
      ]
     },
     "metadata": {},
     "output_type": "display_data"
    },
    {
     "name": "stdout",
     "output_type": "stream",
     "text": [
      "Epoch 188/200\n",
      "46/46 [==============================] - 0s 4ms/step - loss: 0.3014 - accuracy: 0.8720 - val_loss: 0.3025 - val_accuracy: 0.8912\n",
      "Epoch 189/200\n"
     ]
    },
    {
     "data": {
      "application/vnd.jupyter.widget-view+json": {
       "model_id": "fac3da3b5c524a41b2512778a8c2a3bb",
       "version_major": 2,
       "version_minor": 0
      },
      "text/plain": [
       "0/46           ETA: ?s - "
      ]
     },
     "metadata": {},
     "output_type": "display_data"
    },
    {
     "name": "stdout",
     "output_type": "stream",
     "text": [
      "Epoch 189/200\n",
      "46/46 [==============================] - 0s 4ms/step - loss: 0.3013 - accuracy: 0.8767 - val_loss: 0.3235 - val_accuracy: 0.8844\n",
      "Epoch 190/200\n"
     ]
    },
    {
     "data": {
      "application/vnd.jupyter.widget-view+json": {
       "model_id": "713744c9ca714273a0413372daea9c3e",
       "version_major": 2,
       "version_minor": 0
      },
      "text/plain": [
       "0/46           ETA: ?s - "
      ]
     },
     "metadata": {},
     "output_type": "display_data"
    },
    {
     "name": "stdout",
     "output_type": "stream",
     "text": [
      "Epoch 190/200\n",
      "46/46 [==============================] - 0s 4ms/step - loss: 0.3079 - accuracy: 0.8694 - val_loss: 0.2989 - val_accuracy: 0.8892\n",
      "Epoch 191/200\n"
     ]
    },
    {
     "data": {
      "application/vnd.jupyter.widget-view+json": {
       "model_id": "1d9737c040364fdf8865c5a29afffb57",
       "version_major": 2,
       "version_minor": 0
      },
      "text/plain": [
       "0/46           ETA: ?s - "
      ]
     },
     "metadata": {},
     "output_type": "display_data"
    },
    {
     "name": "stdout",
     "output_type": "stream",
     "text": [
      "Epoch 191/200\n",
      "46/46 [==============================] - 0s 4ms/step - loss: 0.3030 - accuracy: 0.8743 - val_loss: 0.3256 - val_accuracy: 0.8844\n",
      "Epoch 192/200\n"
     ]
    },
    {
     "data": {
      "application/vnd.jupyter.widget-view+json": {
       "model_id": "7c50b622be8f4aadba34925cceb05955",
       "version_major": 2,
       "version_minor": 0
      },
      "text/plain": [
       "0/46           ETA: ?s - "
      ]
     },
     "metadata": {},
     "output_type": "display_data"
    },
    {
     "name": "stdout",
     "output_type": "stream",
     "text": [
      "Epoch 192/200\n",
      "46/46 [==============================] - 0s 4ms/step - loss: 0.2943 - accuracy: 0.8808 - val_loss: 0.3016 - val_accuracy: 0.8865\n",
      "Epoch 193/200\n"
     ]
    },
    {
     "data": {
      "application/vnd.jupyter.widget-view+json": {
       "model_id": "67a1049a47824a018a331048229669a4",
       "version_major": 2,
       "version_minor": 0
      },
      "text/plain": [
       "0/46           ETA: ?s - "
      ]
     },
     "metadata": {},
     "output_type": "display_data"
    },
    {
     "name": "stdout",
     "output_type": "stream",
     "text": [
      "Epoch 193/200\n",
      "46/46 [==============================] - 0s 4ms/step - loss: 0.3057 - accuracy: 0.8723 - val_loss: 0.3073 - val_accuracy: 0.8817\n",
      "Epoch 194/200\n"
     ]
    },
    {
     "data": {
      "application/vnd.jupyter.widget-view+json": {
       "model_id": "b71db026c0794e0e84688e9482bb7254",
       "version_major": 2,
       "version_minor": 0
      },
      "text/plain": [
       "0/46           ETA: ?s - "
      ]
     },
     "metadata": {},
     "output_type": "display_data"
    },
    {
     "name": "stdout",
     "output_type": "stream",
     "text": [
      "Epoch 194/200\n",
      "46/46 [==============================] - 0s 4ms/step - loss: 0.2972 - accuracy: 0.8767 - val_loss: 0.3113 - val_accuracy: 0.8783\n",
      "Epoch 195/200\n"
     ]
    },
    {
     "data": {
      "application/vnd.jupyter.widget-view+json": {
       "model_id": "2d02b6740a274110867fad2275a2897a",
       "version_major": 2,
       "version_minor": 0
      },
      "text/plain": [
       "0/46           ETA: ?s - "
      ]
     },
     "metadata": {},
     "output_type": "display_data"
    },
    {
     "name": "stdout",
     "output_type": "stream",
     "text": [
      "Epoch 195/200\n",
      "46/46 [==============================] - 0s 4ms/step - loss: 0.2925 - accuracy: 0.8818 - val_loss: 0.3085 - val_accuracy: 0.8844\n",
      "Epoch 196/200\n"
     ]
    },
    {
     "data": {
      "application/vnd.jupyter.widget-view+json": {
       "model_id": "3192fab1d6a44aac94cdd2a1a8f82e84",
       "version_major": 2,
       "version_minor": 0
      },
      "text/plain": [
       "0/46           ETA: ?s - "
      ]
     },
     "metadata": {},
     "output_type": "display_data"
    },
    {
     "name": "stdout",
     "output_type": "stream",
     "text": [
      "Epoch 196/200\n",
      "46/46 [==============================] - 0s 4ms/step - loss: 0.3030 - accuracy: 0.8754 - val_loss: 0.3002 - val_accuracy: 0.8885\n",
      "Epoch 197/200\n"
     ]
    },
    {
     "data": {
      "application/vnd.jupyter.widget-view+json": {
       "model_id": "0935957ccad84af5aaa5754a1588ace7",
       "version_major": 2,
       "version_minor": 0
      },
      "text/plain": [
       "0/46           ETA: ?s - "
      ]
     },
     "metadata": {},
     "output_type": "display_data"
    },
    {
     "name": "stdout",
     "output_type": "stream",
     "text": [
      "Epoch 197/200\n",
      "46/46 [==============================] - 0s 4ms/step - loss: 0.3081 - accuracy: 0.8715 - val_loss: 0.3262 - val_accuracy: 0.8824\n",
      "Epoch 198/200\n"
     ]
    },
    {
     "data": {
      "application/vnd.jupyter.widget-view+json": {
       "model_id": "c992bbe5866548d1be3144ac0fe65dca",
       "version_major": 2,
       "version_minor": 0
      },
      "text/plain": [
       "0/46           ETA: ?s - "
      ]
     },
     "metadata": {},
     "output_type": "display_data"
    },
    {
     "name": "stdout",
     "output_type": "stream",
     "text": [
      "Epoch 198/200\n",
      "46/46 [==============================] - 0s 4ms/step - loss: 0.3069 - accuracy: 0.8738 - val_loss: 0.2927 - val_accuracy: 0.8912\n",
      "Epoch 199/200\n"
     ]
    },
    {
     "data": {
      "application/vnd.jupyter.widget-view+json": {
       "model_id": "d0eff959568445708fc0cce383364021",
       "version_major": 2,
       "version_minor": 0
      },
      "text/plain": [
       "0/46           ETA: ?s - "
      ]
     },
     "metadata": {},
     "output_type": "display_data"
    },
    {
     "name": "stdout",
     "output_type": "stream",
     "text": [
      "Epoch 199/200\n",
      "46/46 [==============================] - 0s 4ms/step - loss: 0.3057 - accuracy: 0.8692 - val_loss: 0.3022 - val_accuracy: 0.8838\n",
      "Epoch 200/200\n"
     ]
    },
    {
     "data": {
      "application/vnd.jupyter.widget-view+json": {
       "model_id": "1caa145882054e32b7a08f3050952647",
       "version_major": 2,
       "version_minor": 0
      },
      "text/plain": [
       "0/46           ETA: ?s - "
      ]
     },
     "metadata": {},
     "output_type": "display_data"
    },
    {
     "name": "stdout",
     "output_type": "stream",
     "text": [
      "Epoch 200/200\n",
      "46/46 [==============================] - 0s 4ms/step - loss: 0.3008 - accuracy: 0.8784 - val_loss: 0.3012 - val_accuracy: 0.8912\n"
     ]
    },
    {
     "data": {
      "text/plain": [
       "<keras.callbacks.History at 0x7fb59faf1d90>"
      ]
     },
     "execution_count": 12,
     "metadata": {},
     "output_type": "execute_result"
    }
   ],
   "source": [
    "model.fit(x_input, y_input, \n",
    "          epochs=200, \n",
    "          batch_size=128,\n",
    "          validation_data=(x_val, y_val),\n",
    "          callbacks=[tensorboard_callback, tqdm_callback]\n",
    "         )"
   ]
  },
  {
   "cell_type": "code",
   "execution_count": null,
   "id": "8e44ad2e-f6df-4013-86c5-d29aae002dde",
   "metadata": {},
   "outputs": [],
   "source": [
    "predictions = model.predict(x_input,verbose=0)      ##TO DO: CHECK\n",
    "y_pred = np.argmax(predictions,axis=-1)\n",
    "print('train accuracy: ', np.sum(y_pred==y_input[:,0])/len(y_input))"
   ]
  },
  {
   "cell_type": "code",
   "execution_count": null,
   "id": "d0a387e3-3412-4316-9cf9-d4ceb5b56712",
   "metadata": {},
   "outputs": [],
   "source": [
    "predictions = model.predict(x_val,verbose=0)\n",
    "y_pred = np.argmax(predictions,axis=-1)\n",
    "print('val accuracy: ', np.sum(y_pred==y_val[:,0])/len(y_val))"
   ]
  },
  {
   "cell_type": "code",
   "execution_count": 13,
   "id": "2bed1c7d-8624-472c-97fe-7ba71b1ce84e",
   "metadata": {},
   "outputs": [
    {
     "name": "stdout",
     "output_type": "stream",
     "text": [
      "(2947, 128, 3)\n",
      "(2947, 6)\n",
      "93/93 [==============================] - 0s 2ms/step - loss: 0.6062 - accuracy: 0.8497\n",
      "Test Accuracy : 0.8496776223182678\n",
      "Test Loss : 0.606227695941925\n"
     ]
    }
   ],
   "source": [
    "#one-hot encoding for labels\n",
    "xtest = tf.convert_to_tensor(xtest, tf.float32)\n",
    "ytest = tf.keras.utils.to_categorical(ytest)\n",
    "print(xtest.shape)\n",
    "print(ytest.shape)\n",
    "loss, accuracy = model.evaluate(xtest, ytest, verbose = 1)\n",
    "print(\"Test Accuracy :\", accuracy)\n",
    "print(\"Test Loss :\", loss)"
   ]
  },
  {
   "cell_type": "markdown",
   "id": "e7d98938-3967-48a3-a99f-6c0a1fded141",
   "metadata": {},
   "source": [
    "## Other models"
   ]
  },
  {
   "cell_type": "code",
   "execution_count": null,
   "id": "e12d1ebc-4365-45b4-a3af-4649d1918a14",
   "metadata": {},
   "outputs": [],
   "source": [
    "#Recreate the tensors\n",
    "x_input, x_val, y_input, y_val = train_test_split(xtrain, ytrain, test_size=0.2, random_state=10)\n",
    "\n",
    "#one-hot encoding for labels\n",
    "y_input = tf.keras.utils.to_categorical(y_input)\n",
    "y_val = tf.keras.utils.to_categorical(y_val)\n",
    "# Convert your input and validation data to a tensor so that you can pass it into your classifier\n",
    "x_input = tf.convert_to_tensor(x_input, tf.float32)\n",
    "x_val = tf.convert_to_tensor(x_val, tf.float32)\n",
    "y_input = tf.convert_to_tensor(y_input, tf.float32)\n",
    "y_val = tf.convert_to_tensor(y_val, tf.float32)"
   ]
  },
  {
   "cell_type": "code",
   "execution_count": null,
   "id": "6f135379-2c0d-4f8b-b0ed-961b16692da0",
   "metadata": {},
   "outputs": [],
   "source": [
    "##LSTM##\n",
    "#Adapting\n",
    "# https://www.analyticsvidhya.com/blog/2021/07/implementing-lstm-for-human-activity-recognition-using-smartphone-accelerometer-data/\n",
    "ytrain = tf.keras.utils.to_categorical(ytrain)\n",
    "\n",
    "\n",
    "\n",
    "\n",
    "from keras.models import Sequential\n",
    "from keras.layers import LSTM, Dense, Flatten, Dropout\n",
    "\n",
    "model = Sequential()\n",
    "# RNN layer\n",
    "model.add(LSTM(units = 128, input_shape = (x_input.shape[1], x_input.shape[2])))\n",
    "# Dropout layer\n",
    "model.add(Dropout(0.5)) \n",
    "# Dense layer with ReLu\n",
    "model.add(Dense(units = 124, activation='relu'))\n",
    "# Softmax layer\n",
    "model.add(Dense(y_input.shape[1], activation = 'softmax'))\n",
    "# Compile model\n",
    "model.compile(loss='categorical_crossentropy', optimizer=tf.keras.optimizers.Adam(0.001), metrics=['accuracy'])"
   ]
  },
  {
   "cell_type": "code",
   "execution_count": null,
   "id": "1b86a96b-a94a-4b36-897c-25954ffe3437",
   "metadata": {},
   "outputs": [],
   "source": [
    "model.summary()"
   ]
  },
  {
   "cell_type": "code",
   "execution_count": null,
   "id": "f94a5a0a-cc2d-4997-8746-8d1b48df992d",
   "metadata": {},
   "outputs": [],
   "source": [
    "n_epochs = 200\n",
    "batch_size = 1024 \n",
    "\n",
    "history = model.fit(xtrain, ytrain, epochs = n_epochs, validation_split = 0.20, batch_size = batch_size, verbose = 1)\n",
    "\n",
    "plt.plot(np.array(history.history['loss']), \"r--\", label = \"Train loss\")\n",
    "plt.plot(np.array(history.history['accuracy']), \"g--\", label = \"Train accuracy\")\n",
    "plt.plot(np.array(history.history['val_loss']), \"r-\", label = \"Validation loss\")\n",
    "plt.plot(np.array(history.history['val_accuracy']), \"g-\", label = \"Validation accuracy\")\n",
    "plt.title(\"Training session's progress over iterations\")\n",
    "plt.legend(loc='lower left')\n",
    "plt.ylabel('Training Progress (Loss/Accuracy)')\n",
    "plt.xlabel('Training Epoch')\n",
    "plt.ylim(0) \n",
    "plt.show()"
   ]
  }
 ],
 "metadata": {
  "kernelspec": {
   "display_name": "Python 3 (ipykernel)",
   "language": "python",
   "name": "python3"
  },
  "language_info": {
   "codemirror_mode": {
    "name": "ipython",
    "version": 3
   },
   "file_extension": ".py",
   "mimetype": "text/x-python",
   "name": "python",
   "nbconvert_exporter": "python",
   "pygments_lexer": "ipython3",
   "version": "3.8.16"
  }
 },
 "nbformat": 4,
 "nbformat_minor": 5
}
