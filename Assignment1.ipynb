{
 "cells": [
  {
   "cell_type": "markdown",
   "id": "13ae3211-1f78-4601-bda9-80d93fe8211b",
   "metadata": {},
   "source": [
    "Assignent 1 \n",
    "\n",
    "\n",
    "### Large‐Scale Computing for Data Analytics\n",
    "\n",
    "\n",
    "Silvia Bardoni\n",
    "\n"
   ]
  },
  {
   "cell_type": "code",
   "execution_count": 2,
   "id": "3ebf0f55-897b-41b0-9f96-3cd1ff2301c2",
   "metadata": {},
   "outputs": [],
   "source": [
    "#Imports and settings\n",
    "import matplotlib.pyplot as plt\n",
    "import numpy as np\n",
    "import tensorflow as tf\n",
    "import sys\n",
    "from tqdm.notebook import tqdm\n",
    "from sklearn.datasets import load_diabetes\n",
    "\n",
    "np.set_printoptions(suppress=True)"
   ]
  },
  {
   "cell_type": "markdown",
   "id": "0ff4829b-2bd8-4c35-ada7-7945509c1078",
   "metadata": {},
   "source": [
    "#### *Task 1*"
   ]
  },
  {
   "cell_type": "code",
   "execution_count": 3,
   "id": "17c41da9-7eb5-4d0e-9966-b23bcc90560b",
   "metadata": {},
   "outputs": [],
   "source": [
    "# Load the diabetes dataset\n",
    "x, y = load_diabetes(return_X_y=True)\n",
    "#help(load_diabetes) # description of dataset"
   ]
  },
  {
   "cell_type": "code",
   "execution_count": 4,
   "id": "b0f22549-0baf-4983-96e3-3a5dfd863e3e",
   "metadata": {},
   "outputs": [
    {
     "name": "stdout",
     "output_type": "stream",
     "text": [
      "(442, 10)\n"
     ]
    }
   ],
   "source": [
    "print(x.shape)"
   ]
  },
  {
   "cell_type": "code",
   "execution_count": 5,
   "id": "af2a07c0-97bd-4449-8299-05bbf6de4d89",
   "metadata": {},
   "outputs": [
    {
     "data": {
      "image/png": "[encoded data removed]",
      "text/plain": [
       "<Figure size 500x300 with 1 Axes>"
      ]
     },
     "metadata": {},
     "output_type": "display_data"
    }
   ],
   "source": [
    "plt.figure(figsize=(5,3))\n",
    "\n",
    "plt.hist(y)\n",
    "plt.ylabel('y') \n",
    "plt.title(\"Histogram of outcome y\") \n",
    "plt.show()"
   ]
  },
  {
   "cell_type": "markdown",
   "id": "6885cfbd-7614-4e6e-bb51-8c617265c589",
   "metadata": {},
   "source": [
    "**Comment:** the histogram is right_skewed "
   ]
  },
  {
   "cell_type": "markdown",
   "id": "3e0983b0-fcba-4825-afe7-c571fb671acb",
   "metadata": {},
   "source": [
    "#### *Task 2*"
   ]
  },
  {
   "cell_type": "code",
   "execution_count": 6,
   "id": "73b04b35-5996-4e28-872a-90efa4f289be",
   "metadata": {},
   "outputs": [
    {
     "data": {
      "image/png": "[encoded data removed]",
      "text/plain": [
       "<Figure size 500x300 with 1 Axes>"
      ]
     },
     "metadata": {},
     "output_type": "display_data"
    }
   ],
   "source": [
    "#log the \n",
    "plt.figure(figsize=(5,3))\n",
    "\n",
    "y_log = np.log(y)\n",
    "plt.ylabel('y_log') \n",
    "plt.title(\"Histogram of outcome y_log\") \n",
    "plt.hist(y_log)\n",
    "plt.show()"
   ]
  },
  {
   "cell_type": "code",
   "execution_count": 7,
   "id": "b5f5ec73-5890-493b-ae36-a54fe769ed5e",
   "metadata": {},
   "outputs": [],
   "source": [
    "# Split the data into training/testing sets, rounding the split down to the nearest integer\n",
    "split = 0.8\n",
    "N = len(y)\n",
    "sample = int(split*N)\n",
    "\n",
    "x_train, x_test, y_train, y_test = x[:sample,:], x[sample:, :], y_log[:sample, ], y_log[sample:,]"
   ]
  },
  {
   "cell_type": "markdown",
   "id": "0fcb15c3-5e81-47ee-93ad-c2c033eed88e",
   "metadata": {},
   "source": [
    "#### *Task 3*"
   ]
  },
  {
   "cell_type": "code",
   "execution_count": 8,
   "id": "0156c078-13ec-47f9-a1e3-f3f94567e4f9",
   "metadata": {},
   "outputs": [],
   "source": [
    "bmi_train = x_train[:, 2]  \n",
    "bmi_test = x_test[:, 2]  "
   ]
  },
  {
   "cell_type": "code",
   "execution_count": 9,
   "id": "7472f210-5738-4cc1-b35e-8f27dd80f28a",
   "metadata": {},
   "outputs": [],
   "source": [
    "#bmi_test.shape"
   ]
  },
  {
   "cell_type": "code",
   "execution_count": 10,
   "id": "85492545-7898-492d-a0aa-2ecc98472e03",
   "metadata": {},
   "outputs": [
    {
     "name": "stderr",
     "output_type": "stream",
     "text": [
      "2023-06-11 15:19:52.163723: I tensorflow/core/platform/cpu_feature_guard.cc:151] This TensorFlow binary is optimized with oneAPI Deep Neural Network Library (oneDNN) to use the following CPU instructions in performance-critical operations:  AVX2 FMA\n",
      "To enable them in other operations, rebuild TensorFlow with the appropriate compiler flags.\n",
      "2023-06-11 15:19:52.718012: I tensorflow/core/common_runtime/gpu/gpu_device.cc:1525] Created device /job:localhost/replica:0/task:0/device:GPU:0 with 10794 MB memory:  -> device: 0, name: Tesla K80, pci bus id: 0001:00:00.0, compute capability: 3.7\n"
     ]
    }
   ],
   "source": [
    "#Create variables to train\n",
    "b0 = tf.Variable(2.0, dtype=tf.float64)   # initialised as per task4\n",
    "b1 = tf.Variable(0.0, dtype=tf.float64)   # initialised as per task4"
   ]
  },
  {
   "cell_type": "markdown",
   "id": "4dbbfa0c-086f-42d9-ade3-f83e403810a2",
   "metadata": {},
   "source": [
    "Define statistical model"
   ]
  },
  {
   "cell_type": "code",
   "execution_count": 11,
   "id": "a670f58f-5f38-4fb4-991f-6997950da4ab",
   "metadata": {},
   "outputs": [],
   "source": [
    "# define model\n",
    "def LinearModel(x):\n",
    "   return tf.add(tf.multiply(x, b1), b0)"
   ]
  },
  {
   "cell_type": "code",
   "execution_count": 12,
   "id": "22605984-8a35-41ed-83d2-78a1bc13843c",
   "metadata": {},
   "outputs": [],
   "source": [
    "# define mean squared error\n",
    "def loss(y, pred):\n",
    "    return tf.reduce_mean(tf.square(y - pred))"
   ]
  },
  {
   "cell_type": "markdown",
   "id": "14e5b093-5ce8-4f23-9e3d-c7dd6652d448",
   "metadata": {},
   "source": [
    "#### *Task4*"
   ]
  },
  {
   "cell_type": "code",
   "execution_count": 13,
   "id": "6873d229-7041-4663-b9b2-23013d56970d",
   "metadata": {},
   "outputs": [],
   "source": [
    "# compile\n",
    "optimizer = tf.keras.optimizers.SGD(learning_rate=0.01) \n",
    "epochs = range(5000)"
   ]
  },
  {
   "cell_type": "code",
   "execution_count": 14,
   "id": "e59af660-7896-4047-b92c-71a163f4c4ef",
   "metadata": {},
   "outputs": [
    {
     "name": "stdout",
     "output_type": "stream",
     "text": [
      "epoch:0b0:<tf.Variable 'Variable:0' shape=() dtype=float64, numpy=2.057613008877964>b1:<tf.Variable 'Variable:0' shape=() dtype=float64, numpy=0.0002402607483616333>  Loss = tf.Tensor(8.600350131627982, shape=(), dtype=float64)\n",
      "epoch:100b0:<tf.Variable 'Variable:0' shape=() dtype=float64, numpy=4.506269356256135>b1:<tf.Variable 'Variable:0' shape=() dtype=float64, numpy=0.02619927726789916>  Loss = tf.Tensor(0.44744418975242994, shape=(), dtype=float64)\n",
      "epoch:200b0:<tf.Variable 'Variable:0' shape=() dtype=float64, numpy=4.831023088231512>b1:<tf.Variable 'Variable:0' shape=() dtype=float64, numpy=0.0533185724868797>  Loss = tf.Tensor(0.30331861304491464, shape=(), dtype=float64)\n",
      "epoch:300b0:<tf.Variable 'Variable:0' shape=() dtype=float64, numpy=4.8741059324555875>b1:<tf.Variable 'Variable:0' shape=() dtype=float64, numpy=0.0804907356618281>  Loss = tf.Tensor(0.30005708309353896, shape=(), dtype=float64)\n",
      "epoch:400b0:<tf.Variable 'Variable:0' shape=() dtype=float64, numpy=4.879833673960665>b1:<tf.Variable 'Variable:0' shape=() dtype=float64, numpy=0.1075693334848171>  Loss = tf.Tensor(0.2992792458844924, shape=(), dtype=float64)\n",
      "epoch:500b0:<tf.Variable 'Variable:0' shape=() dtype=float64, numpy=4.880607341527261>b1:<tf.Variable 'Variable:0' shape=() dtype=float64, numpy=0.13453537512226715>  Loss = tf.Tensor(0.29855122582818394, shape=(), dtype=float64)\n",
      "epoch:600b0:<tf.Variable 'Variable:0' shape=() dtype=float64, numpy=4.880723942490828>b1:<tf.Variable 'Variable:0' shape=() dtype=float64, numpy=0.16138676926278853>  Loss = tf.Tensor(0.29783016388324984, shape=(), dtype=float64)\n",
      "epoch:700b0:<tf.Variable 'Variable:0' shape=() dtype=float64, numpy=4.880753343917981>b1:<tf.Variable 'Variable:0' shape=() dtype=float64, numpy=0.18812366397789704>  Loss = tf.Tensor(0.2971152544662597, shape=(), dtype=float64)\n",
      "epoch:800b0:<tf.Variable 'Variable:0' shape=() dtype=float64, numpy=4.880771121528547>b1:<tf.Variable 'Variable:0' shape=() dtype=float64, numpy=0.2147465025099717>  Loss = tf.Tensor(0.29640643206760836, shape=(), dtype=float64)\n",
      "epoch:900b0:<tf.Variable 'Variable:0' shape=() dtype=float64, numpy=4.880787298387675>b1:<tf.Variable 'Variable:0' shape=() dtype=float64, numpy=0.24125576543963764>  Loss = tf.Tensor(0.29570364463117277, shape=(), dtype=float64)\n",
      "epoch:1000b0:<tf.Variable 'Variable:0' shape=() dtype=float64, numpy=4.880803204001477>b1:<tf.Variable 'Variable:0' shape=() dtype=float64, numpy=0.2676519364998523>  Loss = tf.Tensor(0.2950068407708478, shape=(), dtype=float64)\n",
      "epoch:1100b0:<tf.Variable 'Variable:0' shape=() dtype=float64, numpy=4.880819014939849>b1:<tf.Variable 'Variable:0' shape=() dtype=float64, numpy=0.29393549804986513>  Loss = tf.Tensor(0.29431596954202227, shape=(), dtype=float64)\n",
      "epoch:1200b0:<tf.Variable 'Variable:0' shape=() dtype=float64, numpy=4.880834754869835>b1:<tf.Variable 'Variable:0' shape=() dtype=float64, numpy=0.32010693048261984>  Loss = tf.Tensor(0.2936309804339004, shape=(), dtype=float64)\n",
      "epoch:1300b0:<tf.Variable 'Variable:0' shape=() dtype=float64, numpy=4.8808504271795075>b1:<tf.Variable 'Variable:0' shape=() dtype=float64, numpy=0.34616671215377554>  Loss = tf.Tensor(0.29295182336573994, shape=(), dtype=float64)\n",
      "epoch:1400b0:<tf.Variable 'Variable:0' shape=() dtype=float64, numpy=4.8808660325664945>b1:<tf.Variable 'Variable:0' shape=() dtype=float64, numpy=0.3721153193798727>  Loss = tf.Tensor(0.2922784486831891, shape=(), dtype=float64)\n",
      "epoch:1500b0:<tf.Variable 'Variable:0' shape=() dtype=float64, numpy=4.880881571370551>b1:<tf.Variable 'Variable:0' shape=() dtype=float64, numpy=0.39795322644563647>  Loss = tf.Tensor(0.29161080715465637, shape=(), dtype=float64)\n",
      "epoch:1600b0:<tf.Variable 'Variable:0' shape=() dtype=float64, numpy=4.880897043882941>b1:<tf.Variable 'Variable:0' shape=() dtype=float64, numpy=0.423680905612459>  Loss = tf.Tensor(0.29094884996771125, shape=(), dtype=float64)\n",
      "epoch:1700b0:<tf.Variable 'Variable:0' shape=() dtype=float64, numpy=4.880912450387415>b1:<tf.Variable 'Variable:0' shape=() dtype=float64, numpy=0.4492988271270084>  Loss = tf.Tensor(0.29029252872551514, shape=(), dtype=float64)\n",
      "epoch:1800b0:<tf.Variable 'Variable:0' shape=() dtype=float64, numpy=4.880927791165701>b1:<tf.Variable 'Variable:0' shape=() dtype=float64, numpy=0.4748074592298185>  Loss = tf.Tensor(0.2896417954432829, shape=(), dtype=float64)\n",
      "epoch:1900b0:<tf.Variable 'Variable:0' shape=() dtype=float64, numpy=4.880943066498213>b1:<tf.Variable 'Variable:0' shape=() dtype=float64, numpy=0.5002072681638476>  Loss = tf.Tensor(0.2889966025447755, shape=(), dtype=float64)\n",
      "epoch:2000b0:<tf.Variable 'Variable:0' shape=() dtype=float64, numpy=4.880958276664158>b1:<tf.Variable 'Variable:0' shape=() dtype=float64, numpy=0.5254987181830002>  Loss = tf.Tensor(0.2883569028588202, shape=(), dtype=float64)\n",
      "epoch:2100b0:<tf.Variable 'Variable:0' shape=() dtype=float64, numpy=4.880973421941537>b1:<tf.Variable 'Variable:0' shape=() dtype=float64, numpy=0.5506822715606142>  Loss = tf.Tensor(0.28772264961586325, shape=(), dtype=float64)\n",
      "epoch:2200b0:<tf.Variable 'Variable:0' shape=() dtype=float64, numpy=4.880988502607178>b1:<tf.Variable 'Variable:0' shape=() dtype=float64, numpy=0.575758388597908>  Loss = tf.Tensor(0.28709379644454913, shape=(), dtype=float64)\n",
      "epoch:2300b0:<tf.Variable 'Variable:0' shape=() dtype=float64, numpy=4.881003518936723>b1:<tf.Variable 'Variable:0' shape=() dtype=float64, numpy=0.6007275276323932>  Loss = tf.Tensor(0.28647029736833174, shape=(), dtype=float64)\n",
      "epoch:2400b0:<tf.Variable 'Variable:0' shape=() dtype=float64, numpy=4.8810184712046345>b1:<tf.Variable 'Variable:0' shape=() dtype=float64, numpy=0.6255901450462559>  Loss = tf.Tensor(0.2858521068021114, shape=(), dtype=float64)\n",
      "epoch:2500b0:<tf.Variable 'Variable:0' shape=() dtype=float64, numpy=4.881033359684215>b1:<tf.Variable 'Variable:0' shape=() dtype=float64, numpy=0.6503466952746941>  Loss = tf.Tensor(0.28523917954890327, shape=(), dtype=float64)\n",
      "epoch:2600b0:<tf.Variable 'Variable:0' shape=() dtype=float64, numpy=4.881048184647589>b1:<tf.Variable 'Variable:0' shape=() dtype=float64, numpy=0.6749976308142275>  Loss = tf.Tensor(0.28463147079653217, shape=(), dtype=float64)\n",
      "epoch:2700b0:<tf.Variable 'Variable:0' shape=() dtype=float64, numpy=4.88106294636572>b1:<tf.Variable 'Variable:0' shape=() dtype=float64, numpy=0.699543402230964>  Loss = tf.Tensor(0.28402893611435676, shape=(), dtype=float64)\n",
      "epoch:2800b0:<tf.Variable 'Variable:0' shape=() dtype=float64, numpy=4.881077645108431>b1:<tf.Variable 'Variable:0' shape=() dtype=float64, numpy=0.7239844581688397>  Loss = tf.Tensor(0.283431531450021, shape=(), dtype=float64)\n",
      "epoch:2900b0:<tf.Variable 'Variable:0' shape=() dtype=float64, numpy=4.881092281144379>b1:<tf.Variable 'Variable:0' shape=() dtype=float64, numpy=0.7483212453578152>  Loss = tf.Tensor(0.28283921312623317, shape=(), dtype=float64)\n",
      "epoch:3000b0:<tf.Variable 'Variable:0' shape=() dtype=float64, numpy=4.88110685474108>b1:<tf.Variable 'Variable:0' shape=() dtype=float64, numpy=0.7725542086220436>  Loss = tf.Tensor(0.2822519378375727, shape=(), dtype=float64)\n",
      "epoch:3100b0:<tf.Variable 'Variable:0' shape=() dtype=float64, numpy=4.881121366164904>b1:<tf.Variable 'Variable:0' shape=() dtype=float64, numpy=0.7966837908879993>  Loss = tf.Tensor(0.28166966264732435, shape=(), dtype=float64)\n",
      "epoch:3200b0:<tf.Variable 'Variable:0' shape=() dtype=float64, numpy=4.881135815681092>b1:<tf.Variable 'Variable:0' shape=() dtype=float64, numpy=0.8207104331925743>  Loss = tf.Tensor(0.28109234498433855, shape=(), dtype=float64)\n",
      "epoch:3300b0:<tf.Variable 'Variable:0' shape=() dtype=float64, numpy=4.881150203553751>b1:<tf.Variable 'Variable:0' shape=() dtype=float64, numpy=0.8446345746911386>  Loss = tf.Tensor(0.2805199426399192, shape=(), dtype=float64)\n",
      "epoch:3400b0:<tf.Variable 'Variable:0' shape=() dtype=float64, numpy=4.881164530045857>b1:<tf.Variable 'Variable:0' shape=() dtype=float64, numpy=0.8684566526655694>  Loss = tf.Tensor(0.2799524137647377, shape=(), dtype=float64)\n",
      "epoch:3500b0:<tf.Variable 'Variable:0' shape=() dtype=float64, numpy=4.881178795419271>b1:<tf.Variable 'Variable:0' shape=() dtype=float64, numpy=0.8921771025322419>  Loss = tf.Tensor(0.279389716865773, shape=(), dtype=float64)\n",
      "epoch:3600b0:<tf.Variable 'Variable:0' shape=() dtype=float64, numpy=4.881192999934731>b1:<tf.Variable 'Variable:0' shape=() dtype=float64, numpy=0.9157963578499867>  Loss = tf.Tensor(0.2788318108032787, shape=(), dtype=float64)\n",
      "epoch:3700b0:<tf.Variable 'Variable:0' shape=() dtype=float64, numpy=4.881207143851865>b1:<tf.Variable 'Variable:0' shape=() dtype=float64, numpy=0.939314850328017>  Loss = tf.Tensor(0.2782786547877742, shape=(), dtype=float64)\n",
      "epoch:3800b0:<tf.Variable 'Variable:0' shape=() dtype=float64, numpy=4.881221227429193>b1:<tf.Variable 'Variable:0' shape=() dtype=float64, numpy=0.9627330098338163>  Loss = tf.Tensor(0.2777302083770636, shape=(), dtype=float64)\n",
      "epoch:3900b0:<tf.Variable 'Variable:0' shape=() dtype=float64, numpy=4.881235250924138>b1:<tf.Variable 'Variable:0' shape=() dtype=float64, numpy=0.9860512644009984>  Loss = tf.Tensor(0.2771864314732779, shape=(), dtype=float64)\n",
      "epoch:4000b0:<tf.Variable 'Variable:0' shape=() dtype=float64, numpy=4.881249214593014>b1:<tf.Variable 'Variable:0' shape=() dtype=float64, numpy=1.0092700402371302>  Loss = tf.Tensor(0.2766472843199444, shape=(), dtype=float64)\n",
      "epoch:4100b0:<tf.Variable 'Variable:0' shape=() dtype=float64, numpy=4.881263118691048>b1:<tf.Variable 'Variable:0' shape=() dtype=float64, numpy=1.0323897617315188>  Loss = tf.Tensor(0.2761127274990789, shape=(), dtype=float64)\n",
      "epoch:4200b0:<tf.Variable 'Variable:0' shape=() dtype=float64, numpy=4.881276963472372>b1:<tf.Variable 'Variable:0' shape=() dtype=float64, numpy=1.0554108514629734>  Loss = tf.Tensor(0.27558272192830474, shape=(), dtype=float64)\n",
      "epoch:4300b0:<tf.Variable 'Variable:0' shape=() dtype=float64, numpy=4.881290749190047>b1:<tf.Variable 'Variable:0' shape=() dtype=float64, numpy=1.078333730207525>  Loss = tf.Tensor(0.27505722885799505, shape=(), dtype=float64)\n",
      "epoch:4400b0:<tf.Variable 'Variable:0' shape=() dtype=float64, numpy=4.881304476096046>b1:<tf.Variable 'Variable:0' shape=() dtype=float64, numpy=1.1011588169461184>  Loss = tf.Tensor(0.2745362098684395, shape=(), dtype=float64)\n",
      "epoch:4500b0:<tf.Variable 'Variable:0' shape=() dtype=float64, numpy=4.881318144441262>b1:<tf.Variable 'Variable:0' shape=() dtype=float64, numpy=1.1238865288722724>  Loss = tf.Tensor(0.27401962686703585, shape=(), dtype=float64)\n",
      "epoch:4600b0:<tf.Variable 'Variable:0' shape=() dtype=float64, numpy=4.881331754475522>b1:<tf.Variable 'Variable:0' shape=() dtype=float64, numpy=1.1465172813997038>  Loss = tf.Tensor(0.2735074420855043, shape=(), dtype=float64)\n",
      "epoch:4700b0:<tf.Variable 'Variable:0' shape=() dtype=float64, numpy=4.881345306447597>b1:<tf.Variable 'Variable:0' shape=() dtype=float64, numpy=1.1690514881699186>  Loss = tf.Tensor(0.2729996180771268, shape=(), dtype=float64)\n",
      "epoch:4800b0:<tf.Variable 'Variable:0' shape=() dtype=float64, numpy=4.88135880060518>b1:<tf.Variable 'Variable:0' shape=() dtype=float64, numpy=1.191489561059773>  Loss = tf.Tensor(0.27249611771400895, shape=(), dtype=float64)\n",
      "epoch:4900b0:<tf.Variable 'Variable:0' shape=() dtype=float64, numpy=4.881372237194919>b1:<tf.Variable 'Variable:0' shape=() dtype=float64, numpy=1.2138319101890063>  Loss = tf.Tensor(0.2719969041843654, shape=(), dtype=float64)\n"
     ]
    }
   ],
   "source": [
    "for i in epochs:\n",
    "    with tf.GradientTape() as tape:\n",
    "        predicted = LinearModel(bmi_train) \n",
    "        current_loss = loss(y_train, predicted)\n",
    "    gradients = tape.gradient(current_loss, [b1, b0])\n",
    "    optimizer.apply_gradients(zip(gradients, [b1 ,b0]))\n",
    "    if i%100 == 0: #every 100 steps\n",
    "        print('epoch:' + str(i) + 'b0:' + str(b0) + 'b1:' + str(b1) + '  Loss = ' + str(current_loss))"
   ]
  },
  {
   "cell_type": "code",
   "execution_count": 15,
   "id": "52adf3f6-4287-46b7-b9c8-88f5d554cac7",
   "metadata": {},
   "outputs": [],
   "source": [
    "# loss it still decreasing after 500 epochs"
   ]
  },
  {
   "cell_type": "code",
   "execution_count": 16,
   "id": "4747f1cc-3edf-4994-ae95-a64ac36c76c5",
   "metadata": {},
   "outputs": [
    {
     "name": "stdout",
     "output_type": "stream",
     "text": [
      "<tf.Variable 'Variable:0' shape=() dtype=float64, numpy=4.88138548295267> <tf.Variable 'Variable:0' shape=() dtype=float64, numpy=1.2358569440649216> tf.Tensor(0.27150686970169385, shape=(), dtype=float64)\n"
     ]
    }
   ],
   "source": [
    "slope_mse = b1\n",
    "intercept_mse = b0\n",
    "print(b0, b1, current_loss)"
   ]
  },
  {
   "cell_type": "markdown",
   "id": "e4d7d62e-6af5-4770-8e58-36e0bec0ea02",
   "metadata": {},
   "source": [
    "Repeating in Tensorbard to confirm. Parameters re-initialised"
   ]
  },
  {
   "cell_type": "code",
   "execution_count": 17,
   "id": "b4408e4c-8555-45a9-8e80-7f5f6eb2098f",
   "metadata": {},
   "outputs": [
    {
     "data": {
      "application/vnd.jupyter.widget-view+json": {
       "model_id": "3a98801530574efc9540c656802176ac",
       "version_major": 2,
       "version_minor": 0
      },
      "text/plain": [
       "  0%|          | 0/5000 [00:00<?, ?it/s]"
      ]
     },
     "metadata": {},
     "output_type": "display_data"
    }
   ],
   "source": [
    "# Set up logging jupiterhub tensorboard\n",
    "logdir = '/home/jovyan/logs/Silvia'\n",
    "writer = tf.summary.create_file_writer(logdir)\n",
    "\n",
    "with writer.as_default():\n",
    "    for i in tqdm(epochs):\n",
    "        with tf.GradientTape() as tape:\n",
    "            predicted = LinearModel(bmi_train) \n",
    "            current_loss = loss(y_train, predicted)\n",
    "        gradients = tape.gradient(current_loss, [b1, b0])\n",
    "        optimizer.apply_gradients(zip(gradients, [b1 ,b0]))\n",
    "        if i%20 == 0: #every 20 steps\n",
    "            tf.summary.scalar('loss_mse', current_loss, step=i)"
   ]
  },
  {
   "cell_type": "code",
   "execution_count": 18,
   "id": "fb5c7305-5a4c-433b-97f4-785085d4e844",
   "metadata": {},
   "outputs": [
    {
     "data": {
      "text/plain": [
       "<tf.Tensor: shape=(), dtype=float64, numpy=0.28371905591485>"
      ]
     },
     "execution_count": 18,
     "metadata": {},
     "output_type": "execute_result"
    }
   ],
   "source": [
    "# Final loss for the test: slightly bigger that training\n",
    "predicted_test = LinearModel(bmi_test)\n",
    "loss(y_test, predicted_test)"
   ]
  },
  {
   "cell_type": "markdown",
   "id": "0e1efc51-9e8a-47fa-90b8-886f2098c356",
   "metadata": {},
   "source": [
    "#### *Task5* - mae"
   ]
  },
  {
   "cell_type": "code",
   "execution_count": 19,
   "id": "65969d4d-d7df-48f4-9594-1cfee29ee515",
   "metadata": {},
   "outputs": [],
   "source": [
    "# Reinitialize variables to train\n",
    "b0 = tf.Variable(2.0, dtype=tf.float64)   # initialised as per task4\n",
    "b1 = tf.Variable(0.0, dtype=tf.float64)   # initialised as per task4\n",
    "\n",
    "#model\n",
    "def LinearModel(x):\n",
    "    return tf.add(tf.multiply(x, b1), b0)\n",
    "    \n",
    "# define mean absolute error\n",
    "def loss_mae(y_true, y_pred):\n",
    "    return (tf.reduce_mean(tf.abs(tf.Variable(y_true) - y_pred)))"
   ]
  },
  {
   "cell_type": "code",
   "execution_count": 20,
   "id": "a1c903b7-9906-4da3-80a8-fdab8376a7f0",
   "metadata": {},
   "outputs": [
    {
     "data": {
      "application/vnd.jupyter.widget-view+json": {
       "model_id": "f597343858d9446a80fbe126c7289a7a",
       "version_major": 2,
       "version_minor": 0
      },
      "text/plain": [
       "  0%|          | 0/5000 [00:00<?, ?it/s]"
      ]
     },
     "metadata": {},
     "output_type": "display_data"
    },
    {
     "name": "stdout",
     "output_type": "stream",
     "text": [
      "epoch: 0 current_loss: 2.8806505082857483 b0: 2.0099999997764826 b1: -6.0011002141582988e-06\n",
      "epoch: 100 current_loss: 1.8806501705054446 b0: 3.0099999774247408 b1: -0.00060611112162998885\n",
      "epoch: 200 current_loss: 0.92693119545307157 b0: 3.9850707771599581 b1: -0.00048366057592306755\n",
      "epoch: 300 current_loss: 0.52316210487223846 b0: 4.5965721799224273 b1: 0.010383419723680848\n",
      "epoch: 400 current_loss: 0.47101906522263076 b0: 4.8161189172248031 b1: 0.029725295289828351\n",
      "epoch: 500 current_loss: 0.46224572921147505 b0: 4.9013880371319152 b1: 0.049896216982300269\n",
      "epoch: 600 current_loss: 0.46073436428806441 b0: 4.9320962517429754 b1: 0.070945074636411962\n",
      "epoch: 700 current_loss: 0.460238029114428 b0: 4.9368554584354589 b1: 0.09238958559511036\n",
      "epoch: 800 current_loss: 0.45977028944844311 b0: 4.9396883195619372 b1: 0.11383054064305838\n",
      "epoch: 900 current_loss: 0.45931722579859963 b0: 4.9391217473366416 b1: 0.13502878799609053\n",
      "epoch: 1000 current_loss: 0.45886843386726545 b0: 4.9376486595508728 b1: 0.15616231329714525\n",
      "epoch: 1100 current_loss: 0.45841965589742067 b0: 4.9361189145425746 b1: 0.17729179346995136\n",
      "epoch: 1200 current_loss: 0.457980961750913 b0: 4.9365721723228111 b1: 0.19820683929291574\n",
      "epoch: 1300 current_loss: 0.45754499128444542 b0: 4.9375920023283433 b1: 0.2190615777648163\n",
      "epoch: 1400 current_loss: 0.45711399704312894 b0: 4.9384985178888163 b1: 0.23979213982120284\n",
      "epoch: 1500 current_loss: 0.456706148664148 b0: 4.9395183478943485 b1: 0.25996025400484146\n",
      "epoch: 1600 current_loss: 0.45629847579787153 b0: 4.9404815206773511 b1: 0.28012762061551083\n",
      "epoch: 1700 current_loss: 0.45590132366765429 b0: 4.9395750051168781 b1: 0.30002727528092138\n",
      "epoch: 1800 current_loss: 0.45550544657687331 b0: 4.9384985178888163 b1: 0.31989476496655334\n",
      "epoch: 1900 current_loss: 0.45510956948609227 b0: 4.9374220306607546 b1: 0.33976225465218529\n",
      "epoch: 2000 current_loss: 0.45471369239531106 b0: 4.9363455434326928 b1: 0.35962974433781725\n",
      "epoch: 2100 current_loss: 0.45431926344800228 b0: 4.9356089995398085 b1: 0.37947033162026539\n",
      "epoch: 2200 current_loss: 0.45392865863037668 b0: 4.935665656762338 b1: 0.39923412184103907\n",
      "epoch: 2300 current_loss: 0.45353805381275103 b0: 4.9357223139848676 b1: 0.41899791206181275\n",
      "epoch: 2400 current_loss: 0.45314744899512549 b0: 4.9357789712073972 b1: 0.43876170228258643\n",
      "epoch: 2500 current_loss: 0.45275684358278662 b0: 4.9358356284299267 b1: 0.45852549250336011\n",
      "epoch: 2600 current_loss: 0.45236622691814704 b0: 4.9358922856524563 b1: 0.47828928272413379\n",
      "epoch: 2700 current_loss: 0.45197561025350758 b0: 4.9359489428749859 b1: 0.49805307294490747\n",
      "epoch: 2800 current_loss: 0.45159417527499812 b0: 4.9373087162156954 b1: 0.5175306211923778\n",
      "epoch: 2900 current_loss: 0.45121394977308532 b0: 4.9387818040014642 b1: 0.53697461279447767\n",
      "epoch: 3000 current_loss: 0.45083372427117246 b0: 4.9402548917872329 b1: 0.55641860439657753\n",
      "epoch: 3100 current_loss: 0.45045652288988147 b0: 4.9411047501251764 b1: 0.57578866585377841\n",
      "epoch: 3200 current_loss: 0.45008881980160453 b0: 4.9401982345647033 b1: 0.594942584499239\n",
      "epoch: 3300 current_loss: 0.44972283125507473 b0: 4.9395183478943485 b1: 0.614047953868868\n",
      "epoch: 3400 current_loss: 0.44936668863145179 b0: 4.94059483512241 b1: 0.63288777871603052\n",
      "epoch: 3500 current_loss: 0.44901064727363627 b0: 4.9416146651279425 b1: 0.6517307642038892\n",
      "epoch: 3600 current_loss: 0.44865450465001322 b0: 4.9426911523560042 b1: 0.67057058905105171\n",
      "epoch: 3700 current_loss: 0.448298452759507 b0: 4.9437109823615364 b1: 0.68941357453891039\n",
      "epoch: 3800 current_loss: 0.44794232066857459 b0: 4.9447874695895981 b1: 0.7082533993860729\n",
      "epoch: 3900 current_loss: 0.44758792838832367 b0: 4.9454673562599529 b1: 0.72705977880506079\n",
      "epoch: 4000 current_loss: 0.44723828204422583 b0: 4.9451840701473051 b1: 0.74575714865624354\n",
      "epoch: 4100 current_loss: 0.44688856826068951 b0: 4.9449007840346573 b1: 0.76445451850742629\n",
      "epoch: 4200 current_loss: 0.446538890615931 b0: 4.944674155144539 b1: 0.7831526969974163\n",
      "epoch: 4300 current_loss: 0.4461892699109436 b0: 4.9443908690318912 b1: 0.801850066848599\n",
      "epoch: 4400 current_loss: 0.44583957232213361 b0: 4.9441075829192433 b1: 0.82054743669978181\n",
      "epoch: 4500 current_loss: 0.44548985853859741 b0: 4.9438242968065955 b1: 0.83924480655096456\n",
      "epoch: 4600 current_loss: 0.44514023213855081 b0: 4.9435976679164773 b1: 0.85794298504095456\n",
      "epoch: 4700 current_loss: 0.44479057638357772 b0: 4.9433143818038294 b1: 0.87664035489213732\n",
      "epoch: 4800 current_loss: 0.4444408626000414 b0: 4.9430310956911816 b1: 0.89533772474332007\n",
      "epoch: 4900 current_loss: 0.44409119436615807 b0: 4.9428044668010633 b1: 0.91403590323331008\n"
     ]
    }
   ],
   "source": [
    "with writer.as_default():\n",
    "    for i in tqdm(epochs):\n",
    "        with tf.GradientTape() as tape:\n",
    "            predicted = LinearModel(bmi_train) \n",
    "            current_loss = loss_mae(y_train, predicted)\n",
    "        gradients = tape.gradient(current_loss, [b1, b0])\n",
    "        optimizer.apply_gradients(zip(gradients, [b1 ,b0]))\n",
    "        # write the value to tensorboard summary stats and print\n",
    "        if i%100 == 0: #every 20 time steps\n",
    "            tf.print(\"epoch:\", i, \"current_loss:\", current_loss, \"b0:\",  b0, \"b1:\", b1, output_stream=sys.stdout)\n",
    "            tf.summary.scalar('loss_mae', current_loss, step=i)  #this is a single number"
   ]
  },
  {
   "cell_type": "code",
   "execution_count": 21,
   "id": "2c119d8b-0c60-4026-876c-e435c103c450",
   "metadata": {},
   "outputs": [],
   "source": [
    "slope_mae = b1\n",
    "intercept_mae = b0"
   ]
  },
  {
   "cell_type": "markdown",
   "id": "b6061eb4-e1cb-4be4-9c5b-c61190769189",
   "metadata": {},
   "source": [
    "#### *Task6* - plotting"
   ]
  },
  {
   "cell_type": "code",
   "execution_count": 22,
   "id": "11f0a9ea-46f6-4d62-b956-0e0291a9ce62",
   "metadata": {},
   "outputs": [],
   "source": [
    "# Calculating the predictions of final model\n",
    "predictions_mae_train = slope_mae * bmi_train + intercept_mae \n",
    "predictions_mse_train = slope_mse * bmi_train + intercept_mse\n",
    "predictions_mae_test = slope_mae * bmi_test + intercept_mae \n",
    "predictions_mse_test = slope_mse * bmi_test + intercept_mse"
   ]
  },
  {
   "cell_type": "code",
   "execution_count": 23,
   "id": "22dfd9d8-4ece-4557-bdfe-e1b08d14a524",
   "metadata": {},
   "outputs": [
    {
     "data": {
      "image/png": "[encoded data removed]",
      "text/plain": [
       "<Figure size 1200x500 with 2 Axes>"
      ]
     },
     "metadata": {},
     "output_type": "display_data"
    }
   ],
   "source": [
    "#define grid of plots\n",
    "fig, ax = plt.subplots(nrows=1, ncols=2,  figsize=(12, 5))\n",
    "\n",
    "# Plotting the Results for training data\n",
    "ax[0].plot(bmi_train, y_train, 'o', label ='Original data') # y_train is alredy logged\n",
    "ax[0].plot(bmi_train, predictions_mae_train, label =' mae', color ='red') \n",
    "ax[0].plot(bmi_train, predictions_mse_train, label =' mse', color = 'green') \n",
    "ax[0].set(title='PLOT1: Linear Regression Result - Training Data', xlabel='', \n",
    "       ylabel='');\n",
    "ax[0].legend() \n",
    "\n",
    "# Plotting the Results for test data\n",
    "ax[1].plot(bmi_test, y_test, 'o', label ='Original data') \n",
    "ax[1].plot(bmi_test, predictions_mae_test, label =' mae', color ='red') \n",
    "ax[1].plot(bmi_test, predictions_mse_test, label =' mse', color = 'green') \n",
    "ax[1].set(title='PLOT1: Linear Regression Result - Test Data', xlabel='', \n",
    "       ylabel='');\n",
    "ax[1].legend() \n",
    "\n",
    "plt.show()"
   ]
  },
  {
   "cell_type": "markdown",
   "id": "b66f5963-4980-43f5-b72e-1f7c2f9d17a4",
   "metadata": {},
   "source": [
    "For both training and test data mse model is better with higher slope and lower intecept  ADD!"
   ]
  },
  {
   "cell_type": "markdown",
   "id": "b157f227-a56f-4333-b8fe-3c5e2a64714f",
   "metadata": {},
   "source": [
    "#### *Task7*"
   ]
  },
  {
   "cell_type": "code",
   "execution_count": 39,
   "id": "20ad3544-cd63-4cd5-8fbb-39bb7faced52",
   "metadata": {},
   "outputs": [
    {
     "data": {
      "application/vnd.jupyter.widget-view+json": {
       "model_id": "f6464881417b4339960d3e29233c3600",
       "version_major": 2,
       "version_minor": 0
      },
      "text/plain": [
       "  0%|          | 0/10000 [00:00<?, ?it/s]"
      ]
     },
     "metadata": {},
     "output_type": "display_data"
    },
    {
     "name": "stdout",
     "output_type": "stream",
     "text": [
      "epoch: 0 current_loss_train: 2.8806505082857483 current_loss_test: 8.0981726790710162 b0: 2.1000000014901161 b1: -6.0011004377167084e-05\n",
      "epoch: 100 current_loss_train: 0.45887760074112066 current_loss_test: 0.34505805186083754 b0: 4.9373938114759595 b1: 0.15762197044980517\n",
      "epoch: 200 current_loss_train: 0.45471804767086682 current_loss_test: 0.33821087573745795 b0: 4.9362606669831557 b1: 0.36121335600991061\n",
      "epoch: 300 current_loss_train: 0.45083712813042753 current_loss_test: 0.33236638354241327 b0: 4.9402266727079738 b1: 0.55802471041194379\n",
      "epoch: 400 current_loss_train: 0.44723978777507473 current_loss_test: 0.32714185099210641 b0: 4.9453258229255947 b1: 0.74738205328689622\n",
      "epoch: 500 current_loss_train: 0.4437432864899008 current_loss_test: 0.32121958922297528 b0: 4.9424929616935831 b1: 0.93435575876404209\n",
      "epoch: 600 current_loss_train: 0.44028754215280941 current_loss_test: 0.31622768974293952 b0: 4.9453258229255947 b1: 1.1201444332453578\n",
      "epoch: 700 current_loss_train: 0.43694159622051532 current_loss_test: 0.31026289711335259 b0: 4.9379603837223538 b1: 1.3028533390859824\n",
      "epoch: 800 current_loss_train: 0.4337332369584086 current_loss_test: 0.30508643350740255 b0: 4.93456095024394 b1: 1.4819432966880837\n",
      "epoch: 900 current_loss_train: 0.43057579801693596 current_loss_test: 0.30025915151308291 b0: 4.9322946612583269 b1: 1.6595368261905716\n",
      "epoch: 1000 current_loss_train: 0.42752698701428693 current_loss_test: 0.29562891279756348 b0: 4.9294618000263153 b1: 1.8341141659873725\n",
      "epoch: 1100 current_loss_train: 0.4245252118508947 current_loss_test: 0.29208977771909184 b0: 4.93512752249034 b1: 2.0072592866200893\n",
      "epoch: 1200 current_loss_train: 0.42155669680811958 current_loss_test: 0.28826835645391069 b0: 4.9362606669831441 b1: 2.1794982288597291\n",
      "epoch: 1300 current_loss_train: 0.41870752121268168 current_loss_test: 0.28442773481849715 b0: 4.9351275224903395 b1: 2.3482460563235379\n",
      "epoch: 1400 current_loss_train: 0.41604083059973346 current_loss_test: 0.28167001323982588 b0: 4.9407932449543646 b1: 2.5112847803055369\n",
      "epoch: 1500 current_loss_train: 0.41351252904705282 current_loss_test: 0.27804805422149709 b0: 4.9373938114759515 b1: 2.6701656085566325\n",
      "epoch: 1600 current_loss_train: 0.41101038776259152 current_loss_test: 0.2747923955230383 b0: 4.9356940947367445 b1: 2.8283360739081393\n",
      "epoch: 1700 current_loss_train: 0.4085738946352796 current_loss_test: 0.27225537197373867 b0: 4.9385269559687579 b1: 2.9843276713760245\n",
      "epoch: 1800 current_loss_train: 0.40631673439029153 current_loss_test: 0.26975674937331839 b0: 4.9396601004615608 b1: 3.1344009347257584\n",
      "epoch: 1900 current_loss_train: 0.40437670651462393 current_loss_test: 0.2679387912568385 b0: 4.9436261061863771 b1: 3.273582623199156\n",
      "epoch: 2000 current_loss_train: 0.40245903927269311 current_loss_test: 0.26587700927038294 b0: 4.9447592506791809 b1: 3.4120582620660711\n",
      "epoch: 2100 current_loss_train: 0.40054311559124051 current_loss_test: 0.26376787538244612 b0: 4.9447592506791809 b1: 3.5504639902163415\n",
      "epoch: 2200 current_loss_train: 0.39862796392820649 current_loss_test: 0.26184349408110569 b0: 4.9453258229255832 b1: 3.68886803422046\n",
      "epoch: 2300 current_loss_train: 0.39673249800229077 current_loss_test: 0.25956704526625413 b0: 4.9424929616935707 b1: 3.8263582569303445\n",
      "epoch: 2400 current_loss_train: 0.39500749082864084 current_loss_test: 0.25818021927859713 b0: 4.94475925067918 b1: 3.9572504246877132\n",
      "epoch: 2500 current_loss_train: 0.39340615243507504 current_loss_test: 0.25586311875737411 b0: 4.9390935282151505 b1: 4.0836479089311579\n",
      "epoch: 2600 current_loss_train: 0.39198541094782885 current_loss_test: 0.25391057954901752 b0: 4.9345609502439318 b1: 4.2026872550175645\n",
      "epoch: 2700 current_loss_train: 0.39060079855931057 current_loss_test: 0.25268837054132193 b0: 4.935127522490335 b1: 4.3202397570255782\n",
      "epoch: 2800 current_loss_train: 0.38926317038330566 current_loss_test: 0.25261671804789482 b0: 4.9436261061863735 b1: 4.4355489376747324\n",
      "epoch: 2900 current_loss_train: 0.3879729350797036 current_loss_test: 0.25192829974084058 b0: 4.9464589674183816 b1: 4.5488384139950471\n",
      "epoch: 3000 current_loss_train: 0.38690787329764231 current_loss_test: 0.25042705541549959 b0: 4.9424929616935636 b1: 4.6518701084058716\n",
      "epoch: 3100 current_loss_train: 0.38587214452496144 current_loss_test: 0.24887576652795065 b0: 4.9373938114759435 b1: 4.7534689025336263\n",
      "epoch: 3200 current_loss_train: 0.384945755305898 current_loss_test: 0.24753874617549906 b0: 4.9328612335047284 b1: 4.84962077149201\n",
      "epoch: 3300 current_loss_train: 0.38409997025626619 current_loss_test: 0.246321585025081 b0: 4.92832865553351 b1: 4.9413685720126166\n",
      "epoch: 3400 current_loss_train: 0.38331244211880139 current_loss_test: 0.24532756290897698 b0: 4.924929222055094 b1: 5.0300279579641982\n",
      "epoch: 3500 current_loss_train: 0.3825276972444645 current_loss_test: 0.24428680255996163 b0: 4.9203966440838753 b1: 5.1185148425866105\n",
      "epoch: 3600 current_loss_train: 0.38177510757507527 current_loss_test: 0.24392763774371107 b0: 4.9220963608230832 b1: 5.2051964150998407\n",
      "epoch: 3700 current_loss_train: 0.3810316350830783 current_loss_test: 0.24380073340995706 b0: 4.9254957943014972 b1: 5.2913856297651121\n",
      "epoch: 3800 current_loss_train: 0.38028751295286384 current_loss_test: 0.24374068091291051 b0: 4.9288952277799112 b1: 5.3775748444303835\n",
      "epoch: 3900 current_loss_train: 0.37954550773502377 current_loss_test: 0.24367877778968453 b0: 4.9317280890119211 b1: 5.4636613206540572\n",
      "epoch: 4000 current_loss_train: 0.37885782263737194 current_loss_test: 0.2434050324549476 b0: 4.9322946612583261 b1: 5.5464472075251772\n",
      "epoch: 4100 current_loss_train: 0.37823571068829903 current_loss_test: 0.24325464471760858 b0: 4.9334278057511316 b1: 5.6253036553705451\n",
      "epoch: 4200 current_loss_train: 0.37777199763717356 current_loss_test: 0.24275131804714309 b0: 4.9311615167655214 b1: 5.693140495929331\n",
      "epoch: 4300 current_loss_train: 0.37747730451633149 current_loss_test: 0.24218951037256678 b0: 4.9277620832871056 b1: 5.7470393733281133\n",
      "epoch: 4400 current_loss_train: 0.37720172646770633 current_loss_test: 0.2416081372225472 b0: 4.92379607756229 b1: 5.7993241327257525\n",
      "epoch: 4500 current_loss_train: 0.37694936906626419 current_loss_test: 0.24154778129491736 b0: 4.9243626498086925 b1: 5.8495155164168695\n",
      "epoch: 4600 current_loss_train: 0.37669770248078294 current_loss_test: 0.24144023417702751 b0: 4.9243626498086925 b1: 5.8997116375461784\n",
      "epoch: 4700 current_loss_train: 0.37646679734813854 current_loss_test: 0.24179884988112521 b0: 4.9283286555335106 b1: 5.9475907341625787\n",
      "epoch: 4800 current_loss_train: 0.37623662394440766 current_loss_test: 0.24220348825874446 b0: 4.9322946612583269 b1: 5.9953867812355019\n",
      "epoch: 4900 current_loss_train: 0.3760372992645199 current_loss_test: 0.24193464076385321 b0: 4.93059494451912 b1: 6.0399521883567191\n",
      "epoch: 5000 current_loss_train: 0.37584148239804233 current_loss_test: 0.24161522646513828 b0: 4.9283286555335106 b1: 6.0841021999314906\n",
      "epoch: 5100 current_loss_train: 0.37565663182293063 current_loss_test: 0.24151226555156541 b0: 4.927762083287111 b1: 6.1270337808113329\n",
      "epoch: 5200 current_loss_train: 0.37548007749936407 current_loss_test: 0.24162003163014481 b0: 4.9288952277799156 b1: 6.1690180633293483\n",
      "epoch: 5300 current_loss_train: 0.37530368498122008 current_loss_test: 0.241671932563567 b0: 4.929461800026318 b1: 6.2110168538200812\n",
      "epoch: 5400 current_loss_train: 0.375127459671603 current_loss_test: 0.24180378030039479 b0: 4.9305949445191226 b1: 6.2530011363380966\n",
      "epoch: 5500 current_loss_train: 0.37497409821554584 current_loss_test: 0.24153292410954863 b0: 4.9283286555335115 b1: 6.2919507809112494\n",
      "epoch: 5600 current_loss_train: 0.37485643338264485 current_loss_test: 0.24154217565852246 b0: 4.9283286555335133 b1: 6.3260890285464244\n",
      "epoch: 5700 current_loss_train: 0.37474254680555658 current_loss_test: 0.24155768155085158 b0: 4.9283286555335133 b1: 6.359919504344016\n",
      "epoch: 5800 current_loss_train: 0.37462999051035123 current_loss_test: 0.24157921295433307 b0: 4.9283286555335115 b1: 6.3933652653446282\n",
      "epoch: 5900 current_loss_train: 0.37453665228623795 current_loss_test: 0.24121016519075031 b0: 4.9249292220550975 b1: 6.4236334943328979\n",
      "epoch: 6000 current_loss_train: 0.37444452022632951 current_loss_test: 0.24092862826777853 b0: 4.9220963608230859 b1: 6.4539611050158054\n",
      "epoch: 6100 current_loss_train: 0.37435141663588573 current_loss_test: 0.240610185049495 b0: 4.9186969273446719 b1: 6.4842293340040751\n",
      "epoch: 6200 current_loss_train: 0.37427163958746157 current_loss_test: 0.2405892614707813 b0: 4.9181303550982713 b1: 6.51233290742331\n",
      "epoch: 6300 current_loss_train: 0.37420232828916128 current_loss_test: 0.24074046558947779 b0: 4.919263499591076 b1: 6.5386623509964208\n",
      "epoch: 6400 current_loss_train: 0.37413287960758723 current_loss_test: 0.24089834327323734 b0: 4.9203966440838807 b1: 6.564991794569532\n",
      "epoch: 6500 current_loss_train: 0.37406327442971216 current_loss_test: 0.24106289452205981 b0: 4.9215297885766853 b1: 6.5913212381426431\n",
      "epoch: 6600 current_loss_train: 0.37400211244898823 current_loss_test: 0.24110858731851945 b0: 4.9215297885766827 b1: 6.6158550503383928\n",
      "epoch: 6700 current_loss_train: 0.3739492815425049 current_loss_test: 0.24097591533323157 b0: 4.9198300718374757 b1: 6.638816584304994\n",
      "epoch: 6800 current_loss_train: 0.37390136255847622 current_loss_test: 0.24096367370799873 b0: 4.9192634995910778 b1: 6.6606377040237685\n",
      "epoch: 6900 current_loss_train: 0.37385914630475708 current_loss_test: 0.24100955757235926 b0: 4.9192634995910778 b1: 6.6812779582107229\n",
      "epoch: 7000 current_loss_train: 0.37381630457634452 current_loss_test: 0.2411161367032312 b0: 4.91983007183748 b1: 6.7019098110090383\n",
      "epoch: 7100 current_loss_train: 0.37377383093362593 current_loss_test: 0.24116677214493293 b0: 4.91983007183748 b1: 6.7225500651959926\n",
      "epoch: 7200 current_loss_train: 0.373731246594213 current_loss_test: 0.24127885424327133 b0: 4.9203966440838824 b1: 6.743181917994308\n",
      "epoch: 7300 current_loss_train: 0.37368851556249455 current_loss_test: 0.2413342412623142 b0: 4.9203966440838824 b1: 6.7638221721812624\n",
      "epoch: 7400 current_loss_train: 0.3736469894985277 current_loss_test: 0.24139099927575214 b0: 4.9203966440838736 b1: 6.7841198470013842\n",
      "epoch: 7500 current_loss_train: 0.3736111788701092 current_loss_test: 0.24138708291287148 b0: 4.9198300718374712 b1: 6.8031801800580265\n",
      "epoch: 7600 current_loss_train: 0.37357760620066044 current_loss_test: 0.24144177353043497 b0: 4.9198300718374792 b1: 6.8213814645638271\n",
      "epoch: 7700 current_loss_train: 0.37355041328521044 current_loss_test: 0.24155206805080864 b0: 4.9203966440838771 b1: 6.8378058809317155\n",
      "epoch: 7800 current_loss_train: 0.37353233434760097 current_loss_test: 0.2414774198747168 b0: 4.9192634995910707 b1: 6.8514708991255135\n",
      "epoch: 7900 current_loss_train: 0.373513450644419 current_loss_test: 0.24140580809169013 b0: 4.918130355098266 b1: 6.865010121687285\n",
      "epoch: 8000 current_loss_train: 0.373494902293354 current_loss_test: 0.24139403589081124 b0: 4.9175637828518637 b1: 6.8785885742162334\n",
      "epoch: 8100 current_loss_train: 0.37347706515879503 current_loss_test: 0.24132793118861645 b0: 4.9164306383590608 b1: 6.8920948212239788\n",
      "epoch: 8200 current_loss_train: 0.37345985548144733 current_loss_test: 0.24131808317334236 b0: 4.9158640661126736 b1: 6.9051456648885106\n",
      "epoch: 8300 current_loss_train: 0.37344367060921391 current_loss_test: 0.24130874607964398 b0: 4.9152974938662712 b1: 6.917916216343821\n",
      "epoch: 8400 current_loss_train: 0.37342726661433157 current_loss_test: 0.24130088112219722 b0: 4.9147309216198689 b1: 6.9306867677991315\n",
      "epoch: 8500 current_loss_train: 0.3734107760040955 current_loss_test: 0.24129448830100206 b0: 4.9141643493734666 b1: 6.943457319254442\n",
      "epoch: 8600 current_loss_train: 0.37339663950545487 current_loss_test: 0.24133882470648751 b0: 4.9141643493734692 b1: 6.9553321826544394\n",
      "epoch: 8700 current_loss_train: 0.37338693555952296 current_loss_test: 0.24142963712298598 b0: 4.9147309216198716 b1: 6.96522072208262\n",
      "epoch: 8800 current_loss_train: 0.37337709195897706 current_loss_test: 0.24152168391801912 b0: 4.9152974938662739 b1: 6.9751092615108\n",
      "epoch: 8900 current_loss_train: 0.37336921545408197 current_loss_test: 0.24155424280044568 b0: 4.915297493866265 b1: 6.9834496340458934\n",
      "epoch: 9000 current_loss_train: 0.37336604362366543 current_loss_test: 0.24152181223591812 b0: 4.9147309216198627 b1: 6.9889228175268441\n",
      "epoch: 9100 current_loss_train: 0.37336299674828433 current_loss_test: 0.24154374930607975 b0: 4.9147309216198627 b1: 6.9944492761183534\n",
      "epoch: 9200 current_loss_train: 0.3733601191144168 current_loss_test: 0.24151224818935063 b0: 4.91416434937346 b1: 6.9999224595993041\n",
      "epoch: 9300 current_loss_train: 0.37335724148054916 current_loss_test: 0.24148152468787071 b0: 4.913597777127058 b1: 7.0053956430802549\n",
      "epoch: 9400 current_loss_train: 0.37335436384668175 current_loss_test: 0.24145157880164017 b0: 4.9130312048806557 b1: 7.0108688265612056\n",
      "epoch: 9500 current_loss_train: 0.37335148621281411 current_loss_test: 0.24142241053065888 b0: 4.9124646326342534 b1: 7.0163420100421563\n",
      "epoch: 9600 current_loss_train: 0.3733486024106123 current_loss_test: 0.24139401987492706 b0: 4.911898060387851 b1: 7.021815193523107\n",
      "epoch: 9700 current_loss_train: 0.37334543058019576 current_loss_test: 0.24136640683444444 b0: 4.9113314881414487 b1: 7.0272883770040577\n",
      "epoch: 9800 current_loss_train: 0.37334225874977922 current_loss_test: 0.24133957140921114 b0: 4.9107649158950464 b1: 7.0327615604850084\n",
      "epoch: 9900 current_loss_train: 0.37334086898351243 current_loss_test: 0.24135991464858461 b0: 4.9107649158950624 b1: 7.0376162948278349\n"
     ]
    },
    {
     "data": {
      "text/plain": [
       "<matplotlib.legend.Legend at 0x7fc2a8790640>"
      ]
     },
     "execution_count": 39,
     "metadata": {},
     "output_type": "execute_result"
    },
    {
     "data": {
      "image/png": "[encoded data removed]",
      "text/plain": [
       "<Figure size 640x480 with 1 Axes>"
      ]
     },
     "metadata": {},
     "output_type": "display_data"
    }
   ],
   "source": [
    "\n",
    "b0 = tf.Variable(2.0, dtype=tf.float64)   # re-initialised\n",
    "b1 = tf.Variable(0.0, dtype=tf.float64)   # re-initialised \n",
    "\n",
    "# compile\n",
    "optimizer = tf.keras.optimizers.SGD(learning_rate=0.1) \n",
    "epochs = range(10000)\n",
    "\n",
    "#model\n",
    "def LinearModel(x):\n",
    "    return tf.add(tf.multiply(x, b1), b0)\n",
    "    \n",
    "# define mean squared error\n",
    "def loss(y, pred):\n",
    "    return tf.reduce_mean(tf.square(y - pred))\n",
    "\n",
    "with writer.as_default():\n",
    "    for i in tqdm(epochs):\n",
    "        with tf.GradientTape() as tape:\n",
    "            predicted = LinearModel(bmi_train) \n",
    "            current_loss = loss(y_train, predicted)\n",
    "        gradients = tape.gradient(current_loss, [b1, b0])\n",
    "        optimizer.apply_gradients(zip(gradients, [b1 ,b0]))\n",
    "        # write the value to tensorboard summary stats and print\n",
    "        if i%100 == 0: #every 20 time steps\n",
    "            tf.print(\"epoch:\", i, \"current_loss_train:\", current_loss, \"current_loss_test:\", loss(y_test, LinearModel(bmi_test)), \"b0:\",  b0, \"b1:\", b1, output_stream=sys.stdout)\n",
    "            plt.ylim(0, 1)\n",
    "            plt.plot(i, current_loss, 'o', label ='train', color = 'red') \n",
    "            plt.plot(i, loss(y_test, LinearModel(bmi_test)), '*', label ='test', color ='green')\n",
    "            plt.xlabel('epochs')\n",
    "            plt.ylabel('loss')\n",
    "            plt.title('Loss values for training and test')\n",
    "\n",
    "import matplotlib.patches as mpatches\n",
    "\n",
    "red_patch = mpatches.Patch(color='red', label='train')\n",
    "blue_patch = mpatches.Patch(color='green', label='test')\n",
    "\n",
    "plt.legend(handles=[red_patch, blue_patch])\n",
    "        "
   ]
  },
  {
   "cell_type": "code",
   "execution_count": null,
   "id": "e2fc6eeb-e553-4410-a72f-b5a83287cce6",
   "metadata": {},
   "outputs": [],
   "source": [
    "b0 = tf.Variable(2.0, dtype=tf.float64)   # re-initialised\n",
    "b1 = tf.Variable(0.0, dtype=tf.float64)   # re-initialised \n",
    "\n",
    "# compile\n",
    "optimizer = tf.keras.optimizers.SGD(learning_rate=0.1) \n",
    "epochs = range(10000)\n",
    "\n",
    "\n",
    "with writer.as_default():\n",
    "    loss_train_SGD = []\n",
    "    loss_test_SGD = []\n",
    "    for i in tqdm(epochs):\n",
    "        with tf.GradientTape() as tape:\n",
    "            predicted = LinearModel(bmi_train) \n",
    "            current_loss_train = loss(y_train, predicted)\n",
    "            current_loss_test = loss(y_test, LinearModel(bmi_test))\n",
    "        gradients = tape.gradient(current_loss_train, [b1, b0])\n",
    "        optimizer.apply_gradients(zip(gradients, [b1 ,b0]))\n",
    "        loss_train_SGD.append(current_loss_train)\n",
    "        loss_test_SGD.append(current_loss_test)\n",
    "        # write the value to tensorboard summary stats and print\n",
    "#         if i%100 == 0: #every 20 time steps\n",
    "#             tf.print(\"epoch:\", i, \"current_loss_train:\", current_loss, \"current_loss_test:\", loss(y_test, LinearModel(bmi_test)), \"b0:\",  b0, \"b1:\", b1, output_stream=sys.stdout)\n",
    "#             plt.ylim(0, 1)\n",
    "#             plt.plot(i, current_loss, 'o', label ='train', color = 'red') \n",
    "#             plt.plot(i, loss(y_test, LinearModel(bmi_test)), '*', label ='test', color ='green')\n",
    "#             plt.xlabel('epochs')\n",
    "#             plt.ylabel('loss')\n",
    "#             plt.title('Loss values for training and test')\n",
    "\n",
    "# import matplotlib.patches as mpatches\n",
    "\n",
    "# red_patch = mpatches.Patch(color='red', label='train')\n",
    "# blue_patch = mpatches.Patch(color='green', label='test')\n",
    "\n",
    "# plt.legend(handles=[red_patch, blue_patch"
   ]
  },
  {
   "cell_type": "code",
   "execution_count": null,
   "id": "de5d9f82-e84f-4ba7-b4cb-817c6e63af57",
   "metadata": {},
   "outputs": [],
   "source": [
    "plt.ylim(0, 1)\n",
    "plt.plot(loss_train_SGD,'-', color = 'red', label='train')\n",
    "plt.plot(loss_test_SGD,'-', color ='green', label='test')\n",
    "plt.legend()"
   ]
  },
  {
   "cell_type": "markdown",
   "id": "cc9134d8-8ddf-4526-95a1-a3cfe4f3f400",
   "metadata": {},
   "source": [
    "#### *Task8*"
   ]
  },
  {
   "cell_type": "code",
   "execution_count": null,
   "id": "cee0e146-9efd-490c-84f3-243592ad6624",
   "metadata": {},
   "outputs": [],
   "source": []
  },
  {
   "cell_type": "code",
   "execution_count": null,
   "id": "20b00cec-f28c-4011-9a9e-3fde4b539dc5",
   "metadata": {},
   "outputs": [],
   "source": []
  },
  {
   "cell_type": "code",
   "execution_count": null,
   "id": "9098c295-aaad-4376-a86c-01a3aa010a58",
   "metadata": {},
   "outputs": [],
   "source": []
  },
  {
   "cell_type": "code",
   "execution_count": null,
   "id": "4f83c1b9-b1f6-47a9-9353-e646e4b33327",
   "metadata": {},
   "outputs": [],
   "source": []
  }
 ],
 "metadata": {
  "kernelspec": {
   "display_name": "Python 3 (ipykernel)",
   "language": "python",
   "name": "python3"
  },
  "language_info": {
   "codemirror_mode": {
    "name": "ipython",
    "version": 3
   },
   "file_extension": ".py",
   "mimetype": "text/x-python",
   "name": "python",
   "nbconvert_exporter": "python",
   "pygments_lexer": "ipython3",
   "version": "3.8.16"
  }
 },
 "nbformat": 4,
 "nbformat_minor": 5
}
