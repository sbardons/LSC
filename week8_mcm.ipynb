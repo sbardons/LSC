{
 "cells": [
  {
   "cell_type": "markdown",
   "id": "3c8889fe-7bbc-4979-ace1-eb900c51f4d0",
   "metadata": {},
   "source": [
    "## Week8, Example9 and Task4"
   ]
  },
  {
   "cell_type": "markdown",
   "id": "f2f3bca3-4a6f-48e3-9b34-16c8f3e4b921",
   "metadata": {},
   "source": [
    "### Example 9"
   ]
  },
  {
   "cell_type": "code",
   "execution_count": 27,
   "id": "485cec24-0b1e-43fe-8040-97dd9e5b9f89",
   "metadata": {},
   "outputs": [
    {
     "data": {
      "text/plain": [
       "' We’ll now implement a Metropolis-Hastings sampler to sample from the posterior distribution for the\\nprobability a coin flip shows heads.\\nWe imagine that we have flipped the coin 10 times and 2 heads have occurred.\\nFrom these data we can calculate a log likelihood for this observation given a uniform prior on the probability'"
      ]
     },
     "execution_count": 27,
     "metadata": {},
     "output_type": "execute_result"
    }
   ],
   "source": [
    "\"\"\" We’ll now implement a Metropolis-Hastings sampler to sample from the posterior distribution for the\n",
    "probability a coin flip shows heads.\n",
    "We imagine that we have flipped the coin 10 times and 2 heads have occurred.\n",
    "From these data we can calculate a log likelihood for this observation given a uniform prior on the probability\"\"\""
   ]
  },
  {
   "cell_type": "code",
   "execution_count": 37,
   "id": "8dbeb6aa-f740-45fc-8304-29a50daca272",
   "metadata": {},
   "outputs": [],
   "source": [
    "import tensorflow_probability as tfp\n",
    "import tensorflow as tf\n",
    "import numpy as np\n",
    "import matplotlib.pyplot as plt\n",
    "tfd = tfp.distributions"
   ]
  },
  {
   "cell_type": "code",
   "execution_count": 29,
   "id": "a15be3ab-6abc-46a1-b1a7-1bea4264bf44",
   "metadata": {},
   "outputs": [],
   "source": [
    "def log_likelihood(p):\n",
    "    # number of flips\n",
    "    N=10\n",
    "    # number of heads\n",
    "    h=2\n",
    "    # calculate likelihood given p\n",
    "    likelihood = tfd.Binomial(N,probs=p).log_prob(h)\n",
    "    # calculate prior value of p\n",
    "    prior = tfd.Uniform().log_prob(p)\n",
    "    # return combined log likelihood\n",
    "    return likelihood + prior"
   ]
  },
  {
   "cell_type": "markdown",
   "id": "a136e587-b633-49c9-9a49-fb0b6bb2cd29",
   "metadata": {},
   "source": [
    "Next we set up a function to run the sampler."
   ]
  },
  {
   "cell_type": "code",
   "execution_count": 30,
   "id": "afbbfca1-4752-4d5e-afbd-b5929c1fcc9e",
   "metadata": {},
   "outputs": [],
   "source": [
    "@tf.function\n",
    "def run_sampler():\n",
    "    # specify the Metropolis Hastings inner kernel\n",
    "    inner_kernel = tfp.mcmc.RandomWalkMetropolis(log_likelihood)\n",
    "    # we need to keep the probability between 0 and 1 so we use a sigmoid bijector\n",
    "    kernel = tfp.mcmc.TransformedTransitionKernel(inner_kernel,\n",
    "    tfp.bijectors.Sigmoid())\n",
    "    # now we can run the actual MCMC chain\n",
    "    samples, _ = tfp.mcmc.sample_chain(num_results=2000,\n",
    "    current_state=0.5,\n",
    "    kernel=kernel,\n",
    "    num_burnin_steps=50)\n",
    "    return samples"
   ]
  },
  {
   "cell_type": "markdown",
   "id": "4faa8e1d-023a-4749-bb94-8ac34650f6cf",
   "metadata": {},
   "source": [
    "Now, we can run the sampler and plot the posterior distributions. We can also compare this to the true\n",
    "posterior distribution which is known in this simple example."
   ]
  },
  {
   "cell_type": "code",
   "execution_count": 31,
   "id": "90dd71e3-d08d-4963-8ab4-4bc2cd1a9400",
   "metadata": {},
   "outputs": [
    {
     "name": "stderr",
     "output_type": "stream",
     "text": [
      "/opt/conda/lib/python3.8/site-packages/tensorflow_probability/python/mcmc/sample.py:339: UserWarning: Tracing all kernel results by default is deprecated. Set the `trace_fn` argument to None (the future default value) or an explicit callback that traces the values you are interested in.\n",
      "  warnings.warn('Tracing all kernel results by default is deprecated. Set '\n"
     ]
    },
    {
     "data": {
      "image/png": "[encoded data removed]",
      "text/plain": [
       "<Figure size 400x300 with 1 Axes>"
      ]
     },
     "metadata": {},
     "output_type": "display_data"
    }
   ],
   "source": [
    "# run the sampler\n",
    "s = run_sampler()\n",
    "\n",
    "# plot the posterior density from the samples\n",
    "plt.figure(figsize=(4,3))\n",
    "hist = plt.hist(s.numpy(),bins=50,range=(0,1),density=True,alpha=0.75)\n",
    "\n",
    "# we will also plot the analytical posterior\n",
    "x = np.linspace(0,1,100)\n",
    "n_heads = 2\n",
    "N = 10\n",
    "posterior = tfd.Beta(concentration1=1+n_heads, concentration0=1+N-n_heads)\n",
    "plt.plot(x,posterior.prob(x))\n",
    "plt.xlabel('probability of heads, p')\n",
    "plt.ylabel('posterior probability')\n",
    "plt.show()"
   ]
  },
  {
   "cell_type": "markdown",
   "id": "7ae3d85d-bb24-4826-a47c-2a77e65faab0",
   "metadata": {},
   "source": [
    "### Task4"
   ]
  },
  {
   "cell_type": "code",
   "execution_count": 32,
   "id": "a4f8056d-b452-4923-a962-6f2ae1fd0132",
   "metadata": {},
   "outputs": [
    {
     "data": {
      "text/plain": [
       "'You flip a coin 100 times and observe 45 heads.\\nUse the Metropolis Hastings algorithm to determine the posterior distribution for the probability of obtaining heads in a single coin flip'"
      ]
     },
     "execution_count": 32,
     "metadata": {},
     "output_type": "execute_result"
    }
   ],
   "source": [
    "\"\"\"You flip a coin 100 times and observe 45 heads.\n",
    "Use the Metropolis Hastings algorithm to determine the posterior distribution for the probability of obtaining heads in a single coin flip\"\"\""
   ]
  },
  {
   "cell_type": "code",
   "execution_count": 38,
   "id": "3aca5563-2ec6-4d27-b6c6-25d5e976dbd2",
   "metadata": {},
   "outputs": [],
   "source": [
    "def log_likelihood(p):\n",
    "    # number of flips\n",
    "    N=100\n",
    "    # number of heads\n",
    "    h=45\n",
    "    # calculate likelihood given p\n",
    "    likelihood = tfd.Binomial(N,probs=p).log_prob(h)\n",
    "    # calculate prior value of p\n",
    "    prior = tfd.Uniform().log_prob(p)\n",
    "    # return combined log likelihood\n",
    "    return likelihood + prior"
   ]
  },
  {
   "cell_type": "code",
   "execution_count": 39,
   "id": "94e8c0d5-ceec-4ae3-9835-4c9f25178b94",
   "metadata": {},
   "outputs": [],
   "source": [
    "@tf.function\n",
    "def run_sampler():\n",
    "    # specify the Metropolis Hastings inner kernel\n",
    "    inner_kernel = tfp.mcmc.RandomWalkMetropolis(log_likelihood)\n",
    "    # we need to keep the probability between 0 and 1 so we use a sigmoid bijector\n",
    "    kernel = tfp.mcmc.TransformedTransitionKernel(inner_kernel, tfp.bijectors.Sigmoid())\n",
    "    # now we can run the actual MCMC chain\n",
    "    samples, kernels_results = tfp.mcmc.sample_chain(num_results=2000,\n",
    "                                                        current_state=0.5,\n",
    "                                                        kernel=kernel,\n",
    "                                                        num_burnin_steps=50)"
   ]
  },
  {
   "cell_type": "code",
   "execution_count": 40,
   "id": "1aa7823e-54de-4603-9b4d-6e5e09456d84",
   "metadata": {},
   "outputs": [
    {
     "name": "stderr",
     "output_type": "stream",
     "text": [
      "/opt/conda/lib/python3.8/site-packages/tensorflow_probability/python/mcmc/sample.py:339: UserWarning: Tracing all kernel results by default is deprecated. Set the `trace_fn` argument to None (the future default value) or an explicit callback that traces the values you are interested in.\n",
      "  warnings.warn('Tracing all kernel results by default is deprecated. Set '\n"
     ]
    },
    {
     "ename": "AttributeError",
     "evalue": "'NoneType' object has no attribute 'numpy'",
     "output_type": "error",
     "traceback": [
      "\u001b[0;31m---------------------------------------------------------------------------\u001b[0m",
      "\u001b[0;31mAttributeError\u001b[0m                            Traceback (most recent call last)",
      "Cell \u001b[0;32mIn[40], line 6\u001b[0m\n\u001b[1;32m      4\u001b[0m \u001b[38;5;66;03m# plot the posterior density from the samples\u001b[39;00m\n\u001b[1;32m      5\u001b[0m plt\u001b[38;5;241m.\u001b[39mfigure(figsize\u001b[38;5;241m=\u001b[39m(\u001b[38;5;241m4\u001b[39m,\u001b[38;5;241m3\u001b[39m))\n\u001b[0;32m----> 6\u001b[0m hist \u001b[38;5;241m=\u001b[39m plt\u001b[38;5;241m.\u001b[39mhist(\u001b[43ms\u001b[49m\u001b[38;5;241;43m.\u001b[39;49m\u001b[43mnumpy\u001b[49m(),bins\u001b[38;5;241m=\u001b[39m\u001b[38;5;241m50\u001b[39m,\u001b[38;5;28mrange\u001b[39m\u001b[38;5;241m=\u001b[39m(\u001b[38;5;241m0\u001b[39m,\u001b[38;5;241m1\u001b[39m),density\u001b[38;5;241m=\u001b[39m\u001b[38;5;28;01mTrue\u001b[39;00m,alpha\u001b[38;5;241m=\u001b[39m\u001b[38;5;241m0.75\u001b[39m)\n\u001b[1;32m      8\u001b[0m \u001b[38;5;66;03m# we will also plot the analytical posterior\u001b[39;00m\n\u001b[1;32m      9\u001b[0m x \u001b[38;5;241m=\u001b[39m np\u001b[38;5;241m.\u001b[39mlinspace(\u001b[38;5;241m0\u001b[39m,\u001b[38;5;241m1\u001b[39m,\u001b[38;5;241m100\u001b[39m)\n",
      "\u001b[0;31mAttributeError\u001b[0m: 'NoneType' object has no attribute 'numpy'"
     ]
    },
    {
     "data": {
      "text/plain": [
       "<Figure size 400x300 with 0 Axes>"
      ]
     },
     "metadata": {},
     "output_type": "display_data"
    }
   ],
   "source": [
    "# run the sampler\n",
    "s = run_sampler()\n",
    "\n",
    "# plot the posterior density from the samples\n",
    "plt.figure(figsize=(4,3))\n",
    "hist = plt.hist(s.numpy(),bins=50,range=(0,1),density=True,alpha=0.75)\n",
    "\n",
    "# we will also plot the analytical posterior\n",
    "x = np.linspace(0,1,100)\n",
    "n_heads = 45\n",
    "N = 100\n",
    "posterior = tfd.Beta(concentration1=1+n_heads, concentration0=1+N-n_heads)\n",
    "plt.plot(x,posterior.prob(x))\n",
    "plt.xlabel('probability of heads, p')\n",
    "plt.ylabel('posterior probability')\n",
    "plt.show()"
   ]
  },
  {
   "cell_type": "code",
   "execution_count": null,
   "id": "b17b09c8-6b67-4172-9193-87c8fa0b6323",
   "metadata": {},
   "outputs": [],
   "source": []
  },
  {
   "cell_type": "code",
   "execution_count": null,
   "id": "192f11d2-76d5-45c1-9d57-df080cd877d0",
   "metadata": {},
   "outputs": [],
   "source": []
  },
  {
   "cell_type": "code",
   "execution_count": null,
   "id": "52ef4839-e5d1-46c1-8781-901fecdb3ecc",
   "metadata": {},
   "outputs": [],
   "source": []
  },
  {
   "cell_type": "code",
   "execution_count": null,
   "id": "07efa504-dd76-48ab-853a-0a4e90a1590b",
   "metadata": {},
   "outputs": [],
   "source": []
  }
 ],
 "metadata": {
  "kernelspec": {
   "display_name": "Python 3 (ipykernel)",
   "language": "python",
   "name": "python3"
  },
  "language_info": {
   "codemirror_mode": {
    "name": "ipython",
    "version": 3
   },
   "file_extension": ".py",
   "mimetype": "text/x-python",
   "name": "python",
   "nbconvert_exporter": "python",
   "pygments_lexer": "ipython3",
   "version": "3.8.16"
  }
 },
 "nbformat": 4,
 "nbformat_minor": 5
}
