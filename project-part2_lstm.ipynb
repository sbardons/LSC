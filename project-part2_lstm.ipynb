{
 "cells": [
  {
   "cell_type": "code",
   "execution_count": 1,
   "id": "030c03ac-948a-4775-a8f1-4d334ddd37fa",
   "metadata": {},
   "outputs": [
    {
     "name": "stdout",
     "output_type": "stream",
     "text": [
      "Collecting tensorflow_addons\n",
      "  Using cached tensorflow_addons-0.20.0-cp38-cp38-manylinux_2_17_x86_64.manylinux2014_x86_64.whl (591 kB)\n",
      "Requirement already satisfied: packaging in /opt/conda/lib/python3.8/site-packages (from tensorflow_addons) (23.1)\n",
      "Collecting typeguard<3.0.0,>=2.7 (from tensorflow_addons)\n",
      "  Using cached typeguard-2.13.3-py3-none-any.whl (17 kB)\n",
      "Installing collected packages: typeguard, tensorflow_addons\n",
      "Successfully installed tensorflow_addons-0.20.0 typeguard-2.13.3\n"
     ]
    }
   ],
   "source": [
    "!pip install tensorflow_addons"
   ]
  },
  {
   "cell_type": "code",
   "execution_count": 2,
   "id": "80be019c-e8b9-44d9-8048-047497b8a6e4",
   "metadata": {},
   "outputs": [
    {
     "name": "stderr",
     "output_type": "stream",
     "text": [
      "/opt/conda/lib/python3.8/site-packages/tensorflow_addons/utils/tfa_eol_msg.py:23: UserWarning: \n",
      "\n",
      "TensorFlow Addons (TFA) has ended development and introduction of new features.\n",
      "TFA has entered a minimal maintenance and release mode until a planned end of life in May 2024.\n",
      "Please modify downstream libraries to take dependencies from other repositories in our TensorFlow community (e.g. Keras, Keras-CV, and Keras-NLP). \n",
      "\n",
      "For more information see: https://github.com/tensorflow/addons/issues/2807 \n",
      "\n",
      "  warnings.warn(\n",
      "/opt/conda/lib/python3.8/site-packages/tensorflow_addons/utils/ensure_tf_install.py:53: UserWarning: Tensorflow Addons supports using Python ops for all Tensorflow versions above or equal to 2.10.0 and strictly below 2.13.0 (nightly versions are not supported). \n",
      " The versions of TensorFlow you are currently using is 2.8.0 and is not supported. \n",
      "Some things might work, some things might not.\n",
      "If you were to encounter a bug, do not file an issue.\n",
      "If you want to make sure you're using a tested and supported configuration, either change the TensorFlow version or the TensorFlow Addons's version. \n",
      "You can find the compatibility matrix in TensorFlow Addon's readme:\n",
      "https://github.com/tensorflow/addons\n",
      "  warnings.warn(\n"
     ]
    }
   ],
   "source": [
    "#Imports and settings\n",
    "\n",
    "import numpy as np\n",
    "import pandas as pd\n",
    "import itertools\n",
    "import matplotlib.pyplot as plt\n",
    "import sys\n",
    "\n",
    "import tensorflow as tf\n",
    "from tqdm.notebook import tqdm\n",
    "import tensorflow_addons as tfa\n",
    "\n",
    "\n",
    "from sklearn.model_selection import train_test_split\n",
    "\n",
    "np.set_printoptions(suppress=True)"
   ]
  },
  {
   "cell_type": "code",
   "execution_count": 3,
   "id": "f75398a2-207b-454f-bb7b-8ce86ccc77f8",
   "metadata": {},
   "outputs": [
    {
     "name": "stdout",
     "output_type": "stream",
     "text": [
      "(7352, 128, 3)\n",
      "(2947, 128, 3)\n",
      "(7352,)\n",
      "(2947,)\n"
     ]
    }
   ],
   "source": [
    "# load the features and labels (subtract 1 as the labels aren't indexed from 0)\n",
    "ytest = np.loadtxt('/home/jovyan/datasets/UCI_HAR_DATASET/test/y_test.txt')-1\n",
    "ytrain = np.loadtxt('/home/jovyan/datasets/UCI_HAR_DATASET/train/y_train.txt')-1\n",
    "# load the x,y,z body accelerations test data\n",
    "xx_test=np.loadtxt('/home/jovyan/datasets/UCI_HAR_DATASET/test/Inertial Signals/body_acc_x_test.txt')\n",
    "yy_test=np.loadtxt('/home/jovyan/datasets/UCI_HAR_DATASET/test/Inertial Signals/body_acc_y_test.txt')\n",
    "zz_test=np.loadtxt('/home/jovyan/datasets/UCI_HAR_DATASET/test/Inertial Signals/body_acc_z_test.txt')\n",
    "# concatenate the arrays along the last dimension\n",
    "xtest = np.concatenate((xx_test[:,:,None],yy_test[:,:,None],zz_test[:,:,None]),axis=2)\n",
    "# (using None here adds an extra dimension of size 1 to the end of the array)\n",
    "# follow the same approach for the train data\n",
    "xx_train=np.loadtxt('/home/jovyan/datasets/UCI_HAR_DATASET/train/Inertial Signals/body_acc_x_train.txt')\n",
    "yy_train=np.loadtxt('/home/jovyan/datasets/UCI_HAR_DATASET/train/Inertial Signals/body_acc_y_train.txt')\n",
    "zz_train=np.loadtxt('/home/jovyan/datasets/UCI_HAR_DATASET/train/Inertial Signals/body_acc_z_train.txt')\n",
    "xtrain = np.concatenate((xx_train[:,:,None],yy_train[:,:,None],zz_train[:,:,None]),axis=2)\n",
    "print(xtrain.shape)\n",
    "print(xtest.shape)\n",
    "print(ytrain.shape)\n",
    "print(ytest.shape)"
   ]
  },
  {
   "cell_type": "code",
   "execution_count": 4,
   "id": "e5e3f9c9-a854-4183-bf97-275e1f169bb0",
   "metadata": {},
   "outputs": [],
   "source": [
    "#tensorboad set up\n",
    "logdir = '/home/jovyan/logs/Project/Part2'"
   ]
  },
  {
   "cell_type": "code",
   "execution_count": 17,
   "id": "0258cad6-7160-4b48-b18d-2f7776e487bb",
   "metadata": {},
   "outputs": [],
   "source": [
    "#Recreate the tensors\n",
    "x_input, x_val, y_input, y_val = train_test_split(xtrain, ytrain, test_size=0.2, random_state=10)\n",
    "\n",
    "#one-hot encoding for labels\n",
    "y_input = tf.keras.utils.to_categorical(y_input)\n",
    "y_val = tf.keras.utils.to_categorical(y_val)\n",
    "\n",
    "# Convert your input and validation data to a tensor so that you can pass it into your classifier\n",
    "x_input = tf.convert_to_tensor(x_input, tf.float32)\n",
    "x_val = tf.convert_to_tensor(x_val, tf.float32)\n",
    "y_input = tf.convert_to_tensor(y_input, tf.float32)\n",
    "y_val = tf.convert_to_tensor(y_val, tf.float32)"
   ]
  },
  {
   "cell_type": "code",
   "execution_count": 18,
   "id": "d99569c2-2cc2-4a6e-8aee-65bc29de2cb6",
   "metadata": {},
   "outputs": [
    {
     "name": "stdout",
     "output_type": "stream",
     "text": [
      "Model: \"model_3\"\n",
      "_________________________________________________________________\n",
      " Layer (type)                Output Shape              Param #   \n",
      "=================================================================\n",
      " input_8 (InputLayer)        [(None, 128, 3)]          0         \n",
      "                                                                 \n",
      " lstm (LSTM)                 (None, 128)               67584     \n",
      "                                                                 \n",
      " batch_normalization_4 (Batc  (None, 128)              512       \n",
      " hNormalization)                                                 \n",
      "                                                                 \n",
      " dense_6 (Dense)             (None, 64)                8256      \n",
      "                                                                 \n",
      " dropout_1 (Dropout)         (None, 64)                0         \n",
      "                                                                 \n",
      " dense_7 (Dense)             (None, 6)                 390       \n",
      "                                                                 \n",
      "=================================================================\n",
      "Total params: 76,742\n",
      "Trainable params: 76,486\n",
      "Non-trainable params: 256\n",
      "_________________________________________________________________\n"
     ]
    }
   ],
   "source": [
    "# Keras API model WORKING\n",
    "\n",
    "#We create the input layer and combine with further dense layers,\n",
    "input_layer = tf.keras.Input(shape=(128, 3))\n",
    "output_layer = tf.keras.layers.LSTM(128)(input_layer)\n",
    "output_layer = tf.keras.layers.BatchNormalization()(output_layer)\n",
    "output_layer = tf.keras.layers.Dense(64, activation='relu')(output_layer)\n",
    "# output_layer = tf.keras.layers.GlobalAveragePooling1D()(output_layer)  #remove\n",
    "output_layer = tf.keras.layers.Dropout(0.5)(output_layer)\n",
    "\n",
    "# # Add a softmax layer with  output units:\n",
    "output_layer = tf.keras.layers.Dense(6, activation='softmax')(output_layer)\n",
    "\n",
    "model = tf.keras.Model(inputs=input_layer,outputs=output_layer)\n",
    "\n",
    "model.summary()"
   ]
  },
  {
   "cell_type": "code",
   "execution_count": 20,
   "id": "15f91057-38f0-4cbe-a3fd-1b129668743d",
   "metadata": {},
   "outputs": [
    {
     "name": "stdout",
     "output_type": "stream",
     "text": [
      "Model: \"model_5\"\n",
      "_________________________________________________________________\n",
      " Layer (type)                Output Shape              Param #   \n",
      "=================================================================\n",
      " input_10 (InputLayer)       [(None, 128, 3)]          0         \n",
      "                                                                 \n",
      " rnn_5 (RNN)                 (None, 32)                1152      \n",
      "                                                                 \n",
      " batch_normalization_5 (Batc  (None, 32)               128       \n",
      " hNormalization)                                                 \n",
      "                                                                 \n",
      " dense_9 (Dense)             (None, 6)                 198       \n",
      "                                                                 \n",
      "=================================================================\n",
      "Total params: 1,478\n",
      "Trainable params: 1,414\n",
      "Non-trainable params: 64\n",
      "_________________________________________________________________\n"
     ]
    }
   ],
   "source": [
    "# Keras API model WORKING\n",
    "\n",
    "\n",
    "#We create the input layer and combine with further dense layers,\n",
    "input_layer = tf.keras.Input(shape=(128, 3))\n",
    "rnn_layer = tf.keras.layers.RNN(tf.keras.layers.SimpleRNNCell(32))(input_layer) # 4 is the number of units\n",
    "output_layer = tf.keras.layers.BatchNormalization()(rnn_layer)\n",
    "# output_layer = tf.keras.layers.Dense(64, activation='relu')(output_layer)\n",
    "# output_layer = tf.keras.layers.GlobalAveragePooling1D()(output_layer)  #remove\n",
    "\n",
    "# # Add a softmax layer with  output units:\n",
    "output_layer = tf.keras.layers.Dense(6, activation='softmax')(output_layer)\n",
    "\n",
    "model = tf.keras.Model(inputs=input_layer,outputs=output_layer)\n",
    "\n",
    "model.summary()"
   ]
  },
  {
   "cell_type": "code",
   "execution_count": 22,
   "id": "80d4f065-a625-4c7a-943c-45149281fbe8",
   "metadata": {},
   "outputs": [],
   "source": [
    "# Compile model\n",
    "\n",
    "# Callbacks\n",
    "tensorboard_callback = tf.keras.callbacks.TensorBoard(log_dir=logdir)\n",
    "# create a callback that will stop training if the validation loss hasn't improved for 2 epochs\n",
    "#early_stopping_callbacks = [tf.keras.callbacks.EarlyStopping(monitor='loss', patience=2)]\n",
    "# initialize tqdm callback with default parameters\n",
    "tqdm_callback = tfa.callbacks.TQDMProgressBar()\n",
    "\n",
    "\n",
    "#The compilation and training then proceeds as per the sequential model,\n",
    "model.compile(optimizer=tf.keras.optimizers.Adam(0.001),\n",
    "loss='categorical_crossentropy', metrics=['accuracy'])\n",
    "\n"
   ]
  },
  {
   "cell_type": "code",
   "execution_count": 23,
   "id": "28f1683a-d9d5-4c3b-8a43-1af690a4f416",
   "metadata": {},
   "outputs": [
    {
     "data": {
      "application/vnd.jupyter.widget-view+json": {
       "model_id": "b8964b62ab3e44d1a6a152c6fa3d3b18",
       "version_major": 2,
       "version_minor": 0
      },
      "text/plain": [
       "Training:   0%|           0/200 ETA: ?s,  ?epochs/s"
      ]
     },
     "metadata": {},
     "output_type": "display_data"
    },
    {
     "name": "stdout",
     "output_type": "stream",
     "text": [
      "Epoch 1/200\n"
     ]
    },
    {
     "data": {
      "application/vnd.jupyter.widget-view+json": {
       "model_id": "13d2e4c49fde476cb1d92947ca8135a3",
       "version_major": 2,
       "version_minor": 0
      },
      "text/plain": [
       "0/46           ETA: ?s - "
      ]
     },
     "metadata": {},
     "output_type": "display_data"
    },
    {
     "name": "stdout",
     "output_type": "stream",
     "text": [
      "Epoch 1/200\n",
      "46/46 [==============================] - 4s 77ms/step - loss: 1.6334 - accuracy: 0.2850 - val_loss: 1.5520 - val_accuracy: 0.2495\n",
      "Epoch 2/200\n"
     ]
    },
    {
     "data": {
      "application/vnd.jupyter.widget-view+json": {
       "model_id": "5ed8cccf3fd54c40a620434c629f4841",
       "version_major": 2,
       "version_minor": 0
      },
      "text/plain": [
       "0/46           ETA: ?s - "
      ]
     },
     "metadata": {},
     "output_type": "display_data"
    },
    {
     "name": "stdout",
     "output_type": "stream",
     "text": [
      "Epoch 2/200\n",
      "46/46 [==============================] - 3s 74ms/step - loss: 1.2627 - accuracy: 0.3300 - val_loss: 1.6303 - val_accuracy: 0.2087\n",
      "Epoch 3/200\n"
     ]
    },
    {
     "data": {
      "application/vnd.jupyter.widget-view+json": {
       "model_id": "3b04733a388a4bbc87e4e3d004e063c3",
       "version_major": 2,
       "version_minor": 0
      },
      "text/plain": [
       "0/46           ETA: ?s - "
      ]
     },
     "metadata": {},
     "output_type": "display_data"
    },
    {
     "name": "stdout",
     "output_type": "stream",
     "text": [
      "Epoch 3/200\n",
      "46/46 [==============================] - 3s 73ms/step - loss: 1.2329 - accuracy: 0.3382 - val_loss: 1.3559 - val_accuracy: 0.3256\n",
      "Epoch 4/200\n"
     ]
    },
    {
     "data": {
      "application/vnd.jupyter.widget-view+json": {
       "model_id": "2e3ca5dd352643a08e74b0c4f7bea211",
       "version_major": 2,
       "version_minor": 0
      },
      "text/plain": [
       "0/46           ETA: ?s - "
      ]
     },
     "metadata": {},
     "output_type": "display_data"
    },
    {
     "name": "stdout",
     "output_type": "stream",
     "text": [
      "Epoch 4/200\n",
      "46/46 [==============================] - 3s 72ms/step - loss: 1.1485 - accuracy: 0.3566 - val_loss: 1.2332 - val_accuracy: 0.3338\n",
      "Epoch 5/200\n"
     ]
    },
    {
     "data": {
      "application/vnd.jupyter.widget-view+json": {
       "model_id": "3c855d285b1546a386a3167e8f040e9b",
       "version_major": 2,
       "version_minor": 0
      },
      "text/plain": [
       "0/46           ETA: ?s - "
      ]
     },
     "metadata": {},
     "output_type": "display_data"
    },
    {
     "name": "stdout",
     "output_type": "stream",
     "text": [
      "Epoch 5/200\n",
      "46/46 [==============================] - 3s 72ms/step - loss: 1.1165 - accuracy: 0.3651 - val_loss: 1.1856 - val_accuracy: 0.3501\n",
      "Epoch 6/200\n"
     ]
    },
    {
     "data": {
      "application/vnd.jupyter.widget-view+json": {
       "model_id": "71382af1debd440b91ad67ece4c85376",
       "version_major": 2,
       "version_minor": 0
      },
      "text/plain": [
       "0/46           ETA: ?s - "
      ]
     },
     "metadata": {},
     "output_type": "display_data"
    },
    {
     "name": "stdout",
     "output_type": "stream",
     "text": [
      "Epoch 6/200\n",
      "46/46 [==============================] - 3s 72ms/step - loss: 1.0990 - accuracy: 0.3850 - val_loss: 1.1626 - val_accuracy: 0.3549\n",
      "Epoch 7/200\n"
     ]
    },
    {
     "data": {
      "application/vnd.jupyter.widget-view+json": {
       "model_id": "852887be0cb44c1d9bb32f06ce49bb88",
       "version_major": 2,
       "version_minor": 0
      },
      "text/plain": [
       "0/46           ETA: ?s - "
      ]
     },
     "metadata": {},
     "output_type": "display_data"
    },
    {
     "name": "stdout",
     "output_type": "stream",
     "text": [
      "Epoch 7/200\n",
      "46/46 [==============================] - 3s 72ms/step - loss: 1.0770 - accuracy: 0.4164 - val_loss: 1.1095 - val_accuracy: 0.3956\n",
      "Epoch 8/200\n"
     ]
    },
    {
     "data": {
      "application/vnd.jupyter.widget-view+json": {
       "model_id": "975c47bbf33b4846a217f6bd346beac3",
       "version_major": 2,
       "version_minor": 0
      },
      "text/plain": [
       "0/46           ETA: ?s - "
      ]
     },
     "metadata": {},
     "output_type": "display_data"
    },
    {
     "name": "stdout",
     "output_type": "stream",
     "text": [
      "Epoch 8/200\n",
      "46/46 [==============================] - 3s 72ms/step - loss: 1.0452 - accuracy: 0.4362 - val_loss: 1.0982 - val_accuracy: 0.4126\n",
      "Epoch 9/200\n"
     ]
    },
    {
     "data": {
      "application/vnd.jupyter.widget-view+json": {
       "model_id": "27cd5230416e4b6ab66516b3127b5bc2",
       "version_major": 2,
       "version_minor": 0
      },
      "text/plain": [
       "0/46           ETA: ?s - "
      ]
     },
     "metadata": {},
     "output_type": "display_data"
    },
    {
     "name": "stdout",
     "output_type": "stream",
     "text": [
      "Epoch 9/200\n",
      "46/46 [==============================] - 3s 73ms/step - loss: 1.1948 - accuracy: 0.4028 - val_loss: 1.3847 - val_accuracy: 0.3175\n",
      "Epoch 10/200\n"
     ]
    },
    {
     "data": {
      "application/vnd.jupyter.widget-view+json": {
       "model_id": "3fad6bf0d0de43de8a7b72af424ffef5",
       "version_major": 2,
       "version_minor": 0
      },
      "text/plain": [
       "0/46           ETA: ?s - "
      ]
     },
     "metadata": {},
     "output_type": "display_data"
    },
    {
     "name": "stdout",
     "output_type": "stream",
     "text": [
      "Epoch 10/200\n",
      "46/46 [==============================] - 3s 72ms/step - loss: 1.1027 - accuracy: 0.4095 - val_loss: 1.1170 - val_accuracy: 0.4079\n",
      "Epoch 11/200\n"
     ]
    },
    {
     "data": {
      "application/vnd.jupyter.widget-view+json": {
       "model_id": "472d44d09e104a8393d6abb53c20a35c",
       "version_major": 2,
       "version_minor": 0
      },
      "text/plain": [
       "0/46           ETA: ?s - "
      ]
     },
     "metadata": {},
     "output_type": "display_data"
    },
    {
     "name": "stdout",
     "output_type": "stream",
     "text": [
      "Epoch 11/200\n",
      "46/46 [==============================] - 3s 72ms/step - loss: 1.0400 - accuracy: 0.4606 - val_loss: 1.0843 - val_accuracy: 0.4092\n",
      "Epoch 12/200\n"
     ]
    },
    {
     "data": {
      "application/vnd.jupyter.widget-view+json": {
       "model_id": "55b4fa3dc8084fc0ade0596603402413",
       "version_major": 2,
       "version_minor": 0
      },
      "text/plain": [
       "0/46           ETA: ?s - "
      ]
     },
     "metadata": {},
     "output_type": "display_data"
    },
    {
     "name": "stdout",
     "output_type": "stream",
     "text": [
      "Epoch 12/200\n",
      "46/46 [==============================] - 3s 74ms/step - loss: 1.0021 - accuracy: 0.4756 - val_loss: 1.0091 - val_accuracy: 0.4691\n",
      "Epoch 13/200\n"
     ]
    },
    {
     "data": {
      "application/vnd.jupyter.widget-view+json": {
       "model_id": "3be050c5a746423ba034c7e5eaedaf9f",
       "version_major": 2,
       "version_minor": 0
      },
      "text/plain": [
       "0/46           ETA: ?s - "
      ]
     },
     "metadata": {},
     "output_type": "display_data"
    },
    {
     "name": "stdout",
     "output_type": "stream",
     "text": [
      "Epoch 13/200\n",
      "46/46 [==============================] - 3s 73ms/step - loss: 0.9598 - accuracy: 0.4945 - val_loss: 0.9359 - val_accuracy: 0.5139\n",
      "Epoch 14/200\n"
     ]
    },
    {
     "data": {
      "application/vnd.jupyter.widget-view+json": {
       "model_id": "a350d72e15a04a54889477321f0b2591",
       "version_major": 2,
       "version_minor": 0
      },
      "text/plain": [
       "0/46           ETA: ?s - "
      ]
     },
     "metadata": {},
     "output_type": "display_data"
    },
    {
     "name": "stdout",
     "output_type": "stream",
     "text": [
      "Epoch 14/200\n",
      "46/46 [==============================] - 3s 72ms/step - loss: 0.9040 - accuracy: 0.5312 - val_loss: 0.8650 - val_accuracy: 0.5398\n",
      "Epoch 15/200\n"
     ]
    },
    {
     "data": {
      "application/vnd.jupyter.widget-view+json": {
       "model_id": "042e4454f8eb4b18ab9203db7a2b8084",
       "version_major": 2,
       "version_minor": 0
      },
      "text/plain": [
       "0/46           ETA: ?s - "
      ]
     },
     "metadata": {},
     "output_type": "display_data"
    },
    {
     "name": "stdout",
     "output_type": "stream",
     "text": [
      "Epoch 15/200\n",
      "46/46 [==============================] - 3s 74ms/step - loss: 0.8497 - accuracy: 0.5540 - val_loss: 0.8164 - val_accuracy: 0.5622\n",
      "Epoch 16/200\n"
     ]
    },
    {
     "data": {
      "application/vnd.jupyter.widget-view+json": {
       "model_id": "010a936f44874ce19732ed23c72f1a26",
       "version_major": 2,
       "version_minor": 0
      },
      "text/plain": [
       "0/46           ETA: ?s - "
      ]
     },
     "metadata": {},
     "output_type": "display_data"
    },
    {
     "name": "stdout",
     "output_type": "stream",
     "text": [
      "Epoch 16/200\n",
      "46/46 [==============================] - 3s 72ms/step - loss: 0.8199 - accuracy: 0.5645 - val_loss: 0.8157 - val_accuracy: 0.5778\n",
      "Epoch 17/200\n"
     ]
    },
    {
     "data": {
      "application/vnd.jupyter.widget-view+json": {
       "model_id": "00fcd9785a224368bd4cce805fede877",
       "version_major": 2,
       "version_minor": 0
      },
      "text/plain": [
       "0/46           ETA: ?s - "
      ]
     },
     "metadata": {},
     "output_type": "display_data"
    },
    {
     "name": "stdout",
     "output_type": "stream",
     "text": [
      "Epoch 17/200\n",
      "46/46 [==============================] - 3s 73ms/step - loss: 0.7913 - accuracy: 0.5773 - val_loss: 0.8146 - val_accuracy: 0.5642\n",
      "Epoch 18/200\n"
     ]
    },
    {
     "data": {
      "application/vnd.jupyter.widget-view+json": {
       "model_id": "e47201a073444148a80680e4be31521c",
       "version_major": 2,
       "version_minor": 0
      },
      "text/plain": [
       "0/46           ETA: ?s - "
      ]
     },
     "metadata": {},
     "output_type": "display_data"
    },
    {
     "name": "stdout",
     "output_type": "stream",
     "text": [
      "Epoch 18/200\n",
      "46/46 [==============================] - 3s 72ms/step - loss: 0.7824 - accuracy: 0.5810 - val_loss: 0.8332 - val_accuracy: 0.5724\n",
      "Epoch 19/200\n"
     ]
    },
    {
     "data": {
      "application/vnd.jupyter.widget-view+json": {
       "model_id": "1f320206e8704b24944ea4ebde213455",
       "version_major": 2,
       "version_minor": 0
      },
      "text/plain": [
       "0/46           ETA: ?s - "
      ]
     },
     "metadata": {},
     "output_type": "display_data"
    },
    {
     "name": "stdout",
     "output_type": "stream",
     "text": [
      "Epoch 19/200\n",
      "46/46 [==============================] - 3s 73ms/step - loss: 0.7727 - accuracy: 0.5783 - val_loss: 0.7494 - val_accuracy: 0.5962\n",
      "Epoch 20/200\n"
     ]
    },
    {
     "data": {
      "application/vnd.jupyter.widget-view+json": {
       "model_id": "d28ba459eebb4909b4fc2343d81a1c3b",
       "version_major": 2,
       "version_minor": 0
      },
      "text/plain": [
       "0/46           ETA: ?s - "
      ]
     },
     "metadata": {},
     "output_type": "display_data"
    },
    {
     "name": "stdout",
     "output_type": "stream",
     "text": [
      "Epoch 20/200\n",
      "46/46 [==============================] - 3s 73ms/step - loss: 0.7485 - accuracy: 0.5895 - val_loss: 0.7543 - val_accuracy: 0.5880\n",
      "Epoch 21/200\n"
     ]
    },
    {
     "data": {
      "application/vnd.jupyter.widget-view+json": {
       "model_id": "0d1121116468461a83febe34a7c2d5d2",
       "version_major": 2,
       "version_minor": 0
      },
      "text/plain": [
       "0/46           ETA: ?s - "
      ]
     },
     "metadata": {},
     "output_type": "display_data"
    },
    {
     "name": "stdout",
     "output_type": "stream",
     "text": [
      "Epoch 21/200\n",
      "46/46 [==============================] - 3s 72ms/step - loss: 0.7459 - accuracy: 0.5848 - val_loss: 0.7324 - val_accuracy: 0.5928\n",
      "Epoch 22/200\n"
     ]
    },
    {
     "data": {
      "application/vnd.jupyter.widget-view+json": {
       "model_id": "4a74795e52264fb3a09d6bb641eb1605",
       "version_major": 2,
       "version_minor": 0
      },
      "text/plain": [
       "0/46           ETA: ?s - "
      ]
     },
     "metadata": {},
     "output_type": "display_data"
    },
    {
     "name": "stdout",
     "output_type": "stream",
     "text": [
      "Epoch 22/200\n",
      "46/46 [==============================] - 3s 74ms/step - loss: 0.7366 - accuracy: 0.5860 - val_loss: 0.7379 - val_accuracy: 0.5840\n",
      "Epoch 23/200\n"
     ]
    },
    {
     "data": {
      "application/vnd.jupyter.widget-view+json": {
       "model_id": "7125dae6945c4243bc5ca9a9566fb924",
       "version_major": 2,
       "version_minor": 0
      },
      "text/plain": [
       "0/46           ETA: ?s - "
      ]
     },
     "metadata": {},
     "output_type": "display_data"
    },
    {
     "name": "stdout",
     "output_type": "stream",
     "text": [
      "Epoch 23/200\n",
      "46/46 [==============================] - 3s 73ms/step - loss: 1.1536 - accuracy: 0.5094 - val_loss: 7.7893 - val_accuracy: 0.1319\n",
      "Epoch 24/200\n"
     ]
    },
    {
     "data": {
      "application/vnd.jupyter.widget-view+json": {
       "model_id": "bc7658ee4b7c4826b19de6f223772750",
       "version_major": 2,
       "version_minor": 0
      },
      "text/plain": [
       "0/46           ETA: ?s - "
      ]
     },
     "metadata": {},
     "output_type": "display_data"
    },
    {
     "name": "stdout",
     "output_type": "stream",
     "text": [
      "Epoch 24/200\n",
      "46/46 [==============================] - 3s 72ms/step - loss: 1.7577 - accuracy: 0.2535 - val_loss: 3.2094 - val_accuracy: 0.1584\n",
      "Epoch 25/200\n"
     ]
    },
    {
     "data": {
      "application/vnd.jupyter.widget-view+json": {
       "model_id": "831065f7ab114d38b8fc7744dd5399ee",
       "version_major": 2,
       "version_minor": 0
      },
      "text/plain": [
       "0/46           ETA: ?s - "
      ]
     },
     "metadata": {},
     "output_type": "display_data"
    },
    {
     "name": "stdout",
     "output_type": "stream",
     "text": [
      "Epoch 25/200\n",
      "46/46 [==============================] - 3s 72ms/step - loss: 1.6573 - accuracy: 0.2506 - val_loss: 2.3550 - val_accuracy: 0.1611\n",
      "Epoch 26/200\n"
     ]
    },
    {
     "data": {
      "application/vnd.jupyter.widget-view+json": {
       "model_id": "103ce4ccece44e7a9c72f252d56b84e6",
       "version_major": 2,
       "version_minor": 0
      },
      "text/plain": [
       "0/46           ETA: ?s - "
      ]
     },
     "metadata": {},
     "output_type": "display_data"
    },
    {
     "name": "stdout",
     "output_type": "stream",
     "text": [
      "Epoch 26/200\n",
      "46/46 [==============================] - 3s 73ms/step - loss: 1.6367 - accuracy: 0.2501 - val_loss: 1.9342 - val_accuracy: 0.1523\n",
      "Epoch 27/200\n"
     ]
    },
    {
     "data": {
      "application/vnd.jupyter.widget-view+json": {
       "model_id": "e920063b63534a55aec42e7d0b050108",
       "version_major": 2,
       "version_minor": 0
      },
      "text/plain": [
       "0/46           ETA: ?s - "
      ]
     },
     "metadata": {},
     "output_type": "display_data"
    },
    {
     "name": "stdout",
     "output_type": "stream",
     "text": [
      "Epoch 27/200\n",
      "46/46 [==============================] - 3s 72ms/step - loss: 1.6278 - accuracy: 0.2506 - val_loss: 1.7327 - val_accuracy: 0.1387\n",
      "Epoch 28/200\n"
     ]
    },
    {
     "data": {
      "application/vnd.jupyter.widget-view+json": {
       "model_id": "8d145981c36b451c992ad1f836ab8620",
       "version_major": 2,
       "version_minor": 0
      },
      "text/plain": [
       "0/46           ETA: ?s - "
      ]
     },
     "metadata": {},
     "output_type": "display_data"
    },
    {
     "name": "stdout",
     "output_type": "stream",
     "text": [
      "Epoch 28/200\n",
      "46/46 [==============================] - 3s 72ms/step - loss: 1.6239 - accuracy: 0.2578 - val_loss: 1.6715 - val_accuracy: 0.2930\n",
      "Epoch 29/200\n"
     ]
    },
    {
     "data": {
      "application/vnd.jupyter.widget-view+json": {
       "model_id": "2345f51ec239405499d04c8e551c06c8",
       "version_major": 2,
       "version_minor": 0
      },
      "text/plain": [
       "0/46           ETA: ?s - "
      ]
     },
     "metadata": {},
     "output_type": "display_data"
    },
    {
     "name": "stdout",
     "output_type": "stream",
     "text": [
      "Epoch 29/200\n",
      "46/46 [==============================] - 3s 72ms/step - loss: 1.6195 - accuracy: 0.2544 - val_loss: 1.6448 - val_accuracy: 0.2760\n",
      "Epoch 30/200\n"
     ]
    },
    {
     "data": {
      "application/vnd.jupyter.widget-view+json": {
       "model_id": "c3906e7801ab4407a03f4e15b3058555",
       "version_major": 2,
       "version_minor": 0
      },
      "text/plain": [
       "0/46           ETA: ?s - "
      ]
     },
     "metadata": {},
     "output_type": "display_data"
    },
    {
     "name": "stdout",
     "output_type": "stream",
     "text": [
      "Epoch 30/200\n",
      "46/46 [==============================] - 3s 74ms/step - loss: 1.6134 - accuracy: 0.2586 - val_loss: 1.6330 - val_accuracy: 0.2678\n",
      "Epoch 31/200\n"
     ]
    },
    {
     "data": {
      "application/vnd.jupyter.widget-view+json": {
       "model_id": "a46282c3549f46a886acee82ee4dda25",
       "version_major": 2,
       "version_minor": 0
      },
      "text/plain": [
       "0/46           ETA: ?s - "
      ]
     },
     "metadata": {},
     "output_type": "display_data"
    },
    {
     "name": "stdout",
     "output_type": "stream",
     "text": [
      "Epoch 31/200\n",
      "46/46 [==============================] - 3s 72ms/step - loss: 1.6084 - accuracy: 0.2632 - val_loss: 1.6219 - val_accuracy: 0.2522\n",
      "Epoch 32/200\n"
     ]
    },
    {
     "data": {
      "application/vnd.jupyter.widget-view+json": {
       "model_id": "89786d8de70e45bc899d1b3799e660a0",
       "version_major": 2,
       "version_minor": 0
      },
      "text/plain": [
       "0/46           ETA: ?s - "
      ]
     },
     "metadata": {},
     "output_type": "display_data"
    },
    {
     "name": "stdout",
     "output_type": "stream",
     "text": [
      "Epoch 32/200\n",
      "46/46 [==============================] - 3s 73ms/step - loss: 1.5954 - accuracy: 0.2734 - val_loss: 1.6181 - val_accuracy: 0.2549\n",
      "Epoch 33/200\n"
     ]
    },
    {
     "data": {
      "application/vnd.jupyter.widget-view+json": {
       "model_id": "86afb171c03943f296982f7c5cc1d7dd",
       "version_major": 2,
       "version_minor": 0
      },
      "text/plain": [
       "0/46           ETA: ?s - "
      ]
     },
     "metadata": {},
     "output_type": "display_data"
    },
    {
     "name": "stdout",
     "output_type": "stream",
     "text": [
      "Epoch 33/200\n",
      "46/46 [==============================] - 3s 73ms/step - loss: 1.5864 - accuracy: 0.2748 - val_loss: 1.6038 - val_accuracy: 0.2672\n",
      "Epoch 34/200\n"
     ]
    },
    {
     "data": {
      "application/vnd.jupyter.widget-view+json": {
       "model_id": "5346efcde9d747809ba16eee96438505",
       "version_major": 2,
       "version_minor": 0
      },
      "text/plain": [
       "0/46           ETA: ?s - "
      ]
     },
     "metadata": {},
     "output_type": "display_data"
    },
    {
     "name": "stdout",
     "output_type": "stream",
     "text": [
      "Epoch 34/200\n",
      "46/46 [==============================] - 3s 72ms/step - loss: 1.5598 - accuracy: 0.2818 - val_loss: 1.5931 - val_accuracy: 0.2760\n",
      "Epoch 35/200\n"
     ]
    },
    {
     "data": {
      "application/vnd.jupyter.widget-view+json": {
       "model_id": "f548f4bb778c47c7bec2e9538d4e02c2",
       "version_major": 2,
       "version_minor": 0
      },
      "text/plain": [
       "0/46           ETA: ?s - "
      ]
     },
     "metadata": {},
     "output_type": "display_data"
    },
    {
     "name": "stdout",
     "output_type": "stream",
     "text": [
      "Epoch 35/200\n",
      "46/46 [==============================] - 3s 72ms/step - loss: 1.5954 - accuracy: 0.2831 - val_loss: 1.9386 - val_accuracy: 0.2325\n",
      "Epoch 36/200\n"
     ]
    },
    {
     "data": {
      "application/vnd.jupyter.widget-view+json": {
       "model_id": "50ea154ed24945fa9fccbe7d826a46b9",
       "version_major": 2,
       "version_minor": 0
      },
      "text/plain": [
       "0/46           ETA: ?s - "
      ]
     },
     "metadata": {},
     "output_type": "display_data"
    },
    {
     "name": "stdout",
     "output_type": "stream",
     "text": [
      "Epoch 36/200\n",
      "46/46 [==============================] - 3s 72ms/step - loss: 1.5704 - accuracy: 0.2921 - val_loss: 1.5895 - val_accuracy: 0.2916\n",
      "Epoch 37/200\n"
     ]
    },
    {
     "data": {
      "application/vnd.jupyter.widget-view+json": {
       "model_id": "67a08ab811104077952bdb414d036b96",
       "version_major": 2,
       "version_minor": 0
      },
      "text/plain": [
       "0/46           ETA: ?s - "
      ]
     },
     "metadata": {},
     "output_type": "display_data"
    },
    {
     "name": "stdout",
     "output_type": "stream",
     "text": [
      "Epoch 37/200\n",
      "46/46 [==============================] - 3s 72ms/step - loss: 1.3843 - accuracy: 0.3258 - val_loss: 1.2681 - val_accuracy: 0.3345\n",
      "Epoch 38/200\n"
     ]
    },
    {
     "data": {
      "application/vnd.jupyter.widget-view+json": {
       "model_id": "f421e0f7f55f40598c61646c6f401d68",
       "version_major": 2,
       "version_minor": 0
      },
      "text/plain": [
       "0/46           ETA: ?s - "
      ]
     },
     "metadata": {},
     "output_type": "display_data"
    },
    {
     "name": "stdout",
     "output_type": "stream",
     "text": [
      "Epoch 38/200\n",
      "46/46 [==============================] - 3s 73ms/step - loss: 1.2289 - accuracy: 0.3498 - val_loss: 1.6888 - val_accuracy: 0.1475\n",
      "Epoch 39/200\n"
     ]
    },
    {
     "data": {
      "application/vnd.jupyter.widget-view+json": {
       "model_id": "913a5f38b4cb48778b1b77fcd41d41fb",
       "version_major": 2,
       "version_minor": 0
      },
      "text/plain": [
       "0/46           ETA: ?s - "
      ]
     },
     "metadata": {},
     "output_type": "display_data"
    },
    {
     "name": "stdout",
     "output_type": "stream",
     "text": [
      "Epoch 39/200\n",
      "46/46 [==============================] - 3s 75ms/step - loss: 1.1565 - accuracy: 0.3688 - val_loss: 1.3376 - val_accuracy: 0.3046\n",
      "Epoch 40/200\n"
     ]
    },
    {
     "data": {
      "application/vnd.jupyter.widget-view+json": {
       "model_id": "31cd7b14604c4e0c8349dded7acdecda",
       "version_major": 2,
       "version_minor": 0
      },
      "text/plain": [
       "0/46           ETA: ?s - "
      ]
     },
     "metadata": {},
     "output_type": "display_data"
    },
    {
     "name": "stdout",
     "output_type": "stream",
     "text": [
      "Epoch 40/200\n",
      "46/46 [==============================] - 3s 72ms/step - loss: 1.1596 - accuracy: 0.3576 - val_loss: 1.2273 - val_accuracy: 0.3399\n",
      "Epoch 41/200\n"
     ]
    },
    {
     "data": {
      "application/vnd.jupyter.widget-view+json": {
       "model_id": "d7428a794e824b13a985f3be09b20f02",
       "version_major": 2,
       "version_minor": 0
      },
      "text/plain": [
       "0/46           ETA: ?s - "
      ]
     },
     "metadata": {},
     "output_type": "display_data"
    },
    {
     "name": "stdout",
     "output_type": "stream",
     "text": [
      "Epoch 41/200\n",
      "46/46 [==============================] - 3s 73ms/step - loss: 1.0935 - accuracy: 0.3828 - val_loss: 1.2148 - val_accuracy: 0.3358\n",
      "Epoch 42/200\n"
     ]
    },
    {
     "data": {
      "application/vnd.jupyter.widget-view+json": {
       "model_id": "f67ffc89e9b342b9940e355f4e2ba790",
       "version_major": 2,
       "version_minor": 0
      },
      "text/plain": [
       "0/46           ETA: ?s - "
      ]
     },
     "metadata": {},
     "output_type": "display_data"
    },
    {
     "name": "stdout",
     "output_type": "stream",
     "text": [
      "Epoch 42/200\n",
      "46/46 [==============================] - 3s 73ms/step - loss: 1.1063 - accuracy: 0.3950 - val_loss: 1.1694 - val_accuracy: 0.3324\n",
      "Epoch 43/200\n"
     ]
    },
    {
     "data": {
      "application/vnd.jupyter.widget-view+json": {
       "model_id": "cf27a05f6e0347e7ac24267547fd5b33",
       "version_major": 2,
       "version_minor": 0
      },
      "text/plain": [
       "0/46           ETA: ?s - "
      ]
     },
     "metadata": {},
     "output_type": "display_data"
    },
    {
     "name": "stdout",
     "output_type": "stream",
     "text": [
      "Epoch 43/200\n",
      "46/46 [==============================] - 3s 73ms/step - loss: 1.6224 - accuracy: 0.3112 - val_loss: 9.1185 - val_accuracy: 0.1869\n",
      "Epoch 44/200\n"
     ]
    },
    {
     "data": {
      "application/vnd.jupyter.widget-view+json": {
       "model_id": "5dcc9df545624304bacf62a931438ac6",
       "version_major": 2,
       "version_minor": 0
      },
      "text/plain": [
       "0/46           ETA: ?s - "
      ]
     },
     "metadata": {},
     "output_type": "display_data"
    },
    {
     "name": "stdout",
     "output_type": "stream",
     "text": [
      "Epoch 44/200\n",
      "46/46 [==============================] - 3s 74ms/step - loss: 1.6486 - accuracy: 0.3042 - val_loss: 7.4469 - val_accuracy: 0.1849\n",
      "Epoch 45/200\n"
     ]
    },
    {
     "data": {
      "application/vnd.jupyter.widget-view+json": {
       "model_id": "6075106683b844d0a943a8c127145bcf",
       "version_major": 2,
       "version_minor": 0
      },
      "text/plain": [
       "0/46           ETA: ?s - "
      ]
     },
     "metadata": {},
     "output_type": "display_data"
    },
    {
     "name": "stdout",
     "output_type": "stream",
     "text": [
      "Epoch 45/200\n",
      "46/46 [==============================] - 3s 73ms/step - loss: 1.5253 - accuracy: 0.3200 - val_loss: 5.9803 - val_accuracy: 0.1876\n",
      "Epoch 46/200\n"
     ]
    },
    {
     "data": {
      "application/vnd.jupyter.widget-view+json": {
       "model_id": "308a1478d4934b55854ea806980fdc3a",
       "version_major": 2,
       "version_minor": 0
      },
      "text/plain": [
       "0/46           ETA: ?s - "
      ]
     },
     "metadata": {},
     "output_type": "display_data"
    },
    {
     "name": "stdout",
     "output_type": "stream",
     "text": [
      "Epoch 46/200\n",
      "46/46 [==============================] - 3s 73ms/step - loss: 1.3906 - accuracy: 0.3590 - val_loss: 5.1085 - val_accuracy: 0.1849\n",
      "Epoch 47/200\n"
     ]
    },
    {
     "data": {
      "application/vnd.jupyter.widget-view+json": {
       "model_id": "92f1714532b4473488d8b8fe105deb99",
       "version_major": 2,
       "version_minor": 0
      },
      "text/plain": [
       "0/46           ETA: ?s - "
      ]
     },
     "metadata": {},
     "output_type": "display_data"
    },
    {
     "name": "stdout",
     "output_type": "stream",
     "text": [
      "Epoch 47/200\n",
      "46/46 [==============================] - 3s 72ms/step - loss: 1.3309 - accuracy: 0.3666 - val_loss: 2.3361 - val_accuracy: 0.2060\n",
      "Epoch 48/200\n"
     ]
    },
    {
     "data": {
      "application/vnd.jupyter.widget-view+json": {
       "model_id": "a530db42e97f4d47b578dce57adf5271",
       "version_major": 2,
       "version_minor": 0
      },
      "text/plain": [
       "0/46           ETA: ?s - "
      ]
     },
     "metadata": {},
     "output_type": "display_data"
    },
    {
     "name": "stdout",
     "output_type": "stream",
     "text": [
      "Epoch 48/200\n",
      "46/46 [==============================] - 3s 74ms/step - loss: 1.4100 - accuracy: 0.3675 - val_loss: 2.3870 - val_accuracy: 0.1625\n",
      "Epoch 49/200\n"
     ]
    },
    {
     "data": {
      "application/vnd.jupyter.widget-view+json": {
       "model_id": "3f05cf46c41e4d49be0a944197c51e33",
       "version_major": 2,
       "version_minor": 0
      },
      "text/plain": [
       "0/46           ETA: ?s - "
      ]
     },
     "metadata": {},
     "output_type": "display_data"
    },
    {
     "name": "stdout",
     "output_type": "stream",
     "text": [
      "Epoch 49/200\n",
      "46/46 [==============================] - 3s 73ms/step - loss: 1.3797 - accuracy: 0.3800 - val_loss: 1.8650 - val_accuracy: 0.1856\n",
      "Epoch 50/200\n"
     ]
    },
    {
     "data": {
      "application/vnd.jupyter.widget-view+json": {
       "model_id": "bea6141a8ea94702b10bceaa344afba0",
       "version_major": 2,
       "version_minor": 0
      },
      "text/plain": [
       "0/46           ETA: ?s - "
      ]
     },
     "metadata": {},
     "output_type": "display_data"
    },
    {
     "name": "stdout",
     "output_type": "stream",
     "text": [
      "Epoch 50/200\n",
      "46/46 [==============================] - 3s 74ms/step - loss: 1.3325 - accuracy: 0.3785 - val_loss: 1.5932 - val_accuracy: 0.1931\n",
      "Epoch 51/200\n"
     ]
    },
    {
     "data": {
      "application/vnd.jupyter.widget-view+json": {
       "model_id": "401d74220bc146cca70fcd99e8347761",
       "version_major": 2,
       "version_minor": 0
      },
      "text/plain": [
       "0/46           ETA: ?s - "
      ]
     },
     "metadata": {},
     "output_type": "display_data"
    },
    {
     "name": "stdout",
     "output_type": "stream",
     "text": [
      "Epoch 51/200\n",
      "46/46 [==============================] - 3s 74ms/step - loss: 1.2982 - accuracy: 0.3923 - val_loss: 1.4793 - val_accuracy: 0.3215\n",
      "Epoch 52/200\n"
     ]
    },
    {
     "data": {
      "application/vnd.jupyter.widget-view+json": {
       "model_id": "38e4165ac9904191a5035b71cffbe09f",
       "version_major": 2,
       "version_minor": 0
      },
      "text/plain": [
       "0/46           ETA: ?s - "
      ]
     },
     "metadata": {},
     "output_type": "display_data"
    },
    {
     "name": "stdout",
     "output_type": "stream",
     "text": [
      "Epoch 52/200\n",
      "46/46 [==============================] - 3s 72ms/step - loss: 1.2777 - accuracy: 0.4035 - val_loss: 1.4948 - val_accuracy: 0.2169\n",
      "Epoch 53/200\n"
     ]
    },
    {
     "data": {
      "application/vnd.jupyter.widget-view+json": {
       "model_id": "b60230e13b654224a42cc62e569685f6",
       "version_major": 2,
       "version_minor": 0
      },
      "text/plain": [
       "0/46           ETA: ?s - "
      ]
     },
     "metadata": {},
     "output_type": "display_data"
    },
    {
     "name": "stdout",
     "output_type": "stream",
     "text": [
      "Epoch 53/200\n",
      "46/46 [==============================] - 3s 74ms/step - loss: 1.2384 - accuracy: 0.4004 - val_loss: 1.4769 - val_accuracy: 0.2094\n",
      "Epoch 54/200\n"
     ]
    },
    {
     "data": {
      "application/vnd.jupyter.widget-view+json": {
       "model_id": "a6583faf67b94b42ab859334edae5b45",
       "version_major": 2,
       "version_minor": 0
      },
      "text/plain": [
       "0/46           ETA: ?s - "
      ]
     },
     "metadata": {},
     "output_type": "display_data"
    },
    {
     "name": "stdout",
     "output_type": "stream",
     "text": [
      "Epoch 54/200\n",
      "46/46 [==============================] - 3s 73ms/step - loss: 1.1675 - accuracy: 0.4084 - val_loss: 1.2507 - val_accuracy: 0.4018\n",
      "Epoch 55/200\n"
     ]
    },
    {
     "data": {
      "application/vnd.jupyter.widget-view+json": {
       "model_id": "846b72eb1a2f46beb86044422b708b8b",
       "version_major": 2,
       "version_minor": 0
      },
      "text/plain": [
       "0/46           ETA: ?s - "
      ]
     },
     "metadata": {},
     "output_type": "display_data"
    },
    {
     "name": "stdout",
     "output_type": "stream",
     "text": [
      "Epoch 55/200\n",
      "46/46 [==============================] - 3s 73ms/step - loss: 1.1496 - accuracy: 0.4084 - val_loss: 1.1629 - val_accuracy: 0.4113\n",
      "Epoch 56/200\n"
     ]
    },
    {
     "data": {
      "application/vnd.jupyter.widget-view+json": {
       "model_id": "d189303b55814e61a50afc5165df0f5b",
       "version_major": 2,
       "version_minor": 0
      },
      "text/plain": [
       "0/46           ETA: ?s - "
      ]
     },
     "metadata": {},
     "output_type": "display_data"
    },
    {
     "name": "stdout",
     "output_type": "stream",
     "text": [
      "Epoch 56/200\n",
      "46/46 [==============================] - 3s 73ms/step - loss: 1.1292 - accuracy: 0.4222 - val_loss: 1.1236 - val_accuracy: 0.4167\n",
      "Epoch 57/200\n"
     ]
    },
    {
     "data": {
      "application/vnd.jupyter.widget-view+json": {
       "model_id": "c8b5d1cf07514588860d984767d38b8b",
       "version_major": 2,
       "version_minor": 0
      },
      "text/plain": [
       "0/46           ETA: ?s - "
      ]
     },
     "metadata": {},
     "output_type": "display_data"
    },
    {
     "name": "stdout",
     "output_type": "stream",
     "text": [
      "Epoch 57/200\n",
      "46/46 [==============================] - 3s 72ms/step - loss: 1.1139 - accuracy: 0.4217 - val_loss: 1.1024 - val_accuracy: 0.3990\n",
      "Epoch 58/200\n"
     ]
    },
    {
     "data": {
      "application/vnd.jupyter.widget-view+json": {
       "model_id": "a2effac97d5a45ae81743093d9e13c49",
       "version_major": 2,
       "version_minor": 0
      },
      "text/plain": [
       "0/46           ETA: ?s - "
      ]
     },
     "metadata": {},
     "output_type": "display_data"
    },
    {
     "name": "stdout",
     "output_type": "stream",
     "text": [
      "Epoch 58/200\n",
      "46/46 [==============================] - 3s 74ms/step - loss: 1.0954 - accuracy: 0.4219 - val_loss: 1.0842 - val_accuracy: 0.4113\n",
      "Epoch 59/200\n"
     ]
    },
    {
     "data": {
      "application/vnd.jupyter.widget-view+json": {
       "model_id": "eaab372b0fd446528c6ed8962539fbd4",
       "version_major": 2,
       "version_minor": 0
      },
      "text/plain": [
       "0/46           ETA: ?s - "
      ]
     },
     "metadata": {},
     "output_type": "display_data"
    },
    {
     "name": "stdout",
     "output_type": "stream",
     "text": [
      "Epoch 59/200\n",
      "46/46 [==============================] - 3s 73ms/step - loss: 1.0825 - accuracy: 0.4300 - val_loss: 1.0689 - val_accuracy: 0.3990\n",
      "Epoch 60/200\n"
     ]
    },
    {
     "data": {
      "application/vnd.jupyter.widget-view+json": {
       "model_id": "8567facc88034b46be55eb93f4c9ce69",
       "version_major": 2,
       "version_minor": 0
      },
      "text/plain": [
       "0/46           ETA: ?s - "
      ]
     },
     "metadata": {},
     "output_type": "display_data"
    },
    {
     "name": "stdout",
     "output_type": "stream",
     "text": [
      "Epoch 60/200\n",
      "46/46 [==============================] - 3s 72ms/step - loss: 1.0635 - accuracy: 0.4373 - val_loss: 1.0622 - val_accuracy: 0.4018\n",
      "Epoch 61/200\n"
     ]
    },
    {
     "data": {
      "application/vnd.jupyter.widget-view+json": {
       "model_id": "80d375aea9354c18828a2e30a4653e76",
       "version_major": 2,
       "version_minor": 0
      },
      "text/plain": [
       "0/46           ETA: ?s - "
      ]
     },
     "metadata": {},
     "output_type": "display_data"
    },
    {
     "name": "stdout",
     "output_type": "stream",
     "text": [
      "Epoch 61/200\n",
      "46/46 [==============================] - 3s 72ms/step - loss: 1.0458 - accuracy: 0.4543 - val_loss: 1.0525 - val_accuracy: 0.4303\n",
      "Epoch 62/200\n"
     ]
    },
    {
     "data": {
      "application/vnd.jupyter.widget-view+json": {
       "model_id": "caa51ec59288411eb32d7e922a702672",
       "version_major": 2,
       "version_minor": 0
      },
      "text/plain": [
       "0/46           ETA: ?s - "
      ]
     },
     "metadata": {},
     "output_type": "display_data"
    },
    {
     "name": "stdout",
     "output_type": "stream",
     "text": [
      "Epoch 62/200\n",
      "46/46 [==============================] - 3s 73ms/step - loss: 1.0242 - accuracy: 0.4537 - val_loss: 1.0169 - val_accuracy: 0.4262\n",
      "Epoch 63/200\n"
     ]
    },
    {
     "data": {
      "application/vnd.jupyter.widget-view+json": {
       "model_id": "198d7b06d7df441f8bd15f35c123845d",
       "version_major": 2,
       "version_minor": 0
      },
      "text/plain": [
       "0/46           ETA: ?s - "
      ]
     },
     "metadata": {},
     "output_type": "display_data"
    },
    {
     "name": "stdout",
     "output_type": "stream",
     "text": [
      "Epoch 63/200\n",
      "46/46 [==============================] - 3s 73ms/step - loss: 1.0008 - accuracy: 0.4693 - val_loss: 0.9896 - val_accuracy: 0.4820\n",
      "Epoch 64/200\n"
     ]
    },
    {
     "data": {
      "application/vnd.jupyter.widget-view+json": {
       "model_id": "4f4efc028bdc45ccb0e34e05a8d44896",
       "version_major": 2,
       "version_minor": 0
      },
      "text/plain": [
       "0/46           ETA: ?s - "
      ]
     },
     "metadata": {},
     "output_type": "display_data"
    },
    {
     "name": "stdout",
     "output_type": "stream",
     "text": [
      "Epoch 64/200\n",
      "46/46 [==============================] - 3s 73ms/step - loss: 0.9818 - accuracy: 0.4746 - val_loss: 0.9681 - val_accuracy: 0.4929\n",
      "Epoch 65/200\n"
     ]
    },
    {
     "data": {
      "application/vnd.jupyter.widget-view+json": {
       "model_id": "5111b7e42b954c0c93cd61dd1dac7922",
       "version_major": 2,
       "version_minor": 0
      },
      "text/plain": [
       "0/46           ETA: ?s - "
      ]
     },
     "metadata": {},
     "output_type": "display_data"
    },
    {
     "name": "stdout",
     "output_type": "stream",
     "text": [
      "Epoch 65/200\n",
      "46/46 [==============================] - 3s 73ms/step - loss: 0.9634 - accuracy: 0.4894 - val_loss: 0.9473 - val_accuracy: 0.4806\n",
      "Epoch 66/200\n"
     ]
    },
    {
     "data": {
      "application/vnd.jupyter.widget-view+json": {
       "model_id": "0b242b438ec546b1af225195ade84919",
       "version_major": 2,
       "version_minor": 0
      },
      "text/plain": [
       "0/46           ETA: ?s - "
      ]
     },
     "metadata": {},
     "output_type": "display_data"
    },
    {
     "name": "stdout",
     "output_type": "stream",
     "text": [
      "Epoch 66/200\n",
      "46/46 [==============================] - 3s 74ms/step - loss: 0.9462 - accuracy: 0.4941 - val_loss: 0.9366 - val_accuracy: 0.4636\n",
      "Epoch 67/200\n"
     ]
    },
    {
     "data": {
      "application/vnd.jupyter.widget-view+json": {
       "model_id": "ef8fec2a29764e4fb05d3ffcb1c93e88",
       "version_major": 2,
       "version_minor": 0
      },
      "text/plain": [
       "0/46           ETA: ?s - "
      ]
     },
     "metadata": {},
     "output_type": "display_data"
    },
    {
     "name": "stdout",
     "output_type": "stream",
     "text": [
      "Epoch 67/200\n",
      "46/46 [==============================] - 3s 73ms/step - loss: 0.9238 - accuracy: 0.5059 - val_loss: 0.9121 - val_accuracy: 0.4929\n",
      "Epoch 68/200\n"
     ]
    },
    {
     "data": {
      "application/vnd.jupyter.widget-view+json": {
       "model_id": "0ecfee7b3a024a0aa2a44a8f576c4155",
       "version_major": 2,
       "version_minor": 0
      },
      "text/plain": [
       "0/46           ETA: ?s - "
      ]
     },
     "metadata": {},
     "output_type": "display_data"
    },
    {
     "name": "stdout",
     "output_type": "stream",
     "text": [
      "Epoch 68/200\n",
      "46/46 [==============================] - 3s 73ms/step - loss: 0.9090 - accuracy: 0.5164 - val_loss: 0.8954 - val_accuracy: 0.4976\n",
      "Epoch 69/200\n"
     ]
    },
    {
     "data": {
      "application/vnd.jupyter.widget-view+json": {
       "model_id": "0f3ecf18ce8c4637ab06e3a4b6d52556",
       "version_major": 2,
       "version_minor": 0
      },
      "text/plain": [
       "0/46           ETA: ?s - "
      ]
     },
     "metadata": {},
     "output_type": "display_data"
    },
    {
     "name": "stdout",
     "output_type": "stream",
     "text": [
      "Epoch 69/200\n",
      "46/46 [==============================] - 3s 72ms/step - loss: 0.8923 - accuracy: 0.5225 - val_loss: 0.9088 - val_accuracy: 0.4861\n",
      "Epoch 70/200\n"
     ]
    },
    {
     "data": {
      "application/vnd.jupyter.widget-view+json": {
       "model_id": "476984f7e9734fa693d72c32e5e86e5c",
       "version_major": 2,
       "version_minor": 0
      },
      "text/plain": [
       "0/46           ETA: ?s - "
      ]
     },
     "metadata": {},
     "output_type": "display_data"
    },
    {
     "name": "stdout",
     "output_type": "stream",
     "text": [
      "Epoch 70/200\n",
      "46/46 [==============================] - 3s 73ms/step - loss: 0.8746 - accuracy: 0.5365 - val_loss: 0.8490 - val_accuracy: 0.5262\n",
      "Epoch 71/200\n"
     ]
    },
    {
     "data": {
      "application/vnd.jupyter.widget-view+json": {
       "model_id": "7774ca81bda4487d9b75fe7f9eff8aaa",
       "version_major": 2,
       "version_minor": 0
      },
      "text/plain": [
       "0/46           ETA: ?s - "
      ]
     },
     "metadata": {},
     "output_type": "display_data"
    },
    {
     "name": "stdout",
     "output_type": "stream",
     "text": [
      "Epoch 71/200\n",
      "46/46 [==============================] - 3s 73ms/step - loss: 0.8603 - accuracy: 0.5263 - val_loss: 0.8474 - val_accuracy: 0.5194\n",
      "Epoch 72/200\n"
     ]
    },
    {
     "data": {
      "application/vnd.jupyter.widget-view+json": {
       "model_id": "54781c37d306430b9210e962252b5907",
       "version_major": 2,
       "version_minor": 0
      },
      "text/plain": [
       "0/46           ETA: ?s - "
      ]
     },
     "metadata": {},
     "output_type": "display_data"
    },
    {
     "name": "stdout",
     "output_type": "stream",
     "text": [
      "Epoch 72/200\n",
      "46/46 [==============================] - 3s 72ms/step - loss: 0.8507 - accuracy: 0.5370 - val_loss: 0.8178 - val_accuracy: 0.5418\n",
      "Epoch 73/200\n"
     ]
    },
    {
     "data": {
      "application/vnd.jupyter.widget-view+json": {
       "model_id": "02ee17512fee4787aca6d7f9540f6c60",
       "version_major": 2,
       "version_minor": 0
      },
      "text/plain": [
       "0/46           ETA: ?s - "
      ]
     },
     "metadata": {},
     "output_type": "display_data"
    },
    {
     "name": "stdout",
     "output_type": "stream",
     "text": [
      "Epoch 73/200\n",
      "46/46 [==============================] - 3s 73ms/step - loss: 0.8361 - accuracy: 0.5434 - val_loss: 0.8990 - val_accuracy: 0.4935\n",
      "Epoch 74/200\n"
     ]
    },
    {
     "data": {
      "application/vnd.jupyter.widget-view+json": {
       "model_id": "a8d90ab5c1b4412e9d70d96adbb2f141",
       "version_major": 2,
       "version_minor": 0
      },
      "text/plain": [
       "0/46           ETA: ?s - "
      ]
     },
     "metadata": {},
     "output_type": "display_data"
    },
    {
     "name": "stdout",
     "output_type": "stream",
     "text": [
      "Epoch 74/200\n",
      "46/46 [==============================] - 3s 73ms/step - loss: 0.8256 - accuracy: 0.5428 - val_loss: 0.8203 - val_accuracy: 0.5309\n",
      "Epoch 75/200\n"
     ]
    },
    {
     "data": {
      "application/vnd.jupyter.widget-view+json": {
       "model_id": "010a7e9ad43f4a5db684549b0affc912",
       "version_major": 2,
       "version_minor": 0
      },
      "text/plain": [
       "0/46           ETA: ?s - "
      ]
     },
     "metadata": {},
     "output_type": "display_data"
    },
    {
     "name": "stdout",
     "output_type": "stream",
     "text": [
      "Epoch 75/200\n",
      "46/46 [==============================] - 3s 73ms/step - loss: 0.8184 - accuracy: 0.5485 - val_loss: 0.7963 - val_accuracy: 0.5602\n",
      "Epoch 76/200\n"
     ]
    },
    {
     "data": {
      "application/vnd.jupyter.widget-view+json": {
       "model_id": "147b49ae42ea4e34925c2abd3d877cc9",
       "version_major": 2,
       "version_minor": 0
      },
      "text/plain": [
       "0/46           ETA: ?s - "
      ]
     },
     "metadata": {},
     "output_type": "display_data"
    },
    {
     "name": "stdout",
     "output_type": "stream",
     "text": [
      "Epoch 76/200\n",
      "46/46 [==============================] - 3s 72ms/step - loss: 0.8006 - accuracy: 0.5633 - val_loss: 0.7810 - val_accuracy: 0.5704\n",
      "Epoch 77/200\n"
     ]
    },
    {
     "data": {
      "application/vnd.jupyter.widget-view+json": {
       "model_id": "6fc8596e71a1483ea16aaabadbaed065",
       "version_major": 2,
       "version_minor": 0
      },
      "text/plain": [
       "0/46           ETA: ?s - "
      ]
     },
     "metadata": {},
     "output_type": "display_data"
    },
    {
     "name": "stdout",
     "output_type": "stream",
     "text": [
      "Epoch 77/200\n",
      "46/46 [==============================] - 3s 74ms/step - loss: 0.7907 - accuracy: 0.5707 - val_loss: 0.8196 - val_accuracy: 0.5554\n",
      "Epoch 78/200\n"
     ]
    },
    {
     "data": {
      "application/vnd.jupyter.widget-view+json": {
       "model_id": "a5e91de708bc4b03b39def77b2dbf3bf",
       "version_major": 2,
       "version_minor": 0
      },
      "text/plain": [
       "0/46           ETA: ?s - "
      ]
     },
     "metadata": {},
     "output_type": "display_data"
    },
    {
     "name": "stdout",
     "output_type": "stream",
     "text": [
      "Epoch 78/200\n",
      "46/46 [==============================] - 3s 72ms/step - loss: 0.7795 - accuracy: 0.5727 - val_loss: 0.8024 - val_accuracy: 0.5459\n",
      "Epoch 79/200\n"
     ]
    },
    {
     "data": {
      "application/vnd.jupyter.widget-view+json": {
       "model_id": "b2ba4656e9b0410fb3215e148c657805",
       "version_major": 2,
       "version_minor": 0
      },
      "text/plain": [
       "0/46           ETA: ?s - "
      ]
     },
     "metadata": {},
     "output_type": "display_data"
    },
    {
     "name": "stdout",
     "output_type": "stream",
     "text": [
      "Epoch 79/200\n",
      "46/46 [==============================] - 3s 74ms/step - loss: 0.7787 - accuracy: 0.5785 - val_loss: 0.7605 - val_accuracy: 0.5867\n",
      "Epoch 80/200\n"
     ]
    },
    {
     "data": {
      "application/vnd.jupyter.widget-view+json": {
       "model_id": "3b9fdf1c8dee4df2890e74a18af003d5",
       "version_major": 2,
       "version_minor": 0
      },
      "text/plain": [
       "0/46           ETA: ?s - "
      ]
     },
     "metadata": {},
     "output_type": "display_data"
    },
    {
     "name": "stdout",
     "output_type": "stream",
     "text": [
      "Epoch 80/200\n",
      "46/46 [==============================] - 3s 72ms/step - loss: 0.7577 - accuracy: 0.5832 - val_loss: 0.9289 - val_accuracy: 0.5275\n",
      "Epoch 81/200\n"
     ]
    },
    {
     "data": {
      "application/vnd.jupyter.widget-view+json": {
       "model_id": "ee3c81c1acf0437f87b6c8d9e576fe4d",
       "version_major": 2,
       "version_minor": 0
      },
      "text/plain": [
       "0/46           ETA: ?s - "
      ]
     },
     "metadata": {},
     "output_type": "display_data"
    },
    {
     "name": "stdout",
     "output_type": "stream",
     "text": [
      "Epoch 81/200\n",
      "46/46 [==============================] - 3s 73ms/step - loss: 0.8099 - accuracy: 0.5559 - val_loss: 0.8297 - val_accuracy: 0.5343\n",
      "Epoch 82/200\n"
     ]
    },
    {
     "data": {
      "application/vnd.jupyter.widget-view+json": {
       "model_id": "c3222bf3a7ef461090fb600ad53379a2",
       "version_major": 2,
       "version_minor": 0
      },
      "text/plain": [
       "0/46           ETA: ?s - "
      ]
     },
     "metadata": {},
     "output_type": "display_data"
    },
    {
     "name": "stdout",
     "output_type": "stream",
     "text": [
      "Epoch 82/200\n",
      "46/46 [==============================] - 3s 72ms/step - loss: 0.7879 - accuracy: 0.5686 - val_loss: 0.7613 - val_accuracy: 0.5853\n",
      "Epoch 83/200\n"
     ]
    },
    {
     "data": {
      "application/vnd.jupyter.widget-view+json": {
       "model_id": "73ded5f69f664f6c8fb19f17bedec090",
       "version_major": 2,
       "version_minor": 0
      },
      "text/plain": [
       "0/46           ETA: ?s - "
      ]
     },
     "metadata": {},
     "output_type": "display_data"
    },
    {
     "name": "stdout",
     "output_type": "stream",
     "text": [
      "Epoch 83/200\n",
      "46/46 [==============================] - 3s 73ms/step - loss: 0.8252 - accuracy: 0.5599 - val_loss: 0.8213 - val_accuracy: 0.5588\n",
      "Epoch 84/200\n"
     ]
    },
    {
     "data": {
      "application/vnd.jupyter.widget-view+json": {
       "model_id": "a7acaf1a1d58458e8a5f17fd7bb26904",
       "version_major": 2,
       "version_minor": 0
      },
      "text/plain": [
       "0/46           ETA: ?s - "
      ]
     },
     "metadata": {},
     "output_type": "display_data"
    },
    {
     "name": "stdout",
     "output_type": "stream",
     "text": [
      "Epoch 84/200\n",
      "46/46 [==============================] - 3s 73ms/step - loss: 0.8116 - accuracy: 0.5645 - val_loss: 0.8341 - val_accuracy: 0.5568\n",
      "Epoch 85/200\n"
     ]
    },
    {
     "data": {
      "application/vnd.jupyter.widget-view+json": {
       "model_id": "fc78b6c68a2944c69a37199adc2dbcad",
       "version_major": 2,
       "version_minor": 0
      },
      "text/plain": [
       "0/46           ETA: ?s - "
      ]
     },
     "metadata": {},
     "output_type": "display_data"
    },
    {
     "name": "stdout",
     "output_type": "stream",
     "text": [
      "Epoch 85/200\n",
      "46/46 [==============================] - 3s 73ms/step - loss: 0.7843 - accuracy: 0.5666 - val_loss: 1.1489 - val_accuracy: 0.4426\n",
      "Epoch 86/200\n"
     ]
    },
    {
     "data": {
      "application/vnd.jupyter.widget-view+json": {
       "model_id": "ea154ec7d5714ce08430a1a423e9d57e",
       "version_major": 2,
       "version_minor": 0
      },
      "text/plain": [
       "0/46           ETA: ?s - "
      ]
     },
     "metadata": {},
     "output_type": "display_data"
    },
    {
     "name": "stdout",
     "output_type": "stream",
     "text": [
      "Epoch 86/200\n",
      "46/46 [==============================] - 3s 73ms/step - loss: 0.8252 - accuracy: 0.5560 - val_loss: 0.7933 - val_accuracy: 0.5785\n",
      "Epoch 87/200\n"
     ]
    },
    {
     "data": {
      "application/vnd.jupyter.widget-view+json": {
       "model_id": "425bf97e24234cb9b3275bb1ed290099",
       "version_major": 2,
       "version_minor": 0
      },
      "text/plain": [
       "0/46           ETA: ?s - "
      ]
     },
     "metadata": {},
     "output_type": "display_data"
    },
    {
     "name": "stdout",
     "output_type": "stream",
     "text": [
      "Epoch 87/200\n",
      "46/46 [==============================] - 3s 72ms/step - loss: 0.8005 - accuracy: 0.5703 - val_loss: 0.7834 - val_accuracy: 0.5690\n",
      "Epoch 88/200\n"
     ]
    },
    {
     "data": {
      "application/vnd.jupyter.widget-view+json": {
       "model_id": "eb6de00e6dcc4cf6a7cb72c0ab58ca5c",
       "version_major": 2,
       "version_minor": 0
      },
      "text/plain": [
       "0/46           ETA: ?s - "
      ]
     },
     "metadata": {},
     "output_type": "display_data"
    },
    {
     "name": "stdout",
     "output_type": "stream",
     "text": [
      "Epoch 88/200\n",
      "46/46 [==============================] - 3s 72ms/step - loss: 0.7961 - accuracy: 0.5657 - val_loss: 0.7496 - val_accuracy: 0.5846\n",
      "Epoch 89/200\n"
     ]
    },
    {
     "data": {
      "application/vnd.jupyter.widget-view+json": {
       "model_id": "26da55278da04e2a9660596ae6b74151",
       "version_major": 2,
       "version_minor": 0
      },
      "text/plain": [
       "0/46           ETA: ?s - "
      ]
     },
     "metadata": {},
     "output_type": "display_data"
    },
    {
     "name": "stdout",
     "output_type": "stream",
     "text": [
      "Epoch 89/200\n",
      "46/46 [==============================] - 3s 73ms/step - loss: 0.7569 - accuracy: 0.5800 - val_loss: 1.0227 - val_accuracy: 0.4929\n",
      "Epoch 90/200\n"
     ]
    },
    {
     "data": {
      "application/vnd.jupyter.widget-view+json": {
       "model_id": "ad17807547c947e4aa3e51bd89e9cb6b",
       "version_major": 2,
       "version_minor": 0
      },
      "text/plain": [
       "0/46           ETA: ?s - "
      ]
     },
     "metadata": {},
     "output_type": "display_data"
    },
    {
     "name": "stdout",
     "output_type": "stream",
     "text": [
      "Epoch 90/200\n",
      "46/46 [==============================] - 3s 73ms/step - loss: 0.8658 - accuracy: 0.5400 - val_loss: 2.0581 - val_accuracy: 0.2964\n",
      "Epoch 91/200\n"
     ]
    },
    {
     "data": {
      "application/vnd.jupyter.widget-view+json": {
       "model_id": "2fe3def2fa6e4af2ba42d17076cb8ed4",
       "version_major": 2,
       "version_minor": 0
      },
      "text/plain": [
       "0/46           ETA: ?s - "
      ]
     },
     "metadata": {},
     "output_type": "display_data"
    },
    {
     "name": "stdout",
     "output_type": "stream",
     "text": [
      "Epoch 91/200\n",
      "46/46 [==============================] - 3s 74ms/step - loss: 0.8155 - accuracy: 0.5684 - val_loss: 0.7962 - val_accuracy: 0.5561\n",
      "Epoch 92/200\n"
     ]
    },
    {
     "data": {
      "application/vnd.jupyter.widget-view+json": {
       "model_id": "d7c80312d3934dbbaf53cab0dd1039df",
       "version_major": 2,
       "version_minor": 0
      },
      "text/plain": [
       "0/46           ETA: ?s - "
      ]
     },
     "metadata": {},
     "output_type": "display_data"
    },
    {
     "name": "stdout",
     "output_type": "stream",
     "text": [
      "Epoch 92/200\n",
      "46/46 [==============================] - 3s 73ms/step - loss: 0.9544 - accuracy: 0.5048 - val_loss: 0.9929 - val_accuracy: 0.5126\n",
      "Epoch 93/200\n"
     ]
    },
    {
     "data": {
      "application/vnd.jupyter.widget-view+json": {
       "model_id": "ea950e0fe88241cdab1edb4a71abb9b0",
       "version_major": 2,
       "version_minor": 0
      },
      "text/plain": [
       "0/46           ETA: ?s - "
      ]
     },
     "metadata": {},
     "output_type": "display_data"
    },
    {
     "name": "stdout",
     "output_type": "stream",
     "text": [
      "Epoch 93/200\n",
      "46/46 [==============================] - 3s 72ms/step - loss: 0.8466 - accuracy: 0.5397 - val_loss: 0.7934 - val_accuracy: 0.5676\n",
      "Epoch 94/200\n"
     ]
    },
    {
     "data": {
      "application/vnd.jupyter.widget-view+json": {
       "model_id": "0f2d2b75982345a7a21de0767d57a99c",
       "version_major": 2,
       "version_minor": 0
      },
      "text/plain": [
       "0/46           ETA: ?s - "
      ]
     },
     "metadata": {},
     "output_type": "display_data"
    },
    {
     "name": "stdout",
     "output_type": "stream",
     "text": [
      "Epoch 94/200\n",
      "46/46 [==============================] - 3s 73ms/step - loss: 0.7965 - accuracy: 0.5604 - val_loss: 0.7545 - val_accuracy: 0.5751\n",
      "Epoch 95/200\n"
     ]
    },
    {
     "data": {
      "application/vnd.jupyter.widget-view+json": {
       "model_id": "c78891616a4a418e83d616b480ad2bfc",
       "version_major": 2,
       "version_minor": 0
      },
      "text/plain": [
       "0/46           ETA: ?s - "
      ]
     },
     "metadata": {},
     "output_type": "display_data"
    },
    {
     "name": "stdout",
     "output_type": "stream",
     "text": [
      "Epoch 95/200\n",
      "46/46 [==============================] - 3s 73ms/step - loss: 0.7549 - accuracy: 0.5803 - val_loss: 0.7564 - val_accuracy: 0.5785\n",
      "Epoch 96/200\n"
     ]
    },
    {
     "data": {
      "application/vnd.jupyter.widget-view+json": {
       "model_id": "739c4545ac7f4d55a128515d6ec8513c",
       "version_major": 2,
       "version_minor": 0
      },
      "text/plain": [
       "0/46           ETA: ?s - "
      ]
     },
     "metadata": {},
     "output_type": "display_data"
    },
    {
     "name": "stdout",
     "output_type": "stream",
     "text": [
      "Epoch 96/200\n",
      "46/46 [==============================] - 3s 73ms/step - loss: 0.7664 - accuracy: 0.5837 - val_loss: 0.8404 - val_accuracy: 0.5540\n",
      "Epoch 97/200\n"
     ]
    },
    {
     "data": {
      "application/vnd.jupyter.widget-view+json": {
       "model_id": "57e8f2a030e34dbca101cc0cad8a47d8",
       "version_major": 2,
       "version_minor": 0
      },
      "text/plain": [
       "0/46           ETA: ?s - "
      ]
     },
     "metadata": {},
     "output_type": "display_data"
    },
    {
     "name": "stdout",
     "output_type": "stream",
     "text": [
      "Epoch 97/200\n",
      "46/46 [==============================] - 3s 72ms/step - loss: 0.7398 - accuracy: 0.5865 - val_loss: 0.8578 - val_accuracy: 0.5445\n",
      "Epoch 98/200\n"
     ]
    },
    {
     "data": {
      "application/vnd.jupyter.widget-view+json": {
       "model_id": "efcca8a3f5a04657aa72a5d826a061d6",
       "version_major": 2,
       "version_minor": 0
      },
      "text/plain": [
       "0/46           ETA: ?s - "
      ]
     },
     "metadata": {},
     "output_type": "display_data"
    },
    {
     "name": "stdout",
     "output_type": "stream",
     "text": [
      "Epoch 98/200\n",
      "46/46 [==============================] - 3s 72ms/step - loss: 0.7497 - accuracy: 0.5807 - val_loss: 0.7194 - val_accuracy: 0.5969\n",
      "Epoch 99/200\n"
     ]
    },
    {
     "data": {
      "application/vnd.jupyter.widget-view+json": {
       "model_id": "6273f7eae4ed4f7f9b3d244a20361c44",
       "version_major": 2,
       "version_minor": 0
      },
      "text/plain": [
       "0/46           ETA: ?s - "
      ]
     },
     "metadata": {},
     "output_type": "display_data"
    },
    {
     "name": "stdout",
     "output_type": "stream",
     "text": [
      "Epoch 99/200\n",
      "46/46 [==============================] - 3s 72ms/step - loss: 0.7545 - accuracy: 0.5837 - val_loss: 0.7410 - val_accuracy: 0.5860\n",
      "Epoch 100/200\n"
     ]
    },
    {
     "data": {
      "application/vnd.jupyter.widget-view+json": {
       "model_id": "f6f1168720df452bad6dd774f9e8e770",
       "version_major": 2,
       "version_minor": 0
      },
      "text/plain": [
       "0/46           ETA: ?s - "
      ]
     },
     "metadata": {},
     "output_type": "display_data"
    },
    {
     "name": "stdout",
     "output_type": "stream",
     "text": [
      "Epoch 100/200\n",
      "46/46 [==============================] - 3s 72ms/step - loss: 0.7280 - accuracy: 0.5933 - val_loss: 0.7285 - val_accuracy: 0.5928\n",
      "Epoch 101/200\n"
     ]
    },
    {
     "data": {
      "application/vnd.jupyter.widget-view+json": {
       "model_id": "a99218788cc04c8c83362a084fef26c7",
       "version_major": 2,
       "version_minor": 0
      },
      "text/plain": [
       "0/46           ETA: ?s - "
      ]
     },
     "metadata": {},
     "output_type": "display_data"
    },
    {
     "name": "stdout",
     "output_type": "stream",
     "text": [
      "Epoch 101/200\n",
      "46/46 [==============================] - 3s 75ms/step - loss: 0.7172 - accuracy: 0.5990 - val_loss: 0.6980 - val_accuracy: 0.6023\n",
      "Epoch 102/200\n"
     ]
    },
    {
     "data": {
      "application/vnd.jupyter.widget-view+json": {
       "model_id": "df5cd29b7fbe4903960af83c7cbdd335",
       "version_major": 2,
       "version_minor": 0
      },
      "text/plain": [
       "0/46           ETA: ?s - "
      ]
     },
     "metadata": {},
     "output_type": "display_data"
    },
    {
     "name": "stdout",
     "output_type": "stream",
     "text": [
      "Epoch 102/200\n",
      "46/46 [==============================] - 3s 73ms/step - loss: 0.7567 - accuracy: 0.5798 - val_loss: 0.8854 - val_accuracy: 0.5792\n",
      "Epoch 103/200\n"
     ]
    },
    {
     "data": {
      "application/vnd.jupyter.widget-view+json": {
       "model_id": "a4faa8f49c194143b7ff3082d52e8033",
       "version_major": 2,
       "version_minor": 0
      },
      "text/plain": [
       "0/46           ETA: ?s - "
      ]
     },
     "metadata": {},
     "output_type": "display_data"
    },
    {
     "name": "stdout",
     "output_type": "stream",
     "text": [
      "Epoch 103/200\n",
      "46/46 [==============================] - 3s 73ms/step - loss: 0.7424 - accuracy: 0.5977 - val_loss: 0.7020 - val_accuracy: 0.6125\n",
      "Epoch 104/200\n"
     ]
    },
    {
     "data": {
      "application/vnd.jupyter.widget-view+json": {
       "model_id": "e08601143f7d451a87009e4ab34a4686",
       "version_major": 2,
       "version_minor": 0
      },
      "text/plain": [
       "0/46           ETA: ?s - "
      ]
     },
     "metadata": {},
     "output_type": "display_data"
    },
    {
     "name": "stdout",
     "output_type": "stream",
     "text": [
      "Epoch 104/200\n",
      "46/46 [==============================] - 3s 73ms/step - loss: 0.7106 - accuracy: 0.5919 - val_loss: 0.7034 - val_accuracy: 0.6050\n",
      "Epoch 105/200\n"
     ]
    },
    {
     "data": {
      "application/vnd.jupyter.widget-view+json": {
       "model_id": "3893304de432473d92bc10733e0dec24",
       "version_major": 2,
       "version_minor": 0
      },
      "text/plain": [
       "0/46           ETA: ?s - "
      ]
     },
     "metadata": {},
     "output_type": "display_data"
    },
    {
     "name": "stdout",
     "output_type": "stream",
     "text": [
      "Epoch 105/200\n",
      "46/46 [==============================] - 3s 75ms/step - loss: 0.7062 - accuracy: 0.5984 - val_loss: 0.6923 - val_accuracy: 0.6173\n",
      "Epoch 106/200\n"
     ]
    },
    {
     "data": {
      "application/vnd.jupyter.widget-view+json": {
       "model_id": "5cbb824f1d624fa3a076b9b419838ce0",
       "version_major": 2,
       "version_minor": 0
      },
      "text/plain": [
       "0/46           ETA: ?s - "
      ]
     },
     "metadata": {},
     "output_type": "display_data"
    },
    {
     "name": "stdout",
     "output_type": "stream",
     "text": [
      "Epoch 106/200\n",
      "46/46 [==============================] - 3s 73ms/step - loss: 0.7048 - accuracy: 0.6094 - val_loss: 0.6935 - val_accuracy: 0.6220\n",
      "Epoch 107/200\n"
     ]
    },
    {
     "data": {
      "application/vnd.jupyter.widget-view+json": {
       "model_id": "d30fe24130ba484b938ad0a2bd40e302",
       "version_major": 2,
       "version_minor": 0
      },
      "text/plain": [
       "0/46           ETA: ?s - "
      ]
     },
     "metadata": {},
     "output_type": "display_data"
    },
    {
     "name": "stdout",
     "output_type": "stream",
     "text": [
      "Epoch 107/200\n",
      "46/46 [==============================] - 3s 74ms/step - loss: 0.7150 - accuracy: 0.6011 - val_loss: 0.7547 - val_accuracy: 0.5935\n",
      "Epoch 108/200\n"
     ]
    },
    {
     "data": {
      "application/vnd.jupyter.widget-view+json": {
       "model_id": "77032ca9b75b401880bc9b16b8a4dccf",
       "version_major": 2,
       "version_minor": 0
      },
      "text/plain": [
       "0/46           ETA: ?s - "
      ]
     },
     "metadata": {},
     "output_type": "display_data"
    },
    {
     "name": "stdout",
     "output_type": "stream",
     "text": [
      "Epoch 108/200\n",
      "46/46 [==============================] - 3s 72ms/step - loss: 0.7035 - accuracy: 0.6120 - val_loss: 0.7260 - val_accuracy: 0.6071\n",
      "Epoch 109/200\n"
     ]
    },
    {
     "data": {
      "application/vnd.jupyter.widget-view+json": {
       "model_id": "a9959a6fcb7248cbb6474510971eadbf",
       "version_major": 2,
       "version_minor": 0
      },
      "text/plain": [
       "0/46           ETA: ?s - "
      ]
     },
     "metadata": {},
     "output_type": "display_data"
    },
    {
     "name": "stdout",
     "output_type": "stream",
     "text": [
      "Epoch 109/200\n",
      "46/46 [==============================] - 3s 72ms/step - loss: 0.7600 - accuracy: 0.5810 - val_loss: 0.8666 - val_accuracy: 0.5554\n",
      "Epoch 110/200\n"
     ]
    },
    {
     "data": {
      "application/vnd.jupyter.widget-view+json": {
       "model_id": "b6209aeed9d948a6a2b839366a9946f3",
       "version_major": 2,
       "version_minor": 0
      },
      "text/plain": [
       "0/46           ETA: ?s - "
      ]
     },
     "metadata": {},
     "output_type": "display_data"
    },
    {
     "name": "stdout",
     "output_type": "stream",
     "text": [
      "Epoch 110/200\n",
      "46/46 [==============================] - 3s 73ms/step - loss: 0.7268 - accuracy: 0.5919 - val_loss: 0.7137 - val_accuracy: 0.6091\n",
      "Epoch 111/200\n"
     ]
    },
    {
     "data": {
      "application/vnd.jupyter.widget-view+json": {
       "model_id": "5c4368176560476589f1b95de89a5e8c",
       "version_major": 2,
       "version_minor": 0
      },
      "text/plain": [
       "0/46           ETA: ?s - "
      ]
     },
     "metadata": {},
     "output_type": "display_data"
    },
    {
     "name": "stdout",
     "output_type": "stream",
     "text": [
      "Epoch 111/200\n",
      "46/46 [==============================] - 3s 72ms/step - loss: 0.7149 - accuracy: 0.6011 - val_loss: 0.6897 - val_accuracy: 0.6111\n",
      "Epoch 112/200\n"
     ]
    },
    {
     "data": {
      "application/vnd.jupyter.widget-view+json": {
       "model_id": "aeecbec4f6b14972bf8b1ee7c1fd531f",
       "version_major": 2,
       "version_minor": 0
      },
      "text/plain": [
       "0/46           ETA: ?s - "
      ]
     },
     "metadata": {},
     "output_type": "display_data"
    },
    {
     "name": "stdout",
     "output_type": "stream",
     "text": [
      "Epoch 112/200\n",
      "46/46 [==============================] - 3s 73ms/step - loss: 0.6885 - accuracy: 0.6118 - val_loss: 0.6978 - val_accuracy: 0.6173\n",
      "Epoch 113/200\n"
     ]
    },
    {
     "data": {
      "application/vnd.jupyter.widget-view+json": {
       "model_id": "0b790a3e9a934f9e87d88f4aba59f44f",
       "version_major": 2,
       "version_minor": 0
      },
      "text/plain": [
       "0/46           ETA: ?s - "
      ]
     },
     "metadata": {},
     "output_type": "display_data"
    },
    {
     "name": "stdout",
     "output_type": "stream",
     "text": [
      "Epoch 113/200\n",
      "46/46 [==============================] - 3s 72ms/step - loss: 0.7657 - accuracy: 0.5848 - val_loss: 0.7937 - val_accuracy: 0.5969\n",
      "Epoch 114/200\n"
     ]
    },
    {
     "data": {
      "application/vnd.jupyter.widget-view+json": {
       "model_id": "5659fd10434f4c59a43f62bc91261db0",
       "version_major": 2,
       "version_minor": 0
      },
      "text/plain": [
       "0/46           ETA: ?s - "
      ]
     },
     "metadata": {},
     "output_type": "display_data"
    },
    {
     "name": "stdout",
     "output_type": "stream",
     "text": [
      "Epoch 114/200\n",
      "46/46 [==============================] - 3s 73ms/step - loss: 0.7083 - accuracy: 0.5980 - val_loss: 0.6848 - val_accuracy: 0.6139\n",
      "Epoch 115/200\n"
     ]
    },
    {
     "data": {
      "application/vnd.jupyter.widget-view+json": {
       "model_id": "26ec7d7ccec94ea9b326d0edbfea9f22",
       "version_major": 2,
       "version_minor": 0
      },
      "text/plain": [
       "0/46           ETA: ?s - "
      ]
     },
     "metadata": {},
     "output_type": "display_data"
    },
    {
     "name": "stdout",
     "output_type": "stream",
     "text": [
      "Epoch 115/200\n",
      "46/46 [==============================] - 3s 73ms/step - loss: 0.7650 - accuracy: 0.5866 - val_loss: 0.7678 - val_accuracy: 0.5833\n",
      "Epoch 116/200\n"
     ]
    },
    {
     "data": {
      "application/vnd.jupyter.widget-view+json": {
       "model_id": "0110daf7be6f4141a913e1c92131daff",
       "version_major": 2,
       "version_minor": 0
      },
      "text/plain": [
       "0/46           ETA: ?s - "
      ]
     },
     "metadata": {},
     "output_type": "display_data"
    },
    {
     "name": "stdout",
     "output_type": "stream",
     "text": [
      "Epoch 116/200\n",
      "46/46 [==============================] - 3s 73ms/step - loss: 0.7312 - accuracy: 0.6006 - val_loss: 0.7298 - val_accuracy: 0.5887\n",
      "Epoch 117/200\n"
     ]
    },
    {
     "data": {
      "application/vnd.jupyter.widget-view+json": {
       "model_id": "8f9855b816aa4d8fa821d4444ca619dd",
       "version_major": 2,
       "version_minor": 0
      },
      "text/plain": [
       "0/46           ETA: ?s - "
      ]
     },
     "metadata": {},
     "output_type": "display_data"
    },
    {
     "name": "stdout",
     "output_type": "stream",
     "text": [
      "Epoch 117/200\n",
      "46/46 [==============================] - 3s 72ms/step - loss: 0.7122 - accuracy: 0.6013 - val_loss: 0.7226 - val_accuracy: 0.6071\n",
      "Epoch 118/200\n"
     ]
    },
    {
     "data": {
      "application/vnd.jupyter.widget-view+json": {
       "model_id": "1f0dfd287e4b4210a1341ecfefb654fb",
       "version_major": 2,
       "version_minor": 0
      },
      "text/plain": [
       "0/46           ETA: ?s - "
      ]
     },
     "metadata": {},
     "output_type": "display_data"
    },
    {
     "name": "stdout",
     "output_type": "stream",
     "text": [
      "Epoch 118/200\n",
      "46/46 [==============================] - 3s 74ms/step - loss: 0.6981 - accuracy: 0.6133 - val_loss: 0.7118 - val_accuracy: 0.6077\n",
      "Epoch 119/200\n"
     ]
    },
    {
     "data": {
      "application/vnd.jupyter.widget-view+json": {
       "model_id": "9ea23e5fcdea44a99c40bd69e575c27a",
       "version_major": 2,
       "version_minor": 0
      },
      "text/plain": [
       "0/46           ETA: ?s - "
      ]
     },
     "metadata": {},
     "output_type": "display_data"
    },
    {
     "name": "stdout",
     "output_type": "stream",
     "text": [
      "Epoch 119/200\n",
      "46/46 [==============================] - 3s 73ms/step - loss: 0.6904 - accuracy: 0.6099 - val_loss: 0.7420 - val_accuracy: 0.5935\n",
      "Epoch 120/200\n"
     ]
    },
    {
     "data": {
      "application/vnd.jupyter.widget-view+json": {
       "model_id": "8ce7e5333e63438ba54de89561a3c268",
       "version_major": 2,
       "version_minor": 0
      },
      "text/plain": [
       "0/46           ETA: ?s - "
      ]
     },
     "metadata": {},
     "output_type": "display_data"
    },
    {
     "name": "stdout",
     "output_type": "stream",
     "text": [
      "Epoch 120/200\n",
      "46/46 [==============================] - 3s 73ms/step - loss: 0.7426 - accuracy: 0.5939 - val_loss: 0.8476 - val_accuracy: 0.5663\n",
      "Epoch 121/200\n"
     ]
    },
    {
     "data": {
      "application/vnd.jupyter.widget-view+json": {
       "model_id": "80271b8164994ecc9d754a93a4595304",
       "version_major": 2,
       "version_minor": 0
      },
      "text/plain": [
       "0/46           ETA: ?s - "
      ]
     },
     "metadata": {},
     "output_type": "display_data"
    },
    {
     "name": "stdout",
     "output_type": "stream",
     "text": [
      "Epoch 121/200\n",
      "46/46 [==============================] - 3s 73ms/step - loss: 0.7259 - accuracy: 0.6001 - val_loss: 0.6983 - val_accuracy: 0.6302\n",
      "Epoch 122/200\n"
     ]
    },
    {
     "data": {
      "application/vnd.jupyter.widget-view+json": {
       "model_id": "227e2fcb102741859d28b0339b7295af",
       "version_major": 2,
       "version_minor": 0
      },
      "text/plain": [
       "0/46           ETA: ?s - "
      ]
     },
     "metadata": {},
     "output_type": "display_data"
    },
    {
     "name": "stdout",
     "output_type": "stream",
     "text": [
      "Epoch 122/200\n",
      "46/46 [==============================] - 3s 73ms/step - loss: 0.6863 - accuracy: 0.6152 - val_loss: 1.4637 - val_accuracy: 0.4827\n",
      "Epoch 123/200\n"
     ]
    },
    {
     "data": {
      "application/vnd.jupyter.widget-view+json": {
       "model_id": "48fa5c84ac734f4097cdc404a9c2aae4",
       "version_major": 2,
       "version_minor": 0
      },
      "text/plain": [
       "0/46           ETA: ?s - "
      ]
     },
     "metadata": {},
     "output_type": "display_data"
    },
    {
     "name": "stdout",
     "output_type": "stream",
     "text": [
      "Epoch 123/200\n",
      "46/46 [==============================] - 3s 72ms/step - loss: 0.8310 - accuracy: 0.5565 - val_loss: 0.6998 - val_accuracy: 0.6125\n",
      "Epoch 124/200\n"
     ]
    },
    {
     "data": {
      "application/vnd.jupyter.widget-view+json": {
       "model_id": "009cf5b2e4ce44cabd1685723b48913f",
       "version_major": 2,
       "version_minor": 0
      },
      "text/plain": [
       "0/46           ETA: ?s - "
      ]
     },
     "metadata": {},
     "output_type": "display_data"
    },
    {
     "name": "stdout",
     "output_type": "stream",
     "text": [
      "Epoch 124/200\n",
      "46/46 [==============================] - 3s 72ms/step - loss: 0.7087 - accuracy: 0.6108 - val_loss: 0.8086 - val_accuracy: 0.5962\n",
      "Epoch 125/200\n"
     ]
    },
    {
     "data": {
      "application/vnd.jupyter.widget-view+json": {
       "model_id": "864c8550f6f54d7f9a530c5110e4dfe5",
       "version_major": 2,
       "version_minor": 0
      },
      "text/plain": [
       "0/46           ETA: ?s - "
      ]
     },
     "metadata": {},
     "output_type": "display_data"
    },
    {
     "name": "stdout",
     "output_type": "stream",
     "text": [
      "Epoch 125/200\n",
      "46/46 [==============================] - 3s 73ms/step - loss: 0.7042 - accuracy: 0.6038 - val_loss: 0.7174 - val_accuracy: 0.5989\n",
      "Epoch 126/200\n"
     ]
    },
    {
     "data": {
      "application/vnd.jupyter.widget-view+json": {
       "model_id": "5cedd3adc57941d7966408bfadf53ef1",
       "version_major": 2,
       "version_minor": 0
      },
      "text/plain": [
       "0/46           ETA: ?s - "
      ]
     },
     "metadata": {},
     "output_type": "display_data"
    },
    {
     "name": "stdout",
     "output_type": "stream",
     "text": [
      "Epoch 126/200\n",
      "46/46 [==============================] - 3s 73ms/step - loss: 0.7075 - accuracy: 0.6075 - val_loss: 0.7724 - val_accuracy: 0.5989\n",
      "Epoch 127/200\n"
     ]
    },
    {
     "data": {
      "application/vnd.jupyter.widget-view+json": {
       "model_id": "5d6be49cdb5344a0b1db545b48c698a2",
       "version_major": 2,
       "version_minor": 0
      },
      "text/plain": [
       "0/46           ETA: ?s - "
      ]
     },
     "metadata": {},
     "output_type": "display_data"
    },
    {
     "name": "stdout",
     "output_type": "stream",
     "text": [
      "Epoch 127/200\n",
      "46/46 [==============================] - 3s 73ms/step - loss: 0.6995 - accuracy: 0.6062 - val_loss: 0.6767 - val_accuracy: 0.6132\n",
      "Epoch 128/200\n"
     ]
    },
    {
     "data": {
      "application/vnd.jupyter.widget-view+json": {
       "model_id": "7b906123ac91494eab063063e1c5351a",
       "version_major": 2,
       "version_minor": 0
      },
      "text/plain": [
       "0/46           ETA: ?s - "
      ]
     },
     "metadata": {},
     "output_type": "display_data"
    },
    {
     "name": "stdout",
     "output_type": "stream",
     "text": [
      "Epoch 128/200\n",
      "46/46 [==============================] - 3s 72ms/step - loss: 0.6819 - accuracy: 0.6191 - val_loss: 0.7503 - val_accuracy: 0.5853\n",
      "Epoch 129/200\n"
     ]
    },
    {
     "data": {
      "application/vnd.jupyter.widget-view+json": {
       "model_id": "b05810547b764f72b61bef8521267182",
       "version_major": 2,
       "version_minor": 0
      },
      "text/plain": [
       "0/46           ETA: ?s - "
      ]
     },
     "metadata": {},
     "output_type": "display_data"
    },
    {
     "name": "stdout",
     "output_type": "stream",
     "text": [
      "Epoch 129/200\n",
      "46/46 [==============================] - 3s 73ms/step - loss: 0.7054 - accuracy: 0.5997 - val_loss: 0.7968 - val_accuracy: 0.5738\n",
      "Epoch 130/200\n"
     ]
    },
    {
     "data": {
      "application/vnd.jupyter.widget-view+json": {
       "model_id": "33e6ddd801da47ff8aa41e6787e68cc7",
       "version_major": 2,
       "version_minor": 0
      },
      "text/plain": [
       "0/46           ETA: ?s - "
      ]
     },
     "metadata": {},
     "output_type": "display_data"
    },
    {
     "name": "stdout",
     "output_type": "stream",
     "text": [
      "Epoch 130/200\n",
      "46/46 [==============================] - 3s 73ms/step - loss: 0.6983 - accuracy: 0.6154 - val_loss: 0.7450 - val_accuracy: 0.5921\n",
      "Epoch 131/200\n"
     ]
    },
    {
     "data": {
      "application/vnd.jupyter.widget-view+json": {
       "model_id": "e06ab3eeab5947d290fa5f47bcb4e191",
       "version_major": 2,
       "version_minor": 0
      },
      "text/plain": [
       "0/46           ETA: ?s - "
      ]
     },
     "metadata": {},
     "output_type": "display_data"
    },
    {
     "name": "stdout",
     "output_type": "stream",
     "text": [
      "Epoch 131/200\n",
      "46/46 [==============================] - 3s 73ms/step - loss: 0.7029 - accuracy: 0.6113 - val_loss: 0.8230 - val_accuracy: 0.5690\n",
      "Epoch 132/200\n"
     ]
    },
    {
     "data": {
      "application/vnd.jupyter.widget-view+json": {
       "model_id": "00b64033983148f4a360f09edce64267",
       "version_major": 2,
       "version_minor": 0
      },
      "text/plain": [
       "0/46           ETA: ?s - "
      ]
     },
     "metadata": {},
     "output_type": "display_data"
    },
    {
     "name": "stdout",
     "output_type": "stream",
     "text": [
      "Epoch 132/200\n",
      "46/46 [==============================] - 3s 72ms/step - loss: 0.6986 - accuracy: 0.6111 - val_loss: 0.6777 - val_accuracy: 0.6159\n",
      "Epoch 133/200\n"
     ]
    },
    {
     "data": {
      "application/vnd.jupyter.widget-view+json": {
       "model_id": "cedfc869a85142b687daf3b2c545b1ce",
       "version_major": 2,
       "version_minor": 0
      },
      "text/plain": [
       "0/46           ETA: ?s - "
      ]
     },
     "metadata": {},
     "output_type": "display_data"
    },
    {
     "name": "stdout",
     "output_type": "stream",
     "text": [
      "Epoch 133/200\n",
      "46/46 [==============================] - 3s 73ms/step - loss: 0.6977 - accuracy: 0.6087 - val_loss: 0.7062 - val_accuracy: 0.6105\n",
      "Epoch 134/200\n"
     ]
    },
    {
     "data": {
      "application/vnd.jupyter.widget-view+json": {
       "model_id": "3f663fe09a3a45cb97d663c0cfab18f5",
       "version_major": 2,
       "version_minor": 0
      },
      "text/plain": [
       "0/46           ETA: ?s - "
      ]
     },
     "metadata": {},
     "output_type": "display_data"
    },
    {
     "name": "stdout",
     "output_type": "stream",
     "text": [
      "Epoch 134/200\n",
      "46/46 [==============================] - 3s 72ms/step - loss: 0.6752 - accuracy: 0.6172 - val_loss: 0.6728 - val_accuracy: 0.6145\n",
      "Epoch 135/200\n"
     ]
    },
    {
     "data": {
      "application/vnd.jupyter.widget-view+json": {
       "model_id": "7eb69112e9f04f4395021d2aeb65b23f",
       "version_major": 2,
       "version_minor": 0
      },
      "text/plain": [
       "0/46           ETA: ?s - "
      ]
     },
     "metadata": {},
     "output_type": "display_data"
    },
    {
     "name": "stdout",
     "output_type": "stream",
     "text": [
      "Epoch 135/200\n",
      "46/46 [==============================] - 3s 72ms/step - loss: 0.6772 - accuracy: 0.6217 - val_loss: 0.7182 - val_accuracy: 0.6098\n",
      "Epoch 136/200\n"
     ]
    },
    {
     "data": {
      "application/vnd.jupyter.widget-view+json": {
       "model_id": "0f0acc08e9e84d4fb6e544da1a51ee12",
       "version_major": 2,
       "version_minor": 0
      },
      "text/plain": [
       "0/46           ETA: ?s - "
      ]
     },
     "metadata": {},
     "output_type": "display_data"
    },
    {
     "name": "stdout",
     "output_type": "stream",
     "text": [
      "Epoch 136/200\n",
      "46/46 [==============================] - 3s 74ms/step - loss: 0.6940 - accuracy: 0.6101 - val_loss: 0.7074 - val_accuracy: 0.6037\n",
      "Epoch 137/200\n"
     ]
    },
    {
     "data": {
      "application/vnd.jupyter.widget-view+json": {
       "model_id": "0d59ab31c1a043c29910a6ea35eeaadc",
       "version_major": 2,
       "version_minor": 0
      },
      "text/plain": [
       "0/46           ETA: ?s - "
      ]
     },
     "metadata": {},
     "output_type": "display_data"
    },
    {
     "name": "stdout",
     "output_type": "stream",
     "text": [
      "Epoch 137/200\n",
      "46/46 [==============================] - 3s 72ms/step - loss: 0.6857 - accuracy: 0.6149 - val_loss: 0.7156 - val_accuracy: 0.6057\n",
      "Epoch 138/200\n"
     ]
    },
    {
     "data": {
      "application/vnd.jupyter.widget-view+json": {
       "model_id": "73a5bf70315b49b2812cb51adbf0ea06",
       "version_major": 2,
       "version_minor": 0
      },
      "text/plain": [
       "0/46           ETA: ?s - "
      ]
     },
     "metadata": {},
     "output_type": "display_data"
    },
    {
     "name": "stdout",
     "output_type": "stream",
     "text": [
      "Epoch 138/200\n",
      "46/46 [==============================] - 3s 73ms/step - loss: 0.8756 - accuracy: 0.5604 - val_loss: 4.6728 - val_accuracy: 0.2230\n",
      "Epoch 139/200\n"
     ]
    },
    {
     "data": {
      "application/vnd.jupyter.widget-view+json": {
       "model_id": "c49df65be1c2472dbd0ef3cc28149674",
       "version_major": 2,
       "version_minor": 0
      },
      "text/plain": [
       "0/46           ETA: ?s - "
      ]
     },
     "metadata": {},
     "output_type": "display_data"
    },
    {
     "name": "stdout",
     "output_type": "stream",
     "text": [
      "Epoch 139/200\n",
      "46/46 [==============================] - 3s 73ms/step - loss: 1.0271 - accuracy: 0.5079 - val_loss: 1.9191 - val_accuracy: 0.4126\n",
      "Epoch 140/200\n"
     ]
    },
    {
     "data": {
      "application/vnd.jupyter.widget-view+json": {
       "model_id": "d088e2178c81437f9c2b1c72d7fbdcc1",
       "version_major": 2,
       "version_minor": 0
      },
      "text/plain": [
       "0/46           ETA: ?s - "
      ]
     },
     "metadata": {},
     "output_type": "display_data"
    },
    {
     "name": "stdout",
     "output_type": "stream",
     "text": [
      "Epoch 140/200\n",
      "46/46 [==============================] - 3s 74ms/step - loss: 1.6772 - accuracy: 0.3795 - val_loss: 3.0389 - val_accuracy: 0.2556\n",
      "Epoch 141/200\n"
     ]
    },
    {
     "data": {
      "application/vnd.jupyter.widget-view+json": {
       "model_id": "1ec41c3e11824be3b4c3815a8e00e048",
       "version_major": 2,
       "version_minor": 0
      },
      "text/plain": [
       "0/46           ETA: ?s - "
      ]
     },
     "metadata": {},
     "output_type": "display_data"
    },
    {
     "name": "stdout",
     "output_type": "stream",
     "text": [
      "Epoch 141/200\n",
      "46/46 [==============================] - 3s 72ms/step - loss: 0.9787 - accuracy: 0.4974 - val_loss: 0.9526 - val_accuracy: 0.5309\n",
      "Epoch 142/200\n"
     ]
    },
    {
     "data": {
      "application/vnd.jupyter.widget-view+json": {
       "model_id": "3bed831da4ec44b08d3744eab9201974",
       "version_major": 2,
       "version_minor": 0
      },
      "text/plain": [
       "0/46           ETA: ?s - "
      ]
     },
     "metadata": {},
     "output_type": "display_data"
    },
    {
     "name": "stdout",
     "output_type": "stream",
     "text": [
      "Epoch 142/200\n",
      "46/46 [==============================] - 3s 72ms/step - loss: 0.8937 - accuracy: 0.5358 - val_loss: 1.0799 - val_accuracy: 0.4609\n",
      "Epoch 143/200\n"
     ]
    },
    {
     "data": {
      "application/vnd.jupyter.widget-view+json": {
       "model_id": "6271bf1f4c9b415bb9eb3e068ff8d618",
       "version_major": 2,
       "version_minor": 0
      },
      "text/plain": [
       "0/46           ETA: ?s - "
      ]
     },
     "metadata": {},
     "output_type": "display_data"
    },
    {
     "name": "stdout",
     "output_type": "stream",
     "text": [
      "Epoch 143/200\n",
      "46/46 [==============================] - 3s 72ms/step - loss: 0.8520 - accuracy: 0.5569 - val_loss: 0.9202 - val_accuracy: 0.5167\n",
      "Epoch 144/200\n"
     ]
    },
    {
     "data": {
      "application/vnd.jupyter.widget-view+json": {
       "model_id": "58d20fdf24814370a5a41de69a4ba764",
       "version_major": 2,
       "version_minor": 0
      },
      "text/plain": [
       "0/46           ETA: ?s - "
      ]
     },
     "metadata": {},
     "output_type": "display_data"
    },
    {
     "name": "stdout",
     "output_type": "stream",
     "text": [
      "Epoch 144/200\n",
      "46/46 [==============================] - 3s 72ms/step - loss: 0.8454 - accuracy: 0.5587 - val_loss: 0.8887 - val_accuracy: 0.5520\n",
      "Epoch 145/200\n"
     ]
    },
    {
     "data": {
      "application/vnd.jupyter.widget-view+json": {
       "model_id": "11875ff82c3d4f499c282e15e0ac3c4b",
       "version_major": 2,
       "version_minor": 0
      },
      "text/plain": [
       "0/46           ETA: ?s - "
      ]
     },
     "metadata": {},
     "output_type": "display_data"
    },
    {
     "name": "stdout",
     "output_type": "stream",
     "text": [
      "Epoch 145/200\n",
      "46/46 [==============================] - 3s 74ms/step - loss: 0.8201 - accuracy: 0.5729 - val_loss: 0.7966 - val_accuracy: 0.5697\n",
      "Epoch 146/200\n"
     ]
    },
    {
     "data": {
      "application/vnd.jupyter.widget-view+json": {
       "model_id": "5f682061dffd421f8d691d85124e203c",
       "version_major": 2,
       "version_minor": 0
      },
      "text/plain": [
       "0/46           ETA: ?s - "
      ]
     },
     "metadata": {},
     "output_type": "display_data"
    },
    {
     "name": "stdout",
     "output_type": "stream",
     "text": [
      "Epoch 146/200\n",
      "46/46 [==============================] - 3s 73ms/step - loss: 0.7801 - accuracy: 0.5800 - val_loss: 0.7760 - val_accuracy: 0.5785\n",
      "Epoch 147/200\n"
     ]
    },
    {
     "data": {
      "application/vnd.jupyter.widget-view+json": {
       "model_id": "18d8da8593ac4f92ad5e2f0cdc674b44",
       "version_major": 2,
       "version_minor": 0
      },
      "text/plain": [
       "0/46           ETA: ?s - "
      ]
     },
     "metadata": {},
     "output_type": "display_data"
    },
    {
     "name": "stdout",
     "output_type": "stream",
     "text": [
      "Epoch 147/200\n",
      "46/46 [==============================] - 3s 72ms/step - loss: 0.8211 - accuracy: 0.5596 - val_loss: 0.7495 - val_accuracy: 0.5744\n",
      "Epoch 148/200\n"
     ]
    },
    {
     "data": {
      "application/vnd.jupyter.widget-view+json": {
       "model_id": "c7b46626bc8045cd9b5b872afaa59f83",
       "version_major": 2,
       "version_minor": 0
      },
      "text/plain": [
       "0/46           ETA: ?s - "
      ]
     },
     "metadata": {},
     "output_type": "display_data"
    },
    {
     "name": "stdout",
     "output_type": "stream",
     "text": [
      "Epoch 148/200\n",
      "46/46 [==============================] - 3s 72ms/step - loss: 0.7642 - accuracy: 0.5790 - val_loss: 0.8073 - val_accuracy: 0.5493\n",
      "Epoch 149/200\n"
     ]
    },
    {
     "data": {
      "application/vnd.jupyter.widget-view+json": {
       "model_id": "f24ffc1a1f0741cda944a2ac3715b438",
       "version_major": 2,
       "version_minor": 0
      },
      "text/plain": [
       "0/46           ETA: ?s - "
      ]
     },
     "metadata": {},
     "output_type": "display_data"
    },
    {
     "name": "stdout",
     "output_type": "stream",
     "text": [
      "Epoch 149/200\n",
      "46/46 [==============================] - 3s 70ms/step - loss: 0.7605 - accuracy: 0.5831 - val_loss: 0.7963 - val_accuracy: 0.5901\n",
      "Epoch 150/200\n"
     ]
    },
    {
     "data": {
      "application/vnd.jupyter.widget-view+json": {
       "model_id": "122e535a4a4f4ed28131be773f050292",
       "version_major": 2,
       "version_minor": 0
      },
      "text/plain": [
       "0/46           ETA: ?s - "
      ]
     },
     "metadata": {},
     "output_type": "display_data"
    },
    {
     "name": "stdout",
     "output_type": "stream",
     "text": [
      "Epoch 150/200\n",
      "46/46 [==============================] - 3s 70ms/step - loss: 0.7876 - accuracy: 0.5832 - val_loss: 0.7571 - val_accuracy: 0.5962\n",
      "Epoch 151/200\n"
     ]
    },
    {
     "data": {
      "application/vnd.jupyter.widget-view+json": {
       "model_id": "4b1060ce1e4d47a2b743fb7cda41966c",
       "version_major": 2,
       "version_minor": 0
      },
      "text/plain": [
       "0/46           ETA: ?s - "
      ]
     },
     "metadata": {},
     "output_type": "display_data"
    },
    {
     "name": "stdout",
     "output_type": "stream",
     "text": [
      "Epoch 151/200\n",
      "46/46 [==============================] - 3s 71ms/step - loss: 0.7414 - accuracy: 0.5931 - val_loss: 0.7138 - val_accuracy: 0.6010\n",
      "Epoch 152/200\n"
     ]
    },
    {
     "data": {
      "application/vnd.jupyter.widget-view+json": {
       "model_id": "64162c68245b4985a9492864ab24b40e",
       "version_major": 2,
       "version_minor": 0
      },
      "text/plain": [
       "0/46           ETA: ?s - "
      ]
     },
     "metadata": {},
     "output_type": "display_data"
    },
    {
     "name": "stdout",
     "output_type": "stream",
     "text": [
      "Epoch 152/200\n",
      "46/46 [==============================] - 3s 70ms/step - loss: 0.7301 - accuracy: 0.6013 - val_loss: 0.7481 - val_accuracy: 0.5948\n",
      "Epoch 153/200\n"
     ]
    },
    {
     "data": {
      "application/vnd.jupyter.widget-view+json": {
       "model_id": "e0e08183e7444e42803b79cbcbf8d33d",
       "version_major": 2,
       "version_minor": 0
      },
      "text/plain": [
       "0/46           ETA: ?s - "
      ]
     },
     "metadata": {},
     "output_type": "display_data"
    },
    {
     "name": "stdout",
     "output_type": "stream",
     "text": [
      "Epoch 153/200\n",
      "46/46 [==============================] - 3s 70ms/step - loss: 0.9751 - accuracy: 0.5394 - val_loss: 1.2246 - val_accuracy: 0.3719\n",
      "Epoch 154/200\n"
     ]
    },
    {
     "data": {
      "application/vnd.jupyter.widget-view+json": {
       "model_id": "570eca7b9c284464864ee17721b77a77",
       "version_major": 2,
       "version_minor": 0
      },
      "text/plain": [
       "0/46           ETA: ?s - "
      ]
     },
     "metadata": {},
     "output_type": "display_data"
    },
    {
     "name": "stdout",
     "output_type": "stream",
     "text": [
      "Epoch 154/200\n",
      "46/46 [==============================] - 3s 70ms/step - loss: 0.7709 - accuracy: 0.5854 - val_loss: 0.7198 - val_accuracy: 0.5880\n",
      "Epoch 155/200\n"
     ]
    },
    {
     "data": {
      "application/vnd.jupyter.widget-view+json": {
       "model_id": "6ad8d2ed42b64ec6b2be7c334782deeb",
       "version_major": 2,
       "version_minor": 0
      },
      "text/plain": [
       "0/46           ETA: ?s - "
      ]
     },
     "metadata": {},
     "output_type": "display_data"
    },
    {
     "name": "stdout",
     "output_type": "stream",
     "text": [
      "Epoch 155/200\n",
      "46/46 [==============================] - 3s 72ms/step - loss: 0.7207 - accuracy: 0.6089 - val_loss: 0.7122 - val_accuracy: 0.6166\n",
      "Epoch 156/200\n"
     ]
    },
    {
     "data": {
      "application/vnd.jupyter.widget-view+json": {
       "model_id": "2cc4ce0700cf4cc3b60a95585068c241",
       "version_major": 2,
       "version_minor": 0
      },
      "text/plain": [
       "0/46           ETA: ?s - "
      ]
     },
     "metadata": {},
     "output_type": "display_data"
    },
    {
     "name": "stdout",
     "output_type": "stream",
     "text": [
      "Epoch 156/200\n",
      "46/46 [==============================] - 3s 72ms/step - loss: 0.8288 - accuracy: 0.5523 - val_loss: 0.7285 - val_accuracy: 0.5840\n",
      "Epoch 157/200\n"
     ]
    },
    {
     "data": {
      "application/vnd.jupyter.widget-view+json": {
       "model_id": "9f2abb83721b41a2aa97daf0b3e6226b",
       "version_major": 2,
       "version_minor": 0
      },
      "text/plain": [
       "0/46           ETA: ?s - "
      ]
     },
     "metadata": {},
     "output_type": "display_data"
    },
    {
     "name": "stdout",
     "output_type": "stream",
     "text": [
      "Epoch 157/200\n",
      "46/46 [==============================] - 3s 71ms/step - loss: 0.7157 - accuracy: 0.6167 - val_loss: 0.7047 - val_accuracy: 0.6179\n",
      "Epoch 158/200\n"
     ]
    },
    {
     "data": {
      "application/vnd.jupyter.widget-view+json": {
       "model_id": "6ba3b0fd35a5434dbe185a456ecc388c",
       "version_major": 2,
       "version_minor": 0
      },
      "text/plain": [
       "0/46           ETA: ?s - "
      ]
     },
     "metadata": {},
     "output_type": "display_data"
    },
    {
     "name": "stdout",
     "output_type": "stream",
     "text": [
      "Epoch 158/200\n",
      "46/46 [==============================] - 3s 71ms/step - loss: 0.7087 - accuracy: 0.6138 - val_loss: 0.7042 - val_accuracy: 0.6044\n",
      "Epoch 159/200\n"
     ]
    },
    {
     "data": {
      "application/vnd.jupyter.widget-view+json": {
       "model_id": "554f2af3a0ba407f8c2c99943168271f",
       "version_major": 2,
       "version_minor": 0
      },
      "text/plain": [
       "0/46           ETA: ?s - "
      ]
     },
     "metadata": {},
     "output_type": "display_data"
    },
    {
     "name": "stdout",
     "output_type": "stream",
     "text": [
      "Epoch 159/200\n",
      "46/46 [==============================] - 3s 71ms/step - loss: 0.6970 - accuracy: 0.6128 - val_loss: 0.7083 - val_accuracy: 0.6193\n",
      "Epoch 160/200\n"
     ]
    },
    {
     "data": {
      "application/vnd.jupyter.widget-view+json": {
       "model_id": "e77536d9d01d468c8b6904882acf4001",
       "version_major": 2,
       "version_minor": 0
      },
      "text/plain": [
       "0/46           ETA: ?s - "
      ]
     },
     "metadata": {},
     "output_type": "display_data"
    },
    {
     "name": "stdout",
     "output_type": "stream",
     "text": [
      "Epoch 160/200\n",
      "46/46 [==============================] - 3s 71ms/step - loss: 0.6869 - accuracy: 0.6174 - val_loss: 0.7183 - val_accuracy: 0.6105\n",
      "Epoch 161/200\n"
     ]
    },
    {
     "data": {
      "application/vnd.jupyter.widget-view+json": {
       "model_id": "dc28b88d792140bd839282fa3d1ac2b0",
       "version_major": 2,
       "version_minor": 0
      },
      "text/plain": [
       "0/46           ETA: ?s - "
      ]
     },
     "metadata": {},
     "output_type": "display_data"
    },
    {
     "name": "stdout",
     "output_type": "stream",
     "text": [
      "Epoch 161/200\n",
      "46/46 [==============================] - 3s 71ms/step - loss: 0.6794 - accuracy: 0.6181 - val_loss: 0.7032 - val_accuracy: 0.6111\n",
      "Epoch 162/200\n"
     ]
    },
    {
     "data": {
      "application/vnd.jupyter.widget-view+json": {
       "model_id": "072e5b2920a64458be7ee8f37bb7de6e",
       "version_major": 2,
       "version_minor": 0
      },
      "text/plain": [
       "0/46           ETA: ?s - "
      ]
     },
     "metadata": {},
     "output_type": "display_data"
    },
    {
     "name": "stdout",
     "output_type": "stream",
     "text": [
      "Epoch 162/200\n",
      "46/46 [==============================] - 3s 72ms/step - loss: 0.6924 - accuracy: 0.6130 - val_loss: 0.7055 - val_accuracy: 0.6234\n",
      "Epoch 163/200\n"
     ]
    },
    {
     "data": {
      "application/vnd.jupyter.widget-view+json": {
       "model_id": "8ecdb89b9d7a4dbd91b5d14d3c370a55",
       "version_major": 2,
       "version_minor": 0
      },
      "text/plain": [
       "0/46           ETA: ?s - "
      ]
     },
     "metadata": {},
     "output_type": "display_data"
    },
    {
     "name": "stdout",
     "output_type": "stream",
     "text": [
      "Epoch 163/200\n",
      "46/46 [==============================] - 3s 70ms/step - loss: 0.6990 - accuracy: 0.6072 - val_loss: 0.6997 - val_accuracy: 0.6071\n",
      "Epoch 164/200\n"
     ]
    },
    {
     "data": {
      "application/vnd.jupyter.widget-view+json": {
       "model_id": "5aad0620eb24416ab76bf7c215a23365",
       "version_major": 2,
       "version_minor": 0
      },
      "text/plain": [
       "0/46           ETA: ?s - "
      ]
     },
     "metadata": {},
     "output_type": "display_data"
    },
    {
     "name": "stdout",
     "output_type": "stream",
     "text": [
      "Epoch 164/200\n",
      "46/46 [==============================] - 3s 71ms/step - loss: 0.7098 - accuracy: 0.6099 - val_loss: 0.6796 - val_accuracy: 0.6295\n",
      "Epoch 165/200\n"
     ]
    },
    {
     "data": {
      "application/vnd.jupyter.widget-view+json": {
       "model_id": "b713d32cccca40998ab521d165c7d55f",
       "version_major": 2,
       "version_minor": 0
      },
      "text/plain": [
       "0/46           ETA: ?s - "
      ]
     },
     "metadata": {},
     "output_type": "display_data"
    },
    {
     "name": "stdout",
     "output_type": "stream",
     "text": [
      "Epoch 165/200\n",
      "46/46 [==============================] - 3s 71ms/step - loss: 0.6817 - accuracy: 0.6103 - val_loss: 0.6828 - val_accuracy: 0.6139\n",
      "Epoch 166/200\n"
     ]
    },
    {
     "data": {
      "application/vnd.jupyter.widget-view+json": {
       "model_id": "0ca09176ebd045219759fad5b274b717",
       "version_major": 2,
       "version_minor": 0
      },
      "text/plain": [
       "0/46           ETA: ?s - "
      ]
     },
     "metadata": {},
     "output_type": "display_data"
    },
    {
     "name": "stdout",
     "output_type": "stream",
     "text": [
      "Epoch 166/200\n",
      "46/46 [==============================] - 3s 71ms/step - loss: 0.6845 - accuracy: 0.6140 - val_loss: 0.7155 - val_accuracy: 0.6111\n",
      "Epoch 167/200\n"
     ]
    },
    {
     "data": {
      "application/vnd.jupyter.widget-view+json": {
       "model_id": "34d6ef6661724e63b8c59d82a1a40e14",
       "version_major": 2,
       "version_minor": 0
      },
      "text/plain": [
       "0/46           ETA: ?s - "
      ]
     },
     "metadata": {},
     "output_type": "display_data"
    },
    {
     "name": "stdout",
     "output_type": "stream",
     "text": [
      "Epoch 167/200\n",
      "46/46 [==============================] - 3s 72ms/step - loss: 0.6735 - accuracy: 0.6212 - val_loss: 0.7370 - val_accuracy: 0.5989\n",
      "Epoch 168/200\n"
     ]
    },
    {
     "data": {
      "application/vnd.jupyter.widget-view+json": {
       "model_id": "afa777f8bf364318a40e4d0048584640",
       "version_major": 2,
       "version_minor": 0
      },
      "text/plain": [
       "0/46           ETA: ?s - "
      ]
     },
     "metadata": {},
     "output_type": "display_data"
    },
    {
     "name": "stdout",
     "output_type": "stream",
     "text": [
      "Epoch 168/200\n",
      "46/46 [==============================] - 3s 71ms/step - loss: 0.6981 - accuracy: 0.6145 - val_loss: 0.8260 - val_accuracy: 0.5846\n",
      "Epoch 169/200\n"
     ]
    },
    {
     "data": {
      "application/vnd.jupyter.widget-view+json": {
       "model_id": "2e8a1794bd2549c589437bcb8b78ab34",
       "version_major": 2,
       "version_minor": 0
      },
      "text/plain": [
       "0/46           ETA: ?s - "
      ]
     },
     "metadata": {},
     "output_type": "display_data"
    },
    {
     "name": "stdout",
     "output_type": "stream",
     "text": [
      "Epoch 169/200\n",
      "46/46 [==============================] - 3s 70ms/step - loss: 1.0661 - accuracy: 0.4919 - val_loss: 2.7706 - val_accuracy: 0.2910\n",
      "Epoch 170/200\n"
     ]
    },
    {
     "data": {
      "application/vnd.jupyter.widget-view+json": {
       "model_id": "ed790dcf7d0d41d68a48a0de1df3ab97",
       "version_major": 2,
       "version_minor": 0
      },
      "text/plain": [
       "0/46           ETA: ?s - "
      ]
     },
     "metadata": {},
     "output_type": "display_data"
    },
    {
     "name": "stdout",
     "output_type": "stream",
     "text": [
      "Epoch 170/200\n",
      "46/46 [==============================] - 3s 70ms/step - loss: 0.9784 - accuracy: 0.5094 - val_loss: 0.9699 - val_accuracy: 0.5282\n",
      "Epoch 171/200\n"
     ]
    },
    {
     "data": {
      "application/vnd.jupyter.widget-view+json": {
       "model_id": "1fe55b15c6944aed92a475d44c494b17",
       "version_major": 2,
       "version_minor": 0
      },
      "text/plain": [
       "0/46           ETA: ?s - "
      ]
     },
     "metadata": {},
     "output_type": "display_data"
    },
    {
     "name": "stdout",
     "output_type": "stream",
     "text": [
      "Epoch 171/200\n",
      "46/46 [==============================] - 3s 71ms/step - loss: 0.8121 - accuracy: 0.5565 - val_loss: 0.7542 - val_accuracy: 0.5914\n",
      "Epoch 172/200\n"
     ]
    },
    {
     "data": {
      "application/vnd.jupyter.widget-view+json": {
       "model_id": "93ad39ae7199458ab55389f5e3f6ff11",
       "version_major": 2,
       "version_minor": 0
      },
      "text/plain": [
       "0/46           ETA: ?s - "
      ]
     },
     "metadata": {},
     "output_type": "display_data"
    },
    {
     "name": "stdout",
     "output_type": "stream",
     "text": [
      "Epoch 172/200\n",
      "46/46 [==============================] - 3s 71ms/step - loss: 0.7816 - accuracy: 0.5746 - val_loss: 0.7578 - val_accuracy: 0.5948\n",
      "Epoch 173/200\n"
     ]
    },
    {
     "data": {
      "application/vnd.jupyter.widget-view+json": {
       "model_id": "8c0b5e527c8f4155b7091a1e6d98f6f6",
       "version_major": 2,
       "version_minor": 0
      },
      "text/plain": [
       "0/46           ETA: ?s - "
      ]
     },
     "metadata": {},
     "output_type": "display_data"
    },
    {
     "name": "stdout",
     "output_type": "stream",
     "text": [
      "Epoch 173/200\n",
      "46/46 [==============================] - 3s 71ms/step - loss: 0.7568 - accuracy: 0.5861 - val_loss: 0.7394 - val_accuracy: 0.5860\n",
      "Epoch 174/200\n"
     ]
    },
    {
     "data": {
      "application/vnd.jupyter.widget-view+json": {
       "model_id": "d510a71774a44135a6b181476459ae54",
       "version_major": 2,
       "version_minor": 0
      },
      "text/plain": [
       "0/46           ETA: ?s - "
      ]
     },
     "metadata": {},
     "output_type": "display_data"
    },
    {
     "name": "stdout",
     "output_type": "stream",
     "text": [
      "Epoch 174/200\n",
      "46/46 [==============================] - 3s 71ms/step - loss: 0.7496 - accuracy: 0.5897 - val_loss: 0.7857 - val_accuracy: 0.5785\n",
      "Epoch 175/200\n"
     ]
    },
    {
     "data": {
      "application/vnd.jupyter.widget-view+json": {
       "model_id": "bebf9fffbca1427ca80388b7847785fb",
       "version_major": 2,
       "version_minor": 0
      },
      "text/plain": [
       "0/46           ETA: ?s - "
      ]
     },
     "metadata": {},
     "output_type": "display_data"
    },
    {
     "name": "stdout",
     "output_type": "stream",
     "text": [
      "Epoch 175/200\n",
      "46/46 [==============================] - 3s 70ms/step - loss: 0.7334 - accuracy: 0.5999 - val_loss: 0.7390 - val_accuracy: 0.5996\n",
      "Epoch 176/200\n"
     ]
    },
    {
     "data": {
      "application/vnd.jupyter.widget-view+json": {
       "model_id": "1ad78dae5e53401ab0f3c3d84f1b815d",
       "version_major": 2,
       "version_minor": 0
      },
      "text/plain": [
       "0/46           ETA: ?s - "
      ]
     },
     "metadata": {},
     "output_type": "display_data"
    },
    {
     "name": "stdout",
     "output_type": "stream",
     "text": [
      "Epoch 176/200\n",
      "46/46 [==============================] - 3s 70ms/step - loss: 0.7159 - accuracy: 0.6013 - val_loss: 0.6956 - val_accuracy: 0.6071\n",
      "Epoch 177/200\n"
     ]
    },
    {
     "data": {
      "application/vnd.jupyter.widget-view+json": {
       "model_id": "3a4b3ff879404c61943c69882337db41",
       "version_major": 2,
       "version_minor": 0
      },
      "text/plain": [
       "0/46           ETA: ?s - "
      ]
     },
     "metadata": {},
     "output_type": "display_data"
    },
    {
     "name": "stdout",
     "output_type": "stream",
     "text": [
      "Epoch 177/200\n",
      "46/46 [==============================] - 3s 71ms/step - loss: 0.7174 - accuracy: 0.5965 - val_loss: 0.7218 - val_accuracy: 0.5914\n",
      "Epoch 178/200\n"
     ]
    },
    {
     "data": {
      "application/vnd.jupyter.widget-view+json": {
       "model_id": "af17d65f5591404abe9da19c67834923",
       "version_major": 2,
       "version_minor": 0
      },
      "text/plain": [
       "0/46           ETA: ?s - "
      ]
     },
     "metadata": {},
     "output_type": "display_data"
    },
    {
     "name": "stdout",
     "output_type": "stream",
     "text": [
      "Epoch 178/200\n",
      "46/46 [==============================] - 3s 70ms/step - loss: 0.7131 - accuracy: 0.6053 - val_loss: 0.6984 - val_accuracy: 0.6023\n",
      "Epoch 179/200\n"
     ]
    },
    {
     "data": {
      "application/vnd.jupyter.widget-view+json": {
       "model_id": "14255e46403b447fa552e9b9647cc7b2",
       "version_major": 2,
       "version_minor": 0
      },
      "text/plain": [
       "0/46           ETA: ?s - "
      ]
     },
     "metadata": {},
     "output_type": "display_data"
    },
    {
     "name": "stdout",
     "output_type": "stream",
     "text": [
      "Epoch 179/200\n",
      "46/46 [==============================] - 3s 71ms/step - loss: 0.7123 - accuracy: 0.6023 - val_loss: 0.6994 - val_accuracy: 0.6010\n",
      "Epoch 180/200\n"
     ]
    },
    {
     "data": {
      "application/vnd.jupyter.widget-view+json": {
       "model_id": "91e3399c5dad415a9a298d4752f5baa3",
       "version_major": 2,
       "version_minor": 0
      },
      "text/plain": [
       "0/46           ETA: ?s - "
      ]
     },
     "metadata": {},
     "output_type": "display_data"
    },
    {
     "name": "stdout",
     "output_type": "stream",
     "text": [
      "Epoch 180/200\n",
      "46/46 [==============================] - 3s 70ms/step - loss: 0.8385 - accuracy: 0.5536 - val_loss: 0.8798 - val_accuracy: 0.5574\n",
      "Epoch 181/200\n"
     ]
    },
    {
     "data": {
      "application/vnd.jupyter.widget-view+json": {
       "model_id": "f87383b2c595417ba4d39df3da3befc4",
       "version_major": 2,
       "version_minor": 0
      },
      "text/plain": [
       "0/46           ETA: ?s - "
      ]
     },
     "metadata": {},
     "output_type": "display_data"
    },
    {
     "name": "stdout",
     "output_type": "stream",
     "text": [
      "Epoch 181/200\n",
      "46/46 [==============================] - 3s 72ms/step - loss: 0.7901 - accuracy: 0.5769 - val_loss: 0.7681 - val_accuracy: 0.5806\n",
      "Epoch 182/200\n"
     ]
    },
    {
     "data": {
      "application/vnd.jupyter.widget-view+json": {
       "model_id": "799c98f2768640dfac5d27093b54847b",
       "version_major": 2,
       "version_minor": 0
      },
      "text/plain": [
       "0/46           ETA: ?s - "
      ]
     },
     "metadata": {},
     "output_type": "display_data"
    },
    {
     "name": "stdout",
     "output_type": "stream",
     "text": [
      "Epoch 182/200\n",
      "46/46 [==============================] - 3s 70ms/step - loss: 0.7605 - accuracy: 0.5888 - val_loss: 0.7388 - val_accuracy: 0.5942\n",
      "Epoch 183/200\n"
     ]
    },
    {
     "data": {
      "application/vnd.jupyter.widget-view+json": {
       "model_id": "06858ee634094b438b23f7f91be27e8d",
       "version_major": 2,
       "version_minor": 0
      },
      "text/plain": [
       "0/46           ETA: ?s - "
      ]
     },
     "metadata": {},
     "output_type": "display_data"
    },
    {
     "name": "stdout",
     "output_type": "stream",
     "text": [
      "Epoch 183/200\n",
      "46/46 [==============================] - 3s 71ms/step - loss: 0.7665 - accuracy: 0.5856 - val_loss: 0.7212 - val_accuracy: 0.6023\n",
      "Epoch 184/200\n"
     ]
    },
    {
     "data": {
      "application/vnd.jupyter.widget-view+json": {
       "model_id": "16db6d0cd5e74461956a743f346d669d",
       "version_major": 2,
       "version_minor": 0
      },
      "text/plain": [
       "0/46           ETA: ?s - "
      ]
     },
     "metadata": {},
     "output_type": "display_data"
    },
    {
     "name": "stdout",
     "output_type": "stream",
     "text": [
      "Epoch 184/200\n",
      "46/46 [==============================] - 3s 70ms/step - loss: 0.7280 - accuracy: 0.5939 - val_loss: 0.7137 - val_accuracy: 0.6105\n",
      "Epoch 185/200\n"
     ]
    },
    {
     "data": {
      "application/vnd.jupyter.widget-view+json": {
       "model_id": "3482ce7dab844afd8da19b14f7bf0fa2",
       "version_major": 2,
       "version_minor": 0
      },
      "text/plain": [
       "0/46           ETA: ?s - "
      ]
     },
     "metadata": {},
     "output_type": "display_data"
    },
    {
     "name": "stdout",
     "output_type": "stream",
     "text": [
      "Epoch 185/200\n",
      "46/46 [==============================] - 3s 71ms/step - loss: 0.7182 - accuracy: 0.5958 - val_loss: 0.7485 - val_accuracy: 0.5819\n",
      "Epoch 186/200\n"
     ]
    },
    {
     "data": {
      "application/vnd.jupyter.widget-view+json": {
       "model_id": "da3fcc8af0314e548ca2056dd10139fb",
       "version_major": 2,
       "version_minor": 0
      },
      "text/plain": [
       "0/46           ETA: ?s - "
      ]
     },
     "metadata": {},
     "output_type": "display_data"
    },
    {
     "name": "stdout",
     "output_type": "stream",
     "text": [
      "Epoch 186/200\n",
      "46/46 [==============================] - 3s 71ms/step - loss: 0.7199 - accuracy: 0.5987 - val_loss: 1.1004 - val_accuracy: 0.5146\n",
      "Epoch 187/200\n"
     ]
    },
    {
     "data": {
      "application/vnd.jupyter.widget-view+json": {
       "model_id": "32b9bc3a57b34152895811c0eb0ec73c",
       "version_major": 2,
       "version_minor": 0
      },
      "text/plain": [
       "0/46           ETA: ?s - "
      ]
     },
     "metadata": {},
     "output_type": "display_data"
    },
    {
     "name": "stdout",
     "output_type": "stream",
     "text": [
      "Epoch 187/200\n",
      "46/46 [==============================] - 3s 71ms/step - loss: 0.7623 - accuracy: 0.5887 - val_loss: 0.8566 - val_accuracy: 0.5432\n",
      "Epoch 188/200\n"
     ]
    },
    {
     "data": {
      "application/vnd.jupyter.widget-view+json": {
       "model_id": "3e986ea87f984339bcfe42a1e2274bb2",
       "version_major": 2,
       "version_minor": 0
      },
      "text/plain": [
       "0/46           ETA: ?s - "
      ]
     },
     "metadata": {},
     "output_type": "display_data"
    },
    {
     "name": "stdout",
     "output_type": "stream",
     "text": [
      "Epoch 188/200\n",
      "46/46 [==============================] - 3s 70ms/step - loss: 0.7193 - accuracy: 0.5960 - val_loss: 0.7048 - val_accuracy: 0.6139\n",
      "Epoch 189/200\n"
     ]
    },
    {
     "data": {
      "application/vnd.jupyter.widget-view+json": {
       "model_id": "750bf9a15bbf442baf941f67ef41c690",
       "version_major": 2,
       "version_minor": 0
      },
      "text/plain": [
       "0/46           ETA: ?s - "
      ]
     },
     "metadata": {},
     "output_type": "display_data"
    },
    {
     "name": "stdout",
     "output_type": "stream",
     "text": [
      "Epoch 189/200\n",
      "46/46 [==============================] - 3s 71ms/step - loss: 0.7362 - accuracy: 0.5970 - val_loss: 1.0681 - val_accuracy: 0.5099\n",
      "Epoch 190/200\n"
     ]
    },
    {
     "data": {
      "application/vnd.jupyter.widget-view+json": {
       "model_id": "2f73c9a4bd6e46e4ac282535df045a9e",
       "version_major": 2,
       "version_minor": 0
      },
      "text/plain": [
       "0/46           ETA: ?s - "
      ]
     },
     "metadata": {},
     "output_type": "display_data"
    },
    {
     "name": "stdout",
     "output_type": "stream",
     "text": [
      "Epoch 190/200\n",
      "46/46 [==============================] - 3s 72ms/step - loss: 1.9629 - accuracy: 0.2901 - val_loss: 4.8659 - val_accuracy: 0.1611\n",
      "Epoch 191/200\n"
     ]
    },
    {
     "data": {
      "application/vnd.jupyter.widget-view+json": {
       "model_id": "134390532fdc4a31ab0b381a4483ac84",
       "version_major": 2,
       "version_minor": 0
      },
      "text/plain": [
       "0/46           ETA: ?s - "
      ]
     },
     "metadata": {},
     "output_type": "display_data"
    },
    {
     "name": "stdout",
     "output_type": "stream",
     "text": [
      "Epoch 191/200\n",
      "46/46 [==============================] - 3s 71ms/step - loss: 1.6529 - accuracy: 0.2950 - val_loss: 3.2353 - val_accuracy: 0.1693\n",
      "Epoch 192/200\n"
     ]
    },
    {
     "data": {
      "application/vnd.jupyter.widget-view+json": {
       "model_id": "c64b22b6685445debb2930f1b44cd492",
       "version_major": 2,
       "version_minor": 0
      },
      "text/plain": [
       "0/46           ETA: ?s - "
      ]
     },
     "metadata": {},
     "output_type": "display_data"
    },
    {
     "name": "stdout",
     "output_type": "stream",
     "text": [
      "Epoch 192/200\n",
      "46/46 [==============================] - 3s 71ms/step - loss: 1.5269 - accuracy: 0.3283 - val_loss: 1.9634 - val_accuracy: 0.1815\n",
      "Epoch 193/200\n"
     ]
    },
    {
     "data": {
      "application/vnd.jupyter.widget-view+json": {
       "model_id": "a8490b73196048f68fadbdfbbe4ac3c2",
       "version_major": 2,
       "version_minor": 0
      },
      "text/plain": [
       "0/46           ETA: ?s - "
      ]
     },
     "metadata": {},
     "output_type": "display_data"
    },
    {
     "name": "stdout",
     "output_type": "stream",
     "text": [
      "Epoch 193/200\n",
      "46/46 [==============================] - 3s 71ms/step - loss: 1.4637 - accuracy: 0.3391 - val_loss: 1.4934 - val_accuracy: 0.3059\n",
      "Epoch 194/200\n"
     ]
    },
    {
     "data": {
      "application/vnd.jupyter.widget-view+json": {
       "model_id": "0dc47b5ef4bf4fc4be63faa4b585e688",
       "version_major": 2,
       "version_minor": 0
      },
      "text/plain": [
       "0/46           ETA: ?s - "
      ]
     },
     "metadata": {},
     "output_type": "display_data"
    },
    {
     "name": "stdout",
     "output_type": "stream",
     "text": [
      "Epoch 194/200\n",
      "46/46 [==============================] - 3s 71ms/step - loss: 1.4134 - accuracy: 0.3261 - val_loss: 1.3816 - val_accuracy: 0.3426\n",
      "Epoch 195/200\n"
     ]
    },
    {
     "data": {
      "application/vnd.jupyter.widget-view+json": {
       "model_id": "51fc7a2028904721b74f2cd6c224ca5e",
       "version_major": 2,
       "version_minor": 0
      },
      "text/plain": [
       "0/46           ETA: ?s - "
      ]
     },
     "metadata": {},
     "output_type": "display_data"
    },
    {
     "name": "stdout",
     "output_type": "stream",
     "text": [
      "Epoch 195/200\n",
      "46/46 [==============================] - 3s 71ms/step - loss: 1.3424 - accuracy: 0.3513 - val_loss: 1.3627 - val_accuracy: 0.3406\n",
      "Epoch 196/200\n"
     ]
    },
    {
     "data": {
      "application/vnd.jupyter.widget-view+json": {
       "model_id": "ec679686f7384d868bab4be57bfb4150",
       "version_major": 2,
       "version_minor": 0
      },
      "text/plain": [
       "0/46           ETA: ?s - "
      ]
     },
     "metadata": {},
     "output_type": "display_data"
    },
    {
     "name": "stdout",
     "output_type": "stream",
     "text": [
      "Epoch 196/200\n",
      "46/46 [==============================] - 3s 71ms/step - loss: 2.1579 - accuracy: 0.1857 - val_loss: 2.6702 - val_accuracy: 0.1564\n",
      "Epoch 197/200\n"
     ]
    },
    {
     "data": {
      "application/vnd.jupyter.widget-view+json": {
       "model_id": "d7505d63ffdf4831846995a5e3ac0c04",
       "version_major": 2,
       "version_minor": 0
      },
      "text/plain": [
       "0/46           ETA: ?s - "
      ]
     },
     "metadata": {},
     "output_type": "display_data"
    },
    {
     "name": "stdout",
     "output_type": "stream",
     "text": [
      "Epoch 197/200\n",
      "46/46 [==============================] - 3s 71ms/step - loss: 1.7917 - accuracy: 0.2739 - val_loss: 1.9361 - val_accuracy: 0.1604\n",
      "Epoch 198/200\n"
     ]
    },
    {
     "data": {
      "application/vnd.jupyter.widget-view+json": {
       "model_id": "9bdcb8dafd394b64b43ca0fb02132156",
       "version_major": 2,
       "version_minor": 0
      },
      "text/plain": [
       "0/46           ETA: ?s - "
      ]
     },
     "metadata": {},
     "output_type": "display_data"
    },
    {
     "name": "stdout",
     "output_type": "stream",
     "text": [
      "Epoch 198/200\n",
      "46/46 [==============================] - 3s 72ms/step - loss: 1.7267 - accuracy: 0.2736 - val_loss: 1.7692 - val_accuracy: 0.1434\n",
      "Epoch 199/200\n"
     ]
    },
    {
     "data": {
      "application/vnd.jupyter.widget-view+json": {
       "model_id": "1e4c8ab0057b4b05acbb08ba2e38d661",
       "version_major": 2,
       "version_minor": 0
      },
      "text/plain": [
       "0/46           ETA: ?s - "
      ]
     },
     "metadata": {},
     "output_type": "display_data"
    },
    {
     "name": "stdout",
     "output_type": "stream",
     "text": [
      "Epoch 199/200\n",
      "46/46 [==============================] - 3s 72ms/step - loss: 1.6978 - accuracy: 0.2809 - val_loss: 1.7043 - val_accuracy: 0.2814\n",
      "Epoch 200/200\n"
     ]
    },
    {
     "data": {
      "application/vnd.jupyter.widget-view+json": {
       "model_id": "598ef1d4813049f5841c55625e5a3552",
       "version_major": 2,
       "version_minor": 0
      },
      "text/plain": [
       "0/46           ETA: ?s - "
      ]
     },
     "metadata": {},
     "output_type": "display_data"
    },
    {
     "name": "stdout",
     "output_type": "stream",
     "text": [
      "Epoch 200/200\n",
      "46/46 [==============================] - 3s 70ms/step - loss: 1.6810 - accuracy: 0.2787 - val_loss: 1.6783 - val_accuracy: 0.2848\n"
     ]
    },
    {
     "data": {
      "text/plain": [
       "<keras.callbacks.History at 0x7f97d4043ac0>"
      ]
     },
     "execution_count": 23,
     "metadata": {},
     "output_type": "execute_result"
    }
   ],
   "source": [
    "#fit model\n",
    "\n",
    "model.fit(x_input, y_input, \n",
    "          epochs=200, \n",
    "          batch_size=128,\n",
    "          validation_data=(x_val, y_val),\n",
    "          callbacks=[tensorboard_callback, tqdm_callback]\n",
    "         )"
   ]
  }
 ],
 "metadata": {
  "kernelspec": {
   "display_name": "Python 3 (ipykernel)",
   "language": "python",
   "name": "python3"
  },
  "language_info": {
   "codemirror_mode": {
    "name": "ipython",
    "version": 3
   },
   "file_extension": ".py",
   "mimetype": "text/x-python",
   "name": "python",
   "nbconvert_exporter": "python",
   "pygments_lexer": "ipython3",
   "version": "3.8.16"
  }
 },
 "nbformat": 4,
 "nbformat_minor": 5
}
