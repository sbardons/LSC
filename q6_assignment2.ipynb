{
 "cells": [
  {
   "cell_type": "code",
   "execution_count": 30,
   "id": "d997315e-9f53-4674-9dd2-87b536574b03",
   "metadata": {},
   "outputs": [],
   "source": [
    "import tensorflow as tf\n",
    "import tensorflow_probability as tfp\n",
    "tfd = tfp.distributions\n",
    "import numpy as np"
   ]
  },
  {
   "cell_type": "markdown",
   "id": "737d190a-3dc9-4fa2-b945-5bea5cb2ce01",
   "metadata": {},
   "source": [
    "Assume that a football team has scored the following number of goals in each of the last 10 matches\n",
    "\n",
    "goals = np.array([0, 2, 1, 1, 4, 3, 2, 1, 2, 0])"
   ]
  },
  {
   "cell_type": "markdown",
   "id": "60f511e5-e69d-487a-9b2f-3753aa27fdeb",
   "metadata": {},
   "source": [
    "Lets assume that the number of goals follows a Poisson distribution and that a-priori we believe the number of goals for this football team follows a Gamma distribution with rate 1 and concentration 3"
   ]
  },
  {
   "cell_type": "markdown",
   "id": "70a6097c-9ce9-430a-b2e5-9eb0904c6cba",
   "metadata": {},
   "source": [
    "Complete the Tensorflow Probability code to infer the posterior value for the Poisson rate parameter (goal_rate)"
   ]
  },
  {
   "cell_type": "code",
   "execution_count": 39,
   "id": "70dc4d21-749e-4d3c-9f42-9c0503906b43",
   "metadata": {},
   "outputs": [],
   "source": [
    "goals = np.array([0, 2, 1, 1, 4, 3, 2, 1, 2, 0])\n",
    "\n",
    "def log_posterior(goal_rate):\n",
    "  log_likelihood = tfd.Poisson(rate=goal_rate).log_prob(goals)       #Answer 1 Question 6\n",
    "  #log_likelihood = tfd.Poisson(goals).log_prob(goal_rate)       #Answer 1 Question 6  NO\n",
    " \n",
    "  total_log_likelihood = tf.reduce_sum(log_likelihood)     #Answer 2 Question 6\n",
    " \n",
    "  log_prior = tfd.Gamma(3.0, 1.0).log_prob(goal_rate)            #Answer 3 Question 6\n",
    " \n",
    "  return total_log_likelihood + log_prior  # Answer 4 Question 6\n",
    " \n"
   ]
  },
  {
   "cell_type": "code",
   "execution_count": 40,
   "id": "503e7ec9-832f-4de6-a26f-a45d1c53a75b",
   "metadata": {},
   "outputs": [],
   "source": [
    "@tf.function\n",
    "def run_sampler():\n",
    "    # specify the Metropolis Hastings inner kernel\n",
    "    inner_kernel = tfp.mcmc.RandomWalkMetropolis(log_posterior)    #ANSWER\n",
    "\n",
    "    # we need to keep the rate > 0 so apply an exponential bijector\n",
    "    kernel = tfp.mcmc.TransformedTransitionKernel(inner_kernel, tfp.bijectors.Exp())   #ANSWER\n",
    "\n",
    "    # now we can run the actual MCMC chain\n",
    "    samples, kernels_results = tfp.mcmc.sample_chain(num_results=2000,\n",
    "                                                    current_state=0.5,\n",
    "                                                    kernel=kernel,\n",
    "                                                    num_burnin_steps=50)\n",
    "\n",
    "    return samples"
   ]
  },
  {
   "cell_type": "code",
   "execution_count": 41,
   "id": "a3dbd920-3c8f-46a8-aad6-1d51d7aab0e7",
   "metadata": {},
   "outputs": [
    {
     "name": "stderr",
     "output_type": "stream",
     "text": [
      "/opt/conda/lib/python3.8/site-packages/tensorflow_probability/python/mcmc/sample.py:339: UserWarning: Tracing all kernel results by default is deprecated. Set the `trace_fn` argument to None (the future default value) or an explicit callback that traces the values you are interested in.\n",
      "  warnings.warn('Tracing all kernel results by default is deprecated. Set '\n"
     ]
    },
    {
     "name": "stdout",
     "output_type": "stream",
     "text": [
      "tf.Tensor([1.4076672 1.4076672 1.4076672 ... 1.6780802 1.6780802 1.6780802], shape=(2000,), dtype=float32)\n"
     ]
    }
   ],
   "source": [
    "# run the sampler\n",
    "s = run_sampler()\n",
    "print(s)"
   ]
  },
  {
   "cell_type": "code",
   "execution_count": 42,
   "id": "dcb7ebca-369e-4f91-a658-a688c8d8bf19",
   "metadata": {},
   "outputs": [
    {
     "data": {
      "image/png": "[encoded data removed]",
      "text/plain": [
       "<Figure size 400x300 with 1 Axes>"
      ]
     },
     "metadata": {},
     "output_type": "display_data"
    }
   ],
   "source": [
    "# plot the posterior density from the samples\n",
    "import matplotlib.pyplot as plt\n",
    "plt.figure(figsize=(4,3))\n",
    "hist = plt.hist(s.numpy(),bins=50,range=(0,1),density=True,alpha=0.75)"
   ]
  }
 ],
 "metadata": {
  "kernelspec": {
   "display_name": "Python 3 (ipykernel)",
   "language": "python",
   "name": "python3"
  },
  "language_info": {
   "codemirror_mode": {
    "name": "ipython",
    "version": 3
   },
   "file_extension": ".py",
   "mimetype": "text/x-python",
   "name": "python",
   "nbconvert_exporter": "python",
   "pygments_lexer": "ipython3",
   "version": "3.8.16"
  }
 },
 "nbformat": 4,
 "nbformat_minor": 5
}
