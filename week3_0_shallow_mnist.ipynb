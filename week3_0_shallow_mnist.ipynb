{
 "cells": [
  {
   "cell_type": "markdown",
   "metadata": {},
   "source": [
    "# Train a neural network that consists of a single layer\n",
    "\n",
    "week3 video https://youtu.be/uHHPTRxcsoA\n",
    "\n",
    "and task1\n"
   ]
  },
  {
   "cell_type": "markdown",
   "metadata": {
    "id": "JKgiJppBOPbZ",
    "tags": []
   },
   "source": [
    "### Load the necessary libraries"
   ]
  },
  {
   "cell_type": "code",
   "execution_count": 1,
   "metadata": {
    "id": "7UMiqKnkOOQT",
    "tags": []
   },
   "outputs": [],
   "source": [
    "import matplotlib.pyplot as plt\n",
    "import numpy as np\n",
    "import tensorflow as tf\n",
    "\n",
    "np.set_printoptions(suppress=True) #These options determine the way floating point numbers, \n",
    "                                    #arrays and other NumPy objects are displayed"
   ]
  },
  {
   "cell_type": "markdown",
   "metadata": {
    "id": "D2le8oBvOUe5"
   },
   "source": [
    "## Download the MNIST dataset using Keras"
   ]
  },
  {
   "cell_type": "code",
   "execution_count": 2,
   "metadata": {
    "colab": {
     "base_uri": "https://localhost:8080/",
     "height": 52
    },
    "id": "7OJUV960Itp6",
    "outputId": "093460b8-c545-4160-cb5c-84eba9afb416",
    "tags": []
   },
   "outputs": [],
   "source": [
    "(x_train, y_train),(x_test, y_test) = tf.keras.datasets.mnist.load_data()\n"
   ]
  },
  {
   "cell_type": "code",
   "execution_count": 3,
   "metadata": {
    "colab": {
     "base_uri": "https://localhost:8080/",
     "height": 555
    },
    "id": "WUWsusa0I2hz",
    "outputId": "3eb23259-d5d3-4fe4-88c3-a54b8f193160",
    "tags": []
   },
   "outputs": [
    {
     "name": "stdout",
     "output_type": "stream",
     "text": [
      "Help on function load_data in module keras.datasets.mnist:\n",
      "\n",
      "load_data(path='mnist.npz')\n",
      "    Loads the MNIST dataset.\n",
      "    \n",
      "    This is a dataset of 60,000 28x28 grayscale images of the 10 digits,\n",
      "    along with a test set of 10,000 images.\n",
      "    More info can be found at the\n",
      "    [MNIST homepage](http://yann.lecun.com/exdb/mnist/).\n",
      "    \n",
      "    Args:\n",
      "      path: path where to cache the dataset locally\n",
      "        (relative to `~/.keras/datasets`).\n",
      "    \n",
      "    Returns:\n",
      "      Tuple of NumPy arrays: `(x_train, y_train), (x_test, y_test)`.\n",
      "    \n",
      "    **x_train**: uint8 NumPy array of grayscale image data with shapes\n",
      "      `(60000, 28, 28)`, containing the training data. Pixel values range\n",
      "      from 0 to 255.\n",
      "    \n",
      "    **y_train**: uint8 NumPy array of digit labels (integers in range 0-9)\n",
      "      with shape `(60000,)` for the training data.\n",
      "    \n",
      "    **x_test**: uint8 NumPy array of grayscale image data with shapes\n",
      "      (10000, 28, 28), containing the test data. Pixel values range\n",
      "      from 0 to 255.\n",
      "    \n",
      "    **y_test**: uint8 NumPy array of digit labels (integers in range 0-9)\n",
      "      with shape `(10000,)` for the test data.\n",
      "    \n",
      "    Example:\n",
      "    \n",
      "    ```python\n",
      "    (x_train, y_train), (x_test, y_test) = keras.datasets.mnist.load_data()\n",
      "    assert x_train.shape == (60000, 28, 28)\n",
      "    assert x_test.shape == (10000, 28, 28)\n",
      "    assert y_train.shape == (60000,)\n",
      "    assert y_test.shape == (10000,)\n",
      "    ```\n",
      "    \n",
      "    License:\n",
      "      Yann LeCun and Corinna Cortes hold the copyright of MNIST dataset,\n",
      "      which is a derivative work from original NIST datasets.\n",
      "      MNIST dataset is made available under the terms of the\n",
      "      [Creative Commons Attribution-Share Alike 3.0 license.](\n",
      "      https://creativecommons.org/licenses/by-sa/3.0/)\n",
      "\n"
     ]
    }
   ],
   "source": [
    "help(tf.keras.datasets.mnist.load_data) # description of dataset"
   ]
  },
  {
   "cell_type": "code",
   "execution_count": 4,
   "metadata": {
    "colab": {
     "base_uri": "https://localhost:8080/",
     "height": 86
    },
    "id": "oew1UUP7I80b",
    "outputId": "fe2df7c2-8625-4144-ef06-b156bc99e710",
    "tags": []
   },
   "outputs": [
    {
     "name": "stdout",
     "output_type": "stream",
     "text": [
      "x_train samples = (60000, 28, 28)\n",
      "y_train samples = (60000,)\n",
      "x_test samples = (10000, 28, 28)\n",
      "y_test samples = (10000,)\n"
     ]
    }
   ],
   "source": [
    "print ('x_train samples = ' + str(x_train.shape)) #each image is stored as numpy array 28x28\n",
    "print ('y_train samples = ' + str(y_train.shape)) #labels\n",
    "\n",
    "print ('x_test samples = ' + str(x_test.shape))\n",
    "print ('y_test samples = ' + str(y_test.shape))"
   ]
  },
  {
   "cell_type": "markdown",
   "metadata": {
    "id": "LWb-hI76Oamg"
   },
   "source": [
    "### Plot some example images"
   ]
  },
  {
   "cell_type": "code",
   "execution_count": 5,
   "metadata": {
    "colab": {
     "base_uri": "https://localhost:8080/",
     "height": 281
    },
    "id": "L5vwrYQjJFwc",
    "outputId": "8b1f4955-fdfa-45d0-82af-ebcd7fdde2dc",
    "tags": []
   },
   "outputs": [
    {
     "data": {
      "image/png": "[encoded data removed]",
      "text/plain": [
       "<Figure size 640x480 with 1 Axes>"
      ]
     },
     "metadata": {},
     "output_type": "display_data"
    }
   ],
   "source": [
    "i=1000\n",
    "label = y_train[i]\n",
    "image = x_train[i]\n",
    "plt.title('Number %d' % (label))\n",
    "plt.imshow(image)\n",
    "plt.show()  #mostly centered in the middle but they move a bit"
   ]
  },
  {
   "cell_type": "markdown",
   "metadata": {
    "id": "UmWdkq80Od_c"
   },
   "source": [
    "### Preprocess the data ready for tensorflow"
   ]
  },
  {
   "cell_type": "code",
   "execution_count": 6,
   "metadata": {
    "id": "zMa_0RUfJSV1",
    "tags": []
   },
   "outputs": [],
   "source": [
    "y_input = tf.keras.utils.to_categorical(y_train)      #one hot encoder\n",
    "x_input = (np.reshape(x_train, (x_train.shape[0], 784)) / 255.0).astype(np.float32)    #flattening"
   ]
  },
  {
   "cell_type": "code",
   "execution_count": 8,
   "metadata": {
    "colab": {
     "base_uri": "https://localhost:8080/",
     "height": 52
    },
    "id": "wE9YY6maJtXk",
    "outputId": "c374f2d5-f9ec-4182-edfa-5a053a9cda27",
    "tags": []
   },
   "outputs": [
    {
     "name": "stdout",
     "output_type": "stream",
     "text": [
      "x_input samples = (60000, 784)\n",
      "y_input samples = (60000, 10)\n"
     ]
    }
   ],
   "source": [
    "print ('x_input samples = ' + str(x_input.shape))\n",
    "print ('y_input samples = ' + str(y_input.shape))"
   ]
  },
  {
   "cell_type": "code",
   "execution_count": 9,
   "metadata": {
    "colab": {
     "base_uri": "https://localhost:8080/",
     "height": 34
    },
    "id": "U0wIXQ9RJ4uM",
    "outputId": "03f02b3e-7e94-4e07-e6fe-ffb6194a2c47",
    "tags": []
   },
   "outputs": [
    {
     "data": {
      "text/plain": [
       "dtype('float32')"
      ]
     },
     "execution_count": 9,
     "metadata": {},
     "output_type": "execute_result"
    }
   ],
   "source": [
    "x_input[0].dtype"
   ]
  },
  {
   "cell_type": "code",
   "execution_count": 10,
   "metadata": {
    "tags": []
   },
   "outputs": [
    {
     "data": {
      "text/plain": [
       "array([0., 0., 0., 0., 0., 1., 0., 0., 0., 0.], dtype=float32)"
      ]
     },
     "execution_count": 10,
     "metadata": {},
     "output_type": "execute_result"
    }
   ],
   "source": [
    "y_input[0] # we will get a value of predicted probability for each class"
   ]
  },
  {
   "cell_type": "code",
   "execution_count": 11,
   "metadata": {
    "tags": []
   },
   "outputs": [
    {
     "data": {
      "text/plain": [
       "5"
      ]
     },
     "execution_count": 11,
     "metadata": {},
     "output_type": "execute_result"
    }
   ],
   "source": [
    "y_train[0]"
   ]
  },
  {
   "cell_type": "markdown",
   "metadata": {
    "id": "p_eRHO2OOjp3"
   },
   "source": [
    "### Create model"
   ]
  },
  {
   "cell_type": "code",
   "execution_count": 12,
   "metadata": {
    "id": "Kx9m8VH_J-T1",
    "tags": []
   },
   "outputs": [
    {
     "name": "stderr",
     "output_type": "stream",
     "text": [
      "2023-05-20 20:38:01.367577: I tensorflow/core/platform/cpu_feature_guard.cc:151] This TensorFlow binary is optimized with oneAPI Deep Neural Network Library (oneDNN) to use the following CPU instructions in performance-critical operations:  AVX2 FMA\n",
      "To enable them in other operations, rebuild TensorFlow with the appropriate compiler flags.\n",
      "2023-05-20 20:38:02.127455: I tensorflow/core/common_runtime/gpu/gpu_device.cc:1525] Created device /job:localhost/replica:0/task:0/device:GPU:0 with 7426 MB memory:  -> device: 0, name: Tesla M60, pci bus id: 0001:00:00.0, compute capability: 5.2\n"
     ]
    }
   ],
   "source": [
    "#variables we are going to try to learn for the predictor\n",
    "W = tf.Variable(tf.zeros([784,10])) #weight applied to each pixel in the image\n",
    "b = tf.Variable(tf.zeros([10])) #offset, constant value applied to every output value individually"
   ]
  },
  {
   "cell_type": "markdown",
   "metadata": {
    "id": "Sssh2qugOpE5"
   },
   "source": [
    "### Set-up the multinomial logistic regression"
   ]
  },
  {
   "cell_type": "code",
   "execution_count": 13,
   "metadata": {
    "id": "6en-2wR-KU20",
    "tags": []
   },
   "outputs": [],
   "source": [
    "# predicted probability for each class\n",
    "#using softmax activation layer on a vector with 10 entries\n",
    "def y_pred(x):\n",
    "    return tf.nn.softmax(tf.matmul(x,W) + b)\n",
    "\n",
    "# cross entropy loss function, to train model, as per logistic regression before\n",
    "def loss(x,y):\n",
    "    y_ = y_pred(x)  # underscore for prediction\n",
    "    return tf.reduce_mean(-tf.reduce_sum(y * tf.math.log(y_), axis=[1]))"
   ]
  },
  {
   "cell_type": "markdown",
   "metadata": {
    "id": "Hj3YquijPcVR"
   },
   "source": [
    "### Set-up the training routine"
   ]
  },
  {
   "cell_type": "code",
   "execution_count": 15,
   "metadata": {
    "id": "OPOgRIiAK5ZY",
    "tags": []
   },
   "outputs": [],
   "source": [
    "train_steps = 2500\n",
    "\n",
    "# learning rate\n",
    "lr = 1e-1\n",
    "\n",
    "# sotchastic gradient descent optimizer\n",
    "optimizer = tf.optimizers.SGD(lr)"
   ]
  },
  {
   "cell_type": "markdown",
   "metadata": {
    "id": "h8V5f36yPfYH"
   },
   "source": [
    "### Create a session and run the training"
   ]
  },
  {
   "cell_type": "code",
   "execution_count": 16,
   "metadata": {
    "colab": {
     "base_uri": "https://localhost:8080/",
     "height": 451
    },
    "id": "ILHQOx0kLcLF",
    "outputId": "7db595ac-8212-4768-f0bf-58e034e1ad60",
    "tags": []
   },
   "outputs": [
    {
     "name": "stdout",
     "output_type": "stream",
     "text": [
      "Training Step:0  Loss = tf.Tensor(2.3025854, shape=(), dtype=float32)\n",
      "Training Step:100  Loss = tf.Tensor(0.6087094, shape=(), dtype=float32)\n",
      "Training Step:200  Loss = tf.Tensor(0.48937273, shape=(), dtype=float32)\n",
      "Training Step:300  Loss = tf.Tensor(0.44037214, shape=(), dtype=float32)\n",
      "Training Step:400  Loss = tf.Tensor(0.412158, shape=(), dtype=float32)\n",
      "Training Step:500  Loss = tf.Tensor(0.3932503, shape=(), dtype=float32)\n",
      "Training Step:600  Loss = tf.Tensor(0.37943116, shape=(), dtype=float32)\n",
      "Training Step:700  Loss = tf.Tensor(0.3687482, shape=(), dtype=float32)\n",
      "Training Step:800  Loss = tf.Tensor(0.36015943, shape=(), dtype=float32)\n",
      "Training Step:900  Loss = tf.Tensor(0.35305175, shape=(), dtype=float32)\n",
      "Training Step:1000  Loss = tf.Tensor(0.34703794, shape=(), dtype=float32)\n",
      "Training Step:1100  Loss = tf.Tensor(0.3418597, shape=(), dtype=float32)\n",
      "Training Step:1200  Loss = tf.Tensor(0.33733717, shape=(), dtype=float32)\n",
      "Training Step:1300  Loss = tf.Tensor(0.33334082, shape=(), dtype=float32)\n",
      "Training Step:1400  Loss = tf.Tensor(0.3297744, shape=(), dtype=float32)\n",
      "Training Step:1500  Loss = tf.Tensor(0.32656494, shape=(), dtype=float32)\n",
      "Training Step:1600  Loss = tf.Tensor(0.32365572, shape=(), dtype=float32)\n",
      "Training Step:1700  Loss = tf.Tensor(0.32100195, shape=(), dtype=float32)\n",
      "Training Step:1800  Loss = tf.Tensor(0.3185678, shape=(), dtype=float32)\n",
      "Training Step:1900  Loss = tf.Tensor(0.3163241, shape=(), dtype=float32)\n",
      "Training Step:2000  Loss = tf.Tensor(0.31424686, shape=(), dtype=float32)\n",
      "Training Step:2100  Loss = tf.Tensor(0.31231618, shape=(), dtype=float32)\n",
      "Training Step:2200  Loss = tf.Tensor(0.31051522, shape=(), dtype=float32)\n",
      "Training Step:2300  Loss = tf.Tensor(0.30882987, shape=(), dtype=float32)\n",
      "Training Step:2400  Loss = tf.Tensor(0.30724806, shape=(), dtype=float32)\n"
     ]
    }
   ],
   "source": [
    "for i in range(train_steps):\n",
    "    with tf.GradientTape() as tape:\n",
    "        current_loss = loss(x_input,y_input)\n",
    "    gradients = tape.gradient(current_loss, [W, b])\n",
    "    optimizer.apply_gradients(zip(gradients, [W ,b])) #updating W and b using optimizers\n",
    "    if i%100 == 0:\n",
    "        print('Training Step:' + str(i) + '  Loss = ' + str(current_loss))"
   ]
  },
  {
   "cell_type": "markdown",
   "metadata": {
    "id": "7T3WjSQbPkIQ"
   },
   "source": [
    "### Check the accuracy on the training data"
   ]
  },
  {
   "cell_type": "code",
   "execution_count": 18,
   "metadata": {
    "colab": {
     "base_uri": "https://localhost:8080/",
     "height": 52
    },
    "id": "g7KOntNdL5Up",
    "outputId": "51a7a1f4-4a90-49ec-cba5-9977693c9004",
    "tags": []
   },
   "outputs": [
    {
     "name": "stdout",
     "output_type": "stream",
     "text": [
      "(60000, 10)\n",
      "train accuracy:  0.91545\n"
     ]
    }
   ],
   "source": [
    "#on data it has already seen\n",
    "y_prob = y_pred(x_input).numpy() #pass to function y_pred and convert to numpy array\n",
    "print(y_prob.shape)\n",
    "\n",
    "#compare with actual value\n",
    "y_prediction = np.argmax(y_prob,axis=-1)  #the max\n",
    "print('train accuracy: ', np.sum(y_prediction==y_train)/len(y_train))  #how often agrees with actual data"
   ]
  },
  {
   "cell_type": "markdown",
   "metadata": {
    "id": "GJ3Rs3XhPnjB"
   },
   "source": [
    "### Check the accuracy on the test data"
   ]
  },
  {
   "cell_type": "code",
   "execution_count": 20,
   "metadata": {
    "colab": {
     "base_uri": "https://localhost:8080/",
     "height": 52
    },
    "id": "j0eIzCeBOtch",
    "outputId": "e29f9c4f-6972-462a-fe16-e8dbea7f2467",
    "tags": []
   },
   "outputs": [
    {
     "name": "stdout",
     "output_type": "stream",
     "text": [
      "(10000, 10)\n",
      "test accuracy:  0.9184\n"
     ]
    }
   ],
   "source": [
    "x_test_input = (np.reshape(x_test, (x_test.shape[0], 784)) / 255.0).astype(np.float32)\n",
    "\n",
    "y_prob = y_pred(x_test_input).numpy()\n",
    "\n",
    "print(y_prob.shape)\n",
    "y_prediction = np.argmax(y_prob,axis=-1)\n",
    "print('test accuracy: ', np.sum(y_prediction==y_test)/len(y_test))"
   ]
  },
  {
   "cell_type": "markdown",
   "metadata": {},
   "source": [
    "better accuracy than, so we are not overfitting our data"
   ]
  },
  {
   "cell_type": "markdown",
   "metadata": {
    "id": "NNXjTivyPq6s"
   },
   "source": [
    "### Let's look at predictions for different samples"
   ]
  },
  {
   "cell_type": "code",
   "execution_count": 21,
   "metadata": {
    "colab": {
     "base_uri": "https://localhost:8080/",
     "height": 281
    },
    "id": "fdahROYoPM-O",
    "outputId": "ea867ea9-57b6-4f98-d099-80b614fe7326",
    "tags": []
   },
   "outputs": [
    {
     "data": {
      "image/png": "[encoded data removed]",
      "text/plain": [
       "<Figure size 640x480 with 1 Axes>"
      ]
     },
     "metadata": {},
     "output_type": "display_data"
    }
   ],
   "source": [
    "i=1645\n",
    "\n",
    "label = y_test[i]\n",
    "image = x_test[i]\n",
    "plt.title('True: %d, Predicted: %d (%d%% certainty)' % (label,y_prob[i].argmax(),100*y_prob[i,y_prob[i].argmax()]))\n",
    "plt.imshow(image)\n",
    "plt.show()"
   ]
  },
  {
   "cell_type": "markdown",
   "metadata": {
    "id": "daG_mTOdPuxf"
   },
   "source": [
    "### Plot out the learnt weights for each pixel"
   ]
  },
  {
   "cell_type": "code",
   "execution_count": 22,
   "metadata": {
    "colab": {
     "base_uri": "https://localhost:8080/",
     "height": 136
    },
    "id": "MExCprSnPefd",
    "outputId": "e68d0f32-791d-4e6b-ba97-6ad80ea5476d",
    "tags": []
   },
   "outputs": [
    {
     "data": {
      "image/png": "[encoded data removed]",
      "text/plain": [
       "<Figure size 1800x500 with 10 Axes>"
      ]
     },
     "metadata": {},
     "output_type": "display_data"
    }
   ],
   "source": [
    "plt.figure(figsize=(18,5))\n",
    "for i in range(10):\n",
    "    plt.subplot(1, 10, i+1)\n",
    "    weight = W.numpy()[:,i]\n",
    "    plt.title(i)\n",
    "    plt.imshow(weight.reshape([28,28]),vmin=-0.5,vmax=0.5, cmap=plt.get_cmap('seismic'))\n",
    "    frame1 = plt.gca()\n",
    "    frame1.axes.get_xaxis().set_visible(False)\n",
    "    frame1.axes.get_yaxis().set_visible(False)\n",
    "plt.show()"
   ]
  },
  {
   "cell_type": "code",
   "execution_count": 23,
   "metadata": {
    "id": "396GmRH4QJbi",
    "tags": []
   },
   "outputs": [],
   "source": [
    "#shows the pixels that are being activated"
   ]
  }
 ],
 "metadata": {
  "accelerator": "GPU",
  "colab": {
   "collapsed_sections": [],
   "name": "shallow_mnist.ipynb",
   "provenance": []
  },
  "kernelspec": {
   "display_name": "Python 3 (ipykernel)",
   "language": "python",
   "name": "python3"
  },
  "language_info": {
   "codemirror_mode": {
    "name": "ipython",
    "version": 3
   },
   "file_extension": ".py",
   "mimetype": "text/x-python",
   "name": "python",
   "nbconvert_exporter": "python",
   "pygments_lexer": "ipython3",
   "version": "3.8.16"
  }
 },
 "nbformat": 4,
 "nbformat_minor": 4
}
