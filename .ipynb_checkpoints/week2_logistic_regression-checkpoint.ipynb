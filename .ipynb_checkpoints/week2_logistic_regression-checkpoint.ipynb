{
 "cells": [
  {
   "cell_type": "markdown",
   "metadata": {
    "colab_type": "text",
    "id": "9Ic8FLGTrtoZ"
   },
   "source": [
    "### Determine the probability of passing an exam based on the number of hours a student studies."
   ]
  },
  {
   "cell_type": "code",
   "execution_count": 1,
   "metadata": {
    "colab": {},
    "colab_type": "code",
    "id": "RndrPK-wrgZh",
    "tags": []
   },
   "outputs": [],
   "source": [
    "import tensorflow as tf \n",
    "\n",
    "import numpy as np \n",
    "import matplotlib.pyplot as plt \n",
    "from IPython import display\n",
    "\n",
    "plt.style.use('ggplot')\n",
    "np.random.seed(0)"
   ]
  },
  {
   "cell_type": "markdown",
   "metadata": {
    "colab_type": "text",
    "id": "nBGncvWhr24Q"
   },
   "source": [
    "### Create some data to play with"
   ]
  },
  {
   "cell_type": "code",
   "execution_count": 2,
   "metadata": {
    "colab": {},
    "colab_type": "code",
    "id": "0oSzVevor0SY",
    "tags": []
   },
   "outputs": [],
   "source": [
    "# Enter data in mympy array\n",
    "hours= np.array([0.50,0.75,1.00,1.25,1.50,1.75,1.75,2.00,\n",
    "2.25,2.50,2.75,3.00,3.25,3.50,4.00,4.25,4.50,4.75,5.00,5.50])\n",
    "failpass=np.array([0,0,0,0,0,0,1,0,1,0,1,0,1,0,1,1,1,1,1,1])"
   ]
  },
  {
   "cell_type": "code",
   "execution_count": 3,
   "metadata": {
    "tags": []
   },
   "outputs": [
    {
     "data": {
      "text/plain": [
       "array([0.5 , 0.75, 1.  , 1.25, 1.5 , 1.75, 1.75, 2.  , 2.25, 2.5 , 2.75,\n",
       "       3.  , 3.25, 3.5 , 4.  , 4.25, 4.5 , 4.75, 5.  , 5.5 ])"
      ]
     },
     "execution_count": 3,
     "metadata": {},
     "output_type": "execute_result"
    }
   ],
   "source": [
    "hours"
   ]
  },
  {
   "cell_type": "code",
   "execution_count": 10,
   "metadata": {
    "tags": []
   },
   "outputs": [
    {
     "data": {
      "image/png": "[encoded data removed]",
      "text/plain": [
       "<Figure size 600x200 with 1 Axes>"
      ]
     },
     "metadata": {},
     "output_type": "display_data"
    }
   ],
   "source": [
    "# Plot the data\n",
    "plt.figure(figsize=(6,2))\n",
    "plt.plot(hours, failpass,'*') \n",
    "plt.xlabel('hours') \n",
    "plt.ylabel('failpass') \n",
    "plt.title(\"RawData\") \n",
    "plt.show() "
   ]
  },
  {
   "cell_type": "markdown",
   "metadata": {
    "colab_type": "text",
    "id": "tgy_J_0Sr9gE"
   },
   "source": [
    "#### You should follow the linear regression example but you will need to make a few changes. For predicting the probability of passing the exam you will need to use the sigmoid activation function\n",
    "\n",
    "$$ h_ \\theta (x) =  \\frac{\\mathrm{1} }{\\mathrm{1} + e^- \\theta^Tx }  $$ "
   ]
  },
  {
   "cell_type": "code",
   "execution_count": 29,
   "metadata": {
    "tags": []
   },
   "outputs": [],
   "source": [
    "#CREATE VARIABLES\n",
    "b0 = tf.Variable(0.0)   #randomly initialised\n",
    "b1 = tf.Variable(0.0)   #randomly initialised"
   ]
  },
  {
   "cell_type": "markdown",
   "metadata": {
    "colab_type": "text",
    "id": "GOnbfmDHsYIi"
   },
   "source": [
    "### Define our statistical model"
   ]
  },
  {
   "cell_type": "code",
   "execution_count": 35,
   "metadata": {
    "colab": {},
    "colab_type": "code",
    "id": "N3LrlRvYsX0t",
    "tags": []
   },
   "outputs": [],
   "source": [
    "def logistic_model(X):\n",
    "    return tf.sigmoid(tf.add(tf.multiply(X, b1), b0))"
   ]
  },
  {
   "cell_type": "markdown",
   "metadata": {
    "colab_type": "text",
    "id": "Taf7SQj7s7kk"
   },
   "source": [
    "### Define our loss function as the cross entropy function"
   ]
  },
  {
   "cell_type": "code",
   "execution_count": 24,
   "metadata": {
    "colab": {},
    "colab_type": "code",
    "id": "edzdnhY0s8Fn",
    "tags": []
   },
   "outputs": [],
   "source": [
    "#Set-up the optimizer\n",
    "# learning rate\n",
    "lr = 1e-3\n",
    "# gradient descent optimizer\n",
    "optimizer = tf.optimizers.SGD(lr)\n",
    "\n",
    "#from https://jermwatt.github.io/machine_learning_refined/notes/6_Linear_twoclass_classification/6_2_Cross_entropy.html\n",
    "# def cross_entropy(w):\n",
    "#     # compute sigmoid of model\n",
    "#     a = sigmoid(model(x,w))\n",
    "    \n",
    "#     # compute cost of label 0 points\n",
    "#     ind = np.argwhere(y == 0)[:,1]\n",
    "#     cost = -np.sum(np.log(1 - a[:,ind]))\n",
    "    \n",
    "#     # add cost on label 1 points\n",
    "#     ind = np.argwhere(y==1)[:,1]\n",
    "#     cost -= np.sum(np.log(a[:,ind]))\n",
    "    \n",
    "#     # compute cross-entropy\n",
    "#     return cost/y.size"
   ]
  },
  {
   "cell_type": "code",
   "execution_count": 34,
   "metadata": {
    "tags": []
   },
   "outputs": [],
   "source": [
    "def loss(Y, Y_pred):\n",
    "    return -tf.reduce_sum(Y*tf.math.log(Y_pred))-tf.reduce_sum((1.0-Y)*tf.math.log(1.0-Y_pred))"
   ]
  },
  {
   "cell_type": "markdown",
   "metadata": {
    "colab_type": "text",
    "id": "7RZ6LGGWtBSo"
   },
   "source": [
    "### Set up Tensorflow training loop"
   ]
  },
  {
   "cell_type": "code",
   "execution_count": 36,
   "metadata": {
    "colab": {},
    "colab_type": "code",
    "id": "0cPH7G_OtMDc",
    "tags": []
   },
   "outputs": [],
   "source": [
    "#Use a training loop to train on the dataset\n",
    "epochs = range(5000)\n",
    "for epoch in epochs:\n",
    "    with tf.GradientTape() as tape:\n",
    "        prediction = logistic_model(hours)\n",
    "        current_loss = loss(failpass,prediction)\n",
    "    gradients = tape.gradient(current_loss, [b0, b1])\n",
    "    optimizer.apply_gradients(zip(gradients, [b0 ,b1]))"
   ]
  },
  {
   "cell_type": "code",
   "execution_count": 37,
   "metadata": {
    "colab": {
     "base_uri": "https://localhost:8080/",
     "height": 282
    },
    "colab_type": "code",
    "id": "GVxfz8hZviry",
    "outputId": "3aa52c45-829f-43ca-c08f-61991b60b815",
    "tags": []
   },
   "outputs": [
    {
     "name": "stdout",
     "output_type": "stream",
     "text": [
      "slope = 1.3286268 intercept = -3.5550344\n"
     ]
    }
   ],
   "source": [
    "#Plot of our final estimates of the parameters\n",
    "print(\"slope =\", b1.numpy(), \"intercept =\", b0.numpy())"
   ]
  },
  {
   "cell_type": "code",
   "execution_count": 39,
   "metadata": {
    "colab": {
     "base_uri": "https://localhost:8080/",
     "height": 72
    },
    "colab_type": "code",
    "id": "KT0swSmz_pX5",
    "outputId": "1d77ad3a-93f0-468e-9a07-40dd023b3deb",
    "tags": []
   },
   "outputs": [
    {
     "data": {
      "image/png": "[encoded data removed]",
      "text/plain": [
       "<Figure size 640x480 with 1 Axes>"
      ]
     },
     "metadata": {},
     "output_type": "display_data"
    }
   ],
   "source": [
    "plt.figure()\n",
    "plt.plot(hours,failpass, 'o', label ='Original data')\n",
    "plt.plot(hours, prediction, label ='Fitted line')\n",
    "plt.title('Probability of passing exam')\n",
    "plt.xlabel('Hours studied')\n",
    "plt.ylabel('Probability to pass')\n",
    "plt.show()# Calculating the predictions of final model "
   ]
  },
  {
   "cell_type": "code",
   "execution_count": null,
   "metadata": {},
   "outputs": [],
   "source": []
  }
 ],
 "metadata": {
  "colab": {
   "name": "1_Linear_Regression_tf2.ipynb",
   "provenance": []
  },
  "kernelspec": {
   "display_name": "Python 3 (ipykernel)",
   "language": "python",
   "name": "python3"
  },
  "language_info": {
   "codemirror_mode": {
    "name": "ipython",
    "version": 3
   },
   "file_extension": ".py",
   "mimetype": "text/x-python",
   "name": "python",
   "nbconvert_exporter": "python",
   "pygments_lexer": "ipython3",
   "version": "3.8.16"
  }
 },
 "nbformat": 4,
 "nbformat_minor": 4
}
