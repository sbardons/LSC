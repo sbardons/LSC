{
 "cells": [
  {
   "cell_type": "markdown",
   "id": "7b078096-df76-4e47-a034-5e3b4b1c1930",
   "metadata": {},
   "source": [
    "### Complete the following Tensorflow Probability code to find the maximum likelihood estimate of the rate parameter of a Poisson distribution for a single observation, k=5."
   ]
  },
  {
   "cell_type": "code",
   "execution_count": 1,
   "id": "9dadcf0f-265a-4ffb-a2d0-e5d10ebef3b8",
   "metadata": {},
   "outputs": [],
   "source": [
    "import tensorflow as tf\n",
    "import tensorflow_probability as tfp\n",
    "\n",
    "tfd = tfp.distributions"
   ]
  },
  {
   "cell_type": "code",
   "execution_count": 7,
   "id": "f606cf55-ba22-46df-8837-6e8778db5b22",
   "metadata": {},
   "outputs": [],
   "source": [
    "l = tf.Variable(2.0) # variable for the probability"
   ]
  },
  {
   "cell_type": "code",
   "execution_count": 6,
   "id": "59ff5af7-2295-4f8a-bb16-9513babbadbc",
   "metadata": {},
   "outputs": [],
   "source": [
    "@tf.function\n",
    "def loss(l_input):\n",
    "    k =5 # rate parameter\n",
    "    likelihood = tfd.Poisson(rate=k).log_prob(l_input)   #DOUBT HERE!?   4.49 MUST BE THIS ONE\n",
    "    #likelihood = tfd.Poisson(rate=l_input).log_prob(k)   # or        4.99\n",
    "    return -likelihood\n",
    "    "
   ]
  },
  {
   "cell_type": "code",
   "execution_count": 8,
   "id": "03b13a80-f8d9-45f6-a494-a51dcb828a86",
   "metadata": {},
   "outputs": [],
   "source": [
    "train_steps = 1000\n",
    "\n",
    "# learning rate\n",
    "lr = 1e-1\n",
    "\n",
    "# gradient descent optimizer\n",
    "optimizer = tf.optimizers.SGD(lr)\n",
    "\n",
    "# run the optimizer\n",
    "for i in range(train_steps):\n",
    "    with tf.GradientTape() as tape:\n",
    "        current_loss = loss(l)\n",
    "    gradients = tape.gradient(current_loss, [l])\n",
    "    optimizer.apply_gradients(zip(gradients, [l]))"
   ]
  },
  {
   "cell_type": "code",
   "execution_count": 9,
   "id": "3f9cae25-59f1-4fb2-9e8d-cd9d4b3dfc1d",
   "metadata": {},
   "outputs": [
    {
     "data": {
      "text/plain": [
       "<tf.Variable 'Variable:0' shape=() dtype=float32, numpy=4.491691>"
      ]
     },
     "execution_count": 9,
     "metadata": {},
     "output_type": "execute_result"
    }
   ],
   "source": [
    "l"
   ]
  },
  {
   "cell_type": "code",
   "execution_count": null,
   "id": "635275a7-6b6e-47e4-bdcc-a7c8778b0e57",
   "metadata": {},
   "outputs": [],
   "source": [
    "4.99 vs 4.49"
   ]
  },
  {
   "cell_type": "code",
   "execution_count": null,
   "id": "15aef450-0ca5-4129-9f81-57543084bb63",
   "metadata": {},
   "outputs": [],
   "source": []
  },
  {
   "cell_type": "code",
   "execution_count": null,
   "id": "7f6c2d87-7976-464b-818e-1e5d58754571",
   "metadata": {},
   "outputs": [],
   "source": []
  }
 ],
 "metadata": {
  "kernelspec": {
   "display_name": "Python 3 (ipykernel)",
   "language": "python",
   "name": "python3"
  },
  "language_info": {
   "codemirror_mode": {
    "name": "ipython",
    "version": 3
   },
   "file_extension": ".py",
   "mimetype": "text/x-python",
   "name": "python",
   "nbconvert_exporter": "python",
   "pygments_lexer": "ipython3",
   "version": "3.8.16"
  }
 },
 "nbformat": 4,
 "nbformat_minor": 5
}
