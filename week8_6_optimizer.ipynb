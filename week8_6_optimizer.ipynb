{
 "cells": [
  {
   "cell_type": "markdown",
   "id": "9c06e19a-6d3c-4c84-9797-b2380c22f3ed",
   "metadata": {},
   "source": [
    "## Week 8 - task 3 TO DO"
   ]
  },
  {
   "cell_type": "code",
   "execution_count": 1,
   "id": "616acc51-178e-492a-99e5-b4f4e0e6fcb9",
   "metadata": {},
   "outputs": [],
   "source": [
    "import tensorflow_probability as tfp\n",
    "import tensorflow as tf\n",
    "import numpy as np\n",
    "import matplotlib.pyplot as plt"
   ]
  },
  {
   "cell_type": "code",
   "execution_count": 2,
   "id": "ef409530-2de4-4399-9fc7-cc65b1707b64",
   "metadata": {},
   "outputs": [
    {
     "name": "stderr",
     "output_type": "stream",
     "text": [
      "2023-06-29 19:34:17.931974: I tensorflow/core/platform/cpu_feature_guard.cc:151] This TensorFlow binary is optimized with oneAPI Deep Neural Network Library (oneDNN) to use the following CPU instructions in performance-critical operations:  AVX2 FMA\n",
      "To enable them in other operations, rebuild TensorFlow with the appropriate compiler flags.\n",
      "2023-06-29 19:34:18.505076: I tensorflow/core/common_runtime/gpu/gpu_device.cc:1525] Created device /job:localhost/replica:0/task:0/device:GPU:0 with 10794 MB memory:  -> device: 0, name: Tesla K80, pci bus id: 0001:00:00.0, compute capability: 3.7\n"
     ]
    }
   ],
   "source": [
    "#Suppose the number of lions observed at a camera trap in a given day follows a Poisson distribution with rate 1.\n",
    "tfd = tfp.distributions\n",
    "lions = tfd.Poisson(rate=1)"
   ]
  },
  {
   "cell_type": "code",
   "execution_count": 3,
   "id": "5f3886d4-eda9-4962-a624-e8e177d485ad",
   "metadata": {},
   "outputs": [
    {
     "data": {
      "image/png": "[encoded data removed]",
      "text/plain": [
       "<Figure size 400x300 with 1 Axes>"
      ]
     },
     "metadata": {},
     "output_type": "display_data"
    }
   ],
   "source": [
    "#We can now sample from this distribution to explore how the number of lions varies across different days.\n",
    "# sample from the distribution for 10 years worth of samples\n",
    "n_lions = lions.sample(3650)\n",
    "\n",
    "# plot the histogram of number of lions each day\n",
    "plt.figure(figsize=(4,3))\n",
    "plt.hist(n_lions.numpy(), bins = np.arange(10),rwidth=0.75,density=True,align='left')\n",
    "plt.xlabel('number of lions')\n",
    "plt.ylabel('frequency')\n",
    "plt.show()"
   ]
  },
  {
   "cell_type": "markdown",
   "id": "bfe6da5a-8162-46cb-ab40-5d67f0d6ed7c",
   "metadata": {},
   "source": [
    "The number of wildebeest present at the location also follows a Poisson distribution, however the number of wildebeest that are observed on a given day depends on the number of lions that are also present"
   ]
  },
  {
   "cell_type": "code",
   "execution_count": 4,
   "id": "f81443a4-1e9e-4c4a-abd9-cac4ea5af1d3",
   "metadata": {},
   "outputs": [],
   "source": [
    "# we create a joint distribution where the output from the first distribution\n",
    "# is passed to the second distribution using a lambda function\n",
    "joint = tfd.JointDistributionSequential([tfd.Poisson(rate=1,name='n_lions'),\n",
    "lambda n_lions : tfd.Poisson(rate=tf.math.exp(4-n_lions),name='n_wild')])"
   ]
  },
  {
   "cell_type": "code",
   "execution_count": 5,
   "id": "af6d38d4-3a6c-4dbe-9731-57fb3fd164cd",
   "metadata": {},
   "outputs": [],
   "source": [
    "#Over 20 days, the following observations are made:\n",
    "\n",
    "Number_of_lions = [0, 2, 1, 1, 2, 3, 6, 4, 5, 6, 7, 2, 0, 6, 5, 6, 2, 1, 6, 5]\n",
    "Number_of_Wildebeest: [64, 0, 16, 14, 3, 1, 0, 0, 0, 0, 0, 1, 58, 0, 0, 0, 6, 10, 0, 0]\n",
    "\n",
    "#Using the same joint distribution as we used in the example above, find the maximum likelihood estimate\n",
    "#for 𝛼 given these data using the L-BFGS optimizer"
   ]
  },
  {
   "cell_type": "code",
   "execution_count": null,
   "id": "fadb474c-263d-4afc-abc6-53ac1a1e99cc",
   "metadata": {},
   "outputs": [],
   "source": []
  }
 ],
 "metadata": {
  "kernelspec": {
   "display_name": "Python 3 (ipykernel)",
   "language": "python",
   "name": "python3"
  },
  "language_info": {
   "codemirror_mode": {
    "name": "ipython",
    "version": 3
   },
   "file_extension": ".py",
   "mimetype": "text/x-python",
   "name": "python",
   "nbconvert_exporter": "python",
   "pygments_lexer": "ipython3",
   "version": "3.8.16"
  }
 },
 "nbformat": 4,
 "nbformat_minor": 5
}
