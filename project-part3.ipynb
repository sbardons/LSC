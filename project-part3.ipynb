{
 "cells": [
  {
   "cell_type": "code",
   "execution_count": 80,
   "id": "48cba834",
   "metadata": {},
   "outputs": [],
   "source": [
    "#Imports and settings\n",
    "\n",
    "import numpy as np\n",
    "import pandas as pd\n",
    "import itertools\n",
    "import matplotlib.pyplot as plt\n",
    "import sys\n",
    "\n",
    "import tensorflow as tf\n",
    "import tensorflow_addons as tfa\n",
    "#from tqdm.notebook import tqdm\n",
    "\n",
    "\n",
    "from sklearn.model_selection import train_test_split\n",
    "\n",
    "np.set_printoptions(suppress=True)"
   ]
  },
  {
   "cell_type": "code",
   "execution_count": 81,
   "id": "bc50ac1f-b81d-472c-8c1b-d8867dc1f33b",
   "metadata": {},
   "outputs": [
    {
     "name": "stdout",
     "output_type": "stream",
     "text": [
      "(7352,)\n",
      "(2947,)\n"
     ]
    }
   ],
   "source": [
    "# load the features and labels (subtract 1 as the labels aren't indexed from 0)\n",
    "ytest = np.loadtxt('/home/jovyan/datasets/UCI_HAR_DATASET/test/y_test.txt')-1\n",
    "ytrain = np.loadtxt('/home/jovyan/datasets/UCI_HAR_DATASET/train/y_train.txt')-1\n",
    "\n",
    "print(ytrain.shape)\n",
    "print(ytest.shape)"
   ]
  },
  {
   "cell_type": "code",
   "execution_count": 82,
   "id": "84e7692e-386f-4b4e-ade7-842e10fa93fc",
   "metadata": {},
   "outputs": [],
   "source": [
    "# load the x,y,z accelerations for the three data streams for each coordinate - test\n",
    "xx=np.loadtxt('/home/jovyan/datasets/UCI_HAR_DATASET/test/Inertial Signals/body_acc_x_test.txt')\n",
    "yy=np.loadtxt('/home/jovyan/datasets/UCI_HAR_DATASET/test/Inertial Signals/body_acc_y_test.txt')\n",
    "zz=np.loadtxt('/home/jovyan/datasets/UCI_HAR_DATASET/test/Inertial Signals/body_acc_z_test.txt')\n",
    "xxt=np.loadtxt('/home/jovyan/datasets/UCI_HAR_DATASET/test/Inertial Signals/total_acc_x_test.txt')\n",
    "yyt=np.loadtxt('/home/jovyan/datasets/UCI_HAR_DATASET/test/Inertial Signals/total_acc_y_test.txt')\n",
    "zzt=np.loadtxt('/home/jovyan/datasets/UCI_HAR_DATASET/test/Inertial Signals/total_acc_z_test.txt')\n",
    "xxg=np.loadtxt('/home/jovyan/datasets/UCI_HAR_DATASET/test/Inertial Signals/body_gyro_x_test.txt')\n",
    "yyg=np.loadtxt('/home/jovyan/datasets/UCI_HAR_DATASET/test/Inertial Signals/body_gyro_y_test.txt')\n",
    "zzg=np.loadtxt('/home/jovyan/datasets/UCI_HAR_DATASET/test/Inertial Signals/body_gyro_z_test.txt')"
   ]
  },
  {
   "cell_type": "code",
   "execution_count": 83,
   "id": "faa4774a",
   "metadata": {},
   "outputs": [],
   "source": [
    "# concatenate into a single (n,128,9) array\n",
    "xtest = np.concatenate((xx[:,:,None],yy[:,:,None],zz[:,:,None],\n",
    "                        xxt[:,:,None],yyt[:,:,None],zzt[:,:,None],\n",
    "                        xxg[:,:,None],yyg[:,:,None],zzg[:,:,None]),axis=2)"
   ]
  },
  {
   "cell_type": "code",
   "execution_count": 84,
   "id": "57a0a17f-4f58-4f49-a1c3-8c95e300ba9f",
   "metadata": {},
   "outputs": [],
   "source": [
    "# load the x,y,z accelerations for the three data streams for each coordinate - train\n",
    "\n",
    "xx_t=np.loadtxt('/home/jovyan/datasets/UCI_HAR_DATASET/train/Inertial Signals/body_acc_x_train.txt')\n",
    "yy_t=np.loadtxt('/home/jovyan/datasets/UCI_HAR_DATASET/train/Inertial Signals/body_acc_y_train.txt')\n",
    "zz_t=np.loadtxt('/home/jovyan/datasets/UCI_HAR_DATASET/train/Inertial Signals/body_acc_z_train.txt')\n",
    "xxt_t=np.loadtxt('/home/jovyan/datasets/UCI_HAR_DATASET/train/Inertial Signals/total_acc_x_train.txt')\n",
    "yyt_t=np.loadtxt('/home/jovyan/datasets/UCI_HAR_DATASET/train/Inertial Signals/total_acc_y_train.txt')\n",
    "zzt_t=np.loadtxt('/home/jovyan/datasets/UCI_HAR_DATASET/train/Inertial Signals/total_acc_z_train.txt')\n",
    "xxg_t=np.loadtxt('/home/jovyan/datasets/UCI_HAR_DATASET/train/Inertial Signals/body_gyro_x_train.txt')\n",
    "yyg_t=np.loadtxt('/home/jovyan/datasets/UCI_HAR_DATASET/train/Inertial Signals/body_gyro_y_train.txt')\n",
    "zzg_t=np.loadtxt('/home/jovyan/datasets/UCI_HAR_DATASET/train/Inertial Signals/body_gyro_z_train.txt')\n"
   ]
  },
  {
   "cell_type": "code",
   "execution_count": 85,
   "id": "63dacdef-753a-459d-90fe-a4b63069bdf0",
   "metadata": {},
   "outputs": [],
   "source": [
    "# concatenate into a single (n,128,9) array\n",
    "xtrain = np.concatenate((xx_t[:,:,None],yy_t[:,:,None],zz_t[:,:,None],\n",
    "                        xxt_t[:,:,None],yyt_t[:,:,None],zzt_t[:,:,None],\n",
    "                        xxg_t[:,:,None],yyg_t[:,:,None],zzg_t[:,:,None]),axis=2)"
   ]
  },
  {
   "cell_type": "code",
   "execution_count": 86,
   "id": "2ecc5859-ebd3-463c-bc8f-36e6b5244ff4",
   "metadata": {},
   "outputs": [
    {
     "name": "stdout",
     "output_type": "stream",
     "text": [
      "(7352, 128, 9)\n",
      "(7352,)\n",
      "(2947, 128, 9)\n",
      "(2947,)\n"
     ]
    }
   ],
   "source": [
    "print(xtrain.shape)\n",
    "print(ytrain.shape)\n",
    "print(xtest.shape)\n",
    "print(ytest.shape)\n"
   ]
  },
  {
   "cell_type": "code",
   "execution_count": 87,
   "id": "7f76d1b5-07f3-41af-a3c9-e1e1e96d99cb",
   "metadata": {},
   "outputs": [
    {
     "name": "stderr",
     "output_type": "stream",
     "text": [
      "2023-07-07 16:19:37.254841: I tensorflow/stream_executor/cuda/cuda_driver.cc:739] failed to allocate 19.84M (20807680 bytes) from device: CUDA_ERROR_OUT_OF_MEMORY: out of memory\n",
      "2023-07-07 16:19:37.264599: I tensorflow/stream_executor/cuda/cuda_driver.cc:739] failed to allocate 19.84M (20807680 bytes) from device: CUDA_ERROR_OUT_OF_MEMORY: out of memory\n",
      "2023-07-07 16:19:47.274464: I tensorflow/stream_executor/cuda/cuda_driver.cc:739] failed to allocate 19.84M (20807680 bytes) from device: CUDA_ERROR_OUT_OF_MEMORY: out of memory\n",
      "2023-07-07 16:19:47.284093: I tensorflow/stream_executor/cuda/cuda_driver.cc:739] failed to allocate 19.84M (20807680 bytes) from device: CUDA_ERROR_OUT_OF_MEMORY: out of memory\n",
      "2023-07-07 16:19:47.284120: W tensorflow/core/common_runtime/bfc_allocator.cc:462] Allocator (GPU_0_bfc) ran out of memory trying to allocate 6.46MiB (rounded to 6778368)requested by op _EagerConst\n",
      "If the cause is memory fragmentation maybe the environment variable 'TF_GPU_ALLOCATOR=cuda_malloc_async' will improve the situation. \n",
      "Current allocation summary follows.\n",
      "Current allocation summary follows.\n",
      "2023-07-07 16:19:47.284134: I tensorflow/core/common_runtime/bfc_allocator.cc:1010] BFCAllocator dump for GPU_0_bfc\n",
      "2023-07-07 16:19:47.284146: I tensorflow/core/common_runtime/bfc_allocator.cc:1017] Bin (256): \tTotal Chunks: 76, Chunks in use: 76. 19.0KiB allocated for chunks. 19.0KiB in use in bin. 5.1KiB client-requested in use in bin.\n",
      "2023-07-07 16:19:47.284155: I tensorflow/core/common_runtime/bfc_allocator.cc:1017] Bin (512): \tTotal Chunks: 0, Chunks in use: 0. 0B allocated for chunks. 0B in use in bin. 0B client-requested in use in bin.\n",
      "2023-07-07 16:19:47.284164: I tensorflow/core/common_runtime/bfc_allocator.cc:1017] Bin (1024): \tTotal Chunks: 6, Chunks in use: 6. 8.8KiB allocated for chunks. 8.8KiB in use in bin. 8.5KiB client-requested in use in bin.\n",
      "2023-07-07 16:19:47.284173: I tensorflow/core/common_runtime/bfc_allocator.cc:1017] Bin (2048): \tTotal Chunks: 2, Chunks in use: 2. 5.8KiB allocated for chunks. 5.8KiB in use in bin. 4.5KiB client-requested in use in bin.\n",
      "2023-07-07 16:19:47.284182: I tensorflow/core/common_runtime/bfc_allocator.cc:1017] Bin (4096): \tTotal Chunks: 5, Chunks in use: 5. 27.5KiB allocated for chunks. 27.5KiB in use in bin. 22.5KiB client-requested in use in bin.\n",
      "2023-07-07 16:19:47.284191: I tensorflow/core/common_runtime/bfc_allocator.cc:1017] Bin (8192): \tTotal Chunks: 7, Chunks in use: 7. 56.8KiB allocated for chunks. 56.8KiB in use in bin. 53.7KiB client-requested in use in bin.\n",
      "2023-07-07 16:19:47.284200: I tensorflow/core/common_runtime/bfc_allocator.cc:1017] Bin (16384): \tTotal Chunks: 4, Chunks in use: 4. 92.0KiB allocated for chunks. 92.0KiB in use in bin. 91.9KiB client-requested in use in bin.\n",
      "2023-07-07 16:19:47.284209: I tensorflow/core/common_runtime/bfc_allocator.cc:1017] Bin (32768): \tTotal Chunks: 1, Chunks in use: 1. 34.5KiB allocated for chunks. 34.5KiB in use in bin. 34.5KiB client-requested in use in bin.\n",
      "2023-07-07 16:19:47.284217: I tensorflow/core/common_runtime/bfc_allocator.cc:1017] Bin (65536): \tTotal Chunks: 0, Chunks in use: 0. 0B allocated for chunks. 0B in use in bin. 0B client-requested in use in bin.\n",
      "2023-07-07 16:19:47.284228: I tensorflow/core/common_runtime/bfc_allocator.cc:1017] Bin (131072): \tTotal Chunks: 1, Chunks in use: 1. 138.0KiB allocated for chunks. 138.0KiB in use in bin. 137.8KiB client-requested in use in bin.\n",
      "2023-07-07 16:19:47.284235: I tensorflow/core/common_runtime/bfc_allocator.cc:1017] Bin (262144): \tTotal Chunks: 0, Chunks in use: 0. 0B allocated for chunks. 0B in use in bin. 0B client-requested in use in bin.\n",
      "2023-07-07 16:19:47.284243: I tensorflow/core/common_runtime/bfc_allocator.cc:1017] Bin (524288): \tTotal Chunks: 0, Chunks in use: 0. 0B allocated for chunks. 0B in use in bin. 0B client-requested in use in bin.\n",
      "2023-07-07 16:19:47.284251: I tensorflow/core/common_runtime/bfc_allocator.cc:1017] Bin (1048576): \tTotal Chunks: 0, Chunks in use: 0. 0B allocated for chunks. 0B in use in bin. 0B client-requested in use in bin.\n",
      "2023-07-07 16:19:47.284258: I tensorflow/core/common_runtime/bfc_allocator.cc:1017] Bin (2097152): \tTotal Chunks: 0, Chunks in use: 0. 0B allocated for chunks. 0B in use in bin. 0B client-requested in use in bin.\n",
      "2023-07-07 16:19:47.284273: I tensorflow/core/common_runtime/bfc_allocator.cc:1017] Bin (4194304): \tTotal Chunks: 2, Chunks in use: 2. 12.93MiB allocated for chunks. 12.93MiB in use in bin. 12.93MiB client-requested in use in bin.\n",
      "2023-07-07 16:19:47.284280: I tensorflow/core/common_runtime/bfc_allocator.cc:1017] Bin (8388608): \tTotal Chunks: 0, Chunks in use: 0. 0B allocated for chunks. 0B in use in bin. 0B client-requested in use in bin.\n",
      "2023-07-07 16:19:47.284290: I tensorflow/core/common_runtime/bfc_allocator.cc:1017] Bin (16777216): \tTotal Chunks: 5, Chunks in use: 5. 129.22MiB allocated for chunks. 129.22MiB in use in bin. 129.22MiB client-requested in use in bin.\n",
      "2023-07-07 16:19:47.284299: I tensorflow/core/common_runtime/bfc_allocator.cc:1017] Bin (33554432): \tTotal Chunks: 1, Chunks in use: 1. 36.07MiB allocated for chunks. 36.07MiB in use in bin. 25.84MiB client-requested in use in bin.\n",
      "2023-07-07 16:19:47.284306: I tensorflow/core/common_runtime/bfc_allocator.cc:1017] Bin (67108864): \tTotal Chunks: 0, Chunks in use: 0. 0B allocated for chunks. 0B in use in bin. 0B client-requested in use in bin.\n",
      "2023-07-07 16:19:47.284314: I tensorflow/core/common_runtime/bfc_allocator.cc:1017] Bin (134217728): \tTotal Chunks: 0, Chunks in use: 0. 0B allocated for chunks. 0B in use in bin. 0B client-requested in use in bin.\n",
      "2023-07-07 16:19:47.284321: I tensorflow/core/common_runtime/bfc_allocator.cc:1017] Bin (268435456): \tTotal Chunks: 0, Chunks in use: 0. 0B allocated for chunks. 0B in use in bin. 0B client-requested in use in bin.\n",
      "2023-07-07 16:19:47.284330: I tensorflow/core/common_runtime/bfc_allocator.cc:1033] Bin for 6.46MiB was 4.00MiB, Chunk State: \n",
      "2023-07-07 16:19:47.284336: I tensorflow/core/common_runtime/bfc_allocator.cc:1046] Next region of size 187269120\n",
      "2023-07-07 16:19:47.284346: I tensorflow/core/common_runtime/bfc_allocator.cc:1066] InUse at 1103be0000 of size 1280 next 1\n",
      "2023-07-07 16:19:47.284353: I tensorflow/core/common_runtime/bfc_allocator.cc:1066] InUse at 1103be0500 of size 256 next 2\n",
      "2023-07-07 16:19:47.284359: I tensorflow/core/common_runtime/bfc_allocator.cc:1066] InUse at 1103be0600 of size 256 next 3\n",
      "2023-07-07 16:19:47.284365: I tensorflow/core/common_runtime/bfc_allocator.cc:1066] InUse at 1103be0700 of size 256 next 4\n",
      "2023-07-07 16:19:47.284371: I tensorflow/core/common_runtime/bfc_allocator.cc:1066] InUse at 1103be0800 of size 256 next 5\n",
      "2023-07-07 16:19:47.284377: I tensorflow/core/common_runtime/bfc_allocator.cc:1066] InUse at 1103be0900 of size 256 next 8\n",
      "2023-07-07 16:19:47.284383: I tensorflow/core/common_runtime/bfc_allocator.cc:1066] InUse at 1103be0a00 of size 256 next 9\n",
      "2023-07-07 16:19:47.284389: I tensorflow/core/common_runtime/bfc_allocator.cc:1066] InUse at 1103be0b00 of size 256 next 10\n",
      "2023-07-07 16:19:47.284395: I tensorflow/core/common_runtime/bfc_allocator.cc:1066] InUse at 1103be0c00 of size 256 next 11\n",
      "2023-07-07 16:19:47.284401: I tensorflow/core/common_runtime/bfc_allocator.cc:1066] InUse at 1103be0d00 of size 256 next 12\n",
      "2023-07-07 16:19:47.284407: I tensorflow/core/common_runtime/bfc_allocator.cc:1066] InUse at 1103be0e00 of size 256 next 13\n",
      "2023-07-07 16:19:47.284413: I tensorflow/core/common_runtime/bfc_allocator.cc:1066] InUse at 1103be0f00 of size 256 next 14\n",
      "2023-07-07 16:19:47.284419: I tensorflow/core/common_runtime/bfc_allocator.cc:1066] InUse at 1103be1000 of size 256 next 15\n",
      "2023-07-07 16:19:47.284426: I tensorflow/core/common_runtime/bfc_allocator.cc:1066] InUse at 1103be1100 of size 256 next 18\n",
      "2023-07-07 16:19:47.284432: I tensorflow/core/common_runtime/bfc_allocator.cc:1066] InUse at 1103be1200 of size 256 next 19\n",
      "2023-07-07 16:19:47.284437: I tensorflow/core/common_runtime/bfc_allocator.cc:1066] InUse at 1103be1300 of size 256 next 20\n",
      "2023-07-07 16:19:47.284444: I tensorflow/core/common_runtime/bfc_allocator.cc:1066] InUse at 1103be14"
     ]
    },
    {
     "ename": "InternalError",
     "evalue": "Failed copying input tensor from /job:localhost/replica:0/task:0/device:CPU:0 to /job:localhost/replica:0/task:0/device:GPU:0 in order to run _EagerConst: Dst tensor is not initialized.",
     "output_type": "error",
     "traceback": [
      "\u001b[0;31m---------------------------------------------------------------------------\u001b[0m",
      "\u001b[0;31mInternalError\u001b[0m                             Traceback (most recent call last)",
      "Cell \u001b[0;32mIn[87], line 8\u001b[0m\n\u001b[1;32m      5\u001b[0m y_val \u001b[38;5;241m=\u001b[39m tf\u001b[38;5;241m.\u001b[39mkeras\u001b[38;5;241m.\u001b[39mutils\u001b[38;5;241m.\u001b[39mto_categorical(y_val)\n\u001b[1;32m      7\u001b[0m x_input \u001b[38;5;241m=\u001b[39m tf\u001b[38;5;241m.\u001b[39mconvert_to_tensor(x_input, tf\u001b[38;5;241m.\u001b[39mfloat32)\n\u001b[0;32m----> 8\u001b[0m x_val \u001b[38;5;241m=\u001b[39m \u001b[43mtf\u001b[49m\u001b[38;5;241;43m.\u001b[39;49m\u001b[43mconvert_to_tensor\u001b[49m\u001b[43m(\u001b[49m\u001b[43mx_val\u001b[49m\u001b[43m,\u001b[49m\u001b[43m \u001b[49m\u001b[43mtf\u001b[49m\u001b[38;5;241;43m.\u001b[39;49m\u001b[43mfloat32\u001b[49m\u001b[43m)\u001b[49m\n\u001b[1;32m      9\u001b[0m y_input \u001b[38;5;241m=\u001b[39m tf\u001b[38;5;241m.\u001b[39mconvert_to_tensor(y_input, tf\u001b[38;5;241m.\u001b[39mfloat32)\n\u001b[1;32m     10\u001b[0m y_val \u001b[38;5;241m=\u001b[39m tf\u001b[38;5;241m.\u001b[39mconvert_to_tensor(y_val, tf\u001b[38;5;241m.\u001b[39mfloat32)\n",
      "File \u001b[0;32m/opt/conda/lib/python3.8/site-packages/tensorflow/python/util/traceback_utils.py:153\u001b[0m, in \u001b[0;36mfilter_traceback.<locals>.error_handler\u001b[0;34m(*args, **kwargs)\u001b[0m\n\u001b[1;32m    151\u001b[0m \u001b[38;5;28;01mexcept\u001b[39;00m \u001b[38;5;167;01mException\u001b[39;00m \u001b[38;5;28;01mas\u001b[39;00m e:\n\u001b[1;32m    152\u001b[0m   filtered_tb \u001b[38;5;241m=\u001b[39m _process_traceback_frames(e\u001b[38;5;241m.\u001b[39m__traceback__)\n\u001b[0;32m--> 153\u001b[0m   \u001b[38;5;28;01mraise\u001b[39;00m e\u001b[38;5;241m.\u001b[39mwith_traceback(filtered_tb) \u001b[38;5;28;01mfrom\u001b[39;00m \u001b[38;5;28;01mNone\u001b[39;00m\n\u001b[1;32m    154\u001b[0m \u001b[38;5;28;01mfinally\u001b[39;00m:\n\u001b[1;32m    155\u001b[0m   \u001b[38;5;28;01mdel\u001b[39;00m filtered_tb\n",
      "File \u001b[0;32m/opt/conda/lib/python3.8/site-packages/tensorflow/python/framework/constant_op.py:102\u001b[0m, in \u001b[0;36mconvert_to_eager_tensor\u001b[0;34m(value, ctx, dtype)\u001b[0m\n\u001b[1;32m    100\u001b[0m     dtype \u001b[38;5;241m=\u001b[39m dtypes\u001b[38;5;241m.\u001b[39mas_dtype(dtype)\u001b[38;5;241m.\u001b[39mas_datatype_enum\n\u001b[1;32m    101\u001b[0m ctx\u001b[38;5;241m.\u001b[39mensure_initialized()\n\u001b[0;32m--> 102\u001b[0m \u001b[38;5;28;01mreturn\u001b[39;00m \u001b[43mops\u001b[49m\u001b[38;5;241;43m.\u001b[39;49m\u001b[43mEagerTensor\u001b[49m\u001b[43m(\u001b[49m\u001b[43mvalue\u001b[49m\u001b[43m,\u001b[49m\u001b[43m \u001b[49m\u001b[43mctx\u001b[49m\u001b[38;5;241;43m.\u001b[39;49m\u001b[43mdevice_name\u001b[49m\u001b[43m,\u001b[49m\u001b[43m \u001b[49m\u001b[43mdtype\u001b[49m\u001b[43m)\u001b[49m\n",
      "\u001b[0;31mInternalError\u001b[0m: Failed copying input tensor from /job:localhost/replica:0/task:0/device:CPU:0 to /job:localhost/replica:0/task:0/device:GPU:0 in order to run _EagerConst: Dst tensor is not initialized."
     ]
    },
    {
     "name": "stderr",
     "output_type": "stream",
     "text": [
      "00 of size 256 next 21\n",
      "2023-07-07 16:19:47.284451: I tensorflow/core/common_runtime/bfc_allocator.cc:1066] InUse at 1103be1500 of size 256 next 23\n",
      "2023-07-07 16:19:47.284457: I tensorflow/core/common_runtime/bfc_allocator.cc:1066] InUse at 1103be1600 of size 256 next 24\n",
      "2023-07-07 16:19:47.284463: I tensorflow/core/common_runtime/bfc_allocator.cc:1066] InUse at 1103be1700 of size 256 next 25\n",
      "2023-07-07 16:19:47.284469: I tensorflow/core/common_runtime/bfc_allocator.cc:1066] InUse at 1103be1800 of size 256 next 28\n",
      "2023-07-07 16:19:47.284475: I tensorflow/core/common_runtime/bfc_allocator.cc:1066] InUse at 1103be1900 of size 256 next 29\n",
      "2023-07-07 16:19:47.284482: I tensorflow/core/common_runtime/bfc_allocator.cc:1066] InUse at 1103be1a00 of size 256 next 32\n",
      "2023-07-07 16:19:47.284488: I tensorflow/core/common_runtime/bfc_allocator.cc:1066] InUse at 1103be1b00 of size 256 next 33\n",
      "2023-07-07 16:19:47.284494: I tensorflow/core/common_runtime/bfc_allocator.cc:1066] InUse at 1103be1c00 of size 256 next 34\n",
      "2023-07-07 16:19:47.284500: I tensorflow/core/common_runtime/bfc_allocator.cc:1066] InUse at 1103be1d00 of size 256 next 35\n",
      "2023-07-07 16:19:47.284506: I tensorflow/core/common_runtime/bfc_allocator.cc:1066] InUse at 1103be1e00 of size 256 next 37\n",
      "2023-07-07 16:19:47.284512: I tensorflow/core/common_runtime/bfc_allocator.cc:1066] InUse at 1103be1f00 of size 256 next 6\n",
      "2023-07-07 16:19:47.284518: I tensorflow/core/common_runtime/bfc_allocator.cc:1066] InUse at 1103be2000 of size 3072 next 7\n",
      "2023-07-07 16:19:47.284526: I tensorflow/core/common_runtime/bfc_allocator.cc:1066] InUse at 1103be2c00 of size 1536 next 22\n",
      "2023-07-07 16:19:47.284532: I tensorflow/core/common_runtime/bfc_allocator.cc:1066] InUse at 1103be3200 of size 256 next 38\n",
      "2023-07-07 16:19:47.284538: I tensorflow/core/common_runtime/bfc_allocator.cc:1066] InUse at 1103be3300 of size 8960 next 36\n",
      "2023-07-07 16:19:47.284544: I tensorflow/core/common_runtime/bfc_allocator.cc:1066] InUse at 1103be5600 of size 5632 next 17\n",
      "2023-07-07 16:19:47.284550: I tensorflow/core/common_runtime/bfc_allocator.cc:1066] InUse at 1103be6c00 of size 8192 next 16\n",
      "2023-07-07 16:19:47.284556: I tensorflow/core/common_runtime/bfc_allocator.cc:1066] InUse at 1103be8c00 of size 27099648 next 26\n",
      "2023-07-07 16:19:47.284562: I tensorflow/core/common_runtime/bfc_allocator.cc:1066] InUse at 11055c0e00 of size 23552 next 27\n",
      "2023-07-07 16:19:47.284568: I tensorflow/core/common_runtime/bfc_allocator.cc:1066] InUse at 11055c6a00 of size 27099648 next 30\n",
      "2023-07-07 16:19:47.284575: I tensorflow/core/common_runtime/bfc_allocator.cc:1066] InUse at 1106f9ec00 of size 23552 next 31\n",
      "2023-07-07 16:19:47.284581: I tensorflow/core/common_runtime/bfc_allocator.cc:1066] InUse at 1106fa4800 of size 256 next 39\n",
      "2023-07-07 16:19:47.284587: I tensorflow/core/common_runtime/bfc_allocator.cc:1066] InUse at 1106fa4900 of size 256 next 42\n",
      "2023-07-07 16:19:47.284593: I tensorflow/core/common_runtime/bfc_allocator.cc:1066] InUse at 1106fa4a00 of size 256 next 43\n",
      "2023-07-07 16:19:47.284599: I tensorflow/core/common_runtime/bfc_allocator.cc:1066] InUse at 1106fa4b00 of size 256 next 46\n",
      "2023-07-07 16:19:47.284605: I tensorflow/core/common_runtime/bfc_allocator.cc:1066] InUse at 1106fa4c00 of size 256 next 52\n",
      "2023-07-07 16:19:47.284611: I tensorflow/core/common_runtime/bfc_allocator.cc:1066] InUse at 1106fa4d00 of size 256 next 55\n",
      "2023-07-07 16:19:47.284617: I tensorflow/core/common_runtime/bfc_allocator.cc:1066] InUse at 1106fa4e00 of size 256 next 56\n",
      "2023-07-07 16:19:47.284623: I tensorflow/core/common_runtime/bfc_allocator.cc:1066] InUse at 1106fa4f00 of size 256 next 57\n",
      "2023-07-07 16:19:47.284629: I tensorflow/core/common_runtime/bfc_allocator.cc:1066] InUse at 1106fa5000 of size 256 next 58\n",
      "2023-07-07 16:19:47.284635: I tensorflow/core/common_runtime/bfc_allocator.cc:1066] InUse at 1106fa5100 of size 256 next 61\n",
      "2023-07-07 16:19:47.284641: I tensorflow/core/common_runtime/bfc_allocator.cc:1066] InUse at 1106fa5200 of size 256 next 62\n",
      "2023-07-07 16:19:47.284649: I tensorflow/core/common_runtime/bfc_allocator.cc:1066] InUse at 1106fa5300 of size 256 next 64\n",
      "2023-07-07 16:19:47.284655: I tensorflow/core/common_runtime/bfc_allocator.cc:1066] InUse at 1106fa5400 of size 256 next 65\n",
      "2023-07-07 16:19:47.284661: I tensorflow/core/common_runtime/bfc_allocator.cc:1066] InUse at 1106fa5500 of size 256 next 44\n",
      "2023-07-07 16:19:47.284667: I tensorflow/core/common_runtime/bfc_allocator.cc:1066] InUse at 1106fa5600 of size 1536 next 45\n",
      "2023-07-07 16:19:47.284673: I tensorflow/core/common_runtime/bfc_allocator.cc:1066] InUse at 1106fa5c00 of size 256 next 71\n",
      "2023-07-07 16:19:47.284679: I tensorflow/core/common_runtime/bfc_allocator.cc:1066] InUse at 1106fa5d00 of size 256 next 72\n",
      "2023-07-07 16:19:47.284685: I tensorflow/core/common_runtime/bfc_allocator.cc:1066] InUse at 1106fa5e00 of size 256 next 73\n",
      "2023-07-07 16:19:47.284691: I tensorflow/core/common_runtime/bfc_allocator.cc:1066] InUse at 1106fa5f00 of size 256 next 74\n",
      "2023-07-07 16:19:47.284697: I tensorflow/core/common_runtime/bfc_allocator.cc:1066] InUse at 1106fa6000 of size 256 next 75\n",
      "2023-07-07 16:19:47.284703: I tensorflow/core/common_runtime/bfc_allocator.cc:1066] InUse at 1106fa6100 of size 256 next 85\n",
      "2023-07-07 16:19:47.284709: I tensorflow/core/common_runtime/bfc_allocator.cc:1066] InUse at 1106fa6200 of size 256 next 86\n",
      "2023-07-07 16:19:47.284715: I tensorflow/core/common_runtime/bfc_allocator.cc:1066] InUse at 1106fa6300 of size 256 next 87\n",
      "2023-07-07 16:19:47.284721: I tensorflow/core/common_runtime/bfc_allocator.cc:1066] InUse at 1106fa6400 of size 256 next 88\n",
      "2023-07-07 16:19:47.284727: I tensorflow/core/common_runtime/bfc_allocator.cc:1066] InUse at 1106fa6500 of size 256 next 89\n",
      "2023-07-07 16:19:47.284733: I tensorflow/core/common_runtime/bfc_allocator.cc:1066] InUse at 1106fa6600 of size 256 next 91\n",
      "2023-07-07 16:19:47.284739: I tensorflow/core/common_runtime/bfc_allocator.cc:1066] InUse at 1106fa6700 of size 256 next 93\n",
      "2023-07-07 16:19:47.284745: I tensorflow/core/common_runtime/bfc_allocator.cc:1066] InUse at 1106fa6800 of size 256 next 40\n",
      "2023-07-07 16:19:47.284751: I tensorflow/core/common_runtime/bfc_allocator.cc:1066] InUse at 1106fa6900 of size 8192 next 41\n",
      "2023-07-07 16:19:47.284757: I tensorflow/core/common_runtime/bfc_allocator.cc:1066] InUse at 1106fa8900 of size 27099648 next 47\n",
      "2023-07-07 16:19:47.284763: I tensorflow/core/common_runtime/bfc_allocator.cc:1066] InUse at 1108980b00 of size 23552 next 48\n",
      "2023-07-07 16:19:47.284769: I tensorflow/core/common_runtime/bfc_allocator.cc:1066] InUse at 1108986700 of size 27099648 next 49\n",
      "2023-07-07 16:19:47.284776: I tensorflow/core/common_runtime/bfc_allocator.cc:1066] InUse at 110a35e900 of size 6778368 next 50\n",
      "2023-07-07 16:19:47.284782: I tensorflow/core/common_runtime/bfc_allocator.cc:1066] InUse at 110a9d5700 of size 23552 next 51\n",
      "2023-07-07 16:19:47.284788: I tensorflow/core/common_runtime/bfc_allocator.cc:1066] InUse at 110a9db300 of size 256 next 78\n",
      "2023-07-07 16:19:47.284794: I tensorflow/core/common_runtime/bfc_allocator.cc:1066] InUse at 110a9db400 of size 256 next 80\n",
      "2023-07-07 16:19:47.284800: I tensorflow/core/common_runtime/bfc_allocator.cc:1066] InUse at 110a9db500 of size 256 next 81\n",
      "2023-07-07 16:19:47.284806: I tensorflow/core/common_runtime/bfc_allocator.cc:1066] InUse at 110a9db600 of size 256 next 82\n",
      "2023-07-07 16:19:47.284812: I tensorflow/core/common_runtime/bfc_allocator.cc:1066] InUse at 110a9db700 of size 256 next 83\n",
      "2023-07-07 16:19:47.284818: I tensorflow/core/common_runtime/bfc_allocator.cc:1066] InUse at 110a9db800 of size 256 next 84\n",
      "2023-07-07 16:19:47.284824: I tensorflow/core/common_runtime/bfc_allocator.cc:1066] InUse at 110a9db900 of size 256 next 79\n",
      "2023-07-07 16:19:47.284830: I tensorflow/core/common_runtime/bfc_allocator.cc:1066] InUse at 110a9dba00 of size 2816 next 70\n",
      "2023-07-07 16:19:47.284837: I tensorflow/core/common_runtime/bfc_allocator.cc:1066] InUse at 110a9dc500 of size 4608 next 54\n",
      "2023-07-07 16:19:47.284845: I tensorflow/core/common_runtime/bfc_allocator.cc:1066] InUse at 110a9dd700 of size 4608 next 53\n",
      "2023-07-07 16:19:47.284851: I tensorflow/core/common_runtime/bfc_allocator.cc:1066] InUse at 110a9de900 of size 1536 next 63\n",
      "2023-07-07 16:19:47.284857: I tensorflow/core/common_runtime/bfc_allocator.cc:1066] InUse at 110a9def00 of size 6656 next 60\n",
      "2023-07-07 16:19:47.284863: I tensorflow/core/common_runtime/bfc_allocator.cc:1066] InUse at 110a9e0900 of size 8192 next 59\n",
      "2023-07-07 16:19:47.284869: I tensorflow/core/common_runtime/bfc_allocator.cc:1066] InUse at 110a9e2900 of size 27099648 next 66\n",
      "2023-07-07 16:19:47.284875: I tensorflow/core/common_runtime/bfc_allocator.cc:1066] InUse at 110c3bab00 of size 6778368 next 67\n",
      "2023-07-07 16:19:47.284881: I tensorflow/core/common_runtime/bfc_allocator.cc:1066] InUse at 110ca31900 of size 141312 next 68\n",
      "2023-07-07 16:19:47.284887: I tensorflow/core/common_runtime/bfc_allocator.cc:1066] InUse at 110ca54100 of size 35328 next 69\n",
      "2023-07-07 16:19:47.284894: I tensorflow/core/common_runtime/bfc_allocator.cc:1066] InUse at 110ca5cb00 of size 8192 next 90\n",
      "2023-07-07 16:19:47.284900: I tensorflow/core/common_runtime/bfc_allocator.cc:1066] InUse at 110ca5eb00 of size 1536 next 92\n",
      "2023-07-07 16:19:47.284906: I tensorflow/core/common_runtime/bfc_allocator.cc:1066] InUse at 110ca5f100 of size 6656 next 77\n",
      "2023-07-07 16:19:47.284912: I tensorflow/core/common_runtime/bfc_allocator.cc:1066] InUse at 110ca60b00 of size 8192 next 76\n",
      "2023-07-07 16:19:47.284918: I tensorflow/core/common_runtime/bfc_allocator.cc:1066] InUse at 110ca62b00 of size 256 next 94\n",
      "2023-07-07 16:19:47.284924: I tensorflow/core/common_runtime/bfc_allocator.cc:1066] InUse at 110ca62c00 of size 256 next 95\n",
      "2023-07-07 16:19:47.284930: I tensorflow/core/common_runtime/bfc_allocator.cc:1066] InUse at 110ca62d00 of size 8192 next 96\n",
      "2023-07-07 16:19:47.284935: I tensorflow/core/common_runtime/bfc_allocator.cc:1066] InUse at 110ca64d00 of size 256 next 97\n",
      "2023-07-07 16:19:47.284941: I tensorflow/core/common_runtime/bfc_allocator.cc:1066] InUse at 110ca64e00 of size 1536 next 98\n",
      "2023-07-07 16:19:47.284947: I tensorflow/core/common_runtime/bfc_allocator.cc:1066] InUse at 110ca65400 of size 256 next 99\n",
      "2023-07-07 16:19:47.284954: I tensorflow/core/common_runtime/bfc_allocator.cc:1066] InUse at 110ca65500 of size 256 next 100\n",
      "2023-07-07 16:19:47.284960: I tensorflow/core/common_runtime/bfc_allocator.cc:1066] InUse at 110ca65600 of size 256 next 101\n",
      "2023-07-07 16:19:47.284966: I tensorflow/core/common_runtime/bfc_allocator.cc:1066] InUse at 110ca65700 of size 256 next 102\n",
      "2023-07-07 16:19:47.284971: I tensorflow/core/common_runtime/bfc_allocator.cc:1066] InUse at 110ca65800 of size 256 next 103\n",
      "2023-07-07 16:19:47.284977: I tensorflow/core/common_runtime/bfc_allocator.cc:1066] InUse at 110ca65900 of size 256 next 104\n",
      "2023-07-07 16:19:47.284983: I tensorflow/core/common_runtime/bfc_allocator.cc:1066] InUse at 110ca65a00 of size 256 next 105\n",
      "2023-07-07 16:19:47.284989: I tensorflow/core/common_runtime/bfc_allocator.cc:1066] InUse at 110ca65b00 of size 256 next 106\n",
      "2023-07-07 16:19:47.284995: I tensorflow/core/common_runtime/bfc_allocator.cc:1066] InUse at 110ca65c00 of size 256 next 107\n",
      "2023-07-07 16:19:47.285001: I tensorflow/core/common_runtime/bfc_allocator.cc:1066] InUse at 110ca65d00 of size 256 next 108\n",
      "2023-07-07 16:19:47.285007: I tensorflow/core/common_runtime/bfc_allocator.cc:1066] InUse at 110ca65e00 of size 256 next 109\n",
      "2023-07-07 16:19:47.285014: I tensorflow/core/common_runtime/bfc_allocator.cc:1066] InUse at 110ca65f00 of size 37822720 next 18446744073709551615\n",
      "2023-07-07 16:19:47.285019: I tensorflow/core/common_runtime/bfc_allocator.cc:1071]      Summary of in-use Chunks by size: \n",
      "2023-07-07 16:19:47.285028: I tensorflow/core/common_runtime/bfc_allocator.cc:1074] 76 Chunks of size 256 totalling 19.0KiB\n",
      "2023-07-07 16:19:47.285036: I tensorflow/core/common_runtime/bfc_allocator.cc:1074] 1 Chunks of size 1280 totalling 1.2KiB\n",
      "2023-07-07 16:19:47.285044: I tensorflow/core/common_runtime/bfc_allocator.cc:1074] 5 Chunks of size 1536 totalling 7.5KiB\n",
      "2023-07-07 16:19:47.285051: I tensorflow/core/common_runtime/bfc_allocator.cc:1074] 1 Chunks of size 2816 totalling 2.8KiB\n",
      "2023-07-07 16:19:47.285058: I tensorflow/core/common_runtime/bfc_allocator.cc:1074] 1 Chunks of size 3072 totalling 3.0KiB\n",
      "2023-07-07 16:19:47.285065: I tensorflow/core/common_runtime/bfc_allocator.cc:1074] 2 Chunks of size 4608 totalling 9.0KiB\n",
      "2023-07-07 16:19:47.285072: I tensorflow/core/common_runtime/bfc_allocator.cc:1074] 1 Chunks of size 5632 totalling 5.5KiB\n",
      "2023-07-07 16:19:47.285079: I tensorflow/core/common_runtime/bfc_allocator.cc:1074] 2 Chunks of size 6656 totalling 13.0KiB\n",
      "2023-07-07 16:19:47.285086: I tensorflow/core/common_runtime/bfc_allocator.cc:1074] 6 Chunks of size 8192 totalling 48.0KiB\n",
      "2023-07-07 16:19:47.285093: I tensorflow/core/common_runtime/bfc_allocator.cc:1074] 1 Chunks of size 8960 totalling 8.8KiB\n",
      "2023-07-07 16:19:47.285100: I tensorflow/core/common_runtime/bfc_allocator.cc:1074] 4 Chunks of size 23552 totalling 92.0KiB\n",
      "2023-07-07 16:19:47.285107: I tensorflow/core/common_runtime/bfc_allocator.cc:1074] 1 Chunks of size 35328 totalling 34.5KiB\n",
      "2023-07-07 16:19:47.285114: I tensorflow/core/common_runtime/bfc_allocator.cc:1074] 1 Chunks of size 141312 totalling 138.0KiB\n",
      "2023-07-07 16:19:47.285122: I tensorflow/core/common_runtime/bfc_allocator.cc:1074] 2 Chunks of size 6778368 totalling 12.93MiB\n",
      "2023-07-07 16:19:47.285129: I tensorflow/core/common_runtime/bfc_allocator.cc:1074] 5 Chunks of size 27099648 totalling 129.22MiB\n",
      "2023-07-07 16:19:47.285136: I tensorflow/core/common_runtime/bfc_allocator.cc:1074] 1 Chunks of size 37822720 totalling 36.07MiB\n",
      "2023-07-07 16:19:47.285143: I tensorflow/core/common_runtime/bfc_allocator.cc:1078] Sum Total of in-use chunks: 178.59MiB\n",
      "2023-07-07 16:19:47.285150: I tensorflow/core/common_runtime/bfc_allocator.cc:1080] total_region_allocated_bytes_: 187269120 memory_limit_: 208076800 available bytes: 20807680 curr_region_allocation_bytes_: 416153600\n",
      "2023-07-07 16:19:47.285161: I tensorflow/core/common_runtime/bfc_allocator.cc:1086] Stats: \n",
      "Limit:                       208076800\n",
      "InUse:                       187269120\n",
      "MaxInUse:                    187269120\n",
      "NumAllocs:                         162\n",
      "MaxAllocSize:                 37822720\n",
      "Reserved:                            0\n",
      "PeakReserved:                        0\n",
      "LargestFreeBlock:                    0\n",
      "\n",
      "2023-07-07 16:19:47.285175: W tensorflow/core/common_runtime/bfc_allocator.cc:474] ***********************************************************************************************xxxxx\n"
     ]
    }
   ],
   "source": [
    "x_input, x_val, y_input, y_val = train_test_split(xtrain, ytrain, test_size=0.2, random_state=10)\n",
    "\n",
    "#one-hot encoding for labels\n",
    "y_input = tf.keras.utils.to_categorical(y_input)\n",
    "y_val = tf.keras.utils.to_categorical(y_val)\n",
    "\n",
    "x_input = tf.convert_to_tensor(x_input, tf.float32)\n",
    "x_val = tf.convert_to_tensor(x_val, tf.float32)\n",
    "y_input = tf.convert_to_tensor(y_input, tf.float32)\n",
    "y_val = tf.convert_to_tensor(y_val, tf.float32)\n",
    "print(x_val.shape)\n",
    "print(xtest.shape)\n",
    "print(y_input.shape)\n",
    "print(y_val.shape)"
   ]
  },
  {
   "cell_type": "markdown",
   "id": "4aab3f69-0cdd-4683-94b2-fb9211a04d67",
   "metadata": {},
   "source": [
    "Using the best architecture from part 2, we have extra dimensions"
   ]
  },
  {
   "cell_type": "code",
   "execution_count": 56,
   "id": "ca00d51d-af82-4459-8662-fdff4be8e3ad",
   "metadata": {},
   "outputs": [],
   "source": [
    "#tensorboad set up\n",
    "logdir = '/home/jovyan/logs/Project/Part3'"
   ]
  },
  {
   "cell_type": "code",
   "execution_count": 68,
   "id": "8a57205e",
   "metadata": {},
   "outputs": [],
   "source": [
    "# Keras API model\n",
    "\n",
    "#We create the input layer and combine with further dense layers,\n",
    "input_layer = tf.keras.Input(shape=(128, 9))\n",
    "output_layer = tf.keras.layers.Conv1D(filters=32, kernel_size=4)(input_layer)\n",
    "output_layer = tf.keras.layers.BatchNormalization()(output_layer)\n",
    "output_layer = tf.keras.layers.Dense(64, activation='relu')(output_layer)\n",
    "output_layer = tf.keras.layers.GlobalAveragePooling1D()(output_layer)\n",
    "\n",
    "# # Add a softmax layer with  output units:\n",
    "output_layer = tf.keras.layers.Dense(6, activation='softmax')(output_layer)"
   ]
  },
  {
   "cell_type": "code",
   "execution_count": 69,
   "id": "1ef3ea24",
   "metadata": {},
   "outputs": [
    {
     "name": "stdout",
     "output_type": "stream",
     "text": [
      "Model: \"model_3\"\n",
      "_________________________________________________________________\n",
      " Layer (type)                Output Shape              Param #   \n",
      "=================================================================\n",
      " input_4 (InputLayer)        [(None, 128, 9)]          0         \n",
      "                                                                 \n",
      " conv1d_3 (Conv1D)           (None, 125, 32)           1184      \n",
      "                                                                 \n",
      " batch_normalization_3 (Batc  (None, 125, 32)          128       \n",
      " hNormalization)                                                 \n",
      "                                                                 \n",
      " dense_6 (Dense)             (None, 125, 64)           2112      \n",
      "                                                                 \n",
      " global_average_pooling1d_3   (None, 64)               0         \n",
      " (GlobalAveragePooling1D)                                        \n",
      "                                                                 \n",
      " dense_7 (Dense)             (None, 6)                 390       \n",
      "                                                                 \n",
      "=================================================================\n",
      "Total params: 3,814\n",
      "Trainable params: 3,750\n",
      "Non-trainable params: 64\n",
      "_________________________________________________________________\n"
     ]
    }
   ],
   "source": [
    "# Compile model\n",
    "\n",
    "# Callbacks\n",
    "tensorboard_callback = tf.keras.callbacks.TensorBoard(log_dir=logdir)\n",
    "# create a callback that will stop training if the validation loss hasn't improved for 2 epochs\n",
    "early_stopping_callbacks = [tf.keras.callbacks.EarlyStopping(monitor='val_loss', patience=2)]\n",
    "# initialize tqdm callback with default parameters\n",
    "tqdm_callback = tfa.callbacks.TQDMProgressBar()\n",
    "\n",
    "model = tf.keras.Model(inputs=input_layer,outputs=output_layer)\n",
    "\n",
    "#The compilation and training then proceeds as per the sequential model,\n",
    "model.compile(optimizer=tf.keras.optimizers.Adam(0.001),\n",
    "loss='categorical_crossentropy', metrics=['accuracy'])\n",
    "\n",
    "\n",
    "model.summary()"
   ]
  },
  {
   "cell_type": "code",
   "execution_count": 70,
   "id": "0cab3c1b",
   "metadata": {},
   "outputs": [
    {
     "name": "stdout",
     "output_type": "stream",
     "text": [
      "Epoch 1/10\n"
     ]
    },
    {
     "name": "stderr",
     "output_type": "stream",
     "text": [
      "2023-07-07 16:11:45.057302: E tensorflow/stream_executor/cuda/cuda_dnn.cc:373] Could not create cudnn handle: CUDNN_STATUS_INTERNAL_ERROR\n",
      "2023-07-07 16:11:45.057400: W tensorflow/core/framework/op_kernel.cc:1745] OP_REQUIRES failed at conv_ops.cc:1120 : UNIMPLEMENTED: DNN library is not found.\n"
     ]
    },
    {
     "ename": "UnimplementedError",
     "evalue": "Graph execution error:\n\nDetected at node 'model_3/conv1d_3/Conv1D' defined at (most recent call last):\n    File \"/opt/conda/lib/python3.8/runpy.py\", line 194, in _run_module_as_main\n      return _run_code(code, main_globals, None,\n    File \"/opt/conda/lib/python3.8/runpy.py\", line 87, in _run_code\n      exec(code, run_globals)\n    File \"/opt/conda/lib/python3.8/site-packages/ipykernel_launcher.py\", line 17, in <module>\n      app.launch_new_instance()\n    File \"/opt/conda/lib/python3.8/site-packages/traitlets/config/application.py\", line 1043, in launch_instance\n      app.start()\n    File \"/opt/conda/lib/python3.8/site-packages/ipykernel/kernelapp.py\", line 725, in start\n      self.io_loop.start()\n    File \"/opt/conda/lib/python3.8/site-packages/tornado/platform/asyncio.py\", line 195, in start\n      self.asyncio_loop.run_forever()\n    File \"/opt/conda/lib/python3.8/asyncio/base_events.py\", line 570, in run_forever\n      self._run_once()\n    File \"/opt/conda/lib/python3.8/asyncio/base_events.py\", line 1859, in _run_once\n      handle._run()\n    File \"/opt/conda/lib/python3.8/asyncio/events.py\", line 81, in _run\n      self._context.run(self._callback, *self._args)\n    File \"/opt/conda/lib/python3.8/site-packages/ipykernel/kernelbase.py\", line 513, in dispatch_queue\n      await self.process_one()\n    File \"/opt/conda/lib/python3.8/site-packages/ipykernel/kernelbase.py\", line 502, in process_one\n      await dispatch(*args)\n    File \"/opt/conda/lib/python3.8/site-packages/ipykernel/kernelbase.py\", line 409, in dispatch_shell\n      await result\n    File \"/opt/conda/lib/python3.8/site-packages/ipykernel/kernelbase.py\", line 729, in execute_request\n      reply_content = await reply_content\n    File \"/opt/conda/lib/python3.8/site-packages/ipykernel/ipkernel.py\", line 422, in do_execute\n      res = shell.run_cell(\n    File \"/opt/conda/lib/python3.8/site-packages/ipykernel/zmqshell.py\", line 540, in run_cell\n      return super().run_cell(*args, **kwargs)\n    File \"/opt/conda/lib/python3.8/site-packages/IPython/core/interactiveshell.py\", line 3009, in run_cell\n      result = self._run_cell(\n    File \"/opt/conda/lib/python3.8/site-packages/IPython/core/interactiveshell.py\", line 3064, in _run_cell\n      result = runner(coro)\n    File \"/opt/conda/lib/python3.8/site-packages/IPython/core/async_helpers.py\", line 129, in _pseudo_sync_runner\n      coro.send(None)\n    File \"/opt/conda/lib/python3.8/site-packages/IPython/core/interactiveshell.py\", line 3269, in run_cell_async\n      has_raised = await self.run_ast_nodes(code_ast.body, cell_name,\n    File \"/opt/conda/lib/python3.8/site-packages/IPython/core/interactiveshell.py\", line 3448, in run_ast_nodes\n      if await self.run_code(code, result, async_=asy):\n    File \"/opt/conda/lib/python3.8/site-packages/IPython/core/interactiveshell.py\", line 3508, in run_code\n      exec(code_obj, self.user_global_ns, self.user_ns)\n    File \"/tmp/ipykernel_10152/3797139099.py\", line 1, in <module>\n      model.fit(x_input, y_input,\n    File \"/opt/conda/lib/python3.8/site-packages/keras/utils/traceback_utils.py\", line 64, in error_handler\n      return fn(*args, **kwargs)\n    File \"/opt/conda/lib/python3.8/site-packages/keras/engine/training.py\", line 1384, in fit\n      tmp_logs = self.train_function(iterator)\n    File \"/opt/conda/lib/python3.8/site-packages/keras/engine/training.py\", line 1021, in train_function\n      return step_function(self, iterator)\n    File \"/opt/conda/lib/python3.8/site-packages/keras/engine/training.py\", line 1010, in step_function\n      outputs = model.distribute_strategy.run(run_step, args=(data,))\n    File \"/opt/conda/lib/python3.8/site-packages/keras/engine/training.py\", line 1000, in run_step\n      outputs = model.train_step(data)\n    File \"/opt/conda/lib/python3.8/site-packages/keras/engine/training.py\", line 859, in train_step\n      y_pred = self(x, training=True)\n    File \"/opt/conda/lib/python3.8/site-packages/keras/utils/traceback_utils.py\", line 64, in error_handler\n      return fn(*args, **kwargs)\n    File \"/opt/conda/lib/python3.8/site-packages/keras/engine/base_layer.py\", line 1096, in __call__\n      outputs = call_fn(inputs, *args, **kwargs)\n    File \"/opt/conda/lib/python3.8/site-packages/keras/utils/traceback_utils.py\", line 92, in error_handler\n      return fn(*args, **kwargs)\n    File \"/opt/conda/lib/python3.8/site-packages/keras/engine/functional.py\", line 451, in call\n      return self._run_internal_graph(\n    File \"/opt/conda/lib/python3.8/site-packages/keras/engine/functional.py\", line 589, in _run_internal_graph\n      outputs = node.layer(*args, **kwargs)\n    File \"/opt/conda/lib/python3.8/site-packages/keras/utils/traceback_utils.py\", line 64, in error_handler\n      return fn(*args, **kwargs)\n    File \"/opt/conda/lib/python3.8/site-packages/keras/engine/base_layer.py\", line 1096, in __call__\n      outputs = call_fn(inputs, *args, **kwargs)\n    File \"/opt/conda/lib/python3.8/site-packages/keras/utils/traceback_utils.py\", line 92, in error_handler\n      return fn(*args, **kwargs)\n    File \"/opt/conda/lib/python3.8/site-packages/keras/layers/convolutional.py\", line 248, in call\n      outputs = self.convolution_op(inputs, self.kernel)\n    File \"/opt/conda/lib/python3.8/site-packages/keras/layers/convolutional.py\", line 233, in convolution_op\n      return tf.nn.convolution(\nNode: 'model_3/conv1d_3/Conv1D'\nDNN library is not found.\n\t [[{{node model_3/conv1d_3/Conv1D}}]] [Op:__inference_train_function_2061]",
     "output_type": "error",
     "traceback": [
      "\u001b[0;31m---------------------------------------------------------------------------\u001b[0m",
      "\u001b[0;31mUnimplementedError\u001b[0m                        Traceback (most recent call last)",
      "Cell \u001b[0;32mIn[70], line 1\u001b[0m\n\u001b[0;32m----> 1\u001b[0m \u001b[43mmodel\u001b[49m\u001b[38;5;241;43m.\u001b[39;49m\u001b[43mfit\u001b[49m\u001b[43m(\u001b[49m\u001b[43mx_input\u001b[49m\u001b[43m,\u001b[49m\u001b[43m \u001b[49m\u001b[43my_input\u001b[49m\u001b[43m,\u001b[49m\u001b[43m \u001b[49m\n\u001b[1;32m      2\u001b[0m \u001b[43m          \u001b[49m\u001b[43mepochs\u001b[49m\u001b[38;5;241;43m=\u001b[39;49m\u001b[38;5;241;43m10\u001b[39;49m\u001b[43m,\u001b[49m\u001b[43m \u001b[49m\n\u001b[1;32m      3\u001b[0m \u001b[43m          \u001b[49m\u001b[43mbatch_size\u001b[49m\u001b[38;5;241;43m=\u001b[39;49m\u001b[38;5;241;43m256\u001b[39;49m\u001b[43m,\u001b[49m\n\u001b[1;32m      4\u001b[0m \u001b[43m          \u001b[49m\u001b[43mvalidation_data\u001b[49m\u001b[38;5;241;43m=\u001b[39;49m\u001b[43m(\u001b[49m\u001b[43mx_val\u001b[49m\u001b[43m,\u001b[49m\u001b[43m \u001b[49m\u001b[43my_val\u001b[49m\u001b[43m)\u001b[49m\n\u001b[1;32m      5\u001b[0m \u001b[43m          \u001b[49m\u001b[38;5;66;43;03m#callbacks=[tensorboard_callback, tqdm_callback]\u001b[39;49;00m\n\u001b[1;32m      6\u001b[0m \u001b[43m         \u001b[49m\u001b[43m)\u001b[49m\n",
      "File \u001b[0;32m/opt/conda/lib/python3.8/site-packages/keras/utils/traceback_utils.py:67\u001b[0m, in \u001b[0;36mfilter_traceback.<locals>.error_handler\u001b[0;34m(*args, **kwargs)\u001b[0m\n\u001b[1;32m     65\u001b[0m \u001b[38;5;28;01mexcept\u001b[39;00m \u001b[38;5;167;01mException\u001b[39;00m \u001b[38;5;28;01mas\u001b[39;00m e:  \u001b[38;5;66;03m# pylint: disable=broad-except\u001b[39;00m\n\u001b[1;32m     66\u001b[0m   filtered_tb \u001b[38;5;241m=\u001b[39m _process_traceback_frames(e\u001b[38;5;241m.\u001b[39m__traceback__)\n\u001b[0;32m---> 67\u001b[0m   \u001b[38;5;28;01mraise\u001b[39;00m e\u001b[38;5;241m.\u001b[39mwith_traceback(filtered_tb) \u001b[38;5;28;01mfrom\u001b[39;00m \u001b[38;5;28;01mNone\u001b[39;00m\n\u001b[1;32m     68\u001b[0m \u001b[38;5;28;01mfinally\u001b[39;00m:\n\u001b[1;32m     69\u001b[0m   \u001b[38;5;28;01mdel\u001b[39;00m filtered_tb\n",
      "File \u001b[0;32m/opt/conda/lib/python3.8/site-packages/tensorflow/python/eager/execute.py:54\u001b[0m, in \u001b[0;36mquick_execute\u001b[0;34m(op_name, num_outputs, inputs, attrs, ctx, name)\u001b[0m\n\u001b[1;32m     52\u001b[0m \u001b[38;5;28;01mtry\u001b[39;00m:\n\u001b[1;32m     53\u001b[0m   ctx\u001b[38;5;241m.\u001b[39mensure_initialized()\n\u001b[0;32m---> 54\u001b[0m   tensors \u001b[38;5;241m=\u001b[39m pywrap_tfe\u001b[38;5;241m.\u001b[39mTFE_Py_Execute(ctx\u001b[38;5;241m.\u001b[39m_handle, device_name, op_name,\n\u001b[1;32m     55\u001b[0m                                       inputs, attrs, num_outputs)\n\u001b[1;32m     56\u001b[0m \u001b[38;5;28;01mexcept\u001b[39;00m core\u001b[38;5;241m.\u001b[39m_NotOkStatusException \u001b[38;5;28;01mas\u001b[39;00m e:\n\u001b[1;32m     57\u001b[0m   \u001b[38;5;28;01mif\u001b[39;00m name \u001b[38;5;129;01mis\u001b[39;00m \u001b[38;5;129;01mnot\u001b[39;00m \u001b[38;5;28;01mNone\u001b[39;00m:\n",
      "\u001b[0;31mUnimplementedError\u001b[0m: Graph execution error:\n\nDetected at node 'model_3/conv1d_3/Conv1D' defined at (most recent call last):\n    File \"/opt/conda/lib/python3.8/runpy.py\", line 194, in _run_module_as_main\n      return _run_code(code, main_globals, None,\n    File \"/opt/conda/lib/python3.8/runpy.py\", line 87, in _run_code\n      exec(code, run_globals)\n    File \"/opt/conda/lib/python3.8/site-packages/ipykernel_launcher.py\", line 17, in <module>\n      app.launch_new_instance()\n    File \"/opt/conda/lib/python3.8/site-packages/traitlets/config/application.py\", line 1043, in launch_instance\n      app.start()\n    File \"/opt/conda/lib/python3.8/site-packages/ipykernel/kernelapp.py\", line 725, in start\n      self.io_loop.start()\n    File \"/opt/conda/lib/python3.8/site-packages/tornado/platform/asyncio.py\", line 195, in start\n      self.asyncio_loop.run_forever()\n    File \"/opt/conda/lib/python3.8/asyncio/base_events.py\", line 570, in run_forever\n      self._run_once()\n    File \"/opt/conda/lib/python3.8/asyncio/base_events.py\", line 1859, in _run_once\n      handle._run()\n    File \"/opt/conda/lib/python3.8/asyncio/events.py\", line 81, in _run\n      self._context.run(self._callback, *self._args)\n    File \"/opt/conda/lib/python3.8/site-packages/ipykernel/kernelbase.py\", line 513, in dispatch_queue\n      await self.process_one()\n    File \"/opt/conda/lib/python3.8/site-packages/ipykernel/kernelbase.py\", line 502, in process_one\n      await dispatch(*args)\n    File \"/opt/conda/lib/python3.8/site-packages/ipykernel/kernelbase.py\", line 409, in dispatch_shell\n      await result\n    File \"/opt/conda/lib/python3.8/site-packages/ipykernel/kernelbase.py\", line 729, in execute_request\n      reply_content = await reply_content\n    File \"/opt/conda/lib/python3.8/site-packages/ipykernel/ipkernel.py\", line 422, in do_execute\n      res = shell.run_cell(\n    File \"/opt/conda/lib/python3.8/site-packages/ipykernel/zmqshell.py\", line 540, in run_cell\n      return super().run_cell(*args, **kwargs)\n    File \"/opt/conda/lib/python3.8/site-packages/IPython/core/interactiveshell.py\", line 3009, in run_cell\n      result = self._run_cell(\n    File \"/opt/conda/lib/python3.8/site-packages/IPython/core/interactiveshell.py\", line 3064, in _run_cell\n      result = runner(coro)\n    File \"/opt/conda/lib/python3.8/site-packages/IPython/core/async_helpers.py\", line 129, in _pseudo_sync_runner\n      coro.send(None)\n    File \"/opt/conda/lib/python3.8/site-packages/IPython/core/interactiveshell.py\", line 3269, in run_cell_async\n      has_raised = await self.run_ast_nodes(code_ast.body, cell_name,\n    File \"/opt/conda/lib/python3.8/site-packages/IPython/core/interactiveshell.py\", line 3448, in run_ast_nodes\n      if await self.run_code(code, result, async_=asy):\n    File \"/opt/conda/lib/python3.8/site-packages/IPython/core/interactiveshell.py\", line 3508, in run_code\n      exec(code_obj, self.user_global_ns, self.user_ns)\n    File \"/tmp/ipykernel_10152/3797139099.py\", line 1, in <module>\n      model.fit(x_input, y_input,\n    File \"/opt/conda/lib/python3.8/site-packages/keras/utils/traceback_utils.py\", line 64, in error_handler\n      return fn(*args, **kwargs)\n    File \"/opt/conda/lib/python3.8/site-packages/keras/engine/training.py\", line 1384, in fit\n      tmp_logs = self.train_function(iterator)\n    File \"/opt/conda/lib/python3.8/site-packages/keras/engine/training.py\", line 1021, in train_function\n      return step_function(self, iterator)\n    File \"/opt/conda/lib/python3.8/site-packages/keras/engine/training.py\", line 1010, in step_function\n      outputs = model.distribute_strategy.run(run_step, args=(data,))\n    File \"/opt/conda/lib/python3.8/site-packages/keras/engine/training.py\", line 1000, in run_step\n      outputs = model.train_step(data)\n    File \"/opt/conda/lib/python3.8/site-packages/keras/engine/training.py\", line 859, in train_step\n      y_pred = self(x, training=True)\n    File \"/opt/conda/lib/python3.8/site-packages/keras/utils/traceback_utils.py\", line 64, in error_handler\n      return fn(*args, **kwargs)\n    File \"/opt/conda/lib/python3.8/site-packages/keras/engine/base_layer.py\", line 1096, in __call__\n      outputs = call_fn(inputs, *args, **kwargs)\n    File \"/opt/conda/lib/python3.8/site-packages/keras/utils/traceback_utils.py\", line 92, in error_handler\n      return fn(*args, **kwargs)\n    File \"/opt/conda/lib/python3.8/site-packages/keras/engine/functional.py\", line 451, in call\n      return self._run_internal_graph(\n    File \"/opt/conda/lib/python3.8/site-packages/keras/engine/functional.py\", line 589, in _run_internal_graph\n      outputs = node.layer(*args, **kwargs)\n    File \"/opt/conda/lib/python3.8/site-packages/keras/utils/traceback_utils.py\", line 64, in error_handler\n      return fn(*args, **kwargs)\n    File \"/opt/conda/lib/python3.8/site-packages/keras/engine/base_layer.py\", line 1096, in __call__\n      outputs = call_fn(inputs, *args, **kwargs)\n    File \"/opt/conda/lib/python3.8/site-packages/keras/utils/traceback_utils.py\", line 92, in error_handler\n      return fn(*args, **kwargs)\n    File \"/opt/conda/lib/python3.8/site-packages/keras/layers/convolutional.py\", line 248, in call\n      outputs = self.convolution_op(inputs, self.kernel)\n    File \"/opt/conda/lib/python3.8/site-packages/keras/layers/convolutional.py\", line 233, in convolution_op\n      return tf.nn.convolution(\nNode: 'model_3/conv1d_3/Conv1D'\nDNN library is not found.\n\t [[{{node model_3/conv1d_3/Conv1D}}]] [Op:__inference_train_function_2061]"
     ]
    }
   ],
   "source": [
    "model.fit(x_input, y_input, \n",
    "          epochs=10, \n",
    "          batch_size=256,\n",
    "          validation_data=(x_val, y_val)\n",
    "          #callbacks=[tensorboard_callback, tqdm_callback]\n",
    "         )"
   ]
  },
  {
   "cell_type": "code",
   "execution_count": null,
   "id": "ffba12a8",
   "metadata": {},
   "outputs": [],
   "source": []
  },
  {
   "cell_type": "code",
   "execution_count": null,
   "id": "aabd2562",
   "metadata": {},
   "outputs": [],
   "source": []
  },
  {
   "cell_type": "code",
   "execution_count": null,
   "id": "59f3bf59-1f7f-4f08-8d7c-82c80d59060b",
   "metadata": {},
   "outputs": [],
   "source": []
  },
  {
   "cell_type": "code",
   "execution_count": null,
   "id": "38cea57f-d0c5-45bc-97d8-3d58716af209",
   "metadata": {},
   "outputs": [],
   "source": []
  },
  {
   "cell_type": "code",
   "execution_count": 24,
   "id": "a69b1ce6-c894-44ed-9d75-e450091ce7f7",
   "metadata": {},
   "outputs": [],
   "source": [
    "# Set up logging jupiterhub tensorboard\n",
    "logdir = '/home/jovyan/logs/Project'\n",
    "writer = tf.summary.create_file_writer(logdir)"
   ]
  },
  {
   "cell_type": "code",
   "execution_count": 58,
   "id": "649fddaf",
   "metadata": {},
   "outputs": [],
   "source": [
    "#Create weight tensors\n",
    "W = tf.Variable(tf.zeros([384,6]),name='W', dtype=tf.float32)  #weight\n",
    "b = tf.Variable(tf.zeros([6]),name='b', dtype=tf.float32)   #offset\n",
    "\n",
    "# #using softmax activation layer on a vector with 6 entries\n",
    "def y_pred(x):\n",
    "    return tf.nn.softmax(tf.matmul(x,W) + b)\n",
    "\n",
    "    \n",
    "# cross entropy loss function\n",
    "@tf.function\n",
    "def loss(x,y):\n",
    "    y_ = y_pred(x)\n",
    "    return tf.reduce_mean(-tf.reduce_sum(y * tf.math.log(y_), axis=[1]))\n",
    "\n",
    "#accuracy\n",
    "def accuracy(x,y):\n",
    "    y_ = y_pred(x)\n",
    "    # calculate where the prediction equals the label\n",
    "    correct = tf.math.equal(tf.math.argmax(y_,axis=-1),tf.math.argmax(y,axis=-1))\n",
    "    # convert to a float (previously boolean)\n",
    "    correct = tf.cast(correct,dtype=tf.float32)\n",
    "    # return the mean to give the overall accuracy\n",
    "    return tf.math.reduce_mean(correct)"
   ]
  },
  {
   "cell_type": "code",
   "execution_count": 59,
   "id": "68d0997c",
   "metadata": {},
   "outputs": [],
   "source": [
    "# Selecting training parameters\n",
    "n_iters = 3000\n",
    "epochs = range(n_iters)\n",
    "\n",
    "# learning rate\n",
    "lr = 0.1\n",
    "\n",
    "# gradient descent optimizer\n",
    "optimizer = tf.keras.optimizers.Adam(lr) \n"
   ]
  },
  {
   "cell_type": "code",
   "execution_count": 60,
   "id": "3cb4c75d",
   "metadata": {},
   "outputs": [
    {
     "data": {
      "application/vnd.jupyter.widget-view+json": {
       "model_id": "a28e2755a4f0455ab07407aa1d5b4cfb",
       "version_major": 2,
       "version_minor": 0
      },
      "text/plain": [
       "  0%|          | 0/3000 [00:00<?, ?it/s]"
      ]
     },
     "metadata": {},
     "output_type": "display_data"
    },
    {
     "name": "stdout",
     "output_type": "stream",
     "text": [
      "Training Step:0  Loss = tf.Tensor(1.7917595, shape=(), dtype=float32)\n",
      "Training Step:1000  Loss = tf.Tensor(1.5886203, shape=(), dtype=float32)\n",
      "Training Step:2000  Loss = tf.Tensor(1.5879076, shape=(), dtype=float32)\n"
     ]
    }
   ],
   "source": [
    "with writer.as_default():\n",
    "    for i in tqdm(epochs):\n",
    "        with tf.GradientTape() as tape:\n",
    "            current_loss = loss(x_input, y_input)\n",
    "        gradients = tape.gradient(current_loss, [W, b])\n",
    "        optimizer.apply_gradients(zip(gradients, [W ,b]))\n",
    "        tf.summary.scalar('loss', current_loss, step=i)  # write to tensorboard\n",
    "        train_acc = accuracy(x_input,y_input)\n",
    "        val_acc = accuracy(X_val,y_val)\n",
    "        tf.summary.scalar('train_acc', train_acc, step=i)  # write to tensorboard\n",
    "        tf.summary.scalar('val_acc', val_acc, step=i)  # write to tensorboard\n",
    "        if i%1000 == 0:\n",
    "            print('Training Step:' + str(i) + '  Loss = ' + str(current_loss))\n",
    "        # tf.print('val_acc', val_acc, output_stream=sys.stdout)\n",
    "\n",
    "#plt.plot(loss_train)\n",
    "#plt.show()"
   ]
  },
  {
   "cell_type": "code",
   "execution_count": null,
   "id": "4e306a5a",
   "metadata": {},
   "outputs": [],
   "source": []
  },
  {
   "cell_type": "markdown",
   "id": "1eacd237-cb68-4f63-8c0f-f94df312436b",
   "metadata": {},
   "source": [
    "## Part 2"
   ]
  },
  {
   "cell_type": "code",
   "execution_count": null,
   "id": "8ad5036f",
   "metadata": {},
   "outputs": [],
   "source": [
    "# 1‐dimensional convolutional neural network"
   ]
  },
  {
   "cell_type": "markdown",
   "id": "7f03d19d-aa47-43fa-bb3e-ddfcff909f93",
   "metadata": {},
   "source": [
    "Note: Your training data tensors will need to have their original shape of [n,128,3] so make sure to recreate the tensors after\n",
    "you have completed part 1"
   ]
  },
  {
   "cell_type": "code",
   "execution_count": 12,
   "id": "bd08b0f4-d2f9-409f-a605-6e80fd449ffa",
   "metadata": {},
   "outputs": [],
   "source": [
    "#tensorboad set up\n",
    "logdir = '/home/jovyan/logs/Project'"
   ]
  },
  {
   "cell_type": "code",
   "execution_count": 14,
   "id": "f4f209fa-e52f-4cfd-9673-02cdf66e7ebe",
   "metadata": {},
   "outputs": [
    {
     "name": "stdout",
     "output_type": "stream",
     "text": [
      "(7352, 128, 3)\n",
      "(2947, 128, 3)\n",
      "(5881, 6)\n",
      "(1471, 6)\n"
     ]
    }
   ],
   "source": [
    "#Recreate the tensors\n",
    "x_input, x_val, y_input, y_val = train_test_split(xtrain, ytrain, test_size=0.2, random_state=10)\n",
    "\n",
    "#one-hot encoding for labels\n",
    "y_input = tf.keras.utils.to_categorical(y_input)\n",
    "y_val = tf.keras.utils.to_categorical(y_val)\n",
    "\n",
    "print(xtrain.shape)\n",
    "print(xtest.shape)\n",
    "print(y_input.shape)\n",
    "print(y_val.shape)"
   ]
  },
  {
   "cell_type": "code",
   "execution_count": 15,
   "id": "dc89a32f-64f8-42d6-9c86-298e6ef608c7",
   "metadata": {},
   "outputs": [
    {
     "name": "stdout",
     "output_type": "stream",
     "text": [
      "(7352, 128, 3)\n",
      "(2947, 128, 3)\n",
      "(5881, 6)\n",
      "(1471, 6)\n"
     ]
    },
    {
     "name": "stderr",
     "output_type": "stream",
     "text": [
      "2023-07-07 15:31:43.923340: I tensorflow/core/platform/cpu_feature_guard.cc:151] This TensorFlow binary is optimized with oneAPI Deep Neural Network Library (oneDNN) to use the following CPU instructions in performance-critical operations:  AVX2 FMA\n",
      "To enable them in other operations, rebuild TensorFlow with the appropriate compiler flags.\n",
      "2023-07-07 15:31:44.495214: I tensorflow/core/common_runtime/gpu/gpu_device.cc:1525] Created device /job:localhost/replica:0/task:0/device:GPU:0 with 11560 MB memory:  -> device: 0, name: Tesla K80, pci bus id: 0001:00:00.0, compute capability: 3.7\n"
     ]
    }
   ],
   "source": [
    "# Convert your input and validation data to a tensor so that you can pass it into your classifier\n",
    "x_input = tf.convert_to_tensor(x_input, tf.float32)\n",
    "x_val = tf.convert_to_tensor(x_val, tf.float32)\n",
    "y_input = tf.convert_to_tensor(y_input, tf.float32)\n",
    "y_val = tf.convert_to_tensor(y_val, tf.float32)\n",
    "print(xtrain.shape)\n",
    "print(xtest.shape)\n",
    "print(y_input.shape)\n",
    "print(y_val.shape)"
   ]
  },
  {
   "cell_type": "code",
   "execution_count": 17,
   "id": "8cc15881-7883-426d-8f41-3a614f6151e8",
   "metadata": {},
   "outputs": [],
   "source": [
    "# #Sequential model   (NOT TO USE BUT KEEP)\n",
    "# model = tf.keras.Sequential(name=\"model_conv1D\")\n",
    "\n",
    "# model.add(tf.keras.layers.Input(shape=(128,3)))\n",
    "# model.add(tf.keras.layers.Conv1D(filters=32, kernel_size=4, activation=tf.nn.relu))\n",
    "# model.add(tf.keras.layers.BatchNormalization())\n",
    "# model.add(tf.keras.layers.Dense(64, activation='relu'))\n",
    "# model.add(tf.keras.layers.GlobalAveragePooling1D())            ###check\n",
    "# model.add(tf.keras.layers.Dense(6, activation='softmax'))      #how many units?"
   ]
  },
  {
   "cell_type": "code",
   "execution_count": 18,
   "id": "59f25619-dcd8-4e6b-9cd2-5ec9ea62b5b4",
   "metadata": {},
   "outputs": [],
   "source": [
    "# #Compile model\n",
    "\n",
    "# # Callbacks\n",
    "# tensorboard_callback = tf.keras.callbacks.TensorBoard(log_dir=logdir)\n",
    "# # create a callback that will stop training if the validation loss hasn't improved for 2 epochs\n",
    "# callbacks = [tf.keras.callbacks.EarlyStopping(monitor='val_loss', patience=2)]\n",
    "# # initialize tqdm callback with default parameters\n",
    "# tqdm_callback = tfa.callbacks.TQDMProgressBar()\n",
    "\n",
    "# # compile the model\n",
    "# model.compile(optimizer=tf.keras.optimizers.Adam(0.001),\n",
    "# loss='categorical_crossentropy',           \n",
    "# metrics=['accuracy'])\n",
    "\n",
    "# model.summary()"
   ]
  },
  {
   "cell_type": "code",
   "execution_count": 19,
   "id": "51faa994-30b0-48c7-b880-4c45ef986721",
   "metadata": {},
   "outputs": [],
   "source": [
    "# # TO DO: add tqdm\n",
    "# # TRAIN lOW FIRST\n",
    "# # train the model\n",
    "# fit = model.fit(x_input, y_input, \n",
    "#         epochs=500, \n",
    "#         verbose=0,  #what does this mean?\n",
    "#         batch_size=128,\n",
    "#         callbacks=[tensorboard_callback],\n",
    "#         validation_data=(x_val, y_val))\n",
    "\n",
    "# # plt.plot(np.array(fit.history['loss']), \"r--\", label = \"Train loss\")\n",
    "# # plt.plot(np.array(fit.history['accuracy']), \"g--\", label = \"Train accuracy\")\n",
    "# # plt.plot(np.array(fit.history['val_loss']), \"r-\", label = \"Validation loss\")\n",
    "# # plt.plot(np.array(fit.history['val_accuracy']), \"g-\", label = \"Validation accuracy\")\n",
    "# # plt.title(\"Training session's progress over iterations\")\n",
    "# # plt.legend(loc='lower left')\n",
    "# # plt.ylabel('Training Progress (Loss/Accuracy)')\n",
    "# # plt.xlabel('Training Epoch')\n",
    "# # plt.ylim(0) \n",
    "# # plt.show()\n"
   ]
  },
  {
   "cell_type": "code",
   "execution_count": 17,
   "id": "37d04202-e57c-42bc-b1e9-cb1f95aeba2d",
   "metadata": {},
   "outputs": [],
   "source": [
    "# Keras API model\n",
    "\n",
    "#We create the input layer and combine with further dense layers,\n",
    "input_layer = tf.keras.Input(shape=(128, 3))\n",
    "\n",
    "output_layer = tf.keras.layers.Conv1D(filters=32, kernel_size=4)(input_layer)\n",
    "output_layer = tf.keras.layers.BatchNormalization()(output_layer)\n",
    "output_layer = tf.keras.layers.Dense(64, activation='relu')(output_layer)\n",
    "output_layer = tf.keras.layers.GlobalAveragePooling1D()(output_layer)\n",
    "\n",
    "# # Add a softmax layer with  output units:\n",
    "output_layer = tf.keras.layers.Dense(6, activation='softmax')(output_layer)\n"
   ]
  },
  {
   "cell_type": "code",
   "execution_count": 18,
   "id": "259c9bee-d419-4de1-aac9-c18c88e39987",
   "metadata": {},
   "outputs": [
    {
     "name": "stdout",
     "output_type": "stream",
     "text": [
      "Model: \"model\"\n",
      "_________________________________________________________________\n",
      " Layer (type)                Output Shape              Param #   \n",
      "=================================================================\n",
      " input_1 (InputLayer)        [(None, 128, 3)]          0         \n",
      "                                                                 \n",
      " conv1d (Conv1D)             (None, 125, 32)           416       \n",
      "                                                                 \n",
      " batch_normalization (BatchN  (None, 125, 32)          128       \n",
      " ormalization)                                                   \n",
      "                                                                 \n",
      " dense (Dense)               (None, 125, 64)           2112      \n",
      "                                                                 \n",
      " global_average_pooling1d (G  (None, 64)               0         \n",
      " lobalAveragePooling1D)                                          \n",
      "                                                                 \n",
      " dense_1 (Dense)             (None, 6)                 390       \n",
      "                                                                 \n",
      "=================================================================\n",
      "Total params: 3,046\n",
      "Trainable params: 2,982\n",
      "Non-trainable params: 64\n",
      "_________________________________________________________________\n"
     ]
    }
   ],
   "source": [
    "# Compile model\n",
    "\n",
    "# Callbacks\n",
    "tensorboard_callback = tf.keras.callbacks.TensorBoard(log_dir=logdir)\n",
    "# create a callback that will stop training if the validation loss hasn't improved for 2 epochs\n",
    "early_stopping_callbacks = [tf.keras.callbacks.EarlyStopping(monitor='val_loss', patience=2)]\n",
    "# initialize tqdm callback with default parameters\n",
    "tqdm_callback = tfa.callbacks.TQDMProgressBar()\n",
    "\n",
    "model = tf.keras.Model(inputs=input_layer,outputs=output_layer)\n",
    "\n",
    "#The compilation and training then proceeds as per the sequential model,\n",
    "model.compile(optimizer=tf.keras.optimizers.Adam(0.001),\n",
    "loss='categorical_crossentropy', metrics=['accuracy'])\n",
    "\n",
    "\n",
    "model.summary()"
   ]
  },
  {
   "cell_type": "code",
   "execution_count": 19,
   "id": "d8379770-47fb-40a4-8c86-977ddb157c2e",
   "metadata": {},
   "outputs": [
    {
     "data": {
      "application/vnd.jupyter.widget-view+json": {
       "model_id": "b5bf347fb2634e0a8580382cb9357281",
       "version_major": 2,
       "version_minor": 0
      },
      "text/plain": [
       "Training:   0%|           0/100 ETA: ?s,  ?epochs/s"
      ]
     },
     "metadata": {},
     "output_type": "display_data"
    },
    {
     "name": "stdout",
     "output_type": "stream",
     "text": [
      "Epoch 1/100\n"
     ]
    },
    {
     "data": {
      "application/vnd.jupyter.widget-view+json": {
       "model_id": "fa25893a015f456fa69d715bc5156606",
       "version_major": 2,
       "version_minor": 0
      },
      "text/plain": [
       "0/23           ETA: ?s - "
      ]
     },
     "metadata": {},
     "output_type": "display_data"
    },
    {
     "name": "stdout",
     "output_type": "stream",
     "text": [
      "Epoch 1/100\n"
     ]
    },
    {
     "name": "stderr",
     "output_type": "stream",
     "text": [
      "2023-07-07 15:32:11.097705: I tensorflow/stream_executor/cuda/cuda_dnn.cc:368] Loaded cuDNN version 8100\n",
      "2023-07-07 15:32:11.329584: W tensorflow/stream_executor/gpu/asm_compiler.cc:230] Falling back to the CUDA driver for PTX compilation; ptxas does not support CC 3.7\n",
      "2023-07-07 15:32:11.329618: W tensorflow/stream_executor/gpu/asm_compiler.cc:233] Used ptxas at ptxas\n",
      "2023-07-07 15:32:11.329684: W tensorflow/stream_executor/gpu/redzone_allocator.cc:314] UNIMPLEMENTED: ptxas ptxas too old. Falling back to the driver to compile.\n",
      "Relying on driver to perform ptx compilation. \n",
      "Modify $PATH to customize ptxas location.\n",
      "This message will be only logged once.\n"
     ]
    },
    {
     "name": "stdout",
     "output_type": "stream",
     "text": [
      " 1/23 [>.............................] - ETA: 37s - loss: 1.7318 - accuracy: 0.1445WARNING:tensorflow:Callback method `on_train_batch_end` is slow compared to the batch time (batch time: 0.0045s vs `on_train_batch_end` time: 0.0055s). Check your callbacks.\n",
      "23/23 [==============================] - 2s 26ms/step - loss: 1.5560 - accuracy: 0.3651 - val_loss: 1.7475 - val_accuracy: 0.3345\n",
      "Epoch 2/100\n"
     ]
    },
    {
     "data": {
      "application/vnd.jupyter.widget-view+json": {
       "model_id": "49657ea914e046159154ca6bf196fcd3",
       "version_major": 2,
       "version_minor": 0
      },
      "text/plain": [
       "0/23           ETA: ?s - "
      ]
     },
     "metadata": {},
     "output_type": "display_data"
    },
    {
     "name": "stdout",
     "output_type": "stream",
     "text": [
      "Epoch 2/100\n",
      "23/23 [==============================] - 0s 9ms/step - loss: 1.3800 - accuracy: 0.5382 - val_loss: 1.7227 - val_accuracy: 0.2774\n",
      "Epoch 3/100\n"
     ]
    },
    {
     "data": {
      "application/vnd.jupyter.widget-view+json": {
       "model_id": "801ed31eff364f609533b8d34b80365d",
       "version_major": 2,
       "version_minor": 0
      },
      "text/plain": [
       "0/23           ETA: ?s - "
      ]
     },
     "metadata": {},
     "output_type": "display_data"
    },
    {
     "name": "stdout",
     "output_type": "stream",
     "text": [
      "Epoch 3/100\n",
      "23/23 [==============================] - 0s 9ms/step - loss: 1.2508 - accuracy: 0.5905 - val_loss: 1.7125 - val_accuracy: 0.1951\n",
      "Epoch 4/100\n"
     ]
    },
    {
     "data": {
      "application/vnd.jupyter.widget-view+json": {
       "model_id": "8e5c3b8ff7544314b5de31ab2518ef66",
       "version_major": 2,
       "version_minor": 0
      },
      "text/plain": [
       "0/23           ETA: ?s - "
      ]
     },
     "metadata": {},
     "output_type": "display_data"
    },
    {
     "name": "stdout",
     "output_type": "stream",
     "text": [
      "Epoch 4/100\n",
      "23/23 [==============================] - 0s 9ms/step - loss: 1.1141 - accuracy: 0.6439 - val_loss: 1.7492 - val_accuracy: 0.1965\n",
      "Epoch 5/100\n"
     ]
    },
    {
     "data": {
      "application/vnd.jupyter.widget-view+json": {
       "model_id": "77fa0d1967d34f8c9f26b79be6241f71",
       "version_major": 2,
       "version_minor": 0
      },
      "text/plain": [
       "0/23           ETA: ?s - "
      ]
     },
     "metadata": {},
     "output_type": "display_data"
    },
    {
     "name": "stdout",
     "output_type": "stream",
     "text": [
      "Epoch 5/100\n",
      "23/23 [==============================] - 0s 9ms/step - loss: 0.9819 - accuracy: 0.6955 - val_loss: 1.8631 - val_accuracy: 0.1924\n",
      "Epoch 6/100\n"
     ]
    },
    {
     "data": {
      "application/vnd.jupyter.widget-view+json": {
       "model_id": "dfd5bd9c7b4d4477891ed5a95607780b",
       "version_major": 2,
       "version_minor": 0
      },
      "text/plain": [
       "0/23           ETA: ?s - "
      ]
     },
     "metadata": {},
     "output_type": "display_data"
    },
    {
     "name": "stdout",
     "output_type": "stream",
     "text": [
      "Epoch 6/100\n",
      "23/23 [==============================] - 0s 9ms/step - loss: 0.8830 - accuracy: 0.6829 - val_loss: 1.9871 - val_accuracy: 0.2148\n",
      "Epoch 7/100\n"
     ]
    },
    {
     "data": {
      "application/vnd.jupyter.widget-view+json": {
       "model_id": "2b75505d8c0d4085822ca6eebf12db41",
       "version_major": 2,
       "version_minor": 0
      },
      "text/plain": [
       "0/23           ETA: ?s - "
      ]
     },
     "metadata": {},
     "output_type": "display_data"
    },
    {
     "name": "stdout",
     "output_type": "stream",
     "text": [
      "Epoch 7/100\n",
      "23/23 [==============================] - 0s 9ms/step - loss: 0.8239 - accuracy: 0.6706 - val_loss: 2.0491 - val_accuracy: 0.2475\n",
      "Epoch 8/100\n"
     ]
    },
    {
     "data": {
      "application/vnd.jupyter.widget-view+json": {
       "model_id": "1cc4e0fd25964b4fa656779bcf1d1a7c",
       "version_major": 2,
       "version_minor": 0
      },
      "text/plain": [
       "0/23           ETA: ?s - "
      ]
     },
     "metadata": {},
     "output_type": "display_data"
    },
    {
     "name": "stdout",
     "output_type": "stream",
     "text": [
      "Epoch 8/100\n",
      "23/23 [==============================] - 0s 9ms/step - loss: 0.7822 - accuracy: 0.6915 - val_loss: 2.0371 - val_accuracy: 0.2087\n",
      "Epoch 9/100\n"
     ]
    },
    {
     "data": {
      "application/vnd.jupyter.widget-view+json": {
       "model_id": "6af6121296c9449fa1fb1dc7581dacd1",
       "version_major": 2,
       "version_minor": 0
      },
      "text/plain": [
       "0/23           ETA: ?s - "
      ]
     },
     "metadata": {},
     "output_type": "display_data"
    },
    {
     "name": "stdout",
     "output_type": "stream",
     "text": [
      "Epoch 9/100\n",
      "23/23 [==============================] - 0s 10ms/step - loss: 0.7522 - accuracy: 0.7148 - val_loss: 1.9758 - val_accuracy: 0.2359\n",
      "Epoch 10/100\n"
     ]
    },
    {
     "data": {
      "application/vnd.jupyter.widget-view+json": {
       "model_id": "eda45662e6934d58a9488c2ef3e2e384",
       "version_major": 2,
       "version_minor": 0
      },
      "text/plain": [
       "0/23           ETA: ?s - "
      ]
     },
     "metadata": {},
     "output_type": "display_data"
    },
    {
     "name": "stdout",
     "output_type": "stream",
     "text": [
      "Epoch 10/100\n",
      "23/23 [==============================] - 0s 9ms/step - loss: 0.7289 - accuracy: 0.7288 - val_loss: 1.8633 - val_accuracy: 0.2563\n",
      "Epoch 11/100\n"
     ]
    },
    {
     "data": {
      "application/vnd.jupyter.widget-view+json": {
       "model_id": "a2ff6f98cb9d4a5e8754f7d0a7db2988",
       "version_major": 2,
       "version_minor": 0
      },
      "text/plain": [
       "0/23           ETA: ?s - "
      ]
     },
     "metadata": {},
     "output_type": "display_data"
    },
    {
     "name": "stdout",
     "output_type": "stream",
     "text": [
      "Epoch 11/100\n",
      "23/23 [==============================] - 0s 9ms/step - loss: 0.7076 - accuracy: 0.7395 - val_loss: 1.7430 - val_accuracy: 0.3046\n",
      "Epoch 12/100\n"
     ]
    },
    {
     "data": {
      "application/vnd.jupyter.widget-view+json": {
       "model_id": "87b238466f96418f811347426c66286f",
       "version_major": 2,
       "version_minor": 0
      },
      "text/plain": [
       "0/23           ETA: ?s - "
      ]
     },
     "metadata": {},
     "output_type": "display_data"
    },
    {
     "name": "stdout",
     "output_type": "stream",
     "text": [
      "Epoch 12/100\n",
      "23/23 [==============================] - 0s 9ms/step - loss: 0.6920 - accuracy: 0.7332 - val_loss: 1.5919 - val_accuracy: 0.3073\n",
      "Epoch 13/100\n"
     ]
    },
    {
     "data": {
      "application/vnd.jupyter.widget-view+json": {
       "model_id": "8fc5ed470dc1421d9948f13355230662",
       "version_major": 2,
       "version_minor": 0
      },
      "text/plain": [
       "0/23           ETA: ?s - "
      ]
     },
     "metadata": {},
     "output_type": "display_data"
    },
    {
     "name": "stdout",
     "output_type": "stream",
     "text": [
      "Epoch 13/100\n",
      "23/23 [==============================] - 0s 9ms/step - loss: 0.6769 - accuracy: 0.7327 - val_loss: 1.4376 - val_accuracy: 0.2828\n",
      "Epoch 14/100\n"
     ]
    },
    {
     "data": {
      "application/vnd.jupyter.widget-view+json": {
       "model_id": "1e4b6a56353840af83662b1bdb06680f",
       "version_major": 2,
       "version_minor": 0
      },
      "text/plain": [
       "0/23           ETA: ?s - "
      ]
     },
     "metadata": {},
     "output_type": "display_data"
    },
    {
     "name": "stdout",
     "output_type": "stream",
     "text": [
      "Epoch 14/100\n",
      "23/23 [==============================] - 0s 9ms/step - loss: 0.6652 - accuracy: 0.7376 - val_loss: 1.2883 - val_accuracy: 0.4555\n",
      "Epoch 15/100\n"
     ]
    },
    {
     "data": {
      "application/vnd.jupyter.widget-view+json": {
       "model_id": "80a68c312c3040949d8cf88eac75e9cf",
       "version_major": 2,
       "version_minor": 0
      },
      "text/plain": [
       "0/23           ETA: ?s - "
      ]
     },
     "metadata": {},
     "output_type": "display_data"
    },
    {
     "name": "stdout",
     "output_type": "stream",
     "text": [
      "Epoch 15/100\n",
      "23/23 [==============================] - 0s 9ms/step - loss: 0.6537 - accuracy: 0.7567 - val_loss: 1.1425 - val_accuracy: 0.4969\n",
      "Epoch 16/100\n"
     ]
    },
    {
     "data": {
      "application/vnd.jupyter.widget-view+json": {
       "model_id": "452a47763d024814bacad473ae5b012b",
       "version_major": 2,
       "version_minor": 0
      },
      "text/plain": [
       "0/23           ETA: ?s - "
      ]
     },
     "metadata": {},
     "output_type": "display_data"
    },
    {
     "name": "stdout",
     "output_type": "stream",
     "text": [
      "Epoch 16/100\n",
      "23/23 [==============================] - 0s 9ms/step - loss: 0.6427 - accuracy: 0.7523 - val_loss: 1.0019 - val_accuracy: 0.5663\n",
      "Epoch 17/100\n"
     ]
    },
    {
     "data": {
      "application/vnd.jupyter.widget-view+json": {
       "model_id": "ab6892e80de847a9b828593d8edb0550",
       "version_major": 2,
       "version_minor": 0
      },
      "text/plain": [
       "0/23           ETA: ?s - "
      ]
     },
     "metadata": {},
     "output_type": "display_data"
    },
    {
     "name": "stdout",
     "output_type": "stream",
     "text": [
      "Epoch 17/100\n",
      "23/23 [==============================] - 0s 9ms/step - loss: 0.6342 - accuracy: 0.7670 - val_loss: 0.8935 - val_accuracy: 0.6479\n",
      "Epoch 18/100\n"
     ]
    },
    {
     "data": {
      "application/vnd.jupyter.widget-view+json": {
       "model_id": "c5c42ec33d2b424daa44d6eb3969632c",
       "version_major": 2,
       "version_minor": 0
      },
      "text/plain": [
       "0/23           ETA: ?s - "
      ]
     },
     "metadata": {},
     "output_type": "display_data"
    },
    {
     "name": "stdout",
     "output_type": "stream",
     "text": [
      "Epoch 18/100\n",
      "23/23 [==============================] - 0s 9ms/step - loss: 0.6264 - accuracy: 0.7487 - val_loss: 0.8178 - val_accuracy: 0.6961\n",
      "Epoch 19/100\n"
     ]
    },
    {
     "data": {
      "application/vnd.jupyter.widget-view+json": {
       "model_id": "fbe65e9573324840b3f1e92b802b567c",
       "version_major": 2,
       "version_minor": 0
      },
      "text/plain": [
       "0/23           ETA: ?s - "
      ]
     },
     "metadata": {},
     "output_type": "display_data"
    },
    {
     "name": "stdout",
     "output_type": "stream",
     "text": [
      "Epoch 19/100\n",
      "23/23 [==============================] - 0s 9ms/step - loss: 0.6194 - accuracy: 0.7591 - val_loss: 0.7534 - val_accuracy: 0.6934\n",
      "Epoch 20/100\n"
     ]
    },
    {
     "data": {
      "application/vnd.jupyter.widget-view+json": {
       "model_id": "e33b8033b4e54bef8cd36d89e2f87308",
       "version_major": 2,
       "version_minor": 0
      },
      "text/plain": [
       "0/23           ETA: ?s - "
      ]
     },
     "metadata": {},
     "output_type": "display_data"
    },
    {
     "name": "stdout",
     "output_type": "stream",
     "text": [
      "Epoch 20/100\n",
      "23/23 [==============================] - 0s 9ms/step - loss: 0.6114 - accuracy: 0.7669 - val_loss: 0.6986 - val_accuracy: 0.7111\n",
      "Epoch 21/100\n"
     ]
    },
    {
     "data": {
      "application/vnd.jupyter.widget-view+json": {
       "model_id": "7c38286be1c648649b740474de408364",
       "version_major": 2,
       "version_minor": 0
      },
      "text/plain": [
       "0/23           ETA: ?s - "
      ]
     },
     "metadata": {},
     "output_type": "display_data"
    },
    {
     "name": "stdout",
     "output_type": "stream",
     "text": [
      "Epoch 21/100\n",
      "23/23 [==============================] - 0s 9ms/step - loss: 0.6044 - accuracy: 0.7701 - val_loss: 0.6693 - val_accuracy: 0.7240\n",
      "Epoch 22/100\n"
     ]
    },
    {
     "data": {
      "application/vnd.jupyter.widget-view+json": {
       "model_id": "56d765247a6c4469b3d39c56228e91dc",
       "version_major": 2,
       "version_minor": 0
      },
      "text/plain": [
       "0/23           ETA: ?s - "
      ]
     },
     "metadata": {},
     "output_type": "display_data"
    },
    {
     "name": "stdout",
     "output_type": "stream",
     "text": [
      "Epoch 22/100\n",
      "23/23 [==============================] - 0s 9ms/step - loss: 0.6003 - accuracy: 0.7490 - val_loss: 0.6412 - val_accuracy: 0.7580\n",
      "Epoch 23/100\n"
     ]
    },
    {
     "data": {
      "application/vnd.jupyter.widget-view+json": {
       "model_id": "5a38814bc106420c9dd33a0fab572823",
       "version_major": 2,
       "version_minor": 0
      },
      "text/plain": [
       "0/23           ETA: ?s - "
      ]
     },
     "metadata": {},
     "output_type": "display_data"
    },
    {
     "name": "stdout",
     "output_type": "stream",
     "text": [
      "Epoch 23/100\n",
      "23/23 [==============================] - 0s 9ms/step - loss: 0.5928 - accuracy: 0.7708 - val_loss: 0.6225 - val_accuracy: 0.7335\n",
      "Epoch 24/100\n"
     ]
    },
    {
     "data": {
      "application/vnd.jupyter.widget-view+json": {
       "model_id": "ee82634df4d94e5286538e049cb5f8f7",
       "version_major": 2,
       "version_minor": 0
      },
      "text/plain": [
       "0/23           ETA: ?s - "
      ]
     },
     "metadata": {},
     "output_type": "display_data"
    },
    {
     "name": "stdout",
     "output_type": "stream",
     "text": [
      "Epoch 24/100\n",
      "23/23 [==============================] - 0s 9ms/step - loss: 0.5863 - accuracy: 0.7645 - val_loss: 0.6108 - val_accuracy: 0.7369\n",
      "Epoch 25/100\n"
     ]
    },
    {
     "data": {
      "application/vnd.jupyter.widget-view+json": {
       "model_id": "dd1e7f39b6754a59919847a047b0ede7",
       "version_major": 2,
       "version_minor": 0
      },
      "text/plain": [
       "0/23           ETA: ?s - "
      ]
     },
     "metadata": {},
     "output_type": "display_data"
    },
    {
     "name": "stdout",
     "output_type": "stream",
     "text": [
      "Epoch 25/100\n",
      "23/23 [==============================] - 0s 9ms/step - loss: 0.5813 - accuracy: 0.7771 - val_loss: 0.6001 - val_accuracy: 0.7315\n",
      "Epoch 26/100\n"
     ]
    },
    {
     "data": {
      "application/vnd.jupyter.widget-view+json": {
       "model_id": "99f90f6da9004a659cd30caf85857e79",
       "version_major": 2,
       "version_minor": 0
      },
      "text/plain": [
       "0/23           ETA: ?s - "
      ]
     },
     "metadata": {},
     "output_type": "display_data"
    },
    {
     "name": "stdout",
     "output_type": "stream",
     "text": [
      "Epoch 26/100\n",
      "23/23 [==============================] - 0s 9ms/step - loss: 0.5773 - accuracy: 0.7754 - val_loss: 0.5832 - val_accuracy: 0.7689\n",
      "Epoch 27/100\n"
     ]
    },
    {
     "data": {
      "application/vnd.jupyter.widget-view+json": {
       "model_id": "fda2bd4050bd48e4803d1a8b9f0730d2",
       "version_major": 2,
       "version_minor": 0
      },
      "text/plain": [
       "0/23           ETA: ?s - "
      ]
     },
     "metadata": {},
     "output_type": "display_data"
    },
    {
     "name": "stdout",
     "output_type": "stream",
     "text": [
      "Epoch 27/100\n",
      "23/23 [==============================] - 0s 9ms/step - loss: 0.5702 - accuracy: 0.7783 - val_loss: 0.5761 - val_accuracy: 0.7770\n",
      "Epoch 28/100\n"
     ]
    },
    {
     "data": {
      "application/vnd.jupyter.widget-view+json": {
       "model_id": "4dd26685882e45c0bd4a5081676c57c3",
       "version_major": 2,
       "version_minor": 0
      },
      "text/plain": [
       "0/23           ETA: ?s - "
      ]
     },
     "metadata": {},
     "output_type": "display_data"
    },
    {
     "name": "stdout",
     "output_type": "stream",
     "text": [
      "Epoch 28/100\n",
      "23/23 [==============================] - 0s 10ms/step - loss: 0.5674 - accuracy: 0.7776 - val_loss: 0.5728 - val_accuracy: 0.7593\n",
      "Epoch 29/100\n"
     ]
    },
    {
     "data": {
      "application/vnd.jupyter.widget-view+json": {
       "model_id": "d24ab36401b94ef99f0b417c3b3a4036",
       "version_major": 2,
       "version_minor": 0
      },
      "text/plain": [
       "0/23           ETA: ?s - "
      ]
     },
     "metadata": {},
     "output_type": "display_data"
    },
    {
     "name": "stdout",
     "output_type": "stream",
     "text": [
      "Epoch 29/100\n",
      "23/23 [==============================] - 0s 9ms/step - loss: 0.5619 - accuracy: 0.7903 - val_loss: 0.5610 - val_accuracy: 0.7893\n",
      "Epoch 30/100\n"
     ]
    },
    {
     "data": {
      "application/vnd.jupyter.widget-view+json": {
       "model_id": "1a7a4c9dc6ae454d8bbe1befd194d071",
       "version_major": 2,
       "version_minor": 0
      },
      "text/plain": [
       "0/23           ETA: ?s - "
      ]
     },
     "metadata": {},
     "output_type": "display_data"
    },
    {
     "name": "stdout",
     "output_type": "stream",
     "text": [
      "Epoch 30/100\n",
      "23/23 [==============================] - 0s 9ms/step - loss: 0.5579 - accuracy: 0.7825 - val_loss: 0.5587 - val_accuracy: 0.7736\n",
      "Epoch 31/100\n"
     ]
    },
    {
     "data": {
      "application/vnd.jupyter.widget-view+json": {
       "model_id": "20c21035f5de4c99a00f7ee6dc0deec3",
       "version_major": 2,
       "version_minor": 0
      },
      "text/plain": [
       "0/23           ETA: ?s - "
      ]
     },
     "metadata": {},
     "output_type": "display_data"
    },
    {
     "name": "stdout",
     "output_type": "stream",
     "text": [
      "Epoch 31/100\n",
      "23/23 [==============================] - 0s 9ms/step - loss: 0.5532 - accuracy: 0.7970 - val_loss: 0.5528 - val_accuracy: 0.7566\n",
      "Epoch 32/100\n"
     ]
    },
    {
     "data": {
      "application/vnd.jupyter.widget-view+json": {
       "model_id": "b51c25565a3f4653bfc50510c8f05598",
       "version_major": 2,
       "version_minor": 0
      },
      "text/plain": [
       "0/23           ETA: ?s - "
      ]
     },
     "metadata": {},
     "output_type": "display_data"
    },
    {
     "name": "stdout",
     "output_type": "stream",
     "text": [
      "Epoch 32/100\n",
      "23/23 [==============================] - 0s 9ms/step - loss: 0.5493 - accuracy: 0.7932 - val_loss: 0.5457 - val_accuracy: 0.7743\n",
      "Epoch 33/100\n"
     ]
    },
    {
     "data": {
      "application/vnd.jupyter.widget-view+json": {
       "model_id": "02ea3acc7bb54d32b6a8a99d07efed50",
       "version_major": 2,
       "version_minor": 0
      },
      "text/plain": [
       "0/23           ETA: ?s - "
      ]
     },
     "metadata": {},
     "output_type": "display_data"
    },
    {
     "name": "stdout",
     "output_type": "stream",
     "text": [
      "Epoch 33/100\n",
      "23/23 [==============================] - 0s 9ms/step - loss: 0.5467 - accuracy: 0.7929 - val_loss: 0.5482 - val_accuracy: 0.8029\n",
      "Epoch 34/100\n"
     ]
    },
    {
     "data": {
      "application/vnd.jupyter.widget-view+json": {
       "model_id": "8b5ebb4b40374fc8aac1fd7a4590b31c",
       "version_major": 2,
       "version_minor": 0
      },
      "text/plain": [
       "0/23           ETA: ?s - "
      ]
     },
     "metadata": {},
     "output_type": "display_data"
    },
    {
     "name": "stdout",
     "output_type": "stream",
     "text": [
      "Epoch 34/100\n",
      "23/23 [==============================] - 0s 9ms/step - loss: 0.5421 - accuracy: 0.8053 - val_loss: 0.5390 - val_accuracy: 0.8069\n",
      "Epoch 35/100\n"
     ]
    },
    {
     "data": {
      "application/vnd.jupyter.widget-view+json": {
       "model_id": "310bba2c6882426faccca8cc3b196c0b",
       "version_major": 2,
       "version_minor": 0
      },
      "text/plain": [
       "0/23           ETA: ?s - "
      ]
     },
     "metadata": {},
     "output_type": "display_data"
    },
    {
     "name": "stdout",
     "output_type": "stream",
     "text": [
      "Epoch 35/100\n",
      "23/23 [==============================] - 0s 9ms/step - loss: 0.5401 - accuracy: 0.7885 - val_loss: 0.5427 - val_accuracy: 0.7621\n",
      "Epoch 36/100\n"
     ]
    },
    {
     "data": {
      "application/vnd.jupyter.widget-view+json": {
       "model_id": "6ed095cd832c41c9ab5e9e1545dc4f61",
       "version_major": 2,
       "version_minor": 0
      },
      "text/plain": [
       "0/23           ETA: ?s - "
      ]
     },
     "metadata": {},
     "output_type": "display_data"
    },
    {
     "name": "stdout",
     "output_type": "stream",
     "text": [
      "Epoch 36/100\n",
      "23/23 [==============================] - 0s 9ms/step - loss: 0.5356 - accuracy: 0.7958 - val_loss: 0.5343 - val_accuracy: 0.7893\n",
      "Epoch 37/100\n"
     ]
    },
    {
     "data": {
      "application/vnd.jupyter.widget-view+json": {
       "model_id": "81f15a559fc5496c82bafb12a4a567b8",
       "version_major": 2,
       "version_minor": 0
      },
      "text/plain": [
       "0/23           ETA: ?s - "
      ]
     },
     "metadata": {},
     "output_type": "display_data"
    },
    {
     "name": "stdout",
     "output_type": "stream",
     "text": [
      "Epoch 37/100\n",
      "23/23 [==============================] - 0s 9ms/step - loss: 0.5323 - accuracy: 0.8051 - val_loss: 0.5335 - val_accuracy: 0.8022\n",
      "Epoch 38/100\n"
     ]
    },
    {
     "data": {
      "application/vnd.jupyter.widget-view+json": {
       "model_id": "a47ed9cca7f741869555d1d3316f12a3",
       "version_major": 2,
       "version_minor": 0
      },
      "text/plain": [
       "0/23           ETA: ?s - "
      ]
     },
     "metadata": {},
     "output_type": "display_data"
    },
    {
     "name": "stdout",
     "output_type": "stream",
     "text": [
      "Epoch 38/100\n",
      "23/23 [==============================] - 0s 9ms/step - loss: 0.5281 - accuracy: 0.8031 - val_loss: 0.5308 - val_accuracy: 0.7865\n",
      "Epoch 39/100\n"
     ]
    },
    {
     "data": {
      "application/vnd.jupyter.widget-view+json": {
       "model_id": "10def4a959054395b1a0e2f90e73916b",
       "version_major": 2,
       "version_minor": 0
      },
      "text/plain": [
       "0/23           ETA: ?s - "
      ]
     },
     "metadata": {},
     "output_type": "display_data"
    },
    {
     "name": "stdout",
     "output_type": "stream",
     "text": [
      "Epoch 39/100\n",
      "23/23 [==============================] - 0s 9ms/step - loss: 0.5254 - accuracy: 0.7992 - val_loss: 0.5230 - val_accuracy: 0.8103\n",
      "Epoch 40/100\n"
     ]
    },
    {
     "data": {
      "application/vnd.jupyter.widget-view+json": {
       "model_id": "1fdff3b2ab2b48dbbf7cf543e2cebe21",
       "version_major": 2,
       "version_minor": 0
      },
      "text/plain": [
       "0/23           ETA: ?s - "
      ]
     },
     "metadata": {},
     "output_type": "display_data"
    },
    {
     "name": "stdout",
     "output_type": "stream",
     "text": [
      "Epoch 40/100\n",
      "23/23 [==============================] - 0s 9ms/step - loss: 0.5228 - accuracy: 0.8039 - val_loss: 0.5181 - val_accuracy: 0.7865\n",
      "Epoch 41/100\n"
     ]
    },
    {
     "data": {
      "application/vnd.jupyter.widget-view+json": {
       "model_id": "abf3281e1d9243c9a5769d4354ccc90f",
       "version_major": 2,
       "version_minor": 0
      },
      "text/plain": [
       "0/23           ETA: ?s - "
      ]
     },
     "metadata": {},
     "output_type": "display_data"
    },
    {
     "name": "stdout",
     "output_type": "stream",
     "text": [
      "Epoch 41/100\n",
      "23/23 [==============================] - 0s 9ms/step - loss: 0.5192 - accuracy: 0.8031 - val_loss: 0.5123 - val_accuracy: 0.8232\n",
      "Epoch 42/100\n"
     ]
    },
    {
     "data": {
      "application/vnd.jupyter.widget-view+json": {
       "model_id": "4f5a5df501fc4614a896ab83e0b391ca",
       "version_major": 2,
       "version_minor": 0
      },
      "text/plain": [
       "0/23           ETA: ?s - "
      ]
     },
     "metadata": {},
     "output_type": "display_data"
    },
    {
     "name": "stdout",
     "output_type": "stream",
     "text": [
      "Epoch 42/100\n",
      "23/23 [==============================] - 0s 9ms/step - loss: 0.5164 - accuracy: 0.8169 - val_loss: 0.5153 - val_accuracy: 0.7974\n",
      "Epoch 43/100\n"
     ]
    },
    {
     "data": {
      "application/vnd.jupyter.widget-view+json": {
       "model_id": "388d95b53c20466587f320bf94e6fbb8",
       "version_major": 2,
       "version_minor": 0
      },
      "text/plain": [
       "0/23           ETA: ?s - "
      ]
     },
     "metadata": {},
     "output_type": "display_data"
    },
    {
     "name": "stdout",
     "output_type": "stream",
     "text": [
      "Epoch 43/100\n",
      "23/23 [==============================] - 0s 9ms/step - loss: 0.5135 - accuracy: 0.8029 - val_loss: 0.5077 - val_accuracy: 0.8266\n",
      "Epoch 44/100\n"
     ]
    },
    {
     "data": {
      "application/vnd.jupyter.widget-view+json": {
       "model_id": "88cda6fec70b4bbe8081e3168e905c03",
       "version_major": 2,
       "version_minor": 0
      },
      "text/plain": [
       "0/23           ETA: ?s - "
      ]
     },
     "metadata": {},
     "output_type": "display_data"
    },
    {
     "name": "stdout",
     "output_type": "stream",
     "text": [
      "Epoch 44/100\n",
      "23/23 [==============================] - 0s 9ms/step - loss: 0.5116 - accuracy: 0.8133 - val_loss: 0.5081 - val_accuracy: 0.8165\n",
      "Epoch 45/100\n"
     ]
    },
    {
     "data": {
      "application/vnd.jupyter.widget-view+json": {
       "model_id": "e307274f1aa34f6fa7c55024ad46e936",
       "version_major": 2,
       "version_minor": 0
      },
      "text/plain": [
       "0/23           ETA: ?s - "
      ]
     },
     "metadata": {},
     "output_type": "display_data"
    },
    {
     "name": "stdout",
     "output_type": "stream",
     "text": [
      "Epoch 45/100\n",
      "23/23 [==============================] - 0s 9ms/step - loss: 0.5078 - accuracy: 0.8012 - val_loss: 0.5110 - val_accuracy: 0.7553\n",
      "Epoch 46/100\n"
     ]
    },
    {
     "data": {
      "application/vnd.jupyter.widget-view+json": {
       "model_id": "1943d1fa48284ecf82645cc7737d72eb",
       "version_major": 2,
       "version_minor": 0
      },
      "text/plain": [
       "0/23           ETA: ?s - "
      ]
     },
     "metadata": {},
     "output_type": "display_data"
    },
    {
     "name": "stdout",
     "output_type": "stream",
     "text": [
      "Epoch 46/100\n",
      "23/23 [==============================] - 0s 9ms/step - loss: 0.5072 - accuracy: 0.7903 - val_loss: 0.5076 - val_accuracy: 0.8022\n",
      "Epoch 47/100\n"
     ]
    },
    {
     "data": {
      "application/vnd.jupyter.widget-view+json": {
       "model_id": "c740cc77458b46029f3024e5ee76a5ff",
       "version_major": 2,
       "version_minor": 0
      },
      "text/plain": [
       "0/23           ETA: ?s - "
      ]
     },
     "metadata": {},
     "output_type": "display_data"
    },
    {
     "name": "stdout",
     "output_type": "stream",
     "text": [
      "Epoch 47/100\n",
      "23/23 [==============================] - 0s 9ms/step - loss: 0.5067 - accuracy: 0.8043 - val_loss: 0.5113 - val_accuracy: 0.7695\n",
      "Epoch 48/100\n"
     ]
    },
    {
     "data": {
      "application/vnd.jupyter.widget-view+json": {
       "model_id": "d2200326b0574cdb85c5ae736803e1d5",
       "version_major": 2,
       "version_minor": 0
      },
      "text/plain": [
       "0/23           ETA: ?s - "
      ]
     },
     "metadata": {},
     "output_type": "display_data"
    },
    {
     "name": "stdout",
     "output_type": "stream",
     "text": [
      "Epoch 48/100\n",
      "23/23 [==============================] - 0s 9ms/step - loss: 0.4998 - accuracy: 0.8113 - val_loss: 0.5077 - val_accuracy: 0.7573\n",
      "Epoch 49/100\n"
     ]
    },
    {
     "data": {
      "application/vnd.jupyter.widget-view+json": {
       "model_id": "e62449524ffe48efbaebb874985a1367",
       "version_major": 2,
       "version_minor": 0
      },
      "text/plain": [
       "0/23           ETA: ?s - "
      ]
     },
     "metadata": {},
     "output_type": "display_data"
    },
    {
     "name": "stdout",
     "output_type": "stream",
     "text": [
      "Epoch 49/100\n",
      "23/23 [==============================] - 0s 9ms/step - loss: 0.5000 - accuracy: 0.8109 - val_loss: 0.4989 - val_accuracy: 0.7981\n",
      "Epoch 50/100\n"
     ]
    },
    {
     "data": {
      "application/vnd.jupyter.widget-view+json": {
       "model_id": "85f60ea57a7d4480a99643a23e939375",
       "version_major": 2,
       "version_minor": 0
      },
      "text/plain": [
       "0/23           ETA: ?s - "
      ]
     },
     "metadata": {},
     "output_type": "display_data"
    },
    {
     "name": "stdout",
     "output_type": "stream",
     "text": [
      "Epoch 50/100\n",
      "23/23 [==============================] - 0s 9ms/step - loss: 0.4960 - accuracy: 0.8172 - val_loss: 0.5003 - val_accuracy: 0.8022\n",
      "Epoch 51/100\n"
     ]
    },
    {
     "data": {
      "application/vnd.jupyter.widget-view+json": {
       "model_id": "bc6e359d454a424ea80bb6a4b721f325",
       "version_major": 2,
       "version_minor": 0
      },
      "text/plain": [
       "0/23           ETA: ?s - "
      ]
     },
     "metadata": {},
     "output_type": "display_data"
    },
    {
     "name": "stdout",
     "output_type": "stream",
     "text": [
      "Epoch 51/100\n",
      "23/23 [==============================] - 0s 9ms/step - loss: 0.4942 - accuracy: 0.8192 - val_loss: 0.5029 - val_accuracy: 0.7893\n",
      "Epoch 52/100\n"
     ]
    },
    {
     "data": {
      "application/vnd.jupyter.widget-view+json": {
       "model_id": "0e818ea1c07e4922a0748ed7b904f92b",
       "version_major": 2,
       "version_minor": 0
      },
      "text/plain": [
       "0/23           ETA: ?s - "
      ]
     },
     "metadata": {},
     "output_type": "display_data"
    },
    {
     "name": "stdout",
     "output_type": "stream",
     "text": [
      "Epoch 52/100\n",
      "23/23 [==============================] - 0s 9ms/step - loss: 0.4935 - accuracy: 0.8220 - val_loss: 0.4924 - val_accuracy: 0.8049\n",
      "Epoch 53/100\n"
     ]
    },
    {
     "data": {
      "application/vnd.jupyter.widget-view+json": {
       "model_id": "d9e7eeb7e8af4358ab874693962b28db",
       "version_major": 2,
       "version_minor": 0
      },
      "text/plain": [
       "0/23           ETA: ?s - "
      ]
     },
     "metadata": {},
     "output_type": "display_data"
    },
    {
     "name": "stdout",
     "output_type": "stream",
     "text": [
      "Epoch 53/100\n",
      "23/23 [==============================] - 0s 9ms/step - loss: 0.4899 - accuracy: 0.8240 - val_loss: 0.4895 - val_accuracy: 0.7974\n",
      "Epoch 54/100\n"
     ]
    },
    {
     "data": {
      "application/vnd.jupyter.widget-view+json": {
       "model_id": "3d6b96ac8a7940a5a11a0c6b5a15376e",
       "version_major": 2,
       "version_minor": 0
      },
      "text/plain": [
       "0/23           ETA: ?s - "
      ]
     },
     "metadata": {},
     "output_type": "display_data"
    },
    {
     "name": "stdout",
     "output_type": "stream",
     "text": [
      "Epoch 54/100\n",
      "23/23 [==============================] - 0s 9ms/step - loss: 0.4903 - accuracy: 0.8223 - val_loss: 0.5030 - val_accuracy: 0.7886\n",
      "Epoch 55/100\n"
     ]
    },
    {
     "data": {
      "application/vnd.jupyter.widget-view+json": {
       "model_id": "5497c8b720df48e9b3b04f2cf46dcb7b",
       "version_major": 2,
       "version_minor": 0
      },
      "text/plain": [
       "0/23           ETA: ?s - "
      ]
     },
     "metadata": {},
     "output_type": "display_data"
    },
    {
     "name": "stdout",
     "output_type": "stream",
     "text": [
      "Epoch 55/100\n",
      "23/23 [==============================] - 0s 9ms/step - loss: 0.4893 - accuracy: 0.8152 - val_loss: 0.4895 - val_accuracy: 0.8008\n",
      "Epoch 56/100\n"
     ]
    },
    {
     "data": {
      "application/vnd.jupyter.widget-view+json": {
       "model_id": "1b5e7b475c844da1a8529542879f00c5",
       "version_major": 2,
       "version_minor": 0
      },
      "text/plain": [
       "0/23           ETA: ?s - "
      ]
     },
     "metadata": {},
     "output_type": "display_data"
    },
    {
     "name": "stdout",
     "output_type": "stream",
     "text": [
      "Epoch 56/100\n",
      "23/23 [==============================] - 0s 9ms/step - loss: 0.4846 - accuracy: 0.8175 - val_loss: 0.4842 - val_accuracy: 0.8144\n",
      "Epoch 57/100\n"
     ]
    },
    {
     "data": {
      "application/vnd.jupyter.widget-view+json": {
       "model_id": "1bbb12d33efc4456b2ed2b55c7de5912",
       "version_major": 2,
       "version_minor": 0
      },
      "text/plain": [
       "0/23           ETA: ?s - "
      ]
     },
     "metadata": {},
     "output_type": "display_data"
    },
    {
     "name": "stdout",
     "output_type": "stream",
     "text": [
      "Epoch 57/100\n",
      "23/23 [==============================] - 0s 10ms/step - loss: 0.4823 - accuracy: 0.8175 - val_loss: 0.4825 - val_accuracy: 0.8083\n",
      "Epoch 58/100\n"
     ]
    },
    {
     "data": {
      "application/vnd.jupyter.widget-view+json": {
       "model_id": "db540a5a0403433faf5621211bfc19b3",
       "version_major": 2,
       "version_minor": 0
      },
      "text/plain": [
       "0/23           ETA: ?s - "
      ]
     },
     "metadata": {},
     "output_type": "display_data"
    },
    {
     "name": "stdout",
     "output_type": "stream",
     "text": [
      "Epoch 58/100\n",
      "23/23 [==============================] - 0s 9ms/step - loss: 0.4827 - accuracy: 0.8228 - val_loss: 0.4800 - val_accuracy: 0.8069\n",
      "Epoch 59/100\n"
     ]
    },
    {
     "data": {
      "application/vnd.jupyter.widget-view+json": {
       "model_id": "b076d63584b74a21b90bac511a4bdade",
       "version_major": 2,
       "version_minor": 0
      },
      "text/plain": [
       "0/23           ETA: ?s - "
      ]
     },
     "metadata": {},
     "output_type": "display_data"
    },
    {
     "name": "stdout",
     "output_type": "stream",
     "text": [
      "Epoch 59/100\n",
      "23/23 [==============================] - 0s 9ms/step - loss: 0.4788 - accuracy: 0.8147 - val_loss: 0.4766 - val_accuracy: 0.8049\n",
      "Epoch 60/100\n"
     ]
    },
    {
     "data": {
      "application/vnd.jupyter.widget-view+json": {
       "model_id": "ca947547b43645528dbce1f455e10a96",
       "version_major": 2,
       "version_minor": 0
      },
      "text/plain": [
       "0/23           ETA: ?s - "
      ]
     },
     "metadata": {},
     "output_type": "display_data"
    },
    {
     "name": "stdout",
     "output_type": "stream",
     "text": [
      "Epoch 60/100\n",
      "23/23 [==============================] - 0s 9ms/step - loss: 0.4779 - accuracy: 0.8167 - val_loss: 0.4861 - val_accuracy: 0.7947\n",
      "Epoch 61/100\n"
     ]
    },
    {
     "data": {
      "application/vnd.jupyter.widget-view+json": {
       "model_id": "ac54d9dd0bbc401c8954d481aa3d3e0d",
       "version_major": 2,
       "version_minor": 0
      },
      "text/plain": [
       "0/23           ETA: ?s - "
      ]
     },
     "metadata": {},
     "output_type": "display_data"
    },
    {
     "name": "stdout",
     "output_type": "stream",
     "text": [
      "Epoch 61/100\n",
      "23/23 [==============================] - 0s 9ms/step - loss: 0.4764 - accuracy: 0.8215 - val_loss: 0.4761 - val_accuracy: 0.7961\n",
      "Epoch 62/100\n"
     ]
    },
    {
     "data": {
      "application/vnd.jupyter.widget-view+json": {
       "model_id": "8ec0c2ea74e74ef1bef1bdcb4f9b678c",
       "version_major": 2,
       "version_minor": 0
      },
      "text/plain": [
       "0/23           ETA: ?s - "
      ]
     },
     "metadata": {},
     "output_type": "display_data"
    },
    {
     "name": "stdout",
     "output_type": "stream",
     "text": [
      "Epoch 62/100\n",
      "23/23 [==============================] - 0s 9ms/step - loss: 0.4753 - accuracy: 0.8243 - val_loss: 0.4757 - val_accuracy: 0.7859\n",
      "Epoch 63/100\n"
     ]
    },
    {
     "data": {
      "application/vnd.jupyter.widget-view+json": {
       "model_id": "8cbb16c2d38e434a9378a8c9b900209e",
       "version_major": 2,
       "version_minor": 0
      },
      "text/plain": [
       "0/23           ETA: ?s - "
      ]
     },
     "metadata": {},
     "output_type": "display_data"
    },
    {
     "name": "stdout",
     "output_type": "stream",
     "text": [
      "Epoch 63/100\n",
      "23/23 [==============================] - 0s 9ms/step - loss: 0.4754 - accuracy: 0.8107 - val_loss: 0.4728 - val_accuracy: 0.8035\n",
      "Epoch 64/100\n"
     ]
    },
    {
     "data": {
      "application/vnd.jupyter.widget-view+json": {
       "model_id": "ae4d6d3193244634bd893195f1b6601a",
       "version_major": 2,
       "version_minor": 0
      },
      "text/plain": [
       "0/23           ETA: ?s - "
      ]
     },
     "metadata": {},
     "output_type": "display_data"
    },
    {
     "name": "stdout",
     "output_type": "stream",
     "text": [
      "Epoch 64/100\n",
      "23/23 [==============================] - 0s 9ms/step - loss: 0.4733 - accuracy: 0.8177 - val_loss: 0.4776 - val_accuracy: 0.8382\n",
      "Epoch 65/100\n"
     ]
    },
    {
     "data": {
      "application/vnd.jupyter.widget-view+json": {
       "model_id": "aef27f2034b84c2bb5b4c00a924abefc",
       "version_major": 2,
       "version_minor": 0
      },
      "text/plain": [
       "0/23           ETA: ?s - "
      ]
     },
     "metadata": {},
     "output_type": "display_data"
    },
    {
     "name": "stdout",
     "output_type": "stream",
     "text": [
      "Epoch 65/100\n",
      "23/23 [==============================] - 0s 9ms/step - loss: 0.4714 - accuracy: 0.8215 - val_loss: 0.4665 - val_accuracy: 0.8212\n",
      "Epoch 66/100\n"
     ]
    },
    {
     "data": {
      "application/vnd.jupyter.widget-view+json": {
       "model_id": "910951f133254439abeaf8c81ef6aad8",
       "version_major": 2,
       "version_minor": 0
      },
      "text/plain": [
       "0/23           ETA: ?s - "
      ]
     },
     "metadata": {},
     "output_type": "display_data"
    },
    {
     "name": "stdout",
     "output_type": "stream",
     "text": [
      "Epoch 66/100\n",
      "23/23 [==============================] - 0s 9ms/step - loss: 0.4661 - accuracy: 0.8356 - val_loss: 0.4636 - val_accuracy: 0.8260\n",
      "Epoch 67/100\n"
     ]
    },
    {
     "data": {
      "application/vnd.jupyter.widget-view+json": {
       "model_id": "01cabd7c056a44b0a68bd787d059b0a7",
       "version_major": 2,
       "version_minor": 0
      },
      "text/plain": [
       "0/23           ETA: ?s - "
      ]
     },
     "metadata": {},
     "output_type": "display_data"
    },
    {
     "name": "stdout",
     "output_type": "stream",
     "text": [
      "Epoch 67/100\n",
      "23/23 [==============================] - 0s 9ms/step - loss: 0.4661 - accuracy: 0.8271 - val_loss: 0.4616 - val_accuracy: 0.8103\n",
      "Epoch 68/100\n"
     ]
    },
    {
     "data": {
      "application/vnd.jupyter.widget-view+json": {
       "model_id": "85fbac92bbd34b61b818b0ab25f06b31",
       "version_major": 2,
       "version_minor": 0
      },
      "text/plain": [
       "0/23           ETA: ?s - "
      ]
     },
     "metadata": {},
     "output_type": "display_data"
    },
    {
     "name": "stdout",
     "output_type": "stream",
     "text": [
      "Epoch 68/100\n",
      "23/23 [==============================] - 0s 9ms/step - loss: 0.4633 - accuracy: 0.8245 - val_loss: 0.4682 - val_accuracy: 0.8103\n",
      "Epoch 69/100\n"
     ]
    },
    {
     "data": {
      "application/vnd.jupyter.widget-view+json": {
       "model_id": "1c96411ae4e547b4a11ff7e96f3444e9",
       "version_major": 2,
       "version_minor": 0
      },
      "text/plain": [
       "0/23           ETA: ?s - "
      ]
     },
     "metadata": {},
     "output_type": "display_data"
    },
    {
     "name": "stdout",
     "output_type": "stream",
     "text": [
      "Epoch 69/100\n",
      "23/23 [==============================] - 0s 9ms/step - loss: 0.4636 - accuracy: 0.8240 - val_loss: 0.4623 - val_accuracy: 0.8103\n",
      "Epoch 70/100\n"
     ]
    },
    {
     "data": {
      "application/vnd.jupyter.widget-view+json": {
       "model_id": "e648dee189474ccdaf4f5056023d46ae",
       "version_major": 2,
       "version_minor": 0
      },
      "text/plain": [
       "0/23           ETA: ?s - "
      ]
     },
     "metadata": {},
     "output_type": "display_data"
    },
    {
     "name": "stdout",
     "output_type": "stream",
     "text": [
      "Epoch 70/100\n",
      "23/23 [==============================] - 0s 9ms/step - loss: 0.4638 - accuracy: 0.8240 - val_loss: 0.4621 - val_accuracy: 0.8219\n",
      "Epoch 71/100\n"
     ]
    },
    {
     "data": {
      "application/vnd.jupyter.widget-view+json": {
       "model_id": "2c64ede54e17417eba120b9e97aeae74",
       "version_major": 2,
       "version_minor": 0
      },
      "text/plain": [
       "0/23           ETA: ?s - "
      ]
     },
     "metadata": {},
     "output_type": "display_data"
    },
    {
     "name": "stdout",
     "output_type": "stream",
     "text": [
      "Epoch 71/100\n",
      "23/23 [==============================] - 0s 9ms/step - loss: 0.4600 - accuracy: 0.8317 - val_loss: 0.4591 - val_accuracy: 0.8137\n",
      "Epoch 72/100\n"
     ]
    },
    {
     "data": {
      "application/vnd.jupyter.widget-view+json": {
       "model_id": "297a39b4122048198d05be742e048167",
       "version_major": 2,
       "version_minor": 0
      },
      "text/plain": [
       "0/23           ETA: ?s - "
      ]
     },
     "metadata": {},
     "output_type": "display_data"
    },
    {
     "name": "stdout",
     "output_type": "stream",
     "text": [
      "Epoch 72/100\n",
      "23/23 [==============================] - 0s 9ms/step - loss: 0.4571 - accuracy: 0.8240 - val_loss: 0.4648 - val_accuracy: 0.8239\n",
      "Epoch 73/100\n"
     ]
    },
    {
     "data": {
      "application/vnd.jupyter.widget-view+json": {
       "model_id": "daa50fb5b60f4f07afd6395bb79a9235",
       "version_major": 2,
       "version_minor": 0
      },
      "text/plain": [
       "0/23           ETA: ?s - "
      ]
     },
     "metadata": {},
     "output_type": "display_data"
    },
    {
     "name": "stdout",
     "output_type": "stream",
     "text": [
      "Epoch 73/100\n",
      "23/23 [==============================] - 0s 9ms/step - loss: 0.4583 - accuracy: 0.8279 - val_loss: 0.4625 - val_accuracy: 0.8056\n",
      "Epoch 74/100\n"
     ]
    },
    {
     "data": {
      "application/vnd.jupyter.widget-view+json": {
       "model_id": "5d5fe9932a374fc3926833a4656a593d",
       "version_major": 2,
       "version_minor": 0
      },
      "text/plain": [
       "0/23           ETA: ?s - "
      ]
     },
     "metadata": {},
     "output_type": "display_data"
    },
    {
     "name": "stdout",
     "output_type": "stream",
     "text": [
      "Epoch 74/100\n",
      "23/23 [==============================] - 0s 9ms/step - loss: 0.4582 - accuracy: 0.8201 - val_loss: 0.4592 - val_accuracy: 0.8396\n",
      "Epoch 75/100\n"
     ]
    },
    {
     "data": {
      "application/vnd.jupyter.widget-view+json": {
       "model_id": "60a58f5309df4bf1ade5c6199dd7ebb5",
       "version_major": 2,
       "version_minor": 0
      },
      "text/plain": [
       "0/23           ETA: ?s - "
      ]
     },
     "metadata": {},
     "output_type": "display_data"
    },
    {
     "name": "stdout",
     "output_type": "stream",
     "text": [
      "Epoch 75/100\n",
      "23/23 [==============================] - 0s 9ms/step - loss: 0.4569 - accuracy: 0.8160 - val_loss: 0.4531 - val_accuracy: 0.8219\n",
      "Epoch 76/100\n"
     ]
    },
    {
     "data": {
      "application/vnd.jupyter.widget-view+json": {
       "model_id": "35877412301b492295608fe88f810b55",
       "version_major": 2,
       "version_minor": 0
      },
      "text/plain": [
       "0/23           ETA: ?s - "
      ]
     },
     "metadata": {},
     "output_type": "display_data"
    },
    {
     "name": "stdout",
     "output_type": "stream",
     "text": [
      "Epoch 76/100\n",
      "23/23 [==============================] - 0s 9ms/step - loss: 0.4529 - accuracy: 0.8313 - val_loss: 0.4558 - val_accuracy: 0.8137\n",
      "Epoch 77/100\n"
     ]
    },
    {
     "data": {
      "application/vnd.jupyter.widget-view+json": {
       "model_id": "cc620631893f4de19d029f5db37f4504",
       "version_major": 2,
       "version_minor": 0
      },
      "text/plain": [
       "0/23           ETA: ?s - "
      ]
     },
     "metadata": {},
     "output_type": "display_data"
    },
    {
     "name": "stdout",
     "output_type": "stream",
     "text": [
      "Epoch 77/100\n",
      "23/23 [==============================] - 0s 9ms/step - loss: 0.4525 - accuracy: 0.8269 - val_loss: 0.4554 - val_accuracy: 0.8178\n",
      "Epoch 78/100\n"
     ]
    },
    {
     "data": {
      "application/vnd.jupyter.widget-view+json": {
       "model_id": "b77cdecf02d94690a668896f72df6323",
       "version_major": 2,
       "version_minor": 0
      },
      "text/plain": [
       "0/23           ETA: ?s - "
      ]
     },
     "metadata": {},
     "output_type": "display_data"
    },
    {
     "name": "stdout",
     "output_type": "stream",
     "text": [
      "Epoch 78/100\n",
      "23/23 [==============================] - 0s 9ms/step - loss: 0.4501 - accuracy: 0.8357 - val_loss: 0.4605 - val_accuracy: 0.8280\n",
      "Epoch 79/100\n"
     ]
    },
    {
     "data": {
      "application/vnd.jupyter.widget-view+json": {
       "model_id": "7ae29c5130f5484b868044da96e9783f",
       "version_major": 2,
       "version_minor": 0
      },
      "text/plain": [
       "0/23           ETA: ?s - "
      ]
     },
     "metadata": {},
     "output_type": "display_data"
    },
    {
     "name": "stdout",
     "output_type": "stream",
     "text": [
      "Epoch 79/100\n",
      "23/23 [==============================] - 0s 9ms/step - loss: 0.4514 - accuracy: 0.8220 - val_loss: 0.4533 - val_accuracy: 0.8212\n",
      "Epoch 80/100\n"
     ]
    },
    {
     "data": {
      "application/vnd.jupyter.widget-view+json": {
       "model_id": "59bda384fea04e00816b40ccbba4c687",
       "version_major": 2,
       "version_minor": 0
      },
      "text/plain": [
       "0/23           ETA: ?s - "
      ]
     },
     "metadata": {},
     "output_type": "display_data"
    },
    {
     "name": "stdout",
     "output_type": "stream",
     "text": [
      "Epoch 80/100\n",
      "23/23 [==============================] - 0s 9ms/step - loss: 0.4466 - accuracy: 0.8344 - val_loss: 0.4590 - val_accuracy: 0.8042\n",
      "Epoch 81/100\n"
     ]
    },
    {
     "data": {
      "application/vnd.jupyter.widget-view+json": {
       "model_id": "8dcb9b92e171450693729058405a6a08",
       "version_major": 2,
       "version_minor": 0
      },
      "text/plain": [
       "0/23           ETA: ?s - "
      ]
     },
     "metadata": {},
     "output_type": "display_data"
    },
    {
     "name": "stdout",
     "output_type": "stream",
     "text": [
      "Epoch 81/100\n",
      "23/23 [==============================] - 0s 9ms/step - loss: 0.4455 - accuracy: 0.8255 - val_loss: 0.4530 - val_accuracy: 0.7947\n",
      "Epoch 82/100\n"
     ]
    },
    {
     "data": {
      "application/vnd.jupyter.widget-view+json": {
       "model_id": "085f017e57f34da8af8618f50a26ea9e",
       "version_major": 2,
       "version_minor": 0
      },
      "text/plain": [
       "0/23           ETA: ?s - "
      ]
     },
     "metadata": {},
     "output_type": "display_data"
    },
    {
     "name": "stdout",
     "output_type": "stream",
     "text": [
      "Epoch 82/100\n",
      "23/23 [==============================] - 0s 9ms/step - loss: 0.4462 - accuracy: 0.8276 - val_loss: 0.4533 - val_accuracy: 0.8171\n",
      "Epoch 83/100\n"
     ]
    },
    {
     "data": {
      "application/vnd.jupyter.widget-view+json": {
       "model_id": "f01f2178e25e47d5826cfbf8ac2f6ca0",
       "version_major": 2,
       "version_minor": 0
      },
      "text/plain": [
       "0/23           ETA: ?s - "
      ]
     },
     "metadata": {},
     "output_type": "display_data"
    },
    {
     "name": "stdout",
     "output_type": "stream",
     "text": [
      "Epoch 83/100\n",
      "23/23 [==============================] - 0s 9ms/step - loss: 0.4471 - accuracy: 0.8267 - val_loss: 0.4479 - val_accuracy: 0.7940\n",
      "Epoch 84/100\n"
     ]
    },
    {
     "data": {
      "application/vnd.jupyter.widget-view+json": {
       "model_id": "d3af72a323324033b3d081ae0e32b524",
       "version_major": 2,
       "version_minor": 0
      },
      "text/plain": [
       "0/23           ETA: ?s - "
      ]
     },
     "metadata": {},
     "output_type": "display_data"
    },
    {
     "name": "stdout",
     "output_type": "stream",
     "text": [
      "Epoch 84/100\n",
      "23/23 [==============================] - 0s 9ms/step - loss: 0.4426 - accuracy: 0.8296 - val_loss: 0.4469 - val_accuracy: 0.8396\n",
      "Epoch 85/100\n"
     ]
    },
    {
     "data": {
      "application/vnd.jupyter.widget-view+json": {
       "model_id": "c8bac104e1fb419f9559cb0343722a19",
       "version_major": 2,
       "version_minor": 0
      },
      "text/plain": [
       "0/23           ETA: ?s - "
      ]
     },
     "metadata": {},
     "output_type": "display_data"
    },
    {
     "name": "stdout",
     "output_type": "stream",
     "text": [
      "Epoch 85/100\n",
      "23/23 [==============================] - 0s 9ms/step - loss: 0.4446 - accuracy: 0.8317 - val_loss: 0.4436 - val_accuracy: 0.8300\n",
      "Epoch 86/100\n"
     ]
    },
    {
     "data": {
      "application/vnd.jupyter.widget-view+json": {
       "model_id": "b889569227c5423db797ecf04a5fcc2d",
       "version_major": 2,
       "version_minor": 0
      },
      "text/plain": [
       "0/23           ETA: ?s - "
      ]
     },
     "metadata": {},
     "output_type": "display_data"
    },
    {
     "name": "stdout",
     "output_type": "stream",
     "text": [
      "Epoch 86/100\n",
      "23/23 [==============================] - 0s 9ms/step - loss: 0.4419 - accuracy: 0.8259 - val_loss: 0.4470 - val_accuracy: 0.8307\n",
      "Epoch 87/100\n"
     ]
    },
    {
     "data": {
      "application/vnd.jupyter.widget-view+json": {
       "model_id": "08f52a0a8b4d43019f42b4831d0ea8d6",
       "version_major": 2,
       "version_minor": 0
      },
      "text/plain": [
       "0/23           ETA: ?s - "
      ]
     },
     "metadata": {},
     "output_type": "display_data"
    },
    {
     "name": "stdout",
     "output_type": "stream",
     "text": [
      "Epoch 87/100\n",
      "23/23 [==============================] - 0s 9ms/step - loss: 0.4395 - accuracy: 0.8312 - val_loss: 0.4539 - val_accuracy: 0.8300\n",
      "Epoch 88/100\n"
     ]
    },
    {
     "data": {
      "application/vnd.jupyter.widget-view+json": {
       "model_id": "d864d6de64c14753adc793018f3a8d3a",
       "version_major": 2,
       "version_minor": 0
      },
      "text/plain": [
       "0/23           ETA: ?s - "
      ]
     },
     "metadata": {},
     "output_type": "display_data"
    },
    {
     "name": "stdout",
     "output_type": "stream",
     "text": [
      "Epoch 88/100\n",
      "23/23 [==============================] - 0s 9ms/step - loss: 0.4391 - accuracy: 0.8298 - val_loss: 0.4566 - val_accuracy: 0.8090\n",
      "Epoch 89/100\n"
     ]
    },
    {
     "data": {
      "application/vnd.jupyter.widget-view+json": {
       "model_id": "8d215a06b6974b5e8527b2a24f78b3b7",
       "version_major": 2,
       "version_minor": 0
      },
      "text/plain": [
       "0/23           ETA: ?s - "
      ]
     },
     "metadata": {},
     "output_type": "display_data"
    },
    {
     "name": "stdout",
     "output_type": "stream",
     "text": [
      "Epoch 89/100\n",
      "23/23 [==============================] - 0s 9ms/step - loss: 0.4394 - accuracy: 0.8378 - val_loss: 0.4618 - val_accuracy: 0.8199\n",
      "Epoch 90/100\n"
     ]
    },
    {
     "data": {
      "application/vnd.jupyter.widget-view+json": {
       "model_id": "a836c1163b664c27949199bf76a0d71d",
       "version_major": 2,
       "version_minor": 0
      },
      "text/plain": [
       "0/23           ETA: ?s - "
      ]
     },
     "metadata": {},
     "output_type": "display_data"
    },
    {
     "name": "stdout",
     "output_type": "stream",
     "text": [
      "Epoch 90/100\n",
      "23/23 [==============================] - 0s 9ms/step - loss: 0.4407 - accuracy: 0.8288 - val_loss: 0.4578 - val_accuracy: 0.7845\n",
      "Epoch 91/100\n"
     ]
    },
    {
     "data": {
      "application/vnd.jupyter.widget-view+json": {
       "model_id": "0a26877b4cc84d0c948a626803a48563",
       "version_major": 2,
       "version_minor": 0
      },
      "text/plain": [
       "0/23           ETA: ?s - "
      ]
     },
     "metadata": {},
     "output_type": "display_data"
    },
    {
     "name": "stdout",
     "output_type": "stream",
     "text": [
      "Epoch 91/100\n",
      "23/23 [==============================] - 0s 9ms/step - loss: 0.4387 - accuracy: 0.8237 - val_loss: 0.4546 - val_accuracy: 0.7967\n",
      "Epoch 92/100\n"
     ]
    },
    {
     "data": {
      "application/vnd.jupyter.widget-view+json": {
       "model_id": "149025f826034cf9a7af594c85aa67ff",
       "version_major": 2,
       "version_minor": 0
      },
      "text/plain": [
       "0/23           ETA: ?s - "
      ]
     },
     "metadata": {},
     "output_type": "display_data"
    },
    {
     "name": "stdout",
     "output_type": "stream",
     "text": [
      "Epoch 92/100\n",
      "23/23 [==============================] - 0s 10ms/step - loss: 0.4352 - accuracy: 0.8364 - val_loss: 0.4412 - val_accuracy: 0.8239\n",
      "Epoch 93/100\n"
     ]
    },
    {
     "data": {
      "application/vnd.jupyter.widget-view+json": {
       "model_id": "31fd588ce2de413ca1a1038f2dea5f84",
       "version_major": 2,
       "version_minor": 0
      },
      "text/plain": [
       "0/23           ETA: ?s - "
      ]
     },
     "metadata": {},
     "output_type": "display_data"
    },
    {
     "name": "stdout",
     "output_type": "stream",
     "text": [
      "Epoch 93/100\n",
      "23/23 [==============================] - 0s 9ms/step - loss: 0.4334 - accuracy: 0.8349 - val_loss: 0.4391 - val_accuracy: 0.8117\n",
      "Epoch 94/100\n"
     ]
    },
    {
     "data": {
      "application/vnd.jupyter.widget-view+json": {
       "model_id": "cb2910f4f9d944748aba6fbb4fbc2022",
       "version_major": 2,
       "version_minor": 0
      },
      "text/plain": [
       "0/23           ETA: ?s - "
      ]
     },
     "metadata": {},
     "output_type": "display_data"
    },
    {
     "name": "stdout",
     "output_type": "stream",
     "text": [
      "Epoch 94/100\n",
      "23/23 [==============================] - 0s 9ms/step - loss: 0.4316 - accuracy: 0.8320 - val_loss: 0.4475 - val_accuracy: 0.8008\n",
      "Epoch 95/100\n"
     ]
    },
    {
     "data": {
      "application/vnd.jupyter.widget-view+json": {
       "model_id": "8fef72156ffb4d17927935606fd9080e",
       "version_major": 2,
       "version_minor": 0
      },
      "text/plain": [
       "0/23           ETA: ?s - "
      ]
     },
     "metadata": {},
     "output_type": "display_data"
    },
    {
     "name": "stdout",
     "output_type": "stream",
     "text": [
      "Epoch 95/100\n",
      "23/23 [==============================] - 0s 9ms/step - loss: 0.4300 - accuracy: 0.8381 - val_loss: 0.4415 - val_accuracy: 0.8192\n",
      "Epoch 96/100\n"
     ]
    },
    {
     "data": {
      "application/vnd.jupyter.widget-view+json": {
       "model_id": "011f2dc1a2204ba0ac9b3ebffd041c51",
       "version_major": 2,
       "version_minor": 0
      },
      "text/plain": [
       "0/23           ETA: ?s - "
      ]
     },
     "metadata": {},
     "output_type": "display_data"
    },
    {
     "name": "stdout",
     "output_type": "stream",
     "text": [
      "Epoch 96/100\n",
      "23/23 [==============================] - 0s 9ms/step - loss: 0.4302 - accuracy: 0.8312 - val_loss: 0.4373 - val_accuracy: 0.8212\n",
      "Epoch 97/100\n"
     ]
    },
    {
     "data": {
      "application/vnd.jupyter.widget-view+json": {
       "model_id": "30b10fe6950e4c38a4bdd35ae6d63ef5",
       "version_major": 2,
       "version_minor": 0
      },
      "text/plain": [
       "0/23           ETA: ?s - "
      ]
     },
     "metadata": {},
     "output_type": "display_data"
    },
    {
     "name": "stdout",
     "output_type": "stream",
     "text": [
      "Epoch 97/100\n",
      "23/23 [==============================] - 0s 9ms/step - loss: 0.4308 - accuracy: 0.8374 - val_loss: 0.4339 - val_accuracy: 0.8368\n",
      "Epoch 98/100\n"
     ]
    },
    {
     "data": {
      "application/vnd.jupyter.widget-view+json": {
       "model_id": "6572db1cd83e46b2a74deb7cd5522262",
       "version_major": 2,
       "version_minor": 0
      },
      "text/plain": [
       "0/23           ETA: ?s - "
      ]
     },
     "metadata": {},
     "output_type": "display_data"
    },
    {
     "name": "stdout",
     "output_type": "stream",
     "text": [
      "Epoch 98/100\n",
      "23/23 [==============================] - 0s 9ms/step - loss: 0.4291 - accuracy: 0.8352 - val_loss: 0.4451 - val_accuracy: 0.8049\n",
      "Epoch 99/100\n"
     ]
    },
    {
     "data": {
      "application/vnd.jupyter.widget-view+json": {
       "model_id": "476abc3d69534880b21464cf957a2705",
       "version_major": 2,
       "version_minor": 0
      },
      "text/plain": [
       "0/23           ETA: ?s - "
      ]
     },
     "metadata": {},
     "output_type": "display_data"
    },
    {
     "name": "stdout",
     "output_type": "stream",
     "text": [
      "Epoch 99/100\n",
      "23/23 [==============================] - 0s 9ms/step - loss: 0.4292 - accuracy: 0.8315 - val_loss: 0.4336 - val_accuracy: 0.7940\n",
      "Epoch 100/100\n"
     ]
    },
    {
     "data": {
      "application/vnd.jupyter.widget-view+json": {
       "model_id": "ffd1bd0deb28427c92ab6e7a6a60f1c2",
       "version_major": 2,
       "version_minor": 0
      },
      "text/plain": [
       "0/23           ETA: ?s - "
      ]
     },
     "metadata": {},
     "output_type": "display_data"
    },
    {
     "name": "stdout",
     "output_type": "stream",
     "text": [
      "Epoch 100/100\n",
      "23/23 [==============================] - 0s 9ms/step - loss: 0.4270 - accuracy: 0.8332 - val_loss: 0.4449 - val_accuracy: 0.8260\n"
     ]
    },
    {
     "data": {
      "text/plain": [
       "<keras.callbacks.History at 0x7f88728686a0>"
      ]
     },
     "execution_count": 19,
     "metadata": {},
     "output_type": "execute_result"
    }
   ],
   "source": [
    "model.fit(x_input, y_input, \n",
    "          epochs=100, \n",
    "          batch_size=256,\n",
    "          validation_data=(x_val, y_val),\n",
    "          callbacks=[tensorboard_callback, tqdm_callback]\n",
    "         )"
   ]
  },
  {
   "cell_type": "code",
   "execution_count": 130,
   "id": "8e44ad2e-f6df-4013-86c5-d29aae002dde",
   "metadata": {},
   "outputs": [
    {
     "name": "stdout",
     "output_type": "stream",
     "text": [
      "train accuracy:  0.0017003910899506887\n"
     ]
    }
   ],
   "source": [
    "predictions = model.predict(x_input,verbose=0)\n",
    "y_pred = np.argmax(predictions,axis=-1)\n",
    "print('train accuracy: ', np.sum(y_pred==y_input[:,0])/len(y_input))"
   ]
  },
  {
   "cell_type": "code",
   "execution_count": 131,
   "id": "d0a387e3-3412-4316-9cf9-d4ceb5b56712",
   "metadata": {},
   "outputs": [
    {
     "name": "stdout",
     "output_type": "stream",
     "text": [
      "val accuracy:  0.002719238613188307\n"
     ]
    }
   ],
   "source": [
    "predictions = model.predict(X_val,verbose=0)\n",
    "y_pred = np.argmax(predictions,axis=-1)\n",
    "print('val accuracy: ', np.sum(y_pred==y_val[:,0])/len(y_val))"
   ]
  },
  {
   "cell_type": "code",
   "execution_count": null,
   "id": "2bed1c7d-8624-472c-97fe-7ba71b1ce84e",
   "metadata": {},
   "outputs": [],
   "source": []
  },
  {
   "cell_type": "code",
   "execution_count": null,
   "id": "e12d1ebc-4365-45b4-a3af-4649d1918a14",
   "metadata": {},
   "outputs": [],
   "source": []
  },
  {
   "cell_type": "code",
   "execution_count": 40,
   "id": "6f135379-2c0d-4f8b-b0ed-961b16692da0",
   "metadata": {},
   "outputs": [],
   "source": [
    "##LSTM##\n",
    "# https://www.analyticsvidhya.com/blog/2021/07/implementing-lstm-for-human-activity-recognition-using-smartphone-accelerometer-data/\n",
    "\n",
    "from keras.models import Sequential\n",
    "from keras.layers import LSTM, Dense, Flatten, Dropout\n",
    "\n",
    "model = Sequential()\n",
    "# RNN layer\n",
    "model.add(LSTM(units = 128, input_shape = (x_input.shape[1], x_input.shape[2])))\n",
    "# Dropout layer\n",
    "model.add(Dropout(0.5)) \n",
    "# Dense layer with ReLu\n",
    "model.add(Dense(units = 124, activation='relu'))\n",
    "# Softmax layer\n",
    "model.add(Dense(y_input.shape[1], activation = 'softmax'))\n",
    "# Compile model\n",
    "model.compile(loss='categorical_crossentropy', optimizer='adam', metrics=['accuracy'])"
   ]
  },
  {
   "cell_type": "code",
   "execution_count": 59,
   "id": "1b86a96b-a94a-4b36-897c-25954ffe3437",
   "metadata": {},
   "outputs": [
    {
     "name": "stdout",
     "output_type": "stream",
     "text": [
      "Model: \"sequential\"\n",
      "_________________________________________________________________\n",
      " Layer (type)                Output Shape              Param #   \n",
      "=================================================================\n",
      " lstm (LSTM)                 (None, 128)               67584     \n",
      "                                                                 \n",
      " dropout (Dropout)           (None, 128)               0         \n",
      "                                                                 \n",
      " dense_8 (Dense)             (None, 124)               15996     \n",
      "                                                                 \n",
      " dense_9 (Dense)             (None, 6)                 750       \n",
      "                                                                 \n",
      "=================================================================\n",
      "Total params: 84,330\n",
      "Trainable params: 84,330\n",
      "Non-trainable params: 0\n",
      "_________________________________________________________________\n"
     ]
    }
   ],
   "source": [
    "model.summary()"
   ]
  },
  {
   "cell_type": "code",
   "execution_count": 41,
   "id": "f94a5a0a-cc2d-4997-8746-8d1b48df992d",
   "metadata": {},
   "outputs": [
    {
     "name": "stdout",
     "output_type": "stream",
     "text": [
      "Epoch 1/100\n",
      "5/5 [==============================] - 3s 275ms/step - loss: 1.7873 - accuracy: 0.2436 - val_loss: 1.7783 - val_accuracy: 0.2608\n",
      "Epoch 2/100\n",
      "5/5 [==============================] - 0s 96ms/step - loss: 1.7750 - accuracy: 0.2766 - val_loss: 1.7637 - val_accuracy: 0.2753\n",
      "Epoch 3/100\n",
      "5/5 [==============================] - 0s 94ms/step - loss: 1.7577 - accuracy: 0.3074 - val_loss: 1.7307 - val_accuracy: 0.3602\n",
      "Epoch 4/100\n",
      "5/5 [==============================] - 0s 92ms/step - loss: 1.7010 - accuracy: 0.3659 - val_loss: 1.5927 - val_accuracy: 0.3347\n",
      "Epoch 5/100\n",
      "5/5 [==============================] - 0s 93ms/step - loss: 1.5730 - accuracy: 0.3274 - val_loss: 1.4868 - val_accuracy: 0.3560\n",
      "Epoch 6/100\n",
      "5/5 [==============================] - 0s 98ms/step - loss: 1.4442 - accuracy: 0.3403 - val_loss: 1.2576 - val_accuracy: 0.3500\n",
      "Epoch 7/100\n",
      "5/5 [==============================] - 0s 90ms/step - loss: 1.2588 - accuracy: 0.3395 - val_loss: 1.1628 - val_accuracy: 0.3543\n",
      "Epoch 8/100\n",
      "5/5 [==============================] - 0s 98ms/step - loss: 1.2207 - accuracy: 0.3216 - val_loss: 1.2724 - val_accuracy: 0.3560\n",
      "Epoch 9/100\n",
      "5/5 [==============================] - 0s 93ms/step - loss: 1.2574 - accuracy: 0.3318 - val_loss: 1.2147 - val_accuracy: 0.3509\n",
      "Epoch 10/100\n",
      "5/5 [==============================] - 0s 94ms/step - loss: 1.3169 - accuracy: 0.3306 - val_loss: 1.4462 - val_accuracy: 0.3254\n",
      "Epoch 11/100\n",
      "5/5 [==============================] - 0s 95ms/step - loss: 1.3158 - accuracy: 0.3144 - val_loss: 1.4951 - val_accuracy: 0.2795\n",
      "Epoch 12/100\n",
      "5/5 [==============================] - 0s 93ms/step - loss: 1.8997 - accuracy: 0.2519 - val_loss: 3.4257 - val_accuracy: 0.1376\n",
      "Epoch 13/100\n",
      "5/5 [==============================] - 0s 95ms/step - loss: 2.6759 - accuracy: 0.1454 - val_loss: 1.9699 - val_accuracy: 0.2048\n",
      "Epoch 14/100\n",
      "5/5 [==============================] - 0s 96ms/step - loss: 1.8607 - accuracy: 0.1788 - val_loss: 1.7419 - val_accuracy: 0.1606\n",
      "Epoch 15/100\n",
      "5/5 [==============================] - 0s 99ms/step - loss: 1.6542 - accuracy: 0.2819 - val_loss: 1.6656 - val_accuracy: 0.2999\n",
      "Epoch 16/100\n",
      "5/5 [==============================] - 0s 91ms/step - loss: 1.6600 - accuracy: 0.3019 - val_loss: 1.6636 - val_accuracy: 0.2795\n",
      "Epoch 17/100\n",
      "5/5 [==============================] - 0s 95ms/step - loss: 1.6641 - accuracy: 0.2830 - val_loss: 1.6587 - val_accuracy: 0.2829\n",
      "Epoch 18/100\n",
      "5/5 [==============================] - 0s 95ms/step - loss: 1.6537 - accuracy: 0.2830 - val_loss: 1.6384 - val_accuracy: 0.2855\n",
      "Epoch 19/100\n",
      "5/5 [==============================] - 0s 95ms/step - loss: 1.6282 - accuracy: 0.3019 - val_loss: 1.6047 - val_accuracy: 0.2974\n",
      "Epoch 20/100\n",
      "5/5 [==============================] - 0s 97ms/step - loss: 1.5895 - accuracy: 0.3085 - val_loss: 1.5544 - val_accuracy: 0.3084\n",
      "Epoch 21/100\n",
      "5/5 [==============================] - 0s 95ms/step - loss: 1.5320 - accuracy: 0.3344 - val_loss: 1.4831 - val_accuracy: 0.3390\n",
      "Epoch 22/100\n",
      "5/5 [==============================] - 0s 96ms/step - loss: 1.4585 - accuracy: 0.3535 - val_loss: 1.4067 - val_accuracy: 0.3645\n",
      "Epoch 23/100\n",
      "5/5 [==============================] - 0s 95ms/step - loss: 1.3738 - accuracy: 0.3542 - val_loss: 1.3269 - val_accuracy: 0.3543\n",
      "Epoch 24/100\n",
      "5/5 [==============================] - 0s 92ms/step - loss: 1.3061 - accuracy: 0.3321 - val_loss: 1.2756 - val_accuracy: 0.3534\n",
      "Epoch 25/100\n",
      "5/5 [==============================] - 0s 94ms/step - loss: 1.2551 - accuracy: 0.3287 - val_loss: 1.2335 - val_accuracy: 0.3526\n",
      "Epoch 26/100\n",
      "5/5 [==============================] - 0s 94ms/step - loss: 1.2229 - accuracy: 0.3263 - val_loss: 1.1983 - val_accuracy: 0.3483\n",
      "Epoch 27/100\n",
      "5/5 [==============================] - 0s 95ms/step - loss: 1.1943 - accuracy: 0.3516 - val_loss: 1.1713 - val_accuracy: 0.3602\n",
      "Epoch 28/100\n",
      "5/5 [==============================] - 0s 93ms/step - loss: 1.1736 - accuracy: 0.3503 - val_loss: 1.1474 - val_accuracy: 0.3704\n",
      "Epoch 29/100\n",
      "5/5 [==============================] - 0s 94ms/step - loss: 1.1554 - accuracy: 0.3525 - val_loss: 1.1347 - val_accuracy: 0.3730\n",
      "Epoch 30/100\n",
      "5/5 [==============================] - 0s 95ms/step - loss: 1.1428 - accuracy: 0.3442 - val_loss: 1.1259 - val_accuracy: 0.3577\n",
      "Epoch 31/100\n",
      "5/5 [==============================] - 0s 94ms/step - loss: 1.1337 - accuracy: 0.3603 - val_loss: 1.1200 - val_accuracy: 0.3636\n",
      "Epoch 32/100\n",
      "5/5 [==============================] - 0s 96ms/step - loss: 1.1296 - accuracy: 0.3529 - val_loss: 1.1162 - val_accuracy: 0.3679\n",
      "Epoch 33/100\n",
      "5/5 [==============================] - 0s 97ms/step - loss: 1.1244 - accuracy: 0.3540 - val_loss: 1.1112 - val_accuracy: 0.3730\n",
      "Epoch 34/100\n",
      "5/5 [==============================] - 0s 93ms/step - loss: 1.1225 - accuracy: 0.3597 - val_loss: 1.1083 - val_accuracy: 0.3679\n",
      "Epoch 35/100\n",
      "5/5 [==============================] - 0s 96ms/step - loss: 1.1207 - accuracy: 0.3554 - val_loss: 1.1068 - val_accuracy: 0.3764\n",
      "Epoch 36/100\n",
      "5/5 [==============================] - 0s 94ms/step - loss: 1.1181 - accuracy: 0.3546 - val_loss: 1.1068 - val_accuracy: 0.3781\n",
      "Epoch 37/100\n",
      "5/5 [==============================] - 0s 93ms/step - loss: 1.1132 - accuracy: 0.3701 - val_loss: 1.1068 - val_accuracy: 0.3764\n",
      "Epoch 38/100\n",
      "5/5 [==============================] - 0s 94ms/step - loss: 1.1125 - accuracy: 0.3676 - val_loss: 1.1042 - val_accuracy: 0.3704\n",
      "Epoch 39/100\n",
      "5/5 [==============================] - 0s 97ms/step - loss: 1.1101 - accuracy: 0.3603 - val_loss: 1.1007 - val_accuracy: 0.3704\n",
      "Epoch 40/100\n",
      "5/5 [==============================] - 0s 93ms/step - loss: 1.1077 - accuracy: 0.3518 - val_loss: 1.0977 - val_accuracy: 0.3781\n",
      "Epoch 41/100\n",
      "5/5 [==============================] - 0s 91ms/step - loss: 1.1046 - accuracy: 0.3733 - val_loss: 1.0958 - val_accuracy: 0.3738\n",
      "Epoch 42/100\n",
      "5/5 [==============================] - 0s 91ms/step - loss: 1.1009 - accuracy: 0.3703 - val_loss: 1.0940 - val_accuracy: 0.3789\n",
      "Epoch 43/100\n",
      "5/5 [==============================] - 0s 94ms/step - loss: 1.1022 - accuracy: 0.3676 - val_loss: 1.0918 - val_accuracy: 0.3747\n",
      "Epoch 44/100\n",
      "5/5 [==============================] - 0s 93ms/step - loss: 1.1008 - accuracy: 0.3646 - val_loss: 1.0902 - val_accuracy: 0.3789\n",
      "Epoch 45/100\n",
      "5/5 [==============================] - 0s 92ms/step - loss: 1.0972 - accuracy: 0.3735 - val_loss: 1.0891 - val_accuracy: 0.3798\n",
      "Epoch 46/100\n",
      "5/5 [==============================] - 0s 93ms/step - loss: 1.0959 - accuracy: 0.3795 - val_loss: 1.0872 - val_accuracy: 0.3815\n",
      "Epoch 47/100\n",
      "5/5 [==============================] - 0s 99ms/step - loss: 1.0953 - accuracy: 0.3731 - val_loss: 1.0860 - val_accuracy: 0.3866\n",
      "Epoch 48/100\n",
      "5/5 [==============================] - 0s 95ms/step - loss: 1.0957 - accuracy: 0.3695 - val_loss: 1.0852 - val_accuracy: 0.3823\n",
      "Epoch 49/100\n",
      "5/5 [==============================] - 0s 96ms/step - loss: 1.0930 - accuracy: 0.3801 - val_loss: 1.0840 - val_accuracy: 0.3832\n",
      "Epoch 50/100\n",
      "5/5 [==============================] - 0s 95ms/step - loss: 1.0925 - accuracy: 0.3748 - val_loss: 1.0824 - val_accuracy: 0.3840\n",
      "Epoch 51/100\n",
      "5/5 [==============================] - 0s 98ms/step - loss: 1.0886 - accuracy: 0.3848 - val_loss: 1.0809 - val_accuracy: 0.3840\n",
      "Epoch 52/100\n",
      "5/5 [==============================] - 0s 92ms/step - loss: 1.0870 - accuracy: 0.3869 - val_loss: 1.0789 - val_accuracy: 0.3857\n",
      "Epoch 53/100\n",
      "5/5 [==============================] - 0s 92ms/step - loss: 1.0874 - accuracy: 0.3776 - val_loss: 1.0777 - val_accuracy: 0.3866\n",
      "Epoch 54/100\n",
      "5/5 [==============================] - 0s 95ms/step - loss: 1.0880 - accuracy: 0.3871 - val_loss: 1.0761 - val_accuracy: 0.3874\n",
      "Epoch 55/100\n",
      "5/5 [==============================] - 0s 95ms/step - loss: 1.0840 - accuracy: 0.3935 - val_loss: 1.0733 - val_accuracy: 0.3849\n",
      "Epoch 56/100\n",
      "5/5 [==============================] - 0s 91ms/step - loss: 1.0810 - accuracy: 0.3903 - val_loss: 1.0702 - val_accuracy: 0.3857\n",
      "Epoch 57/100\n",
      "5/5 [==============================] - 0s 94ms/step - loss: 1.0782 - accuracy: 0.3965 - val_loss: 1.0664 - val_accuracy: 0.3917\n",
      "Epoch 58/100\n",
      "5/5 [==============================] - 0s 94ms/step - loss: 1.0746 - accuracy: 0.4022 - val_loss: 1.0608 - val_accuracy: 0.3976\n",
      "Epoch 59/100\n",
      "5/5 [==============================] - 0s 94ms/step - loss: 1.0673 - accuracy: 0.4024 - val_loss: 1.0534 - val_accuracy: 0.3993\n",
      "Epoch 60/100\n",
      "5/5 [==============================] - 0s 94ms/step - loss: 1.0551 - accuracy: 0.4196 - val_loss: 1.0339 - val_accuracy: 0.4240\n",
      "Epoch 61/100\n",
      "5/5 [==============================] - 0s 95ms/step - loss: 1.0356 - accuracy: 0.4264 - val_loss: 1.0094 - val_accuracy: 0.4316\n",
      "Epoch 62/100\n",
      "5/5 [==============================] - 0s 98ms/step - loss: 1.0190 - accuracy: 0.4386 - val_loss: 0.9886 - val_accuracy: 0.4469\n",
      "Epoch 63/100\n",
      "5/5 [==============================] - 0s 92ms/step - loss: 0.9866 - accuracy: 0.4605 - val_loss: 0.9510 - val_accuracy: 0.4579\n",
      "Epoch 64/100\n",
      "5/5 [==============================] - 0s 95ms/step - loss: 0.9667 - accuracy: 0.4613 - val_loss: 0.9179 - val_accuracy: 0.4945\n",
      "Epoch 65/100\n",
      "5/5 [==============================] - 0s 96ms/step - loss: 0.9311 - accuracy: 0.4877 - val_loss: 0.8681 - val_accuracy: 0.4936\n",
      "Epoch 66/100\n",
      "5/5 [==============================] - 0s 94ms/step - loss: 0.8844 - accuracy: 0.4945 - val_loss: 0.8718 - val_accuracy: 0.5353\n",
      "Epoch 67/100\n",
      "5/5 [==============================] - 0s 96ms/step - loss: 0.8917 - accuracy: 0.5006 - val_loss: 0.8800 - val_accuracy: 0.4851\n",
      "Epoch 68/100\n",
      "5/5 [==============================] - 0s 95ms/step - loss: 0.8750 - accuracy: 0.5043 - val_loss: 0.8519 - val_accuracy: 0.4970\n",
      "Epoch 69/100\n",
      "5/5 [==============================] - 0s 96ms/step - loss: 0.8520 - accuracy: 0.5030 - val_loss: 0.8146 - val_accuracy: 0.5480\n",
      "Epoch 70/100\n",
      "5/5 [==============================] - 0s 96ms/step - loss: 0.8393 - accuracy: 0.5147 - val_loss: 0.8576 - val_accuracy: 0.5174\n",
      "Epoch 71/100\n",
      "5/5 [==============================] - 0s 96ms/step - loss: 0.8376 - accuracy: 0.5276 - val_loss: 0.7787 - val_accuracy: 0.5786\n",
      "Epoch 72/100\n",
      "5/5 [==============================] - 0s 93ms/step - loss: 0.8024 - accuracy: 0.5461 - val_loss: 0.7563 - val_accuracy: 0.5769\n",
      "Epoch 73/100\n",
      "5/5 [==============================] - 0s 98ms/step - loss: 0.7742 - accuracy: 0.5736 - val_loss: 0.7375 - val_accuracy: 0.5998\n",
      "Epoch 74/100\n",
      "5/5 [==============================] - 0s 96ms/step - loss: 0.7524 - accuracy: 0.5823 - val_loss: 0.7093 - val_accuracy: 0.5998\n",
      "Epoch 75/100\n",
      "5/5 [==============================] - 0s 93ms/step - loss: 0.7857 - accuracy: 0.5574 - val_loss: 0.6887 - val_accuracy: 0.6117\n",
      "Epoch 76/100\n",
      "5/5 [==============================] - 0s 95ms/step - loss: 0.7335 - accuracy: 0.5929 - val_loss: 0.6869 - val_accuracy: 0.6075\n",
      "Epoch 77/100\n",
      "5/5 [==============================] - 0s 96ms/step - loss: 0.7209 - accuracy: 0.5965 - val_loss: 0.6766 - val_accuracy: 0.6185\n",
      "Epoch 78/100\n",
      "5/5 [==============================] - 0s 97ms/step - loss: 0.7100 - accuracy: 0.5950 - val_loss: 0.6731 - val_accuracy: 0.6168\n",
      "Epoch 79/100\n",
      "5/5 [==============================] - 0s 94ms/step - loss: 0.6958 - accuracy: 0.6125 - val_loss: 0.6732 - val_accuracy: 0.6126\n",
      "Epoch 80/100\n",
      "5/5 [==============================] - 0s 94ms/step - loss: 0.6907 - accuracy: 0.6016 - val_loss: 0.6647 - val_accuracy: 0.6228\n",
      "Epoch 81/100\n",
      "5/5 [==============================] - 0s 93ms/step - loss: 0.7043 - accuracy: 0.6052 - val_loss: 0.6763 - val_accuracy: 0.6185\n",
      "Epoch 82/100\n",
      "5/5 [==============================] - 0s 95ms/step - loss: 0.7128 - accuracy: 0.5944 - val_loss: 0.7388 - val_accuracy: 0.5845\n",
      "Epoch 83/100\n",
      "5/5 [==============================] - 0s 95ms/step - loss: 0.7609 - accuracy: 0.5797 - val_loss: 0.6607 - val_accuracy: 0.6262\n",
      "Epoch 84/100\n",
      "5/5 [==============================] - 0s 94ms/step - loss: 0.7098 - accuracy: 0.6097 - val_loss: 0.6686 - val_accuracy: 0.6219\n",
      "Epoch 85/100\n",
      "5/5 [==============================] - 0s 93ms/step - loss: 0.7002 - accuracy: 0.6133 - val_loss: 0.6663 - val_accuracy: 0.6219\n",
      "Epoch 86/100\n",
      "5/5 [==============================] - 0s 95ms/step - loss: 0.6846 - accuracy: 0.6076 - val_loss: 0.6623 - val_accuracy: 0.6202\n",
      "Epoch 87/100\n",
      "5/5 [==============================] - 0s 97ms/step - loss: 0.6865 - accuracy: 0.6137 - val_loss: 0.6535 - val_accuracy: 0.6253\n",
      "Epoch 88/100\n",
      "5/5 [==============================] - 0s 96ms/step - loss: 0.6786 - accuracy: 0.6029 - val_loss: 0.6484 - val_accuracy: 0.6262\n",
      "Epoch 89/100\n",
      "5/5 [==============================] - 0s 96ms/step - loss: 0.6798 - accuracy: 0.6182 - val_loss: 0.6617 - val_accuracy: 0.6143\n",
      "Epoch 90/100\n",
      "5/5 [==============================] - 0s 92ms/step - loss: 0.6790 - accuracy: 0.6188 - val_loss: 0.6739 - val_accuracy: 0.6092\n",
      "Epoch 91/100\n",
      "5/5 [==============================] - 0s 94ms/step - loss: 0.6778 - accuracy: 0.6144 - val_loss: 0.6495 - val_accuracy: 0.6338\n",
      "Epoch 92/100\n",
      "5/5 [==============================] - 0s 99ms/step - loss: 0.6714 - accuracy: 0.6114 - val_loss: 0.6474 - val_accuracy: 0.6228\n",
      "Epoch 93/100\n",
      "5/5 [==============================] - 0s 97ms/step - loss: 0.6682 - accuracy: 0.6178 - val_loss: 0.6456 - val_accuracy: 0.6270\n",
      "Epoch 94/100\n",
      "5/5 [==============================] - 0s 93ms/step - loss: 0.6629 - accuracy: 0.6246 - val_loss: 0.6439 - val_accuracy: 0.6270\n",
      "Epoch 95/100\n",
      "5/5 [==============================] - 0s 94ms/step - loss: 0.6596 - accuracy: 0.6182 - val_loss: 0.6396 - val_accuracy: 0.6279\n",
      "Epoch 96/100\n",
      "5/5 [==============================] - 0s 95ms/step - loss: 0.6615 - accuracy: 0.6254 - val_loss: 0.6421 - val_accuracy: 0.6253\n",
      "Epoch 97/100\n",
      "5/5 [==============================] - 0s 97ms/step - loss: 0.6614 - accuracy: 0.6222 - val_loss: 0.6403 - val_accuracy: 0.6287\n",
      "Epoch 98/100\n",
      "5/5 [==============================] - 0s 92ms/step - loss: 0.6644 - accuracy: 0.6212 - val_loss: 0.6427 - val_accuracy: 0.6253\n",
      "Epoch 99/100\n",
      "5/5 [==============================] - 0s 94ms/step - loss: 0.6638 - accuracy: 0.6176 - val_loss: 0.6394 - val_accuracy: 0.6262\n",
      "Epoch 100/100\n",
      "5/5 [==============================] - 0s 95ms/step - loss: 0.6606 - accuracy: 0.6197 - val_loss: 0.6374 - val_accuracy: 0.6262\n"
     ]
    },
    {
     "data": {
      "image/png": "[encoded data removed]",
      "text/plain": [
       "<Figure size 640x480 with 1 Axes>"
      ]
     },
     "metadata": {},
     "output_type": "display_data"
    }
   ],
   "source": [
    "n_epochs = 100\n",
    "batch_size = 1024 \n",
    "\n",
    "history = model.fit(x_input, y_input, epochs = n_epochs, validation_split = 0.20, batch_size = batch_size, verbose = 1)\n",
    "\n",
    "plt.plot(np.array(history.history['loss']), \"r--\", label = \"Train loss\")\n",
    "plt.plot(np.array(history.history['accuracy']), \"g--\", label = \"Train accuracy\")\n",
    "plt.plot(np.array(history.history['val_loss']), \"r-\", label = \"Validation loss\")\n",
    "plt.plot(np.array(history.history['val_accuracy']), \"g-\", label = \"Validation accuracy\")\n",
    "plt.title(\"Training session's progress over iterations\")\n",
    "plt.legend(loc='lower left')\n",
    "plt.ylabel('Training Progress (Loss/Accuracy)')\n",
    "plt.xlabel('Training Epoch')\n",
    "plt.ylim(0) \n",
    "plt.show()"
   ]
  },
  {
   "cell_type": "code",
   "execution_count": null,
   "id": "c5b2276b-5a71-4ea0-b886-8fbdf698a429",
   "metadata": {},
   "outputs": [],
   "source": []
  },
  {
   "cell_type": "code",
   "execution_count": null,
   "id": "46420671-85b7-4a4f-9a80-b56a25659315",
   "metadata": {},
   "outputs": [],
   "source": []
  },
  {
   "cell_type": "code",
   "execution_count": null,
   "id": "c0652f8b-00a3-4abb-aaa0-19b7f882e76b",
   "metadata": {},
   "outputs": [],
   "source": []
  },
  {
   "cell_type": "code",
   "execution_count": null,
   "id": "a62eca2a-0c74-4fb7-9476-a7d2fec3e7a0",
   "metadata": {},
   "outputs": [],
   "source": []
  }
 ],
 "metadata": {
  "kernelspec": {
   "display_name": "Python 3 (ipykernel)",
   "language": "python",
   "name": "python3"
  },
  "language_info": {
   "codemirror_mode": {
    "name": "ipython",
    "version": 3
   },
   "file_extension": ".py",
   "mimetype": "text/x-python",
   "name": "python",
   "nbconvert_exporter": "python",
   "pygments_lexer": "ipython3",
   "version": "3.8.16"
  }
 },
 "nbformat": 4,
 "nbformat_minor": 5
}
