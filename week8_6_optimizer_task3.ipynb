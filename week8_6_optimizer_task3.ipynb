{
 "cells": [
  {
   "cell_type": "markdown",
   "id": "9c06e19a-6d3c-4c84-9797-b2380c22f3ed",
   "metadata": {},
   "source": [
    "## Week 8 - task 3 TO DO"
   ]
  },
  {
   "cell_type": "code",
   "execution_count": 6,
   "id": "616acc51-178e-492a-99e5-b4f4e0e6fcb9",
   "metadata": {},
   "outputs": [],
   "source": [
    "import tensorflow_probability as tfp\n",
    "import tensorflow as tf\n",
    "import numpy as np\n",
    "import matplotlib.pyplot as plt"
   ]
  },
  {
   "cell_type": "code",
   "execution_count": 7,
   "id": "ef409530-2de4-4399-9fc7-cc65b1707b64",
   "metadata": {},
   "outputs": [],
   "source": [
    "#Suppose the number of lions observed at a camera trap in a given day follows a Poisson distribution with rate 1.\n",
    "tfd = tfp.distributions\n",
    "lions = tfd.Poisson(rate=1)"
   ]
  },
  {
   "cell_type": "code",
   "execution_count": 8,
   "id": "5f3886d4-eda9-4962-a624-e8e177d485ad",
   "metadata": {},
   "outputs": [
    {
     "data": {
      "image/png": "[encoded data removed]",
      "text/plain": [
       "<Figure size 400x300 with 1 Axes>"
      ]
     },
     "metadata": {},
     "output_type": "display_data"
    }
   ],
   "source": [
    "#We can now sample from this distribution to explore how the number of lions varies across different days.\n",
    "# sample from the distribution for 10 years worth of samples\n",
    "n_lions = lions.sample(3650)\n",
    "\n",
    "# plot the histogram of number of lions each day\n",
    "plt.figure(figsize=(4,3))\n",
    "plt.hist(n_lions.numpy(), bins = np.arange(10),rwidth=0.75,density=True,align='left')\n",
    "plt.xlabel('number of lions')\n",
    "plt.ylabel('frequency')\n",
    "plt.show()"
   ]
  },
  {
   "cell_type": "markdown",
   "id": "bfe6da5a-8162-46cb-ab40-5d67f0d6ed7c",
   "metadata": {},
   "source": [
    "The number of\r\n",
    "wildebeest detected also follows a Poisson distribution except the influence of the lions is nowdetermined\r\n",
    "by an uknown parameter 𝛼\r\n",
    "𝜆𝑤 = exp (4 − 𝛼𝑁𝑙)\r\n",
    "where 𝑁𝑙 is the number of lions that day."
   ]
  },
  {
   "cell_type": "code",
   "execution_count": 14,
   "id": "af6d38d4-3a6c-4dbe-9731-57fb3fd164cd",
   "metadata": {},
   "outputs": [],
   "source": [
    "#Over 20 days, the following observations are made:\n",
    "\n",
    "ldata = np.array([0, 2, 1, 1, 2, 3, 6, 4, 5, 6, 7, 2, 0, 6, 5, 6, 2, 1, 6, 5])\n",
    "wdata = np.array([64, 0, 16, 14, 3, 1, 0, 0, 0, 0, 0, 1, 58, 0, 0, 0, 6, 10, 0, 0])\n",
    "\n",
    "#Using the same joint distribution as we used in the example above, find the maximum likelihood estimate\n",
    "#for 𝛼 given these data using the L-BFGS optimizer"
   ]
  },
  {
   "cell_type": "code",
   "execution_count": 15,
   "id": "fadb474c-263d-4afc-abc6-53ac1a1e99cc",
   "metadata": {},
   "outputs": [],
   "source": [
    "@tf.function\n",
    "def loss_lions(alpha):\n",
    "    joint = tfd.JointDistributionSequential([\n",
    "        tfd.Poisson(rate=np.float64(1),name='lions'),\n",
    "    lambda lions : tfd.Poisson(rate=tf.math.exp(4-alpha*lions),name='wildebeest')\n",
    "    ])\n",
    "    return (-tf.reduce_sum(joint.log_prob([ldata,wdata])))"
   ]
  },
  {
   "cell_type": "code",
   "execution_count": 16,
   "id": "8f90a278-7938-449d-a307-4b6bca87b98c",
   "metadata": {},
   "outputs": [],
   "source": [
    "def loss_and_gradient(x):\n",
    "    return tfp.math.value_and_gradient(lambda x: loss_lions(x), x)"
   ]
  },
  {
   "cell_type": "code",
   "execution_count": 17,
   "id": "f7b9db1d-76b1-41c5-839f-2b9104f31c38",
   "metadata": {},
   "outputs": [
    {
     "name": "stdout",
     "output_type": "stream",
     "text": [
      "Optimizer converged:  True\n"
     ]
    }
   ],
   "source": [
    "# specify the starting value\n",
    "start = np.array([1.0]).astype(np.float64)\n",
    "\n",
    "# run the optimizer and check convergence\n",
    "results = tfp.optimizer.lbfgs_minimize(loss_and_gradient, initial_position=start, tolerance=1e-8)\n",
    "\n",
    "print('Optimizer converged: ',results.converged.numpy())"
   ]
  },
  {
   "cell_type": "code",
   "execution_count": 18,
   "id": "756668bc-1b4e-40e8-a2f2-61cc2df11231",
   "metadata": {},
   "outputs": [
    {
     "name": "stdout",
     "output_type": "stream",
     "text": [
      "[1.48189109]\n"
     ]
    }
   ],
   "source": [
    "#We can now print the optimal value (the true value of 𝛼 used to create the data was 1.5)\n",
    "print(results.position.numpy())"
   ]
  }
 ],
 "metadata": {
  "kernelspec": {
   "display_name": "Python 3 (ipykernel)",
   "language": "python",
   "name": "python3"
  },
  "language_info": {
   "codemirror_mode": {
    "name": "ipython",
    "version": 3
   },
   "file_extension": ".py",
   "mimetype": "text/x-python",
   "name": "python",
   "nbconvert_exporter": "python",
   "pygments_lexer": "ipython3",
   "version": "3.8.16"
  }
 },
 "nbformat": 4,
 "nbformat_minor": 5
}
