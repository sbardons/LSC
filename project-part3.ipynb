{
 "cells": [
  {
   "cell_type": "code",
   "execution_count": 1,
   "id": "d8024c26-9f6a-4423-8d7d-4e20e0d5ad19",
   "metadata": {},
   "outputs": [
    {
     "name": "stdout",
     "output_type": "stream",
     "text": [
      "Collecting tensorflow_addons\n",
      "  Using cached tensorflow_addons-0.21.0-cp38-cp38-manylinux_2_17_x86_64.manylinux2014_x86_64.whl (612 kB)\n",
      "Requirement already satisfied: packaging in /opt/conda/lib/python3.8/site-packages (from tensorflow_addons) (23.1)\n",
      "Collecting typeguard<3.0.0,>=2.7 (from tensorflow_addons)\n",
      "  Using cached typeguard-2.13.3-py3-none-any.whl (17 kB)\n",
      "Installing collected packages: typeguard, tensorflow_addons\n",
      "Successfully installed tensorflow_addons-0.21.0 typeguard-2.13.3\n"
     ]
    }
   ],
   "source": [
    "! pip install tensorflow_addons"
   ]
  },
  {
   "cell_type": "code",
   "execution_count": 2,
   "id": "48cba834",
   "metadata": {},
   "outputs": [
    {
     "name": "stderr",
     "output_type": "stream",
     "text": [
      "/opt/conda/lib/python3.8/site-packages/tensorflow_addons/utils/tfa_eol_msg.py:23: UserWarning: \n",
      "\n",
      "TensorFlow Addons (TFA) has ended development and introduction of new features.\n",
      "TFA has entered a minimal maintenance and release mode until a planned end of life in May 2024.\n",
      "Please modify downstream libraries to take dependencies from other repositories in our TensorFlow community (e.g. Keras, Keras-CV, and Keras-NLP). \n",
      "\n",
      "For more information see: https://github.com/tensorflow/addons/issues/2807 \n",
      "\n",
      "  warnings.warn(\n",
      "/opt/conda/lib/python3.8/site-packages/tensorflow_addons/utils/ensure_tf_install.py:53: UserWarning: Tensorflow Addons supports using Python ops for all Tensorflow versions above or equal to 2.11.0 and strictly below 2.14.0 (nightly versions are not supported). \n",
      " The versions of TensorFlow you are currently using is 2.8.0 and is not supported. \n",
      "Some things might work, some things might not.\n",
      "If you were to encounter a bug, do not file an issue.\n",
      "If you want to make sure you're using a tested and supported configuration, either change the TensorFlow version or the TensorFlow Addons's version. \n",
      "You can find the compatibility matrix in TensorFlow Addon's readme:\n",
      "https://github.com/tensorflow/addons\n",
      "  warnings.warn(\n"
     ]
    }
   ],
   "source": [
    "#Imports and settings\n",
    "\n",
    "import numpy as np\n",
    "import pandas as pd\n",
    "import itertools\n",
    "import matplotlib.pyplot as plt\n",
    "import seaborn as sns\n",
    "import sys\n",
    "\n",
    "import tensorflow as tf\n",
    "import tensorflow_addons as tfa\n",
    "from tqdm.notebook import tqdm\n",
    "\n",
    "\n",
    "from sklearn.model_selection import train_test_split\n",
    "\n",
    "np.set_printoptions(suppress=True)"
   ]
  },
  {
   "cell_type": "code",
   "execution_count": 3,
   "id": "bc50ac1f-b81d-472c-8c1b-d8867dc1f33b",
   "metadata": {},
   "outputs": [
    {
     "name": "stdout",
     "output_type": "stream",
     "text": [
      "(7352,)\n",
      "(2947,)\n"
     ]
    }
   ],
   "source": [
    "# load the features and labels (subtract 1 as the labels aren't indexed from 0)\n",
    "ytest = np.loadtxt('/home/jovyan/datasets/UCI_HAR_DATASET/test/y_test.txt')-1\n",
    "ytrain = np.loadtxt('/home/jovyan/datasets/UCI_HAR_DATASET/train/y_train.txt')-1\n",
    "\n",
    "print(ytrain.shape)\n",
    "print(ytest.shape)"
   ]
  },
  {
   "cell_type": "code",
   "execution_count": 4,
   "id": "84e7692e-386f-4b4e-ade7-842e10fa93fc",
   "metadata": {},
   "outputs": [
    {
     "name": "stdout",
     "output_type": "stream",
     "text": [
      "(2947, 128)\n",
      "(2947, 128)\n"
     ]
    }
   ],
   "source": [
    "# load the x,y,z accelerations for the three data streams for each coordinate - test\n",
    "xx=np.loadtxt('/home/jovyan/datasets/UCI_HAR_DATASET/test/Inertial Signals/body_acc_x_test.txt')\n",
    "yy=np.loadtxt('/home/jovyan/datasets/UCI_HAR_DATASET/test/Inertial Signals/body_acc_y_test.txt')\n",
    "zz=np.loadtxt('/home/jovyan/datasets/UCI_HAR_DATASET/test/Inertial Signals/body_acc_z_test.txt')\n",
    "xxt=np.loadtxt('/home/jovyan/datasets/UCI_HAR_DATASET/test/Inertial Signals/total_acc_x_test.txt')\n",
    "yyt=np.loadtxt('/home/jovyan/datasets/UCI_HAR_DATASET/test/Inertial Signals/total_acc_y_test.txt')\n",
    "zzt=np.loadtxt('/home/jovyan/datasets/UCI_HAR_DATASET/test/Inertial Signals/total_acc_z_test.txt')\n",
    "xxg=np.loadtxt('/home/jovyan/datasets/UCI_HAR_DATASET/test/Inertial Signals/body_gyro_x_test.txt')\n",
    "yyg=np.loadtxt('/home/jovyan/datasets/UCI_HAR_DATASET/test/Inertial Signals/body_gyro_y_test.txt')\n",
    "zzg=np.loadtxt('/home/jovyan/datasets/UCI_HAR_DATASET/test/Inertial Signals/body_gyro_z_test.txt')\n",
    "print(xx.shape)\n",
    "print(xxg.shape)"
   ]
  },
  {
   "cell_type": "code",
   "execution_count": 5,
   "id": "faa4774a",
   "metadata": {},
   "outputs": [
    {
     "name": "stdout",
     "output_type": "stream",
     "text": [
      "(2947, 128, 9)\n"
     ]
    }
   ],
   "source": [
    "# concatenate into a single (n,128,9) array\n",
    "xtest = np.concatenate((xx[:,:,None],yy[:,:,None],zz[:,:,None],\n",
    "                        xxt[:,:,None],yyt[:,:,None],zzt[:,:,None],\n",
    "                        xxg[:,:,None],yyg[:,:,None],zzg[:,:,None]),axis=2)\n",
    "print(xtest.shape)"
   ]
  },
  {
   "cell_type": "code",
   "execution_count": 6,
   "id": "57a0a17f-4f58-4f49-a1c3-8c95e300ba9f",
   "metadata": {},
   "outputs": [],
   "source": [
    "# load the x,y,z accelerations for the three data streams for each coordinate - train\n",
    "\n",
    "xx_t=np.loadtxt('/home/jovyan/datasets/UCI_HAR_DATASET/train/Inertial Signals/body_acc_x_train.txt')\n",
    "yy_t=np.loadtxt('/home/jovyan/datasets/UCI_HAR_DATASET/train/Inertial Signals/body_acc_y_train.txt')\n",
    "zz_t=np.loadtxt('/home/jovyan/datasets/UCI_HAR_DATASET/train/Inertial Signals/body_acc_z_train.txt')\n",
    "xxt_t=np.loadtxt('/home/jovyan/datasets/UCI_HAR_DATASET/train/Inertial Signals/total_acc_x_train.txt')\n",
    "yyt_t=np.loadtxt('/home/jovyan/datasets/UCI_HAR_DATASET/train/Inertial Signals/total_acc_y_train.txt')\n",
    "zzt_t=np.loadtxt('/home/jovyan/datasets/UCI_HAR_DATASET/train/Inertial Signals/total_acc_z_train.txt')\n",
    "xxg_t=np.loadtxt('/home/jovyan/datasets/UCI_HAR_DATASET/train/Inertial Signals/body_gyro_x_train.txt')\n",
    "yyg_t=np.loadtxt('/home/jovyan/datasets/UCI_HAR_DATASET/train/Inertial Signals/body_gyro_y_train.txt')\n",
    "zzg_t=np.loadtxt('/home/jovyan/datasets/UCI_HAR_DATASET/train/Inertial Signals/body_gyro_z_train.txt')"
   ]
  },
  {
   "cell_type": "code",
   "execution_count": 7,
   "id": "63dacdef-753a-459d-90fe-a4b63069bdf0",
   "metadata": {},
   "outputs": [],
   "source": [
    "# concatenate into a single (n,128,9) array\n",
    "xtrain = np.concatenate((xx_t[:,:,None],yy_t[:,:,None],zz_t[:,:,None],\n",
    "                        xxt_t[:,:,None],yyt_t[:,:,None],zzt_t[:,:,None],\n",
    "                        xxg_t[:,:,None],yyg_t[:,:,None],zzg_t[:,:,None]),axis=2)"
   ]
  },
  {
   "cell_type": "code",
   "execution_count": 8,
   "id": "2ecc5859-ebd3-463c-bc8f-36e6b5244ff4",
   "metadata": {},
   "outputs": [
    {
     "name": "stdout",
     "output_type": "stream",
     "text": [
      "(7352, 128, 9)\n",
      "(7352,)\n",
      "(2947, 128, 9)\n",
      "(2947,)\n"
     ]
    }
   ],
   "source": [
    "print(xtrain.shape)\n",
    "print(ytrain.shape)\n",
    "print(xtest.shape)\n",
    "print(ytest.shape)"
   ]
  },
  {
   "cell_type": "code",
   "execution_count": 9,
   "id": "7f76d1b5-07f3-41af-a3c9-e1e1e96d99cb",
   "metadata": {},
   "outputs": [
    {
     "name": "stdout",
     "output_type": "stream",
     "text": [
      "(1471, 128, 9)\n",
      "(2947, 128, 9)\n",
      "(5881, 6)\n",
      "(1471, 6)\n"
     ]
    },
    {
     "name": "stderr",
     "output_type": "stream",
     "text": [
      "2023-07-20 16:57:11.868017: I tensorflow/core/platform/cpu_feature_guard.cc:151] This TensorFlow binary is optimized with oneAPI Deep Neural Network Library (oneDNN) to use the following CPU instructions in performance-critical operations:  AVX2 FMA\n",
      "To enable them in other operations, rebuild TensorFlow with the appropriate compiler flags.\n",
      "2023-07-20 16:57:12.438848: I tensorflow/core/common_runtime/gpu/gpu_device.cc:1525] Created device /job:localhost/replica:0/task:0/device:GPU:0 with 10794 MB memory:  -> device: 0, name: Tesla K80, pci bus id: 0001:00:00.0, compute capability: 3.7\n"
     ]
    }
   ],
   "source": [
    "x_input, x_val, y_input, y_val = train_test_split(xtrain, ytrain, test_size=0.2, random_state=10)\n",
    "\n",
    "#one-hot encoding for labels\n",
    "y_input = tf.keras.utils.to_categorical(y_input)\n",
    "y_val = tf.keras.utils.to_categorical(y_val)\n",
    "\n",
    "x_input = tf.convert_to_tensor(x_input, tf.float32)\n",
    "x_val = tf.convert_to_tensor(x_val, tf.float32)\n",
    "y_input = tf.convert_to_tensor(y_input, tf.float32)\n",
    "y_val = tf.convert_to_tensor(y_val, tf.float32)\n",
    "print(x_val.shape)\n",
    "print(xtest.shape)\n",
    "print(y_input.shape)\n",
    "print(y_val.shape)"
   ]
  },
  {
   "cell_type": "markdown",
   "id": "4aab3f69-0cdd-4683-94b2-fb9211a04d67",
   "metadata": {},
   "source": [
    "# Part 3\n",
    "### Using the best architecture from part 2, we have extra dimensions"
   ]
  },
  {
   "cell_type": "code",
   "execution_count": 10,
   "id": "ca00d51d-af82-4459-8662-fdff4be8e3ad",
   "metadata": {},
   "outputs": [],
   "source": [
    "#tensorboad set up\n",
    "logdir = '/home/jovyan/logs/Project/Part3'"
   ]
  },
  {
   "cell_type": "code",
   "execution_count": 11,
   "id": "8a57205e",
   "metadata": {},
   "outputs": [
    {
     "name": "stdout",
     "output_type": "stream",
     "text": [
      "Model: \"model\"\n",
      "_________________________________________________________________\n",
      " Layer (type)                Output Shape              Param #   \n",
      "=================================================================\n",
      " input_1 (InputLayer)        [(None, 128, 9)]          0         \n",
      "                                                                 \n",
      " conv1d (Conv1D)             (None, 113, 128)          18560     \n",
      "                                                                 \n",
      " batch_normalization (BatchN  (None, 113, 128)         512       \n",
      " ormalization)                                                   \n",
      "                                                                 \n",
      " dense (Dense)               (None, 113, 64)           8256      \n",
      "                                                                 \n",
      " global_average_pooling1d (G  (None, 64)               0         \n",
      " lobalAveragePooling1D)                                          \n",
      "                                                                 \n",
      " dense_1 (Dense)             (None, 6)                 390       \n",
      "                                                                 \n",
      "=================================================================\n",
      "Total params: 27,718\n",
      "Trainable params: 27,462\n",
      "Non-trainable params: 256\n",
      "_________________________________________________________________\n"
     ]
    }
   ],
   "source": [
    "# Keras API model\n",
    "\n",
    "#We create the input layer and combine with further dense layers,\n",
    "input_layer = tf.keras.Input(shape=(128, 9))\n",
    "output_layer = tf.keras.layers.Conv1D(filters=128, kernel_size=16)(input_layer)\n",
    "output_layer = tf.keras.layers.BatchNormalization()(output_layer)\n",
    "output_layer = tf.keras.layers.Dense(64, activation='relu')(output_layer)\n",
    "output_layer = tf.keras.layers.GlobalAveragePooling1D()(output_layer)\n",
    "\n",
    "# # Add a softmax layer with  output units:\n",
    "output_layer = tf.keras.layers.Dense(6, activation='softmax')(output_layer)\n",
    "\n",
    "model = tf.keras.Model(inputs=input_layer,outputs=output_layer)\n",
    "\n",
    "model.summary()"
   ]
  },
  {
   "cell_type": "code",
   "execution_count": 12,
   "id": "1ef3ea24",
   "metadata": {},
   "outputs": [],
   "source": [
    "# Compile model\n",
    "\n",
    "# Callbacks\n",
    "tensorboard_callback = tf.keras.callbacks.TensorBoard(log_dir=logdir)\n",
    "# create a callback that will stop training if the validation loss hasn't improved for 2 epochs\n",
    "early_stopping_callbacks = [tf.keras.callbacks.EarlyStopping(monitor='val_loss', patience=30)]\n",
    "# initialize tqdm callback with default parameters\n",
    "tqdm_callback = tfa.callbacks.TQDMProgressBar()\n",
    "\n",
    "\n",
    "#The compilation and training then proceeds as per the sequential model,\n",
    "model.compile(optimizer=tf.keras.optimizers.Adam(0.0001),\n",
    "        loss='categorical_crossentropy', metrics=['accuracy'])\n"
   ]
  },
  {
   "cell_type": "code",
   "execution_count": 13,
   "id": "0cab3c1b",
   "metadata": {},
   "outputs": [
    {
     "data": {
      "application/vnd.jupyter.widget-view+json": {
       "model_id": "02b7c2d497e84c4b8908bbc00f80c978",
       "version_major": 2,
       "version_minor": 0
      },
      "text/plain": [
       "Training:   0%|           0/500 ETA: ?s,  ?epochs/s"
      ]
     },
     "metadata": {},
     "output_type": "display_data"
    },
    {
     "name": "stdout",
     "output_type": "stream",
     "text": [
      "Epoch 1/500\n"
     ]
    },
    {
     "data": {
      "application/vnd.jupyter.widget-view+json": {
       "model_id": "f5652640cbc44fc580882c70982cfa7c",
       "version_major": 2,
       "version_minor": 0
      },
      "text/plain": [
       "0/46           ETA: ?s - "
      ]
     },
     "metadata": {},
     "output_type": "display_data"
    },
    {
     "name": "stdout",
     "output_type": "stream",
     "text": [
      "Epoch 1/500\n"
     ]
    },
    {
     "name": "stderr",
     "output_type": "stream",
     "text": [
      "2023-07-20 16:57:37.169616: I tensorflow/stream_executor/cuda/cuda_dnn.cc:368] Loaded cuDNN version 8100\n",
      "2023-07-20 16:57:37.398191: W tensorflow/stream_executor/gpu/asm_compiler.cc:230] Falling back to the CUDA driver for PTX compilation; ptxas does not support CC 3.7\n",
      "2023-07-20 16:57:37.398223: W tensorflow/stream_executor/gpu/asm_compiler.cc:233] Used ptxas at ptxas\n",
      "2023-07-20 16:57:37.398289: W tensorflow/stream_executor/gpu/redzone_allocator.cc:314] UNIMPLEMENTED: ptxas ptxas too old. Falling back to the driver to compile.\n",
      "Relying on driver to perform ptx compilation. \n",
      "Modify $PATH to customize ptxas location.\n",
      "This message will be only logged once.\n"
     ]
    },
    {
     "name": "stdout",
     "output_type": "stream",
     "text": [
      "46/46 [==============================] - 3s 22ms/step - loss: 1.3361 - accuracy: 0.4764 - val_loss: 1.6362 - val_accuracy: 0.6771\n",
      "Epoch 2/500\n"
     ]
    },
    {
     "data": {
      "application/vnd.jupyter.widget-view+json": {
       "model_id": "edd27f17f15b428dbe2173435f07555f",
       "version_major": 2,
       "version_minor": 0
      },
      "text/plain": [
       "0/46           ETA: ?s - "
      ]
     },
     "metadata": {},
     "output_type": "display_data"
    },
    {
     "name": "stdout",
     "output_type": "stream",
     "text": [
      "Epoch 2/500\n",
      "46/46 [==============================] - 0s 10ms/step - loss: 0.8418 - accuracy: 0.8590 - val_loss: 1.5056 - val_accuracy: 0.6397\n",
      "Epoch 3/500\n"
     ]
    },
    {
     "data": {
      "application/vnd.jupyter.widget-view+json": {
       "model_id": "9f230ebae3bf467ea7dbd0ca57889ef5",
       "version_major": 2,
       "version_minor": 0
      },
      "text/plain": [
       "0/46           ETA: ?s - "
      ]
     },
     "metadata": {},
     "output_type": "display_data"
    },
    {
     "name": "stdout",
     "output_type": "stream",
     "text": [
      "Epoch 3/500\n",
      "46/46 [==============================] - 0s 11ms/step - loss: 0.6277 - accuracy: 0.9075 - val_loss: 1.3456 - val_accuracy: 0.6567\n",
      "Epoch 4/500\n"
     ]
    },
    {
     "data": {
      "application/vnd.jupyter.widget-view+json": {
       "model_id": "8566f6bf923646e8b6624e2f1ae22118",
       "version_major": 2,
       "version_minor": 0
      },
      "text/plain": [
       "0/46           ETA: ?s - "
      ]
     },
     "metadata": {},
     "output_type": "display_data"
    },
    {
     "name": "stdout",
     "output_type": "stream",
     "text": [
      "Epoch 4/500\n",
      "46/46 [==============================] - 0s 10ms/step - loss: 0.4980 - accuracy: 0.9189 - val_loss: 1.1603 - val_accuracy: 0.7729\n",
      "Epoch 5/500\n"
     ]
    },
    {
     "data": {
      "application/vnd.jupyter.widget-view+json": {
       "model_id": "7001387d7a054b80a0fd72b2d3ffa7a7",
       "version_major": 2,
       "version_minor": 0
      },
      "text/plain": [
       "0/46           ETA: ?s - "
      ]
     },
     "metadata": {},
     "output_type": "display_data"
    },
    {
     "name": "stdout",
     "output_type": "stream",
     "text": [
      "Epoch 5/500\n",
      "46/46 [==============================] - 0s 10ms/step - loss: 0.4121 - accuracy: 0.9279 - val_loss: 0.9777 - val_accuracy: 0.8273\n",
      "Epoch 6/500\n"
     ]
    },
    {
     "data": {
      "application/vnd.jupyter.widget-view+json": {
       "model_id": "1050d80b7b854cc3adbec21f1ef0a762",
       "version_major": 2,
       "version_minor": 0
      },
      "text/plain": [
       "0/46           ETA: ?s - "
      ]
     },
     "metadata": {},
     "output_type": "display_data"
    },
    {
     "name": "stdout",
     "output_type": "stream",
     "text": [
      "Epoch 6/500\n",
      "46/46 [==============================] - 0s 10ms/step - loss: 0.3532 - accuracy: 0.9344 - val_loss: 0.8021 - val_accuracy: 0.8552\n",
      "Epoch 7/500\n"
     ]
    },
    {
     "data": {
      "application/vnd.jupyter.widget-view+json": {
       "model_id": "851ad40f10ac439eb259cb02a3a6b921",
       "version_major": 2,
       "version_minor": 0
      },
      "text/plain": [
       "0/46           ETA: ?s - "
      ]
     },
     "metadata": {},
     "output_type": "display_data"
    },
    {
     "name": "stdout",
     "output_type": "stream",
     "text": [
      "Epoch 7/500\n",
      "46/46 [==============================] - 0s 10ms/step - loss: 0.3143 - accuracy: 0.9345 - val_loss: 0.6378 - val_accuracy: 0.9028\n",
      "Epoch 8/500\n"
     ]
    },
    {
     "data": {
      "application/vnd.jupyter.widget-view+json": {
       "model_id": "a9b1c90472fb43259a1d6dbeaf25dcf7",
       "version_major": 2,
       "version_minor": 0
      },
      "text/plain": [
       "0/46           ETA: ?s - "
      ]
     },
     "metadata": {},
     "output_type": "display_data"
    },
    {
     "name": "stdout",
     "output_type": "stream",
     "text": [
      "Epoch 8/500\n",
      "46/46 [==============================] - 0s 10ms/step - loss: 0.2822 - accuracy: 0.9390 - val_loss: 0.5082 - val_accuracy: 0.9116\n",
      "Epoch 9/500\n"
     ]
    },
    {
     "data": {
      "application/vnd.jupyter.widget-view+json": {
       "model_id": "4b62f15d4bb045a88be31bf324199c09",
       "version_major": 2,
       "version_minor": 0
      },
      "text/plain": [
       "0/46           ETA: ?s - "
      ]
     },
     "metadata": {},
     "output_type": "display_data"
    },
    {
     "name": "stdout",
     "output_type": "stream",
     "text": [
      "Epoch 9/500\n",
      "46/46 [==============================] - 0s 10ms/step - loss: 0.2629 - accuracy: 0.9410 - val_loss: 0.4007 - val_accuracy: 0.9293\n",
      "Epoch 10/500\n"
     ]
    },
    {
     "data": {
      "application/vnd.jupyter.widget-view+json": {
       "model_id": "2aa5e431173c4abfafb693a1f9389d4f",
       "version_major": 2,
       "version_minor": 0
      },
      "text/plain": [
       "0/46           ETA: ?s - "
      ]
     },
     "metadata": {},
     "output_type": "display_data"
    },
    {
     "name": "stdout",
     "output_type": "stream",
     "text": [
      "Epoch 10/500\n",
      "46/46 [==============================] - 0s 10ms/step - loss: 0.2404 - accuracy: 0.9412 - val_loss: 0.3272 - val_accuracy: 0.9307\n",
      "Epoch 11/500\n"
     ]
    },
    {
     "data": {
      "application/vnd.jupyter.widget-view+json": {
       "model_id": "8fafafae7c904301a8c4480c448c464a",
       "version_major": 2,
       "version_minor": 0
      },
      "text/plain": [
       "0/46           ETA: ?s - "
      ]
     },
     "metadata": {},
     "output_type": "display_data"
    },
    {
     "name": "stdout",
     "output_type": "stream",
     "text": [
      "Epoch 11/500\n",
      "46/46 [==============================] - 0s 10ms/step - loss: 0.2257 - accuracy: 0.9430 - val_loss: 0.2782 - val_accuracy: 0.9463\n",
      "Epoch 12/500\n"
     ]
    },
    {
     "data": {
      "application/vnd.jupyter.widget-view+json": {
       "model_id": "17db2a329a7d4139a0b9cd027ee76681",
       "version_major": 2,
       "version_minor": 0
      },
      "text/plain": [
       "0/46           ETA: ?s - "
      ]
     },
     "metadata": {},
     "output_type": "display_data"
    },
    {
     "name": "stdout",
     "output_type": "stream",
     "text": [
      "Epoch 12/500\n",
      "46/46 [==============================] - 0s 10ms/step - loss: 0.2176 - accuracy: 0.9442 - val_loss: 0.2381 - val_accuracy: 0.9443\n",
      "Epoch 13/500\n"
     ]
    },
    {
     "data": {
      "application/vnd.jupyter.widget-view+json": {
       "model_id": "b761cbffdc7c4d8f82b368ff1b6cd344",
       "version_major": 2,
       "version_minor": 0
      },
      "text/plain": [
       "0/46           ETA: ?s - "
      ]
     },
     "metadata": {},
     "output_type": "display_data"
    },
    {
     "name": "stdout",
     "output_type": "stream",
     "text": [
      "Epoch 13/500\n",
      "46/46 [==============================] - 0s 11ms/step - loss: 0.2066 - accuracy: 0.9452 - val_loss: 0.2143 - val_accuracy: 0.9436\n",
      "Epoch 14/500\n"
     ]
    },
    {
     "data": {
      "application/vnd.jupyter.widget-view+json": {
       "model_id": "2fee8a35656945209f1437c1ac62bee0",
       "version_major": 2,
       "version_minor": 0
      },
      "text/plain": [
       "0/46           ETA: ?s - "
      ]
     },
     "metadata": {},
     "output_type": "display_data"
    },
    {
     "name": "stdout",
     "output_type": "stream",
     "text": [
      "Epoch 14/500\n",
      "46/46 [==============================] - 0s 10ms/step - loss: 0.1992 - accuracy: 0.9447 - val_loss: 0.2132 - val_accuracy: 0.9490\n",
      "Epoch 15/500\n"
     ]
    },
    {
     "data": {
      "application/vnd.jupyter.widget-view+json": {
       "model_id": "a4259290e7da4825b9656c1f18ffbeeb",
       "version_major": 2,
       "version_minor": 0
      },
      "text/plain": [
       "0/46           ETA: ?s - "
      ]
     },
     "metadata": {},
     "output_type": "display_data"
    },
    {
     "name": "stdout",
     "output_type": "stream",
     "text": [
      "Epoch 15/500\n",
      "46/46 [==============================] - 0s 10ms/step - loss: 0.1896 - accuracy: 0.9469 - val_loss: 0.1874 - val_accuracy: 0.9463\n",
      "Epoch 16/500\n"
     ]
    },
    {
     "data": {
      "application/vnd.jupyter.widget-view+json": {
       "model_id": "294786363cae4aad9c7e9a052befd678",
       "version_major": 2,
       "version_minor": 0
      },
      "text/plain": [
       "0/46           ETA: ?s - "
      ]
     },
     "metadata": {},
     "output_type": "display_data"
    },
    {
     "name": "stdout",
     "output_type": "stream",
     "text": [
      "Epoch 16/500\n",
      "46/46 [==============================] - 0s 10ms/step - loss: 0.1815 - accuracy: 0.9490 - val_loss: 0.1785 - val_accuracy: 0.9443\n",
      "Epoch 17/500\n"
     ]
    },
    {
     "data": {
      "application/vnd.jupyter.widget-view+json": {
       "model_id": "367a55f30371460e99e96d4526eb49c9",
       "version_major": 2,
       "version_minor": 0
      },
      "text/plain": [
       "0/46           ETA: ?s - "
      ]
     },
     "metadata": {},
     "output_type": "display_data"
    },
    {
     "name": "stdout",
     "output_type": "stream",
     "text": [
      "Epoch 17/500\n",
      "46/46 [==============================] - 0s 10ms/step - loss: 0.1734 - accuracy: 0.9469 - val_loss: 0.1777 - val_accuracy: 0.9558\n",
      "Epoch 18/500\n"
     ]
    },
    {
     "data": {
      "application/vnd.jupyter.widget-view+json": {
       "model_id": "0484989fb63a4c73bfa82f38884b33d7",
       "version_major": 2,
       "version_minor": 0
      },
      "text/plain": [
       "0/46           ETA: ?s - "
      ]
     },
     "metadata": {},
     "output_type": "display_data"
    },
    {
     "name": "stdout",
     "output_type": "stream",
     "text": [
      "Epoch 18/500\n",
      "46/46 [==============================] - 0s 10ms/step - loss: 0.1692 - accuracy: 0.9503 - val_loss: 0.1656 - val_accuracy: 0.9463\n",
      "Epoch 19/500\n"
     ]
    },
    {
     "data": {
      "application/vnd.jupyter.widget-view+json": {
       "model_id": "8eaf6051dab04c3a9d0e09e865ec0c70",
       "version_major": 2,
       "version_minor": 0
      },
      "text/plain": [
       "0/46           ETA: ?s - "
      ]
     },
     "metadata": {},
     "output_type": "display_data"
    },
    {
     "name": "stdout",
     "output_type": "stream",
     "text": [
      "Epoch 19/500\n",
      "46/46 [==============================] - 0s 10ms/step - loss: 0.1657 - accuracy: 0.9483 - val_loss: 0.1760 - val_accuracy: 0.9531\n",
      "Epoch 20/500\n"
     ]
    },
    {
     "data": {
      "application/vnd.jupyter.widget-view+json": {
       "model_id": "3043df36291f4450ad543227f18e5995",
       "version_major": 2,
       "version_minor": 0
      },
      "text/plain": [
       "0/46           ETA: ?s - "
      ]
     },
     "metadata": {},
     "output_type": "display_data"
    },
    {
     "name": "stdout",
     "output_type": "stream",
     "text": [
      "Epoch 20/500\n",
      "46/46 [==============================] - 0s 10ms/step - loss: 0.1630 - accuracy: 0.9510 - val_loss: 0.1572 - val_accuracy: 0.9477\n",
      "Epoch 21/500\n"
     ]
    },
    {
     "data": {
      "application/vnd.jupyter.widget-view+json": {
       "model_id": "7ab62f5b6d0d43538eab6e76c07f83ee",
       "version_major": 2,
       "version_minor": 0
      },
      "text/plain": [
       "0/46           ETA: ?s - "
      ]
     },
     "metadata": {},
     "output_type": "display_data"
    },
    {
     "name": "stdout",
     "output_type": "stream",
     "text": [
      "Epoch 21/500\n",
      "46/46 [==============================] - 0s 10ms/step - loss: 0.1626 - accuracy: 0.9464 - val_loss: 0.1563 - val_accuracy: 0.9585\n",
      "Epoch 22/500\n"
     ]
    },
    {
     "data": {
      "application/vnd.jupyter.widget-view+json": {
       "model_id": "ab70b7b923404793a8705ab5687fe827",
       "version_major": 2,
       "version_minor": 0
      },
      "text/plain": [
       "0/46           ETA: ?s - "
      ]
     },
     "metadata": {},
     "output_type": "display_data"
    },
    {
     "name": "stdout",
     "output_type": "stream",
     "text": [
      "Epoch 22/500\n",
      "46/46 [==============================] - 0s 10ms/step - loss: 0.1551 - accuracy: 0.9524 - val_loss: 0.1494 - val_accuracy: 0.9511\n",
      "Epoch 23/500\n"
     ]
    },
    {
     "data": {
      "application/vnd.jupyter.widget-view+json": {
       "model_id": "f8e2de6393114707aa8e1ce661541d13",
       "version_major": 2,
       "version_minor": 0
      },
      "text/plain": [
       "0/46           ETA: ?s - "
      ]
     },
     "metadata": {},
     "output_type": "display_data"
    },
    {
     "name": "stdout",
     "output_type": "stream",
     "text": [
      "Epoch 23/500\n",
      "46/46 [==============================] - 0s 10ms/step - loss: 0.1527 - accuracy: 0.9546 - val_loss: 0.1463 - val_accuracy: 0.9511\n",
      "Epoch 24/500\n"
     ]
    },
    {
     "data": {
      "application/vnd.jupyter.widget-view+json": {
       "model_id": "c456fd31698f4318a47678dc2ae07150",
       "version_major": 2,
       "version_minor": 0
      },
      "text/plain": [
       "0/46           ETA: ?s - "
      ]
     },
     "metadata": {},
     "output_type": "display_data"
    },
    {
     "name": "stdout",
     "output_type": "stream",
     "text": [
      "Epoch 24/500\n",
      "46/46 [==============================] - 0s 10ms/step - loss: 0.1506 - accuracy: 0.9510 - val_loss: 0.1551 - val_accuracy: 0.9545\n",
      "Epoch 25/500\n"
     ]
    },
    {
     "data": {
      "application/vnd.jupyter.widget-view+json": {
       "model_id": "081d154631044b3bb86abee43df348ff",
       "version_major": 2,
       "version_minor": 0
      },
      "text/plain": [
       "0/46           ETA: ?s - "
      ]
     },
     "metadata": {},
     "output_type": "display_data"
    },
    {
     "name": "stdout",
     "output_type": "stream",
     "text": [
      "Epoch 25/500\n",
      "46/46 [==============================] - 0s 11ms/step - loss: 0.1483 - accuracy: 0.9527 - val_loss: 0.1420 - val_accuracy: 0.9504\n",
      "Epoch 26/500\n"
     ]
    },
    {
     "data": {
      "application/vnd.jupyter.widget-view+json": {
       "model_id": "5e6de774d6a64dbdb67977d459a01d18",
       "version_major": 2,
       "version_minor": 0
      },
      "text/plain": [
       "0/46           ETA: ?s - "
      ]
     },
     "metadata": {},
     "output_type": "display_data"
    },
    {
     "name": "stdout",
     "output_type": "stream",
     "text": [
      "Epoch 26/500\n",
      "46/46 [==============================] - 0s 10ms/step - loss: 0.1432 - accuracy: 0.9514 - val_loss: 0.1389 - val_accuracy: 0.9558\n",
      "Epoch 27/500\n"
     ]
    },
    {
     "data": {
      "application/vnd.jupyter.widget-view+json": {
       "model_id": "4b3c1e0f12f6401aba58ab4f050cce12",
       "version_major": 2,
       "version_minor": 0
      },
      "text/plain": [
       "0/46           ETA: ?s - "
      ]
     },
     "metadata": {},
     "output_type": "display_data"
    },
    {
     "name": "stdout",
     "output_type": "stream",
     "text": [
      "Epoch 27/500\n",
      "46/46 [==============================] - 0s 10ms/step - loss: 0.1415 - accuracy: 0.9549 - val_loss: 0.1391 - val_accuracy: 0.9531\n",
      "Epoch 28/500\n"
     ]
    },
    {
     "data": {
      "application/vnd.jupyter.widget-view+json": {
       "model_id": "6fd6daab2ed94d23a31422dfeb451639",
       "version_major": 2,
       "version_minor": 0
      },
      "text/plain": [
       "0/46           ETA: ?s - "
      ]
     },
     "metadata": {},
     "output_type": "display_data"
    },
    {
     "name": "stdout",
     "output_type": "stream",
     "text": [
      "Epoch 28/500\n",
      "46/46 [==============================] - 0s 10ms/step - loss: 0.1373 - accuracy: 0.9537 - val_loss: 0.1369 - val_accuracy: 0.9551\n",
      "Epoch 29/500\n"
     ]
    },
    {
     "data": {
      "application/vnd.jupyter.widget-view+json": {
       "model_id": "af52851209914171b553651e7b77657c",
       "version_major": 2,
       "version_minor": 0
      },
      "text/plain": [
       "0/46           ETA: ?s - "
      ]
     },
     "metadata": {},
     "output_type": "display_data"
    },
    {
     "name": "stdout",
     "output_type": "stream",
     "text": [
      "Epoch 29/500\n",
      "46/46 [==============================] - 0s 10ms/step - loss: 0.1386 - accuracy: 0.9537 - val_loss: 0.1347 - val_accuracy: 0.9524\n",
      "Epoch 30/500\n"
     ]
    },
    {
     "data": {
      "application/vnd.jupyter.widget-view+json": {
       "model_id": "cdd4bf1b459d4195a061d550309a9c3a",
       "version_major": 2,
       "version_minor": 0
      },
      "text/plain": [
       "0/46           ETA: ?s - "
      ]
     },
     "metadata": {},
     "output_type": "display_data"
    },
    {
     "name": "stdout",
     "output_type": "stream",
     "text": [
      "Epoch 30/500\n",
      "46/46 [==============================] - 0s 10ms/step - loss: 0.1346 - accuracy: 0.9537 - val_loss: 0.1323 - val_accuracy: 0.9538\n",
      "Epoch 31/500\n"
     ]
    },
    {
     "data": {
      "application/vnd.jupyter.widget-view+json": {
       "model_id": "7738ee318f95446685751424d47a139f",
       "version_major": 2,
       "version_minor": 0
      },
      "text/plain": [
       "0/46           ETA: ?s - "
      ]
     },
     "metadata": {},
     "output_type": "display_data"
    },
    {
     "name": "stdout",
     "output_type": "stream",
     "text": [
      "Epoch 31/500\n",
      "46/46 [==============================] - 0s 10ms/step - loss: 0.1351 - accuracy: 0.9543 - val_loss: 0.1309 - val_accuracy: 0.9538\n",
      "Epoch 32/500\n"
     ]
    },
    {
     "data": {
      "application/vnd.jupyter.widget-view+json": {
       "model_id": "49f2bf5ef4e742b393d8800f0549bb54",
       "version_major": 2,
       "version_minor": 0
      },
      "text/plain": [
       "0/46           ETA: ?s - "
      ]
     },
     "metadata": {},
     "output_type": "display_data"
    },
    {
     "name": "stdout",
     "output_type": "stream",
     "text": [
      "Epoch 32/500\n",
      "46/46 [==============================] - 0s 10ms/step - loss: 0.1300 - accuracy: 0.9548 - val_loss: 0.1322 - val_accuracy: 0.9531\n",
      "Epoch 33/500\n"
     ]
    },
    {
     "data": {
      "application/vnd.jupyter.widget-view+json": {
       "model_id": "3481ad473995470bb272e648326149c3",
       "version_major": 2,
       "version_minor": 0
      },
      "text/plain": [
       "0/46           ETA: ?s - "
      ]
     },
     "metadata": {},
     "output_type": "display_data"
    },
    {
     "name": "stdout",
     "output_type": "stream",
     "text": [
      "Epoch 33/500\n",
      "46/46 [==============================] - 0s 10ms/step - loss: 0.1312 - accuracy: 0.9526 - val_loss: 0.1350 - val_accuracy: 0.9545\n",
      "Epoch 34/500\n"
     ]
    },
    {
     "data": {
      "application/vnd.jupyter.widget-view+json": {
       "model_id": "042f7a1c21cb4f9ba66c899d4f6a10a2",
       "version_major": 2,
       "version_minor": 0
      },
      "text/plain": [
       "0/46           ETA: ?s - "
      ]
     },
     "metadata": {},
     "output_type": "display_data"
    },
    {
     "name": "stdout",
     "output_type": "stream",
     "text": [
      "Epoch 34/500\n",
      "46/46 [==============================] - 0s 10ms/step - loss: 0.1332 - accuracy: 0.9520 - val_loss: 0.1285 - val_accuracy: 0.9517\n",
      "Epoch 35/500\n"
     ]
    },
    {
     "data": {
      "application/vnd.jupyter.widget-view+json": {
       "model_id": "de826229706d42ff8e0760c28c21dbc4",
       "version_major": 2,
       "version_minor": 0
      },
      "text/plain": [
       "0/46           ETA: ?s - "
      ]
     },
     "metadata": {},
     "output_type": "display_data"
    },
    {
     "name": "stdout",
     "output_type": "stream",
     "text": [
      "Epoch 35/500\n",
      "46/46 [==============================] - 0s 10ms/step - loss: 0.1267 - accuracy: 0.9560 - val_loss: 0.1276 - val_accuracy: 0.9504\n",
      "Epoch 36/500\n"
     ]
    },
    {
     "data": {
      "application/vnd.jupyter.widget-view+json": {
       "model_id": "211bb01c11fe43439d1b1bd8e1aa9279",
       "version_major": 2,
       "version_minor": 0
      },
      "text/plain": [
       "0/46           ETA: ?s - "
      ]
     },
     "metadata": {},
     "output_type": "display_data"
    },
    {
     "name": "stdout",
     "output_type": "stream",
     "text": [
      "Epoch 36/500\n",
      "46/46 [==============================] - 0s 10ms/step - loss: 0.1273 - accuracy: 0.9543 - val_loss: 0.1239 - val_accuracy: 0.9524\n",
      "Epoch 37/500\n"
     ]
    },
    {
     "data": {
      "application/vnd.jupyter.widget-view+json": {
       "model_id": "3e23978d56a44d79b17e17c1c5b7dfc3",
       "version_major": 2,
       "version_minor": 0
      },
      "text/plain": [
       "0/46           ETA: ?s - "
      ]
     },
     "metadata": {},
     "output_type": "display_data"
    },
    {
     "name": "stdout",
     "output_type": "stream",
     "text": [
      "Epoch 37/500\n",
      "46/46 [==============================] - 0s 10ms/step - loss: 0.1259 - accuracy: 0.9526 - val_loss: 0.1232 - val_accuracy: 0.9538\n",
      "Epoch 38/500\n"
     ]
    },
    {
     "data": {
      "application/vnd.jupyter.widget-view+json": {
       "model_id": "9d008a72341247d3b15cfd8324ebc992",
       "version_major": 2,
       "version_minor": 0
      },
      "text/plain": [
       "0/46           ETA: ?s - "
      ]
     },
     "metadata": {},
     "output_type": "display_data"
    },
    {
     "name": "stdout",
     "output_type": "stream",
     "text": [
      "Epoch 38/500\n",
      "46/46 [==============================] - 0s 10ms/step - loss: 0.1246 - accuracy: 0.9565 - val_loss: 0.1228 - val_accuracy: 0.9558\n",
      "Epoch 39/500\n"
     ]
    },
    {
     "data": {
      "application/vnd.jupyter.widget-view+json": {
       "model_id": "4aa9e069eeb84f5dbba3489f1825ae11",
       "version_major": 2,
       "version_minor": 0
      },
      "text/plain": [
       "0/46           ETA: ?s - "
      ]
     },
     "metadata": {},
     "output_type": "display_data"
    },
    {
     "name": "stdout",
     "output_type": "stream",
     "text": [
      "Epoch 39/500\n",
      "46/46 [==============================] - 0s 10ms/step - loss: 0.1262 - accuracy: 0.9536 - val_loss: 0.1241 - val_accuracy: 0.9551\n",
      "Epoch 40/500\n"
     ]
    },
    {
     "data": {
      "application/vnd.jupyter.widget-view+json": {
       "model_id": "b5e176eaf6fe45fda5c4c5205494a26d",
       "version_major": 2,
       "version_minor": 0
      },
      "text/plain": [
       "0/46           ETA: ?s - "
      ]
     },
     "metadata": {},
     "output_type": "display_data"
    },
    {
     "name": "stdout",
     "output_type": "stream",
     "text": [
      "Epoch 40/500\n",
      "46/46 [==============================] - 0s 10ms/step - loss: 0.1228 - accuracy: 0.9539 - val_loss: 0.1215 - val_accuracy: 0.9545\n",
      "Epoch 41/500\n"
     ]
    },
    {
     "data": {
      "application/vnd.jupyter.widget-view+json": {
       "model_id": "f48916e88b92487b85a124b7a4de0542",
       "version_major": 2,
       "version_minor": 0
      },
      "text/plain": [
       "0/46           ETA: ?s - "
      ]
     },
     "metadata": {},
     "output_type": "display_data"
    },
    {
     "name": "stdout",
     "output_type": "stream",
     "text": [
      "Epoch 41/500\n",
      "46/46 [==============================] - 0s 10ms/step - loss: 0.1242 - accuracy: 0.9536 - val_loss: 0.1221 - val_accuracy: 0.9538\n",
      "Epoch 42/500\n"
     ]
    },
    {
     "data": {
      "application/vnd.jupyter.widget-view+json": {
       "model_id": "4bb130f3d4444d7c8c881c18d69fe5f1",
       "version_major": 2,
       "version_minor": 0
      },
      "text/plain": [
       "0/46           ETA: ?s - "
      ]
     },
     "metadata": {},
     "output_type": "display_data"
    },
    {
     "name": "stdout",
     "output_type": "stream",
     "text": [
      "Epoch 42/500\n",
      "46/46 [==============================] - 0s 10ms/step - loss: 0.1181 - accuracy: 0.9546 - val_loss: 0.1196 - val_accuracy: 0.9538\n",
      "Epoch 43/500\n"
     ]
    },
    {
     "data": {
      "application/vnd.jupyter.widget-view+json": {
       "model_id": "c2ea209612ed45978ac3ac56b01825c1",
       "version_major": 2,
       "version_minor": 0
      },
      "text/plain": [
       "0/46           ETA: ?s - "
      ]
     },
     "metadata": {},
     "output_type": "display_data"
    },
    {
     "name": "stdout",
     "output_type": "stream",
     "text": [
      "Epoch 43/500\n",
      "46/46 [==============================] - 0s 10ms/step - loss: 0.1199 - accuracy: 0.9551 - val_loss: 0.1203 - val_accuracy: 0.9545\n",
      "Epoch 44/500\n"
     ]
    },
    {
     "data": {
      "application/vnd.jupyter.widget-view+json": {
       "model_id": "3c3523ec8f82469d943e5b5317dd3fbd",
       "version_major": 2,
       "version_minor": 0
      },
      "text/plain": [
       "0/46           ETA: ?s - "
      ]
     },
     "metadata": {},
     "output_type": "display_data"
    },
    {
     "name": "stdout",
     "output_type": "stream",
     "text": [
      "Epoch 44/500\n",
      "46/46 [==============================] - 0s 10ms/step - loss: 0.1195 - accuracy: 0.9553 - val_loss: 0.1193 - val_accuracy: 0.9511\n",
      "Epoch 45/500\n"
     ]
    },
    {
     "data": {
      "application/vnd.jupyter.widget-view+json": {
       "model_id": "e21814e888254c28b124757e07b87926",
       "version_major": 2,
       "version_minor": 0
      },
      "text/plain": [
       "0/46           ETA: ?s - "
      ]
     },
     "metadata": {},
     "output_type": "display_data"
    },
    {
     "name": "stdout",
     "output_type": "stream",
     "text": [
      "Epoch 45/500\n",
      "46/46 [==============================] - 0s 10ms/step - loss: 0.1196 - accuracy: 0.9529 - val_loss: 0.1203 - val_accuracy: 0.9565\n",
      "Epoch 46/500\n"
     ]
    },
    {
     "data": {
      "application/vnd.jupyter.widget-view+json": {
       "model_id": "5531aaf98c934cecb17b3f196a6d6998",
       "version_major": 2,
       "version_minor": 0
      },
      "text/plain": [
       "0/46           ETA: ?s - "
      ]
     },
     "metadata": {},
     "output_type": "display_data"
    },
    {
     "name": "stdout",
     "output_type": "stream",
     "text": [
      "Epoch 46/500\n",
      "46/46 [==============================] - 0s 10ms/step - loss: 0.1173 - accuracy: 0.9537 - val_loss: 0.1158 - val_accuracy: 0.9551\n",
      "Epoch 47/500\n"
     ]
    },
    {
     "data": {
      "application/vnd.jupyter.widget-view+json": {
       "model_id": "6cb4bbf300bf49ce960086c2ac58754a",
       "version_major": 2,
       "version_minor": 0
      },
      "text/plain": [
       "0/46           ETA: ?s - "
      ]
     },
     "metadata": {},
     "output_type": "display_data"
    },
    {
     "name": "stdout",
     "output_type": "stream",
     "text": [
      "Epoch 47/500\n",
      "46/46 [==============================] - 0s 10ms/step - loss: 0.1162 - accuracy: 0.9549 - val_loss: 0.1153 - val_accuracy: 0.9558\n",
      "Epoch 48/500\n"
     ]
    },
    {
     "data": {
      "application/vnd.jupyter.widget-view+json": {
       "model_id": "c28aa25a0db44645b87099570124b122",
       "version_major": 2,
       "version_minor": 0
      },
      "text/plain": [
       "0/46           ETA: ?s - "
      ]
     },
     "metadata": {},
     "output_type": "display_data"
    },
    {
     "name": "stdout",
     "output_type": "stream",
     "text": [
      "Epoch 48/500\n",
      "46/46 [==============================] - 0s 10ms/step - loss: 0.1141 - accuracy: 0.9565 - val_loss: 0.1144 - val_accuracy: 0.9565\n",
      "Epoch 49/500\n"
     ]
    },
    {
     "data": {
      "application/vnd.jupyter.widget-view+json": {
       "model_id": "f2abbc5188a44bdabfacdea58c2b29df",
       "version_major": 2,
       "version_minor": 0
      },
      "text/plain": [
       "0/46           ETA: ?s - "
      ]
     },
     "metadata": {},
     "output_type": "display_data"
    },
    {
     "name": "stdout",
     "output_type": "stream",
     "text": [
      "Epoch 49/500\n",
      "46/46 [==============================] - 0s 10ms/step - loss: 0.1147 - accuracy: 0.9561 - val_loss: 0.1138 - val_accuracy: 0.9545\n",
      "Epoch 50/500\n"
     ]
    },
    {
     "data": {
      "application/vnd.jupyter.widget-view+json": {
       "model_id": "81283f49428b4039907023e90f80a609",
       "version_major": 2,
       "version_minor": 0
      },
      "text/plain": [
       "0/46           ETA: ?s - "
      ]
     },
     "metadata": {},
     "output_type": "display_data"
    },
    {
     "name": "stdout",
     "output_type": "stream",
     "text": [
      "Epoch 50/500\n",
      "46/46 [==============================] - 0s 10ms/step - loss: 0.1129 - accuracy: 0.9556 - val_loss: 0.1178 - val_accuracy: 0.9565\n",
      "Epoch 51/500\n"
     ]
    },
    {
     "data": {
      "application/vnd.jupyter.widget-view+json": {
       "model_id": "567797acc54a47c980afb90dc9e46bd1",
       "version_major": 2,
       "version_minor": 0
      },
      "text/plain": [
       "0/46           ETA: ?s - "
      ]
     },
     "metadata": {},
     "output_type": "display_data"
    },
    {
     "name": "stdout",
     "output_type": "stream",
     "text": [
      "Epoch 51/500\n",
      "46/46 [==============================] - 0s 9ms/step - loss: 0.1133 - accuracy: 0.9556 - val_loss: 0.1151 - val_accuracy: 0.9531\n",
      "Epoch 52/500\n"
     ]
    },
    {
     "data": {
      "application/vnd.jupyter.widget-view+json": {
       "model_id": "fccaf38c98374c2d9ed8be16c0e73f52",
       "version_major": 2,
       "version_minor": 0
      },
      "text/plain": [
       "0/46           ETA: ?s - "
      ]
     },
     "metadata": {},
     "output_type": "display_data"
    },
    {
     "name": "stdout",
     "output_type": "stream",
     "text": [
      "Epoch 52/500\n",
      "46/46 [==============================] - 0s 10ms/step - loss: 0.1125 - accuracy: 0.9551 - val_loss: 0.1130 - val_accuracy: 0.9558\n",
      "Epoch 53/500\n"
     ]
    },
    {
     "data": {
      "application/vnd.jupyter.widget-view+json": {
       "model_id": "ab9259d35f2246b9864e5492387bf4e1",
       "version_major": 2,
       "version_minor": 0
      },
      "text/plain": [
       "0/46           ETA: ?s - "
      ]
     },
     "metadata": {},
     "output_type": "display_data"
    },
    {
     "name": "stdout",
     "output_type": "stream",
     "text": [
      "Epoch 53/500\n",
      "46/46 [==============================] - 0s 10ms/step - loss: 0.1143 - accuracy: 0.9575 - val_loss: 0.1168 - val_accuracy: 0.9558\n",
      "Epoch 54/500\n"
     ]
    },
    {
     "data": {
      "application/vnd.jupyter.widget-view+json": {
       "model_id": "980117c9c29c4b9da7f2688f0a98395d",
       "version_major": 2,
       "version_minor": 0
      },
      "text/plain": [
       "0/46           ETA: ?s - "
      ]
     },
     "metadata": {},
     "output_type": "display_data"
    },
    {
     "name": "stdout",
     "output_type": "stream",
     "text": [
      "Epoch 54/500\n",
      "46/46 [==============================] - 0s 10ms/step - loss: 0.1120 - accuracy: 0.9575 - val_loss: 0.1130 - val_accuracy: 0.9572\n",
      "Epoch 55/500\n"
     ]
    },
    {
     "data": {
      "application/vnd.jupyter.widget-view+json": {
       "model_id": "1b4d4322a0414dfe9c5d080eb9d5980c",
       "version_major": 2,
       "version_minor": 0
      },
      "text/plain": [
       "0/46           ETA: ?s - "
      ]
     },
     "metadata": {},
     "output_type": "display_data"
    },
    {
     "name": "stdout",
     "output_type": "stream",
     "text": [
      "Epoch 55/500\n",
      "46/46 [==============================] - 0s 10ms/step - loss: 0.1107 - accuracy: 0.9563 - val_loss: 0.1129 - val_accuracy: 0.9572\n",
      "Epoch 56/500\n"
     ]
    },
    {
     "data": {
      "application/vnd.jupyter.widget-view+json": {
       "model_id": "89a7f3a7b91f48f4b279a0be34d7719b",
       "version_major": 2,
       "version_minor": 0
      },
      "text/plain": [
       "0/46           ETA: ?s - "
      ]
     },
     "metadata": {},
     "output_type": "display_data"
    },
    {
     "name": "stdout",
     "output_type": "stream",
     "text": [
      "Epoch 56/500\n",
      "46/46 [==============================] - 0s 9ms/step - loss: 0.1097 - accuracy: 0.9553 - val_loss: 0.1118 - val_accuracy: 0.9551\n",
      "Epoch 57/500\n"
     ]
    },
    {
     "data": {
      "application/vnd.jupyter.widget-view+json": {
       "model_id": "9fca5b53c82d45e0b6e1ffb3ccf48342",
       "version_major": 2,
       "version_minor": 0
      },
      "text/plain": [
       "0/46           ETA: ?s - "
      ]
     },
     "metadata": {},
     "output_type": "display_data"
    },
    {
     "name": "stdout",
     "output_type": "stream",
     "text": [
      "Epoch 57/500\n",
      "46/46 [==============================] - 0s 9ms/step - loss: 0.1101 - accuracy: 0.9554 - val_loss: 0.1112 - val_accuracy: 0.9572\n",
      "Epoch 58/500\n"
     ]
    },
    {
     "data": {
      "application/vnd.jupyter.widget-view+json": {
       "model_id": "1fae0e944a1e484891231e4508e92d32",
       "version_major": 2,
       "version_minor": 0
      },
      "text/plain": [
       "0/46           ETA: ?s - "
      ]
     },
     "metadata": {},
     "output_type": "display_data"
    },
    {
     "name": "stdout",
     "output_type": "stream",
     "text": [
      "Epoch 58/500\n",
      "46/46 [==============================] - 0s 9ms/step - loss: 0.1099 - accuracy: 0.9556 - val_loss: 0.1100 - val_accuracy: 0.9558\n",
      "Epoch 59/500\n"
     ]
    },
    {
     "data": {
      "application/vnd.jupyter.widget-view+json": {
       "model_id": "f5dfcda4c86b448d9d57125cb0d94cb0",
       "version_major": 2,
       "version_minor": 0
      },
      "text/plain": [
       "0/46           ETA: ?s - "
      ]
     },
     "metadata": {},
     "output_type": "display_data"
    },
    {
     "name": "stdout",
     "output_type": "stream",
     "text": [
      "Epoch 59/500\n",
      "46/46 [==============================] - 0s 9ms/step - loss: 0.1073 - accuracy: 0.9568 - val_loss: 0.1185 - val_accuracy: 0.9497\n",
      "Epoch 60/500\n"
     ]
    },
    {
     "data": {
      "application/vnd.jupyter.widget-view+json": {
       "model_id": "602257d61d74421d929c4c2fee218979",
       "version_major": 2,
       "version_minor": 0
      },
      "text/plain": [
       "0/46           ETA: ?s - "
      ]
     },
     "metadata": {},
     "output_type": "display_data"
    },
    {
     "name": "stdout",
     "output_type": "stream",
     "text": [
      "Epoch 60/500\n",
      "46/46 [==============================] - 0s 10ms/step - loss: 0.1060 - accuracy: 0.9554 - val_loss: 0.1311 - val_accuracy: 0.9470\n",
      "Epoch 61/500\n"
     ]
    },
    {
     "data": {
      "application/vnd.jupyter.widget-view+json": {
       "model_id": "110bec78421845d289de142e80d6e2d3",
       "version_major": 2,
       "version_minor": 0
      },
      "text/plain": [
       "0/46           ETA: ?s - "
      ]
     },
     "metadata": {},
     "output_type": "display_data"
    },
    {
     "name": "stdout",
     "output_type": "stream",
     "text": [
      "Epoch 61/500\n",
      "46/46 [==============================] - 0s 9ms/step - loss: 0.1087 - accuracy: 0.9566 - val_loss: 0.1138 - val_accuracy: 0.9565\n",
      "Epoch 62/500\n"
     ]
    },
    {
     "data": {
      "application/vnd.jupyter.widget-view+json": {
       "model_id": "e4f02af43dc64f3badf4e7447faec5f6",
       "version_major": 2,
       "version_minor": 0
      },
      "text/plain": [
       "0/46           ETA: ?s - "
      ]
     },
     "metadata": {},
     "output_type": "display_data"
    },
    {
     "name": "stdout",
     "output_type": "stream",
     "text": [
      "Epoch 62/500\n",
      "46/46 [==============================] - 0s 10ms/step - loss: 0.1072 - accuracy: 0.9568 - val_loss: 0.1102 - val_accuracy: 0.9579\n",
      "Epoch 63/500\n"
     ]
    },
    {
     "data": {
      "application/vnd.jupyter.widget-view+json": {
       "model_id": "26388af5b2984e89af515028d829b0af",
       "version_major": 2,
       "version_minor": 0
      },
      "text/plain": [
       "0/46           ETA: ?s - "
      ]
     },
     "metadata": {},
     "output_type": "display_data"
    },
    {
     "name": "stdout",
     "output_type": "stream",
     "text": [
      "Epoch 63/500\n",
      "46/46 [==============================] - 0s 10ms/step - loss: 0.1067 - accuracy: 0.9570 - val_loss: 0.1090 - val_accuracy: 0.9585\n",
      "Epoch 64/500\n"
     ]
    },
    {
     "data": {
      "application/vnd.jupyter.widget-view+json": {
       "model_id": "37d4cd8a1408428b83a815ca7f312b1f",
       "version_major": 2,
       "version_minor": 0
      },
      "text/plain": [
       "0/46           ETA: ?s - "
      ]
     },
     "metadata": {},
     "output_type": "display_data"
    },
    {
     "name": "stdout",
     "output_type": "stream",
     "text": [
      "Epoch 64/500\n",
      "46/46 [==============================] - 0s 10ms/step - loss: 0.1095 - accuracy: 0.9561 - val_loss: 0.1170 - val_accuracy: 0.9524\n",
      "Epoch 65/500\n"
     ]
    },
    {
     "data": {
      "application/vnd.jupyter.widget-view+json": {
       "model_id": "b5ace92a28f14fbc89c9fd9ce991b3c2",
       "version_major": 2,
       "version_minor": 0
      },
      "text/plain": [
       "0/46           ETA: ?s - "
      ]
     },
     "metadata": {},
     "output_type": "display_data"
    },
    {
     "name": "stdout",
     "output_type": "stream",
     "text": [
      "Epoch 65/500\n",
      "46/46 [==============================] - 0s 10ms/step - loss: 0.1063 - accuracy: 0.9572 - val_loss: 0.1119 - val_accuracy: 0.9579\n",
      "Epoch 66/500\n"
     ]
    },
    {
     "data": {
      "application/vnd.jupyter.widget-view+json": {
       "model_id": "33d481e86af74be9bd17a351896c48e2",
       "version_major": 2,
       "version_minor": 0
      },
      "text/plain": [
       "0/46           ETA: ?s - "
      ]
     },
     "metadata": {},
     "output_type": "display_data"
    },
    {
     "name": "stdout",
     "output_type": "stream",
     "text": [
      "Epoch 66/500\n",
      "46/46 [==============================] - 0s 10ms/step - loss: 0.1059 - accuracy: 0.9585 - val_loss: 0.1281 - val_accuracy: 0.9477\n",
      "Epoch 67/500\n"
     ]
    },
    {
     "data": {
      "application/vnd.jupyter.widget-view+json": {
       "model_id": "f371f91268cf42d38fb8b79b1bed7a07",
       "version_major": 2,
       "version_minor": 0
      },
      "text/plain": [
       "0/46           ETA: ?s - "
      ]
     },
     "metadata": {},
     "output_type": "display_data"
    },
    {
     "name": "stdout",
     "output_type": "stream",
     "text": [
      "Epoch 67/500\n",
      "46/46 [==============================] - 0s 10ms/step - loss: 0.1049 - accuracy: 0.9572 - val_loss: 0.1074 - val_accuracy: 0.9558\n",
      "Epoch 68/500\n"
     ]
    },
    {
     "data": {
      "application/vnd.jupyter.widget-view+json": {
       "model_id": "58222824b2e143adbb7b6634bc276464",
       "version_major": 2,
       "version_minor": 0
      },
      "text/plain": [
       "0/46           ETA: ?s - "
      ]
     },
     "metadata": {},
     "output_type": "display_data"
    },
    {
     "name": "stdout",
     "output_type": "stream",
     "text": [
      "Epoch 68/500\n",
      "46/46 [==============================] - 0s 10ms/step - loss: 0.1051 - accuracy: 0.9565 - val_loss: 0.1080 - val_accuracy: 0.9545\n",
      "Epoch 69/500\n"
     ]
    },
    {
     "data": {
      "application/vnd.jupyter.widget-view+json": {
       "model_id": "ec74f4c94cc34fa986b37dc5d2c79ea0",
       "version_major": 2,
       "version_minor": 0
      },
      "text/plain": [
       "0/46           ETA: ?s - "
      ]
     },
     "metadata": {},
     "output_type": "display_data"
    },
    {
     "name": "stdout",
     "output_type": "stream",
     "text": [
      "Epoch 69/500\n",
      "46/46 [==============================] - 0s 10ms/step - loss: 0.1048 - accuracy: 0.9556 - val_loss: 0.1068 - val_accuracy: 0.9524\n",
      "Epoch 70/500\n"
     ]
    },
    {
     "data": {
      "application/vnd.jupyter.widget-view+json": {
       "model_id": "2965782ae68d4fffa5dfde201614e21a",
       "version_major": 2,
       "version_minor": 0
      },
      "text/plain": [
       "0/46           ETA: ?s - "
      ]
     },
     "metadata": {},
     "output_type": "display_data"
    },
    {
     "name": "stdout",
     "output_type": "stream",
     "text": [
      "Epoch 70/500\n",
      "46/46 [==============================] - 0s 10ms/step - loss: 0.1046 - accuracy: 0.9560 - val_loss: 0.1066 - val_accuracy: 0.9545\n",
      "Epoch 71/500\n"
     ]
    },
    {
     "data": {
      "application/vnd.jupyter.widget-view+json": {
       "model_id": "17bc1c661d654cfeaf61211145f385fd",
       "version_major": 2,
       "version_minor": 0
      },
      "text/plain": [
       "0/46           ETA: ?s - "
      ]
     },
     "metadata": {},
     "output_type": "display_data"
    },
    {
     "name": "stdout",
     "output_type": "stream",
     "text": [
      "Epoch 71/500\n",
      "46/46 [==============================] - 0s 10ms/step - loss: 0.1049 - accuracy: 0.9554 - val_loss: 0.1063 - val_accuracy: 0.9538\n",
      "Epoch 72/500\n"
     ]
    },
    {
     "data": {
      "application/vnd.jupyter.widget-view+json": {
       "model_id": "213be45023594977ab6f6c41adef9ad4",
       "version_major": 2,
       "version_minor": 0
      },
      "text/plain": [
       "0/46           ETA: ?s - "
      ]
     },
     "metadata": {},
     "output_type": "display_data"
    },
    {
     "name": "stdout",
     "output_type": "stream",
     "text": [
      "Epoch 72/500\n",
      "46/46 [==============================] - 0s 10ms/step - loss: 0.1027 - accuracy: 0.9575 - val_loss: 0.1051 - val_accuracy: 0.9545\n",
      "Epoch 73/500\n"
     ]
    },
    {
     "data": {
      "application/vnd.jupyter.widget-view+json": {
       "model_id": "f7075d42e8de40fcac91924f66a4c5b0",
       "version_major": 2,
       "version_minor": 0
      },
      "text/plain": [
       "0/46           ETA: ?s - "
      ]
     },
     "metadata": {},
     "output_type": "display_data"
    },
    {
     "name": "stdout",
     "output_type": "stream",
     "text": [
      "Epoch 73/500\n",
      "46/46 [==============================] - 0s 9ms/step - loss: 0.1038 - accuracy: 0.9578 - val_loss: 0.1255 - val_accuracy: 0.9470\n",
      "Epoch 74/500\n"
     ]
    },
    {
     "data": {
      "application/vnd.jupyter.widget-view+json": {
       "model_id": "61e2963741cc4b5c801c4fd4f3806f49",
       "version_major": 2,
       "version_minor": 0
      },
      "text/plain": [
       "0/46           ETA: ?s - "
      ]
     },
     "metadata": {},
     "output_type": "display_data"
    },
    {
     "name": "stdout",
     "output_type": "stream",
     "text": [
      "Epoch 74/500\n",
      "46/46 [==============================] - 0s 10ms/step - loss: 0.1015 - accuracy: 0.9561 - val_loss: 0.1044 - val_accuracy: 0.9545\n",
      "Epoch 75/500\n"
     ]
    },
    {
     "data": {
      "application/vnd.jupyter.widget-view+json": {
       "model_id": "ed03aae347bb4644995635979624b9b7",
       "version_major": 2,
       "version_minor": 0
      },
      "text/plain": [
       "0/46           ETA: ?s - "
      ]
     },
     "metadata": {},
     "output_type": "display_data"
    },
    {
     "name": "stdout",
     "output_type": "stream",
     "text": [
      "Epoch 75/500\n",
      "46/46 [==============================] - 0s 10ms/step - loss: 0.1024 - accuracy: 0.9558 - val_loss: 0.1058 - val_accuracy: 0.9599\n",
      "Epoch 76/500\n"
     ]
    },
    {
     "data": {
      "application/vnd.jupyter.widget-view+json": {
       "model_id": "37cd2115493a4e519f9535b96bedb2ed",
       "version_major": 2,
       "version_minor": 0
      },
      "text/plain": [
       "0/46           ETA: ?s - "
      ]
     },
     "metadata": {},
     "output_type": "display_data"
    },
    {
     "name": "stdout",
     "output_type": "stream",
     "text": [
      "Epoch 76/500\n",
      "46/46 [==============================] - 0s 10ms/step - loss: 0.1004 - accuracy: 0.9583 - val_loss: 0.1028 - val_accuracy: 0.9599\n",
      "Epoch 77/500\n"
     ]
    },
    {
     "data": {
      "application/vnd.jupyter.widget-view+json": {
       "model_id": "bc3b8533928148f4aced58e7f90f2077",
       "version_major": 2,
       "version_minor": 0
      },
      "text/plain": [
       "0/46           ETA: ?s - "
      ]
     },
     "metadata": {},
     "output_type": "display_data"
    },
    {
     "name": "stdout",
     "output_type": "stream",
     "text": [
      "Epoch 77/500\n",
      "46/46 [==============================] - 0s 10ms/step - loss: 0.1024 - accuracy: 0.9583 - val_loss: 0.1065 - val_accuracy: 0.9585\n",
      "Epoch 78/500\n"
     ]
    },
    {
     "data": {
      "application/vnd.jupyter.widget-view+json": {
       "model_id": "ede0cf417a5341bf94e0e552bb794a1f",
       "version_major": 2,
       "version_minor": 0
      },
      "text/plain": [
       "0/46           ETA: ?s - "
      ]
     },
     "metadata": {},
     "output_type": "display_data"
    },
    {
     "name": "stdout",
     "output_type": "stream",
     "text": [
      "Epoch 78/500\n",
      "46/46 [==============================] - 0s 10ms/step - loss: 0.1000 - accuracy: 0.9575 - val_loss: 0.1129 - val_accuracy: 0.9531\n",
      "Epoch 79/500\n"
     ]
    },
    {
     "data": {
      "application/vnd.jupyter.widget-view+json": {
       "model_id": "4a85c6991c944056b03bf2572f152cfe",
       "version_major": 2,
       "version_minor": 0
      },
      "text/plain": [
       "0/46           ETA: ?s - "
      ]
     },
     "metadata": {},
     "output_type": "display_data"
    },
    {
     "name": "stdout",
     "output_type": "stream",
     "text": [
      "Epoch 79/500\n",
      "46/46 [==============================] - 0s 9ms/step - loss: 0.1008 - accuracy: 0.9585 - val_loss: 0.1120 - val_accuracy: 0.9524\n",
      "Epoch 80/500\n"
     ]
    },
    {
     "data": {
      "application/vnd.jupyter.widget-view+json": {
       "model_id": "7cf379faa0954909818182c579bb15cb",
       "version_major": 2,
       "version_minor": 0
      },
      "text/plain": [
       "0/46           ETA: ?s - "
      ]
     },
     "metadata": {},
     "output_type": "display_data"
    },
    {
     "name": "stdout",
     "output_type": "stream",
     "text": [
      "Epoch 80/500\n",
      "46/46 [==============================] - 0s 10ms/step - loss: 0.1033 - accuracy: 0.9563 - val_loss: 0.1025 - val_accuracy: 0.9572\n",
      "Epoch 81/500\n"
     ]
    },
    {
     "data": {
      "application/vnd.jupyter.widget-view+json": {
       "model_id": "c3c80f35f6c94a2f966f5812e4ef6ad1",
       "version_major": 2,
       "version_minor": 0
      },
      "text/plain": [
       "0/46           ETA: ?s - "
      ]
     },
     "metadata": {},
     "output_type": "display_data"
    },
    {
     "name": "stdout",
     "output_type": "stream",
     "text": [
      "Epoch 81/500\n",
      "46/46 [==============================] - 0s 9ms/step - loss: 0.0994 - accuracy: 0.9587 - val_loss: 0.1087 - val_accuracy: 0.9558\n",
      "Epoch 82/500\n"
     ]
    },
    {
     "data": {
      "application/vnd.jupyter.widget-view+json": {
       "model_id": "7767ffe59c824c79b4461076050e9109",
       "version_major": 2,
       "version_minor": 0
      },
      "text/plain": [
       "0/46           ETA: ?s - "
      ]
     },
     "metadata": {},
     "output_type": "display_data"
    },
    {
     "name": "stdout",
     "output_type": "stream",
     "text": [
      "Epoch 82/500\n",
      "46/46 [==============================] - 0s 10ms/step - loss: 0.1001 - accuracy: 0.9575 - val_loss: 0.1023 - val_accuracy: 0.9585\n",
      "Epoch 83/500\n"
     ]
    },
    {
     "data": {
      "application/vnd.jupyter.widget-view+json": {
       "model_id": "85dae8b3f3ac44719593749209c39588",
       "version_major": 2,
       "version_minor": 0
      },
      "text/plain": [
       "0/46           ETA: ?s - "
      ]
     },
     "metadata": {},
     "output_type": "display_data"
    },
    {
     "name": "stdout",
     "output_type": "stream",
     "text": [
      "Epoch 83/500\n",
      "46/46 [==============================] - 0s 9ms/step - loss: 0.0997 - accuracy: 0.9578 - val_loss: 0.1069 - val_accuracy: 0.9592\n",
      "Epoch 84/500\n"
     ]
    },
    {
     "data": {
      "application/vnd.jupyter.widget-view+json": {
       "model_id": "30c142cb0e864987a757fab5e52b9afe",
       "version_major": 2,
       "version_minor": 0
      },
      "text/plain": [
       "0/46           ETA: ?s - "
      ]
     },
     "metadata": {},
     "output_type": "display_data"
    },
    {
     "name": "stdout",
     "output_type": "stream",
     "text": [
      "Epoch 84/500\n",
      "46/46 [==============================] - 0s 10ms/step - loss: 0.1022 - accuracy: 0.9570 - val_loss: 0.1041 - val_accuracy: 0.9592\n",
      "Epoch 85/500\n"
     ]
    },
    {
     "data": {
      "application/vnd.jupyter.widget-view+json": {
       "model_id": "ead4022bc812481aa734f1840c798a5e",
       "version_major": 2,
       "version_minor": 0
      },
      "text/plain": [
       "0/46           ETA: ?s - "
      ]
     },
     "metadata": {},
     "output_type": "display_data"
    },
    {
     "name": "stdout",
     "output_type": "stream",
     "text": [
      "Epoch 85/500\n",
      "46/46 [==============================] - 0s 10ms/step - loss: 0.0998 - accuracy: 0.9587 - val_loss: 0.1028 - val_accuracy: 0.9558\n",
      "Epoch 86/500\n"
     ]
    },
    {
     "data": {
      "application/vnd.jupyter.widget-view+json": {
       "model_id": "4fd62c160d8144db9e45dd7005ae80b3",
       "version_major": 2,
       "version_minor": 0
      },
      "text/plain": [
       "0/46           ETA: ?s - "
      ]
     },
     "metadata": {},
     "output_type": "display_data"
    },
    {
     "name": "stdout",
     "output_type": "stream",
     "text": [
      "Epoch 86/500\n",
      "46/46 [==============================] - 0s 10ms/step - loss: 0.0985 - accuracy: 0.9578 - val_loss: 0.1056 - val_accuracy: 0.9592\n",
      "Epoch 87/500\n"
     ]
    },
    {
     "data": {
      "application/vnd.jupyter.widget-view+json": {
       "model_id": "a76a464aead0425d8719a6d385b2fb4c",
       "version_major": 2,
       "version_minor": 0
      },
      "text/plain": [
       "0/46           ETA: ?s - "
      ]
     },
     "metadata": {},
     "output_type": "display_data"
    },
    {
     "name": "stdout",
     "output_type": "stream",
     "text": [
      "Epoch 87/500\n",
      "46/46 [==============================] - 0s 10ms/step - loss: 0.1000 - accuracy: 0.9565 - val_loss: 0.1016 - val_accuracy: 0.9551\n",
      "Epoch 88/500\n"
     ]
    },
    {
     "data": {
      "application/vnd.jupyter.widget-view+json": {
       "model_id": "6b7f7e6700cf48fc8ccff3f4c19998a4",
       "version_major": 2,
       "version_minor": 0
      },
      "text/plain": [
       "0/46           ETA: ?s - "
      ]
     },
     "metadata": {},
     "output_type": "display_data"
    },
    {
     "name": "stdout",
     "output_type": "stream",
     "text": [
      "Epoch 88/500\n",
      "46/46 [==============================] - 0s 10ms/step - loss: 0.0990 - accuracy: 0.9572 - val_loss: 0.1040 - val_accuracy: 0.9565\n",
      "Epoch 89/500\n"
     ]
    },
    {
     "data": {
      "application/vnd.jupyter.widget-view+json": {
       "model_id": "879e632081134ad28fb47b02dd6ac2b7",
       "version_major": 2,
       "version_minor": 0
      },
      "text/plain": [
       "0/46           ETA: ?s - "
      ]
     },
     "metadata": {},
     "output_type": "display_data"
    },
    {
     "name": "stdout",
     "output_type": "stream",
     "text": [
      "Epoch 89/500\n",
      "46/46 [==============================] - 0s 10ms/step - loss: 0.0980 - accuracy: 0.9583 - val_loss: 0.1027 - val_accuracy: 0.9545\n",
      "Epoch 90/500\n"
     ]
    },
    {
     "data": {
      "application/vnd.jupyter.widget-view+json": {
       "model_id": "1c15ee5783234982baac93d3d43222a2",
       "version_major": 2,
       "version_minor": 0
      },
      "text/plain": [
       "0/46           ETA: ?s - "
      ]
     },
     "metadata": {},
     "output_type": "display_data"
    },
    {
     "name": "stdout",
     "output_type": "stream",
     "text": [
      "Epoch 90/500\n",
      "46/46 [==============================] - 0s 10ms/step - loss: 0.0992 - accuracy: 0.9566 - val_loss: 0.1026 - val_accuracy: 0.9524\n",
      "Epoch 91/500\n"
     ]
    },
    {
     "data": {
      "application/vnd.jupyter.widget-view+json": {
       "model_id": "31ea0e38464e4da092db95d721c89d0d",
       "version_major": 2,
       "version_minor": 0
      },
      "text/plain": [
       "0/46           ETA: ?s - "
      ]
     },
     "metadata": {},
     "output_type": "display_data"
    },
    {
     "name": "stdout",
     "output_type": "stream",
     "text": [
      "Epoch 91/500\n",
      "46/46 [==============================] - 0s 10ms/step - loss: 0.0989 - accuracy: 0.9585 - val_loss: 0.1033 - val_accuracy: 0.9599\n",
      "Epoch 92/500\n"
     ]
    },
    {
     "data": {
      "application/vnd.jupyter.widget-view+json": {
       "model_id": "880a51f4e66440489b4ff28040bbdd68",
       "version_major": 2,
       "version_minor": 0
      },
      "text/plain": [
       "0/46           ETA: ?s - "
      ]
     },
     "metadata": {},
     "output_type": "display_data"
    },
    {
     "name": "stdout",
     "output_type": "stream",
     "text": [
      "Epoch 92/500\n",
      "46/46 [==============================] - 0s 10ms/step - loss: 0.0960 - accuracy: 0.9590 - val_loss: 0.1006 - val_accuracy: 0.9558\n",
      "Epoch 93/500\n"
     ]
    },
    {
     "data": {
      "application/vnd.jupyter.widget-view+json": {
       "model_id": "8d150c607ac548f89b00130cea267918",
       "version_major": 2,
       "version_minor": 0
      },
      "text/plain": [
       "0/46           ETA: ?s - "
      ]
     },
     "metadata": {},
     "output_type": "display_data"
    },
    {
     "name": "stdout",
     "output_type": "stream",
     "text": [
      "Epoch 93/500\n",
      "46/46 [==============================] - 0s 10ms/step - loss: 0.0983 - accuracy: 0.9573 - val_loss: 0.1180 - val_accuracy: 0.9490\n",
      "Epoch 94/500\n"
     ]
    },
    {
     "data": {
      "application/vnd.jupyter.widget-view+json": {
       "model_id": "12b370f573414d52b876411b099a367c",
       "version_major": 2,
       "version_minor": 0
      },
      "text/plain": [
       "0/46           ETA: ?s - "
      ]
     },
     "metadata": {},
     "output_type": "display_data"
    },
    {
     "name": "stdout",
     "output_type": "stream",
     "text": [
      "Epoch 94/500\n",
      "46/46 [==============================] - 0s 10ms/step - loss: 0.0989 - accuracy: 0.9578 - val_loss: 0.0988 - val_accuracy: 0.9572\n",
      "Epoch 95/500\n"
     ]
    },
    {
     "data": {
      "application/vnd.jupyter.widget-view+json": {
       "model_id": "ffe8fb56006b4228a67f51a16f4dc344",
       "version_major": 2,
       "version_minor": 0
      },
      "text/plain": [
       "0/46           ETA: ?s - "
      ]
     },
     "metadata": {},
     "output_type": "display_data"
    },
    {
     "name": "stdout",
     "output_type": "stream",
     "text": [
      "Epoch 95/500\n",
      "46/46 [==============================] - 0s 10ms/step - loss: 0.0976 - accuracy: 0.9583 - val_loss: 0.1005 - val_accuracy: 0.9572\n",
      "Epoch 96/500\n"
     ]
    },
    {
     "data": {
      "application/vnd.jupyter.widget-view+json": {
       "model_id": "1d5a3c03971c4903842d0332c367798b",
       "version_major": 2,
       "version_minor": 0
      },
      "text/plain": [
       "0/46           ETA: ?s - "
      ]
     },
     "metadata": {},
     "output_type": "display_data"
    },
    {
     "name": "stdout",
     "output_type": "stream",
     "text": [
      "Epoch 96/500\n",
      "46/46 [==============================] - 0s 10ms/step - loss: 0.0992 - accuracy: 0.9580 - val_loss: 0.1040 - val_accuracy: 0.9524\n",
      "Epoch 97/500\n"
     ]
    },
    {
     "data": {
      "application/vnd.jupyter.widget-view+json": {
       "model_id": "3c674a5f33ec479da1ccd4186730ec86",
       "version_major": 2,
       "version_minor": 0
      },
      "text/plain": [
       "0/46           ETA: ?s - "
      ]
     },
     "metadata": {},
     "output_type": "display_data"
    },
    {
     "name": "stdout",
     "output_type": "stream",
     "text": [
      "Epoch 97/500\n",
      "46/46 [==============================] - 0s 10ms/step - loss: 0.0981 - accuracy: 0.9585 - val_loss: 0.0986 - val_accuracy: 0.9599\n",
      "Epoch 98/500\n"
     ]
    },
    {
     "data": {
      "application/vnd.jupyter.widget-view+json": {
       "model_id": "821f5abcc31e4ff5a38b8724755c6ad6",
       "version_major": 2,
       "version_minor": 0
      },
      "text/plain": [
       "0/46           ETA: ?s - "
      ]
     },
     "metadata": {},
     "output_type": "display_data"
    },
    {
     "name": "stdout",
     "output_type": "stream",
     "text": [
      "Epoch 98/500\n",
      "46/46 [==============================] - 0s 10ms/step - loss: 0.0965 - accuracy: 0.9592 - val_loss: 0.1029 - val_accuracy: 0.9585\n",
      "Epoch 99/500\n"
     ]
    },
    {
     "data": {
      "application/vnd.jupyter.widget-view+json": {
       "model_id": "5f6d3a56b4ca4eaa8fd264a267db3f78",
       "version_major": 2,
       "version_minor": 0
      },
      "text/plain": [
       "0/46           ETA: ?s - "
      ]
     },
     "metadata": {},
     "output_type": "display_data"
    },
    {
     "name": "stdout",
     "output_type": "stream",
     "text": [
      "Epoch 99/500\n",
      "46/46 [==============================] - 0s 10ms/step - loss: 0.0981 - accuracy: 0.9572 - val_loss: 0.1001 - val_accuracy: 0.9545\n",
      "Epoch 100/500\n"
     ]
    },
    {
     "data": {
      "application/vnd.jupyter.widget-view+json": {
       "model_id": "84b16e8e39d14485979acab2521143f7",
       "version_major": 2,
       "version_minor": 0
      },
      "text/plain": [
       "0/46           ETA: ?s - "
      ]
     },
     "metadata": {},
     "output_type": "display_data"
    },
    {
     "name": "stdout",
     "output_type": "stream",
     "text": [
      "Epoch 100/500\n",
      "46/46 [==============================] - 0s 10ms/step - loss: 0.0943 - accuracy: 0.9611 - val_loss: 0.0976 - val_accuracy: 0.9572\n",
      "Epoch 101/500\n"
     ]
    },
    {
     "data": {
      "application/vnd.jupyter.widget-view+json": {
       "model_id": "c0ee3de7993840f9acb0ab479790e27b",
       "version_major": 2,
       "version_minor": 0
      },
      "text/plain": [
       "0/46           ETA: ?s - "
      ]
     },
     "metadata": {},
     "output_type": "display_data"
    },
    {
     "name": "stdout",
     "output_type": "stream",
     "text": [
      "Epoch 101/500\n",
      "46/46 [==============================] - 0s 9ms/step - loss: 0.0937 - accuracy: 0.9592 - val_loss: 0.0971 - val_accuracy: 0.9565\n",
      "Epoch 102/500\n"
     ]
    },
    {
     "data": {
      "application/vnd.jupyter.widget-view+json": {
       "model_id": "b61ef4fcee334502ba95559afeb64ac5",
       "version_major": 2,
       "version_minor": 0
      },
      "text/plain": [
       "0/46           ETA: ?s - "
      ]
     },
     "metadata": {},
     "output_type": "display_data"
    },
    {
     "name": "stdout",
     "output_type": "stream",
     "text": [
      "Epoch 102/500\n",
      "46/46 [==============================] - 0s 10ms/step - loss: 0.0938 - accuracy: 0.9604 - val_loss: 0.0998 - val_accuracy: 0.9551\n",
      "Epoch 103/500\n"
     ]
    },
    {
     "data": {
      "application/vnd.jupyter.widget-view+json": {
       "model_id": "bca29ab5720d4d978e78c6d8a6fefbc5",
       "version_major": 2,
       "version_minor": 0
      },
      "text/plain": [
       "0/46           ETA: ?s - "
      ]
     },
     "metadata": {},
     "output_type": "display_data"
    },
    {
     "name": "stdout",
     "output_type": "stream",
     "text": [
      "Epoch 103/500\n",
      "46/46 [==============================] - 0s 10ms/step - loss: 0.0961 - accuracy: 0.9599 - val_loss: 0.0967 - val_accuracy: 0.9565\n",
      "Epoch 104/500\n"
     ]
    },
    {
     "data": {
      "application/vnd.jupyter.widget-view+json": {
       "model_id": "87837bcd2cad4d77a77008697d5c889e",
       "version_major": 2,
       "version_minor": 0
      },
      "text/plain": [
       "0/46           ETA: ?s - "
      ]
     },
     "metadata": {},
     "output_type": "display_data"
    },
    {
     "name": "stdout",
     "output_type": "stream",
     "text": [
      "Epoch 104/500\n",
      "46/46 [==============================] - 0s 10ms/step - loss: 0.0940 - accuracy: 0.9595 - val_loss: 0.0966 - val_accuracy: 0.9572\n",
      "Epoch 105/500\n"
     ]
    },
    {
     "data": {
      "application/vnd.jupyter.widget-view+json": {
       "model_id": "f57444b068374ba6b572692d99d62441",
       "version_major": 2,
       "version_minor": 0
      },
      "text/plain": [
       "0/46           ETA: ?s - "
      ]
     },
     "metadata": {},
     "output_type": "display_data"
    },
    {
     "name": "stdout",
     "output_type": "stream",
     "text": [
      "Epoch 105/500\n",
      "46/46 [==============================] - 0s 10ms/step - loss: 0.0944 - accuracy: 0.9599 - val_loss: 0.1006 - val_accuracy: 0.9599\n",
      "Epoch 106/500\n"
     ]
    },
    {
     "data": {
      "application/vnd.jupyter.widget-view+json": {
       "model_id": "5d8af0307afc47199c3488bf47444b6e",
       "version_major": 2,
       "version_minor": 0
      },
      "text/plain": [
       "0/46           ETA: ?s - "
      ]
     },
     "metadata": {},
     "output_type": "display_data"
    },
    {
     "name": "stdout",
     "output_type": "stream",
     "text": [
      "Epoch 106/500\n",
      "46/46 [==============================] - 0s 10ms/step - loss: 0.0957 - accuracy: 0.9595 - val_loss: 0.0980 - val_accuracy: 0.9551\n",
      "Epoch 107/500\n"
     ]
    },
    {
     "data": {
      "application/vnd.jupyter.widget-view+json": {
       "model_id": "ade5e53cc50844fd9f80c3a173646850",
       "version_major": 2,
       "version_minor": 0
      },
      "text/plain": [
       "0/46           ETA: ?s - "
      ]
     },
     "metadata": {},
     "output_type": "display_data"
    },
    {
     "name": "stdout",
     "output_type": "stream",
     "text": [
      "Epoch 107/500\n",
      "46/46 [==============================] - 0s 10ms/step - loss: 0.0928 - accuracy: 0.9619 - val_loss: 0.1009 - val_accuracy: 0.9592\n",
      "Epoch 108/500\n"
     ]
    },
    {
     "data": {
      "application/vnd.jupyter.widget-view+json": {
       "model_id": "683a9394a61f45dea9b43613a4d308f4",
       "version_major": 2,
       "version_minor": 0
      },
      "text/plain": [
       "0/46           ETA: ?s - "
      ]
     },
     "metadata": {},
     "output_type": "display_data"
    },
    {
     "name": "stdout",
     "output_type": "stream",
     "text": [
      "Epoch 108/500\n",
      "46/46 [==============================] - 0s 10ms/step - loss: 0.0944 - accuracy: 0.9602 - val_loss: 0.0956 - val_accuracy: 0.9585\n",
      "Epoch 109/500\n"
     ]
    },
    {
     "data": {
      "application/vnd.jupyter.widget-view+json": {
       "model_id": "e6d13b5f90274ba8ac9b253212d71a47",
       "version_major": 2,
       "version_minor": 0
      },
      "text/plain": [
       "0/46           ETA: ?s - "
      ]
     },
     "metadata": {},
     "output_type": "display_data"
    },
    {
     "name": "stdout",
     "output_type": "stream",
     "text": [
      "Epoch 109/500\n",
      "46/46 [==============================] - 0s 10ms/step - loss: 0.0928 - accuracy: 0.9597 - val_loss: 0.0956 - val_accuracy: 0.9572\n",
      "Epoch 110/500\n"
     ]
    },
    {
     "data": {
      "application/vnd.jupyter.widget-view+json": {
       "model_id": "ff462fe1e7eb4396bbad937a4eff7baf",
       "version_major": 2,
       "version_minor": 0
      },
      "text/plain": [
       "0/46           ETA: ?s - "
      ]
     },
     "metadata": {},
     "output_type": "display_data"
    },
    {
     "name": "stdout",
     "output_type": "stream",
     "text": [
      "Epoch 110/500\n",
      "46/46 [==============================] - 0s 10ms/step - loss: 0.0913 - accuracy: 0.9609 - val_loss: 0.0957 - val_accuracy: 0.9585\n",
      "Epoch 111/500\n"
     ]
    },
    {
     "data": {
      "application/vnd.jupyter.widget-view+json": {
       "model_id": "e288d6062fe942d0a4d30e8e1f953a2c",
       "version_major": 2,
       "version_minor": 0
      },
      "text/plain": [
       "0/46           ETA: ?s - "
      ]
     },
     "metadata": {},
     "output_type": "display_data"
    },
    {
     "name": "stdout",
     "output_type": "stream",
     "text": [
      "Epoch 111/500\n",
      "46/46 [==============================] - 0s 10ms/step - loss: 0.0917 - accuracy: 0.9628 - val_loss: 0.1107 - val_accuracy: 0.9497\n",
      "Epoch 112/500\n"
     ]
    },
    {
     "data": {
      "application/vnd.jupyter.widget-view+json": {
       "model_id": "6b083ea7c4eb485e84a8c9b7dba46e73",
       "version_major": 2,
       "version_minor": 0
      },
      "text/plain": [
       "0/46           ETA: ?s - "
      ]
     },
     "metadata": {},
     "output_type": "display_data"
    },
    {
     "name": "stdout",
     "output_type": "stream",
     "text": [
      "Epoch 112/500\n",
      "46/46 [==============================] - 0s 10ms/step - loss: 0.0951 - accuracy: 0.9590 - val_loss: 0.0994 - val_accuracy: 0.9545\n",
      "Epoch 113/500\n"
     ]
    },
    {
     "data": {
      "application/vnd.jupyter.widget-view+json": {
       "model_id": "0fccc861bcb24d50b47d63335a756fa9",
       "version_major": 2,
       "version_minor": 0
      },
      "text/plain": [
       "0/46           ETA: ?s - "
      ]
     },
     "metadata": {},
     "output_type": "display_data"
    },
    {
     "name": "stdout",
     "output_type": "stream",
     "text": [
      "Epoch 113/500\n",
      "46/46 [==============================] - 0s 10ms/step - loss: 0.0944 - accuracy: 0.9587 - val_loss: 0.0986 - val_accuracy: 0.9572\n",
      "Epoch 114/500\n"
     ]
    },
    {
     "data": {
      "application/vnd.jupyter.widget-view+json": {
       "model_id": "dffc4238c42146759b2c49d1b81f3882",
       "version_major": 2,
       "version_minor": 0
      },
      "text/plain": [
       "0/46           ETA: ?s - "
      ]
     },
     "metadata": {},
     "output_type": "display_data"
    },
    {
     "name": "stdout",
     "output_type": "stream",
     "text": [
      "Epoch 114/500\n",
      "46/46 [==============================] - 0s 9ms/step - loss: 0.0916 - accuracy: 0.9617 - val_loss: 0.0950 - val_accuracy: 0.9585\n",
      "Epoch 115/500\n"
     ]
    },
    {
     "data": {
      "application/vnd.jupyter.widget-view+json": {
       "model_id": "5f54e9514e2c4714b7440a4bb67bbbe4",
       "version_major": 2,
       "version_minor": 0
      },
      "text/plain": [
       "0/46           ETA: ?s - "
      ]
     },
     "metadata": {},
     "output_type": "display_data"
    },
    {
     "name": "stdout",
     "output_type": "stream",
     "text": [
      "Epoch 115/500\n",
      "46/46 [==============================] - 0s 10ms/step - loss: 0.0917 - accuracy: 0.9606 - val_loss: 0.1084 - val_accuracy: 0.9551\n",
      "Epoch 116/500\n"
     ]
    },
    {
     "data": {
      "application/vnd.jupyter.widget-view+json": {
       "model_id": "5eae137cc3f041e4ad26fa1516f9fa42",
       "version_major": 2,
       "version_minor": 0
      },
      "text/plain": [
       "0/46           ETA: ?s - "
      ]
     },
     "metadata": {},
     "output_type": "display_data"
    },
    {
     "name": "stdout",
     "output_type": "stream",
     "text": [
      "Epoch 116/500\n",
      "46/46 [==============================] - 0s 9ms/step - loss: 0.0921 - accuracy: 0.9597 - val_loss: 0.0977 - val_accuracy: 0.9592\n",
      "Epoch 117/500\n"
     ]
    },
    {
     "data": {
      "application/vnd.jupyter.widget-view+json": {
       "model_id": "8d0328b2b6f440f59f110f98d20b7924",
       "version_major": 2,
       "version_minor": 0
      },
      "text/plain": [
       "0/46           ETA: ?s - "
      ]
     },
     "metadata": {},
     "output_type": "display_data"
    },
    {
     "name": "stdout",
     "output_type": "stream",
     "text": [
      "Epoch 117/500\n",
      "46/46 [==============================] - 0s 10ms/step - loss: 0.0922 - accuracy: 0.9612 - val_loss: 0.0941 - val_accuracy: 0.9599\n",
      "Epoch 118/500\n"
     ]
    },
    {
     "data": {
      "application/vnd.jupyter.widget-view+json": {
       "model_id": "031336da2c1b4638b03285ddb1b73550",
       "version_major": 2,
       "version_minor": 0
      },
      "text/plain": [
       "0/46           ETA: ?s - "
      ]
     },
     "metadata": {},
     "output_type": "display_data"
    },
    {
     "name": "stdout",
     "output_type": "stream",
     "text": [
      "Epoch 118/500\n",
      "46/46 [==============================] - 0s 10ms/step - loss: 0.0922 - accuracy: 0.9597 - val_loss: 0.1025 - val_accuracy: 0.9551\n",
      "Epoch 119/500\n"
     ]
    },
    {
     "data": {
      "application/vnd.jupyter.widget-view+json": {
       "model_id": "7c10303f77134653a4125e758047a3c5",
       "version_major": 2,
       "version_minor": 0
      },
      "text/plain": [
       "0/46           ETA: ?s - "
      ]
     },
     "metadata": {},
     "output_type": "display_data"
    },
    {
     "name": "stdout",
     "output_type": "stream",
     "text": [
      "Epoch 119/500\n",
      "46/46 [==============================] - 0s 10ms/step - loss: 0.0900 - accuracy: 0.9612 - val_loss: 0.0938 - val_accuracy: 0.9606\n",
      "Epoch 120/500\n"
     ]
    },
    {
     "data": {
      "application/vnd.jupyter.widget-view+json": {
       "model_id": "f11289be0f6d4a1ca9425cc001777673",
       "version_major": 2,
       "version_minor": 0
      },
      "text/plain": [
       "0/46           ETA: ?s - "
      ]
     },
     "metadata": {},
     "output_type": "display_data"
    },
    {
     "name": "stdout",
     "output_type": "stream",
     "text": [
      "Epoch 120/500\n",
      "46/46 [==============================] - 0s 9ms/step - loss: 0.0903 - accuracy: 0.9636 - val_loss: 0.0991 - val_accuracy: 0.9592\n",
      "Epoch 121/500\n"
     ]
    },
    {
     "data": {
      "application/vnd.jupyter.widget-view+json": {
       "model_id": "2bd1b894bb1545399ca7c7951964abdf",
       "version_major": 2,
       "version_minor": 0
      },
      "text/plain": [
       "0/46           ETA: ?s - "
      ]
     },
     "metadata": {},
     "output_type": "display_data"
    },
    {
     "name": "stdout",
     "output_type": "stream",
     "text": [
      "Epoch 121/500\n",
      "46/46 [==============================] - 0s 10ms/step - loss: 0.0908 - accuracy: 0.9609 - val_loss: 0.1096 - val_accuracy: 0.9565\n",
      "Epoch 122/500\n"
     ]
    },
    {
     "data": {
      "application/vnd.jupyter.widget-view+json": {
       "model_id": "95ae8dbda320421fa753bd7f6171ff8b",
       "version_major": 2,
       "version_minor": 0
      },
      "text/plain": [
       "0/46           ETA: ?s - "
      ]
     },
     "metadata": {},
     "output_type": "display_data"
    },
    {
     "name": "stdout",
     "output_type": "stream",
     "text": [
      "Epoch 122/500\n",
      "46/46 [==============================] - 0s 10ms/step - loss: 0.0933 - accuracy: 0.9617 - val_loss: 0.1024 - val_accuracy: 0.9592\n",
      "Epoch 123/500\n"
     ]
    },
    {
     "data": {
      "application/vnd.jupyter.widget-view+json": {
       "model_id": "7d676bb9f8f840e9a660368f0a26206d",
       "version_major": 2,
       "version_minor": 0
      },
      "text/plain": [
       "0/46           ETA: ?s - "
      ]
     },
     "metadata": {},
     "output_type": "display_data"
    },
    {
     "name": "stdout",
     "output_type": "stream",
     "text": [
      "Epoch 123/500\n",
      "46/46 [==============================] - 0s 10ms/step - loss: 0.0881 - accuracy: 0.9621 - val_loss: 0.0939 - val_accuracy: 0.9592\n",
      "Epoch 124/500\n"
     ]
    },
    {
     "data": {
      "application/vnd.jupyter.widget-view+json": {
       "model_id": "d64193ce7f994453aa6a25826acb5b25",
       "version_major": 2,
       "version_minor": 0
      },
      "text/plain": [
       "0/46           ETA: ?s - "
      ]
     },
     "metadata": {},
     "output_type": "display_data"
    },
    {
     "name": "stdout",
     "output_type": "stream",
     "text": [
      "Epoch 124/500\n",
      "46/46 [==============================] - 0s 9ms/step - loss: 0.0915 - accuracy: 0.9594 - val_loss: 0.1038 - val_accuracy: 0.9551\n",
      "Epoch 125/500\n"
     ]
    },
    {
     "data": {
      "application/vnd.jupyter.widget-view+json": {
       "model_id": "d07216e5c7a64f368f5241b25db26179",
       "version_major": 2,
       "version_minor": 0
      },
      "text/plain": [
       "0/46           ETA: ?s - "
      ]
     },
     "metadata": {},
     "output_type": "display_data"
    },
    {
     "name": "stdout",
     "output_type": "stream",
     "text": [
      "Epoch 125/500\n",
      "46/46 [==============================] - 0s 10ms/step - loss: 0.0916 - accuracy: 0.9602 - val_loss: 0.0940 - val_accuracy: 0.9558\n",
      "Epoch 126/500\n"
     ]
    },
    {
     "data": {
      "application/vnd.jupyter.widget-view+json": {
       "model_id": "7f44a89bca6f4f26bb66b33e4db02780",
       "version_major": 2,
       "version_minor": 0
      },
      "text/plain": [
       "0/46           ETA: ?s - "
      ]
     },
     "metadata": {},
     "output_type": "display_data"
    },
    {
     "name": "stdout",
     "output_type": "stream",
     "text": [
      "Epoch 126/500\n",
      "46/46 [==============================] - 0s 10ms/step - loss: 0.0899 - accuracy: 0.9612 - val_loss: 0.1013 - val_accuracy: 0.9592\n",
      "Epoch 127/500\n"
     ]
    },
    {
     "data": {
      "application/vnd.jupyter.widget-view+json": {
       "model_id": "644fe64433444fa493098a52ddef5155",
       "version_major": 2,
       "version_minor": 0
      },
      "text/plain": [
       "0/46           ETA: ?s - "
      ]
     },
     "metadata": {},
     "output_type": "display_data"
    },
    {
     "name": "stdout",
     "output_type": "stream",
     "text": [
      "Epoch 127/500\n",
      "46/46 [==============================] - 0s 10ms/step - loss: 0.0883 - accuracy: 0.9634 - val_loss: 0.0973 - val_accuracy: 0.9551\n",
      "Epoch 128/500\n"
     ]
    },
    {
     "data": {
      "application/vnd.jupyter.widget-view+json": {
       "model_id": "b77ef49fe01947e7b67e0ebfbb21bbaa",
       "version_major": 2,
       "version_minor": 0
      },
      "text/plain": [
       "0/46           ETA: ?s - "
      ]
     },
     "metadata": {},
     "output_type": "display_data"
    },
    {
     "name": "stdout",
     "output_type": "stream",
     "text": [
      "Epoch 128/500\n",
      "46/46 [==============================] - 0s 10ms/step - loss: 0.0889 - accuracy: 0.9626 - val_loss: 0.0915 - val_accuracy: 0.9606\n",
      "Epoch 129/500\n"
     ]
    },
    {
     "data": {
      "application/vnd.jupyter.widget-view+json": {
       "model_id": "d7e89fb181814d018db9866214954bb4",
       "version_major": 2,
       "version_minor": 0
      },
      "text/plain": [
       "0/46           ETA: ?s - "
      ]
     },
     "metadata": {},
     "output_type": "display_data"
    },
    {
     "name": "stdout",
     "output_type": "stream",
     "text": [
      "Epoch 129/500\n",
      "46/46 [==============================] - 0s 10ms/step - loss: 0.0888 - accuracy: 0.9628 - val_loss: 0.0946 - val_accuracy: 0.9585\n",
      "Epoch 130/500\n"
     ]
    },
    {
     "data": {
      "application/vnd.jupyter.widget-view+json": {
       "model_id": "96c1ab87b88a4712975cd52cca5467fb",
       "version_major": 2,
       "version_minor": 0
      },
      "text/plain": [
       "0/46           ETA: ?s - "
      ]
     },
     "metadata": {},
     "output_type": "display_data"
    },
    {
     "name": "stdout",
     "output_type": "stream",
     "text": [
      "Epoch 130/500\n",
      "46/46 [==============================] - 0s 9ms/step - loss: 0.0893 - accuracy: 0.9623 - val_loss: 0.0953 - val_accuracy: 0.9538\n",
      "Epoch 131/500\n"
     ]
    },
    {
     "data": {
      "application/vnd.jupyter.widget-view+json": {
       "model_id": "72c0b2b91de84a5fabf9a308bfd52e6f",
       "version_major": 2,
       "version_minor": 0
      },
      "text/plain": [
       "0/46           ETA: ?s - "
      ]
     },
     "metadata": {},
     "output_type": "display_data"
    },
    {
     "name": "stdout",
     "output_type": "stream",
     "text": [
      "Epoch 131/500\n",
      "46/46 [==============================] - 0s 10ms/step - loss: 0.0903 - accuracy: 0.9616 - val_loss: 0.0949 - val_accuracy: 0.9545\n",
      "Epoch 132/500\n"
     ]
    },
    {
     "data": {
      "application/vnd.jupyter.widget-view+json": {
       "model_id": "4e890b921888467abfcae16535d860ca",
       "version_major": 2,
       "version_minor": 0
      },
      "text/plain": [
       "0/46           ETA: ?s - "
      ]
     },
     "metadata": {},
     "output_type": "display_data"
    },
    {
     "name": "stdout",
     "output_type": "stream",
     "text": [
      "Epoch 132/500\n",
      "46/46 [==============================] - 0s 10ms/step - loss: 0.0865 - accuracy: 0.9646 - val_loss: 0.0926 - val_accuracy: 0.9579\n",
      "Epoch 133/500\n"
     ]
    },
    {
     "data": {
      "application/vnd.jupyter.widget-view+json": {
       "model_id": "a57733d13b35409abf2ce7b6a6507052",
       "version_major": 2,
       "version_minor": 0
      },
      "text/plain": [
       "0/46           ETA: ?s - "
      ]
     },
     "metadata": {},
     "output_type": "display_data"
    },
    {
     "name": "stdout",
     "output_type": "stream",
     "text": [
      "Epoch 133/500\n",
      "46/46 [==============================] - 0s 10ms/step - loss: 0.0878 - accuracy: 0.9619 - val_loss: 0.0940 - val_accuracy: 0.9572\n",
      "Epoch 134/500\n"
     ]
    },
    {
     "data": {
      "application/vnd.jupyter.widget-view+json": {
       "model_id": "7f67031ce60244f4bad1fa0a29f1e95a",
       "version_major": 2,
       "version_minor": 0
      },
      "text/plain": [
       "0/46           ETA: ?s - "
      ]
     },
     "metadata": {},
     "output_type": "display_data"
    },
    {
     "name": "stdout",
     "output_type": "stream",
     "text": [
      "Epoch 134/500\n",
      "46/46 [==============================] - 0s 10ms/step - loss: 0.0883 - accuracy: 0.9619 - val_loss: 0.0952 - val_accuracy: 0.9579\n",
      "Epoch 135/500\n"
     ]
    },
    {
     "data": {
      "application/vnd.jupyter.widget-view+json": {
       "model_id": "b30918ea97f84d9dadd33da11058c6fc",
       "version_major": 2,
       "version_minor": 0
      },
      "text/plain": [
       "0/46           ETA: ?s - "
      ]
     },
     "metadata": {},
     "output_type": "display_data"
    },
    {
     "name": "stdout",
     "output_type": "stream",
     "text": [
      "Epoch 135/500\n",
      "46/46 [==============================] - 0s 10ms/step - loss: 0.0880 - accuracy: 0.9634 - val_loss: 0.0919 - val_accuracy: 0.9599\n",
      "Epoch 136/500\n"
     ]
    },
    {
     "data": {
      "application/vnd.jupyter.widget-view+json": {
       "model_id": "7d7c8b3833d848ee9e77578f6b1c3ff8",
       "version_major": 2,
       "version_minor": 0
      },
      "text/plain": [
       "0/46           ETA: ?s - "
      ]
     },
     "metadata": {},
     "output_type": "display_data"
    },
    {
     "name": "stdout",
     "output_type": "stream",
     "text": [
      "Epoch 136/500\n",
      "46/46 [==============================] - 0s 9ms/step - loss: 0.0874 - accuracy: 0.9651 - val_loss: 0.0962 - val_accuracy: 0.9558\n",
      "Epoch 137/500\n"
     ]
    },
    {
     "data": {
      "application/vnd.jupyter.widget-view+json": {
       "model_id": "c20a25a7f5034e83a7961367d1207d19",
       "version_major": 2,
       "version_minor": 0
      },
      "text/plain": [
       "0/46           ETA: ?s - "
      ]
     },
     "metadata": {},
     "output_type": "display_data"
    },
    {
     "name": "stdout",
     "output_type": "stream",
     "text": [
      "Epoch 137/500\n",
      "46/46 [==============================] - 0s 10ms/step - loss: 0.0879 - accuracy: 0.9623 - val_loss: 0.0906 - val_accuracy: 0.9585\n",
      "Epoch 138/500\n"
     ]
    },
    {
     "data": {
      "application/vnd.jupyter.widget-view+json": {
       "model_id": "c1e30878e6f94870a16d9ce0ac77749d",
       "version_major": 2,
       "version_minor": 0
      },
      "text/plain": [
       "0/46           ETA: ?s - "
      ]
     },
     "metadata": {},
     "output_type": "display_data"
    },
    {
     "name": "stdout",
     "output_type": "stream",
     "text": [
      "Epoch 138/500\n",
      "46/46 [==============================] - 0s 10ms/step - loss: 0.0865 - accuracy: 0.9626 - val_loss: 0.0903 - val_accuracy: 0.9640\n",
      "Epoch 139/500\n"
     ]
    },
    {
     "data": {
      "application/vnd.jupyter.widget-view+json": {
       "model_id": "f04132e1647b43778e608efe6a6cd731",
       "version_major": 2,
       "version_minor": 0
      },
      "text/plain": [
       "0/46           ETA: ?s - "
      ]
     },
     "metadata": {},
     "output_type": "display_data"
    },
    {
     "name": "stdout",
     "output_type": "stream",
     "text": [
      "Epoch 139/500\n",
      "46/46 [==============================] - 0s 9ms/step - loss: 0.0851 - accuracy: 0.9653 - val_loss: 0.0906 - val_accuracy: 0.9585\n",
      "Epoch 140/500\n"
     ]
    },
    {
     "data": {
      "application/vnd.jupyter.widget-view+json": {
       "model_id": "cbe0420555bc41268d28ce710d78d928",
       "version_major": 2,
       "version_minor": 0
      },
      "text/plain": [
       "0/46           ETA: ?s - "
      ]
     },
     "metadata": {},
     "output_type": "display_data"
    },
    {
     "name": "stdout",
     "output_type": "stream",
     "text": [
      "Epoch 140/500\n",
      "46/46 [==============================] - 0s 10ms/step - loss: 0.0858 - accuracy: 0.9631 - val_loss: 0.0910 - val_accuracy: 0.9585\n",
      "Epoch 141/500\n"
     ]
    },
    {
     "data": {
      "application/vnd.jupyter.widget-view+json": {
       "model_id": "b2dd154787144b26a6489026e6f825ba",
       "version_major": 2,
       "version_minor": 0
      },
      "text/plain": [
       "0/46           ETA: ?s - "
      ]
     },
     "metadata": {},
     "output_type": "display_data"
    },
    {
     "name": "stdout",
     "output_type": "stream",
     "text": [
      "Epoch 141/500\n",
      "46/46 [==============================] - 0s 10ms/step - loss: 0.0856 - accuracy: 0.9621 - val_loss: 0.0911 - val_accuracy: 0.9592\n",
      "Epoch 142/500\n"
     ]
    },
    {
     "data": {
      "application/vnd.jupyter.widget-view+json": {
       "model_id": "8467f9d627504eac89f9a4839af7f480",
       "version_major": 2,
       "version_minor": 0
      },
      "text/plain": [
       "0/46           ETA: ?s - "
      ]
     },
     "metadata": {},
     "output_type": "display_data"
    },
    {
     "name": "stdout",
     "output_type": "stream",
     "text": [
      "Epoch 142/500\n",
      "46/46 [==============================] - 0s 10ms/step - loss: 0.0859 - accuracy: 0.9621 - val_loss: 0.0897 - val_accuracy: 0.9599\n",
      "Epoch 143/500\n"
     ]
    },
    {
     "data": {
      "application/vnd.jupyter.widget-view+json": {
       "model_id": "44e7717ac50d43ea89e772dc03c4da08",
       "version_major": 2,
       "version_minor": 0
      },
      "text/plain": [
       "0/46           ETA: ?s - "
      ]
     },
     "metadata": {},
     "output_type": "display_data"
    },
    {
     "name": "stdout",
     "output_type": "stream",
     "text": [
      "Epoch 143/500\n",
      "46/46 [==============================] - 0s 10ms/step - loss: 0.0849 - accuracy: 0.9658 - val_loss: 0.0931 - val_accuracy: 0.9633\n",
      "Epoch 144/500\n"
     ]
    },
    {
     "data": {
      "application/vnd.jupyter.widget-view+json": {
       "model_id": "60b88c4581fe4d46a846568f101b459a",
       "version_major": 2,
       "version_minor": 0
      },
      "text/plain": [
       "0/46           ETA: ?s - "
      ]
     },
     "metadata": {},
     "output_type": "display_data"
    },
    {
     "name": "stdout",
     "output_type": "stream",
     "text": [
      "Epoch 144/500\n",
      "46/46 [==============================] - 0s 9ms/step - loss: 0.0830 - accuracy: 0.9674 - val_loss: 0.0956 - val_accuracy: 0.9606\n",
      "Epoch 145/500\n"
     ]
    },
    {
     "data": {
      "application/vnd.jupyter.widget-view+json": {
       "model_id": "e628c037e9874205972407e1f6074a65",
       "version_major": 2,
       "version_minor": 0
      },
      "text/plain": [
       "0/46           ETA: ?s - "
      ]
     },
     "metadata": {},
     "output_type": "display_data"
    },
    {
     "name": "stdout",
     "output_type": "stream",
     "text": [
      "Epoch 145/500\n",
      "46/46 [==============================] - 0s 9ms/step - loss: 0.0878 - accuracy: 0.9612 - val_loss: 0.0958 - val_accuracy: 0.9626\n",
      "Epoch 146/500\n"
     ]
    },
    {
     "data": {
      "application/vnd.jupyter.widget-view+json": {
       "model_id": "a8aca52c9c53468aa10da1bf6ad57d24",
       "version_major": 2,
       "version_minor": 0
      },
      "text/plain": [
       "0/46           ETA: ?s - "
      ]
     },
     "metadata": {},
     "output_type": "display_data"
    },
    {
     "name": "stdout",
     "output_type": "stream",
     "text": [
      "Epoch 146/500\n",
      "46/46 [==============================] - 0s 10ms/step - loss: 0.0837 - accuracy: 0.9648 - val_loss: 0.1071 - val_accuracy: 0.9531\n",
      "Epoch 147/500\n"
     ]
    },
    {
     "data": {
      "application/vnd.jupyter.widget-view+json": {
       "model_id": "ccc0b73a54ed47f98cd7639160e646bd",
       "version_major": 2,
       "version_minor": 0
      },
      "text/plain": [
       "0/46           ETA: ?s - "
      ]
     },
     "metadata": {},
     "output_type": "display_data"
    },
    {
     "name": "stdout",
     "output_type": "stream",
     "text": [
      "Epoch 147/500\n",
      "46/46 [==============================] - 0s 10ms/step - loss: 0.0870 - accuracy: 0.9646 - val_loss: 0.0915 - val_accuracy: 0.9565\n",
      "Epoch 148/500\n"
     ]
    },
    {
     "data": {
      "application/vnd.jupyter.widget-view+json": {
       "model_id": "8c14566106924aab906216b7a3cde9fa",
       "version_major": 2,
       "version_minor": 0
      },
      "text/plain": [
       "0/46           ETA: ?s - "
      ]
     },
     "metadata": {},
     "output_type": "display_data"
    },
    {
     "name": "stdout",
     "output_type": "stream",
     "text": [
      "Epoch 148/500\n",
      "46/46 [==============================] - 0s 9ms/step - loss: 0.0843 - accuracy: 0.9651 - val_loss: 0.0884 - val_accuracy: 0.9613\n",
      "Epoch 149/500\n"
     ]
    },
    {
     "data": {
      "application/vnd.jupyter.widget-view+json": {
       "model_id": "8fd27486d2704c72bcbe39b881759761",
       "version_major": 2,
       "version_minor": 0
      },
      "text/plain": [
       "0/46           ETA: ?s - "
      ]
     },
     "metadata": {},
     "output_type": "display_data"
    },
    {
     "name": "stdout",
     "output_type": "stream",
     "text": [
      "Epoch 149/500\n",
      "46/46 [==============================] - 0s 10ms/step - loss: 0.0840 - accuracy: 0.9646 - val_loss: 0.0936 - val_accuracy: 0.9579\n",
      "Epoch 150/500\n"
     ]
    },
    {
     "data": {
      "application/vnd.jupyter.widget-view+json": {
       "model_id": "9c4ab3e8f8ab4bb2a1788cee8104dc77",
       "version_major": 2,
       "version_minor": 0
      },
      "text/plain": [
       "0/46           ETA: ?s - "
      ]
     },
     "metadata": {},
     "output_type": "display_data"
    },
    {
     "name": "stdout",
     "output_type": "stream",
     "text": [
      "Epoch 150/500\n",
      "46/46 [==============================] - 0s 10ms/step - loss: 0.0846 - accuracy: 0.9648 - val_loss: 0.0909 - val_accuracy: 0.9565\n",
      "Epoch 151/500\n"
     ]
    },
    {
     "data": {
      "application/vnd.jupyter.widget-view+json": {
       "model_id": "bf9711bf39384f2291884e9bd1e1966b",
       "version_major": 2,
       "version_minor": 0
      },
      "text/plain": [
       "0/46           ETA: ?s - "
      ]
     },
     "metadata": {},
     "output_type": "display_data"
    },
    {
     "name": "stdout",
     "output_type": "stream",
     "text": [
      "Epoch 151/500\n",
      "46/46 [==============================] - 0s 10ms/step - loss: 0.0838 - accuracy: 0.9643 - val_loss: 0.0879 - val_accuracy: 0.9613\n",
      "Epoch 152/500\n"
     ]
    },
    {
     "data": {
      "application/vnd.jupyter.widget-view+json": {
       "model_id": "281fdb905b8041ac9f2c897bc69abbc2",
       "version_major": 2,
       "version_minor": 0
      },
      "text/plain": [
       "0/46           ETA: ?s - "
      ]
     },
     "metadata": {},
     "output_type": "display_data"
    },
    {
     "name": "stdout",
     "output_type": "stream",
     "text": [
      "Epoch 152/500\n",
      "46/46 [==============================] - 0s 10ms/step - loss: 0.0847 - accuracy: 0.9650 - val_loss: 0.0890 - val_accuracy: 0.9579\n",
      "Epoch 153/500\n"
     ]
    },
    {
     "data": {
      "application/vnd.jupyter.widget-view+json": {
       "model_id": "6c14f9a5b94d41ba8411a5f773da8c46",
       "version_major": 2,
       "version_minor": 0
      },
      "text/plain": [
       "0/46           ETA: ?s - "
      ]
     },
     "metadata": {},
     "output_type": "display_data"
    },
    {
     "name": "stdout",
     "output_type": "stream",
     "text": [
      "Epoch 153/500\n",
      "46/46 [==============================] - 0s 9ms/step - loss: 0.0840 - accuracy: 0.9636 - val_loss: 0.0930 - val_accuracy: 0.9613\n",
      "Epoch 154/500\n"
     ]
    },
    {
     "data": {
      "application/vnd.jupyter.widget-view+json": {
       "model_id": "1a6254f8de1045c6922a6aedac04c027",
       "version_major": 2,
       "version_minor": 0
      },
      "text/plain": [
       "0/46           ETA: ?s - "
      ]
     },
     "metadata": {},
     "output_type": "display_data"
    },
    {
     "name": "stdout",
     "output_type": "stream",
     "text": [
      "Epoch 154/500\n",
      "46/46 [==============================] - 0s 10ms/step - loss: 0.0837 - accuracy: 0.9640 - val_loss: 0.0894 - val_accuracy: 0.9599\n",
      "Epoch 155/500\n"
     ]
    },
    {
     "data": {
      "application/vnd.jupyter.widget-view+json": {
       "model_id": "6e2f30a284e940dd9cb03b982fca09f6",
       "version_major": 2,
       "version_minor": 0
      },
      "text/plain": [
       "0/46           ETA: ?s - "
      ]
     },
     "metadata": {},
     "output_type": "display_data"
    },
    {
     "name": "stdout",
     "output_type": "stream",
     "text": [
      "Epoch 155/500\n",
      "46/46 [==============================] - 0s 10ms/step - loss: 0.0821 - accuracy: 0.9645 - val_loss: 0.0883 - val_accuracy: 0.9626\n",
      "Epoch 156/500\n"
     ]
    },
    {
     "data": {
      "application/vnd.jupyter.widget-view+json": {
       "model_id": "0b1f2809f784473093aff25a053cc3c5",
       "version_major": 2,
       "version_minor": 0
      },
      "text/plain": [
       "0/46           ETA: ?s - "
      ]
     },
     "metadata": {},
     "output_type": "display_data"
    },
    {
     "name": "stdout",
     "output_type": "stream",
     "text": [
      "Epoch 156/500\n",
      "46/46 [==============================] - 0s 10ms/step - loss: 0.0824 - accuracy: 0.9645 - val_loss: 0.0929 - val_accuracy: 0.9551\n",
      "Epoch 157/500\n"
     ]
    },
    {
     "data": {
      "application/vnd.jupyter.widget-view+json": {
       "model_id": "cde6f9fccf244378b378276a02a4d2da",
       "version_major": 2,
       "version_minor": 0
      },
      "text/plain": [
       "0/46           ETA: ?s - "
      ]
     },
     "metadata": {},
     "output_type": "display_data"
    },
    {
     "name": "stdout",
     "output_type": "stream",
     "text": [
      "Epoch 157/500\n",
      "46/46 [==============================] - 0s 10ms/step - loss: 0.0825 - accuracy: 0.9641 - val_loss: 0.0884 - val_accuracy: 0.9558\n",
      "Epoch 158/500\n"
     ]
    },
    {
     "data": {
      "application/vnd.jupyter.widget-view+json": {
       "model_id": "3d820fdc210b491695e6c4b37fc5491a",
       "version_major": 2,
       "version_minor": 0
      },
      "text/plain": [
       "0/46           ETA: ?s - "
      ]
     },
     "metadata": {},
     "output_type": "display_data"
    },
    {
     "name": "stdout",
     "output_type": "stream",
     "text": [
      "Epoch 158/500\n",
      "46/46 [==============================] - 0s 10ms/step - loss: 0.0819 - accuracy: 0.9646 - val_loss: 0.0886 - val_accuracy: 0.9592\n",
      "Epoch 159/500\n"
     ]
    },
    {
     "data": {
      "application/vnd.jupyter.widget-view+json": {
       "model_id": "ffa63fb0866c40ce8150193fb61f9a6b",
       "version_major": 2,
       "version_minor": 0
      },
      "text/plain": [
       "0/46           ETA: ?s - "
      ]
     },
     "metadata": {},
     "output_type": "display_data"
    },
    {
     "name": "stdout",
     "output_type": "stream",
     "text": [
      "Epoch 159/500\n",
      "46/46 [==============================] - 0s 10ms/step - loss: 0.0819 - accuracy: 0.9641 - val_loss: 0.0896 - val_accuracy: 0.9613\n",
      "Epoch 160/500\n"
     ]
    },
    {
     "data": {
      "application/vnd.jupyter.widget-view+json": {
       "model_id": "0646801a46014676b50e6f2d49b190f1",
       "version_major": 2,
       "version_minor": 0
      },
      "text/plain": [
       "0/46           ETA: ?s - "
      ]
     },
     "metadata": {},
     "output_type": "display_data"
    },
    {
     "name": "stdout",
     "output_type": "stream",
     "text": [
      "Epoch 160/500\n",
      "46/46 [==============================] - 0s 9ms/step - loss: 0.0826 - accuracy: 0.9657 - val_loss: 0.0856 - val_accuracy: 0.9619\n",
      "Epoch 161/500\n"
     ]
    },
    {
     "data": {
      "application/vnd.jupyter.widget-view+json": {
       "model_id": "a34d5307bb7f4aac8d2bfd0e6ea0ce16",
       "version_major": 2,
       "version_minor": 0
      },
      "text/plain": [
       "0/46           ETA: ?s - "
      ]
     },
     "metadata": {},
     "output_type": "display_data"
    },
    {
     "name": "stdout",
     "output_type": "stream",
     "text": [
      "Epoch 161/500\n",
      "46/46 [==============================] - 0s 10ms/step - loss: 0.0816 - accuracy: 0.9657 - val_loss: 0.0897 - val_accuracy: 0.9585\n",
      "Epoch 162/500\n"
     ]
    },
    {
     "data": {
      "application/vnd.jupyter.widget-view+json": {
       "model_id": "cd86c75cec9f468ea9ba21ae2a605220",
       "version_major": 2,
       "version_minor": 0
      },
      "text/plain": [
       "0/46           ETA: ?s - "
      ]
     },
     "metadata": {},
     "output_type": "display_data"
    },
    {
     "name": "stdout",
     "output_type": "stream",
     "text": [
      "Epoch 162/500\n",
      "46/46 [==============================] - 0s 10ms/step - loss: 0.0823 - accuracy: 0.9645 - val_loss: 0.0894 - val_accuracy: 0.9633\n",
      "Epoch 163/500\n"
     ]
    },
    {
     "data": {
      "application/vnd.jupyter.widget-view+json": {
       "model_id": "5400459edb37495bb181f24c1dc0316a",
       "version_major": 2,
       "version_minor": 0
      },
      "text/plain": [
       "0/46           ETA: ?s - "
      ]
     },
     "metadata": {},
     "output_type": "display_data"
    },
    {
     "name": "stdout",
     "output_type": "stream",
     "text": [
      "Epoch 163/500\n",
      "46/46 [==============================] - 0s 10ms/step - loss: 0.0817 - accuracy: 0.9655 - val_loss: 0.0856 - val_accuracy: 0.9619\n",
      "Epoch 164/500\n"
     ]
    },
    {
     "data": {
      "application/vnd.jupyter.widget-view+json": {
       "model_id": "045076c2babd4080abad92e778876648",
       "version_major": 2,
       "version_minor": 0
      },
      "text/plain": [
       "0/46           ETA: ?s - "
      ]
     },
     "metadata": {},
     "output_type": "display_data"
    },
    {
     "name": "stdout",
     "output_type": "stream",
     "text": [
      "Epoch 164/500\n",
      "46/46 [==============================] - 0s 10ms/step - loss: 0.0807 - accuracy: 0.9651 - val_loss: 0.0855 - val_accuracy: 0.9599\n",
      "Epoch 165/500\n"
     ]
    },
    {
     "data": {
      "application/vnd.jupyter.widget-view+json": {
       "model_id": "57893ee52aef40d0937afbb4b0b23f8d",
       "version_major": 2,
       "version_minor": 0
      },
      "text/plain": [
       "0/46           ETA: ?s - "
      ]
     },
     "metadata": {},
     "output_type": "display_data"
    },
    {
     "name": "stdout",
     "output_type": "stream",
     "text": [
      "Epoch 165/500\n",
      "46/46 [==============================] - 0s 10ms/step - loss: 0.0800 - accuracy: 0.9658 - val_loss: 0.0853 - val_accuracy: 0.9640\n",
      "Epoch 166/500\n"
     ]
    },
    {
     "data": {
      "application/vnd.jupyter.widget-view+json": {
       "model_id": "2fcc5222b1bc4243ba1c3e56e2d5f7c0",
       "version_major": 2,
       "version_minor": 0
      },
      "text/plain": [
       "0/46           ETA: ?s - "
      ]
     },
     "metadata": {},
     "output_type": "display_data"
    },
    {
     "name": "stdout",
     "output_type": "stream",
     "text": [
      "Epoch 166/500\n",
      "46/46 [==============================] - 0s 10ms/step - loss: 0.0801 - accuracy: 0.9653 - val_loss: 0.0853 - val_accuracy: 0.9613\n",
      "Epoch 167/500\n"
     ]
    },
    {
     "data": {
      "application/vnd.jupyter.widget-view+json": {
       "model_id": "8d28864ee7e14ddfa5b1dfa92a52da5d",
       "version_major": 2,
       "version_minor": 0
      },
      "text/plain": [
       "0/46           ETA: ?s - "
      ]
     },
     "metadata": {},
     "output_type": "display_data"
    },
    {
     "name": "stdout",
     "output_type": "stream",
     "text": [
      "Epoch 167/500\n",
      "46/46 [==============================] - 0s 10ms/step - loss: 0.0811 - accuracy: 0.9665 - val_loss: 0.0988 - val_accuracy: 0.9592\n",
      "Epoch 168/500\n"
     ]
    },
    {
     "data": {
      "application/vnd.jupyter.widget-view+json": {
       "model_id": "160cd5fc287b48d482e13c3378a5a12b",
       "version_major": 2,
       "version_minor": 0
      },
      "text/plain": [
       "0/46           ETA: ?s - "
      ]
     },
     "metadata": {},
     "output_type": "display_data"
    },
    {
     "name": "stdout",
     "output_type": "stream",
     "text": [
      "Epoch 168/500\n",
      "46/46 [==============================] - 0s 10ms/step - loss: 0.0794 - accuracy: 0.9662 - val_loss: 0.0873 - val_accuracy: 0.9606\n",
      "Epoch 169/500\n"
     ]
    },
    {
     "data": {
      "application/vnd.jupyter.widget-view+json": {
       "model_id": "39bda65720c6442a9d02205d2e564628",
       "version_major": 2,
       "version_minor": 0
      },
      "text/plain": [
       "0/46           ETA: ?s - "
      ]
     },
     "metadata": {},
     "output_type": "display_data"
    },
    {
     "name": "stdout",
     "output_type": "stream",
     "text": [
      "Epoch 169/500\n",
      "46/46 [==============================] - 0s 9ms/step - loss: 0.0794 - accuracy: 0.9655 - val_loss: 0.0860 - val_accuracy: 0.9599\n",
      "Epoch 170/500\n"
     ]
    },
    {
     "data": {
      "application/vnd.jupyter.widget-view+json": {
       "model_id": "c50fa31db2494eec92b372d7abe4efc3",
       "version_major": 2,
       "version_minor": 0
      },
      "text/plain": [
       "0/46           ETA: ?s - "
      ]
     },
     "metadata": {},
     "output_type": "display_data"
    },
    {
     "name": "stdout",
     "output_type": "stream",
     "text": [
      "Epoch 170/500\n",
      "46/46 [==============================] - 0s 10ms/step - loss: 0.0800 - accuracy: 0.9651 - val_loss: 0.0855 - val_accuracy: 0.9613\n",
      "Epoch 171/500\n"
     ]
    },
    {
     "data": {
      "application/vnd.jupyter.widget-view+json": {
       "model_id": "f297393fcd0e4996b6f29c02c058512b",
       "version_major": 2,
       "version_minor": 0
      },
      "text/plain": [
       "0/46           ETA: ?s - "
      ]
     },
     "metadata": {},
     "output_type": "display_data"
    },
    {
     "name": "stdout",
     "output_type": "stream",
     "text": [
      "Epoch 171/500\n",
      "46/46 [==============================] - 0s 10ms/step - loss: 0.0795 - accuracy: 0.9657 - val_loss: 0.0871 - val_accuracy: 0.9579\n",
      "Epoch 172/500\n"
     ]
    },
    {
     "data": {
      "application/vnd.jupyter.widget-view+json": {
       "model_id": "98577c81d74a445cbbadd58840fb6535",
       "version_major": 2,
       "version_minor": 0
      },
      "text/plain": [
       "0/46           ETA: ?s - "
      ]
     },
     "metadata": {},
     "output_type": "display_data"
    },
    {
     "name": "stdout",
     "output_type": "stream",
     "text": [
      "Epoch 172/500\n",
      "46/46 [==============================] - 0s 10ms/step - loss: 0.0800 - accuracy: 0.9645 - val_loss: 0.0849 - val_accuracy: 0.9619\n",
      "Epoch 173/500\n"
     ]
    },
    {
     "data": {
      "application/vnd.jupyter.widget-view+json": {
       "model_id": "842f0ea7204042bb90b6582a169627b0",
       "version_major": 2,
       "version_minor": 0
      },
      "text/plain": [
       "0/46           ETA: ?s - "
      ]
     },
     "metadata": {},
     "output_type": "display_data"
    },
    {
     "name": "stdout",
     "output_type": "stream",
     "text": [
      "Epoch 173/500\n",
      "46/46 [==============================] - 0s 9ms/step - loss: 0.0796 - accuracy: 0.9655 - val_loss: 0.0831 - val_accuracy: 0.9613\n",
      "Epoch 174/500\n"
     ]
    },
    {
     "data": {
      "application/vnd.jupyter.widget-view+json": {
       "model_id": "d53c2a5d9a154d11bbe47467c2499736",
       "version_major": 2,
       "version_minor": 0
      },
      "text/plain": [
       "0/46           ETA: ?s - "
      ]
     },
     "metadata": {},
     "output_type": "display_data"
    },
    {
     "name": "stdout",
     "output_type": "stream",
     "text": [
      "Epoch 174/500\n",
      "46/46 [==============================] - 0s 10ms/step - loss: 0.0787 - accuracy: 0.9658 - val_loss: 0.0864 - val_accuracy: 0.9626\n",
      "Epoch 175/500\n"
     ]
    },
    {
     "data": {
      "application/vnd.jupyter.widget-view+json": {
       "model_id": "1e74356c657d4f20ae226c8097645a87",
       "version_major": 2,
       "version_minor": 0
      },
      "text/plain": [
       "0/46           ETA: ?s - "
      ]
     },
     "metadata": {},
     "output_type": "display_data"
    },
    {
     "name": "stdout",
     "output_type": "stream",
     "text": [
      "Epoch 175/500\n",
      "46/46 [==============================] - 0s 10ms/step - loss: 0.0808 - accuracy: 0.9638 - val_loss: 0.0849 - val_accuracy: 0.9619\n",
      "Epoch 176/500\n"
     ]
    },
    {
     "data": {
      "application/vnd.jupyter.widget-view+json": {
       "model_id": "ef966a403eba410985b74b96e6159ed9",
       "version_major": 2,
       "version_minor": 0
      },
      "text/plain": [
       "0/46           ETA: ?s - "
      ]
     },
     "metadata": {},
     "output_type": "display_data"
    },
    {
     "name": "stdout",
     "output_type": "stream",
     "text": [
      "Epoch 176/500\n",
      "46/46 [==============================] - 0s 10ms/step - loss: 0.0794 - accuracy: 0.9665 - val_loss: 0.0838 - val_accuracy: 0.9633\n",
      "Epoch 177/500\n"
     ]
    },
    {
     "data": {
      "application/vnd.jupyter.widget-view+json": {
       "model_id": "1b61112bb466492798411b69d6f5d1b6",
       "version_major": 2,
       "version_minor": 0
      },
      "text/plain": [
       "0/46           ETA: ?s - "
      ]
     },
     "metadata": {},
     "output_type": "display_data"
    },
    {
     "name": "stdout",
     "output_type": "stream",
     "text": [
      "Epoch 177/500\n",
      "46/46 [==============================] - 0s 10ms/step - loss: 0.0781 - accuracy: 0.9677 - val_loss: 0.0844 - val_accuracy: 0.9626\n",
      "Epoch 178/500\n"
     ]
    },
    {
     "data": {
      "application/vnd.jupyter.widget-view+json": {
       "model_id": "cac7311dea5148fb92bc302c564a5296",
       "version_major": 2,
       "version_minor": 0
      },
      "text/plain": [
       "0/46           ETA: ?s - "
      ]
     },
     "metadata": {},
     "output_type": "display_data"
    },
    {
     "name": "stdout",
     "output_type": "stream",
     "text": [
      "Epoch 178/500\n",
      "46/46 [==============================] - 0s 10ms/step - loss: 0.0777 - accuracy: 0.9668 - val_loss: 0.0835 - val_accuracy: 0.9646\n",
      "Epoch 179/500\n"
     ]
    },
    {
     "data": {
      "application/vnd.jupyter.widget-view+json": {
       "model_id": "4fb8ddbf17564b04b0b96174deaec510",
       "version_major": 2,
       "version_minor": 0
      },
      "text/plain": [
       "0/46           ETA: ?s - "
      ]
     },
     "metadata": {},
     "output_type": "display_data"
    },
    {
     "name": "stdout",
     "output_type": "stream",
     "text": [
      "Epoch 179/500\n",
      "46/46 [==============================] - 0s 10ms/step - loss: 0.0772 - accuracy: 0.9680 - val_loss: 0.0866 - val_accuracy: 0.9579\n",
      "Epoch 180/500\n"
     ]
    },
    {
     "data": {
      "application/vnd.jupyter.widget-view+json": {
       "model_id": "96dc5d4358564ddf9ed0038e32e69d47",
       "version_major": 2,
       "version_minor": 0
      },
      "text/plain": [
       "0/46           ETA: ?s - "
      ]
     },
     "metadata": {},
     "output_type": "display_data"
    },
    {
     "name": "stdout",
     "output_type": "stream",
     "text": [
      "Epoch 180/500\n",
      "46/46 [==============================] - 0s 10ms/step - loss: 0.0802 - accuracy: 0.9655 - val_loss: 0.0879 - val_accuracy: 0.9626\n",
      "Epoch 181/500\n"
     ]
    },
    {
     "data": {
      "application/vnd.jupyter.widget-view+json": {
       "model_id": "2cf3a1789bb64161a05f029c54704183",
       "version_major": 2,
       "version_minor": 0
      },
      "text/plain": [
       "0/46           ETA: ?s - "
      ]
     },
     "metadata": {},
     "output_type": "display_data"
    },
    {
     "name": "stdout",
     "output_type": "stream",
     "text": [
      "Epoch 181/500\n",
      "46/46 [==============================] - 0s 9ms/step - loss: 0.0785 - accuracy: 0.9660 - val_loss: 0.0830 - val_accuracy: 0.9626\n",
      "Epoch 182/500\n"
     ]
    },
    {
     "data": {
      "application/vnd.jupyter.widget-view+json": {
       "model_id": "ca64df761c104aa294bd7ba7ed26cd64",
       "version_major": 2,
       "version_minor": 0
      },
      "text/plain": [
       "0/46           ETA: ?s - "
      ]
     },
     "metadata": {},
     "output_type": "display_data"
    },
    {
     "name": "stdout",
     "output_type": "stream",
     "text": [
      "Epoch 182/500\n",
      "46/46 [==============================] - 0s 10ms/step - loss: 0.0783 - accuracy: 0.9672 - val_loss: 0.0832 - val_accuracy: 0.9653\n",
      "Epoch 183/500\n"
     ]
    },
    {
     "data": {
      "application/vnd.jupyter.widget-view+json": {
       "model_id": "b9d4d4b80c7e477494c14b5d929199f6",
       "version_major": 2,
       "version_minor": 0
      },
      "text/plain": [
       "0/46           ETA: ?s - "
      ]
     },
     "metadata": {},
     "output_type": "display_data"
    },
    {
     "name": "stdout",
     "output_type": "stream",
     "text": [
      "Epoch 183/500\n",
      "46/46 [==============================] - 0s 10ms/step - loss: 0.0778 - accuracy: 0.9670 - val_loss: 0.0820 - val_accuracy: 0.9653\n",
      "Epoch 184/500\n"
     ]
    },
    {
     "data": {
      "application/vnd.jupyter.widget-view+json": {
       "model_id": "d3f080c109204f0495925324f4573233",
       "version_major": 2,
       "version_minor": 0
      },
      "text/plain": [
       "0/46           ETA: ?s - "
      ]
     },
     "metadata": {},
     "output_type": "display_data"
    },
    {
     "name": "stdout",
     "output_type": "stream",
     "text": [
      "Epoch 184/500\n",
      "46/46 [==============================] - 0s 10ms/step - loss: 0.0782 - accuracy: 0.9655 - val_loss: 0.0816 - val_accuracy: 0.9640\n",
      "Epoch 185/500\n"
     ]
    },
    {
     "data": {
      "application/vnd.jupyter.widget-view+json": {
       "model_id": "c43950afbfc943aa84f12b725b87660c",
       "version_major": 2,
       "version_minor": 0
      },
      "text/plain": [
       "0/46           ETA: ?s - "
      ]
     },
     "metadata": {},
     "output_type": "display_data"
    },
    {
     "name": "stdout",
     "output_type": "stream",
     "text": [
      "Epoch 185/500\n",
      "46/46 [==============================] - 0s 10ms/step - loss: 0.0777 - accuracy: 0.9680 - val_loss: 0.0828 - val_accuracy: 0.9626\n",
      "Epoch 186/500\n"
     ]
    },
    {
     "data": {
      "application/vnd.jupyter.widget-view+json": {
       "model_id": "cfd02f35881a4d0da8cad79ed4103947",
       "version_major": 2,
       "version_minor": 0
      },
      "text/plain": [
       "0/46           ETA: ?s - "
      ]
     },
     "metadata": {},
     "output_type": "display_data"
    },
    {
     "name": "stdout",
     "output_type": "stream",
     "text": [
      "Epoch 186/500\n",
      "46/46 [==============================] - 0s 10ms/step - loss: 0.0800 - accuracy: 0.9646 - val_loss: 0.0809 - val_accuracy: 0.9680\n",
      "Epoch 187/500\n"
     ]
    },
    {
     "data": {
      "application/vnd.jupyter.widget-view+json": {
       "model_id": "6ee51d2ea1fa4179a11bcd2895b04f97",
       "version_major": 2,
       "version_minor": 0
      },
      "text/plain": [
       "0/46           ETA: ?s - "
      ]
     },
     "metadata": {},
     "output_type": "display_data"
    },
    {
     "name": "stdout",
     "output_type": "stream",
     "text": [
      "Epoch 187/500\n",
      "46/46 [==============================] - 0s 10ms/step - loss: 0.0770 - accuracy: 0.9680 - val_loss: 0.0824 - val_accuracy: 0.9640\n",
      "Epoch 188/500\n"
     ]
    },
    {
     "data": {
      "application/vnd.jupyter.widget-view+json": {
       "model_id": "09d8c01f391d4c2f80e485a041571913",
       "version_major": 2,
       "version_minor": 0
      },
      "text/plain": [
       "0/46           ETA: ?s - "
      ]
     },
     "metadata": {},
     "output_type": "display_data"
    },
    {
     "name": "stdout",
     "output_type": "stream",
     "text": [
      "Epoch 188/500\n",
      "46/46 [==============================] - 0s 10ms/step - loss: 0.0764 - accuracy: 0.9679 - val_loss: 0.0844 - val_accuracy: 0.9613\n",
      "Epoch 189/500\n"
     ]
    },
    {
     "data": {
      "application/vnd.jupyter.widget-view+json": {
       "model_id": "2ecc7b08df1447d0a3ef05909e428e0a",
       "version_major": 2,
       "version_minor": 0
      },
      "text/plain": [
       "0/46           ETA: ?s - "
      ]
     },
     "metadata": {},
     "output_type": "display_data"
    },
    {
     "name": "stdout",
     "output_type": "stream",
     "text": [
      "Epoch 189/500\n",
      "46/46 [==============================] - 0s 10ms/step - loss: 0.0771 - accuracy: 0.9663 - val_loss: 0.0853 - val_accuracy: 0.9592\n",
      "Epoch 190/500\n"
     ]
    },
    {
     "data": {
      "application/vnd.jupyter.widget-view+json": {
       "model_id": "94350a77cae74ed0b80d877231824b98",
       "version_major": 2,
       "version_minor": 0
      },
      "text/plain": [
       "0/46           ETA: ?s - "
      ]
     },
     "metadata": {},
     "output_type": "display_data"
    },
    {
     "name": "stdout",
     "output_type": "stream",
     "text": [
      "Epoch 190/500\n",
      "46/46 [==============================] - 0s 10ms/step - loss: 0.0774 - accuracy: 0.9665 - val_loss: 0.0826 - val_accuracy: 0.9633\n",
      "Epoch 191/500\n"
     ]
    },
    {
     "data": {
      "application/vnd.jupyter.widget-view+json": {
       "model_id": "037fb3ec510349759fa520b1b3654bad",
       "version_major": 2,
       "version_minor": 0
      },
      "text/plain": [
       "0/46           ETA: ?s - "
      ]
     },
     "metadata": {},
     "output_type": "display_data"
    },
    {
     "name": "stdout",
     "output_type": "stream",
     "text": [
      "Epoch 191/500\n",
      "46/46 [==============================] - 0s 10ms/step - loss: 0.0759 - accuracy: 0.9687 - val_loss: 0.0818 - val_accuracy: 0.9660\n",
      "Epoch 192/500\n"
     ]
    },
    {
     "data": {
      "application/vnd.jupyter.widget-view+json": {
       "model_id": "b67bf735a9e945c8a628c85123386182",
       "version_major": 2,
       "version_minor": 0
      },
      "text/plain": [
       "0/46           ETA: ?s - "
      ]
     },
     "metadata": {},
     "output_type": "display_data"
    },
    {
     "name": "stdout",
     "output_type": "stream",
     "text": [
      "Epoch 192/500\n",
      "46/46 [==============================] - 0s 9ms/step - loss: 0.0771 - accuracy: 0.9668 - val_loss: 0.0837 - val_accuracy: 0.9646\n",
      "Epoch 193/500\n"
     ]
    },
    {
     "data": {
      "application/vnd.jupyter.widget-view+json": {
       "model_id": "07ac2f405b1f49e7a13058ca9778b379",
       "version_major": 2,
       "version_minor": 0
      },
      "text/plain": [
       "0/46           ETA: ?s - "
      ]
     },
     "metadata": {},
     "output_type": "display_data"
    },
    {
     "name": "stdout",
     "output_type": "stream",
     "text": [
      "Epoch 193/500\n",
      "46/46 [==============================] - 0s 9ms/step - loss: 0.0754 - accuracy: 0.9682 - val_loss: 0.0848 - val_accuracy: 0.9619\n",
      "Epoch 194/500\n"
     ]
    },
    {
     "data": {
      "application/vnd.jupyter.widget-view+json": {
       "model_id": "f6d7791d7da0461ab2d4f948d7ed20b4",
       "version_major": 2,
       "version_minor": 0
      },
      "text/plain": [
       "0/46           ETA: ?s - "
      ]
     },
     "metadata": {},
     "output_type": "display_data"
    },
    {
     "name": "stdout",
     "output_type": "stream",
     "text": [
      "Epoch 194/500\n",
      "46/46 [==============================] - 0s 10ms/step - loss: 0.0751 - accuracy: 0.9668 - val_loss: 0.0798 - val_accuracy: 0.9667\n",
      "Epoch 195/500\n"
     ]
    },
    {
     "data": {
      "application/vnd.jupyter.widget-view+json": {
       "model_id": "5cda12c4d2a84c3b8f48a494bea83717",
       "version_major": 2,
       "version_minor": 0
      },
      "text/plain": [
       "0/46           ETA: ?s - "
      ]
     },
     "metadata": {},
     "output_type": "display_data"
    },
    {
     "name": "stdout",
     "output_type": "stream",
     "text": [
      "Epoch 195/500\n",
      "46/46 [==============================] - 0s 10ms/step - loss: 0.0761 - accuracy: 0.9662 - val_loss: 0.0850 - val_accuracy: 0.9653\n",
      "Epoch 196/500\n"
     ]
    },
    {
     "data": {
      "application/vnd.jupyter.widget-view+json": {
       "model_id": "1d3078375fb8407a9c524208c93a5d06",
       "version_major": 2,
       "version_minor": 0
      },
      "text/plain": [
       "0/46           ETA: ?s - "
      ]
     },
     "metadata": {},
     "output_type": "display_data"
    },
    {
     "name": "stdout",
     "output_type": "stream",
     "text": [
      "Epoch 196/500\n",
      "46/46 [==============================] - 0s 10ms/step - loss: 0.0758 - accuracy: 0.9684 - val_loss: 0.0816 - val_accuracy: 0.9640\n",
      "Epoch 197/500\n"
     ]
    },
    {
     "data": {
      "application/vnd.jupyter.widget-view+json": {
       "model_id": "364bd54dd5a24fb793d826659f930dae",
       "version_major": 2,
       "version_minor": 0
      },
      "text/plain": [
       "0/46           ETA: ?s - "
      ]
     },
     "metadata": {},
     "output_type": "display_data"
    },
    {
     "name": "stdout",
     "output_type": "stream",
     "text": [
      "Epoch 197/500\n",
      "46/46 [==============================] - 0s 10ms/step - loss: 0.0758 - accuracy: 0.9668 - val_loss: 0.0808 - val_accuracy: 0.9646\n",
      "Epoch 198/500\n"
     ]
    },
    {
     "data": {
      "application/vnd.jupyter.widget-view+json": {
       "model_id": "1dcb0498519847f4b3f37346dfb13303",
       "version_major": 2,
       "version_minor": 0
      },
      "text/plain": [
       "0/46           ETA: ?s - "
      ]
     },
     "metadata": {},
     "output_type": "display_data"
    },
    {
     "name": "stdout",
     "output_type": "stream",
     "text": [
      "Epoch 198/500\n",
      "46/46 [==============================] - 0s 10ms/step - loss: 0.0755 - accuracy: 0.9696 - val_loss: 0.0814 - val_accuracy: 0.9653\n",
      "Epoch 199/500\n"
     ]
    },
    {
     "data": {
      "application/vnd.jupyter.widget-view+json": {
       "model_id": "f27082c4217047c8826bc357ca13e003",
       "version_major": 2,
       "version_minor": 0
      },
      "text/plain": [
       "0/46           ETA: ?s - "
      ]
     },
     "metadata": {},
     "output_type": "display_data"
    },
    {
     "name": "stdout",
     "output_type": "stream",
     "text": [
      "Epoch 199/500\n",
      "46/46 [==============================] - 0s 10ms/step - loss: 0.0779 - accuracy: 0.9665 - val_loss: 0.0848 - val_accuracy: 0.9599\n",
      "Epoch 200/500\n"
     ]
    },
    {
     "data": {
      "application/vnd.jupyter.widget-view+json": {
       "model_id": "33d746b3e8274cd0bf9ffeca0a634430",
       "version_major": 2,
       "version_minor": 0
      },
      "text/plain": [
       "0/46           ETA: ?s - "
      ]
     },
     "metadata": {},
     "output_type": "display_data"
    },
    {
     "name": "stdout",
     "output_type": "stream",
     "text": [
      "Epoch 200/500\n",
      "46/46 [==============================] - 0s 10ms/step - loss: 0.0743 - accuracy: 0.9677 - val_loss: 0.0797 - val_accuracy: 0.9660\n",
      "Epoch 201/500\n"
     ]
    },
    {
     "data": {
      "application/vnd.jupyter.widget-view+json": {
       "model_id": "ea10a40096a84833a1e9814cd025cd68",
       "version_major": 2,
       "version_minor": 0
      },
      "text/plain": [
       "0/46           ETA: ?s - "
      ]
     },
     "metadata": {},
     "output_type": "display_data"
    },
    {
     "name": "stdout",
     "output_type": "stream",
     "text": [
      "Epoch 201/500\n",
      "46/46 [==============================] - 0s 9ms/step - loss: 0.0742 - accuracy: 0.9679 - val_loss: 0.0808 - val_accuracy: 0.9646\n",
      "Epoch 202/500\n"
     ]
    },
    {
     "data": {
      "application/vnd.jupyter.widget-view+json": {
       "model_id": "affb1ec2f97c4b2ca8488ebf33f35b12",
       "version_major": 2,
       "version_minor": 0
      },
      "text/plain": [
       "0/46           ETA: ?s - "
      ]
     },
     "metadata": {},
     "output_type": "display_data"
    },
    {
     "name": "stdout",
     "output_type": "stream",
     "text": [
      "Epoch 202/500\n",
      "46/46 [==============================] - 0s 9ms/step - loss: 0.0739 - accuracy: 0.9680 - val_loss: 0.0807 - val_accuracy: 0.9640\n",
      "Epoch 203/500\n"
     ]
    },
    {
     "data": {
      "application/vnd.jupyter.widget-view+json": {
       "model_id": "751ccc46e28b4c9185e3a6557c06b063",
       "version_major": 2,
       "version_minor": 0
      },
      "text/plain": [
       "0/46           ETA: ?s - "
      ]
     },
     "metadata": {},
     "output_type": "display_data"
    },
    {
     "name": "stdout",
     "output_type": "stream",
     "text": [
      "Epoch 203/500\n",
      "46/46 [==============================] - 0s 10ms/step - loss: 0.0752 - accuracy: 0.9663 - val_loss: 0.0817 - val_accuracy: 0.9674\n",
      "Epoch 204/500\n"
     ]
    },
    {
     "data": {
      "application/vnd.jupyter.widget-view+json": {
       "model_id": "ffbcdaa71d7846b4996fe543983f9c1a",
       "version_major": 2,
       "version_minor": 0
      },
      "text/plain": [
       "0/46           ETA: ?s - "
      ]
     },
     "metadata": {},
     "output_type": "display_data"
    },
    {
     "name": "stdout",
     "output_type": "stream",
     "text": [
      "Epoch 204/500\n",
      "46/46 [==============================] - 0s 10ms/step - loss: 0.0752 - accuracy: 0.9689 - val_loss: 0.0824 - val_accuracy: 0.9626\n",
      "Epoch 205/500\n"
     ]
    },
    {
     "data": {
      "application/vnd.jupyter.widget-view+json": {
       "model_id": "a62c0376ed2b4700a82dd50f45c84d5c",
       "version_major": 2,
       "version_minor": 0
      },
      "text/plain": [
       "0/46           ETA: ?s - "
      ]
     },
     "metadata": {},
     "output_type": "display_data"
    },
    {
     "name": "stdout",
     "output_type": "stream",
     "text": [
      "Epoch 205/500\n",
      "46/46 [==============================] - 0s 10ms/step - loss: 0.0743 - accuracy: 0.9704 - val_loss: 0.0865 - val_accuracy: 0.9606\n",
      "Epoch 206/500\n"
     ]
    },
    {
     "data": {
      "application/vnd.jupyter.widget-view+json": {
       "model_id": "baa5e551c3b349a8ada593cfb8dd2e9b",
       "version_major": 2,
       "version_minor": 0
      },
      "text/plain": [
       "0/46           ETA: ?s - "
      ]
     },
     "metadata": {},
     "output_type": "display_data"
    },
    {
     "name": "stdout",
     "output_type": "stream",
     "text": [
      "Epoch 206/500\n",
      "46/46 [==============================] - 0s 10ms/step - loss: 0.0736 - accuracy: 0.9697 - val_loss: 0.0824 - val_accuracy: 0.9646\n",
      "Epoch 207/500\n"
     ]
    },
    {
     "data": {
      "application/vnd.jupyter.widget-view+json": {
       "model_id": "c1e9892b7bae4cada4e8555f9c7a91f1",
       "version_major": 2,
       "version_minor": 0
      },
      "text/plain": [
       "0/46           ETA: ?s - "
      ]
     },
     "metadata": {},
     "output_type": "display_data"
    },
    {
     "name": "stdout",
     "output_type": "stream",
     "text": [
      "Epoch 207/500\n",
      "46/46 [==============================] - 0s 10ms/step - loss: 0.0757 - accuracy: 0.9672 - val_loss: 0.0805 - val_accuracy: 0.9653\n",
      "Epoch 208/500\n"
     ]
    },
    {
     "data": {
      "application/vnd.jupyter.widget-view+json": {
       "model_id": "2f4e08f3f1ec4eca8559d66c80cc4a91",
       "version_major": 2,
       "version_minor": 0
      },
      "text/plain": [
       "0/46           ETA: ?s - "
      ]
     },
     "metadata": {},
     "output_type": "display_data"
    },
    {
     "name": "stdout",
     "output_type": "stream",
     "text": [
      "Epoch 208/500\n",
      "46/46 [==============================] - 0s 10ms/step - loss: 0.0750 - accuracy: 0.9655 - val_loss: 0.0833 - val_accuracy: 0.9606\n",
      "Epoch 209/500\n"
     ]
    },
    {
     "data": {
      "application/vnd.jupyter.widget-view+json": {
       "model_id": "d105a7abaae94cd78158bc9829c9a49a",
       "version_major": 2,
       "version_minor": 0
      },
      "text/plain": [
       "0/46           ETA: ?s - "
      ]
     },
     "metadata": {},
     "output_type": "display_data"
    },
    {
     "name": "stdout",
     "output_type": "stream",
     "text": [
      "Epoch 209/500\n",
      "46/46 [==============================] - 0s 10ms/step - loss: 0.0763 - accuracy: 0.9685 - val_loss: 0.0834 - val_accuracy: 0.9606\n",
      "Epoch 210/500\n"
     ]
    },
    {
     "data": {
      "application/vnd.jupyter.widget-view+json": {
       "model_id": "45e965fc1f9a4059aad730a3ce3f2e9e",
       "version_major": 2,
       "version_minor": 0
      },
      "text/plain": [
       "0/46           ETA: ?s - "
      ]
     },
     "metadata": {},
     "output_type": "display_data"
    },
    {
     "name": "stdout",
     "output_type": "stream",
     "text": [
      "Epoch 210/500\n",
      "46/46 [==============================] - 0s 10ms/step - loss: 0.0728 - accuracy: 0.9689 - val_loss: 0.0774 - val_accuracy: 0.9646\n",
      "Epoch 211/500\n"
     ]
    },
    {
     "data": {
      "application/vnd.jupyter.widget-view+json": {
       "model_id": "a905b5994fcf4c6995fd2feacc5d8003",
       "version_major": 2,
       "version_minor": 0
      },
      "text/plain": [
       "0/46           ETA: ?s - "
      ]
     },
     "metadata": {},
     "output_type": "display_data"
    },
    {
     "name": "stdout",
     "output_type": "stream",
     "text": [
      "Epoch 211/500\n",
      "46/46 [==============================] - 0s 10ms/step - loss: 0.0740 - accuracy: 0.9680 - val_loss: 0.0789 - val_accuracy: 0.9646\n",
      "Epoch 212/500\n"
     ]
    },
    {
     "data": {
      "application/vnd.jupyter.widget-view+json": {
       "model_id": "edac2040879f438aaeedb19d3017efd8",
       "version_major": 2,
       "version_minor": 0
      },
      "text/plain": [
       "0/46           ETA: ?s - "
      ]
     },
     "metadata": {},
     "output_type": "display_data"
    },
    {
     "name": "stdout",
     "output_type": "stream",
     "text": [
      "Epoch 212/500\n",
      "46/46 [==============================] - 0s 10ms/step - loss: 0.0737 - accuracy: 0.9694 - val_loss: 0.0797 - val_accuracy: 0.9640\n",
      "Epoch 213/500\n"
     ]
    },
    {
     "data": {
      "application/vnd.jupyter.widget-view+json": {
       "model_id": "f512c2d1db3540b9916d301af059bb23",
       "version_major": 2,
       "version_minor": 0
      },
      "text/plain": [
       "0/46           ETA: ?s - "
      ]
     },
     "metadata": {},
     "output_type": "display_data"
    },
    {
     "name": "stdout",
     "output_type": "stream",
     "text": [
      "Epoch 213/500\n",
      "46/46 [==============================] - 0s 10ms/step - loss: 0.0722 - accuracy: 0.9696 - val_loss: 0.0775 - val_accuracy: 0.9646\n",
      "Epoch 214/500\n"
     ]
    },
    {
     "data": {
      "application/vnd.jupyter.widget-view+json": {
       "model_id": "5644f08f116f4a61aa764b28780e20b2",
       "version_major": 2,
       "version_minor": 0
      },
      "text/plain": [
       "0/46           ETA: ?s - "
      ]
     },
     "metadata": {},
     "output_type": "display_data"
    },
    {
     "name": "stdout",
     "output_type": "stream",
     "text": [
      "Epoch 214/500\n",
      "46/46 [==============================] - 0s 10ms/step - loss: 0.0721 - accuracy: 0.9692 - val_loss: 0.0817 - val_accuracy: 0.9646\n",
      "Epoch 215/500\n"
     ]
    },
    {
     "data": {
      "application/vnd.jupyter.widget-view+json": {
       "model_id": "1161d872834d4317bfcbb4b65d9b583c",
       "version_major": 2,
       "version_minor": 0
      },
      "text/plain": [
       "0/46           ETA: ?s - "
      ]
     },
     "metadata": {},
     "output_type": "display_data"
    },
    {
     "name": "stdout",
     "output_type": "stream",
     "text": [
      "Epoch 215/500\n",
      "46/46 [==============================] - 0s 10ms/step - loss: 0.0717 - accuracy: 0.9706 - val_loss: 0.0776 - val_accuracy: 0.9653\n",
      "Epoch 216/500\n"
     ]
    },
    {
     "data": {
      "application/vnd.jupyter.widget-view+json": {
       "model_id": "c49ce6136c1b4c789a8239e9d6941004",
       "version_major": 2,
       "version_minor": 0
      },
      "text/plain": [
       "0/46           ETA: ?s - "
      ]
     },
     "metadata": {},
     "output_type": "display_data"
    },
    {
     "name": "stdout",
     "output_type": "stream",
     "text": [
      "Epoch 216/500\n",
      "46/46 [==============================] - 0s 10ms/step - loss: 0.0742 - accuracy: 0.9694 - val_loss: 0.0777 - val_accuracy: 0.9640\n",
      "Epoch 217/500\n"
     ]
    },
    {
     "data": {
      "application/vnd.jupyter.widget-view+json": {
       "model_id": "21b4960d1e9441388aeaaf2bd9aa8414",
       "version_major": 2,
       "version_minor": 0
      },
      "text/plain": [
       "0/46           ETA: ?s - "
      ]
     },
     "metadata": {},
     "output_type": "display_data"
    },
    {
     "name": "stdout",
     "output_type": "stream",
     "text": [
      "Epoch 217/500\n",
      "46/46 [==============================] - 0s 10ms/step - loss: 0.0725 - accuracy: 0.9706 - val_loss: 0.0799 - val_accuracy: 0.9626\n",
      "Epoch 218/500\n"
     ]
    },
    {
     "data": {
      "application/vnd.jupyter.widget-view+json": {
       "model_id": "5b248f628036491fb75e9d3b866225b9",
       "version_major": 2,
       "version_minor": 0
      },
      "text/plain": [
       "0/46           ETA: ?s - "
      ]
     },
     "metadata": {},
     "output_type": "display_data"
    },
    {
     "name": "stdout",
     "output_type": "stream",
     "text": [
      "Epoch 218/500\n",
      "46/46 [==============================] - 0s 10ms/step - loss: 0.0725 - accuracy: 0.9672 - val_loss: 0.0772 - val_accuracy: 0.9674\n",
      "Epoch 219/500\n"
     ]
    },
    {
     "data": {
      "application/vnd.jupyter.widget-view+json": {
       "model_id": "1f0fc923340043e0befdbbb87895cffd",
       "version_major": 2,
       "version_minor": 0
      },
      "text/plain": [
       "0/46           ETA: ?s - "
      ]
     },
     "metadata": {},
     "output_type": "display_data"
    },
    {
     "name": "stdout",
     "output_type": "stream",
     "text": [
      "Epoch 219/500\n",
      "46/46 [==============================] - 0s 9ms/step - loss: 0.0729 - accuracy: 0.9682 - val_loss: 0.0808 - val_accuracy: 0.9619\n",
      "Epoch 220/500\n"
     ]
    },
    {
     "data": {
      "application/vnd.jupyter.widget-view+json": {
       "model_id": "0defbc6d49514fe5960788cab641840b",
       "version_major": 2,
       "version_minor": 0
      },
      "text/plain": [
       "0/46           ETA: ?s - "
      ]
     },
     "metadata": {},
     "output_type": "display_data"
    },
    {
     "name": "stdout",
     "output_type": "stream",
     "text": [
      "Epoch 220/500\n",
      "46/46 [==============================] - 0s 10ms/step - loss: 0.0708 - accuracy: 0.9691 - val_loss: 0.0757 - val_accuracy: 0.9667\n",
      "Epoch 221/500\n"
     ]
    },
    {
     "data": {
      "application/vnd.jupyter.widget-view+json": {
       "model_id": "8ac8f828922b43b9a185cbc92efce11b",
       "version_major": 2,
       "version_minor": 0
      },
      "text/plain": [
       "0/46           ETA: ?s - "
      ]
     },
     "metadata": {},
     "output_type": "display_data"
    },
    {
     "name": "stdout",
     "output_type": "stream",
     "text": [
      "Epoch 221/500\n",
      "46/46 [==============================] - 0s 10ms/step - loss: 0.0728 - accuracy: 0.9704 - val_loss: 0.0796 - val_accuracy: 0.9626\n",
      "Epoch 222/500\n"
     ]
    },
    {
     "data": {
      "application/vnd.jupyter.widget-view+json": {
       "model_id": "8936b20d9f7647c99719017ab71e5733",
       "version_major": 2,
       "version_minor": 0
      },
      "text/plain": [
       "0/46           ETA: ?s - "
      ]
     },
     "metadata": {},
     "output_type": "display_data"
    },
    {
     "name": "stdout",
     "output_type": "stream",
     "text": [
      "Epoch 222/500\n",
      "46/46 [==============================] - 0s 10ms/step - loss: 0.0746 - accuracy: 0.9687 - val_loss: 0.0832 - val_accuracy: 0.9619\n",
      "Epoch 223/500\n"
     ]
    },
    {
     "data": {
      "application/vnd.jupyter.widget-view+json": {
       "model_id": "942286344b1546e59deb600ebc9c81b1",
       "version_major": 2,
       "version_minor": 0
      },
      "text/plain": [
       "0/46           ETA: ?s - "
      ]
     },
     "metadata": {},
     "output_type": "display_data"
    },
    {
     "name": "stdout",
     "output_type": "stream",
     "text": [
      "Epoch 223/500\n",
      "46/46 [==============================] - 0s 10ms/step - loss: 0.0705 - accuracy: 0.9716 - val_loss: 0.0778 - val_accuracy: 0.9626\n",
      "Epoch 224/500\n"
     ]
    },
    {
     "data": {
      "application/vnd.jupyter.widget-view+json": {
       "model_id": "0a6c715d5f1f432894cb5fb86aee16d3",
       "version_major": 2,
       "version_minor": 0
      },
      "text/plain": [
       "0/46           ETA: ?s - "
      ]
     },
     "metadata": {},
     "output_type": "display_data"
    },
    {
     "name": "stdout",
     "output_type": "stream",
     "text": [
      "Epoch 224/500\n",
      "46/46 [==============================] - 0s 10ms/step - loss: 0.0733 - accuracy: 0.9677 - val_loss: 0.0754 - val_accuracy: 0.9660\n",
      "Epoch 225/500\n"
     ]
    },
    {
     "data": {
      "application/vnd.jupyter.widget-view+json": {
       "model_id": "cf7df8b1d2b941c985fa29f799d1917c",
       "version_major": 2,
       "version_minor": 0
      },
      "text/plain": [
       "0/46           ETA: ?s - "
      ]
     },
     "metadata": {},
     "output_type": "display_data"
    },
    {
     "name": "stdout",
     "output_type": "stream",
     "text": [
      "Epoch 225/500\n",
      "46/46 [==============================] - 0s 10ms/step - loss: 0.0719 - accuracy: 0.9699 - val_loss: 0.0810 - val_accuracy: 0.9640\n",
      "Epoch 226/500\n"
     ]
    },
    {
     "data": {
      "application/vnd.jupyter.widget-view+json": {
       "model_id": "a51397d819d54d5aa02492a108a21b0c",
       "version_major": 2,
       "version_minor": 0
      },
      "text/plain": [
       "0/46           ETA: ?s - "
      ]
     },
     "metadata": {},
     "output_type": "display_data"
    },
    {
     "name": "stdout",
     "output_type": "stream",
     "text": [
      "Epoch 226/500\n",
      "46/46 [==============================] - 0s 10ms/step - loss: 0.0698 - accuracy: 0.9691 - val_loss: 0.0816 - val_accuracy: 0.9626\n",
      "Epoch 227/500\n"
     ]
    },
    {
     "data": {
      "application/vnd.jupyter.widget-view+json": {
       "model_id": "faa3c1c13b294b9eaa8e265c8dd8b8f2",
       "version_major": 2,
       "version_minor": 0
      },
      "text/plain": [
       "0/46           ETA: ?s - "
      ]
     },
     "metadata": {},
     "output_type": "display_data"
    },
    {
     "name": "stdout",
     "output_type": "stream",
     "text": [
      "Epoch 227/500\n",
      "46/46 [==============================] - 0s 10ms/step - loss: 0.0724 - accuracy: 0.9685 - val_loss: 0.0778 - val_accuracy: 0.9694\n",
      "Epoch 228/500\n"
     ]
    },
    {
     "data": {
      "application/vnd.jupyter.widget-view+json": {
       "model_id": "1ee864da40414cb29c37a848078c3477",
       "version_major": 2,
       "version_minor": 0
      },
      "text/plain": [
       "0/46           ETA: ?s - "
      ]
     },
     "metadata": {},
     "output_type": "display_data"
    },
    {
     "name": "stdout",
     "output_type": "stream",
     "text": [
      "Epoch 228/500\n",
      "46/46 [==============================] - 0s 10ms/step - loss: 0.0733 - accuracy: 0.9696 - val_loss: 0.0764 - val_accuracy: 0.9667\n",
      "Epoch 229/500\n"
     ]
    },
    {
     "data": {
      "application/vnd.jupyter.widget-view+json": {
       "model_id": "af5fd53db11545b7bdcb4dea04b8c829",
       "version_major": 2,
       "version_minor": 0
      },
      "text/plain": [
       "0/46           ETA: ?s - "
      ]
     },
     "metadata": {},
     "output_type": "display_data"
    },
    {
     "name": "stdout",
     "output_type": "stream",
     "text": [
      "Epoch 229/500\n",
      "46/46 [==============================] - 0s 10ms/step - loss: 0.0700 - accuracy: 0.9674 - val_loss: 0.0757 - val_accuracy: 0.9653\n",
      "Epoch 230/500\n"
     ]
    },
    {
     "data": {
      "application/vnd.jupyter.widget-view+json": {
       "model_id": "6682ace2c20945c4bce871217d186968",
       "version_major": 2,
       "version_minor": 0
      },
      "text/plain": [
       "0/46           ETA: ?s - "
      ]
     },
     "metadata": {},
     "output_type": "display_data"
    },
    {
     "name": "stdout",
     "output_type": "stream",
     "text": [
      "Epoch 230/500\n",
      "46/46 [==============================] - 0s 10ms/step - loss: 0.0707 - accuracy: 0.9696 - val_loss: 0.0819 - val_accuracy: 0.9613\n",
      "Epoch 231/500\n"
     ]
    },
    {
     "data": {
      "application/vnd.jupyter.widget-view+json": {
       "model_id": "b062f3b050cf44fe95ba0d0d86064317",
       "version_major": 2,
       "version_minor": 0
      },
      "text/plain": [
       "0/46           ETA: ?s - "
      ]
     },
     "metadata": {},
     "output_type": "display_data"
    },
    {
     "name": "stdout",
     "output_type": "stream",
     "text": [
      "Epoch 231/500\n",
      "46/46 [==============================] - 0s 10ms/step - loss: 0.0744 - accuracy: 0.9696 - val_loss: 0.0787 - val_accuracy: 0.9674\n",
      "Epoch 232/500\n"
     ]
    },
    {
     "data": {
      "application/vnd.jupyter.widget-view+json": {
       "model_id": "ede6c4e30e904918a575613476063d5c",
       "version_major": 2,
       "version_minor": 0
      },
      "text/plain": [
       "0/46           ETA: ?s - "
      ]
     },
     "metadata": {},
     "output_type": "display_data"
    },
    {
     "name": "stdout",
     "output_type": "stream",
     "text": [
      "Epoch 232/500\n",
      "46/46 [==============================] - 0s 10ms/step - loss: 0.0709 - accuracy: 0.9692 - val_loss: 0.0784 - val_accuracy: 0.9660\n",
      "Epoch 233/500\n"
     ]
    },
    {
     "data": {
      "application/vnd.jupyter.widget-view+json": {
       "model_id": "f4245cdc6a8042ae8d7f8fecfbeee068",
       "version_major": 2,
       "version_minor": 0
      },
      "text/plain": [
       "0/46           ETA: ?s - "
      ]
     },
     "metadata": {},
     "output_type": "display_data"
    },
    {
     "name": "stdout",
     "output_type": "stream",
     "text": [
      "Epoch 233/500\n",
      "46/46 [==============================] - 0s 10ms/step - loss: 0.0721 - accuracy: 0.9691 - val_loss: 0.0774 - val_accuracy: 0.9660\n",
      "Epoch 234/500\n"
     ]
    },
    {
     "data": {
      "application/vnd.jupyter.widget-view+json": {
       "model_id": "d7e2a365f17c4944a6b46e8dc55fe1e0",
       "version_major": 2,
       "version_minor": 0
      },
      "text/plain": [
       "0/46           ETA: ?s - "
      ]
     },
     "metadata": {},
     "output_type": "display_data"
    },
    {
     "name": "stdout",
     "output_type": "stream",
     "text": [
      "Epoch 234/500\n",
      "46/46 [==============================] - 0s 10ms/step - loss: 0.0706 - accuracy: 0.9699 - val_loss: 0.0775 - val_accuracy: 0.9694\n",
      "Epoch 235/500\n"
     ]
    },
    {
     "data": {
      "application/vnd.jupyter.widget-view+json": {
       "model_id": "5a559799ad1644078c676a021b8d0f2e",
       "version_major": 2,
       "version_minor": 0
      },
      "text/plain": [
       "0/46           ETA: ?s - "
      ]
     },
     "metadata": {},
     "output_type": "display_data"
    },
    {
     "name": "stdout",
     "output_type": "stream",
     "text": [
      "Epoch 235/500\n",
      "46/46 [==============================] - 0s 10ms/step - loss: 0.0714 - accuracy: 0.9699 - val_loss: 0.0786 - val_accuracy: 0.9687\n",
      "Epoch 236/500\n"
     ]
    },
    {
     "data": {
      "application/vnd.jupyter.widget-view+json": {
       "model_id": "7599d7b1067848c79df639a4d6dc040e",
       "version_major": 2,
       "version_minor": 0
      },
      "text/plain": [
       "0/46           ETA: ?s - "
      ]
     },
     "metadata": {},
     "output_type": "display_data"
    },
    {
     "name": "stdout",
     "output_type": "stream",
     "text": [
      "Epoch 236/500\n",
      "46/46 [==============================] - 0s 10ms/step - loss: 0.0705 - accuracy: 0.9692 - val_loss: 0.0755 - val_accuracy: 0.9674\n",
      "Epoch 237/500\n"
     ]
    },
    {
     "data": {
      "application/vnd.jupyter.widget-view+json": {
       "model_id": "254bb338c60f4efaa250bc37916fbc91",
       "version_major": 2,
       "version_minor": 0
      },
      "text/plain": [
       "0/46           ETA: ?s - "
      ]
     },
     "metadata": {},
     "output_type": "display_data"
    },
    {
     "name": "stdout",
     "output_type": "stream",
     "text": [
      "Epoch 237/500\n",
      "46/46 [==============================] - 0s 10ms/step - loss: 0.0697 - accuracy: 0.9723 - val_loss: 0.0751 - val_accuracy: 0.9660\n",
      "Epoch 238/500\n"
     ]
    },
    {
     "data": {
      "application/vnd.jupyter.widget-view+json": {
       "model_id": "4fee52d6a8e04234a136b7528f3cfeea",
       "version_major": 2,
       "version_minor": 0
      },
      "text/plain": [
       "0/46           ETA: ?s - "
      ]
     },
     "metadata": {},
     "output_type": "display_data"
    },
    {
     "name": "stdout",
     "output_type": "stream",
     "text": [
      "Epoch 238/500\n",
      "46/46 [==============================] - 0s 10ms/step - loss: 0.0690 - accuracy: 0.9687 - val_loss: 0.0735 - val_accuracy: 0.9687\n",
      "Epoch 239/500\n"
     ]
    },
    {
     "data": {
      "application/vnd.jupyter.widget-view+json": {
       "model_id": "02a60f57aa2747d8b4c7a7bd1bf41ecb",
       "version_major": 2,
       "version_minor": 0
      },
      "text/plain": [
       "0/46           ETA: ?s - "
      ]
     },
     "metadata": {},
     "output_type": "display_data"
    },
    {
     "name": "stdout",
     "output_type": "stream",
     "text": [
      "Epoch 239/500\n",
      "46/46 [==============================] - 0s 10ms/step - loss: 0.0703 - accuracy: 0.9706 - val_loss: 0.0775 - val_accuracy: 0.9667\n",
      "Epoch 240/500\n"
     ]
    },
    {
     "data": {
      "application/vnd.jupyter.widget-view+json": {
       "model_id": "e930d07cfc864255b2ea1c80ead15bc6",
       "version_major": 2,
       "version_minor": 0
      },
      "text/plain": [
       "0/46           ETA: ?s - "
      ]
     },
     "metadata": {},
     "output_type": "display_data"
    },
    {
     "name": "stdout",
     "output_type": "stream",
     "text": [
      "Epoch 240/500\n",
      "46/46 [==============================] - 0s 10ms/step - loss: 0.0687 - accuracy: 0.9706 - val_loss: 0.0760 - val_accuracy: 0.9667\n",
      "Epoch 241/500\n"
     ]
    },
    {
     "data": {
      "application/vnd.jupyter.widget-view+json": {
       "model_id": "7af17f78a67b4a0bbafef29d8259b6d1",
       "version_major": 2,
       "version_minor": 0
      },
      "text/plain": [
       "0/46           ETA: ?s - "
      ]
     },
     "metadata": {},
     "output_type": "display_data"
    },
    {
     "name": "stdout",
     "output_type": "stream",
     "text": [
      "Epoch 241/500\n",
      "46/46 [==============================] - 0s 10ms/step - loss: 0.0699 - accuracy: 0.9704 - val_loss: 0.0773 - val_accuracy: 0.9633\n",
      "Epoch 242/500\n"
     ]
    },
    {
     "data": {
      "application/vnd.jupyter.widget-view+json": {
       "model_id": "d55c85dcd2d24c18ae7cb80fb52b7ac9",
       "version_major": 2,
       "version_minor": 0
      },
      "text/plain": [
       "0/46           ETA: ?s - "
      ]
     },
     "metadata": {},
     "output_type": "display_data"
    },
    {
     "name": "stdout",
     "output_type": "stream",
     "text": [
      "Epoch 242/500\n",
      "46/46 [==============================] - 0s 10ms/step - loss: 0.0728 - accuracy: 0.9682 - val_loss: 0.0750 - val_accuracy: 0.9667\n",
      "Epoch 243/500\n"
     ]
    },
    {
     "data": {
      "application/vnd.jupyter.widget-view+json": {
       "model_id": "c7b8a5161b7e4108b0646b46bd0dd182",
       "version_major": 2,
       "version_minor": 0
      },
      "text/plain": [
       "0/46           ETA: ?s - "
      ]
     },
     "metadata": {},
     "output_type": "display_data"
    },
    {
     "name": "stdout",
     "output_type": "stream",
     "text": [
      "Epoch 243/500\n",
      "46/46 [==============================] - 0s 10ms/step - loss: 0.0698 - accuracy: 0.9687 - val_loss: 0.0794 - val_accuracy: 0.9640\n",
      "Epoch 244/500\n"
     ]
    },
    {
     "data": {
      "application/vnd.jupyter.widget-view+json": {
       "model_id": "09276a9100a24a1bb20d4ae0933bc835",
       "version_major": 2,
       "version_minor": 0
      },
      "text/plain": [
       "0/46           ETA: ?s - "
      ]
     },
     "metadata": {},
     "output_type": "display_data"
    },
    {
     "name": "stdout",
     "output_type": "stream",
     "text": [
      "Epoch 244/500\n",
      "46/46 [==============================] - 0s 10ms/step - loss: 0.0683 - accuracy: 0.9721 - val_loss: 0.0772 - val_accuracy: 0.9646\n",
      "Epoch 245/500\n"
     ]
    },
    {
     "data": {
      "application/vnd.jupyter.widget-view+json": {
       "model_id": "f79363166f554d72a9ac797e0e93978e",
       "version_major": 2,
       "version_minor": 0
      },
      "text/plain": [
       "0/46           ETA: ?s - "
      ]
     },
     "metadata": {},
     "output_type": "display_data"
    },
    {
     "name": "stdout",
     "output_type": "stream",
     "text": [
      "Epoch 245/500\n",
      "46/46 [==============================] - 0s 10ms/step - loss: 0.0699 - accuracy: 0.9704 - val_loss: 0.0796 - val_accuracy: 0.9694\n",
      "Epoch 246/500\n"
     ]
    },
    {
     "data": {
      "application/vnd.jupyter.widget-view+json": {
       "model_id": "0f3b895284a946c6bea002eaadca52c8",
       "version_major": 2,
       "version_minor": 0
      },
      "text/plain": [
       "0/46           ETA: ?s - "
      ]
     },
     "metadata": {},
     "output_type": "display_data"
    },
    {
     "name": "stdout",
     "output_type": "stream",
     "text": [
      "Epoch 246/500\n",
      "46/46 [==============================] - 0s 10ms/step - loss: 0.0709 - accuracy: 0.9692 - val_loss: 0.0742 - val_accuracy: 0.9680\n",
      "Epoch 247/500\n"
     ]
    },
    {
     "data": {
      "application/vnd.jupyter.widget-view+json": {
       "model_id": "da7b411bb67f487fa17150409a92795a",
       "version_major": 2,
       "version_minor": 0
      },
      "text/plain": [
       "0/46           ETA: ?s - "
      ]
     },
     "metadata": {},
     "output_type": "display_data"
    },
    {
     "name": "stdout",
     "output_type": "stream",
     "text": [
      "Epoch 247/500\n",
      "46/46 [==============================] - 0s 10ms/step - loss: 0.0682 - accuracy: 0.9716 - val_loss: 0.0738 - val_accuracy: 0.9687\n",
      "Epoch 248/500\n"
     ]
    },
    {
     "data": {
      "application/vnd.jupyter.widget-view+json": {
       "model_id": "5ef02e8d43e441aeb5097ef3495f72bf",
       "version_major": 2,
       "version_minor": 0
      },
      "text/plain": [
       "0/46           ETA: ?s - "
      ]
     },
     "metadata": {},
     "output_type": "display_data"
    },
    {
     "name": "stdout",
     "output_type": "stream",
     "text": [
      "Epoch 248/500\n",
      "46/46 [==============================] - 0s 10ms/step - loss: 0.0689 - accuracy: 0.9708 - val_loss: 0.0790 - val_accuracy: 0.9633\n",
      "Epoch 249/500\n"
     ]
    },
    {
     "data": {
      "application/vnd.jupyter.widget-view+json": {
       "model_id": "689645dfd5bd4448b2466c35c85a04a8",
       "version_major": 2,
       "version_minor": 0
      },
      "text/plain": [
       "0/46           ETA: ?s - "
      ]
     },
     "metadata": {},
     "output_type": "display_data"
    },
    {
     "name": "stdout",
     "output_type": "stream",
     "text": [
      "Epoch 249/500\n",
      "46/46 [==============================] - 0s 10ms/step - loss: 0.0686 - accuracy: 0.9708 - val_loss: 0.0730 - val_accuracy: 0.9701\n",
      "Epoch 250/500\n"
     ]
    },
    {
     "data": {
      "application/vnd.jupyter.widget-view+json": {
       "model_id": "219f9b9f856a4b8c834607101c6dc92b",
       "version_major": 2,
       "version_minor": 0
      },
      "text/plain": [
       "0/46           ETA: ?s - "
      ]
     },
     "metadata": {},
     "output_type": "display_data"
    },
    {
     "name": "stdout",
     "output_type": "stream",
     "text": [
      "Epoch 250/500\n",
      "46/46 [==============================] - 0s 10ms/step - loss: 0.0691 - accuracy: 0.9691 - val_loss: 0.0734 - val_accuracy: 0.9687\n",
      "Epoch 251/500\n"
     ]
    },
    {
     "data": {
      "application/vnd.jupyter.widget-view+json": {
       "model_id": "38f98312a2bf4b20aface6e83f153954",
       "version_major": 2,
       "version_minor": 0
      },
      "text/plain": [
       "0/46           ETA: ?s - "
      ]
     },
     "metadata": {},
     "output_type": "display_data"
    },
    {
     "name": "stdout",
     "output_type": "stream",
     "text": [
      "Epoch 251/500\n",
      "46/46 [==============================] - 0s 10ms/step - loss: 0.0684 - accuracy: 0.9713 - val_loss: 0.0768 - val_accuracy: 0.9646\n",
      "Epoch 252/500\n"
     ]
    },
    {
     "data": {
      "application/vnd.jupyter.widget-view+json": {
       "model_id": "1941e52e033240759efb6cc63037e402",
       "version_major": 2,
       "version_minor": 0
      },
      "text/plain": [
       "0/46           ETA: ?s - "
      ]
     },
     "metadata": {},
     "output_type": "display_data"
    },
    {
     "name": "stdout",
     "output_type": "stream",
     "text": [
      "Epoch 252/500\n",
      "46/46 [==============================] - 0s 10ms/step - loss: 0.0692 - accuracy: 0.9704 - val_loss: 0.0804 - val_accuracy: 0.9626\n",
      "Epoch 253/500\n"
     ]
    },
    {
     "data": {
      "application/vnd.jupyter.widget-view+json": {
       "model_id": "27bfe83a03de412985ff89ae48e70793",
       "version_major": 2,
       "version_minor": 0
      },
      "text/plain": [
       "0/46           ETA: ?s - "
      ]
     },
     "metadata": {},
     "output_type": "display_data"
    },
    {
     "name": "stdout",
     "output_type": "stream",
     "text": [
      "Epoch 253/500\n",
      "46/46 [==============================] - 0s 9ms/step - loss: 0.0686 - accuracy: 0.9714 - val_loss: 0.0752 - val_accuracy: 0.9674\n",
      "Epoch 254/500\n"
     ]
    },
    {
     "data": {
      "application/vnd.jupyter.widget-view+json": {
       "model_id": "51e56bb797b74529826633a6bb7ae57e",
       "version_major": 2,
       "version_minor": 0
      },
      "text/plain": [
       "0/46           ETA: ?s - "
      ]
     },
     "metadata": {},
     "output_type": "display_data"
    },
    {
     "name": "stdout",
     "output_type": "stream",
     "text": [
      "Epoch 254/500\n",
      "46/46 [==============================] - 0s 10ms/step - loss: 0.0681 - accuracy: 0.9726 - val_loss: 0.0734 - val_accuracy: 0.9694\n",
      "Epoch 255/500\n"
     ]
    },
    {
     "data": {
      "application/vnd.jupyter.widget-view+json": {
       "model_id": "718a23d8b2b24e97bcdea0c67b4be00b",
       "version_major": 2,
       "version_minor": 0
      },
      "text/plain": [
       "0/46           ETA: ?s - "
      ]
     },
     "metadata": {},
     "output_type": "display_data"
    },
    {
     "name": "stdout",
     "output_type": "stream",
     "text": [
      "Epoch 255/500\n",
      "46/46 [==============================] - 0s 10ms/step - loss: 0.0682 - accuracy: 0.9718 - val_loss: 0.0760 - val_accuracy: 0.9680\n",
      "Epoch 256/500\n"
     ]
    },
    {
     "data": {
      "application/vnd.jupyter.widget-view+json": {
       "model_id": "b941eb10a25647c285af5c8aa98f7853",
       "version_major": 2,
       "version_minor": 0
      },
      "text/plain": [
       "0/46           ETA: ?s - "
      ]
     },
     "metadata": {},
     "output_type": "display_data"
    },
    {
     "name": "stdout",
     "output_type": "stream",
     "text": [
      "Epoch 256/500\n",
      "46/46 [==============================] - 0s 10ms/step - loss: 0.0688 - accuracy: 0.9716 - val_loss: 0.0739 - val_accuracy: 0.9660\n",
      "Epoch 257/500\n"
     ]
    },
    {
     "data": {
      "application/vnd.jupyter.widget-view+json": {
       "model_id": "00125fec682445caa08894f7287e2a58",
       "version_major": 2,
       "version_minor": 0
      },
      "text/plain": [
       "0/46           ETA: ?s - "
      ]
     },
     "metadata": {},
     "output_type": "display_data"
    },
    {
     "name": "stdout",
     "output_type": "stream",
     "text": [
      "Epoch 257/500\n",
      "46/46 [==============================] - 0s 10ms/step - loss: 0.0685 - accuracy: 0.9704 - val_loss: 0.0765 - val_accuracy: 0.9640\n",
      "Epoch 258/500\n"
     ]
    },
    {
     "data": {
      "application/vnd.jupyter.widget-view+json": {
       "model_id": "dc979a652a014e1fbeef61003a108211",
       "version_major": 2,
       "version_minor": 0
      },
      "text/plain": [
       "0/46           ETA: ?s - "
      ]
     },
     "metadata": {},
     "output_type": "display_data"
    },
    {
     "name": "stdout",
     "output_type": "stream",
     "text": [
      "Epoch 258/500\n",
      "46/46 [==============================] - 0s 10ms/step - loss: 0.0687 - accuracy: 0.9701 - val_loss: 0.0732 - val_accuracy: 0.9667\n",
      "Epoch 259/500\n"
     ]
    },
    {
     "data": {
      "application/vnd.jupyter.widget-view+json": {
       "model_id": "6180e673fe4f46bda6046b024ab9773d",
       "version_major": 2,
       "version_minor": 0
      },
      "text/plain": [
       "0/46           ETA: ?s - "
      ]
     },
     "metadata": {},
     "output_type": "display_data"
    },
    {
     "name": "stdout",
     "output_type": "stream",
     "text": [
      "Epoch 259/500\n",
      "46/46 [==============================] - 0s 10ms/step - loss: 0.0675 - accuracy: 0.9723 - val_loss: 0.0745 - val_accuracy: 0.9660\n",
      "Epoch 260/500\n"
     ]
    },
    {
     "data": {
      "application/vnd.jupyter.widget-view+json": {
       "model_id": "22021247312e48a9bc12de8626c9d543",
       "version_major": 2,
       "version_minor": 0
      },
      "text/plain": [
       "0/46           ETA: ?s - "
      ]
     },
     "metadata": {},
     "output_type": "display_data"
    },
    {
     "name": "stdout",
     "output_type": "stream",
     "text": [
      "Epoch 260/500\n",
      "46/46 [==============================] - 0s 10ms/step - loss: 0.0692 - accuracy: 0.9706 - val_loss: 0.0741 - val_accuracy: 0.9687\n",
      "Epoch 261/500\n"
     ]
    },
    {
     "data": {
      "application/vnd.jupyter.widget-view+json": {
       "model_id": "de609e94448b4d5eaf82fcbf76e8dc00",
       "version_major": 2,
       "version_minor": 0
      },
      "text/plain": [
       "0/46           ETA: ?s - "
      ]
     },
     "metadata": {},
     "output_type": "display_data"
    },
    {
     "name": "stdout",
     "output_type": "stream",
     "text": [
      "Epoch 261/500\n",
      "46/46 [==============================] - 0s 10ms/step - loss: 0.0682 - accuracy: 0.9725 - val_loss: 0.0783 - val_accuracy: 0.9633\n",
      "Epoch 262/500\n"
     ]
    },
    {
     "data": {
      "application/vnd.jupyter.widget-view+json": {
       "model_id": "fa121aab5b484a5faed0ab7caff700e3",
       "version_major": 2,
       "version_minor": 0
      },
      "text/plain": [
       "0/46           ETA: ?s - "
      ]
     },
     "metadata": {},
     "output_type": "display_data"
    },
    {
     "name": "stdout",
     "output_type": "stream",
     "text": [
      "Epoch 262/500\n",
      "46/46 [==============================] - 0s 10ms/step - loss: 0.0672 - accuracy: 0.9719 - val_loss: 0.0755 - val_accuracy: 0.9680\n",
      "Epoch 263/500\n"
     ]
    },
    {
     "data": {
      "application/vnd.jupyter.widget-view+json": {
       "model_id": "4855c4ae51dd4d319d6e0c0d7d21f769",
       "version_major": 2,
       "version_minor": 0
      },
      "text/plain": [
       "0/46           ETA: ?s - "
      ]
     },
     "metadata": {},
     "output_type": "display_data"
    },
    {
     "name": "stdout",
     "output_type": "stream",
     "text": [
      "Epoch 263/500\n",
      "46/46 [==============================] - 0s 10ms/step - loss: 0.0675 - accuracy: 0.9723 - val_loss: 0.0751 - val_accuracy: 0.9660\n",
      "Epoch 264/500\n"
     ]
    },
    {
     "data": {
      "application/vnd.jupyter.widget-view+json": {
       "model_id": "f0efeca7c0aa4cef8744ece07e676b7a",
       "version_major": 2,
       "version_minor": 0
      },
      "text/plain": [
       "0/46           ETA: ?s - "
      ]
     },
     "metadata": {},
     "output_type": "display_data"
    },
    {
     "name": "stdout",
     "output_type": "stream",
     "text": [
      "Epoch 264/500\n",
      "46/46 [==============================] - 0s 10ms/step - loss: 0.0685 - accuracy: 0.9713 - val_loss: 0.0724 - val_accuracy: 0.9694\n",
      "Epoch 265/500\n"
     ]
    },
    {
     "data": {
      "application/vnd.jupyter.widget-view+json": {
       "model_id": "38ca2af34ddd44c081315e2583128532",
       "version_major": 2,
       "version_minor": 0
      },
      "text/plain": [
       "0/46           ETA: ?s - "
      ]
     },
     "metadata": {},
     "output_type": "display_data"
    },
    {
     "name": "stdout",
     "output_type": "stream",
     "text": [
      "Epoch 265/500\n",
      "46/46 [==============================] - 0s 10ms/step - loss: 0.0664 - accuracy: 0.9721 - val_loss: 0.0703 - val_accuracy: 0.9687\n",
      "Epoch 266/500\n"
     ]
    },
    {
     "data": {
      "application/vnd.jupyter.widget-view+json": {
       "model_id": "dc48dce0605c47d089ed995df7953688",
       "version_major": 2,
       "version_minor": 0
      },
      "text/plain": [
       "0/46           ETA: ?s - "
      ]
     },
     "metadata": {},
     "output_type": "display_data"
    },
    {
     "name": "stdout",
     "output_type": "stream",
     "text": [
      "Epoch 266/500\n",
      "46/46 [==============================] - 0s 10ms/step - loss: 0.0655 - accuracy: 0.9728 - val_loss: 0.0753 - val_accuracy: 0.9674\n",
      "Epoch 267/500\n"
     ]
    },
    {
     "data": {
      "application/vnd.jupyter.widget-view+json": {
       "model_id": "43dc212ab70e41689aeb10c5893d146f",
       "version_major": 2,
       "version_minor": 0
      },
      "text/plain": [
       "0/46           ETA: ?s - "
      ]
     },
     "metadata": {},
     "output_type": "display_data"
    },
    {
     "name": "stdout",
     "output_type": "stream",
     "text": [
      "Epoch 267/500\n",
      "46/46 [==============================] - 0s 10ms/step - loss: 0.0657 - accuracy: 0.9728 - val_loss: 0.0727 - val_accuracy: 0.9680\n",
      "Epoch 268/500\n"
     ]
    },
    {
     "data": {
      "application/vnd.jupyter.widget-view+json": {
       "model_id": "f533ca2c758b45b68e03058b3fcb9e39",
       "version_major": 2,
       "version_minor": 0
      },
      "text/plain": [
       "0/46           ETA: ?s - "
      ]
     },
     "metadata": {},
     "output_type": "display_data"
    },
    {
     "name": "stdout",
     "output_type": "stream",
     "text": [
      "Epoch 268/500\n",
      "46/46 [==============================] - 0s 10ms/step - loss: 0.0677 - accuracy: 0.9728 - val_loss: 0.0738 - val_accuracy: 0.9694\n",
      "Epoch 269/500\n"
     ]
    },
    {
     "data": {
      "application/vnd.jupyter.widget-view+json": {
       "model_id": "3b9b351971fc47569f2408311c229bd5",
       "version_major": 2,
       "version_minor": 0
      },
      "text/plain": [
       "0/46           ETA: ?s - "
      ]
     },
     "metadata": {},
     "output_type": "display_data"
    },
    {
     "name": "stdout",
     "output_type": "stream",
     "text": [
      "Epoch 269/500\n",
      "46/46 [==============================] - 0s 10ms/step - loss: 0.0687 - accuracy: 0.9716 - val_loss: 0.0706 - val_accuracy: 0.9687\n",
      "Epoch 270/500\n"
     ]
    },
    {
     "data": {
      "application/vnd.jupyter.widget-view+json": {
       "model_id": "c2881cd78b7e4768be10c545d91382c0",
       "version_major": 2,
       "version_minor": 0
      },
      "text/plain": [
       "0/46           ETA: ?s - "
      ]
     },
     "metadata": {},
     "output_type": "display_data"
    },
    {
     "name": "stdout",
     "output_type": "stream",
     "text": [
      "Epoch 270/500\n",
      "46/46 [==============================] - 0s 10ms/step - loss: 0.0673 - accuracy: 0.9694 - val_loss: 0.0728 - val_accuracy: 0.9674\n",
      "Epoch 271/500\n"
     ]
    },
    {
     "data": {
      "application/vnd.jupyter.widget-view+json": {
       "model_id": "67d9c78f5bff4f8d9b76ff76f25c2eeb",
       "version_major": 2,
       "version_minor": 0
      },
      "text/plain": [
       "0/46           ETA: ?s - "
      ]
     },
     "metadata": {},
     "output_type": "display_data"
    },
    {
     "name": "stdout",
     "output_type": "stream",
     "text": [
      "Epoch 271/500\n",
      "46/46 [==============================] - 0s 10ms/step - loss: 0.0663 - accuracy: 0.9713 - val_loss: 0.0746 - val_accuracy: 0.9680\n",
      "Epoch 272/500\n"
     ]
    },
    {
     "data": {
      "application/vnd.jupyter.widget-view+json": {
       "model_id": "4597560c50004fb6a910fd6e3fb51f8e",
       "version_major": 2,
       "version_minor": 0
      },
      "text/plain": [
       "0/46           ETA: ?s - "
      ]
     },
     "metadata": {},
     "output_type": "display_data"
    },
    {
     "name": "stdout",
     "output_type": "stream",
     "text": [
      "Epoch 272/500\n",
      "46/46 [==============================] - 0s 9ms/step - loss: 0.0653 - accuracy: 0.9718 - val_loss: 0.0727 - val_accuracy: 0.9721\n",
      "Epoch 273/500\n"
     ]
    },
    {
     "data": {
      "application/vnd.jupyter.widget-view+json": {
       "model_id": "fc2b7df0893343d08de2f98253c5e35d",
       "version_major": 2,
       "version_minor": 0
      },
      "text/plain": [
       "0/46           ETA: ?s - "
      ]
     },
     "metadata": {},
     "output_type": "display_data"
    },
    {
     "name": "stdout",
     "output_type": "stream",
     "text": [
      "Epoch 273/500\n",
      "46/46 [==============================] - 0s 10ms/step - loss: 0.0673 - accuracy: 0.9735 - val_loss: 0.0717 - val_accuracy: 0.9667\n",
      "Epoch 274/500\n"
     ]
    },
    {
     "data": {
      "application/vnd.jupyter.widget-view+json": {
       "model_id": "f3e0cf5bfdae4212b6aa156413720550",
       "version_major": 2,
       "version_minor": 0
      },
      "text/plain": [
       "0/46           ETA: ?s - "
      ]
     },
     "metadata": {},
     "output_type": "display_data"
    },
    {
     "name": "stdout",
     "output_type": "stream",
     "text": [
      "Epoch 274/500\n",
      "46/46 [==============================] - 0s 10ms/step - loss: 0.0645 - accuracy: 0.9740 - val_loss: 0.0771 - val_accuracy: 0.9653\n",
      "Epoch 275/500\n"
     ]
    },
    {
     "data": {
      "application/vnd.jupyter.widget-view+json": {
       "model_id": "1a46efb880a546cb8eaa860a991985dc",
       "version_major": 2,
       "version_minor": 0
      },
      "text/plain": [
       "0/46           ETA: ?s - "
      ]
     },
     "metadata": {},
     "output_type": "display_data"
    },
    {
     "name": "stdout",
     "output_type": "stream",
     "text": [
      "Epoch 275/500\n",
      "46/46 [==============================] - 0s 9ms/step - loss: 0.0654 - accuracy: 0.9733 - val_loss: 0.0725 - val_accuracy: 0.9694\n",
      "Epoch 276/500\n"
     ]
    },
    {
     "data": {
      "application/vnd.jupyter.widget-view+json": {
       "model_id": "17fafd445ad2495fa4da69988d47c070",
       "version_major": 2,
       "version_minor": 0
      },
      "text/plain": [
       "0/46           ETA: ?s - "
      ]
     },
     "metadata": {},
     "output_type": "display_data"
    },
    {
     "name": "stdout",
     "output_type": "stream",
     "text": [
      "Epoch 276/500\n",
      "46/46 [==============================] - 0s 10ms/step - loss: 0.0655 - accuracy: 0.9728 - val_loss: 0.0725 - val_accuracy: 0.9701\n",
      "Epoch 277/500\n"
     ]
    },
    {
     "data": {
      "application/vnd.jupyter.widget-view+json": {
       "model_id": "c5664c7eb2dc4f1ea80fc10e25fccc77",
       "version_major": 2,
       "version_minor": 0
      },
      "text/plain": [
       "0/46           ETA: ?s - "
      ]
     },
     "metadata": {},
     "output_type": "display_data"
    },
    {
     "name": "stdout",
     "output_type": "stream",
     "text": [
      "Epoch 277/500\n",
      "46/46 [==============================] - 0s 9ms/step - loss: 0.0658 - accuracy: 0.9738 - val_loss: 0.0728 - val_accuracy: 0.9680\n",
      "Epoch 278/500\n"
     ]
    },
    {
     "data": {
      "application/vnd.jupyter.widget-view+json": {
       "model_id": "cc4eeb2355464727a536a4f91e7877dc",
       "version_major": 2,
       "version_minor": 0
      },
      "text/plain": [
       "0/46           ETA: ?s - "
      ]
     },
     "metadata": {},
     "output_type": "display_data"
    },
    {
     "name": "stdout",
     "output_type": "stream",
     "text": [
      "Epoch 278/500\n",
      "46/46 [==============================] - 0s 10ms/step - loss: 0.0686 - accuracy: 0.9708 - val_loss: 0.0786 - val_accuracy: 0.9640\n",
      "Epoch 279/500\n"
     ]
    },
    {
     "data": {
      "application/vnd.jupyter.widget-view+json": {
       "model_id": "ca674f69527a40d7bec18213525e23cb",
       "version_major": 2,
       "version_minor": 0
      },
      "text/plain": [
       "0/46           ETA: ?s - "
      ]
     },
     "metadata": {},
     "output_type": "display_data"
    },
    {
     "name": "stdout",
     "output_type": "stream",
     "text": [
      "Epoch 279/500\n",
      "46/46 [==============================] - 0s 10ms/step - loss: 0.0658 - accuracy: 0.9733 - val_loss: 0.0711 - val_accuracy: 0.9694\n",
      "Epoch 280/500\n"
     ]
    },
    {
     "data": {
      "application/vnd.jupyter.widget-view+json": {
       "model_id": "939c3c97cc824130a30bdcb11dfc4b85",
       "version_major": 2,
       "version_minor": 0
      },
      "text/plain": [
       "0/46           ETA: ?s - "
      ]
     },
     "metadata": {},
     "output_type": "display_data"
    },
    {
     "name": "stdout",
     "output_type": "stream",
     "text": [
      "Epoch 280/500\n",
      "46/46 [==============================] - 0s 10ms/step - loss: 0.0658 - accuracy: 0.9743 - val_loss: 0.0775 - val_accuracy: 0.9667\n",
      "Epoch 281/500\n"
     ]
    },
    {
     "data": {
      "application/vnd.jupyter.widget-view+json": {
       "model_id": "315b90b262a146179335b8080eba9fe2",
       "version_major": 2,
       "version_minor": 0
      },
      "text/plain": [
       "0/46           ETA: ?s - "
      ]
     },
     "metadata": {},
     "output_type": "display_data"
    },
    {
     "name": "stdout",
     "output_type": "stream",
     "text": [
      "Epoch 281/500\n",
      "46/46 [==============================] - 0s 10ms/step - loss: 0.0653 - accuracy: 0.9731 - val_loss: 0.0733 - val_accuracy: 0.9667\n",
      "Epoch 282/500\n"
     ]
    },
    {
     "data": {
      "application/vnd.jupyter.widget-view+json": {
       "model_id": "298cae024e384296aec6424de66a59e7",
       "version_major": 2,
       "version_minor": 0
      },
      "text/plain": [
       "0/46           ETA: ?s - "
      ]
     },
     "metadata": {},
     "output_type": "display_data"
    },
    {
     "name": "stdout",
     "output_type": "stream",
     "text": [
      "Epoch 282/500\n",
      "46/46 [==============================] - 0s 10ms/step - loss: 0.0664 - accuracy: 0.9735 - val_loss: 0.0713 - val_accuracy: 0.9694\n",
      "Epoch 283/500\n"
     ]
    },
    {
     "data": {
      "application/vnd.jupyter.widget-view+json": {
       "model_id": "5e0bf1b5615d4cf88a521ada77a8fc0a",
       "version_major": 2,
       "version_minor": 0
      },
      "text/plain": [
       "0/46           ETA: ?s - "
      ]
     },
     "metadata": {},
     "output_type": "display_data"
    },
    {
     "name": "stdout",
     "output_type": "stream",
     "text": [
      "Epoch 283/500\n",
      "46/46 [==============================] - 0s 10ms/step - loss: 0.0656 - accuracy: 0.9740 - val_loss: 0.0736 - val_accuracy: 0.9687\n",
      "Epoch 284/500\n"
     ]
    },
    {
     "data": {
      "application/vnd.jupyter.widget-view+json": {
       "model_id": "349d8102b4ac4894a3a976c59af66466",
       "version_major": 2,
       "version_minor": 0
      },
      "text/plain": [
       "0/46           ETA: ?s - "
      ]
     },
     "metadata": {},
     "output_type": "display_data"
    },
    {
     "name": "stdout",
     "output_type": "stream",
     "text": [
      "Epoch 284/500\n",
      "46/46 [==============================] - 0s 10ms/step - loss: 0.0657 - accuracy: 0.9747 - val_loss: 0.0778 - val_accuracy: 0.9633\n",
      "Epoch 285/500\n"
     ]
    },
    {
     "data": {
      "application/vnd.jupyter.widget-view+json": {
       "model_id": "a875cc8c44de414088d4b9a4d7ea0da5",
       "version_major": 2,
       "version_minor": 0
      },
      "text/plain": [
       "0/46           ETA: ?s - "
      ]
     },
     "metadata": {},
     "output_type": "display_data"
    },
    {
     "name": "stdout",
     "output_type": "stream",
     "text": [
      "Epoch 285/500\n",
      "46/46 [==============================] - 0s 10ms/step - loss: 0.0650 - accuracy: 0.9725 - val_loss: 0.0712 - val_accuracy: 0.9701\n",
      "Epoch 286/500\n"
     ]
    },
    {
     "data": {
      "application/vnd.jupyter.widget-view+json": {
       "model_id": "9ba3547f2aca4be4ae23ebd23ef62216",
       "version_major": 2,
       "version_minor": 0
      },
      "text/plain": [
       "0/46           ETA: ?s - "
      ]
     },
     "metadata": {},
     "output_type": "display_data"
    },
    {
     "name": "stdout",
     "output_type": "stream",
     "text": [
      "Epoch 286/500\n",
      "46/46 [==============================] - 0s 10ms/step - loss: 0.0632 - accuracy: 0.9745 - val_loss: 0.0716 - val_accuracy: 0.9694\n",
      "Epoch 287/500\n"
     ]
    },
    {
     "data": {
      "application/vnd.jupyter.widget-view+json": {
       "model_id": "97c83745f1c74b2b970334f303fb2872",
       "version_major": 2,
       "version_minor": 0
      },
      "text/plain": [
       "0/46           ETA: ?s - "
      ]
     },
     "metadata": {},
     "output_type": "display_data"
    },
    {
     "name": "stdout",
     "output_type": "stream",
     "text": [
      "Epoch 287/500\n",
      "46/46 [==============================] - 0s 10ms/step - loss: 0.0636 - accuracy: 0.9733 - val_loss: 0.0706 - val_accuracy: 0.9674\n",
      "Epoch 288/500\n"
     ]
    },
    {
     "data": {
      "application/vnd.jupyter.widget-view+json": {
       "model_id": "d52d78c31bc14586ba0a04032473655b",
       "version_major": 2,
       "version_minor": 0
      },
      "text/plain": [
       "0/46           ETA: ?s - "
      ]
     },
     "metadata": {},
     "output_type": "display_data"
    },
    {
     "name": "stdout",
     "output_type": "stream",
     "text": [
      "Epoch 288/500\n",
      "46/46 [==============================] - 0s 10ms/step - loss: 0.0658 - accuracy: 0.9721 - val_loss: 0.0699 - val_accuracy: 0.9714\n",
      "Epoch 289/500\n"
     ]
    },
    {
     "data": {
      "application/vnd.jupyter.widget-view+json": {
       "model_id": "8b93e3510dae4d5eabfd37ba92b98ba3",
       "version_major": 2,
       "version_minor": 0
      },
      "text/plain": [
       "0/46           ETA: ?s - "
      ]
     },
     "metadata": {},
     "output_type": "display_data"
    },
    {
     "name": "stdout",
     "output_type": "stream",
     "text": [
      "Epoch 289/500\n",
      "46/46 [==============================] - 0s 10ms/step - loss: 0.0638 - accuracy: 0.9733 - val_loss: 0.0755 - val_accuracy: 0.9701\n",
      "Epoch 290/500\n"
     ]
    },
    {
     "data": {
      "application/vnd.jupyter.widget-view+json": {
       "model_id": "813c6abfd7144808bc852525a49fd700",
       "version_major": 2,
       "version_minor": 0
      },
      "text/plain": [
       "0/46           ETA: ?s - "
      ]
     },
     "metadata": {},
     "output_type": "display_data"
    },
    {
     "name": "stdout",
     "output_type": "stream",
     "text": [
      "Epoch 290/500\n",
      "46/46 [==============================] - 0s 10ms/step - loss: 0.0646 - accuracy: 0.9716 - val_loss: 0.0708 - val_accuracy: 0.9701\n",
      "Epoch 291/500\n"
     ]
    },
    {
     "data": {
      "application/vnd.jupyter.widget-view+json": {
       "model_id": "6be2520d16ab4f89b6d6acb5100b7452",
       "version_major": 2,
       "version_minor": 0
      },
      "text/plain": [
       "0/46           ETA: ?s - "
      ]
     },
     "metadata": {},
     "output_type": "display_data"
    },
    {
     "name": "stdout",
     "output_type": "stream",
     "text": [
      "Epoch 291/500\n",
      "46/46 [==============================] - 0s 10ms/step - loss: 0.0673 - accuracy: 0.9696 - val_loss: 0.0690 - val_accuracy: 0.9687\n",
      "Epoch 292/500\n"
     ]
    },
    {
     "data": {
      "application/vnd.jupyter.widget-view+json": {
       "model_id": "4bb5aa7f8a2d4d7094766de1710595bc",
       "version_major": 2,
       "version_minor": 0
      },
      "text/plain": [
       "0/46           ETA: ?s - "
      ]
     },
     "metadata": {},
     "output_type": "display_data"
    },
    {
     "name": "stdout",
     "output_type": "stream",
     "text": [
      "Epoch 292/500\n",
      "46/46 [==============================] - 0s 10ms/step - loss: 0.0642 - accuracy: 0.9718 - val_loss: 0.0687 - val_accuracy: 0.9701\n",
      "Epoch 293/500\n"
     ]
    },
    {
     "data": {
      "application/vnd.jupyter.widget-view+json": {
       "model_id": "597171191278494a952dd6750f525f5b",
       "version_major": 2,
       "version_minor": 0
      },
      "text/plain": [
       "0/46           ETA: ?s - "
      ]
     },
     "metadata": {},
     "output_type": "display_data"
    },
    {
     "name": "stdout",
     "output_type": "stream",
     "text": [
      "Epoch 293/500\n",
      "46/46 [==============================] - 0s 10ms/step - loss: 0.0652 - accuracy: 0.9718 - val_loss: 0.0709 - val_accuracy: 0.9708\n",
      "Epoch 294/500\n"
     ]
    },
    {
     "data": {
      "application/vnd.jupyter.widget-view+json": {
       "model_id": "0f75dc817cb34a649d8a5febd3832541",
       "version_major": 2,
       "version_minor": 0
      },
      "text/plain": [
       "0/46           ETA: ?s - "
      ]
     },
     "metadata": {},
     "output_type": "display_data"
    },
    {
     "name": "stdout",
     "output_type": "stream",
     "text": [
      "Epoch 294/500\n",
      "46/46 [==============================] - 0s 10ms/step - loss: 0.0651 - accuracy: 0.9728 - val_loss: 0.0706 - val_accuracy: 0.9708\n",
      "Epoch 295/500\n"
     ]
    },
    {
     "data": {
      "application/vnd.jupyter.widget-view+json": {
       "model_id": "69d9bc305bcf408ea8159a339c3f1a4b",
       "version_major": 2,
       "version_minor": 0
      },
      "text/plain": [
       "0/46           ETA: ?s - "
      ]
     },
     "metadata": {},
     "output_type": "display_data"
    },
    {
     "name": "stdout",
     "output_type": "stream",
     "text": [
      "Epoch 295/500\n",
      "46/46 [==============================] - 0s 10ms/step - loss: 0.0668 - accuracy: 0.9709 - val_loss: 0.0683 - val_accuracy: 0.9701\n",
      "Epoch 296/500\n"
     ]
    },
    {
     "data": {
      "application/vnd.jupyter.widget-view+json": {
       "model_id": "75f137e3a4d3466d90e807abb2f1e924",
       "version_major": 2,
       "version_minor": 0
      },
      "text/plain": [
       "0/46           ETA: ?s - "
      ]
     },
     "metadata": {},
     "output_type": "display_data"
    },
    {
     "name": "stdout",
     "output_type": "stream",
     "text": [
      "Epoch 296/500\n",
      "46/46 [==============================] - 0s 10ms/step - loss: 0.0637 - accuracy: 0.9735 - val_loss: 0.0691 - val_accuracy: 0.9687\n",
      "Epoch 297/500\n"
     ]
    },
    {
     "data": {
      "application/vnd.jupyter.widget-view+json": {
       "model_id": "65a4ab0c2bb14d75b2f5cb03ee9c146a",
       "version_major": 2,
       "version_minor": 0
      },
      "text/plain": [
       "0/46           ETA: ?s - "
      ]
     },
     "metadata": {},
     "output_type": "display_data"
    },
    {
     "name": "stdout",
     "output_type": "stream",
     "text": [
      "Epoch 297/500\n",
      "46/46 [==============================] - 0s 10ms/step - loss: 0.0635 - accuracy: 0.9718 - val_loss: 0.0716 - val_accuracy: 0.9694\n",
      "Epoch 298/500\n"
     ]
    },
    {
     "data": {
      "application/vnd.jupyter.widget-view+json": {
       "model_id": "57a39e0c9480422c86182260339c901f",
       "version_major": 2,
       "version_minor": 0
      },
      "text/plain": [
       "0/46           ETA: ?s - "
      ]
     },
     "metadata": {},
     "output_type": "display_data"
    },
    {
     "name": "stdout",
     "output_type": "stream",
     "text": [
      "Epoch 298/500\n",
      "46/46 [==============================] - 0s 10ms/step - loss: 0.0625 - accuracy: 0.9725 - val_loss: 0.0726 - val_accuracy: 0.9680\n",
      "Epoch 299/500\n"
     ]
    },
    {
     "data": {
      "application/vnd.jupyter.widget-view+json": {
       "model_id": "1b377be6ef204f6fa02fc8be89c905c9",
       "version_major": 2,
       "version_minor": 0
      },
      "text/plain": [
       "0/46           ETA: ?s - "
      ]
     },
     "metadata": {},
     "output_type": "display_data"
    },
    {
     "name": "stdout",
     "output_type": "stream",
     "text": [
      "Epoch 299/500\n",
      "46/46 [==============================] - 0s 10ms/step - loss: 0.0634 - accuracy: 0.9740 - val_loss: 0.0697 - val_accuracy: 0.9708\n",
      "Epoch 300/500\n"
     ]
    },
    {
     "data": {
      "application/vnd.jupyter.widget-view+json": {
       "model_id": "89cc1d3bb19e481ab41ea2f932b34173",
       "version_major": 2,
       "version_minor": 0
      },
      "text/plain": [
       "0/46           ETA: ?s - "
      ]
     },
     "metadata": {},
     "output_type": "display_data"
    },
    {
     "name": "stdout",
     "output_type": "stream",
     "text": [
      "Epoch 300/500\n",
      "46/46 [==============================] - 0s 10ms/step - loss: 0.0643 - accuracy: 0.9733 - val_loss: 0.0708 - val_accuracy: 0.9708\n",
      "Epoch 301/500\n"
     ]
    },
    {
     "data": {
      "application/vnd.jupyter.widget-view+json": {
       "model_id": "a27e859b5c354666a430a992aeb7feee",
       "version_major": 2,
       "version_minor": 0
      },
      "text/plain": [
       "0/46           ETA: ?s - "
      ]
     },
     "metadata": {},
     "output_type": "display_data"
    },
    {
     "name": "stdout",
     "output_type": "stream",
     "text": [
      "Epoch 301/500\n",
      "46/46 [==============================] - 0s 10ms/step - loss: 0.0632 - accuracy: 0.9719 - val_loss: 0.0690 - val_accuracy: 0.9728\n",
      "Epoch 302/500\n"
     ]
    },
    {
     "data": {
      "application/vnd.jupyter.widget-view+json": {
       "model_id": "88832ea248e4432da477bbcf8798decc",
       "version_major": 2,
       "version_minor": 0
      },
      "text/plain": [
       "0/46           ETA: ?s - "
      ]
     },
     "metadata": {},
     "output_type": "display_data"
    },
    {
     "name": "stdout",
     "output_type": "stream",
     "text": [
      "Epoch 302/500\n",
      "46/46 [==============================] - 0s 9ms/step - loss: 0.0630 - accuracy: 0.9730 - val_loss: 0.0688 - val_accuracy: 0.9714\n",
      "Epoch 303/500\n"
     ]
    },
    {
     "data": {
      "application/vnd.jupyter.widget-view+json": {
       "model_id": "63da687bd8f74b1fa21295cb0c586280",
       "version_major": 2,
       "version_minor": 0
      },
      "text/plain": [
       "0/46           ETA: ?s - "
      ]
     },
     "metadata": {},
     "output_type": "display_data"
    },
    {
     "name": "stdout",
     "output_type": "stream",
     "text": [
      "Epoch 303/500\n",
      "46/46 [==============================] - 0s 10ms/step - loss: 0.0625 - accuracy: 0.9755 - val_loss: 0.0706 - val_accuracy: 0.9701\n",
      "Epoch 304/500\n"
     ]
    },
    {
     "data": {
      "application/vnd.jupyter.widget-view+json": {
       "model_id": "14b85a6ba85043f2ade4558b5b13b207",
       "version_major": 2,
       "version_minor": 0
      },
      "text/plain": [
       "0/46           ETA: ?s - "
      ]
     },
     "metadata": {},
     "output_type": "display_data"
    },
    {
     "name": "stdout",
     "output_type": "stream",
     "text": [
      "Epoch 304/500\n",
      "46/46 [==============================] - 0s 10ms/step - loss: 0.0629 - accuracy: 0.9742 - val_loss: 0.0710 - val_accuracy: 0.9660\n",
      "Epoch 305/500\n"
     ]
    },
    {
     "data": {
      "application/vnd.jupyter.widget-view+json": {
       "model_id": "ef05d8402fc24abfb69139d4b40b1c18",
       "version_major": 2,
       "version_minor": 0
      },
      "text/plain": [
       "0/46           ETA: ?s - "
      ]
     },
     "metadata": {},
     "output_type": "display_data"
    },
    {
     "name": "stdout",
     "output_type": "stream",
     "text": [
      "Epoch 305/500\n",
      "46/46 [==============================] - 0s 10ms/step - loss: 0.0628 - accuracy: 0.9743 - val_loss: 0.0695 - val_accuracy: 0.9680\n",
      "Epoch 306/500\n"
     ]
    },
    {
     "data": {
      "application/vnd.jupyter.widget-view+json": {
       "model_id": "06a9547bf79b45c3b26bdf234824bbe5",
       "version_major": 2,
       "version_minor": 0
      },
      "text/plain": [
       "0/46           ETA: ?s - "
      ]
     },
     "metadata": {},
     "output_type": "display_data"
    },
    {
     "name": "stdout",
     "output_type": "stream",
     "text": [
      "Epoch 306/500\n",
      "46/46 [==============================] - 0s 10ms/step - loss: 0.0659 - accuracy: 0.9726 - val_loss: 0.0692 - val_accuracy: 0.9714\n",
      "Epoch 307/500\n"
     ]
    },
    {
     "data": {
      "application/vnd.jupyter.widget-view+json": {
       "model_id": "4ad253ecec154eccadc6a2fb0482ec3b",
       "version_major": 2,
       "version_minor": 0
      },
      "text/plain": [
       "0/46           ETA: ?s - "
      ]
     },
     "metadata": {},
     "output_type": "display_data"
    },
    {
     "name": "stdout",
     "output_type": "stream",
     "text": [
      "Epoch 307/500\n",
      "46/46 [==============================] - 0s 10ms/step - loss: 0.0617 - accuracy: 0.9743 - val_loss: 0.0707 - val_accuracy: 0.9701\n",
      "Epoch 308/500\n"
     ]
    },
    {
     "data": {
      "application/vnd.jupyter.widget-view+json": {
       "model_id": "934aeb490f8d4d07ac9573fd2fdf5e91",
       "version_major": 2,
       "version_minor": 0
      },
      "text/plain": [
       "0/46           ETA: ?s - "
      ]
     },
     "metadata": {},
     "output_type": "display_data"
    },
    {
     "name": "stdout",
     "output_type": "stream",
     "text": [
      "Epoch 308/500\n",
      "46/46 [==============================] - 0s 10ms/step - loss: 0.0636 - accuracy: 0.9731 - val_loss: 0.0721 - val_accuracy: 0.9694\n",
      "Epoch 309/500\n"
     ]
    },
    {
     "data": {
      "application/vnd.jupyter.widget-view+json": {
       "model_id": "c57aa09cb6794b3c9ea01318b3d4b763",
       "version_major": 2,
       "version_minor": 0
      },
      "text/plain": [
       "0/46           ETA: ?s - "
      ]
     },
     "metadata": {},
     "output_type": "display_data"
    },
    {
     "name": "stdout",
     "output_type": "stream",
     "text": [
      "Epoch 309/500\n",
      "46/46 [==============================] - 0s 10ms/step - loss: 0.0632 - accuracy: 0.9745 - val_loss: 0.0695 - val_accuracy: 0.9708\n",
      "Epoch 310/500\n"
     ]
    },
    {
     "data": {
      "application/vnd.jupyter.widget-view+json": {
       "model_id": "b36c262c4a144e39a73ebfa1b0a51454",
       "version_major": 2,
       "version_minor": 0
      },
      "text/plain": [
       "0/46           ETA: ?s - "
      ]
     },
     "metadata": {},
     "output_type": "display_data"
    },
    {
     "name": "stdout",
     "output_type": "stream",
     "text": [
      "Epoch 310/500\n",
      "46/46 [==============================] - 0s 10ms/step - loss: 0.0629 - accuracy: 0.9750 - val_loss: 0.0665 - val_accuracy: 0.9708\n",
      "Epoch 311/500\n"
     ]
    },
    {
     "data": {
      "application/vnd.jupyter.widget-view+json": {
       "model_id": "cb5e813cc5454aeebbd03f985e965b30",
       "version_major": 2,
       "version_minor": 0
      },
      "text/plain": [
       "0/46           ETA: ?s - "
      ]
     },
     "metadata": {},
     "output_type": "display_data"
    },
    {
     "name": "stdout",
     "output_type": "stream",
     "text": [
      "Epoch 311/500\n",
      "46/46 [==============================] - 0s 10ms/step - loss: 0.0631 - accuracy: 0.9743 - val_loss: 0.0676 - val_accuracy: 0.9721\n",
      "Epoch 312/500\n"
     ]
    },
    {
     "data": {
      "application/vnd.jupyter.widget-view+json": {
       "model_id": "0b8f4e2a9e094f1389eb300de1a43bd8",
       "version_major": 2,
       "version_minor": 0
      },
      "text/plain": [
       "0/46           ETA: ?s - "
      ]
     },
     "metadata": {},
     "output_type": "display_data"
    },
    {
     "name": "stdout",
     "output_type": "stream",
     "text": [
      "Epoch 312/500\n",
      "46/46 [==============================] - 0s 10ms/step - loss: 0.0615 - accuracy: 0.9740 - val_loss: 0.0658 - val_accuracy: 0.9701\n",
      "Epoch 313/500\n"
     ]
    },
    {
     "data": {
      "application/vnd.jupyter.widget-view+json": {
       "model_id": "3ce9ccf635294c3c8ce85f3330548ec4",
       "version_major": 2,
       "version_minor": 0
      },
      "text/plain": [
       "0/46           ETA: ?s - "
      ]
     },
     "metadata": {},
     "output_type": "display_data"
    },
    {
     "name": "stdout",
     "output_type": "stream",
     "text": [
      "Epoch 313/500\n",
      "46/46 [==============================] - 0s 10ms/step - loss: 0.0618 - accuracy: 0.9713 - val_loss: 0.0682 - val_accuracy: 0.9714\n",
      "Epoch 314/500\n"
     ]
    },
    {
     "data": {
      "application/vnd.jupyter.widget-view+json": {
       "model_id": "2dcf8a013aab4786b68cd58bba62e7ca",
       "version_major": 2,
       "version_minor": 0
      },
      "text/plain": [
       "0/46           ETA: ?s - "
      ]
     },
     "metadata": {},
     "output_type": "display_data"
    },
    {
     "name": "stdout",
     "output_type": "stream",
     "text": [
      "Epoch 314/500\n",
      "46/46 [==============================] - 0s 10ms/step - loss: 0.0615 - accuracy: 0.9725 - val_loss: 0.0706 - val_accuracy: 0.9694\n",
      "Epoch 315/500\n"
     ]
    },
    {
     "data": {
      "application/vnd.jupyter.widget-view+json": {
       "model_id": "da979c47bae84cec994519a50ce5c74f",
       "version_major": 2,
       "version_minor": 0
      },
      "text/plain": [
       "0/46           ETA: ?s - "
      ]
     },
     "metadata": {},
     "output_type": "display_data"
    },
    {
     "name": "stdout",
     "output_type": "stream",
     "text": [
      "Epoch 315/500\n",
      "46/46 [==============================] - 0s 10ms/step - loss: 0.0639 - accuracy: 0.9725 - val_loss: 0.0706 - val_accuracy: 0.9694\n",
      "Epoch 316/500\n"
     ]
    },
    {
     "data": {
      "application/vnd.jupyter.widget-view+json": {
       "model_id": "b66d4f6537fe49fdb673f50289a316ad",
       "version_major": 2,
       "version_minor": 0
      },
      "text/plain": [
       "0/46           ETA: ?s - "
      ]
     },
     "metadata": {},
     "output_type": "display_data"
    },
    {
     "name": "stdout",
     "output_type": "stream",
     "text": [
      "Epoch 316/500\n",
      "46/46 [==============================] - 0s 10ms/step - loss: 0.0632 - accuracy: 0.9719 - val_loss: 0.0689 - val_accuracy: 0.9694\n",
      "Epoch 317/500\n"
     ]
    },
    {
     "data": {
      "application/vnd.jupyter.widget-view+json": {
       "model_id": "7dffe367d87c4b07a482a2c5c04ea975",
       "version_major": 2,
       "version_minor": 0
      },
      "text/plain": [
       "0/46           ETA: ?s - "
      ]
     },
     "metadata": {},
     "output_type": "display_data"
    },
    {
     "name": "stdout",
     "output_type": "stream",
     "text": [
      "Epoch 317/500\n",
      "46/46 [==============================] - 0s 10ms/step - loss: 0.0624 - accuracy: 0.9725 - val_loss: 0.0689 - val_accuracy: 0.9701\n",
      "Epoch 318/500\n"
     ]
    },
    {
     "data": {
      "application/vnd.jupyter.widget-view+json": {
       "model_id": "39d26444c0084e4bba07e7c308667aca",
       "version_major": 2,
       "version_minor": 0
      },
      "text/plain": [
       "0/46           ETA: ?s - "
      ]
     },
     "metadata": {},
     "output_type": "display_data"
    },
    {
     "name": "stdout",
     "output_type": "stream",
     "text": [
      "Epoch 318/500\n",
      "46/46 [==============================] - 0s 10ms/step - loss: 0.0604 - accuracy: 0.9745 - val_loss: 0.0682 - val_accuracy: 0.9728\n",
      "Epoch 319/500\n"
     ]
    },
    {
     "data": {
      "application/vnd.jupyter.widget-view+json": {
       "model_id": "a20fad3850ff4d1ca3a98cb66c5b9c2f",
       "version_major": 2,
       "version_minor": 0
      },
      "text/plain": [
       "0/46           ETA: ?s - "
      ]
     },
     "metadata": {},
     "output_type": "display_data"
    },
    {
     "name": "stdout",
     "output_type": "stream",
     "text": [
      "Epoch 319/500\n",
      "46/46 [==============================] - 0s 10ms/step - loss: 0.0619 - accuracy: 0.9736 - val_loss: 0.0670 - val_accuracy: 0.9735\n",
      "Epoch 320/500\n"
     ]
    },
    {
     "data": {
      "application/vnd.jupyter.widget-view+json": {
       "model_id": "e9ba1f7d7db64b3aade2cea9a27609b4",
       "version_major": 2,
       "version_minor": 0
      },
      "text/plain": [
       "0/46           ETA: ?s - "
      ]
     },
     "metadata": {},
     "output_type": "display_data"
    },
    {
     "name": "stdout",
     "output_type": "stream",
     "text": [
      "Epoch 320/500\n",
      "46/46 [==============================] - 0s 10ms/step - loss: 0.0612 - accuracy: 0.9750 - val_loss: 0.0679 - val_accuracy: 0.9714\n",
      "Epoch 321/500\n"
     ]
    },
    {
     "data": {
      "application/vnd.jupyter.widget-view+json": {
       "model_id": "bfb1d38b2ea4435f9e22b0089a295efd",
       "version_major": 2,
       "version_minor": 0
      },
      "text/plain": [
       "0/46           ETA: ?s - "
      ]
     },
     "metadata": {},
     "output_type": "display_data"
    },
    {
     "name": "stdout",
     "output_type": "stream",
     "text": [
      "Epoch 321/500\n",
      "46/46 [==============================] - 0s 10ms/step - loss: 0.0634 - accuracy: 0.9735 - val_loss: 0.0675 - val_accuracy: 0.9728\n",
      "Epoch 322/500\n"
     ]
    },
    {
     "data": {
      "application/vnd.jupyter.widget-view+json": {
       "model_id": "a2ddf328083544819023a5a503d49fc0",
       "version_major": 2,
       "version_minor": 0
      },
      "text/plain": [
       "0/46           ETA: ?s - "
      ]
     },
     "metadata": {},
     "output_type": "display_data"
    },
    {
     "name": "stdout",
     "output_type": "stream",
     "text": [
      "Epoch 322/500\n",
      "46/46 [==============================] - 0s 10ms/step - loss: 0.0595 - accuracy: 0.9769 - val_loss: 0.0690 - val_accuracy: 0.9694\n",
      "Epoch 323/500\n"
     ]
    },
    {
     "data": {
      "application/vnd.jupyter.widget-view+json": {
       "model_id": "5a42456bfbdf47be88678c8a406f6291",
       "version_major": 2,
       "version_minor": 0
      },
      "text/plain": [
       "0/46           ETA: ?s - "
      ]
     },
     "metadata": {},
     "output_type": "display_data"
    },
    {
     "name": "stdout",
     "output_type": "stream",
     "text": [
      "Epoch 323/500\n",
      "46/46 [==============================] - 0s 10ms/step - loss: 0.0615 - accuracy: 0.9750 - val_loss: 0.0665 - val_accuracy: 0.9721\n",
      "Epoch 324/500\n"
     ]
    },
    {
     "data": {
      "application/vnd.jupyter.widget-view+json": {
       "model_id": "c0748c7987f540859835883bc79981e8",
       "version_major": 2,
       "version_minor": 0
      },
      "text/plain": [
       "0/46           ETA: ?s - "
      ]
     },
     "metadata": {},
     "output_type": "display_data"
    },
    {
     "name": "stdout",
     "output_type": "stream",
     "text": [
      "Epoch 324/500\n",
      "46/46 [==============================] - 0s 10ms/step - loss: 0.0630 - accuracy: 0.9735 - val_loss: 0.0722 - val_accuracy: 0.9708\n",
      "Epoch 325/500\n"
     ]
    },
    {
     "data": {
      "application/vnd.jupyter.widget-view+json": {
       "model_id": "9c396929a6884d699ecd19dea976ebd1",
       "version_major": 2,
       "version_minor": 0
      },
      "text/plain": [
       "0/46           ETA: ?s - "
      ]
     },
     "metadata": {},
     "output_type": "display_data"
    },
    {
     "name": "stdout",
     "output_type": "stream",
     "text": [
      "Epoch 325/500\n",
      "46/46 [==============================] - 0s 10ms/step - loss: 0.0628 - accuracy: 0.9736 - val_loss: 0.0690 - val_accuracy: 0.9694\n",
      "Epoch 326/500\n"
     ]
    },
    {
     "data": {
      "application/vnd.jupyter.widget-view+json": {
       "model_id": "f8172f5031b749859c9984775647f5fe",
       "version_major": 2,
       "version_minor": 0
      },
      "text/plain": [
       "0/46           ETA: ?s - "
      ]
     },
     "metadata": {},
     "output_type": "display_data"
    },
    {
     "name": "stdout",
     "output_type": "stream",
     "text": [
      "Epoch 326/500\n",
      "46/46 [==============================] - 0s 10ms/step - loss: 0.0621 - accuracy: 0.9759 - val_loss: 0.0669 - val_accuracy: 0.9728\n",
      "Epoch 327/500\n"
     ]
    },
    {
     "data": {
      "application/vnd.jupyter.widget-view+json": {
       "model_id": "dffc95367bdc49a0875337531133d51a",
       "version_major": 2,
       "version_minor": 0
      },
      "text/plain": [
       "0/46           ETA: ?s - "
      ]
     },
     "metadata": {},
     "output_type": "display_data"
    },
    {
     "name": "stdout",
     "output_type": "stream",
     "text": [
      "Epoch 327/500\n",
      "46/46 [==============================] - 0s 10ms/step - loss: 0.0613 - accuracy: 0.9738 - val_loss: 0.0733 - val_accuracy: 0.9701\n",
      "Epoch 328/500\n"
     ]
    },
    {
     "data": {
      "application/vnd.jupyter.widget-view+json": {
       "model_id": "68bb9e457920406e97bc7f333431ef58",
       "version_major": 2,
       "version_minor": 0
      },
      "text/plain": [
       "0/46           ETA: ?s - "
      ]
     },
     "metadata": {},
     "output_type": "display_data"
    },
    {
     "name": "stdout",
     "output_type": "stream",
     "text": [
      "Epoch 328/500\n",
      "46/46 [==============================] - 0s 10ms/step - loss: 0.0613 - accuracy: 0.9728 - val_loss: 0.0728 - val_accuracy: 0.9714\n",
      "Epoch 329/500\n"
     ]
    },
    {
     "data": {
      "application/vnd.jupyter.widget-view+json": {
       "model_id": "c57a0a07b4244ef49d744c31a72b98cd",
       "version_major": 2,
       "version_minor": 0
      },
      "text/plain": [
       "0/46           ETA: ?s - "
      ]
     },
     "metadata": {},
     "output_type": "display_data"
    },
    {
     "name": "stdout",
     "output_type": "stream",
     "text": [
      "Epoch 329/500\n",
      "46/46 [==============================] - 0s 10ms/step - loss: 0.0596 - accuracy: 0.9776 - val_loss: 0.0682 - val_accuracy: 0.9701\n",
      "Epoch 330/500\n"
     ]
    },
    {
     "data": {
      "application/vnd.jupyter.widget-view+json": {
       "model_id": "27181bf1d25241e2b9900a380120521e",
       "version_major": 2,
       "version_minor": 0
      },
      "text/plain": [
       "0/46           ETA: ?s - "
      ]
     },
     "metadata": {},
     "output_type": "display_data"
    },
    {
     "name": "stdout",
     "output_type": "stream",
     "text": [
      "Epoch 330/500\n",
      "46/46 [==============================] - 0s 10ms/step - loss: 0.0608 - accuracy: 0.9736 - val_loss: 0.0668 - val_accuracy: 0.9708\n",
      "Epoch 331/500\n"
     ]
    },
    {
     "data": {
      "application/vnd.jupyter.widget-view+json": {
       "model_id": "376d029c7f4b49cbba073acbc9cacc92",
       "version_major": 2,
       "version_minor": 0
      },
      "text/plain": [
       "0/46           ETA: ?s - "
      ]
     },
     "metadata": {},
     "output_type": "display_data"
    },
    {
     "name": "stdout",
     "output_type": "stream",
     "text": [
      "Epoch 331/500\n",
      "46/46 [==============================] - 0s 10ms/step - loss: 0.0573 - accuracy: 0.9762 - val_loss: 0.0697 - val_accuracy: 0.9701\n",
      "Epoch 332/500\n"
     ]
    },
    {
     "data": {
      "application/vnd.jupyter.widget-view+json": {
       "model_id": "648be54906444b5a969176aac1fb17f4",
       "version_major": 2,
       "version_minor": 0
      },
      "text/plain": [
       "0/46           ETA: ?s - "
      ]
     },
     "metadata": {},
     "output_type": "display_data"
    },
    {
     "name": "stdout",
     "output_type": "stream",
     "text": [
      "Epoch 332/500\n",
      "46/46 [==============================] - 0s 10ms/step - loss: 0.0606 - accuracy: 0.9733 - val_loss: 0.0717 - val_accuracy: 0.9728\n",
      "Epoch 333/500\n"
     ]
    },
    {
     "data": {
      "application/vnd.jupyter.widget-view+json": {
       "model_id": "57b63c0fb3184596833e4a254ebb6548",
       "version_major": 2,
       "version_minor": 0
      },
      "text/plain": [
       "0/46           ETA: ?s - "
      ]
     },
     "metadata": {},
     "output_type": "display_data"
    },
    {
     "name": "stdout",
     "output_type": "stream",
     "text": [
      "Epoch 333/500\n",
      "46/46 [==============================] - 0s 10ms/step - loss: 0.0601 - accuracy: 0.9764 - val_loss: 0.0678 - val_accuracy: 0.9687\n",
      "Epoch 334/500\n"
     ]
    },
    {
     "data": {
      "application/vnd.jupyter.widget-view+json": {
       "model_id": "f88d1a3f020142ee9f8b278a30de3d8c",
       "version_major": 2,
       "version_minor": 0
      },
      "text/plain": [
       "0/46           ETA: ?s - "
      ]
     },
     "metadata": {},
     "output_type": "display_data"
    },
    {
     "name": "stdout",
     "output_type": "stream",
     "text": [
      "Epoch 334/500\n",
      "46/46 [==============================] - 0s 10ms/step - loss: 0.0603 - accuracy: 0.9747 - val_loss: 0.0679 - val_accuracy: 0.9714\n",
      "Epoch 335/500\n"
     ]
    },
    {
     "data": {
      "application/vnd.jupyter.widget-view+json": {
       "model_id": "24f408c2a7a849eeb4d02c228ce46b9d",
       "version_major": 2,
       "version_minor": 0
      },
      "text/plain": [
       "0/46           ETA: ?s - "
      ]
     },
     "metadata": {},
     "output_type": "display_data"
    },
    {
     "name": "stdout",
     "output_type": "stream",
     "text": [
      "Epoch 335/500\n",
      "46/46 [==============================] - 0s 10ms/step - loss: 0.0603 - accuracy: 0.9750 - val_loss: 0.0683 - val_accuracy: 0.9701\n",
      "Epoch 336/500\n"
     ]
    },
    {
     "data": {
      "application/vnd.jupyter.widget-view+json": {
       "model_id": "9190336997274c38a00079bb391ba288",
       "version_major": 2,
       "version_minor": 0
      },
      "text/plain": [
       "0/46           ETA: ?s - "
      ]
     },
     "metadata": {},
     "output_type": "display_data"
    },
    {
     "name": "stdout",
     "output_type": "stream",
     "text": [
      "Epoch 336/500\n",
      "46/46 [==============================] - 0s 10ms/step - loss: 0.0601 - accuracy: 0.9769 - val_loss: 0.0679 - val_accuracy: 0.9735\n",
      "Epoch 337/500\n"
     ]
    },
    {
     "data": {
      "application/vnd.jupyter.widget-view+json": {
       "model_id": "7896076510ce476aa0aaec8b34a34125",
       "version_major": 2,
       "version_minor": 0
      },
      "text/plain": [
       "0/46           ETA: ?s - "
      ]
     },
     "metadata": {},
     "output_type": "display_data"
    },
    {
     "name": "stdout",
     "output_type": "stream",
     "text": [
      "Epoch 337/500\n",
      "46/46 [==============================] - 0s 10ms/step - loss: 0.0594 - accuracy: 0.9748 - val_loss: 0.0692 - val_accuracy: 0.9680\n",
      "Epoch 338/500\n"
     ]
    },
    {
     "data": {
      "application/vnd.jupyter.widget-view+json": {
       "model_id": "a7c23a23242f417489d0e14afb31c721",
       "version_major": 2,
       "version_minor": 0
      },
      "text/plain": [
       "0/46           ETA: ?s - "
      ]
     },
     "metadata": {},
     "output_type": "display_data"
    },
    {
     "name": "stdout",
     "output_type": "stream",
     "text": [
      "Epoch 338/500\n",
      "46/46 [==============================] - 0s 10ms/step - loss: 0.0610 - accuracy: 0.9745 - val_loss: 0.0661 - val_accuracy: 0.9714\n",
      "Epoch 339/500\n"
     ]
    },
    {
     "data": {
      "application/vnd.jupyter.widget-view+json": {
       "model_id": "f986478587184aea8033e9c45da5d433",
       "version_major": 2,
       "version_minor": 0
      },
      "text/plain": [
       "0/46           ETA: ?s - "
      ]
     },
     "metadata": {},
     "output_type": "display_data"
    },
    {
     "name": "stdout",
     "output_type": "stream",
     "text": [
      "Epoch 339/500\n",
      "46/46 [==============================] - 0s 10ms/step - loss: 0.0611 - accuracy: 0.9738 - val_loss: 0.0661 - val_accuracy: 0.9708\n",
      "Epoch 340/500\n"
     ]
    },
    {
     "data": {
      "application/vnd.jupyter.widget-view+json": {
       "model_id": "f5862ab82dbf4883ac552591d3466e2a",
       "version_major": 2,
       "version_minor": 0
      },
      "text/plain": [
       "0/46           ETA: ?s - "
      ]
     },
     "metadata": {},
     "output_type": "display_data"
    },
    {
     "name": "stdout",
     "output_type": "stream",
     "text": [
      "Epoch 340/500\n",
      "46/46 [==============================] - 0s 10ms/step - loss: 0.0614 - accuracy: 0.9738 - val_loss: 0.0669 - val_accuracy: 0.9721\n",
      "Epoch 341/500\n"
     ]
    },
    {
     "data": {
      "application/vnd.jupyter.widget-view+json": {
       "model_id": "5f12e6347247471d81fe1c7287274962",
       "version_major": 2,
       "version_minor": 0
      },
      "text/plain": [
       "0/46           ETA: ?s - "
      ]
     },
     "metadata": {},
     "output_type": "display_data"
    },
    {
     "name": "stdout",
     "output_type": "stream",
     "text": [
      "Epoch 341/500\n",
      "46/46 [==============================] - 0s 10ms/step - loss: 0.0601 - accuracy: 0.9757 - val_loss: 0.0731 - val_accuracy: 0.9653\n",
      "Epoch 342/500\n"
     ]
    },
    {
     "data": {
      "application/vnd.jupyter.widget-view+json": {
       "model_id": "d9c4f4097ccb451e9643d3a61c966803",
       "version_major": 2,
       "version_minor": 0
      },
      "text/plain": [
       "0/46           ETA: ?s - "
      ]
     },
     "metadata": {},
     "output_type": "display_data"
    },
    {
     "name": "stdout",
     "output_type": "stream",
     "text": [
      "Epoch 342/500\n",
      "46/46 [==============================] - 0s 10ms/step - loss: 0.0618 - accuracy: 0.9742 - val_loss: 0.0674 - val_accuracy: 0.9708\n"
     ]
    },
    {
     "data": {
      "text/plain": [
       "<keras.callbacks.History at 0x7f43c64b9a00>"
      ]
     },
     "execution_count": 13,
     "metadata": {},
     "output_type": "execute_result"
    }
   ],
   "source": [
    "model.fit(x_input, y_input, \n",
    "          epochs=500, \n",
    "          batch_size=128,\n",
    "          validation_data=(x_val, y_val),\n",
    "          callbacks=[tensorboard_callback, tqdm_callback, early_stopping_callbacks]\n",
    "         )"
   ]
  },
  {
   "cell_type": "markdown",
   "id": "43bada6a-9873-48f6-a512-ce57a487940d",
   "metadata": {},
   "source": [
    "### Calculate test accuracy"
   ]
  },
  {
   "cell_type": "code",
   "execution_count": 14,
   "id": "003964ee-7a17-4f5c-a2f7-948f85c47d4a",
   "metadata": {},
   "outputs": [
    {
     "name": "stdout",
     "output_type": "stream",
     "text": [
      "(2947, 128, 9)\n",
      "(2947, 6)\n"
     ]
    }
   ],
   "source": [
    "#one-hot encoding for labels\n",
    "ytest = tf.keras.utils.to_categorical(ytest)\n",
    "xtest = tf.convert_to_tensor(xtest, tf.float32)\n",
    "print(xtest.shape)\n",
    "print(ytest.shape)"
   ]
  },
  {
   "cell_type": "code",
   "execution_count": 15,
   "id": "9b03cdb1-9ea7-4652-bf00-60c65099fb1a",
   "metadata": {},
   "outputs": [
    {
     "name": "stdout",
     "output_type": "stream",
     "text": [
      "93/93 [==============================] - 0s 3ms/step - loss: 0.2229 - accuracy: 0.9440\n",
      "Test Accuracy : 0.944010853767395\n",
      "Test Loss : 0.2228650599718094\n"
     ]
    }
   ],
   "source": [
    "loss, accuracy = model.evaluate(xtest, ytest, verbose = 1)\n",
    "print(\"Test Accuracy :\", accuracy)\n",
    "print(\"Test Loss :\", loss)"
   ]
  },
  {
   "cell_type": "code",
   "execution_count": 17,
   "id": "7ff017c5-7f60-428f-a84c-7d70d8991943",
   "metadata": {},
   "outputs": [
    {
     "data": {
      "text/plain": [
       "(2947, 6)"
      ]
     },
     "execution_count": 17,
     "metadata": {},
     "output_type": "execute_result"
    }
   ],
   "source": [
    "predictions = model.predict(xtest)\n",
    "predictions.shape"
   ]
  },
  {
   "cell_type": "code",
   "execution_count": 18,
   "id": "4c28f412-c4f9-46cc-b197-f14dab023d5c",
   "metadata": {},
   "outputs": [
    {
     "data": {
      "image/png": "[encoded data removed]",
      "text/plain": [
       "<Figure size 640x480 with 2 Axes>"
      ]
     },
     "metadata": {},
     "output_type": "display_data"
    }
   ],
   "source": [
    "class_labels = ['Walking', 'Walking Upstairs', 'Walking downstairs', 'Sitting', 'Standing', 'Laying']\n",
    "\n",
    "from sklearn.metrics import confusion_matrix\n",
    "\n",
    "max_test = np.argmax(ytest, axis=1)\n",
    "max_predictions = np.argmax(predictions, axis=1)\n",
    "confusion_matrix = confusion_matrix(max_test, max_predictions)\n",
    "sns.heatmap(confusion_matrix, xticklabels = class_labels, yticklabels = class_labels, annot = True, linewidths = 0.1, fmt='d', cmap = 'YlGnBu')\n",
    "plt.title(\"Confusion matrix\", fontsize = 15)\n",
    "plt.ylabel('True label')\n",
    "plt.xlabel('Predicted label')\n",
    "plt.show()"
   ]
  }
 ],
 "metadata": {
  "kernelspec": {
   "display_name": "Python 3 (ipykernel)",
   "language": "python",
   "name": "python3"
  },
  "language_info": {
   "codemirror_mode": {
    "name": "ipython",
    "version": 3
   },
   "file_extension": ".py",
   "mimetype": "text/x-python",
   "name": "python",
   "nbconvert_exporter": "python",
   "pygments_lexer": "ipython3",
   "version": "3.8.16"
  }
 },
 "nbformat": 4,
 "nbformat_minor": 5
}
