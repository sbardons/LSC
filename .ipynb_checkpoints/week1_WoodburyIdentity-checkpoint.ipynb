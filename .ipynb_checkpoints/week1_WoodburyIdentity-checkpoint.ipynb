{
 "cells": [
  {
   "cell_type": "markdown",
   "metadata": {
    "id": "ZemsolSIyULq"
   },
   "source": [
    "# Woodbury Identity"
   ]
  },
  {
   "cell_type": "markdown",
   "metadata": {
    "id": "QpITOYYVyZUp"
   },
   "source": [
    "A very useful mathematical formula that can help speed up various aspects of statistics / data analytics is the Woodbury Identity. The Woodbury Identity is commonly used to speed up the calculations of matrix multiplications which are used in things such as conditional distributions in Bayesian statistics. A simplified version of the Woodbury Identity is the following:\n",
    "\n",
    "$(\\textbf{I}_n + \\textbf{AB})^{-1}\\textbf{A} = \\textbf{A}(\\textbf{I}_p + \\textbf{BA})^{-1}$\n",
    "\n",
    "where **I** is the identity matrix and\n",
    "*   $\\textbf{A}$ is size $n × p$ ($n$ rows, $p$ columns)\n",
    "*   $\\textbf{B}$ is size $p × n$\n",
    "*   $\\textbf{I}_n$ is an identity matrix of size $n × n$\n",
    "*   $\\textbf{I}_p$ is an identity matrix of size $p × p$\n",
    "\n",
    "We aren't going to look at the maths behind this, instead we are going to look at the speed benefits of using one side or the other based on the sizes of the matrices being used."
   ]
  },
  {
   "cell_type": "markdown",
   "metadata": {
    "id": "me2bM3zh1vrd"
   },
   "source": [
    "## Computational Cost of Left Side\n",
    "\n",
    "Let's start in the middle (of the left hand side) and work outwards. We begin by looking at the matrix multiplication $\\textbf{AB}$. Based on the sizes of the matrix above, the resulting matrix is $n × n$ and the computational complexity is:\n",
    "\n",
    " $O(n^2p)$.\n",
    "\n",
    "We can the add this to $I_n$ which is $O(n^2)$ if we do it naively, so that gives us an updated total complexity of\n",
    "\n",
    "$O(n^2p + n^2)$\n",
    "\n",
    "We then need to do the inversion of the combined matrix (which is $n × n$) which takes $O(n^3)$, so we now have\n",
    "\n",
    "$O(n^2p + n^2 + n^3)$\n",
    "\n",
    "Finally we need to multiply the results $n × n$ matrix by $\\textbf{A}$ which is $n × p$ and takes $O(n^2p)$, so we have \n",
    "\n",
    "$O(2n^2p + n^2 + n^3)$\n",
    "\n",
    "If we assume we don't know the size of $n$ and $p$, e.g. we don't know if they are roughly the same or one dominates, then we can't say how it was scale"
   ]
  },
  {
   "cell_type": "markdown",
   "metadata": {
    "id": "RTsc2-ga17VE"
   },
   "source": [
    "## Computational Cost of Right Hand Side\n",
    "\n",
    "We can follow the same logic through for the other size, so again starting in the middle we can do $\\textbf{BA}$ which this time takes:\n",
    "\n",
    "$O(np^2)$\n",
    "\n",
    "We then add the resulting $p × p$ matrix to the Identity matrix which takes $O(p^2)$, so our new total is\n",
    "\n",
    "$O(np^2 + p^2)$\n",
    "\n",
    "We are now inverting a $p \\times p$ matrix which we know takes $O(p^3)$ giving us:\n",
    "\n",
    "$O(np^2 + p^2 + p^3)$\n",
    "\n",
    "Finally we do $\\textbf{A}$ which is size $n × p$ multiplied by our $p \\times p$ matrix which takes $O(np^2)$, so our total is\n",
    "\n",
    "$O(2np^2 + p^2 + p^3)$\n",
    "\n",
    "We basically have the same as the left hand side equation, but we have swapped $n$ with $p$\n",
    "\n"
   ]
  },
  {
   "cell_type": "markdown",
   "metadata": {
    "id": "zp6yVo3V8aQ2"
   },
   "source": [
    "## Dependancy on size of $n$ and $p$\n",
    "\n",
    "For the two different sides, we have worked out two different complexities. Generally we have $n > p$, but this is not always the cases. Let's look at 3 different cases and see how the complexity scales.\n",
    "\n",
    "### Case 1: $n >> p$\n",
    "\n",
    "Left hand side is $O(2n^2p + n^2 + n^3)$ which simplifies to $O(n^3)$\n",
    "\n",
    "Right hand side is $O(2np^2 + p^2 + p^3)$ which simplifies to $O(n)$\n",
    "\n",
    "### Case 2: $n=p$\n",
    "\n",
    "Left hand side is $O(2n^2p + n^2 + n^3)$ which simplifies to $O(n^3)$ or equivilantly $O(p^3)$\n",
    "\n",
    "Right hand side is $O(2np^2 + p^2 + p^3)$ which simplifies to $O(n^3)$ or equivilantly $O(p^3)$\n",
    "\n",
    "### Case 3: $n << p$\n",
    "\n",
    "Left hand side is $O(2n^2p + n^2 + n^3)$ which simplifies to $O(p)$\n",
    "\n",
    "Right hand side is $O(2np^2 + p^2 + p^3)$ which simplifies to $O(p^3)$"
   ]
  },
  {
   "cell_type": "markdown",
   "metadata": {
    "id": "m64nH5r_1-1T"
   },
   "source": [
    "## Generate some data\n",
    "\n",
    "Let's write a function to demonstrate the above, its not necessary as simple as the 3 situations above, but we can try to show the rough idea"
   ]
  },
  {
   "cell_type": "code",
   "execution_count": 1,
   "metadata": {
    "id": "DRN0GMvf2B8O",
    "tags": []
   },
   "outputs": [],
   "source": [
    "import numpy as np\n",
    "\n",
    "def generate_data(n, p):\n",
    "  # function to generate data\n",
    "  A = np.random.rand(n, p)\n",
    "  B = np.random.rand(p, n)\n",
    "  I_n = np.identity(n)\n",
    "  I_p = np.identity(p)\n",
    "  return A, B, I_n, I_p\n"
   ]
  },
  {
   "cell_type": "markdown",
   "metadata": {
    "id": "VKtNJfUP2Ccs"
   },
   "source": [
    "## Write some functions to simulate\n",
    "\n",
    "Let's write a function to calculate each side and also double check that it gives the same answer (you should do more checking than this in practice)!"
   ]
  },
  {
   "cell_type": "code",
   "execution_count": 2,
   "metadata": {
    "colab": {
     "base_uri": "https://localhost:8080/"
    },
    "id": "_DAymhlU2GRO",
    "outputId": "5e975914-b1d7-4d8e-e79c-06aadb4044ff",
    "tags": []
   },
   "outputs": [
    {
     "name": "stdout",
     "output_type": "stream",
     "text": [
      "[[ 0.13820814  0.30422487]\n",
      " [ 0.53019894 -0.05550805]\n",
      " [ 0.27287541  0.10982779]]\n",
      "[[ 0.13820814  0.30422487]\n",
      " [ 0.53019894 -0.05550805]\n",
      " [ 0.27287541  0.10982779]]\n"
     ]
    }
   ],
   "source": [
    "def left_side(A, B, I_n):\n",
    "  # function to calculate left hand side of Woodbury Identity\n",
    "  return np.linalg.inv(I_n + A@B) @ A\n",
    "\n",
    "def right_side(A, B, I_p):\n",
    "  # function to calculate right hand side of Woodbury Identity\n",
    "  return A @ np.linalg.inv(I_p + B@A)\n",
    "\n",
    "A, B, I_n, I_p = generate_data(3,2)\n",
    "\n",
    "print(left_side(A, B, I_n))\n",
    "print(right_side(A, B, I_p))"
   ]
  },
  {
   "cell_type": "markdown",
   "metadata": {
    "id": "Uokb5_Uj2HMx"
   },
   "source": [
    "## Simulated Comparison\n",
    "\n",
    "Let's repeat the experiment 50 times and see the results"
   ]
  },
  {
   "cell_type": "code",
   "execution_count": 3,
   "metadata": {
    "id": "-N-U24592KNe",
    "tags": []
   },
   "outputs": [],
   "source": [
    "import timeit\n",
    "\n",
    "def time_sides(n, p, times=50):\n",
    "  A, B, I_n, I_p = generate_data(n, p)\n",
    "  # left side\n",
    "  def left_side():\n",
    "    np.linalg.inv(I_n + A@B) @ A\n",
    "  # right side\n",
    "  def right_side():\n",
    "    A @ np.linalg.inv(I_p + B@A)\n",
    "  # time it\n",
    "  left_total_time = timeit.timeit(left_side, number=times)\n",
    "  right_total_time = timeit.timeit(right_side, number=times)\n",
    "  return left_total_time, right_total_time\n"
   ]
  },
  {
   "cell_type": "code",
   "execution_count": 4,
   "metadata": {
    "colab": {
     "base_uri": "https://localhost:8080/"
    },
    "id": "0euqOfs6EVvQ",
    "outputId": "6627524e-0d4f-49be-f050-924265061b1b",
    "tags": []
   },
   "outputs": [
    {
     "data": {
      "text/plain": [
       "(1.8521238589964923, 0.004678581994085107)"
      ]
     },
     "execution_count": 4,
     "metadata": {},
     "output_type": "execute_result"
    }
   ],
   "source": [
    "time_sides(1000,10)"
   ]
  },
  {
   "cell_type": "code",
   "execution_count": 5,
   "metadata": {
    "colab": {
     "base_uri": "https://localhost:8080/"
    },
    "id": "GFosG1Xjck5g",
    "outputId": "93043f9f-8b6d-4721-dbee-00599e3bd679",
    "tags": []
   },
   "outputs": [
    {
     "data": {
      "text/plain": [
       "(0.012612036000064109, 0.01121421299467329)"
      ]
     },
     "execution_count": 5,
     "metadata": {},
     "output_type": "execute_result"
    }
   ],
   "source": [
    "time_sides(100,100)"
   ]
  },
  {
   "cell_type": "code",
   "execution_count": 6,
   "metadata": {
    "colab": {
     "base_uri": "https://localhost:8080/"
    },
    "id": "mjW8YuixEqhn",
    "outputId": "d200be5f-2293-4cfc-bdc4-b73a3fd8d95d",
    "tags": []
   },
   "outputs": [
    {
     "data": {
      "text/plain": [
       "(0.004094554002222139, 1.6831300819976605)"
      ]
     },
     "execution_count": 6,
     "metadata": {},
     "output_type": "execute_result"
    }
   ],
   "source": [
    "time_sides(10,1000)"
   ]
  },
  {
   "cell_type": "markdown",
   "metadata": {
    "id": "qfDgS3hbdBS9"
   },
   "source": [
    "## Scaling with $n$"
   ]
  },
  {
   "cell_type": "code",
   "execution_count": null,
   "metadata": {
    "colab": {
     "base_uri": "https://localhost:8080/",
     "height": 265
    },
    "id": "cN21x83aFOQ_",
    "outputId": "043b6af0-2c3e-49ee-ff5c-64ec5bb03174"
   },
   "outputs": [
    {
     "data": {
      "image/png": "[encoded data removed]",
      "text/plain": [
       "<Figure size 432x288 with 1 Axes>"
      ]
     },
     "metadata": {
      "needs_background": "light"
     },
     "output_type": "display_data"
    }
   ],
   "source": [
    "ns = [100,200,500,1000,1500,2000]\n",
    "left_times_n = []\n",
    "right_times_n = []\n",
    "for n in ns:\n",
    "  new_times = time_sides(n, 10)\n",
    "  left_times_n.append(new_times[0])\n",
    "  right_times_n.append(new_times[1])\n",
    "\n",
    "import matplotlib.pyplot as plt\n",
    "\n",
    "plt.plot(ns, left_times_n, label='Left Side')\n",
    "plt.plot(ns, right_times_n, label='Right Side')\n",
    "plt.legend()\n",
    "plt.show()"
   ]
  },
  {
   "cell_type": "markdown",
   "metadata": {
    "id": "cKvMf7lNdEma"
   },
   "source": [
    "# Scaling with $p$"
   ]
  },
  {
   "cell_type": "code",
   "execution_count": null,
   "metadata": {
    "colab": {
     "base_uri": "https://localhost:8080/",
     "height": 265
    },
    "id": "RjAmErSvdHBS",
    "outputId": "2bbf60a2-54b1-4b65-e334-72c92fdb9a28"
   },
   "outputs": [
    {
     "data": {
      "image/png": "[encoded data removed]",
      "text/plain": [
       "<Figure size 432x288 with 1 Axes>"
      ]
     },
     "metadata": {
      "needs_background": "light"
     },
     "output_type": "display_data"
    }
   ],
   "source": [
    "ps = [100,200,500,1000,1500,2000]\n",
    "left_times_p = []\n",
    "right_times_p = []\n",
    "for p in ps:\n",
    "  new_times = time_sides(10, p)\n",
    "  left_times_p.append(new_times[0])\n",
    "  right_times_p.append(new_times[1])\n",
    "\n",
    "plt.plot(ps, left_times_p, label='Left Side')\n",
    "plt.plot(ps, right_times_p, label='Right Side')\n",
    "plt.legend()\n",
    "plt.show()"
   ]
  },
  {
   "cell_type": "markdown",
   "metadata": {
    "id": "av7l2l3RgLNb"
   },
   "source": [
    "# Scaling Both"
   ]
  },
  {
   "cell_type": "code",
   "execution_count": null,
   "metadata": {
    "colab": {
     "base_uri": "https://localhost:8080/",
     "height": 265
    },
    "id": "8cJm3c_xeSPU",
    "outputId": "839f1313-3a27-46bc-8092-eb23771c8a47"
   },
   "outputs": [
    {
     "data": {
      "image/png": "[encoded data removed]",
      "text/plain": [
       "<Figure size 432x288 with 1 Axes>"
      ]
     },
     "metadata": {
      "needs_background": "light"
     },
     "output_type": "display_data"
    }
   ],
   "source": [
    "nps = [10,20,50,100,200,500]\n",
    "left_times_np = []\n",
    "right_times_np = []\n",
    "for n_p in nps:  # dont use 'np' here\n",
    "  new_times = time_sides(n_p, n_p)\n",
    "  left_times_np.append(new_times[0])\n",
    "  right_times_np.append(new_times[1])\n",
    "\n",
    "import matplotlib.pyplot as plt\n",
    "\n",
    "plt.plot(nps, left_times_np, label='Left Side')\n",
    "plt.plot(nps, right_times_np, label='Right Side')\n",
    "plt.legend()\n",
    "plt.show()"
   ]
  },
  {
   "cell_type": "code",
   "execution_count": null,
   "metadata": {
    "id": "NkLEAz10_tGO"
   },
   "outputs": [],
   "source": []
  }
 ],
 "metadata": {
  "colab": {
   "provenance": []
  },
  "kernelspec": {
   "display_name": "Python 3 (ipykernel)",
   "language": "python",
   "name": "python3"
  },
  "language_info": {
   "codemirror_mode": {
    "name": "ipython",
    "version": 3
   },
   "file_extension": ".py",
   "mimetype": "text/x-python",
   "name": "python",
   "nbconvert_exporter": "python",
   "pygments_lexer": "ipython3",
   "version": "3.8.16"
  }
 },
 "nbformat": 4,
 "nbformat_minor": 4
}
