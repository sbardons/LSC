{
 "cells": [
  {
   "cell_type": "markdown",
   "id": "be633a1a-32f8-45bb-9ddb-55fedefd09ff",
   "metadata": {},
   "source": [
    "\"\"\"You flip a coin 100 times and observe 45 heads.\n",
    "Use the Metropolis Hastings algorithm to determine the posterior distribution for the probability of obtaining heads in a single coin flip\"\"\""
   ]
  },
  {
   "cell_type": "code",
   "execution_count": 1,
   "id": "11137195-a9da-4598-8b66-673170f8a251",
   "metadata": {},
   "outputs": [],
   "source": [
    "import tensorflow_probability as tfp\n",
    "import tensorflow as tf\n",
    "import numpy as np\n",
    "import matplotlib.pyplot as plt\n",
    "tfd = tfp.distributions"
   ]
  },
  {
   "cell_type": "code",
   "execution_count": 2,
   "id": "64097501-9bd3-4a9a-a9e2-3c1c03d9f66d",
   "metadata": {},
   "outputs": [
    {
     "name": "stderr",
     "output_type": "stream",
     "text": [
      "/opt/conda/lib/python3.8/site-packages/tensorflow_probability/python/__init__.py:70: UserWarning: TensorFloat-32 matmul/conv are enabled for NVIDIA Ampere+ GPUs. The resulting loss of precision may hinder MCMC convergence. To turn off, run `tf.config.experimental.enable_tensor_float_32_execution(False)`. For more detail, see https://github.com/tensorflow/community/pull/287.\n",
      "  warnings.warn(\n"
     ]
    },
    {
     "name": "stdout",
     "output_type": "stream",
     "text": [
      "WARNING:tensorflow:@custom_gradient grad_fn has 'variables' in signature, but no ResourceVariables were used on the forward pass.\n"
     ]
    },
    {
     "name": "stderr",
     "output_type": "stream",
     "text": [
      "2023-06-29 21:13:37.893948: I tensorflow/core/platform/cpu_feature_guard.cc:151] This TensorFlow binary is optimized with oneAPI Deep Neural Network Library (oneDNN) to use the following CPU instructions in performance-critical operations:  AVX2 FMA\n",
      "To enable them in other operations, rebuild TensorFlow with the appropriate compiler flags.\n",
      "2023-06-29 21:13:38.458051: I tensorflow/core/common_runtime/gpu/gpu_device.cc:1525] Created device /job:localhost/replica:0/task:0/device:GPU:0 with 129 MB memory:  -> device: 0, name: Tesla K80, pci bus id: 0001:00:00.0, compute capability: 3.7\n",
      "/opt/conda/lib/python3.8/site-packages/tensorflow_probability/python/mcmc/sample.py:339: UserWarning: Tracing all kernel results by default is deprecated. Set the `trace_fn` argument to None (the future default value) or an explicit callback that traces the values you are interested in.\n",
      "  warnings.warn('Tracing all kernel results by default is deprecated. Set '\n"
     ]
    },
    {
     "data": {
      "image/png": "[encoded data removed]",
      "text/plain": [
       "<Figure size 400x300 with 1 Axes>"
      ]
     },
     "metadata": {},
     "output_type": "display_data"
    }
   ],
   "source": [
    "def log_likelihood(p):\n",
    "    N=100\n",
    "    h=45\n",
    "    likelihood = tfd.Binomial(N,probs=p).log_prob(h)\n",
    "    prior = tfd.Uniform().log_prob(p)\n",
    "    return likelihood + prior\n",
    "    \n",
    "@tf.function\n",
    "def run_sampler():\n",
    "    # specify the Metropolis Hastings inner kernel\n",
    "    inner_kernel = tfp.mcmc.RandomWalkMetropolis(log_likelihood)\n",
    "    # we need to keep the probability between 0 and 1 so we use a sigmoid bijector\n",
    "    kernel = tfp.mcmc.TransformedTransitionKernel(inner_kernel, tfp.bijectors.Sigmoid())\n",
    "    # now we can run the actual MCMC chain\n",
    "    samples, kernels_results = tfp.mcmc.sample_chain(num_results=2000,\n",
    "        current_state=0.5,\n",
    "        kernel=kernel,\n",
    "        num_burnin_steps=50)\n",
    "    return samples\n",
    "    \n",
    "# run the sampler\n",
    "s = run_sampler()\n",
    "\n",
    "# plot the posterior density from the samples\n",
    "plt.figure(figsize=(4,3))\n",
    "hist = plt.hist(s.numpy(),bins=50,range=(0,1),density=True,alpha=0.75)\n",
    "# we will also plot the analytical posterior\n",
    "x = np.linspace(0,1,100)\n",
    "n_heads = 45\n",
    "N = 100\n",
    "posterior = tfd.Beta(concentration1=1+n_heads, concentration0=1+N-n_heads)\n",
    "plt.plot(x,posterior.prob(x))\n",
    "plt.show()"
   ]
  },
  {
   "cell_type": "code",
   "execution_count": null,
   "id": "7cdf1f40-9636-420a-9701-8317278d9586",
   "metadata": {},
   "outputs": [],
   "source": []
  },
  {
   "cell_type": "code",
   "execution_count": null,
   "id": "be2cebe3-4051-4dee-9072-0eecccce10bd",
   "metadata": {},
   "outputs": [],
   "source": []
  }
 ],
 "metadata": {
  "kernelspec": {
   "display_name": "Python 3 (ipykernel)",
   "language": "python",
   "name": "python3"
  },
  "language_info": {
   "codemirror_mode": {
    "name": "ipython",
    "version": 3
   },
   "file_extension": ".py",
   "mimetype": "text/x-python",
   "name": "python",
   "nbconvert_exporter": "python",
   "pygments_lexer": "ipython3",
   "version": "3.8.16"
  }
 },
 "nbformat": 4,
 "nbformat_minor": 5
}
