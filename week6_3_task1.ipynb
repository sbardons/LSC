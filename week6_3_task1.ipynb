{
 "cells": [
  {
   "cell_type": "markdown",
   "id": "b072a007-dd3c-4d24-a6c8-9f2d181e316a",
   "metadata": {},
   "source": [
    "## Week 6 \n",
    "Task1 - Implement the CNN shown in the example above using Keras functions for implementing the training steps."
   ]
  },
  {
   "cell_type": "code",
   "execution_count": 1,
   "id": "880f92ae-8fca-44d0-85f2-0b5886286e11",
   "metadata": {},
   "outputs": [],
   "source": [
    "import matplotlib.pyplot as plt\n",
    "import numpy as np\n",
    "import tensorflow as tf\n",
    "\n",
    "np.set_printoptions(suppress=True)"
   ]
  },
  {
   "cell_type": "code",
   "execution_count": 2,
   "id": "b5150e6b-5a6a-4870-8f15-f4f11fa17dfb",
   "metadata": {},
   "outputs": [],
   "source": [
    "(x_train, y_train),(x_test, y_test) = tf.keras.datasets.cifar10.load_data()\n",
    "labels=['airplane','automobile','bird','cat','deer','dog','frog','horse','ship','truck']"
   ]
  },
  {
   "cell_type": "code",
   "execution_count": 3,
   "id": "d7335e75-8f6e-4acf-92c6-17b9608c3373",
   "metadata": {},
   "outputs": [
    {
     "name": "stdout",
     "output_type": "stream",
     "text": [
      "x_train samples = (50000, 32, 32, 3)\n",
      "y_train samples = (50000, 1)\n",
      "x_test samples = (10000, 32, 32, 3)\n",
      "y_test samples = (10000, 1)\n"
     ]
    }
   ],
   "source": [
    "print ('x_train samples = ' + str(x_train.shape))\n",
    "print ('y_train samples = ' + str(y_train.shape)) #labels\n",
    "\n",
    "print ('x_test samples = ' + str(x_test.shape))\n",
    "print ('y_test samples = ' + str(y_test.shape))"
   ]
  },
  {
   "cell_type": "code",
   "execution_count": 4,
   "id": "6f95c99c-a723-4eaa-be83-55aea8d034e4",
   "metadata": {},
   "outputs": [
    {
     "data": {
      "image/png": "[encoded data removed]",
      "text/plain": [
       "<Figure size 200x200 with 1 Axes>"
      ]
     },
     "metadata": {},
     "output_type": "display_data"
    }
   ],
   "source": [
    "i =3500\n",
    "label = y_train[i]\n",
    "image = x_train[i]\n",
    "plt.figure(figsize=(2,2))\n",
    "plt.grid(False)\n",
    "plt.title(labels[int(label)])\n",
    "plt.imshow(image)\n",
    "plt.show()"
   ]
  },
  {
   "cell_type": "markdown",
   "id": "3fb8ec9c-89ea-4da4-b9f9-1fc0cb420ad4",
   "metadata": {},
   "source": [
    "Normalize the inputs and reshape the labels"
   ]
  },
  {
   "cell_type": "code",
   "execution_count": 6,
   "id": "a82f4880-6a2f-47e0-986b-1238b9d1be99",
   "metadata": {},
   "outputs": [],
   "source": [
    "numtrain = 40000\n",
    "y_input = tf.keras.utils.to_categorical(y_train[:numtrain])\n",
    "x_input = (x_train[:numtrain] / 255.0)\n",
    "y_valid = tf.keras.utils.to_categorical(y_train[numtrain:])\n",
    "x_valid = (x_train[numtrain:] / 255.0)"
   ]
  },
  {
   "cell_type": "code",
   "execution_count": 7,
   "id": "30ee2409-b1ad-4eb2-a4a6-ed5595aaeed0",
   "metadata": {},
   "outputs": [
    {
     "name": "stderr",
     "output_type": "stream",
     "text": [
      "2023-06-19 19:22:11.027671: I tensorflow/core/platform/cpu_feature_guard.cc:151] This TensorFlow binary is optimized with oneAPI Deep Neural Network Library (oneDNN) to use the following CPU instructions in performance-critical operations:  AVX2 FMA\n",
      "To enable them in other operations, rebuild TensorFlow with the appropriate compiler flags.\n",
      "2023-06-19 19:22:11.758112: I tensorflow/core/common_runtime/gpu/gpu_device.cc:1525] Created device /job:localhost/replica:0/task:0/device:GPU:0 with 14626 MB memory:  -> device: 0, name: Tesla V100-PCIE-16GB, pci bus id: 0001:00:00.0, compute capability: 7.0\n"
     ]
    }
   ],
   "source": [
    "#Sequential model\n",
    "model = tf.keras.Sequential()\n",
    "\n",
    "model.add(tf.keras.layers.Conv2D(filters=16, kernel_size=(3,3),\n",
    "                                 activation=tf.nn.relu, padding='same',\n",
    "                                 input_shape=( 32, 32, 3)))\n",
    "model.add(tf.keras.layers.Flatten())\n",
    "model.add(tf.keras.layers.Dense(units=64, activation=tf.nn.relu)) #512 here was too many, could not be run\n",
    "\n",
    "# Add a softmax layer with 10 output units:\n",
    "model.add(tf.keras.layers.Dense(10, activation='softmax'))\n"
   ]
  },
  {
   "cell_type": "code",
   "execution_count": 8,
   "id": "8544cd9f-e772-4b5d-b0e6-c031d2b8f45f",
   "metadata": {},
   "outputs": [
    {
     "name": "stderr",
     "output_type": "stream",
     "text": [
      "2023-06-19 19:22:23.716832: I tensorflow/stream_executor/cuda/cuda_dnn.cc:368] Loaded cuDNN version 8100\n"
     ]
    }
   ],
   "source": [
    "#Compile model\n",
    "\n",
    "# we can set validation data to be our test dataset so that we can observe the accuracy on the test data during training. \n",
    "# In this case we’re also going to use a callback to stop the training when the validation loss stops improving.\n",
    "\n",
    "# compile the model\n",
    "model.compile(optimizer=tf.keras.optimizers.Adam(0.001),\n",
    "loss='categorical_crossentropy',\n",
    "metrics=['accuracy'])\n",
    "# create a callback that will stop training if the validation loss hasn't improved for 2 epochs\n",
    "callbacks = [tf.keras.callbacks.EarlyStopping(monitor='val_loss', patience=2)]\n",
    "\n",
    "# train the model\n",
    "fit = model.fit(x_input, y_input, epochs=100, verbose=0,\n",
    "        batch_size=256,\n",
    "        callbacks=callbacks,\n",
    "        validation_data=(x_valid, y_valid))"
   ]
  },
  {
   "cell_type": "code",
   "execution_count": 9,
   "id": "732bcb5a-ef86-46e7-99b7-d3152bc306ff",
   "metadata": {},
   "outputs": [
    {
     "name": "stdout",
     "output_type": "stream",
     "text": [
      "test accuracy:  0.5648\n"
     ]
    }
   ],
   "source": [
    "predictions = model.predict(x_test/255.0,verbose=0)\n",
    "y_pred = np.argmax(predictions,axis=-1)\n",
    "print('test accuracy: ', np.sum(y_pred==y_test[:,0])/len(y_test))"
   ]
  },
  {
   "cell_type": "code",
   "execution_count": 10,
   "id": "35e3d0ea-addb-428a-970e-4967f3722ca8",
   "metadata": {},
   "outputs": [
    {
     "data": {
      "image/png": "[encoded data removed]",
      "text/plain": [
       "<Figure size 400x400 with 1 Axes>"
      ]
     },
     "metadata": {},
     "output_type": "display_data"
    }
   ],
   "source": [
    "#We can also look at the predictions for a specific image:\n",
    "i=2200\n",
    "label = y_test[i]\n",
    "image = x_test[i]\n",
    "plt.figure(figsize=(4,4))\n",
    "plt.grid(False)\n",
    "plt.title('True: %s, Predicted: %s (%d%% certainty)' %\n",
    "            (labels[int(label)],labels[y_pred[i]],\n",
    "            100*predictions[i,y_pred[i]]))\n",
    "plt.imshow(image)\n",
    "plt.show()"
   ]
  },
  {
   "cell_type": "markdown",
   "id": "cc6e44b6-8933-4fb6-87c7-78164acf24b7",
   "metadata": {},
   "source": [
    "## A deeper convolutional neural network"
   ]
  },
  {
   "cell_type": "code",
   "execution_count": 11,
   "id": "a6e3775c-92fe-4fc7-910f-fde051c5d707",
   "metadata": {},
   "outputs": [],
   "source": [
    "model2 = tf.keras.Sequential()\n",
    "model2.add(tf.keras.layers.Conv2D(filters=64, kernel_size=(3,3),\n",
    "activation=tf.nn.relu,padding='same',\n",
    "input_shape=( 32, 32, 3)))\n",
    "model2.add(tf.keras.layers.MaxPool2D())\n",
    "model2.add(tf.keras.layers.Conv2D(filters=128, kernel_size=(3,3),\n",
    "activation=tf.nn.relu,padding='same'))\n",
    "model2.add(tf.keras.layers.MaxPool2D())\n",
    "model2.add(tf.keras.layers.Conv2D(filters=64, kernel_size=(3,3),\n",
    "activation=tf.nn.relu,padding='same'))\n",
    "model2.add(tf.keras.layers.MaxPool2D())\n",
    "model2.add(tf.keras.layers.Flatten())\n",
    "model2.add(tf.keras.layers.Dense(units=64, activation=tf.nn.relu))\n",
    "model2.add(tf.keras.layers.Dense(units=10,activation=tf.nn.softmax))\n",
    "\n",
    "model2.compile(optimizer=tf.keras.optimizers.Adam(0.001),\n",
    "        loss='categorical_crossentropy',\n",
    "        metrics=['accuracy'])"
   ]
  },
  {
   "cell_type": "code",
   "execution_count": 12,
   "id": "8461c703-6330-416f-b7be-796c883dd096",
   "metadata": {},
   "outputs": [
    {
     "name": "stdout",
     "output_type": "stream",
     "text": [
      "test accuracy:  0.717\n"
     ]
    }
   ],
   "source": [
    "fit = model2.fit(x_input, y_input, epochs=100,verbose=0,\n",
    "        batch_size=256,\n",
    "        callbacks=callbacks,\n",
    "        validation_data=(x_valid, y_valid))\n",
    "\n",
    "predictions2 = model2.predict(x_test/255.0,verbose=0)\n",
    "\n",
    "y_pred = np.argmax(predictions2,axis=-1)\n",
    "\n",
    "print('test accuracy: ', np.sum(y_pred==y_test[:,0])/len(y_test))"
   ]
  },
  {
   "cell_type": "code",
   "execution_count": 13,
   "id": "48065a32-a534-4ff5-b1d4-4df46158aafe",
   "metadata": {},
   "outputs": [
    {
     "data": {
      "image/png": "[encoded data removed]",
      "text/plain": [
       "<Figure size 400x400 with 1 Axes>"
      ]
     },
     "metadata": {},
     "output_type": "display_data"
    }
   ],
   "source": [
    "i=2201\n",
    "label = y_test[i]\n",
    "image = x_test[i]\n",
    "plt.figure(figsize=(4,4))\n",
    "plt.grid(False)\n",
    "plt.title('True: %s, Predicted: %s (%d%% certainty)' %\n",
    "            (labels[int(label)],labels[y_pred[i]],\n",
    "            100*predictions2[i,y_pred[i]]))\n",
    "plt.imshow(image)\n",
    "plt.show()"
   ]
  },
  {
   "cell_type": "code",
   "execution_count": null,
   "id": "a12ecd2b-50f5-4b49-8698-5655a77c1c81",
   "metadata": {},
   "outputs": [],
   "source": []
  }
 ],
 "metadata": {
  "kernelspec": {
   "display_name": "Python 3 (ipykernel)",
   "language": "python",
   "name": "python3"
  },
  "language_info": {
   "codemirror_mode": {
    "name": "ipython",
    "version": 3
   },
   "file_extension": ".py",
   "mimetype": "text/x-python",
   "name": "python",
   "nbconvert_exporter": "python",
   "pygments_lexer": "ipython3",
   "version": "3.8.16"
  }
 },
 "nbformat": 4,
 "nbformat_minor": 5
}
