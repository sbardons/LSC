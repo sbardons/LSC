{
 "cells": [
  {
   "cell_type": "code",
   "execution_count": 1,
   "id": "021e971e-b964-4644-865b-9cd56666c3aa",
   "metadata": {
    "tags": []
   },
   "outputs": [],
   "source": [
    "import tensorflow as tf\n",
    "import numpy as np"
   ]
  },
  {
   "cell_type": "code",
   "execution_count": 2,
   "id": "83ac4e50-a74a-41d8-9231-b91b9f124ae8",
   "metadata": {
    "tags": []
   },
   "outputs": [
    {
     "name": "stderr",
     "output_type": "stream",
     "text": [
      "2023-05-12 11:25:50.099144: I tensorflow/core/platform/cpu_feature_guard.cc:151] This TensorFlow binary is optimized with oneAPI Deep Neural Network Library (oneDNN) to use the following CPU instructions in performance-critical operations:  AVX2 FMA\n",
      "To enable them in other operations, rebuild TensorFlow with the appropriate compiler flags.\n",
      "2023-05-12 11:25:51.183945: I tensorflow/core/common_runtime/gpu/gpu_device.cc:1525] Created device /job:localhost/replica:0/task:0/device:GPU:0 with 14660 MB memory:  -> device: 0, name: Tesla T4, pci bus id: 0001:00:00.0, compute capability: 7.5\n"
     ]
    }
   ],
   "source": [
    "# first we create the variable we will differentiate with respect to\n",
    "x = tf.Variable(1.0)"
   ]
  },
  {
   "cell_type": "code",
   "execution_count": 3,
   "id": "9e8de934-883a-438a-97a0-a8eb0761dbf4",
   "metadata": {
    "tags": []
   },
   "outputs": [
    {
     "name": "stdout",
     "output_type": "stream",
     "text": [
      "2.8.0\n"
     ]
    }
   ],
   "source": [
    "#Check what version of TensorFlow you are using\n",
    "print(tf.__version__)"
   ]
  },
  {
   "cell_type": "code",
   "execution_count": 4,
   "id": "7f2b0dad-cc50-434a-8762-e31d0b3d82dd",
   "metadata": {
    "tags": []
   },
   "outputs": [],
   "source": [
    "# next we start the tape with a context manager\n",
    "# anything inside the context block will be recorded onto the tape\n",
    "with tf.GradientTape() as tape:\n",
    "    # we execute 2 commands in the block that will be taped\n",
    "    y = tf.math.square(x)\n",
    "    z = tf.math.exp(-y)"
   ]
  },
  {
   "cell_type": "code",
   "execution_count": 5,
   "id": "5057a2d8-b9ab-4c34-b5ce-2d3fdae4049d",
   "metadata": {},
   "outputs": [
    {
     "name": "stdout",
     "output_type": "stream",
     "text": [
      "the gradient calculated by tf is,  -0.73575896\n"
     ]
    }
   ],
   "source": [
    "# now we can calculate the gradient using the tape variable\n",
    "dzdx = tape.gradient(z,x)\n",
    "#We print out the value from tensorflow\n",
    "print('the gradient calculated by tf is, ', dzdx.numpy())"
   ]
  },
  {
   "cell_type": "code",
   "execution_count": 6,
   "id": "e4e27d83-a560-4562-9678-6bcecb9c81fe",
   "metadata": {},
   "outputs": [
    {
     "name": "stdout",
     "output_type": "stream",
     "text": [
      "the analytical gradient is  tf.Tensor(-0.73575884, shape=(), dtype=float32)\n"
     ]
    }
   ],
   "source": [
    "print('the analytical gradient is ', -2*x*np.exp(-x**2))"
   ]
  },
  {
   "cell_type": "code",
   "execution_count": null,
   "id": "69440940-cc31-471c-89df-c610aefeb490",
   "metadata": {},
   "outputs": [],
   "source": []
  },
  {
   "cell_type": "code",
   "execution_count": null,
   "id": "c107e23e-e35b-4721-9a1c-e202e4b57f65",
   "metadata": {},
   "outputs": [],
   "source": []
  }
 ],
 "metadata": {
  "kernelspec": {
   "display_name": "Python 3 (ipykernel)",
   "language": "python",
   "name": "python3"
  },
  "language_info": {
   "codemirror_mode": {
    "name": "ipython",
    "version": 3
   },
   "file_extension": ".py",
   "mimetype": "text/x-python",
   "name": "python",
   "nbconvert_exporter": "python",
   "pygments_lexer": "ipython3",
   "version": "3.8.16"
  }
 },
 "nbformat": 4,
 "nbformat_minor": 5
}
