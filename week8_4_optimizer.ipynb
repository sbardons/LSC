{
 "cells": [
  {
   "cell_type": "markdown",
   "id": "6feed240-99f6-49a4-a313-2fd880ab79ef",
   "metadata": {},
   "source": [
    "## Example 7 (Finding the maximum likelihood parameter for a coin flip with SGD)"
   ]
  },
  {
   "cell_type": "code",
   "execution_count": 1,
   "id": "b40f382d-f237-43a8-8283-234206959d7e",
   "metadata": {},
   "outputs": [],
   "source": [
    "import tensorflow_probability as tfp\n",
    "import tensorflow as tf\n",
    "import numpy as np\n",
    "import matplotlib.pyplot as plt"
   ]
  },
  {
   "cell_type": "code",
   "execution_count": 4,
   "id": "f6710543-e540-4dbb-8da8-950a63300555",
   "metadata": {},
   "outputs": [],
   "source": [
    "#define a variable for the probability of heads, p\n",
    "p = tf.Variable(0.50)\n",
    "\n",
    "tfd = tfp.distributions\n",
    "\n",
    "# define a function to calculate the negative log likelihood\n",
    "@tf.function\n",
    "def loss(p_input):\n",
    "    N=10\n",
    "    h=2\n",
    "    likelihood = tfd.Binomial(N,probs=p_input).log_prob(h)\n",
    "    return -likelihood"
   ]
  },
  {
   "cell_type": "code",
   "execution_count": 5,
   "id": "a8776019-05c8-4a0e-b5bb-372ea1182598",
   "metadata": {},
   "outputs": [
    {
     "name": "stdout",
     "output_type": "stream",
     "text": [
      "WARNING:tensorflow:@custom_gradient grad_fn has 'variables' in signature, but no ResourceVariables were used on the forward pass.\n",
      "0.2\n"
     ]
    }
   ],
   "source": [
    "train_steps = 100\n",
    "\n",
    "# learning rate\n",
    "lr = 1e-2\n",
    "\n",
    "# gradient descent optimizer\n",
    "optimizer = tf.optimizers.SGD(lr)\n",
    "\n",
    "# run the optimizer\n",
    "for i in range(train_steps):\n",
    "    with tf.GradientTape() as tape:\n",
    "        current_loss = loss(p)\n",
    "        gradients = tape.gradient(current_loss, [p])\n",
    "        optimizer.apply_gradients(zip(gradients, [p]))\n",
    "\n",
    "# print the optimized value\n",
    "print(p.numpy())"
   ]
  },
  {
   "cell_type": "markdown",
   "id": "07ec1524-e918-4905-bf1e-3c866c838957",
   "metadata": {},
   "source": [
    "In this simple example we can plot the optimal value against the\n",
    "likelihood at an array of points to check we’ve located the correct value"
   ]
  },
  {
   "cell_type": "code",
   "execution_count": 6,
   "id": "ace31ea6-9452-4096-bf1c-7e443aaab805",
   "metadata": {},
   "outputs": [
    {
     "name": "stdout",
     "output_type": "stream",
     "text": [
      "WARNING:tensorflow:@custom_gradient grad_fn has 'variables' in signature, but no ResourceVariables were used on the forward pass.\n"
     ]
    },
    {
     "data": {
      "image/png": "[encoded data removed]",
      "text/plain": [
       "<Figure size 400x300 with 1 Axes>"
      ]
     },
     "metadata": {},
     "output_type": "display_data"
    }
   ],
   "source": [
    "x = np.linspace(0,1,100)\n",
    "likelihood = tfd.Binomial(10,probs=x).prob(2)\n",
    "\n",
    "plt.figure(figsize=(4,3))\n",
    "plt.plot(x,likelihood)\n",
    "plt.axvline(p.numpy(), c='C1')\n",
    "plt.xlabel('probability of heads, p')\n",
    "plt.ylabel('likelihood')\n",
    "plt.show()"
   ]
  },
  {
   "cell_type": "markdown",
   "id": "a72ad85d-fe81-45c5-8c26-f51c57ce3cb0",
   "metadata": {},
   "source": [
    "## Example 8 (Finding maximum likelihood with the L-BFGS optimizer)"
   ]
  },
  {
   "cell_type": "code",
   "execution_count": 7,
   "id": "32cf8b16-e88d-4279-ada1-ea0591febe01",
   "metadata": {},
   "outputs": [],
   "source": [
    "@tf.function\n",
    "def loss(p_input):\n",
    "    N=10\n",
    "    h=2\n",
    "    p = tf.nn.sigmoid(p_input)\n",
    "    likelihood = tfd.Binomial(N,probs=p).log_prob(h)\n",
    "    return tf.squeeze(-likelihood)"
   ]
  },
  {
   "cell_type": "markdown",
   "id": "64241f19-1dfa-4b3e-b3ff-9113f8526fe1",
   "metadata": {},
   "source": [
    "The optimizers offered by tfp have a different requirement to tensorflow’s standard optimizers in that they\n",
    "require a function that provides the loss function to be minimized and its gradients. There is a built-in\n",
    "function that facilitates this called tfp.math.value_and_gradient"
   ]
  },
  {
   "cell_type": "code",
   "execution_count": 8,
   "id": "95771a5c-446a-43f8-99aa-fce03cdbfa1b",
   "metadata": {},
   "outputs": [],
   "source": [
    "def loss_and_gradient(p):\n",
    "    return tfp.math.value_and_gradient(loss ,p)"
   ]
  },
  {
   "cell_type": "code",
   "execution_count": 9,
   "id": "7c9ac1aa-23cf-44bd-98ed-4b616a9f81bb",
   "metadata": {},
   "outputs": [],
   "source": [
    "# set the initial value of p\n",
    "start = np.array([0.5])\n",
    "# run the optimizer\n",
    "results = tfp.optimizer.lbfgs_minimize(loss_and_gradient,\n",
    "                            initial_position=start,\n",
    "                            tolerance=1e-8)"
   ]
  },
  {
   "cell_type": "code",
   "execution_count": 10,
   "id": "d85466f3-eb46-4fa0-a44e-8a2da2c8c030",
   "metadata": {},
   "outputs": [
    {
     "name": "stdout",
     "output_type": "stream",
     "text": [
      "Optimizer converged:  True\n"
     ]
    }
   ],
   "source": [
    "print('Optimizer converged: ', results.converged.numpy())"
   ]
  },
  {
   "cell_type": "code",
   "execution_count": 11,
   "id": "0532d1df-5d0f-4dac-8ca9-39f119294157",
   "metadata": {},
   "outputs": [
    {
     "name": "stdout",
     "output_type": "stream",
     "text": [
      "[0.2]\n"
     ]
    }
   ],
   "source": [
    "# print the optimal transformed value\n",
    "print(tf.nn.sigmoid(results.position).numpy())"
   ]
  },
  {
   "cell_type": "code",
   "execution_count": null,
   "id": "2f1b1c64-f462-4c8c-8c48-32fc378388bf",
   "metadata": {},
   "outputs": [],
   "source": []
  }
 ],
 "metadata": {
  "kernelspec": {
   "display_name": "Python 3 (ipykernel)",
   "language": "python",
   "name": "python3"
  },
  "language_info": {
   "codemirror_mode": {
    "name": "ipython",
    "version": 3
   },
   "file_extension": ".py",
   "mimetype": "text/x-python",
   "name": "python",
   "nbconvert_exporter": "python",
   "pygments_lexer": "ipython3",
   "version": "3.8.16"
  }
 },
 "nbformat": 4,
 "nbformat_minor": 5
}
