{
 "cells": [
  {
   "cell_type": "code",
   "execution_count": 1,
   "id": "6f670e52-e0aa-4fe9-8e5f-efec5c754fb0",
   "metadata": {},
   "outputs": [
    {
     "name": "stderr",
     "output_type": "stream",
     "text": [
      "\n",
      "Attaching package: ‘sparklyr’\n",
      "\n",
      "\n",
      "The following object is masked from ‘package:stats’:\n",
      "\n",
      "    filter\n",
      "\n",
      "\n"
     ]
    }
   ],
   "source": [
    "library(ggplot2)\n",
    "library(sparklyr)\n",
    "library(magrittr)"
   ]
  },
  {
   "cell_type": "code",
   "execution_count": 3,
   "id": "d1c9cc7d-44b2-4cb3-bdf4-bce91d9dcf82",
   "metadata": {},
   "outputs": [],
   "source": [
    "sc <- spark_connect(master = \"local\")"
   ]
  },
  {
   "cell_type": "code",
   "execution_count": 4,
   "id": "fa64f3ec-53ae-4a50-a5f7-d1dbac46012a",
   "metadata": {},
   "outputs": [],
   "source": [
    "#copy data from an R data.frame or tibble to Spark.\n",
    "diamonds_in_spark <- copy_to(sc, diamonds)"
   ]
  },
  {
   "cell_type": "code",
   "execution_count": 6,
   "id": "0680ca24-7126-40d9-855d-b5b2a074247c",
   "metadata": {},
   "outputs": [
    {
     "data": {
      "text/plain": [
       "\u001b[90m# Source: spark<diamonds> [?? x 10]\u001b[39m\n",
       "   carat cut       color clarity depth table price     x     y     z\n",
       "   \u001b[3m\u001b[90m<dbl>\u001b[39m\u001b[23m \u001b[3m\u001b[90m<chr>\u001b[39m\u001b[23m     \u001b[3m\u001b[90m<chr>\u001b[39m\u001b[23m \u001b[3m\u001b[90m<chr>\u001b[39m\u001b[23m   \u001b[3m\u001b[90m<dbl>\u001b[39m\u001b[23m \u001b[3m\u001b[90m<dbl>\u001b[39m\u001b[23m \u001b[3m\u001b[90m<int>\u001b[39m\u001b[23m \u001b[3m\u001b[90m<dbl>\u001b[39m\u001b[23m \u001b[3m\u001b[90m<dbl>\u001b[39m\u001b[23m \u001b[3m\u001b[90m<dbl>\u001b[39m\u001b[23m\n",
       "\u001b[90m 1\u001b[39m  0.23 Ideal     E     SI2      61.5    55   326  3.95  3.98  2.43\n",
       "\u001b[90m 2\u001b[39m  0.21 Premium   E     SI1      59.8    61   326  3.89  3.84  2.31\n",
       "\u001b[90m 3\u001b[39m  0.23 Good      E     VS1      56.9    65   327  4.05  4.07  2.31\n",
       "\u001b[90m 4\u001b[39m  0.29 Premium   I     VS2      62.4    58   334  4.2   4.23  2.63\n",
       "\u001b[90m 5\u001b[39m  0.31 Good      J     SI2      63.3    58   335  4.34  4.35  2.75\n",
       "\u001b[90m 6\u001b[39m  0.24 Very Good J     VVS2     62.8    57   336  3.94  3.96  2.48\n",
       "\u001b[90m 7\u001b[39m  0.24 Very Good I     VVS1     62.3    57   336  3.95  3.98  2.47\n",
       "\u001b[90m 8\u001b[39m  0.26 Very Good H     SI1      61.9    55   337  4.07  4.11  2.53\n",
       "\u001b[90m 9\u001b[39m  0.22 Fair      E     VS2      65.1    61   337  3.87  3.78  2.49\n",
       "\u001b[90m10\u001b[39m  0.23 Very Good H     VS1      59.4    61   338  4     4.05  2.39\n",
       "\u001b[90m# … with more rows\u001b[39m"
      ]
     },
     "metadata": {},
     "output_type": "display_data"
    }
   ],
   "source": [
    "diamonds_in_spark"
   ]
  },
  {
   "cell_type": "code",
   "execution_count": null,
   "id": "6de1e0b3-fead-4e25-a53e-9343d9f3d141",
   "metadata": {},
   "outputs": [],
   "source": [
    "# bring back to R\n",
    "diamonds_back_in_R <- collect(diamonds_in_spark)"
   ]
  },
  {
   "cell_type": "code",
   "execution_count": null,
   "id": "0b0e52b8-eb12-4e5e-ae2c-e6ced5021c9d",
   "metadata": {},
   "outputs": [],
   "source": [
    "#read and write\n",
    "spark_write_csv(diamonds_in_spark, \"sparkdiamonds.csv\", overwrite=TRUE)\n",
    "diamonds_in_spark <- spark_read_csv(sc, \"sparkdiamonds.csv\")"
   ]
  },
  {
   "cell_type": "markdown",
   "id": "9d6ec344-64b4-4a89-81f0-9cc97531fe6e",
   "metadata": {},
   "source": [
    "### data wrangling"
   ]
  },
  {
   "cell_type": "code",
   "execution_count": 7,
   "id": "1fc97d12-6180-4b87-b47c-75c7d1fede61",
   "metadata": {},
   "outputs": [],
   "source": [
    "#We can now use the standard dplyr toolchain and, for example, define"
   ]
  },
  {
   "cell_type": "code",
   "execution_count": 8,
   "id": "6a44d283-1c60-4c74-8280-ce1e9c276704",
   "metadata": {},
   "outputs": [
    {
     "data": {
      "text/plain": [
       "\u001b[90m# Source: spark<?> [?? x 4]\u001b[39m\n",
       "    mass cut       color price\n",
       "   \u001b[3m\u001b[90m<dbl>\u001b[39m\u001b[23m \u001b[3m\u001b[90m<chr>\u001b[39m\u001b[23m     \u001b[3m\u001b[90m<chr>\u001b[39m\u001b[23m \u001b[3m\u001b[90m<int>\u001b[39m\u001b[23m\n",
       "\u001b[90m 1\u001b[39m 0.234 Very Good J      \u001b[4m2\u001b[24m774\n",
       "\u001b[90m 2\u001b[39m 0.202 Premium   F      \u001b[4m2\u001b[24m781\n",
       "\u001b[90m 3\u001b[39m 0.202 Fair      E      \u001b[4m2\u001b[24m788\n",
       "\u001b[90m 4\u001b[39m 0.202 Premium   H      \u001b[4m2\u001b[24m788\n",
       "\u001b[90m 5\u001b[39m 0.21  Very Good J      \u001b[4m2\u001b[24m789\n",
       "\u001b[90m 6\u001b[39m 0.21  Fair      J      \u001b[4m2\u001b[24m789\n",
       "\u001b[90m 7\u001b[39m 0.202 Fair      E      \u001b[4m2\u001b[24m797\n",
       "\u001b[90m 8\u001b[39m 0.208 Premium   G      \u001b[4m2\u001b[24m801\n",
       "\u001b[90m 9\u001b[39m 0.24  Fair      F      \u001b[4m2\u001b[24m809\n",
       "\u001b[90m10\u001b[39m 0.204 Premium   G      \u001b[4m2\u001b[24m815\n",
       "\u001b[90m# … with more rows\u001b[39m"
      ]
     },
     "metadata": {},
     "output_type": "display_data"
    }
   ],
   "source": [
    "large_diamonds_in_spark <- diamonds_in_spark %>%\n",
    "                                filter(carat>1.0) %>%\n",
    "                                mutate(mass = carat*0.2) %>%\n",
    "                                select(mass, cut, color, price)\n",
    "large_diamonds_in_spark"
   ]
  },
  {
   "cell_type": "code",
   "execution_count": 19,
   "id": "622e133f-d103-4626-bc79-dbc740f1dccb",
   "metadata": {},
   "outputs": [
    {
     "data": {
      "text/plain": [
       "\u001b[90m# Source: spark<cut_groups> [?? x 2]\u001b[39m\n",
       "  cut       coarse_cut \n",
       "  \u001b[3m\u001b[90m<chr>\u001b[39m\u001b[23m     \u001b[3m\u001b[90m<chr>\u001b[39m\u001b[23m      \n",
       "\u001b[90m1\u001b[39m Fair      Fair       \n",
       "\u001b[90m2\u001b[39m Good      (Very) Good\n",
       "\u001b[90m3\u001b[39m Very Good (Very) Good\n",
       "\u001b[90m4\u001b[39m Premium   Premium+   \n",
       "\u001b[90m5\u001b[39m Ideal     Premium+   "
      ]
     },
     "metadata": {},
     "output_type": "display_data"
    }
   ],
   "source": [
    "cut_groups <- copy_to(sc, data.frame(cut=c(\"Fair\", \"Good\", \"Very Good\", \"Premium\", \"Ideal\"),\n",
    "coarse_cut=c(\"Fair\", \"(Very) Good\", \"(Very) Good\",\n",
    "\"Premium+\", \"Premium+\")),\n",
    "\"cut_groups\", overwrite = TRUE)\n",
    "cut_groups"
   ]
  },
  {
   "cell_type": "code",
   "execution_count": 23,
   "id": "62f26fba-9fce-4d61-9cab-6365b7486626",
   "metadata": {},
   "outputs": [
    {
     "ename": "ERROR",
     "evalue": "Error in group_by(., coarse_cut): could not find function \"group_by\"\n",
     "output_type": "error",
     "traceback": [
      "Error in group_by(., coarse_cut): could not find function \"group_by\"\nTraceback:\n",
      "1. large_diamonds_in_spark %>% inner_join(cut_groups, by = \"cut\") %>% \n .     group_by(coarse_cut)"
     ]
    }
   ],
   "source": [
    "summary_in_spark <- large_diamonds_in_spark %>%\n",
    "                inner_join(cut_groups, by=\"cut\") %>%\n",
    "                group_by(coarse_cut)\n",
    "                # summarise(min(price/mass, na.rm = TRUE))\n",
    "\n",
    "summary_in_spark"
   ]
  },
  {
   "cell_type": "code",
   "execution_count": null,
   "id": "ded16f21-7a30-448c-97bd-5474f3d32feb",
   "metadata": {},
   "outputs": [],
   "source": []
  },
  {
   "cell_type": "code",
   "execution_count": null,
   "id": "0acf56b6-131f-48c2-8e54-7e1c02dd1de3",
   "metadata": {},
   "outputs": [],
   "source": []
  }
 ],
 "metadata": {
  "kernelspec": {
   "display_name": "R",
   "language": "R",
   "name": "ir"
  },
  "language_info": {
   "codemirror_mode": "r",
   "file_extension": ".r",
   "mimetype": "text/x-r-source",
   "name": "R",
   "pygments_lexer": "r",
   "version": "4.1.3"
  }
 },
 "nbformat": 4,
 "nbformat_minor": 5
}
