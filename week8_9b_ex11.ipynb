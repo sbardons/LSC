{
 "cells": [
  {
   "cell_type": "markdown",
   "id": "15123206-75b0-4103-96df-b9b7ed0eaf9c",
   "metadata": {},
   "source": [
    "## Generalised linear models"
   ]
  },
  {
   "cell_type": "code",
   "execution_count": null,
   "id": "b66faea7-3558-4c2e-b078-1b1e2dc21b9d",
   "metadata": {},
   "outputs": [],
   "source": []
  },
  {
   "cell_type": "code",
   "execution_count": null,
   "id": "cba50df9-c943-4e1f-93e7-696209e0fd23",
   "metadata": {},
   "outputs": [],
   "source": []
  },
  {
   "cell_type": "code",
   "execution_count": null,
   "id": "b5de58d8-d3c3-44f9-8b32-3a04748e0e73",
   "metadata": {},
   "outputs": [],
   "source": []
  },
  {
   "cell_type": "code",
   "execution_count": null,
   "id": "a4d49902-7032-48ca-840b-d0e963c0eaaa",
   "metadata": {},
   "outputs": [],
   "source": []
  },
  {
   "cell_type": "code",
   "execution_count": null,
   "id": "0b08b640-6e05-40e0-99a5-bfe43e64cd08",
   "metadata": {},
   "outputs": [],
   "source": []
  }
 ],
 "metadata": {
  "kernelspec": {
   "display_name": "Python 3 (ipykernel)",
   "language": "python",
   "name": "python3"
  },
  "language_info": {
   "codemirror_mode": {
    "name": "ipython",
    "version": 3
   },
   "file_extension": ".py",
   "mimetype": "text/x-python",
   "name": "python",
   "nbconvert_exporter": "python",
   "pygments_lexer": "ipython3",
   "version": "3.8.16"
  }
 },
 "nbformat": 4,
 "nbformat_minor": 5
}
