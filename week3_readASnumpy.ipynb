{
 "cells": [
  {
   "cell_type": "markdown",
   "id": "1b08990c-d9ef-4773-bc98-bf3808d0680b",
   "metadata": {},
   "source": [
    "## Examples 1 and 2 of week 3 "
   ]
  },
  {
   "cell_type": "markdown",
   "id": "0063010b-d590-4993-9892-a3a0ebf78fc3",
   "metadata": {},
   "source": [
    "The simplest way to look at the value of a tensor is to return that tensor to a numpy array. Once we have the tensor\n",
    "as a numpy array we can explore its values and properties"
   ]
  },
  {
   "cell_type": "code",
   "execution_count": 1,
   "id": "d1a6af8c-5bec-4183-8260-62123d3756e2",
   "metadata": {
    "tags": []
   },
   "outputs": [],
   "source": [
    "# load the libraries we'll need\n",
    "import matplotlib.pyplot as plt\n",
    "import numpy as np\n",
    "import tensorflow as tf\n",
    "import sys\n",
    "np.set_printoptions(suppress=True)"
   ]
  },
  {
   "cell_type": "markdown",
   "id": "47eea364-4091-4a62-93be-b2d28e2b7854",
   "metadata": {},
   "source": [
    "### Working with eager mode"
   ]
  },
  {
   "cell_type": "code",
   "execution_count": 3,
   "id": "b02b92c2-29c9-4bda-98d5-f1a722faafe5",
   "metadata": {
    "tags": []
   },
   "outputs": [],
   "source": [
    "# create random input data\n",
    "x_input = np.random.uniform(size=(1,10)).astype(np.float32)\n",
    "W = tf.Variable(tf.random.uniform([10,2]),name='W')\n",
    "b = tf.Variable(tf.ones([2]),name='b')"
   ]
  },
  {
   "cell_type": "code",
   "execution_count": 4,
   "id": "6e239fea-1e8e-40ee-97a3-c202909c880b",
   "metadata": {
    "tags": []
   },
   "outputs": [],
   "source": [
    "# perform a simple operation\n",
    "def multiply_add(x):\n",
    "    return tf.matmul(x,W) + b"
   ]
  },
  {
   "cell_type": "code",
   "execution_count": 5,
   "id": "28baa7c3-2bcb-42db-8258-2c343df29852",
   "metadata": {
    "tags": []
   },
   "outputs": [],
   "source": [
    "# make the calculation\n",
    "y = multiply_add(x_input)"
   ]
  },
  {
   "cell_type": "code",
   "execution_count": 6,
   "id": "a8675324-60a9-4e5e-9cc3-c08399d3bec4",
   "metadata": {
    "tags": []
   },
   "outputs": [
    {
     "name": "stdout",
     "output_type": "stream",
     "text": [
      "[[0.7992789  0.09258717 0.35380244 0.224984   0.809047   0.7323675\n",
      "  0.0970499  0.85807866 0.07256071 0.9258714 ]]\n"
     ]
    }
   ],
   "source": [
    "print(x_input)"
   ]
  },
  {
   "cell_type": "code",
   "execution_count": 7,
   "id": "3b4adbe1-9a52-40bb-bb57-e3351fe8495d",
   "metadata": {
    "tags": []
   },
   "outputs": [
    {
     "name": "stdout",
     "output_type": "stream",
     "text": [
      "[1. 1.]\n"
     ]
    }
   ],
   "source": [
    "# print the variables and the result of the calculation\n",
    "print(b.numpy())"
   ]
  },
  {
   "cell_type": "code",
   "execution_count": 8,
   "id": "f1d40d78-8adf-4b03-9898-0548394c1d0c",
   "metadata": {
    "tags": []
   },
   "outputs": [
    {
     "name": "stdout",
     "output_type": "stream",
     "text": [
      "[[0.37257445 0.94718444]\n",
      " [0.20778668 0.10490167]\n",
      " [0.19372952 0.18732738]\n",
      " [0.38599277 0.6380019 ]\n",
      " [0.22425842 0.79848886]\n",
      " [0.73025846 0.19685745]\n",
      " [0.5713742  0.96111155]\n",
      " [0.9068489  0.53334165]\n",
      " [0.02731204 0.27493   ]\n",
      " [0.69286    0.8929341 ]]\n"
     ]
    }
   ],
   "source": [
    "print(W.numpy())"
   ]
  },
  {
   "cell_type": "code",
   "execution_count": 9,
   "id": "9ec6fed1-905b-4d37-9376-4c4223da154b",
   "metadata": {
    "tags": []
   },
   "outputs": [
    {
     "name": "stdout",
     "output_type": "stream",
     "text": [
      "[[3.6657474 4.1643972]]\n"
     ]
    }
   ],
   "source": [
    "print(y.numpy())"
   ]
  },
  {
   "cell_type": "markdown",
   "id": "4446e1b4-94bd-46d1-babc-87f0f4508fa8",
   "metadata": {},
   "source": [
    "### Using graph node"
   ]
  },
  {
   "cell_type": "markdown",
   "id": "13342232-439f-4f68-8dba-e3daf92b696a",
   "metadata": {},
   "source": [
    "#### First, we’ll use eager mode again to make a slightly different calculation"
   ]
  },
  {
   "cell_type": "code",
   "execution_count": 10,
   "id": "8f915780-e8af-43c6-ac1e-67ae4745c7bf",
   "metadata": {
    "tags": []
   },
   "outputs": [],
   "source": [
    "# create a new variable\n",
    "b_init = tf.Variable(tf.ones([2]),name='b_init')\n",
    "\n",
    "# perform the operation in a loop\n",
    "def multiply_add(x,b):\n",
    "    for i in range(5):\n",
    "        output = tf.matmul(x,W) + b\n",
    "        # increase the value of b\n",
    "        b = tf.add(output, b)\n",
    "        # here we print the offset b which will change values within the loop\n",
    "        print(b)\n",
    "    return output"
   ]
  },
  {
   "cell_type": "code",
   "execution_count": 11,
   "id": "7fc682fa-e639-4ce4-a3b3-776ffa2b5777",
   "metadata": {
    "tags": []
   },
   "outputs": [
    {
     "name": "stdout",
     "output_type": "stream",
     "text": [
      "tf.Tensor([[4.6657476 5.1643972]], shape=(1, 2), dtype=float32)\n",
      "tf.Tensor([[11.997243 13.493192]], shape=(1, 2), dtype=float32)\n",
      "tf.Tensor([[26.660233 30.15078 ]], shape=(1, 2), dtype=float32)\n",
      "tf.Tensor([[55.986214 63.465958]], shape=(1, 2), dtype=float32)\n",
      "tf.Tensor([[114.638176 130.09631 ]], shape=(1, 2), dtype=float32)\n"
     ]
    }
   ],
   "source": [
    "# run the function that will execute the for-loop\n",
    "y = multiply_add(x_input,b_init)"
   ]
  },
  {
   "cell_type": "markdown",
   "id": "75557c30-4b7a-40ce-9246-0375d28a42cc",
   "metadata": {},
   "source": [
    "### Next, we’ll convert to graph mode by introducing a function decorator"
   ]
  },
  {
   "cell_type": "code",
   "execution_count": 13,
   "id": "35f5290b-e0c2-4535-9954-1fb118d16969",
   "metadata": {
    "tags": []
   },
   "outputs": [],
   "source": [
    "@tf.function\n",
    "def multiply_add(x,b):\n",
    "    for i in range(5):\n",
    "        output = tf.matmul(x,W) + b\n",
    "        # increase the value of b\n",
    "        b = tf.add(output, b)\n",
    "        # here we print the offset b which will change values within the loop\n",
    "        print(b)\n",
    "    return output"
   ]
  },
  {
   "cell_type": "code",
   "execution_count": 14,
   "id": "6bd3b02b-8d0f-4418-a954-dafc879af5c1",
   "metadata": {
    "tags": []
   },
   "outputs": [
    {
     "name": "stdout",
     "output_type": "stream",
     "text": [
      "Tensor(\"Add_1:0\", shape=(1, 2), dtype=float32)\n",
      "Tensor(\"Add_3:0\", shape=(1, 2), dtype=float32)\n",
      "Tensor(\"Add_5:0\", shape=(1, 2), dtype=float32)\n",
      "Tensor(\"Add_7:0\", shape=(1, 2), dtype=float32)\n",
      "Tensor(\"Add_9:0\", shape=(1, 2), dtype=float32)\n"
     ]
    }
   ],
   "source": [
    "# run the function that will execute the for-loop\n",
    "y = multiply_add(x_input,b_init)"
   ]
  },
  {
   "cell_type": "code",
   "execution_count": null,
   "id": "beffac55-35b3-441e-95a3-257f4661fdac",
   "metadata": {},
   "outputs": [],
   "source": [
    "# The value of the tensor is not displayed !\n",
    "# This is because in graph mode the sequence of operations is constructed so that they can be re-used with\n",
    "# different inputs"
   ]
  },
  {
   "cell_type": "code",
   "execution_count": 15,
   "id": "66db6d14-66fd-41e9-add6-e116ef65deb4",
   "metadata": {
    "tags": []
   },
   "outputs": [],
   "source": [
    "# Plus if we call the function again, we can see that nothing is printed.\n",
    "# The print statement is executed only when the graph is compiled, and this happens only once\n",
    "# when the function is called first\n",
    "y = multiply_add(x_input,b_init)"
   ]
  },
  {
   "cell_type": "code",
   "execution_count": null,
   "id": "1ad0a253-6df7-47dd-b676-ffe83213b72b",
   "metadata": {},
   "outputs": [],
   "source": []
  }
 ],
 "metadata": {
  "kernelspec": {
   "display_name": "Python 3 (ipykernel)",
   "language": "python",
   "name": "python3"
  },
  "language_info": {
   "codemirror_mode": {
    "name": "ipython",
    "version": 3
   },
   "file_extension": ".py",
   "mimetype": "text/x-python",
   "name": "python",
   "nbconvert_exporter": "python",
   "pygments_lexer": "ipython3",
   "version": "3.8.16"
  }
 },
 "nbformat": 4,
 "nbformat_minor": 5
}
