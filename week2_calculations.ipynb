{
 "cells": [
  {
   "cell_type": "code",
   "execution_count": 3,
   "id": "0e76820c-13d9-4ce2-b118-e1868f0e60a8",
   "metadata": {
    "tags": []
   },
   "outputs": [],
   "source": [
    "import tensorflow as tf\n",
    "import numpy as np"
   ]
  },
  {
   "cell_type": "code",
   "execution_count": 4,
   "id": "f65ee590-1d53-4ceb-a99a-dbc26e575633",
   "metadata": {
    "tags": []
   },
   "outputs": [],
   "source": [
    "#First we’ll create a tensor to hold the text,\n",
    "hello = tf.constant('Hello world!')"
   ]
  },
  {
   "cell_type": "code",
   "execution_count": 5,
   "id": "dc93b426-1238-4dc4-938f-759f5e016cce",
   "metadata": {
    "tags": []
   },
   "outputs": [
    {
     "name": "stdout",
     "output_type": "stream",
     "text": [
      "tf.Tensor(b'Hello world!', shape=(), dtype=string)\n"
     ]
    }
   ],
   "source": [
    "#Lets see what happens when we print this tensor\n",
    "print(hello)\n",
    "## tf.Tensor(b'Hello world!', shape=(), dtype=string)\n",
    "# What we see here is both the text that is contained in the constant hello and some of its properties, its\n",
    "# shape and data type."
   ]
  },
  {
   "cell_type": "markdown",
   "id": "bbc72b23-d57e-44eb-9909-d382ebeef8f9",
   "metadata": {
    "tags": []
   },
   "source": [
    "Next we’ll do some calculations. First, we’ll create two tensors that have a constant value then add them\n",
    "together"
   ]
  },
  {
   "cell_type": "code",
   "execution_count": 9,
   "id": "89b778b0-95f3-478d-85a4-762d8eb89397",
   "metadata": {},
   "outputs": [
    {
     "name": "stdout",
     "output_type": "stream",
     "text": [
      "tf.Tensor(20.0, shape=(), dtype=float32)\n"
     ]
    }
   ],
   "source": [
    "# create a constant with value 5\n",
    "x = tf.constant(5.0)\n",
    "# create a constant with value 15\n",
    "y = tf.constant(15.0)\n",
    "# add the two constants together and print\n",
    "z = x + y\n",
    "print(z)\n",
    "\n",
    "#alternative \n",
    "#z = tf.add(x,y)"
   ]
  },
  {
   "cell_type": "code",
   "execution_count": 7,
   "id": "c122f677-19b6-43be-8294-9fa82b1ef629",
   "metadata": {},
   "outputs": [
    {
     "name": "stdout",
     "output_type": "stream",
     "text": [
      "tf.Tensor(\n",
      "[[7 7 7]\n",
      " [7 7 7]], shape=(2, 3), dtype=int32)\n"
     ]
    }
   ],
   "source": [
    "#We can repeat this exercise with rank-2 tensors now.\n",
    "# create constant tensors\n",
    "x = tf.constant([[1, 2, 3],[4, 5, 6]])\n",
    "y = tf.constant([[6, 5, 4],[3, 2, 1]])\n",
    "# add them together and print\n",
    "z = tf.add(x,y)\n",
    "print(z)"
   ]
  },
  {
   "cell_type": "markdown",
   "id": "862b3ff8-a911-4aed-8c8a-be251a5badbe",
   "metadata": {},
   "source": [
    "We now introduce\n",
    "Tensorflow variables that contain values that can change during the course of program execution."
   ]
  },
  {
   "cell_type": "code",
   "execution_count": 10,
   "id": "9dda118b-36a6-416c-8fd9-617eff239075",
   "metadata": {},
   "outputs": [
    {
     "name": "stdout",
     "output_type": "stream",
     "text": [
      "tf.Tensor(10, shape=(), dtype=int32)\n"
     ]
    }
   ],
   "source": [
    "x = tf.Variable(2, tf.int16)\n",
    "y = tf.Variable(3, tf.int16)\n",
    "z = tf.Variable(2, tf.int16)\n",
    "# perform operations on the variables\n",
    "xy = tf.add(x, y)\n",
    "xyz = tf.multiply(xy, z)\n",
    "print(xyz)"
   ]
  },
  {
   "cell_type": "code",
   "execution_count": 11,
   "id": "5d7b4e11-1fc4-49e5-9c2d-852209963893",
   "metadata": {},
   "outputs": [
    {
     "name": "stdout",
     "output_type": "stream",
     "text": [
      "<tf.Variable 'Variable:0' shape=() dtype=int32, numpy=2>\n"
     ]
    }
   ],
   "source": [
    "# print the original variable\n",
    "print(x)"
   ]
  },
  {
   "cell_type": "code",
   "execution_count": 12,
   "id": "d764d210-4ee4-478b-be1d-c552110cc6db",
   "metadata": {
    "tags": []
   },
   "outputs": [
    {
     "name": "stdout",
     "output_type": "stream",
     "text": [
      "<tf.Variable 'Variable:0' shape=() dtype=int32, numpy=3>\n"
     ]
    }
   ],
   "source": [
    "# update its value\n",
    "x.assign(3, read_value=False)\n",
    "# print the new variable\n",
    "print(x)"
   ]
  },
  {
   "cell_type": "code",
   "execution_count": 13,
   "id": "7f4173fc-8ab7-4362-89b3-2fd0d26ebec7",
   "metadata": {
    "tags": []
   },
   "outputs": [
    {
     "name": "stdout",
     "output_type": "stream",
     "text": [
      "tf.Tensor(12, shape=(), dtype=int32)\n"
     ]
    }
   ],
   "source": [
    "# repeat the calculations\n",
    "xy = tf.add(x, y)\n",
    "xyz = tf.multiply(xy, z)\n",
    "print(xyz)"
   ]
  },
  {
   "cell_type": "markdown",
   "id": "cac08553-2eb9-42b5-8911-50c16d8c4894",
   "metadata": {},
   "source": [
    "We can replace the TensorFlow variable declaration in our earlier example with standard python variables.\n",
    "create variables"
   ]
  },
  {
   "cell_type": "code",
   "execution_count": 14,
   "id": "a5922ffd-e2c4-4c11-b1d5-cd653f66f60d",
   "metadata": {
    "tags": []
   },
   "outputs": [
    {
     "name": "stdout",
     "output_type": "stream",
     "text": [
      "tf.Tensor(10, shape=(), dtype=int32)\n"
     ]
    }
   ],
   "source": [
    "x = 2\n",
    "y = 3\n",
    "z = 2\n",
    "#perform operations on the variables\n",
    "xy = tf.add(x, y)\n",
    "xyz = tf.multiply(xy, z)\n",
    "# print the output\n",
    "print(xyz)\n",
    "\n",
    "#Here the operation tf.add has taken in normal variables, converted them to tensors and then performed\n",
    "#the operations"
   ]
  },
  {
   "cell_type": "code",
   "execution_count": 15,
   "id": "dcb924b5-68ad-4e6b-9636-b92503a69b5d",
   "metadata": {
    "tags": []
   },
   "outputs": [
    {
     "name": "stdout",
     "output_type": "stream",
     "text": [
      "tf.Tensor(10, shape=(), dtype=int32)\n"
     ]
    }
   ],
   "source": [
    "# create variables\n",
    "x = 2\n",
    "y = 3\n",
    "z = 2\n",
    "#perform operations on the variables\n",
    "xy = tf.add(x, y)\n",
    "xyz = tf.multiply(xy, z)\n",
    "# print the output\n",
    "print(xyz)\n",
    "\n",
    "#Here the operation tf.add has taken in normal variables, converted them to tensors and then performed\n",
    "#the operations"
   ]
  },
  {
   "cell_type": "code",
   "execution_count": 19,
   "id": "e0f2b2d0-80a7-4b46-97d7-5e6224040b67",
   "metadata": {
    "tags": []
   },
   "outputs": [],
   "source": [
    "# create some numpy arrays with all the same values\n",
    "x = np.full((3,3),2)\n",
    "y = np.full((3,3),3)\n",
    "z = np.full((3,3),2)\n",
    "#perform operations on the variables\n",
    "xy = tf.add(x, y)\n",
    "xyz = tf.multiply(xy, z)"
   ]
  },
  {
   "cell_type": "code",
   "execution_count": 20,
   "id": "0c1a0673-741b-44c4-8d97-3adaf03cd258",
   "metadata": {
    "tags": []
   },
   "outputs": [
    {
     "name": "stdout",
     "output_type": "stream",
     "text": [
      "tf.Tensor(\n",
      "[[5 5 5]\n",
      " [5 5 5]\n",
      " [5 5 5]], shape=(3, 3), dtype=int64)\n"
     ]
    }
   ],
   "source": [
    "print(xy)"
   ]
  },
  {
   "cell_type": "code",
   "execution_count": 22,
   "id": "88d55876-a3c8-4f17-8219-a85b9e41388f",
   "metadata": {
    "tags": []
   },
   "outputs": [
    {
     "name": "stdout",
     "output_type": "stream",
     "text": [
      "tf.Tensor(\n",
      "[[10 10 10]\n",
      " [10 10 10]\n",
      " [10 10 10]], shape=(3, 3), dtype=int64)\n"
     ]
    }
   ],
   "source": [
    "print(xyz)"
   ]
  },
  {
   "cell_type": "code",
   "execution_count": 25,
   "id": "04421e16-2941-4885-88cd-2c8681bfd778",
   "metadata": {
    "tags": []
   },
   "outputs": [
    {
     "name": "stdout",
     "output_type": "stream",
     "text": [
      "[[10 10 10]\n",
      " [10 10 10]\n",
      " [10 10 10]]\n"
     ]
    }
   ],
   "source": [
    "#and if we want to specifically access the result as an array in numpy, we can execute the following,\n",
    "# store the numpy array in a new variable\n",
    "xyz_np = xyz.numpy()\n",
    "# print the array\n",
    "print(xyz_np)"
   ]
  },
  {
   "cell_type": "code",
   "execution_count": 27,
   "id": "3b786a54-7c81-4e9d-8570-80e69e2edd6a",
   "metadata": {
    "tags": []
   },
   "outputs": [
    {
     "name": "stderr",
     "output_type": "stream",
     "text": [
      "2023-05-07 10:22:42.155851: W tensorflow/core/framework/op_kernel.cc:1733] INVALID_ARGUMENT: required broadcastable shapes\n"
     ]
    },
    {
     "ename": "InvalidArgumentError",
     "evalue": "required broadcastable shapes [Op:AddV2]",
     "output_type": "error",
     "traceback": [
      "\u001b[0;31m---------------------------------------------------------------------------\u001b[0m",
      "\u001b[0;31mInvalidArgumentError\u001b[0m                      Traceback (most recent call last)",
      "Cell \u001b[0;32mIn[27], line 5\u001b[0m\n\u001b[1;32m      3\u001b[0m y \u001b[38;5;241m=\u001b[39m np\u001b[38;5;241m.\u001b[39mfull((\u001b[38;5;241m3\u001b[39m,\u001b[38;5;241m3\u001b[39m),\u001b[38;5;241m3\u001b[39m)\n\u001b[1;32m      4\u001b[0m z \u001b[38;5;241m=\u001b[39m np\u001b[38;5;241m.\u001b[39mfull((\u001b[38;5;241m3\u001b[39m,\u001b[38;5;241m3\u001b[39m),\u001b[38;5;241m2\u001b[39m)\n\u001b[0;32m----> 5\u001b[0m xy \u001b[38;5;241m=\u001b[39m \u001b[43mtf\u001b[49m\u001b[38;5;241;43m.\u001b[39;49m\u001b[43madd\u001b[49m\u001b[43m(\u001b[49m\u001b[43mx\u001b[49m\u001b[43m,\u001b[49m\u001b[43m \u001b[49m\u001b[43my\u001b[49m\u001b[43m)\u001b[49m\n\u001b[1;32m      6\u001b[0m xyz \u001b[38;5;241m=\u001b[39m tf\u001b[38;5;241m.\u001b[39mmultiply(xy, z)\n",
      "File \u001b[0;32m/opt/conda/lib/python3.8/site-packages/tensorflow/python/util/traceback_utils.py:153\u001b[0m, in \u001b[0;36mfilter_traceback.<locals>.error_handler\u001b[0;34m(*args, **kwargs)\u001b[0m\n\u001b[1;32m    151\u001b[0m \u001b[38;5;28;01mexcept\u001b[39;00m \u001b[38;5;167;01mException\u001b[39;00m \u001b[38;5;28;01mas\u001b[39;00m e:\n\u001b[1;32m    152\u001b[0m   filtered_tb \u001b[38;5;241m=\u001b[39m _process_traceback_frames(e\u001b[38;5;241m.\u001b[39m__traceback__)\n\u001b[0;32m--> 153\u001b[0m   \u001b[38;5;28;01mraise\u001b[39;00m e\u001b[38;5;241m.\u001b[39mwith_traceback(filtered_tb) \u001b[38;5;28;01mfrom\u001b[39;00m \u001b[38;5;28;01mNone\u001b[39;00m\n\u001b[1;32m    154\u001b[0m \u001b[38;5;28;01mfinally\u001b[39;00m:\n\u001b[1;32m    155\u001b[0m   \u001b[38;5;28;01mdel\u001b[39;00m filtered_tb\n",
      "File \u001b[0;32m/opt/conda/lib/python3.8/site-packages/tensorflow/python/framework/ops.py:7186\u001b[0m, in \u001b[0;36mraise_from_not_ok_status\u001b[0;34m(e, name)\u001b[0m\n\u001b[1;32m   7184\u001b[0m \u001b[38;5;28;01mdef\u001b[39;00m \u001b[38;5;21mraise_from_not_ok_status\u001b[39m(e, name):\n\u001b[1;32m   7185\u001b[0m   e\u001b[38;5;241m.\u001b[39mmessage \u001b[38;5;241m+\u001b[39m\u001b[38;5;241m=\u001b[39m (\u001b[38;5;124m\"\u001b[39m\u001b[38;5;124m name: \u001b[39m\u001b[38;5;124m\"\u001b[39m \u001b[38;5;241m+\u001b[39m name \u001b[38;5;28;01mif\u001b[39;00m name \u001b[38;5;129;01mis\u001b[39;00m \u001b[38;5;129;01mnot\u001b[39;00m \u001b[38;5;28;01mNone\u001b[39;00m \u001b[38;5;28;01melse\u001b[39;00m \u001b[38;5;124m\"\u001b[39m\u001b[38;5;124m\"\u001b[39m)\n\u001b[0;32m-> 7186\u001b[0m   \u001b[38;5;28;01mraise\u001b[39;00m core\u001b[38;5;241m.\u001b[39m_status_to_exception(e) \u001b[38;5;28;01mfrom\u001b[39;00m \u001b[38;5;28;01mNone\u001b[39;00m\n",
      "\u001b[0;31mInvalidArgumentError\u001b[0m: required broadcastable shapes [Op:AddV2]"
     ]
    }
   ],
   "source": [
    "#Example of error\n",
    "x = np.full((3,2),2)\n",
    "y = np.full((3,3),3)\n",
    "z = np.full((3,3),2)\n",
    "xy = tf.add(x, y)\n",
    "xyz = tf.multiply(xy, z)"
   ]
  },
  {
   "cell_type": "code",
   "execution_count": null,
   "id": "da7acce9-2740-4f82-92a1-8cbc033a5f6e",
   "metadata": {},
   "outputs": [],
   "source": []
  }
 ],
 "metadata": {
  "kernelspec": {
   "display_name": "Python 3 (ipykernel)",
   "language": "python",
   "name": "python3"
  },
  "language_info": {
   "codemirror_mode": {
    "name": "ipython",
    "version": 3
   },
   "file_extension": ".py",
   "mimetype": "text/x-python",
   "name": "python",
   "nbconvert_exporter": "python",
   "pygments_lexer": "ipython3",
   "version": "3.8.16"
  }
 },
 "nbformat": 4,
 "nbformat_minor": 5
}
